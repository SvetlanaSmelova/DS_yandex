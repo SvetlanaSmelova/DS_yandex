{
  "cells": [
    {
      "cell_type": "markdown",
      "metadata": {
        "id": "sn1oOmx5YPf4"
      },
      "source": [
        "# Защита персональных данных клиентов"
      ]
    },
    {
      "cell_type": "markdown",
      "metadata": {
        "toc": true,
        "id": "mSOFE8mYYPf3"
      },
      "source": [
        "<h1>Содержание<span class=\"tocSkip\"></span></h1>\n",
        "<div class=\"toc\"><ul class=\"toc-item\"><li><span><a href=\"#Загрузка-данных\" data-toc-modified-id=\"Загрузка-данных-1\"><span class=\"toc-item-num\">1&nbsp;&nbsp;</span>Загрузка данных</a></span></li><li><span><a href=\"#Умножение-матриц\" data-toc-modified-id=\"Умножение-матриц-2\"><span class=\"toc-item-num\">2&nbsp;&nbsp;</span>Умножение матриц</a></span></li><li><span><a href=\"#Алгоритм-преобразования\" data-toc-modified-id=\"Алгоритм-преобразования-3\"><span class=\"toc-item-num\">3&nbsp;&nbsp;</span>Алгоритм преобразования</a></span></li><li><span><a href=\"#Проверка-алгоритма\" data-toc-modified-id=\"Проверка-алгоритма-4\"><span class=\"toc-item-num\">4&nbsp;&nbsp;</span>Проверка алгоритма</a></span></li><li><span><a href=\"#Вывод\" data-toc-modified-id=\"Вывод-5\"><span class=\"toc-item-num\">5&nbsp;&nbsp;</span>Вывод</a></span></li><li><span><a href=\"#Чек-лист-проверки\" data-toc-modified-id=\"Чек-лист-проверки-6\"><span class=\"toc-item-num\">6&nbsp;&nbsp;</span>Чек-лист проверки</a></span></li></ul></div>"
      ]
    },
    {
      "cell_type": "markdown",
      "metadata": {
        "id": "V-NeeY3kYPf4"
      },
      "source": [
        "<h1>Описание проекта</h1>\n",
        "От страховой компании «Хоть потоп» поступило задание - защитить данные клиентов. Требуется разработать такой метод преобразования данных, чтобы по ним было сложно восстановить персональную информацию. \n",
        "\n",
        "Задача данного исследования - защитить данные клиентов страховой компании «Хоть потоп». Для этого необходимо:\n",
        "- проверить изменится ли качество предсказаний модели линейной регрессии при умножении признаков на обратимую матрицу;\n",
        "- подготовить алгоритм преобразования данных;\n",
        "- сравнить качество линейной регрессии из sklearn до и после преобразования(контрольная метрика - R2)."
      ]
    },
    {
      "cell_type": "markdown",
      "metadata": {
        "id": "-1S2t2r4YPf5"
      },
      "source": [
        "## Загрузка данных"
      ]
    },
    {
      "cell_type": "code",
      "execution_count": 1,
      "metadata": {
        "id": "DyYIll5ZYPf6"
      },
      "outputs": [],
      "source": [
        "import pandas as pd\n",
        "import numpy as np\n",
        "import matplotlib.pyplot as plt\n",
        "import seaborn as sb\n",
        "from sklearn.model_selection import train_test_split\n",
        "from sklearn.linear_model import LinearRegression\n",
        "from sklearn.metrics import r2_score"
      ]
    },
    {
      "cell_type": "code",
      "source": [
        "# загрузка данных\n",
        "!wget https://code.s3.yandex.net/datasets/insurance.csv"
      ],
      "metadata": {
        "colab": {
          "base_uri": "https://localhost:8080/"
        },
        "id": "MMiy1-fgZUuT",
        "outputId": "75a57599-62de-46be-c3a9-1301f1fb4f26"
      },
      "execution_count": 2,
      "outputs": [
        {
          "output_type": "stream",
          "name": "stdout",
          "text": [
            "--2023-03-31 21:07:57--  https://code.s3.yandex.net/datasets/insurance.csv\n",
            "Resolving code.s3.yandex.net (code.s3.yandex.net)... 93.158.134.158, 2a02:6b8::2:158\n",
            "Connecting to code.s3.yandex.net (code.s3.yandex.net)|93.158.134.158|:443... connected.\n",
            "HTTP request sent, awaiting response... 200 OK\n",
            "Length: 95668 (93K) [application/octet-stream]\n",
            "Saving to: ‘insurance.csv’\n",
            "\n",
            "insurance.csv       100%[===================>]  93.43K   318KB/s    in 0.3s    \n",
            "\n",
            "2023-03-31 21:07:58 (318 KB/s) - ‘insurance.csv’ saved [95668/95668]\n",
            "\n"
          ]
        }
      ]
    },
    {
      "cell_type": "code",
      "execution_count": 3,
      "metadata": {
        "id": "Kwz0RdsJYPf8"
      },
      "outputs": [],
      "source": [
        "try:\n",
        "    data = pd.read_csv('/datasets/insurance.csv')\n",
        "except:\n",
        "    data = pd.read_csv('/content/insurance.csv')"
      ]
    },
    {
      "cell_type": "code",
      "execution_count": 4,
      "metadata": {
        "colab": {
          "base_uri": "https://localhost:8080/",
          "height": 206
        },
        "id": "abm2fLahYPf8",
        "outputId": "6582c9ae-e7c9-4597-c816-2ffc2b285c27"
      },
      "outputs": [
        {
          "output_type": "execute_result",
          "data": {
            "text/plain": [
              "   Пол  Возраст  Зарплата  Члены семьи  Страховые выплаты\n",
              "0    1     41.0   49600.0            1                  0\n",
              "1    0     46.0   38000.0            1                  1\n",
              "2    0     29.0   21000.0            0                  0\n",
              "3    0     21.0   41700.0            2                  0\n",
              "4    1     28.0   26100.0            0                  0"
            ],
            "text/html": [
              "\n",
              "  <div id=\"df-27d96ef5-a12e-4946-95d3-87ddf600af8a\">\n",
              "    <div class=\"colab-df-container\">\n",
              "      <div>\n",
              "<style scoped>\n",
              "    .dataframe tbody tr th:only-of-type {\n",
              "        vertical-align: middle;\n",
              "    }\n",
              "\n",
              "    .dataframe tbody tr th {\n",
              "        vertical-align: top;\n",
              "    }\n",
              "\n",
              "    .dataframe thead th {\n",
              "        text-align: right;\n",
              "    }\n",
              "</style>\n",
              "<table border=\"1\" class=\"dataframe\">\n",
              "  <thead>\n",
              "    <tr style=\"text-align: right;\">\n",
              "      <th></th>\n",
              "      <th>Пол</th>\n",
              "      <th>Возраст</th>\n",
              "      <th>Зарплата</th>\n",
              "      <th>Члены семьи</th>\n",
              "      <th>Страховые выплаты</th>\n",
              "    </tr>\n",
              "  </thead>\n",
              "  <tbody>\n",
              "    <tr>\n",
              "      <th>0</th>\n",
              "      <td>1</td>\n",
              "      <td>41.0</td>\n",
              "      <td>49600.0</td>\n",
              "      <td>1</td>\n",
              "      <td>0</td>\n",
              "    </tr>\n",
              "    <tr>\n",
              "      <th>1</th>\n",
              "      <td>0</td>\n",
              "      <td>46.0</td>\n",
              "      <td>38000.0</td>\n",
              "      <td>1</td>\n",
              "      <td>1</td>\n",
              "    </tr>\n",
              "    <tr>\n",
              "      <th>2</th>\n",
              "      <td>0</td>\n",
              "      <td>29.0</td>\n",
              "      <td>21000.0</td>\n",
              "      <td>0</td>\n",
              "      <td>0</td>\n",
              "    </tr>\n",
              "    <tr>\n",
              "      <th>3</th>\n",
              "      <td>0</td>\n",
              "      <td>21.0</td>\n",
              "      <td>41700.0</td>\n",
              "      <td>2</td>\n",
              "      <td>0</td>\n",
              "    </tr>\n",
              "    <tr>\n",
              "      <th>4</th>\n",
              "      <td>1</td>\n",
              "      <td>28.0</td>\n",
              "      <td>26100.0</td>\n",
              "      <td>0</td>\n",
              "      <td>0</td>\n",
              "    </tr>\n",
              "  </tbody>\n",
              "</table>\n",
              "</div>\n",
              "      <button class=\"colab-df-convert\" onclick=\"convertToInteractive('df-27d96ef5-a12e-4946-95d3-87ddf600af8a')\"\n",
              "              title=\"Convert this dataframe to an interactive table.\"\n",
              "              style=\"display:none;\">\n",
              "        \n",
              "  <svg xmlns=\"http://www.w3.org/2000/svg\" height=\"24px\"viewBox=\"0 0 24 24\"\n",
              "       width=\"24px\">\n",
              "    <path d=\"M0 0h24v24H0V0z\" fill=\"none\"/>\n",
              "    <path d=\"M18.56 5.44l.94 2.06.94-2.06 2.06-.94-2.06-.94-.94-2.06-.94 2.06-2.06.94zm-11 1L8.5 8.5l.94-2.06 2.06-.94-2.06-.94L8.5 2.5l-.94 2.06-2.06.94zm10 10l.94 2.06.94-2.06 2.06-.94-2.06-.94-.94-2.06-.94 2.06-2.06.94z\"/><path d=\"M17.41 7.96l-1.37-1.37c-.4-.4-.92-.59-1.43-.59-.52 0-1.04.2-1.43.59L10.3 9.45l-7.72 7.72c-.78.78-.78 2.05 0 2.83L4 21.41c.39.39.9.59 1.41.59.51 0 1.02-.2 1.41-.59l7.78-7.78 2.81-2.81c.8-.78.8-2.07 0-2.86zM5.41 20L4 18.59l7.72-7.72 1.47 1.35L5.41 20z\"/>\n",
              "  </svg>\n",
              "      </button>\n",
              "      \n",
              "  <style>\n",
              "    .colab-df-container {\n",
              "      display:flex;\n",
              "      flex-wrap:wrap;\n",
              "      gap: 12px;\n",
              "    }\n",
              "\n",
              "    .colab-df-convert {\n",
              "      background-color: #E8F0FE;\n",
              "      border: none;\n",
              "      border-radius: 50%;\n",
              "      cursor: pointer;\n",
              "      display: none;\n",
              "      fill: #1967D2;\n",
              "      height: 32px;\n",
              "      padding: 0 0 0 0;\n",
              "      width: 32px;\n",
              "    }\n",
              "\n",
              "    .colab-df-convert:hover {\n",
              "      background-color: #E2EBFA;\n",
              "      box-shadow: 0px 1px 2px rgba(60, 64, 67, 0.3), 0px 1px 3px 1px rgba(60, 64, 67, 0.15);\n",
              "      fill: #174EA6;\n",
              "    }\n",
              "\n",
              "    [theme=dark] .colab-df-convert {\n",
              "      background-color: #3B4455;\n",
              "      fill: #D2E3FC;\n",
              "    }\n",
              "\n",
              "    [theme=dark] .colab-df-convert:hover {\n",
              "      background-color: #434B5C;\n",
              "      box-shadow: 0px 1px 3px 1px rgba(0, 0, 0, 0.15);\n",
              "      filter: drop-shadow(0px 1px 2px rgba(0, 0, 0, 0.3));\n",
              "      fill: #FFFFFF;\n",
              "    }\n",
              "  </style>\n",
              "\n",
              "      <script>\n",
              "        const buttonEl =\n",
              "          document.querySelector('#df-27d96ef5-a12e-4946-95d3-87ddf600af8a button.colab-df-convert');\n",
              "        buttonEl.style.display =\n",
              "          google.colab.kernel.accessAllowed ? 'block' : 'none';\n",
              "\n",
              "        async function convertToInteractive(key) {\n",
              "          const element = document.querySelector('#df-27d96ef5-a12e-4946-95d3-87ddf600af8a');\n",
              "          const dataTable =\n",
              "            await google.colab.kernel.invokeFunction('convertToInteractive',\n",
              "                                                     [key], {});\n",
              "          if (!dataTable) return;\n",
              "\n",
              "          const docLinkHtml = 'Like what you see? Visit the ' +\n",
              "            '<a target=\"_blank\" href=https://colab.research.google.com/notebooks/data_table.ipynb>data table notebook</a>'\n",
              "            + ' to learn more about interactive tables.';\n",
              "          element.innerHTML = '';\n",
              "          dataTable['output_type'] = 'display_data';\n",
              "          await google.colab.output.renderOutput(dataTable, element);\n",
              "          const docLink = document.createElement('div');\n",
              "          docLink.innerHTML = docLinkHtml;\n",
              "          element.appendChild(docLink);\n",
              "        }\n",
              "      </script>\n",
              "    </div>\n",
              "  </div>\n",
              "  "
            ]
          },
          "metadata": {},
          "execution_count": 4
        }
      ],
      "source": [
        "data.head()"
      ]
    },
    {
      "cell_type": "code",
      "execution_count": 5,
      "metadata": {
        "colab": {
          "base_uri": "https://localhost:8080/"
        },
        "id": "JCrl6aPYYPf9",
        "outputId": "6eb5d13a-fdfb-499b-d59e-49557b4303bc"
      },
      "outputs": [
        {
          "output_type": "stream",
          "name": "stdout",
          "text": [
            "<class 'pandas.core.frame.DataFrame'>\n",
            "RangeIndex: 5000 entries, 0 to 4999\n",
            "Data columns (total 5 columns):\n",
            " #   Column             Non-Null Count  Dtype  \n",
            "---  ------             --------------  -----  \n",
            " 0   Пол                5000 non-null   int64  \n",
            " 1   Возраст            5000 non-null   float64\n",
            " 2   Зарплата           5000 non-null   float64\n",
            " 3   Члены семьи        5000 non-null   int64  \n",
            " 4   Страховые выплаты  5000 non-null   int64  \n",
            "dtypes: float64(2), int64(3)\n",
            "memory usage: 195.4 KB\n"
          ]
        }
      ],
      "source": [
        "data.info()"
      ]
    },
    {
      "cell_type": "code",
      "execution_count": 6,
      "metadata": {
        "colab": {
          "base_uri": "https://localhost:8080/",
          "height": 1000
        },
        "id": "mmMy7zUQYPf9",
        "outputId": "797719f4-0b84-4bde-ae00-d0534ae70fd9"
      },
      "outputs": [
        {
          "output_type": "display_data",
          "data": {
            "text/plain": [
              "<Figure size 900x1200 with 6 Axes>"
            ],
            "image/png": "[encoded data removed]"
          },
          "metadata": {}
        }
      ],
      "source": [
        "data.hist(bins=10, figsize=(9, 12))\n",
        "plt.show()"
      ]
    },
    {
      "cell_type": "code",
      "execution_count": 7,
      "metadata": {
        "colab": {
          "base_uri": "https://localhost:8080/",
          "height": 1000
        },
        "id": "lgFxZBVvYPf-",
        "outputId": "ee189b2a-6283-40b3-ae2e-c7911b1f90c1"
      },
      "outputs": [
        {
          "output_type": "display_data",
          "data": {
            "text/plain": [
              "<Figure size 640x480 with 1 Axes>"
            ],
            "image/png": "[encoded data removed]"
          },
          "metadata": {}
        },
        {
          "output_type": "display_data",
          "data": {
            "text/plain": [
              "<Figure size 640x480 with 1 Axes>"
            ],
            "image/png": "[encoded data removed]"
          },
          "metadata": {}
        },
        {
          "output_type": "display_data",
          "data": {
            "text/plain": [
              "<Figure size 640x480 with 1 Axes>"
            ],
            "image/png": "[encoded data removed]"
          },
          "metadata": {}
        },
        {
          "output_type": "display_data",
          "data": {
            "text/plain": [
              "<Figure size 640x480 with 1 Axes>"
            ],
            "image/png": "[encoded data removed]"
          },
          "metadata": {}
        }
      ],
      "source": [
        "for param in ['Возраст', 'Зарплата', 'Члены семьи', 'Страховые выплаты']:\n",
        "    data.boxplot(column=param)\n",
        "    plt.show()"
      ]
    },
    {
      "cell_type": "code",
      "execution_count": 8,
      "metadata": {
        "colab": {
          "base_uri": "https://localhost:8080/",
          "height": 476
        },
        "id": "esQWX6gjYPf-",
        "outputId": "c0f01d6d-5cb1-459d-c277-9ca1fc0f63b7"
      },
      "outputs": [
        {
          "output_type": "stream",
          "name": "stdout",
          "text": [
            "Количество строк дубликатов - 153\n",
            "\n",
            "Все строки с повторяющимися данными:\n"
          ]
        },
        {
          "output_type": "display_data",
          "data": {
            "text/plain": [
              "      Пол  Возраст  Зарплата  Члены семьи  Страховые выплаты\n",
              "2955    1     32.0   21600.0            0                  0\n",
              "2988    1     32.0   21600.0            0                  0\n",
              "361     0     50.0   24700.0            1                  2\n",
              "2869    0     50.0   24700.0            1                  2\n",
              "333     0     32.0   25600.0            1                  0\n",
              "...   ...      ...       ...          ...                ...\n",
              "2465    0     40.0   54000.0            2                  0\n",
              "1042    0     33.0   59300.0            2                  0\n",
              "2231    0     33.0   59300.0            2                  0\n",
              "1418    1     28.0   59900.0            0                  0\n",
              "1742    1     28.0   59900.0            0                  0\n",
              "\n",
              "[300 rows x 5 columns]"
            ],
            "text/html": [
              "\n",
              "  <div id=\"df-39cdccbe-51bc-4d4d-95ad-96914b4cf016\">\n",
              "    <div class=\"colab-df-container\">\n",
              "      <div>\n",
              "<style scoped>\n",
              "    .dataframe tbody tr th:only-of-type {\n",
              "        vertical-align: middle;\n",
              "    }\n",
              "\n",
              "    .dataframe tbody tr th {\n",
              "        vertical-align: top;\n",
              "    }\n",
              "\n",
              "    .dataframe thead th {\n",
              "        text-align: right;\n",
              "    }\n",
              "</style>\n",
              "<table border=\"1\" class=\"dataframe\">\n",
              "  <thead>\n",
              "    <tr style=\"text-align: right;\">\n",
              "      <th></th>\n",
              "      <th>Пол</th>\n",
              "      <th>Возраст</th>\n",
              "      <th>Зарплата</th>\n",
              "      <th>Члены семьи</th>\n",
              "      <th>Страховые выплаты</th>\n",
              "    </tr>\n",
              "  </thead>\n",
              "  <tbody>\n",
              "    <tr>\n",
              "      <th>2955</th>\n",
              "      <td>1</td>\n",
              "      <td>32.0</td>\n",
              "      <td>21600.0</td>\n",
              "      <td>0</td>\n",
              "      <td>0</td>\n",
              "    </tr>\n",
              "    <tr>\n",
              "      <th>2988</th>\n",
              "      <td>1</td>\n",
              "      <td>32.0</td>\n",
              "      <td>21600.0</td>\n",
              "      <td>0</td>\n",
              "      <td>0</td>\n",
              "    </tr>\n",
              "    <tr>\n",
              "      <th>361</th>\n",
              "      <td>0</td>\n",
              "      <td>50.0</td>\n",
              "      <td>24700.0</td>\n",
              "      <td>1</td>\n",
              "      <td>2</td>\n",
              "    </tr>\n",
              "    <tr>\n",
              "      <th>2869</th>\n",
              "      <td>0</td>\n",
              "      <td>50.0</td>\n",
              "      <td>24700.0</td>\n",
              "      <td>1</td>\n",
              "      <td>2</td>\n",
              "    </tr>\n",
              "    <tr>\n",
              "      <th>333</th>\n",
              "      <td>0</td>\n",
              "      <td>32.0</td>\n",
              "      <td>25600.0</td>\n",
              "      <td>1</td>\n",
              "      <td>0</td>\n",
              "    </tr>\n",
              "    <tr>\n",
              "      <th>...</th>\n",
              "      <td>...</td>\n",
              "      <td>...</td>\n",
              "      <td>...</td>\n",
              "      <td>...</td>\n",
              "      <td>...</td>\n",
              "    </tr>\n",
              "    <tr>\n",
              "      <th>2465</th>\n",
              "      <td>0</td>\n",
              "      <td>40.0</td>\n",
              "      <td>54000.0</td>\n",
              "      <td>2</td>\n",
              "      <td>0</td>\n",
              "    </tr>\n",
              "    <tr>\n",
              "      <th>1042</th>\n",
              "      <td>0</td>\n",
              "      <td>33.0</td>\n",
              "      <td>59300.0</td>\n",
              "      <td>2</td>\n",
              "      <td>0</td>\n",
              "    </tr>\n",
              "    <tr>\n",
              "      <th>2231</th>\n",
              "      <td>0</td>\n",
              "      <td>33.0</td>\n",
              "      <td>59300.0</td>\n",
              "      <td>2</td>\n",
              "      <td>0</td>\n",
              "    </tr>\n",
              "    <tr>\n",
              "      <th>1418</th>\n",
              "      <td>1</td>\n",
              "      <td>28.0</td>\n",
              "      <td>59900.0</td>\n",
              "      <td>0</td>\n",
              "      <td>0</td>\n",
              "    </tr>\n",
              "    <tr>\n",
              "      <th>1742</th>\n",
              "      <td>1</td>\n",
              "      <td>28.0</td>\n",
              "      <td>59900.0</td>\n",
              "      <td>0</td>\n",
              "      <td>0</td>\n",
              "    </tr>\n",
              "  </tbody>\n",
              "</table>\n",
              "<p>300 rows × 5 columns</p>\n",
              "</div>\n",
              "      <button class=\"colab-df-convert\" onclick=\"convertToInteractive('df-39cdccbe-51bc-4d4d-95ad-96914b4cf016')\"\n",
              "              title=\"Convert this dataframe to an interactive table.\"\n",
              "              style=\"display:none;\">\n",
              "        \n",
              "  <svg xmlns=\"http://www.w3.org/2000/svg\" height=\"24px\"viewBox=\"0 0 24 24\"\n",
              "       width=\"24px\">\n",
              "    <path d=\"M0 0h24v24H0V0z\" fill=\"none\"/>\n",
              "    <path d=\"M18.56 5.44l.94 2.06.94-2.06 2.06-.94-2.06-.94-.94-2.06-.94 2.06-2.06.94zm-11 1L8.5 8.5l.94-2.06 2.06-.94-2.06-.94L8.5 2.5l-.94 2.06-2.06.94zm10 10l.94 2.06.94-2.06 2.06-.94-2.06-.94-.94-2.06-.94 2.06-2.06.94z\"/><path d=\"M17.41 7.96l-1.37-1.37c-.4-.4-.92-.59-1.43-.59-.52 0-1.04.2-1.43.59L10.3 9.45l-7.72 7.72c-.78.78-.78 2.05 0 2.83L4 21.41c.39.39.9.59 1.41.59.51 0 1.02-.2 1.41-.59l7.78-7.78 2.81-2.81c.8-.78.8-2.07 0-2.86zM5.41 20L4 18.59l7.72-7.72 1.47 1.35L5.41 20z\"/>\n",
              "  </svg>\n",
              "      </button>\n",
              "      \n",
              "  <style>\n",
              "    .colab-df-container {\n",
              "      display:flex;\n",
              "      flex-wrap:wrap;\n",
              "      gap: 12px;\n",
              "    }\n",
              "\n",
              "    .colab-df-convert {\n",
              "      background-color: #E8F0FE;\n",
              "      border: none;\n",
              "      border-radius: 50%;\n",
              "      cursor: pointer;\n",
              "      display: none;\n",
              "      fill: #1967D2;\n",
              "      height: 32px;\n",
              "      padding: 0 0 0 0;\n",
              "      width: 32px;\n",
              "    }\n",
              "\n",
              "    .colab-df-convert:hover {\n",
              "      background-color: #E2EBFA;\n",
              "      box-shadow: 0px 1px 2px rgba(60, 64, 67, 0.3), 0px 1px 3px 1px rgba(60, 64, 67, 0.15);\n",
              "      fill: #174EA6;\n",
              "    }\n",
              "\n",
              "    [theme=dark] .colab-df-convert {\n",
              "      background-color: #3B4455;\n",
              "      fill: #D2E3FC;\n",
              "    }\n",
              "\n",
              "    [theme=dark] .colab-df-convert:hover {\n",
              "      background-color: #434B5C;\n",
              "      box-shadow: 0px 1px 3px 1px rgba(0, 0, 0, 0.15);\n",
              "      filter: drop-shadow(0px 1px 2px rgba(0, 0, 0, 0.3));\n",
              "      fill: #FFFFFF;\n",
              "    }\n",
              "  </style>\n",
              "\n",
              "      <script>\n",
              "        const buttonEl =\n",
              "          document.querySelector('#df-39cdccbe-51bc-4d4d-95ad-96914b4cf016 button.colab-df-convert');\n",
              "        buttonEl.style.display =\n",
              "          google.colab.kernel.accessAllowed ? 'block' : 'none';\n",
              "\n",
              "        async function convertToInteractive(key) {\n",
              "          const element = document.querySelector('#df-39cdccbe-51bc-4d4d-95ad-96914b4cf016');\n",
              "          const dataTable =\n",
              "            await google.colab.kernel.invokeFunction('convertToInteractive',\n",
              "                                                     [key], {});\n",
              "          if (!dataTable) return;\n",
              "\n",
              "          const docLinkHtml = 'Like what you see? Visit the ' +\n",
              "            '<a target=\"_blank\" href=https://colab.research.google.com/notebooks/data_table.ipynb>data table notebook</a>'\n",
              "            + ' to learn more about interactive tables.';\n",
              "          element.innerHTML = '';\n",
              "          dataTable['output_type'] = 'display_data';\n",
              "          await google.colab.output.renderOutput(dataTable, element);\n",
              "          const docLink = document.createElement('div');\n",
              "          docLink.innerHTML = docLinkHtml;\n",
              "          element.appendChild(docLink);\n",
              "        }\n",
              "      </script>\n",
              "    </div>\n",
              "  </div>\n",
              "  "
            ]
          },
          "metadata": {}
        }
      ],
      "source": [
        "print('Количество строк дубликатов -', data.duplicated().sum())\n",
        "print('')\n",
        "print('Все строки с повторяющимися данными:')\n",
        "double = data.duplicated(keep = False)\n",
        "display(data[double].sort_values(by = 'Зарплата'))"
      ]
    },
    {
      "cell_type": "markdown",
      "metadata": {
        "id": "Ojv_xkR8YPf-"
      },
      "source": [
        "Нам предоставлен файл с персональными данными пяти тысяч клиентов, в которых указаны:\n",
        "- пол \n",
        "- возраст\n",
        "- зарплата\n",
        "- количество членов семьи\n",
        "- наличие страховых выплат\n",
        "\n",
        "Предоставленные данные не имеют пропусков, распределение параметров близко к нормальному. А отсутствие критических аномалий свидетельствует о корректности полученных данных.\n",
        "\n",
        "Однако, в данных есть полностью совпадающие строки. Это могут быть как и простые совпадения личных данных разных людей, так и случайное задвоение данных. Рекомендовано проверить эти данные подробнее. В рамках данного исследования допустим, что дубликаты просто совпадающие личные данные.\n",
        "\n",
        "Рассмотрим какие зависимости есть у целевого признака с остальными данными."
      ]
    },
    {
      "cell_type": "code",
      "execution_count": 9,
      "metadata": {
        "colab": {
          "base_uri": "https://localhost:8080/",
          "height": 570
        },
        "id": "WIlxu_UWYPf_",
        "outputId": "c1b4fc69-5d55-4d72-efa8-016a8261434c"
      },
      "outputs": [
        {
          "output_type": "display_data",
          "data": {
            "text/plain": [
              "<Figure size 640x480 with 2 Axes>"
            ],
            "image/png": "[encoded data removed]"
          },
          "metadata": {}
        }
      ],
      "source": [
        "# корреляция на графике\n",
        "sb.heatmap(data.corr(), annot=True)\n",
        "plt.show()"
      ]
    },
    {
      "cell_type": "markdown",
      "metadata": {
        "id": "snfpiRS6YPf_"
      },
      "source": [
        "Мы видим, что в данных есть сильная линейная зависимость страховых выплат от возраста клиентов, у остальных параметров нет линейной зависимости с целевым признаком."
      ]
    },
    {
      "cell_type": "markdown",
      "metadata": {
        "id": "aZHS-VF6YPgA"
      },
      "source": [
        "## Умножение матриц"
      ]
    },
    {
      "cell_type": "markdown",
      "metadata": {
        "id": "S4LrplIYYPgA"
      },
      "source": [
        "Для защиты персональных данных клиентов нужно произвести их изменение(кодирование). Для этого можно воспользоваться умножением на обратную матрицу.\n",
        "\n",
        "Проведем теоретический расчет для модели линейной регрессии."
      ]
    },
    {
      "cell_type": "markdown",
      "metadata": {
        "id": "AvaGViQuYPgA"
      },
      "source": [
        "Введем следующие обозначения:\n",
        "\n",
        "- $X$ — матрица признаков (нулевой столбец состоит из единиц)\n",
        "\n",
        "- $y$ — вектор целевого признака\n",
        "\n",
        "- $P$ — матрица, на которую умножаются признаки\n",
        "\n",
        "- $w$ — вектор весов линейной регрессии (нулевой элемент равен сдвигу)"
      ]
    },
    {
      "cell_type": "markdown",
      "metadata": {
        "id": "ekvv2oIJYPgA"
      },
      "source": [
        "Вектор предсказания линейной регрессии:\n",
        "\n",
        "$$\n",
        "a = Xw\n",
        "$$\n",
        "\n",
        "Так как необходимо подобрать параметры модели, при которых значение функции потерь на обучающей выборке минимально, воспользуемся метрикой качества MSE. Задача обучения в векторном виде будет выглядеть:\n",
        "\n",
        "$$\n",
        "w = \\arg\\min_w MSE(Xw, y)\n",
        "$$\n",
        "\n",
        "Для получения минимального значения MSE выполняется следующий алгоритм:\n",
        "\n",
        "- Транспонированная матрица признаков умножается на себя;\n",
        "- Вычисляется обратная к результату матрица;\n",
        "- Обратная умножается на транспонированную матрицу признаков;\n",
        "- Результат умножается на вектор значений целевого признака.\n",
        "\n",
        "А формула обучения в векторном виде имеет следующий вид:\n",
        "\n",
        "$$\n",
        "w = (X^T X)^{-1} X^T y\n",
        "$$"
      ]
    },
    {
      "cell_type": "markdown",
      "metadata": {
        "id": "6F3UVGvZYPgB"
      },
      "source": [
        "**Ответ:** И так, предположим, что умножение признаков на обратимую матрицу не влияет на качество модели линейной регрессии.\n",
        "\n",
        "**Обоснование:** Подставим в формулу вместо матрицы признаков произведение матрицы признаков на обратимую матрицу:\n",
        "\n",
        "$$\n",
        "w_{умножения} = ((XP)^T XP)^{-1} (XP)^T y\n",
        "$$\n",
        "\n",
        "Теперь раскроим скобки в соответствии с правилами умножения матриц. Сначала раскроем скобки с транспонированием:\n",
        "\n",
        "$$\n",
        "w_{умножения} = (P^T X^T XP)^{-1} P^T X^T y\n",
        "$$\n",
        "\n",
        "Затем вынесем наш множитель(квадратная матрица) из формулы обратной матрицы:\n",
        "\n",
        "\n",
        "$$\n",
        "w_{умножения} = P^{-1} (X^T X)^{-1} (P^T)^{-1} P^T X^T y\n",
        "$$\n",
        "\n",
        "Так как при умножении матрици на обратную ей получаем единичную матрицу, можно сделать следующие сокращения:\n",
        "\n",
        "$$\n",
        "w_{умножения} = P^{-1} (X^T X)^{-1} X^T y\n",
        "$$\n",
        "\n",
        "Теперь подставим полученное выражение в формулу вектора предсказания линейной регрессии:\n",
        "\n",
        "$$\n",
        "a_{умножения} = XP P^{-1} (X^T X)^{-1} X^T y\n",
        "$$\n",
        "\n",
        "Снова воспользуемся правилом умножения матрицы и обратной ей. Получаем:\n",
        "\n",
        "$$\n",
        "a_{умножения} = X (X^T X)^{-1} X^T y\n",
        "$$\n",
        "\n",
        "И так, мы получили туже формулу, что и формула вектора предсказания линейной регрессии. А значит, умножение исходной матрицы признаков на обратимую(квадратную) матрицу никак не влияет на формулу вектора предсказания линейной регрессии."
      ]
    },
    {
      "cell_type": "markdown",
      "metadata": {
        "id": "bCs6zOwkYPgD"
      },
      "source": [
        "Рассмотрим, как изменяется задача линейной регрессии после умножения на обратимую матрицу.\n",
        "\n",
        "$$\n",
        "w = (X^T X)^{-1} X^T y \\\\     \n",
        "w_{умножения} = P^{-1} (X^T X)^{-1} X^T y\n",
        "$$\n",
        "\n",
        "Получается, что вектор обучения после умножения изменяется на обратную матрицу к матрице, на котору были умножины сходные признаки.\n",
        "$$  \n",
        "w_{умножения} = P^{-1} w\n",
        "$$"
      ]
    },
    {
      "cell_type": "markdown",
      "metadata": {
        "id": "2QxzdrAuYPgE"
      },
      "source": [
        "## Алгоритм преобразования"
      ]
    },
    {
      "cell_type": "markdown",
      "metadata": {
        "id": "7ZEqkgG7YPgE"
      },
      "source": [
        "Теперь можно перейти непосредственно к разработке алгоритма преобразования данных.\n",
        "\n",
        "**Алгоритм**\n",
        "\n",
        "Разработанный алгоритм должен выполнять следующие шаги:\n",
        "\n",
        "1. Создание случайной матрицы.\n",
        "\n",
        "На данном этапе наш алгоритм создает квадратную матрицу со случайными значениями. Размер матрицы определяется шириной массива исходных признаков.\n",
        "\n",
        "2. Проверка случайной матрицы на обратимость.\n",
        "\n",
        "Здесь созданная матрица проверяется на возможность создания обратной матрицы. Если расчитать обратную матрицу невозможно, алгоритм возвращается в пункт 1 и снова создаёт квадратную матрицу со случайными значениями. Если матрица оказалась обратима, то передаем ее для дальшейших шагов.\n",
        "\n",
        "3. Создание измененной матрицы признаков.\n",
        "\n",
        "После того, как нам удалось подобрать обратимую матрицу, переходим к умножению матрицы исходных данных на нее. Также сохраняем получившуюся матрицу закодированных значений.\n",
        "\n",
        "4. Обучение моде и предсказание значений.\n",
        "\n",
        "Данный шаг состоит из нескольких действий:\n",
        "- деление полученных данных на три выборки( обучающую, валлидационную и тестовую) в соотношении 3\\:1:1;\n",
        "- обучение модели линейной регрессии на обучающей выборке;\n",
        "- создание предсказаний для валлидационной выборки и расчет метрики R2 для них;\n",
        "- создание предсказаний для тестовой выборки и расчет метрики R2 для них;\n",
        "- вывод полученных значений на экран.\n",
        "\n",
        "5. Проверка полученных результатов.\n",
        "\n",
        "Завершающий этап работы - это сравнение полученных данных измененных и исходных данных. Для этого обучим модель с темиже переметрами на исходных (не кодированных) данных и также расчитаем метрику R2 для них. Затем сравним полученные данные между измененными и не изменненными признаками."
      ]
    },
    {
      "cell_type": "markdown",
      "metadata": {
        "id": "1Nlj-_i_YPgF"
      },
      "source": [
        "**Обоснование**\n",
        "\n",
        "При теоретическом выводе формулы мы доказали, что умножение на обратимую матрицу не влияет на вектор предсказаний. А значит, мы можем домножить исходные признаки на матрицу со случайными значениями, без потери качества модели."
      ]
    },
    {
      "cell_type": "markdown",
      "metadata": {
        "id": "K4i19Jp1YPgG"
      },
      "source": [
        "Теперь опишем это в коде."
      ]
    },
    {
      "cell_type": "code",
      "execution_count": 10,
      "metadata": {
        "id": "jWI5QaR5YPgG"
      },
      "outputs": [],
      "source": [
        "def matrix_key(size):\n",
        "    try:\n",
        "        random_matrix = np.random.normal(0, 1, (size, size))\n",
        "        np.linalg.inv(random_matrix)\n",
        "        \n",
        "        return random_matrix\n",
        "       \n",
        "    except np.linalg.LinAlgError:\n",
        "        matrix_key(size)"
      ]
    },
    {
      "cell_type": "code",
      "execution_count": 11,
      "metadata": {
        "id": "mBcZp9-tYPgG"
      },
      "outputs": [],
      "source": [
        "def matrix_encoding(feature):\n",
        "    \n",
        "    feature_matrix = feature.values\n",
        "    \n",
        "    key = matrix_key(feature.shape[1])\n",
        "       \n",
        "    return feature_matrix @ key"
      ]
    },
    {
      "cell_type": "code",
      "execution_count": 12,
      "metadata": {
        "id": "CB9WOuC8YPgH"
      },
      "outputs": [],
      "source": [
        "def model(feature):\n",
        "    \n",
        "    features_train, features_valid_test, target_train, target_valid_test = \\\n",
        "                    train_test_split(features, target, test_size=0.4, random_state=12345)\n",
        "    features_valid, features_test, target_valid, target_test = \\\n",
        "                    train_test_split(features_valid_test, target_valid_test, \\\n",
        "                                     test_size=0.5, random_state=12345)\n",
        "    \n",
        "    model = LinearRegression()\n",
        "    \n",
        "    model.fit(features_train, target_train)\n",
        "    print('Модель обучена.')\n",
        "    \n",
        "    predictions_valid = model.predict(features_valid)\n",
        "    r_2_valid = r2_score(target_valid, predictions_valid)\n",
        "    print('Значение метрики R2 на валидационной выборке -', '%.5f' %r_2_valid)\n",
        "    \n",
        "    predictions_test = model.predict(features_test)\n",
        "    r_2_test = r2_score(target_test, predictions_test)\n",
        "    print('Значение метрики R2 на тестовой выборке -', '%.5f' %r_2_test)"
      ]
    },
    {
      "cell_type": "markdown",
      "metadata": {
        "id": "IhqCTmWbYPgH"
      },
      "source": [
        "Выделим целевой признак из данных."
      ]
    },
    {
      "cell_type": "code",
      "execution_count": 13,
      "metadata": {
        "id": "bRa5LDGRYPgH"
      },
      "outputs": [],
      "source": [
        "features = data.drop(['Страховые выплаты'], axis=1)\n",
        "target = data['Страховые выплаты']"
      ]
    },
    {
      "cell_type": "markdown",
      "metadata": {
        "id": "UrxqKK1SYPgH"
      },
      "source": [
        "Теперь обучим модель линейной регрессии на измененных данных и вычислим метрику R2 для нее."
      ]
    },
    {
      "cell_type": "code",
      "execution_count": 14,
      "metadata": {
        "colab": {
          "base_uri": "https://localhost:8080/"
        },
        "id": "T4ZtceC3YPgI",
        "outputId": "9d5e25ac-76a0-4015-8747-6d5ee4e98786"
      },
      "outputs": [
        {
          "output_type": "stream",
          "name": "stdout",
          "text": [
            "Модель обучена.\n",
            "Значение метрики R2 на валидационной выборке - 0.41339\n",
            "Значение метрики R2 на тестовой выборке - 0.43308\n"
          ]
        }
      ],
      "source": [
        "model(matrix_encoding(features))"
      ]
    },
    {
      "cell_type": "markdown",
      "metadata": {
        "id": "wjlx31XZYPgI"
      },
      "source": [
        "## Проверка алгоритма"
      ]
    },
    {
      "cell_type": "markdown",
      "metadata": {
        "id": "7ccs1xyeYPgI"
      },
      "source": [
        "Проверим, действительно ли размер метрики R2 на измененных данных ревен метрике на неизмененных данных. Для этого обучим модель линейной регрессии на неизмененных данных и расчитаем ее значение метрики R2."
      ]
    },
    {
      "cell_type": "code",
      "execution_count": 15,
      "metadata": {
        "colab": {
          "base_uri": "https://localhost:8080/"
        },
        "id": "uHGY99qKYPgI",
        "outputId": "dd331c5c-d63c-4d5a-9ca6-d40b0a3fb237"
      },
      "outputs": [
        {
          "output_type": "stream",
          "name": "stdout",
          "text": [
            "Модель обучена.\n",
            "Значение метрики R2 на валидационной выборке - 0.41339\n",
            "Значение метрики R2 на тестовой выборке - 0.43308\n"
          ]
        }
      ],
      "source": [
        "model(features)"
      ]
    },
    {
      "cell_type": "markdown",
      "metadata": {
        "id": "xj3wXQyBYPgI"
      },
      "source": [
        "Как можно увидеть, значения метрики идентичны. Это подтверждает наше теоретическое обоснование."
      ]
    },
    {
      "cell_type": "markdown",
      "metadata": {
        "id": "RxG5IgqSYPgJ"
      },
      "source": [
        "## Вывод"
      ]
    },
    {
      "cell_type": "markdown",
      "metadata": {
        "id": "1z6h5hPdYPgK"
      },
      "source": [
        "В данной работе проведено исследование влияния изменения(кодирования) данных клиентов на качество предсказаний модели. Для иллюстрации была выбрана модель линейной регрессии с ключевой метрикой качества R2.\n",
        "\n",
        "Теоретически было доказано, что умножение исходной матрицы признаков на обратимую(квадратную) матрицу не влияет на качество метрики R2. \n",
        "\n",
        "Векторы предсказаниq линейной регрессии оказались равны:\n",
        "$$\n",
        "a_{умножения} = X (X^T X)^{-1} X^T y = a\n",
        "$$\n",
        "\n",
        "А отношение векторов обучения после умножения изменяется на обратную матрицу к матрице, на котору были умножины сходные признаки.\n",
        "$$  \n",
        "w_{умножения} = P^{-1} w\n",
        "$$\n",
        "\n",
        "Также теоретический вывод был подтвержден расчетом.\n",
        "\n",
        "Полученные значения мертики R2:\n",
        "\n",
        "| Выборка | Кодированные данные | Исходные данные |\n",
        "|:-------|:-------------------:|:---------------:|\n",
        "|Валлидационная|0.41339|0.41339|\n",
        "|Тестовая|0.43308|0.43308|\n",
        "\n",
        "Достаточно низкий показатель предсказания в данном случае может быть связан с нелинейными зависимостями целевого признака от остальных параметров. "
      ]
    }
  ],
  "metadata": {
    "ExecuteTimeLog": [
      {
        "duration": 49,
        "start_time": "2023-02-10T20:01:56.315Z"
      },
      {
        "duration": 0,
        "start_time": "2023-02-10T20:01:56.365Z"
      },
      {
        "duration": 0,
        "start_time": "2023-02-10T20:01:56.367Z"
      },
      {
        "duration": 9,
        "start_time": "2023-02-10T20:02:05.148Z"
      },
      {
        "duration": 8,
        "start_time": "2023-02-10T20:02:05.522Z"
      },
      {
        "duration": 833,
        "start_time": "2023-02-10T20:02:30.856Z"
      },
      {
        "duration": 91,
        "start_time": "2023-02-10T20:02:31.965Z"
      },
      {
        "duration": 21,
        "start_time": "2023-02-10T20:02:32.763Z"
      },
      {
        "duration": 18,
        "start_time": "2023-02-10T20:02:34.191Z"
      },
      {
        "duration": 11,
        "start_time": "2023-02-10T20:03:38.001Z"
      },
      {
        "duration": 9,
        "start_time": "2023-02-10T20:03:48.434Z"
      },
      {
        "duration": 620,
        "start_time": "2023-02-10T20:07:21.403Z"
      },
      {
        "duration": 793,
        "start_time": "2023-02-10T20:07:35.969Z"
      },
      {
        "duration": 659,
        "start_time": "2023-02-10T20:07:47.767Z"
      },
      {
        "duration": 415,
        "start_time": "2023-02-10T20:08:34.130Z"
      },
      {
        "duration": 693,
        "start_time": "2023-02-10T20:08:40.320Z"
      },
      {
        "duration": 280,
        "start_time": "2023-02-10T20:09:40.224Z"
      },
      {
        "duration": 564,
        "start_time": "2023-02-10T20:10:08.628Z"
      },
      {
        "duration": 449,
        "start_time": "2023-02-10T20:13:19.166Z"
      },
      {
        "duration": 391,
        "start_time": "2023-02-10T20:15:43.702Z"
      },
      {
        "duration": 413,
        "start_time": "2023-02-10T20:16:17.032Z"
      },
      {
        "duration": 466,
        "start_time": "2023-02-10T20:16:36.448Z"
      },
      {
        "duration": 47,
        "start_time": "2023-02-11T10:52:13.035Z"
      },
      {
        "duration": 760,
        "start_time": "2023-02-11T10:52:17.868Z"
      },
      {
        "duration": 91,
        "start_time": "2023-02-11T10:52:18.630Z"
      },
      {
        "duration": 13,
        "start_time": "2023-02-11T10:52:18.724Z"
      },
      {
        "duration": 13,
        "start_time": "2023-02-11T10:52:18.739Z"
      },
      {
        "duration": 6,
        "start_time": "2023-02-11T10:52:18.753Z"
      },
      {
        "duration": 609,
        "start_time": "2023-02-11T10:52:18.760Z"
      },
      {
        "duration": 458,
        "start_time": "2023-02-11T10:52:19.371Z"
      },
      {
        "duration": 17,
        "start_time": "2023-02-11T10:59:18.386Z"
      },
      {
        "duration": 24,
        "start_time": "2023-02-11T11:04:47.016Z"
      },
      {
        "duration": 22,
        "start_time": "2023-02-11T11:05:00.410Z"
      },
      {
        "duration": 17,
        "start_time": "2023-02-11T11:07:36.102Z"
      },
      {
        "duration": 817,
        "start_time": "2023-02-11T15:41:14.830Z"
      },
      {
        "duration": 93,
        "start_time": "2023-02-11T15:41:15.649Z"
      },
      {
        "duration": 12,
        "start_time": "2023-02-11T15:41:15.744Z"
      },
      {
        "duration": 11,
        "start_time": "2023-02-11T15:41:15.758Z"
      },
      {
        "duration": 563,
        "start_time": "2023-02-11T15:41:15.771Z"
      },
      {
        "duration": 452,
        "start_time": "2023-02-11T15:41:16.336Z"
      },
      {
        "duration": 17,
        "start_time": "2023-02-11T15:41:16.790Z"
      },
      {
        "duration": 27,
        "start_time": "2023-02-11T15:42:07.689Z"
      },
      {
        "duration": 24,
        "start_time": "2023-02-11T15:42:29.760Z"
      },
      {
        "duration": 17,
        "start_time": "2023-02-11T15:42:43.978Z"
      },
      {
        "duration": 17,
        "start_time": "2023-02-11T15:42:50.922Z"
      },
      {
        "duration": 1676,
        "start_time": "2023-02-12T08:41:55.462Z"
      },
      {
        "duration": 115,
        "start_time": "2023-02-12T08:41:57.140Z"
      },
      {
        "duration": 17,
        "start_time": "2023-02-12T08:41:57.257Z"
      },
      {
        "duration": 71,
        "start_time": "2023-02-12T08:41:57.275Z"
      },
      {
        "duration": 678,
        "start_time": "2023-02-12T08:41:57.349Z"
      },
      {
        "duration": 510,
        "start_time": "2023-02-12T08:41:58.030Z"
      },
      {
        "duration": 17,
        "start_time": "2023-02-12T08:41:58.542Z"
      },
      {
        "duration": 3,
        "start_time": "2023-02-12T09:47:07.432Z"
      },
      {
        "duration": 4,
        "start_time": "2023-02-12T09:52:20.172Z"
      },
      {
        "duration": 5,
        "start_time": "2023-02-12T09:56:45.408Z"
      },
      {
        "duration": 5,
        "start_time": "2023-02-12T09:56:45.860Z"
      },
      {
        "duration": 5,
        "start_time": "2023-02-12T10:27:14.235Z"
      },
      {
        "duration": 19,
        "start_time": "2023-02-12T10:27:49.768Z"
      },
      {
        "duration": 9,
        "start_time": "2023-02-12T10:28:16.444Z"
      },
      {
        "duration": 4,
        "start_time": "2023-02-12T10:28:53.595Z"
      },
      {
        "duration": 9,
        "start_time": "2023-02-12T10:28:56.818Z"
      },
      {
        "duration": 4,
        "start_time": "2023-02-12T10:29:04.984Z"
      },
      {
        "duration": 7,
        "start_time": "2023-02-12T10:29:07.574Z"
      },
      {
        "duration": 10,
        "start_time": "2023-02-12T10:29:14.774Z"
      },
      {
        "duration": 4,
        "start_time": "2023-02-12T10:34:33.537Z"
      },
      {
        "duration": 8,
        "start_time": "2023-02-12T10:34:37.462Z"
      },
      {
        "duration": 9,
        "start_time": "2023-02-12T10:34:45.862Z"
      },
      {
        "duration": 1410,
        "start_time": "2023-02-12T11:15:08.151Z"
      },
      {
        "duration": 26,
        "start_time": "2023-02-12T11:15:09.563Z"
      },
      {
        "duration": 15,
        "start_time": "2023-02-12T11:15:09.591Z"
      },
      {
        "duration": 14,
        "start_time": "2023-02-12T11:15:09.620Z"
      },
      {
        "duration": 651,
        "start_time": "2023-02-12T11:15:09.636Z"
      },
      {
        "duration": 533,
        "start_time": "2023-02-12T11:15:10.289Z"
      },
      {
        "duration": 17,
        "start_time": "2023-02-12T11:15:10.824Z"
      },
      {
        "duration": 8,
        "start_time": "2023-02-12T11:15:10.843Z"
      },
      {
        "duration": 6,
        "start_time": "2023-02-12T11:15:10.853Z"
      },
      {
        "duration": 28,
        "start_time": "2023-02-12T11:15:10.863Z"
      },
      {
        "duration": 14,
        "start_time": "2023-02-12T11:15:10.894Z"
      },
      {
        "duration": 11,
        "start_time": "2023-02-12T11:15:10.914Z"
      },
      {
        "duration": 186,
        "start_time": "2023-02-12T11:15:10.927Z"
      },
      {
        "duration": 1452,
        "start_time": "2023-02-12T11:15:27.757Z"
      },
      {
        "duration": 26,
        "start_time": "2023-02-12T11:15:29.222Z"
      },
      {
        "duration": 19,
        "start_time": "2023-02-12T11:15:29.250Z"
      },
      {
        "duration": 14,
        "start_time": "2023-02-12T11:15:29.270Z"
      },
      {
        "duration": 702,
        "start_time": "2023-02-12T11:15:29.287Z"
      },
      {
        "duration": 568,
        "start_time": "2023-02-12T11:15:29.991Z"
      },
      {
        "duration": 21,
        "start_time": "2023-02-12T11:15:30.561Z"
      },
      {
        "duration": 33,
        "start_time": "2023-02-12T11:15:30.584Z"
      },
      {
        "duration": 57,
        "start_time": "2023-02-12T11:15:30.619Z"
      },
      {
        "duration": 68,
        "start_time": "2023-02-12T11:15:30.678Z"
      },
      {
        "duration": 59,
        "start_time": "2023-02-12T11:15:30.748Z"
      },
      {
        "duration": 138,
        "start_time": "2023-02-12T11:15:30.811Z"
      },
      {
        "duration": 1391,
        "start_time": "2023-02-12T11:22:46.730Z"
      },
      {
        "duration": 25,
        "start_time": "2023-02-12T11:22:48.124Z"
      },
      {
        "duration": 12,
        "start_time": "2023-02-12T11:22:48.151Z"
      },
      {
        "duration": 14,
        "start_time": "2023-02-12T11:22:48.165Z"
      },
      {
        "duration": 599,
        "start_time": "2023-02-12T11:22:48.182Z"
      },
      {
        "duration": 505,
        "start_time": "2023-02-12T11:22:48.783Z"
      },
      {
        "duration": 29,
        "start_time": "2023-02-12T11:22:49.290Z"
      },
      {
        "duration": 3,
        "start_time": "2023-02-12T11:22:49.321Z"
      },
      {
        "duration": 7,
        "start_time": "2023-02-12T11:22:49.325Z"
      },
      {
        "duration": 7,
        "start_time": "2023-02-12T11:22:49.334Z"
      },
      {
        "duration": 61,
        "start_time": "2023-02-12T11:22:49.344Z"
      },
      {
        "duration": 105,
        "start_time": "2023-02-12T11:22:49.407Z"
      },
      {
        "duration": 1374,
        "start_time": "2023-02-12T11:47:53.636Z"
      },
      {
        "duration": 25,
        "start_time": "2023-02-12T11:47:55.012Z"
      },
      {
        "duration": 13,
        "start_time": "2023-02-12T11:47:55.039Z"
      },
      {
        "duration": 13,
        "start_time": "2023-02-12T11:47:55.054Z"
      },
      {
        "duration": 619,
        "start_time": "2023-02-12T11:47:55.069Z"
      },
      {
        "duration": 486,
        "start_time": "2023-02-12T11:47:55.690Z"
      },
      {
        "duration": 27,
        "start_time": "2023-02-12T11:47:56.177Z"
      },
      {
        "duration": 3,
        "start_time": "2023-02-12T11:47:56.206Z"
      },
      {
        "duration": 9,
        "start_time": "2023-02-12T11:47:56.211Z"
      },
      {
        "duration": 13,
        "start_time": "2023-02-12T11:47:56.221Z"
      },
      {
        "duration": 69,
        "start_time": "2023-02-12T11:47:56.236Z"
      },
      {
        "duration": 98,
        "start_time": "2023-02-12T11:47:56.307Z"
      },
      {
        "duration": 2066,
        "start_time": "2023-02-12T12:12:25.587Z"
      },
      {
        "duration": 30,
        "start_time": "2023-02-12T12:12:27.655Z"
      },
      {
        "duration": 12,
        "start_time": "2023-02-12T12:12:27.687Z"
      },
      {
        "duration": 11,
        "start_time": "2023-02-12T12:12:27.701Z"
      },
      {
        "duration": 625,
        "start_time": "2023-02-12T12:12:27.714Z"
      },
      {
        "duration": 519,
        "start_time": "2023-02-12T12:12:28.341Z"
      },
      {
        "duration": 21,
        "start_time": "2023-02-12T12:12:28.862Z"
      },
      {
        "duration": 4,
        "start_time": "2023-02-12T12:12:28.885Z"
      },
      {
        "duration": 7,
        "start_time": "2023-02-12T12:12:28.891Z"
      },
      {
        "duration": 4,
        "start_time": "2023-02-12T12:12:28.920Z"
      },
      {
        "duration": 96,
        "start_time": "2023-02-12T12:12:28.926Z"
      },
      {
        "duration": 104,
        "start_time": "2023-02-12T12:12:29.026Z"
      },
      {
        "duration": 1498,
        "start_time": "2023-02-12T13:08:17.295Z"
      },
      {
        "duration": 27,
        "start_time": "2023-02-12T13:08:18.796Z"
      },
      {
        "duration": 15,
        "start_time": "2023-02-12T13:08:18.825Z"
      },
      {
        "duration": 15,
        "start_time": "2023-02-12T13:08:18.841Z"
      },
      {
        "duration": 626,
        "start_time": "2023-02-12T13:08:18.858Z"
      },
      {
        "duration": 522,
        "start_time": "2023-02-12T13:08:19.486Z"
      },
      {
        "duration": 23,
        "start_time": "2023-02-12T13:08:20.011Z"
      },
      {
        "duration": 373,
        "start_time": "2023-02-12T13:08:20.036Z"
      },
      {
        "duration": 3,
        "start_time": "2023-02-12T13:08:20.412Z"
      },
      {
        "duration": 9,
        "start_time": "2023-02-12T13:08:20.416Z"
      },
      {
        "duration": 7,
        "start_time": "2023-02-12T13:08:20.426Z"
      },
      {
        "duration": 10,
        "start_time": "2023-02-12T13:08:20.434Z"
      },
      {
        "duration": 166,
        "start_time": "2023-02-12T13:08:20.446Z"
      },
      {
        "duration": 523,
        "start_time": "2023-02-12T13:23:16.974Z"
      },
      {
        "duration": 517,
        "start_time": "2023-02-12T13:23:44.582Z"
      },
      {
        "duration": 111,
        "start_time": "2023-02-12T13:27:21.004Z"
      },
      {
        "duration": 10,
        "start_time": "2023-02-12T13:27:25.636Z"
      },
      {
        "duration": 14,
        "start_time": "2023-02-12T13:27:31.367Z"
      },
      {
        "duration": 103,
        "start_time": "2023-02-12T13:27:43.961Z"
      },
      {
        "duration": 12,
        "start_time": "2023-02-12T13:27:52.967Z"
      },
      {
        "duration": 919,
        "start_time": "2023-02-12T13:27:58.025Z"
      },
      {
        "duration": 538,
        "start_time": "2023-02-12T13:28:26.292Z"
      },
      {
        "duration": 627,
        "start_time": "2023-02-12T13:28:43.681Z"
      },
      {
        "duration": 1247,
        "start_time": "2023-02-12T13:30:35.930Z"
      },
      {
        "duration": 932,
        "start_time": "2023-02-12T13:31:23.047Z"
      },
      {
        "duration": 103,
        "start_time": "2023-02-12T13:33:13.937Z"
      },
      {
        "duration": 1124,
        "start_time": "2023-02-12T13:33:17.466Z"
      },
      {
        "duration": 868,
        "start_time": "2023-02-12T13:37:58.792Z"
      },
      {
        "duration": 584,
        "start_time": "2023-02-12T13:38:28.126Z"
      },
      {
        "duration": 618,
        "start_time": "2023-02-12T13:39:16.688Z"
      },
      {
        "duration": 693,
        "start_time": "2023-02-12T13:39:26.364Z"
      },
      {
        "duration": 571,
        "start_time": "2023-02-12T13:39:32.187Z"
      },
      {
        "duration": 5,
        "start_time": "2023-02-12T15:34:11.762Z"
      },
      {
        "duration": 1483,
        "start_time": "2023-02-12T15:34:15.589Z"
      },
      {
        "duration": 26,
        "start_time": "2023-02-12T15:34:17.074Z"
      },
      {
        "duration": 13,
        "start_time": "2023-02-12T15:34:17.102Z"
      },
      {
        "duration": 13,
        "start_time": "2023-02-12T15:34:17.117Z"
      },
      {
        "duration": 636,
        "start_time": "2023-02-12T15:34:17.132Z"
      },
      {
        "duration": 483,
        "start_time": "2023-02-12T15:34:17.770Z"
      },
      {
        "duration": 17,
        "start_time": "2023-02-12T15:34:18.255Z"
      },
      {
        "duration": 387,
        "start_time": "2023-02-12T15:34:18.273Z"
      },
      {
        "duration": 4,
        "start_time": "2023-02-12T15:34:18.661Z"
      },
      {
        "duration": 10,
        "start_time": "2023-02-12T15:34:18.667Z"
      },
      {
        "duration": 11,
        "start_time": "2023-02-12T15:34:18.678Z"
      },
      {
        "duration": 15995,
        "start_time": "2023-02-12T15:34:18.691Z"
      },
      {
        "duration": 0,
        "start_time": "2023-02-12T15:34:34.688Z"
      },
      {
        "duration": 1349,
        "start_time": "2023-02-12T15:39:28.215Z"
      },
      {
        "duration": 27,
        "start_time": "2023-02-12T15:39:29.567Z"
      },
      {
        "duration": 13,
        "start_time": "2023-02-12T15:39:29.595Z"
      },
      {
        "duration": 14,
        "start_time": "2023-02-12T15:39:29.610Z"
      },
      {
        "duration": 601,
        "start_time": "2023-02-12T15:39:29.626Z"
      },
      {
        "duration": 499,
        "start_time": "2023-02-12T15:39:30.229Z"
      },
      {
        "duration": 16,
        "start_time": "2023-02-12T15:39:30.730Z"
      },
      {
        "duration": 361,
        "start_time": "2023-02-12T15:39:30.748Z"
      },
      {
        "duration": 5,
        "start_time": "2023-02-12T15:39:31.110Z"
      },
      {
        "duration": 12,
        "start_time": "2023-02-12T15:39:31.117Z"
      },
      {
        "duration": 31,
        "start_time": "2023-02-12T15:39:31.131Z"
      },
      {
        "duration": 347819,
        "start_time": "2023-02-12T15:39:31.164Z"
      },
      {
        "duration": 0,
        "start_time": "2023-02-12T15:45:18.985Z"
      },
      {
        "duration": 0,
        "start_time": "2023-02-12T15:45:18.986Z"
      },
      {
        "duration": 1452,
        "start_time": "2023-02-12T15:45:21.828Z"
      },
      {
        "duration": 29,
        "start_time": "2023-02-12T15:45:23.283Z"
      },
      {
        "duration": 15,
        "start_time": "2023-02-12T15:45:23.314Z"
      },
      {
        "duration": 10,
        "start_time": "2023-02-12T15:45:23.331Z"
      },
      {
        "duration": 585,
        "start_time": "2023-02-12T15:45:23.344Z"
      },
      {
        "duration": 528,
        "start_time": "2023-02-12T15:45:23.931Z"
      },
      {
        "duration": 17,
        "start_time": "2023-02-12T15:45:24.460Z"
      },
      {
        "duration": 394,
        "start_time": "2023-02-12T15:45:24.478Z"
      },
      {
        "duration": 4,
        "start_time": "2023-02-12T15:45:24.873Z"
      },
      {
        "duration": 9,
        "start_time": "2023-02-12T15:45:24.878Z"
      },
      {
        "duration": 9,
        "start_time": "2023-02-12T15:45:24.888Z"
      },
      {
        "duration": 53565,
        "start_time": "2023-02-12T15:45:24.903Z"
      },
      {
        "duration": 0,
        "start_time": "2023-02-12T15:46:18.469Z"
      },
      {
        "duration": 1511,
        "start_time": "2023-02-12T16:51:56.973Z"
      },
      {
        "duration": 27,
        "start_time": "2023-02-12T16:51:58.486Z"
      },
      {
        "duration": 13,
        "start_time": "2023-02-12T16:51:58.514Z"
      },
      {
        "duration": 10,
        "start_time": "2023-02-12T16:51:58.529Z"
      },
      {
        "duration": 608,
        "start_time": "2023-02-12T16:51:58.541Z"
      },
      {
        "duration": 480,
        "start_time": "2023-02-12T16:51:59.151Z"
      },
      {
        "duration": 18,
        "start_time": "2023-02-12T16:51:59.633Z"
      },
      {
        "duration": 410,
        "start_time": "2023-02-12T16:51:59.653Z"
      },
      {
        "duration": 4,
        "start_time": "2023-02-12T16:52:00.064Z"
      },
      {
        "duration": 12,
        "start_time": "2023-02-12T16:52:00.070Z"
      },
      {
        "duration": 14,
        "start_time": "2023-02-12T16:52:00.084Z"
      },
      {
        "duration": 15,
        "start_time": "2023-02-12T16:52:00.100Z"
      },
      {
        "duration": 250,
        "start_time": "2023-02-12T16:52:00.117Z"
      },
      {
        "duration": 0,
        "start_time": "2023-02-12T16:52:00.369Z"
      },
      {
        "duration": 1501,
        "start_time": "2023-02-12T16:54:12.396Z"
      },
      {
        "duration": 29,
        "start_time": "2023-02-12T16:54:13.899Z"
      },
      {
        "duration": 16,
        "start_time": "2023-02-12T16:54:13.930Z"
      },
      {
        "duration": 14,
        "start_time": "2023-02-12T16:54:13.948Z"
      },
      {
        "duration": 689,
        "start_time": "2023-02-12T16:54:13.964Z"
      },
      {
        "duration": 490,
        "start_time": "2023-02-12T16:54:14.655Z"
      },
      {
        "duration": 18,
        "start_time": "2023-02-12T16:54:15.147Z"
      },
      {
        "duration": 404,
        "start_time": "2023-02-12T16:54:15.167Z"
      },
      {
        "duration": 4,
        "start_time": "2023-02-12T16:54:15.573Z"
      },
      {
        "duration": 11,
        "start_time": "2023-02-12T16:54:15.578Z"
      },
      {
        "duration": 5,
        "start_time": "2023-02-12T16:54:15.603Z"
      },
      {
        "duration": 6,
        "start_time": "2023-02-12T16:54:15.610Z"
      },
      {
        "duration": 263,
        "start_time": "2023-02-12T16:54:15.618Z"
      },
      {
        "duration": 0,
        "start_time": "2023-02-12T16:54:15.883Z"
      },
      {
        "duration": 1497,
        "start_time": "2023-02-12T16:59:32.897Z"
      },
      {
        "duration": 26,
        "start_time": "2023-02-12T16:59:34.396Z"
      },
      {
        "duration": 12,
        "start_time": "2023-02-12T16:59:34.424Z"
      },
      {
        "duration": 11,
        "start_time": "2023-02-12T16:59:34.437Z"
      },
      {
        "duration": 579,
        "start_time": "2023-02-12T16:59:34.450Z"
      },
      {
        "duration": 490,
        "start_time": "2023-02-12T16:59:35.030Z"
      },
      {
        "duration": 19,
        "start_time": "2023-02-12T16:59:35.522Z"
      },
      {
        "duration": 356,
        "start_time": "2023-02-12T16:59:35.543Z"
      },
      {
        "duration": 4,
        "start_time": "2023-02-12T16:59:35.900Z"
      },
      {
        "duration": 6,
        "start_time": "2023-02-12T16:59:35.906Z"
      },
      {
        "duration": 6,
        "start_time": "2023-02-12T16:59:35.914Z"
      },
      {
        "duration": 9,
        "start_time": "2023-02-12T16:59:35.921Z"
      },
      {
        "duration": 248,
        "start_time": "2023-02-12T16:59:35.931Z"
      },
      {
        "duration": 0,
        "start_time": "2023-02-12T16:59:36.180Z"
      },
      {
        "duration": 1403,
        "start_time": "2023-02-12T17:00:54.861Z"
      },
      {
        "duration": 27,
        "start_time": "2023-02-12T17:00:56.266Z"
      },
      {
        "duration": 13,
        "start_time": "2023-02-12T17:00:56.295Z"
      },
      {
        "duration": 10,
        "start_time": "2023-02-12T17:00:56.310Z"
      },
      {
        "duration": 569,
        "start_time": "2023-02-12T17:00:56.322Z"
      },
      {
        "duration": 513,
        "start_time": "2023-02-12T17:00:56.892Z"
      },
      {
        "duration": 19,
        "start_time": "2023-02-12T17:00:57.407Z"
      },
      {
        "duration": 359,
        "start_time": "2023-02-12T17:00:57.427Z"
      },
      {
        "duration": 3,
        "start_time": "2023-02-12T17:00:57.788Z"
      },
      {
        "duration": 9,
        "start_time": "2023-02-12T17:00:57.794Z"
      },
      {
        "duration": 7,
        "start_time": "2023-02-12T17:00:57.805Z"
      },
      {
        "duration": 17,
        "start_time": "2023-02-12T17:00:57.814Z"
      },
      {
        "duration": 70,
        "start_time": "2023-02-12T17:00:57.833Z"
      },
      {
        "duration": 15,
        "start_time": "2023-02-12T17:00:57.906Z"
      },
      {
        "duration": 1427,
        "start_time": "2023-02-12T17:06:17.943Z"
      },
      {
        "duration": 28,
        "start_time": "2023-02-12T17:06:19.372Z"
      },
      {
        "duration": 14,
        "start_time": "2023-02-12T17:06:19.401Z"
      },
      {
        "duration": 13,
        "start_time": "2023-02-12T17:06:19.417Z"
      },
      {
        "duration": 598,
        "start_time": "2023-02-12T17:06:19.432Z"
      },
      {
        "duration": 473,
        "start_time": "2023-02-12T17:06:20.031Z"
      },
      {
        "duration": 19,
        "start_time": "2023-02-12T17:06:20.506Z"
      },
      {
        "duration": 356,
        "start_time": "2023-02-12T17:06:20.527Z"
      },
      {
        "duration": 3,
        "start_time": "2023-02-12T17:06:20.885Z"
      },
      {
        "duration": 14,
        "start_time": "2023-02-12T17:06:20.890Z"
      },
      {
        "duration": 6,
        "start_time": "2023-02-12T17:06:20.905Z"
      },
      {
        "duration": 8,
        "start_time": "2023-02-12T17:06:20.913Z"
      },
      {
        "duration": 26,
        "start_time": "2023-02-12T17:06:20.922Z"
      },
      {
        "duration": 16,
        "start_time": "2023-02-12T17:06:21.002Z"
      },
      {
        "duration": 1442,
        "start_time": "2023-02-12T17:23:37.728Z"
      },
      {
        "duration": 28,
        "start_time": "2023-02-12T17:23:39.172Z"
      },
      {
        "duration": 17,
        "start_time": "2023-02-12T17:23:39.201Z"
      },
      {
        "duration": 16,
        "start_time": "2023-02-12T17:23:39.224Z"
      },
      {
        "duration": 599,
        "start_time": "2023-02-12T17:23:39.243Z"
      },
      {
        "duration": 474,
        "start_time": "2023-02-12T17:23:39.844Z"
      },
      {
        "duration": 19,
        "start_time": "2023-02-12T17:23:40.319Z"
      },
      {
        "duration": 359,
        "start_time": "2023-02-12T17:23:40.340Z"
      },
      {
        "duration": 3,
        "start_time": "2023-02-12T17:23:40.701Z"
      },
      {
        "duration": 5,
        "start_time": "2023-02-12T17:23:40.706Z"
      },
      {
        "duration": 7,
        "start_time": "2023-02-12T17:23:40.713Z"
      },
      {
        "duration": 7,
        "start_time": "2023-02-12T17:23:40.722Z"
      },
      {
        "duration": 73,
        "start_time": "2023-02-12T17:23:40.731Z"
      },
      {
        "duration": 13,
        "start_time": "2023-02-12T17:23:40.807Z"
      },
      {
        "duration": 1503,
        "start_time": "2023-02-12T17:27:16.174Z"
      },
      {
        "duration": 27,
        "start_time": "2023-02-12T17:27:17.678Z"
      },
      {
        "duration": 12,
        "start_time": "2023-02-12T17:27:17.707Z"
      },
      {
        "duration": 11,
        "start_time": "2023-02-12T17:27:17.722Z"
      },
      {
        "duration": 608,
        "start_time": "2023-02-12T17:27:17.734Z"
      },
      {
        "duration": 493,
        "start_time": "2023-02-12T17:27:18.343Z"
      },
      {
        "duration": 17,
        "start_time": "2023-02-12T17:27:18.838Z"
      },
      {
        "duration": 421,
        "start_time": "2023-02-12T17:27:18.857Z"
      },
      {
        "duration": 3,
        "start_time": "2023-02-12T17:27:19.280Z"
      },
      {
        "duration": 18,
        "start_time": "2023-02-12T17:27:19.285Z"
      },
      {
        "duration": 5,
        "start_time": "2023-02-12T17:27:19.305Z"
      },
      {
        "duration": 7,
        "start_time": "2023-02-12T17:27:19.312Z"
      },
      {
        "duration": 26,
        "start_time": "2023-02-12T17:27:19.320Z"
      },
      {
        "duration": 17,
        "start_time": "2023-02-12T17:27:19.404Z"
      },
      {
        "duration": 1507,
        "start_time": "2023-02-12T18:24:12.862Z"
      },
      {
        "duration": 27,
        "start_time": "2023-02-12T18:24:14.371Z"
      },
      {
        "duration": 13,
        "start_time": "2023-02-12T18:24:14.400Z"
      },
      {
        "duration": 12,
        "start_time": "2023-02-12T18:24:14.415Z"
      },
      {
        "duration": 636,
        "start_time": "2023-02-12T18:24:14.429Z"
      },
      {
        "duration": 496,
        "start_time": "2023-02-12T18:24:15.067Z"
      },
      {
        "duration": 19,
        "start_time": "2023-02-12T18:24:15.565Z"
      },
      {
        "duration": 373,
        "start_time": "2023-02-12T18:24:15.586Z"
      },
      {
        "duration": 3,
        "start_time": "2023-02-12T18:24:15.961Z"
      },
      {
        "duration": 6,
        "start_time": "2023-02-12T18:24:15.967Z"
      },
      {
        "duration": 7,
        "start_time": "2023-02-12T18:24:15.975Z"
      },
      {
        "duration": 20,
        "start_time": "2023-02-12T18:24:15.983Z"
      },
      {
        "duration": 14,
        "start_time": "2023-02-12T18:24:16.005Z"
      },
      {
        "duration": 88,
        "start_time": "2023-02-12T18:24:16.021Z"
      }
    ],
    "kernelspec": {
      "display_name": "Python 3 (ipykernel)",
      "language": "python",
      "name": "python3"
    },
    "language_info": {
      "codemirror_mode": {
        "name": "ipython",
        "version": 3
      },
      "file_extension": ".py",
      "mimetype": "text/x-python",
      "name": "python",
      "nbconvert_exporter": "python",
      "pygments_lexer": "ipython3",
      "version": "3.9.5"
    },
    "toc": {
      "base_numbering": 1,
      "nav_menu": {},
      "number_sections": true,
      "sideBar": true,
      "skip_h1_title": true,
      "title_cell": "Содержание",
      "title_sidebar": "Contents",
      "toc_cell": true,
      "toc_position": {
        "height": "calc(100% - 180px)",
        "left": "10px",
        "top": "150px",
        "width": "302.188px"
      },
      "toc_section_display": true,
      "toc_window_display": true
    },
    "colab": {
      "provenance": [],
      "toc_visible": true
    }
  },
  "nbformat": 4,
  "nbformat_minor": 0
}