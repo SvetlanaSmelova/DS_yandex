{
  "cells": [
    {
      "cell_type": "markdown",
      "metadata": {
        "id": "HyyHJmNYOcod"
      },
      "source": [
        "# Отток клиентов банка"
      ]
    },
    {
      "cell_type": "markdown",
      "metadata": {
        "toc": true,
        "id": "xKHuTspTOcoc"
      },
      "source": [
        "<h1>Содержание<span class=\"tocSkip\"></span></h1>\n",
        "<div class=\"toc\"><ul class=\"toc-item\"><li><span><a href=\"#Подготовка-данных\" data-toc-modified-id=\"Подготовка-данных-1\"><span class=\"toc-item-num\">1&nbsp;&nbsp;</span>Подготовка данных</a></span><ul class=\"toc-item\"><li><span><a href=\"#Общие-сведения-о-полученных-данных.\" data-toc-modified-id=\"Общие-сведения-о-полученных-данных.-1.1\"><span class=\"toc-item-num\">1.1&nbsp;&nbsp;</span>Общие сведения о полученных данных.</a></span></li><li><span><a href=\"#Распределение-клиентов-по-разным-параметрам.\" data-toc-modified-id=\"Распределение-клиентов-по-разным-параметрам.-1.2\"><span class=\"toc-item-num\">1.2&nbsp;&nbsp;</span>Распределение клиентов по разным параметрам.</a></span></li><li><span><a href=\"#Преобразование-данных.\" data-toc-modified-id=\"Преобразование-данных.-1.3\"><span class=\"toc-item-num\">1.3&nbsp;&nbsp;</span>Преобразование данных.</a></span></li></ul></li><li><span><a href=\"#Исследование-задачи\" data-toc-modified-id=\"Исследование-задачи-2\"><span class=\"toc-item-num\">2&nbsp;&nbsp;</span>Исследование задачи</a></span><ul class=\"toc-item\"><li><span><a href=\"#Логистическая-регрессия\" data-toc-modified-id=\"Логистическая-регрессия-2.1\"><span class=\"toc-item-num\">2.1&nbsp;&nbsp;</span>Логистическая регрессия</a></span></li><li><span><a href=\"#Решающее-дерево\" data-toc-modified-id=\"Решающее-дерево-2.2\"><span class=\"toc-item-num\">2.2&nbsp;&nbsp;</span>Решающее дерево</a></span></li><li><span><a href=\"#Случайный-лес-решающих-деревьев\" data-toc-modified-id=\"Случайный-лес-решающих-деревьев-2.3\"><span class=\"toc-item-num\">2.3&nbsp;&nbsp;</span>Случайный лес решающих деревьев</a></span></li></ul></li><li><span><a href=\"#Борьба-с-дисбалансом\" data-toc-modified-id=\"Борьба-с-дисбалансом-3\"><span class=\"toc-item-num\">3&nbsp;&nbsp;</span>Борьба с дисбалансом</a></span><ul class=\"toc-item\"><li><span><a href=\"#Вес-класса.\" data-toc-modified-id=\"Вес-класса.-3.1\"><span class=\"toc-item-num\">3.1&nbsp;&nbsp;</span>Вес класса.</a></span></li><li><span><a href=\"#Увеличение-выборки\" data-toc-modified-id=\"Увеличение-выборки-3.2\"><span class=\"toc-item-num\">3.2&nbsp;&nbsp;</span>Увеличение выборки</a></span></li><li><span><a href=\"#Уменьшение-выборки\" data-toc-modified-id=\"Уменьшение-выборки-3.3\"><span class=\"toc-item-num\">3.3&nbsp;&nbsp;</span>Уменьшение выборки</a></span></li></ul></li><li><span><a href=\"#Тестирование-модели\" data-toc-modified-id=\"Тестирование-модели-4\"><span class=\"toc-item-num\">4&nbsp;&nbsp;</span>Тестирование модели</a></span></li><li><span><a href=\"#Чек-лист-готовности-проекта\" data-toc-modified-id=\"Чек-лист-готовности-проекта-5\"><span class=\"toc-item-num\">5&nbsp;&nbsp;</span>Чек-лист готовности проекта</a></span></li></ul></div>"
      ]
    },
    {
      "cell_type": "markdown",
      "metadata": {
        "id": "jxnQCXG0Ocoe"
      },
      "source": [
        "<h1>Описание проекта</h1>\n",
        "От маркетологов «Бета-Банка» поступило техническое задание на исследование оттока клиентов для сохранения текущих клиенотв.\n",
        "\n",
        "По заданию требуется спрогнозировать, уйдёт клиент из банка в ближайшее время или нет на основании исторических данных о поведении клиентов и расторжении договоров с банком. Необходимо построить модель с предельно большим значением *F1*-меры( не менее 0.59).\n",
        "\n",
        "Дополнительно рассмотреть *AUC-ROC* и *Recall*."
      ]
    },
    {
      "cell_type": "markdown",
      "metadata": {
        "id": "arZTdXtlOcof"
      },
      "source": [
        "Ход проведения исследования:\n",
        "1. Изучение пердоставленных данных и подготовка к дальнейшим исследованиям.\n",
        "3. Сравнение разных моделей в зависимости от гиперпараметров.\n",
        "4. Проверка качества выбранной модели.\n",
        "5. Проверка модели на вменяемость."
      ]
    },
    {
      "cell_type": "markdown",
      "metadata": {
        "id": "NJRKSye5Ocoh"
      },
      "source": [
        "## Подготовка данных"
      ]
    },
    {
      "cell_type": "code",
      "execution_count": 1,
      "metadata": {
        "id": "kc8rzAGPOcoj"
      },
      "outputs": [],
      "source": [
        "import pandas as pd \n",
        "import matplotlib.pyplot as plt\n",
        "import numpy as np\n",
        "from sklearn.model_selection import train_test_split\n",
        "from sklearn.tree import DecisionTreeClassifier\n",
        "from sklearn.ensemble import RandomForestClassifier\n",
        "from sklearn.linear_model import LogisticRegression\n",
        "from sklearn.preprocessing import StandardScaler\n",
        "from joblib import dump\n",
        "from sklearn.metrics import accuracy_score\n",
        "from sklearn.model_selection import train_test_split\n",
        "from sklearn.utils import shuffle\n",
        "from sklearn. metrics import f1_score\n",
        "from sklearn.metrics import roc_auc_score\n",
        "from sklearn.metrics import recall_score"
      ]
    },
    {
      "cell_type": "code",
      "execution_count": 2,
      "metadata": {
        "id": "jJOSFmzGOcok"
      },
      "outputs": [],
      "source": [
        "try:\n",
        "    data = pd.read_csv('/datasets/Churn.csv')\n",
        "except:\n",
        "    data = pd.read_csv('https://code.s3.yandex.net/datasets/Churn.csv')"
      ]
    },
    {
      "cell_type": "markdown",
      "metadata": {
        "id": "6cYabLTOOcol"
      },
      "source": [
        "### Общие сведения о полученных данных."
      ]
    },
    {
      "cell_type": "code",
      "execution_count": 3,
      "metadata": {
        "colab": {
          "base_uri": "https://localhost:8080/",
          "height": 270
        },
        "id": "onVYY2NEOcol",
        "outputId": "189aa0e6-c29d-4138-ceed-b6a97b8eca08"
      },
      "outputs": [
        {
          "output_type": "execute_result",
          "data": {
            "text/plain": [
              "   RowNumber  CustomerId   Surname  CreditScore Geography  Gender  Age  \\\n",
              "0          1    15634602  Hargrave          619    France  Female   42   \n",
              "1          2    15647311      Hill          608     Spain  Female   41   \n",
              "2          3    15619304      Onio          502    France  Female   42   \n",
              "3          4    15701354      Boni          699    France  Female   39   \n",
              "4          5    15737888  Mitchell          850     Spain  Female   43   \n",
              "\n",
              "   Tenure    Balance  NumOfProducts  HasCrCard  IsActiveMember  \\\n",
              "0     2.0       0.00              1          1               1   \n",
              "1     1.0   83807.86              1          0               1   \n",
              "2     8.0  159660.80              3          1               0   \n",
              "3     1.0       0.00              2          0               0   \n",
              "4     2.0  125510.82              1          1               1   \n",
              "\n",
              "   EstimatedSalary  Exited  \n",
              "0        101348.88       1  \n",
              "1        112542.58       0  \n",
              "2        113931.57       1  \n",
              "3         93826.63       0  \n",
              "4         79084.10       0  "
            ],
            "text/html": [
              "\n",
              "  <div id=\"df-bae617ea-f358-4990-8d68-f676d45aacae\">\n",
              "    <div class=\"colab-df-container\">\n",
              "      <div>\n",
              "<style scoped>\n",
              "    .dataframe tbody tr th:only-of-type {\n",
              "        vertical-align: middle;\n",
              "    }\n",
              "\n",
              "    .dataframe tbody tr th {\n",
              "        vertical-align: top;\n",
              "    }\n",
              "\n",
              "    .dataframe thead th {\n",
              "        text-align: right;\n",
              "    }\n",
              "</style>\n",
              "<table border=\"1\" class=\"dataframe\">\n",
              "  <thead>\n",
              "    <tr style=\"text-align: right;\">\n",
              "      <th></th>\n",
              "      <th>RowNumber</th>\n",
              "      <th>CustomerId</th>\n",
              "      <th>Surname</th>\n",
              "      <th>CreditScore</th>\n",
              "      <th>Geography</th>\n",
              "      <th>Gender</th>\n",
              "      <th>Age</th>\n",
              "      <th>Tenure</th>\n",
              "      <th>Balance</th>\n",
              "      <th>NumOfProducts</th>\n",
              "      <th>HasCrCard</th>\n",
              "      <th>IsActiveMember</th>\n",
              "      <th>EstimatedSalary</th>\n",
              "      <th>Exited</th>\n",
              "    </tr>\n",
              "  </thead>\n",
              "  <tbody>\n",
              "    <tr>\n",
              "      <th>0</th>\n",
              "      <td>1</td>\n",
              "      <td>15634602</td>\n",
              "      <td>Hargrave</td>\n",
              "      <td>619</td>\n",
              "      <td>France</td>\n",
              "      <td>Female</td>\n",
              "      <td>42</td>\n",
              "      <td>2.0</td>\n",
              "      <td>0.00</td>\n",
              "      <td>1</td>\n",
              "      <td>1</td>\n",
              "      <td>1</td>\n",
              "      <td>101348.88</td>\n",
              "      <td>1</td>\n",
              "    </tr>\n",
              "    <tr>\n",
              "      <th>1</th>\n",
              "      <td>2</td>\n",
              "      <td>15647311</td>\n",
              "      <td>Hill</td>\n",
              "      <td>608</td>\n",
              "      <td>Spain</td>\n",
              "      <td>Female</td>\n",
              "      <td>41</td>\n",
              "      <td>1.0</td>\n",
              "      <td>83807.86</td>\n",
              "      <td>1</td>\n",
              "      <td>0</td>\n",
              "      <td>1</td>\n",
              "      <td>112542.58</td>\n",
              "      <td>0</td>\n",
              "    </tr>\n",
              "    <tr>\n",
              "      <th>2</th>\n",
              "      <td>3</td>\n",
              "      <td>15619304</td>\n",
              "      <td>Onio</td>\n",
              "      <td>502</td>\n",
              "      <td>France</td>\n",
              "      <td>Female</td>\n",
              "      <td>42</td>\n",
              "      <td>8.0</td>\n",
              "      <td>159660.80</td>\n",
              "      <td>3</td>\n",
              "      <td>1</td>\n",
              "      <td>0</td>\n",
              "      <td>113931.57</td>\n",
              "      <td>1</td>\n",
              "    </tr>\n",
              "    <tr>\n",
              "      <th>3</th>\n",
              "      <td>4</td>\n",
              "      <td>15701354</td>\n",
              "      <td>Boni</td>\n",
              "      <td>699</td>\n",
              "      <td>France</td>\n",
              "      <td>Female</td>\n",
              "      <td>39</td>\n",
              "      <td>1.0</td>\n",
              "      <td>0.00</td>\n",
              "      <td>2</td>\n",
              "      <td>0</td>\n",
              "      <td>0</td>\n",
              "      <td>93826.63</td>\n",
              "      <td>0</td>\n",
              "    </tr>\n",
              "    <tr>\n",
              "      <th>4</th>\n",
              "      <td>5</td>\n",
              "      <td>15737888</td>\n",
              "      <td>Mitchell</td>\n",
              "      <td>850</td>\n",
              "      <td>Spain</td>\n",
              "      <td>Female</td>\n",
              "      <td>43</td>\n",
              "      <td>2.0</td>\n",
              "      <td>125510.82</td>\n",
              "      <td>1</td>\n",
              "      <td>1</td>\n",
              "      <td>1</td>\n",
              "      <td>79084.10</td>\n",
              "      <td>0</td>\n",
              "    </tr>\n",
              "  </tbody>\n",
              "</table>\n",
              "</div>\n",
              "      <button class=\"colab-df-convert\" onclick=\"convertToInteractive('df-bae617ea-f358-4990-8d68-f676d45aacae')\"\n",
              "              title=\"Convert this dataframe to an interactive table.\"\n",
              "              style=\"display:none;\">\n",
              "        \n",
              "  <svg xmlns=\"http://www.w3.org/2000/svg\" height=\"24px\"viewBox=\"0 0 24 24\"\n",
              "       width=\"24px\">\n",
              "    <path d=\"M0 0h24v24H0V0z\" fill=\"none\"/>\n",
              "    <path d=\"M18.56 5.44l.94 2.06.94-2.06 2.06-.94-2.06-.94-.94-2.06-.94 2.06-2.06.94zm-11 1L8.5 8.5l.94-2.06 2.06-.94-2.06-.94L8.5 2.5l-.94 2.06-2.06.94zm10 10l.94 2.06.94-2.06 2.06-.94-2.06-.94-.94-2.06-.94 2.06-2.06.94z\"/><path d=\"M17.41 7.96l-1.37-1.37c-.4-.4-.92-.59-1.43-.59-.52 0-1.04.2-1.43.59L10.3 9.45l-7.72 7.72c-.78.78-.78 2.05 0 2.83L4 21.41c.39.39.9.59 1.41.59.51 0 1.02-.2 1.41-.59l7.78-7.78 2.81-2.81c.8-.78.8-2.07 0-2.86zM5.41 20L4 18.59l7.72-7.72 1.47 1.35L5.41 20z\"/>\n",
              "  </svg>\n",
              "      </button>\n",
              "      \n",
              "  <style>\n",
              "    .colab-df-container {\n",
              "      display:flex;\n",
              "      flex-wrap:wrap;\n",
              "      gap: 12px;\n",
              "    }\n",
              "\n",
              "    .colab-df-convert {\n",
              "      background-color: #E8F0FE;\n",
              "      border: none;\n",
              "      border-radius: 50%;\n",
              "      cursor: pointer;\n",
              "      display: none;\n",
              "      fill: #1967D2;\n",
              "      height: 32px;\n",
              "      padding: 0 0 0 0;\n",
              "      width: 32px;\n",
              "    }\n",
              "\n",
              "    .colab-df-convert:hover {\n",
              "      background-color: #E2EBFA;\n",
              "      box-shadow: 0px 1px 2px rgba(60, 64, 67, 0.3), 0px 1px 3px 1px rgba(60, 64, 67, 0.15);\n",
              "      fill: #174EA6;\n",
              "    }\n",
              "\n",
              "    [theme=dark] .colab-df-convert {\n",
              "      background-color: #3B4455;\n",
              "      fill: #D2E3FC;\n",
              "    }\n",
              "\n",
              "    [theme=dark] .colab-df-convert:hover {\n",
              "      background-color: #434B5C;\n",
              "      box-shadow: 0px 1px 3px 1px rgba(0, 0, 0, 0.15);\n",
              "      filter: drop-shadow(0px 1px 2px rgba(0, 0, 0, 0.3));\n",
              "      fill: #FFFFFF;\n",
              "    }\n",
              "  </style>\n",
              "\n",
              "      <script>\n",
              "        const buttonEl =\n",
              "          document.querySelector('#df-bae617ea-f358-4990-8d68-f676d45aacae button.colab-df-convert');\n",
              "        buttonEl.style.display =\n",
              "          google.colab.kernel.accessAllowed ? 'block' : 'none';\n",
              "\n",
              "        async function convertToInteractive(key) {\n",
              "          const element = document.querySelector('#df-bae617ea-f358-4990-8d68-f676d45aacae');\n",
              "          const dataTable =\n",
              "            await google.colab.kernel.invokeFunction('convertToInteractive',\n",
              "                                                     [key], {});\n",
              "          if (!dataTable) return;\n",
              "\n",
              "          const docLinkHtml = 'Like what you see? Visit the ' +\n",
              "            '<a target=\"_blank\" href=https://colab.research.google.com/notebooks/data_table.ipynb>data table notebook</a>'\n",
              "            + ' to learn more about interactive tables.';\n",
              "          element.innerHTML = '';\n",
              "          dataTable['output_type'] = 'display_data';\n",
              "          await google.colab.output.renderOutput(dataTable, element);\n",
              "          const docLink = document.createElement('div');\n",
              "          docLink.innerHTML = docLinkHtml;\n",
              "          element.appendChild(docLink);\n",
              "        }\n",
              "      </script>\n",
              "    </div>\n",
              "  </div>\n",
              "  "
            ]
          },
          "metadata": {},
          "execution_count": 3
        }
      ],
      "source": [
        "data.head()"
      ]
    },
    {
      "cell_type": "code",
      "execution_count": 4,
      "metadata": {
        "colab": {
          "base_uri": "https://localhost:8080/"
        },
        "id": "xlyLqKlZOcom",
        "outputId": "17a05335-16e8-4321-ecc7-288c4d2cfda6"
      },
      "outputs": [
        {
          "output_type": "stream",
          "name": "stdout",
          "text": [
            "<class 'pandas.core.frame.DataFrame'>\n",
            "RangeIndex: 10000 entries, 0 to 9999\n",
            "Data columns (total 14 columns):\n",
            " #   Column           Non-Null Count  Dtype  \n",
            "---  ------           --------------  -----  \n",
            " 0   RowNumber        10000 non-null  int64  \n",
            " 1   CustomerId       10000 non-null  int64  \n",
            " 2   Surname          10000 non-null  object \n",
            " 3   CreditScore      10000 non-null  int64  \n",
            " 4   Geography        10000 non-null  object \n",
            " 5   Gender           10000 non-null  object \n",
            " 6   Age              10000 non-null  int64  \n",
            " 7   Tenure           9091 non-null   float64\n",
            " 8   Balance          10000 non-null  float64\n",
            " 9   NumOfProducts    10000 non-null  int64  \n",
            " 10  HasCrCard        10000 non-null  int64  \n",
            " 11  IsActiveMember   10000 non-null  int64  \n",
            " 12  EstimatedSalary  10000 non-null  float64\n",
            " 13  Exited           10000 non-null  int64  \n",
            "dtypes: float64(3), int64(8), object(3)\n",
            "memory usage: 1.1+ MB\n"
          ]
        }
      ],
      "source": [
        "data.info()"
      ]
    },
    {
      "cell_type": "markdown",
      "metadata": {
        "id": "8u1CvG-GOcom"
      },
      "source": [
        "В нашем распоряжении таблица из 10 тысяч строк со следующимим данными:\n",
        "- личные данные(уникальный индификатор, фамилия, страна проживания, пол и возраст)\n",
        "- финансовые данные(кредитный рейтинг, продолжительность работы с банком, баланс на счете, количество используемых продуктов, наличие кредитной карты и активности и предполагаемый доход)\n",
        "\n",
        "В столбце со значением продолжительности работы с банком есть пропущенные данные. Это может быть связано как с тем, что клиент с банком меньше года, так и с ошибками выгрузки данных. Так как пропусков 9,1%(909 строк), рассмотрим, нет ли закономерности."
      ]
    },
    {
      "cell_type": "code",
      "execution_count": 5,
      "metadata": {
        "colab": {
          "base_uri": "https://localhost:8080/"
        },
        "id": "p6i7ZymEOcon",
        "outputId": "93c5246f-3317-4a9a-9c9c-8bcdc4b2d497"
      },
      "outputs": [
        {
          "output_type": "execute_result",
          "data": {
            "text/plain": [
              "array([ 2.,  1.,  8.,  7.,  4.,  6.,  3., 10.,  5.,  9.,  0., nan])"
            ]
          },
          "metadata": {},
          "execution_count": 5
        }
      ],
      "source": [
        "#вывод уникальных значений столбца\n",
        "data['Tenure'].unique()"
      ]
    },
    {
      "cell_type": "code",
      "execution_count": 6,
      "metadata": {
        "colab": {
          "base_uri": "https://localhost:8080/",
          "height": 741
        },
        "id": "806WjtpROcon",
        "outputId": "f8fac004-7488-4a13-e069-a9df0caa3df7"
      },
      "outputs": [
        {
          "output_type": "execute_result",
          "data": {
            "text/plain": [
              "     RowNumber  CustomerId    Surname  CreditScore Geography  Gender  Age  \\\n",
              "30          31    15589475    Azikiwe          591     Spain  Female   39   \n",
              "48          49    15766205        Yin          550   Germany    Male   38   \n",
              "51          52    15768193  Trevisani          585   Germany    Male   36   \n",
              "53          54    15702298   Parkhill          655   Germany    Male   41   \n",
              "60          61    15651280     Hunter          742   Germany    Male   35   \n",
              "82          83    15641732      Mills          543    France  Female   36   \n",
              "85          86    15805254    Ndukaku          652     Spain  Female   75   \n",
              "94          95    15676966      Capon          730     Spain    Male   42   \n",
              "99         100    15633059    Fanucci          413    France    Male   34   \n",
              "111        112    15665790   Rowntree          538   Germany    Male   39   \n",
              "123        124    15760085  Calabresi          684   Germany  Female   48   \n",
              "125        126    15627360     Fuller          432    France    Male   42   \n",
              "146        147    15705707  Bennelong          635     Spain  Female   29   \n",
              "162        163    15630910     Treacy          800    France  Female   49   \n",
              "173        174    15586310       Ting          578    France    Male   30   \n",
              "180        181    15716334     Rozier          850     Spain  Female   45   \n",
              "217        218    15786308     Millar          730     Spain  Female   33   \n",
              "222        223    15727829   McIntyre          567    France    Male   42   \n",
              "225        226    15699029     Bagley          670    France    Male   37   \n",
              "237        238    15764866     Synnot          539   Germany  Female   43   \n",
              "\n",
              "     Tenure    Balance  NumOfProducts  HasCrCard  IsActiveMember  \\\n",
              "30      NaN       0.00              3          1               0   \n",
              "48      NaN  103391.38              1          0               1   \n",
              "51      NaN  146050.97              2          0               0   \n",
              "53      NaN  125561.97              1          0               0   \n",
              "60      NaN  136857.00              1          0               0   \n",
              "82      NaN       0.00              2          0               0   \n",
              "85      NaN       0.00              2          1               1   \n",
              "94      NaN       0.00              2          0               1   \n",
              "99      NaN       0.00              2          0               0   \n",
              "111     NaN  108055.10              2          1               0   \n",
              "123     NaN  126384.42              1          1               1   \n",
              "125     NaN  152603.45              1          1               0   \n",
              "146     NaN  138296.94              2          1               0   \n",
              "162     NaN  108007.36              1          0               0   \n",
              "173     NaN  169462.09              1          1               0   \n",
              "180     NaN  122311.21              1          1               1   \n",
              "217     NaN       0.00              2          0               0   \n",
              "222     NaN       0.00              2          1               1   \n",
              "225     NaN  170557.91              2          1               0   \n",
              "237     NaN  116220.50              3          1               0   \n",
              "\n",
              "     EstimatedSalary  Exited  \n",
              "30         140469.38       1  \n",
              "48          90878.13       0  \n",
              "51          86424.57       0  \n",
              "53         164040.94       1  \n",
              "60          84509.57       0  \n",
              "82          26019.59       0  \n",
              "85         114675.75       0  \n",
              "94          85982.47       0  \n",
              "99           6534.18       0  \n",
              "111         27231.26       0  \n",
              "123        198129.36       0  \n",
              "125        110265.24       1  \n",
              "146        141075.51       0  \n",
              "162         47125.11       0  \n",
              "173        112187.11       0  \n",
              "180         19482.50       0  \n",
              "217        176576.62       0  \n",
              "222        167984.61       0  \n",
              "225        198252.88       0  \n",
              "237         55803.96       1  "
            ],
            "text/html": [
              "\n",
              "  <div id=\"df-7169bd17-ceea-4ef6-b605-f7ddf99b099c\">\n",
              "    <div class=\"colab-df-container\">\n",
              "      <div>\n",
              "<style scoped>\n",
              "    .dataframe tbody tr th:only-of-type {\n",
              "        vertical-align: middle;\n",
              "    }\n",
              "\n",
              "    .dataframe tbody tr th {\n",
              "        vertical-align: top;\n",
              "    }\n",
              "\n",
              "    .dataframe thead th {\n",
              "        text-align: right;\n",
              "    }\n",
              "</style>\n",
              "<table border=\"1\" class=\"dataframe\">\n",
              "  <thead>\n",
              "    <tr style=\"text-align: right;\">\n",
              "      <th></th>\n",
              "      <th>RowNumber</th>\n",
              "      <th>CustomerId</th>\n",
              "      <th>Surname</th>\n",
              "      <th>CreditScore</th>\n",
              "      <th>Geography</th>\n",
              "      <th>Gender</th>\n",
              "      <th>Age</th>\n",
              "      <th>Tenure</th>\n",
              "      <th>Balance</th>\n",
              "      <th>NumOfProducts</th>\n",
              "      <th>HasCrCard</th>\n",
              "      <th>IsActiveMember</th>\n",
              "      <th>EstimatedSalary</th>\n",
              "      <th>Exited</th>\n",
              "    </tr>\n",
              "  </thead>\n",
              "  <tbody>\n",
              "    <tr>\n",
              "      <th>30</th>\n",
              "      <td>31</td>\n",
              "      <td>15589475</td>\n",
              "      <td>Azikiwe</td>\n",
              "      <td>591</td>\n",
              "      <td>Spain</td>\n",
              "      <td>Female</td>\n",
              "      <td>39</td>\n",
              "      <td>NaN</td>\n",
              "      <td>0.00</td>\n",
              "      <td>3</td>\n",
              "      <td>1</td>\n",
              "      <td>0</td>\n",
              "      <td>140469.38</td>\n",
              "      <td>1</td>\n",
              "    </tr>\n",
              "    <tr>\n",
              "      <th>48</th>\n",
              "      <td>49</td>\n",
              "      <td>15766205</td>\n",
              "      <td>Yin</td>\n",
              "      <td>550</td>\n",
              "      <td>Germany</td>\n",
              "      <td>Male</td>\n",
              "      <td>38</td>\n",
              "      <td>NaN</td>\n",
              "      <td>103391.38</td>\n",
              "      <td>1</td>\n",
              "      <td>0</td>\n",
              "      <td>1</td>\n",
              "      <td>90878.13</td>\n",
              "      <td>0</td>\n",
              "    </tr>\n",
              "    <tr>\n",
              "      <th>51</th>\n",
              "      <td>52</td>\n",
              "      <td>15768193</td>\n",
              "      <td>Trevisani</td>\n",
              "      <td>585</td>\n",
              "      <td>Germany</td>\n",
              "      <td>Male</td>\n",
              "      <td>36</td>\n",
              "      <td>NaN</td>\n",
              "      <td>146050.97</td>\n",
              "      <td>2</td>\n",
              "      <td>0</td>\n",
              "      <td>0</td>\n",
              "      <td>86424.57</td>\n",
              "      <td>0</td>\n",
              "    </tr>\n",
              "    <tr>\n",
              "      <th>53</th>\n",
              "      <td>54</td>\n",
              "      <td>15702298</td>\n",
              "      <td>Parkhill</td>\n",
              "      <td>655</td>\n",
              "      <td>Germany</td>\n",
              "      <td>Male</td>\n",
              "      <td>41</td>\n",
              "      <td>NaN</td>\n",
              "      <td>125561.97</td>\n",
              "      <td>1</td>\n",
              "      <td>0</td>\n",
              "      <td>0</td>\n",
              "      <td>164040.94</td>\n",
              "      <td>1</td>\n",
              "    </tr>\n",
              "    <tr>\n",
              "      <th>60</th>\n",
              "      <td>61</td>\n",
              "      <td>15651280</td>\n",
              "      <td>Hunter</td>\n",
              "      <td>742</td>\n",
              "      <td>Germany</td>\n",
              "      <td>Male</td>\n",
              "      <td>35</td>\n",
              "      <td>NaN</td>\n",
              "      <td>136857.00</td>\n",
              "      <td>1</td>\n",
              "      <td>0</td>\n",
              "      <td>0</td>\n",
              "      <td>84509.57</td>\n",
              "      <td>0</td>\n",
              "    </tr>\n",
              "    <tr>\n",
              "      <th>82</th>\n",
              "      <td>83</td>\n",
              "      <td>15641732</td>\n",
              "      <td>Mills</td>\n",
              "      <td>543</td>\n",
              "      <td>France</td>\n",
              "      <td>Female</td>\n",
              "      <td>36</td>\n",
              "      <td>NaN</td>\n",
              "      <td>0.00</td>\n",
              "      <td>2</td>\n",
              "      <td>0</td>\n",
              "      <td>0</td>\n",
              "      <td>26019.59</td>\n",
              "      <td>0</td>\n",
              "    </tr>\n",
              "    <tr>\n",
              "      <th>85</th>\n",
              "      <td>86</td>\n",
              "      <td>15805254</td>\n",
              "      <td>Ndukaku</td>\n",
              "      <td>652</td>\n",
              "      <td>Spain</td>\n",
              "      <td>Female</td>\n",
              "      <td>75</td>\n",
              "      <td>NaN</td>\n",
              "      <td>0.00</td>\n",
              "      <td>2</td>\n",
              "      <td>1</td>\n",
              "      <td>1</td>\n",
              "      <td>114675.75</td>\n",
              "      <td>0</td>\n",
              "    </tr>\n",
              "    <tr>\n",
              "      <th>94</th>\n",
              "      <td>95</td>\n",
              "      <td>15676966</td>\n",
              "      <td>Capon</td>\n",
              "      <td>730</td>\n",
              "      <td>Spain</td>\n",
              "      <td>Male</td>\n",
              "      <td>42</td>\n",
              "      <td>NaN</td>\n",
              "      <td>0.00</td>\n",
              "      <td>2</td>\n",
              "      <td>0</td>\n",
              "      <td>1</td>\n",
              "      <td>85982.47</td>\n",
              "      <td>0</td>\n",
              "    </tr>\n",
              "    <tr>\n",
              "      <th>99</th>\n",
              "      <td>100</td>\n",
              "      <td>15633059</td>\n",
              "      <td>Fanucci</td>\n",
              "      <td>413</td>\n",
              "      <td>France</td>\n",
              "      <td>Male</td>\n",
              "      <td>34</td>\n",
              "      <td>NaN</td>\n",
              "      <td>0.00</td>\n",
              "      <td>2</td>\n",
              "      <td>0</td>\n",
              "      <td>0</td>\n",
              "      <td>6534.18</td>\n",
              "      <td>0</td>\n",
              "    </tr>\n",
              "    <tr>\n",
              "      <th>111</th>\n",
              "      <td>112</td>\n",
              "      <td>15665790</td>\n",
              "      <td>Rowntree</td>\n",
              "      <td>538</td>\n",
              "      <td>Germany</td>\n",
              "      <td>Male</td>\n",
              "      <td>39</td>\n",
              "      <td>NaN</td>\n",
              "      <td>108055.10</td>\n",
              "      <td>2</td>\n",
              "      <td>1</td>\n",
              "      <td>0</td>\n",
              "      <td>27231.26</td>\n",
              "      <td>0</td>\n",
              "    </tr>\n",
              "    <tr>\n",
              "      <th>123</th>\n",
              "      <td>124</td>\n",
              "      <td>15760085</td>\n",
              "      <td>Calabresi</td>\n",
              "      <td>684</td>\n",
              "      <td>Germany</td>\n",
              "      <td>Female</td>\n",
              "      <td>48</td>\n",
              "      <td>NaN</td>\n",
              "      <td>126384.42</td>\n",
              "      <td>1</td>\n",
              "      <td>1</td>\n",
              "      <td>1</td>\n",
              "      <td>198129.36</td>\n",
              "      <td>0</td>\n",
              "    </tr>\n",
              "    <tr>\n",
              "      <th>125</th>\n",
              "      <td>126</td>\n",
              "      <td>15627360</td>\n",
              "      <td>Fuller</td>\n",
              "      <td>432</td>\n",
              "      <td>France</td>\n",
              "      <td>Male</td>\n",
              "      <td>42</td>\n",
              "      <td>NaN</td>\n",
              "      <td>152603.45</td>\n",
              "      <td>1</td>\n",
              "      <td>1</td>\n",
              "      <td>0</td>\n",
              "      <td>110265.24</td>\n",
              "      <td>1</td>\n",
              "    </tr>\n",
              "    <tr>\n",
              "      <th>146</th>\n",
              "      <td>147</td>\n",
              "      <td>15705707</td>\n",
              "      <td>Bennelong</td>\n",
              "      <td>635</td>\n",
              "      <td>Spain</td>\n",
              "      <td>Female</td>\n",
              "      <td>29</td>\n",
              "      <td>NaN</td>\n",
              "      <td>138296.94</td>\n",
              "      <td>2</td>\n",
              "      <td>1</td>\n",
              "      <td>0</td>\n",
              "      <td>141075.51</td>\n",
              "      <td>0</td>\n",
              "    </tr>\n",
              "    <tr>\n",
              "      <th>162</th>\n",
              "      <td>163</td>\n",
              "      <td>15630910</td>\n",
              "      <td>Treacy</td>\n",
              "      <td>800</td>\n",
              "      <td>France</td>\n",
              "      <td>Female</td>\n",
              "      <td>49</td>\n",
              "      <td>NaN</td>\n",
              "      <td>108007.36</td>\n",
              "      <td>1</td>\n",
              "      <td>0</td>\n",
              "      <td>0</td>\n",
              "      <td>47125.11</td>\n",
              "      <td>0</td>\n",
              "    </tr>\n",
              "    <tr>\n",
              "      <th>173</th>\n",
              "      <td>174</td>\n",
              "      <td>15586310</td>\n",
              "      <td>Ting</td>\n",
              "      <td>578</td>\n",
              "      <td>France</td>\n",
              "      <td>Male</td>\n",
              "      <td>30</td>\n",
              "      <td>NaN</td>\n",
              "      <td>169462.09</td>\n",
              "      <td>1</td>\n",
              "      <td>1</td>\n",
              "      <td>0</td>\n",
              "      <td>112187.11</td>\n",
              "      <td>0</td>\n",
              "    </tr>\n",
              "    <tr>\n",
              "      <th>180</th>\n",
              "      <td>181</td>\n",
              "      <td>15716334</td>\n",
              "      <td>Rozier</td>\n",
              "      <td>850</td>\n",
              "      <td>Spain</td>\n",
              "      <td>Female</td>\n",
              "      <td>45</td>\n",
              "      <td>NaN</td>\n",
              "      <td>122311.21</td>\n",
              "      <td>1</td>\n",
              "      <td>1</td>\n",
              "      <td>1</td>\n",
              "      <td>19482.50</td>\n",
              "      <td>0</td>\n",
              "    </tr>\n",
              "    <tr>\n",
              "      <th>217</th>\n",
              "      <td>218</td>\n",
              "      <td>15786308</td>\n",
              "      <td>Millar</td>\n",
              "      <td>730</td>\n",
              "      <td>Spain</td>\n",
              "      <td>Female</td>\n",
              "      <td>33</td>\n",
              "      <td>NaN</td>\n",
              "      <td>0.00</td>\n",
              "      <td>2</td>\n",
              "      <td>0</td>\n",
              "      <td>0</td>\n",
              "      <td>176576.62</td>\n",
              "      <td>0</td>\n",
              "    </tr>\n",
              "    <tr>\n",
              "      <th>222</th>\n",
              "      <td>223</td>\n",
              "      <td>15727829</td>\n",
              "      <td>McIntyre</td>\n",
              "      <td>567</td>\n",
              "      <td>France</td>\n",
              "      <td>Male</td>\n",
              "      <td>42</td>\n",
              "      <td>NaN</td>\n",
              "      <td>0.00</td>\n",
              "      <td>2</td>\n",
              "      <td>1</td>\n",
              "      <td>1</td>\n",
              "      <td>167984.61</td>\n",
              "      <td>0</td>\n",
              "    </tr>\n",
              "    <tr>\n",
              "      <th>225</th>\n",
              "      <td>226</td>\n",
              "      <td>15699029</td>\n",
              "      <td>Bagley</td>\n",
              "      <td>670</td>\n",
              "      <td>France</td>\n",
              "      <td>Male</td>\n",
              "      <td>37</td>\n",
              "      <td>NaN</td>\n",
              "      <td>170557.91</td>\n",
              "      <td>2</td>\n",
              "      <td>1</td>\n",
              "      <td>0</td>\n",
              "      <td>198252.88</td>\n",
              "      <td>0</td>\n",
              "    </tr>\n",
              "    <tr>\n",
              "      <th>237</th>\n",
              "      <td>238</td>\n",
              "      <td>15764866</td>\n",
              "      <td>Synnot</td>\n",
              "      <td>539</td>\n",
              "      <td>Germany</td>\n",
              "      <td>Female</td>\n",
              "      <td>43</td>\n",
              "      <td>NaN</td>\n",
              "      <td>116220.50</td>\n",
              "      <td>3</td>\n",
              "      <td>1</td>\n",
              "      <td>0</td>\n",
              "      <td>55803.96</td>\n",
              "      <td>1</td>\n",
              "    </tr>\n",
              "  </tbody>\n",
              "</table>\n",
              "</div>\n",
              "      <button class=\"colab-df-convert\" onclick=\"convertToInteractive('df-7169bd17-ceea-4ef6-b605-f7ddf99b099c')\"\n",
              "              title=\"Convert this dataframe to an interactive table.\"\n",
              "              style=\"display:none;\">\n",
              "        \n",
              "  <svg xmlns=\"http://www.w3.org/2000/svg\" height=\"24px\"viewBox=\"0 0 24 24\"\n",
              "       width=\"24px\">\n",
              "    <path d=\"M0 0h24v24H0V0z\" fill=\"none\"/>\n",
              "    <path d=\"M18.56 5.44l.94 2.06.94-2.06 2.06-.94-2.06-.94-.94-2.06-.94 2.06-2.06.94zm-11 1L8.5 8.5l.94-2.06 2.06-.94-2.06-.94L8.5 2.5l-.94 2.06-2.06.94zm10 10l.94 2.06.94-2.06 2.06-.94-2.06-.94-.94-2.06-.94 2.06-2.06.94z\"/><path d=\"M17.41 7.96l-1.37-1.37c-.4-.4-.92-.59-1.43-.59-.52 0-1.04.2-1.43.59L10.3 9.45l-7.72 7.72c-.78.78-.78 2.05 0 2.83L4 21.41c.39.39.9.59 1.41.59.51 0 1.02-.2 1.41-.59l7.78-7.78 2.81-2.81c.8-.78.8-2.07 0-2.86zM5.41 20L4 18.59l7.72-7.72 1.47 1.35L5.41 20z\"/>\n",
              "  </svg>\n",
              "      </button>\n",
              "      \n",
              "  <style>\n",
              "    .colab-df-container {\n",
              "      display:flex;\n",
              "      flex-wrap:wrap;\n",
              "      gap: 12px;\n",
              "    }\n",
              "\n",
              "    .colab-df-convert {\n",
              "      background-color: #E8F0FE;\n",
              "      border: none;\n",
              "      border-radius: 50%;\n",
              "      cursor: pointer;\n",
              "      display: none;\n",
              "      fill: #1967D2;\n",
              "      height: 32px;\n",
              "      padding: 0 0 0 0;\n",
              "      width: 32px;\n",
              "    }\n",
              "\n",
              "    .colab-df-convert:hover {\n",
              "      background-color: #E2EBFA;\n",
              "      box-shadow: 0px 1px 2px rgba(60, 64, 67, 0.3), 0px 1px 3px 1px rgba(60, 64, 67, 0.15);\n",
              "      fill: #174EA6;\n",
              "    }\n",
              "\n",
              "    [theme=dark] .colab-df-convert {\n",
              "      background-color: #3B4455;\n",
              "      fill: #D2E3FC;\n",
              "    }\n",
              "\n",
              "    [theme=dark] .colab-df-convert:hover {\n",
              "      background-color: #434B5C;\n",
              "      box-shadow: 0px 1px 3px 1px rgba(0, 0, 0, 0.15);\n",
              "      filter: drop-shadow(0px 1px 2px rgba(0, 0, 0, 0.3));\n",
              "      fill: #FFFFFF;\n",
              "    }\n",
              "  </style>\n",
              "\n",
              "      <script>\n",
              "        const buttonEl =\n",
              "          document.querySelector('#df-7169bd17-ceea-4ef6-b605-f7ddf99b099c button.colab-df-convert');\n",
              "        buttonEl.style.display =\n",
              "          google.colab.kernel.accessAllowed ? 'block' : 'none';\n",
              "\n",
              "        async function convertToInteractive(key) {\n",
              "          const element = document.querySelector('#df-7169bd17-ceea-4ef6-b605-f7ddf99b099c');\n",
              "          const dataTable =\n",
              "            await google.colab.kernel.invokeFunction('convertToInteractive',\n",
              "                                                     [key], {});\n",
              "          if (!dataTable) return;\n",
              "\n",
              "          const docLinkHtml = 'Like what you see? Visit the ' +\n",
              "            '<a target=\"_blank\" href=https://colab.research.google.com/notebooks/data_table.ipynb>data table notebook</a>'\n",
              "            + ' to learn more about interactive tables.';\n",
              "          element.innerHTML = '';\n",
              "          dataTable['output_type'] = 'display_data';\n",
              "          await google.colab.output.renderOutput(dataTable, element);\n",
              "          const docLink = document.createElement('div');\n",
              "          docLink.innerHTML = docLinkHtml;\n",
              "          element.appendChild(docLink);\n",
              "        }\n",
              "      </script>\n",
              "    </div>\n",
              "  </div>\n",
              "  "
            ]
          },
          "metadata": {},
          "execution_count": 6
        }
      ],
      "source": [
        "data[data['Tenure'].isnull()].head(20)"
      ]
    },
    {
      "cell_type": "markdown",
      "metadata": {
        "id": "MG202F8LOcon"
      },
      "source": [
        "Предположение, что пропуски связаны со сроком использования банка меньше года, не подтвердилось, и не обнаружено очевидной взаимосвязи пропусков. Значит, мы не можем заменить данные пропуски на 0, также удаление данных строк может повлиять на качество работы модели. \n",
        "\n",
        "\n",
        "В дальнейшем исследовании нам не так важны уникальные данные пользователя, как личный идентификатор и фамилия, так как маловероятно, что уходят пользователи с определенной буквой или цифрой в них. Поэтому приведем таблицу к обезличенным данным."
      ]
    },
    {
      "cell_type": "code",
      "execution_count": 7,
      "metadata": {
        "id": "tZCego6POcoo"
      },
      "outputs": [],
      "source": [
        "data_anonym = data.drop(columns = ['RowNumber','CustomerId', 'Surname'],\n",
        "                        axis = 1)"
      ]
    },
    {
      "cell_type": "code",
      "execution_count": 8,
      "metadata": {
        "colab": {
          "base_uri": "https://localhost:8080/",
          "height": 1000
        },
        "id": "LPuBL-J6Ocoo",
        "outputId": "6a5714dc-6c51-4d8c-cf7a-c1f8a75a9848"
      },
      "outputs": [
        {
          "output_type": "display_data",
          "data": {
            "text/plain": [
              "<Figure size 1500x1500 with 9 Axes>"
            ],
            "image/png": "[encoded data removed]"
          },
          "metadata": {}
        }
      ],
      "source": [
        "data_anonym.hist(figsize=(15, 15))\n",
        "plt.show()"
      ]
    },
    {
      "cell_type": "code",
      "execution_count": 9,
      "metadata": {
        "colab": {
          "base_uri": "https://localhost:8080/",
          "height": 843
        },
        "id": "FfSVLvW3Ocop",
        "outputId": "f06efc7a-07b0-4063-f0ac-3dcb3b24265e"
      },
      "outputs": [
        {
          "output_type": "display_data",
          "data": {
            "text/plain": [
              "<Figure size 640x480 with 1 Axes>"
            ],
            "image/png": "[encoded data removed]"
          },
          "metadata": {}
        },
        {
          "output_type": "display_data",
          "data": {
            "text/plain": [
              "<Figure size 640x480 with 1 Axes>"
            ],
            "image/png": "[encoded data removed]"
          },
          "metadata": {}
        }
      ],
      "source": [
        "for param in ['Geography', 'Gender']:\n",
        "    data_anonym.groupby(param)[param].hist()\n",
        "    plt.show()"
      ]
    },
    {
      "cell_type": "markdown",
      "metadata": {
        "id": "Uy2ExWfbOcop"
      },
      "source": [
        "На гистограмме не видно явных аномалий значей, рассмотрим подробнее столбцы кредитный рейтинг, возраст и количество использованных продуктов."
      ]
    },
    {
      "cell_type": "code",
      "execution_count": 10,
      "metadata": {
        "colab": {
          "base_uri": "https://localhost:8080/",
          "height": 1000
        },
        "id": "3iLP1ok7Ocop",
        "outputId": "2bd7b2ce-28d1-4610-bfe7-5f9451b79d69"
      },
      "outputs": [
        {
          "output_type": "display_data",
          "data": {
            "text/plain": [
              "<Figure size 640x480 with 1 Axes>"
            ],
            "image/png": "[encoded data removed]"
          },
          "metadata": {}
        },
        {
          "output_type": "display_data",
          "data": {
            "text/plain": [
              "<Figure size 640x480 with 1 Axes>"
            ],
            "image/png": "[encoded data removed]"
          },
          "metadata": {}
        },
        {
          "output_type": "display_data",
          "data": {
            "text/plain": [
              "<Figure size 640x480 with 1 Axes>"
            ],
            "image/png": "[encoded data removed]"
          },
          "metadata": {}
        }
      ],
      "source": [
        "for param in ['CreditScore', 'Age', 'NumOfProducts']:\n",
        "    data_anonym.boxplot(column=param)\n",
        "    plt.show()"
      ]
    },
    {
      "cell_type": "markdown",
      "metadata": {
        "id": "8ozRIGqMOcop"
      },
      "source": [
        "Есть небольшое количество пользователей с кредитным рейтингом ниже 400, возрастом старше 62 лет и использующих больше 3 продуктов банка."
      ]
    },
    {
      "cell_type": "markdown",
      "metadata": {
        "id": "PHpMaAF7Ocoq"
      },
      "source": [
        "### Распределение клиентов по разным параметрам.\n",
        "\n",
        "Рассмотрим, как распределяются значения из таблицы в зависимости от того, является ли клиент текущим(далее на графиках обозначим как 0) или ушедшим(далее на графиках обозначим как 1)."
      ]
    },
    {
      "cell_type": "code",
      "execution_count": 11,
      "metadata": {
        "colab": {
          "base_uri": "https://localhost:8080/",
          "height": 1000
        },
        "id": "y03BjsxJOcoq",
        "outputId": "5c3bdaad-e79d-4040-f7e4-180ebaad983c"
      },
      "outputs": [
        {
          "output_type": "display_data",
          "data": {
            "text/plain": [
              "<Figure size 640x480 with 1 Axes>"
            ],
            "image/png": "[encoded data removed]"
          },
          "metadata": {}
        },
        {
          "output_type": "display_data",
          "data": {
            "text/plain": [
              "<Figure size 640x480 with 1 Axes>"
            ],
            "image/png": "[encoded data removed]"
          },
          "metadata": {}
        },
        {
          "output_type": "display_data",
          "data": {
            "text/plain": [
              "<Figure size 640x480 with 1 Axes>"
            ],
            "image/png": "[encoded data removed]"
          },
          "metadata": {}
        },
        {
          "output_type": "display_data",
          "data": {
            "text/plain": [
              "<Figure size 640x480 with 1 Axes>"
            ],
            "image/png": "[encoded data removed]"
          },
          "metadata": {}
        },
        {
          "output_type": "display_data",
          "data": {
            "text/plain": [
              "<Figure size 640x480 with 1 Axes>"
            ],
            "image/png": "[encoded data removed]"
          },
          "metadata": {}
        },
        {
          "output_type": "display_data",
          "data": {
            "text/plain": [
              "<Figure size 640x480 with 1 Axes>"
            ],
            "image/png": "[encoded data removed]"
          },
          "metadata": {}
        }
      ],
      "source": [
        "for param in ['CreditScore','Age', 'Tenure',\n",
        "              'Balance', 'NumOfProducts', 'EstimatedSalary']:\n",
        "    data_anonym.groupby('Exited')[param]\\\n",
        "               .plot(kind='hist', bins=20, alpha=0.5)\n",
        "    \n",
        "    plt.legend(['0', '1'])\n",
        "    plt.xlabel(param)\n",
        "    plt.ylabel('users')\n",
        "    plt.show()"
      ]
    },
    {
      "cell_type": "code",
      "execution_count": 12,
      "metadata": {
        "colab": {
          "base_uri": "https://localhost:8080/",
          "height": 449
        },
        "id": "3UC_iM6pOcoq",
        "outputId": "1d327b3e-46fc-4e0a-ace9-b52d82905bc5"
      },
      "outputs": [
        {
          "output_type": "display_data",
          "data": {
            "text/plain": [
              "<Figure size 640x480 with 1 Axes>"
            ],
            "image/png": "[encoded data removed]"
          },
          "metadata": {}
        }
      ],
      "source": [
        "data_anonym[data_anonym['Exited'] == 0] \\\n",
        "    .groupby('Geography')['Geography'] \\\n",
        "    .hist(bins=20, alpha=0.5)\n",
        "\n",
        "data_anonym[data_anonym['Exited'] == 1] \\\n",
        "    .groupby('Geography')['Geography'] \\\n",
        "    .hist(bins=20, alpha=0.5)\n",
        "\n",
        "plt.legend(['France + 0','Germany + 0',\n",
        "            'Spain + 0','France + 1',\n",
        "            'Germany + 1','Spain + 1'])\n",
        "plt.xlabel(param)\n",
        "plt.ylabel('users')\n",
        "plt.show()"
      ]
    },
    {
      "cell_type": "code",
      "execution_count": 13,
      "metadata": {
        "colab": {
          "base_uri": "https://localhost:8080/",
          "height": 449
        },
        "id": "mR84s1pSOcor",
        "outputId": "34101072-da2a-4074-e255-9ae0655333ff"
      },
      "outputs": [
        {
          "output_type": "display_data",
          "data": {
            "text/plain": [
              "<Figure size 640x480 with 1 Axes>"
            ],
            "image/png": "[encoded data removed]"
          },
          "metadata": {}
        }
      ],
      "source": [
        "data_anonym[data_anonym['Exited'] == 0] \\\n",
        "    .groupby('Gender')['Gender'] \\\n",
        "    .hist(bins=20, alpha=0.5)\n",
        "\n",
        "data_anonym[data_anonym['Exited'] == 1] \\\n",
        "    .groupby('Gender')['Gender'] \\\n",
        "    .hist(bins=20, alpha=0.5)\n",
        "\n",
        "plt.legend(['Female + 0','Male + 0',\n",
        "            'Female + 1','Male + 1'])\n",
        "plt.xlabel(param)\n",
        "plt.ylabel('users')\n",
        "plt.show()"
      ]
    },
    {
      "cell_type": "markdown",
      "metadata": {
        "id": "sUFS69S7Ocor"
      },
      "source": [
        "Судя по графикам, явных перекосов ушедших клиентов в какой-то одной категории нет. Однако, можно заметить, что в процентном соотношении ушедших клиентов среди использовавших 3 или 4 продукта банка, клиентов на территории Германии, а также женщин больше, чем в остальных вариациях соотвтсвующего критерия."
      ]
    },
    {
      "cell_type": "markdown",
      "metadata": {
        "id": "cbapXNwzOcor"
      },
      "source": [
        "### Преобразование данных.\n",
        "\n",
        "Произведем преобразование категориальных значений из столбцов страна проживания и пол в численные. "
      ]
    },
    {
      "cell_type": "code",
      "execution_count": 14,
      "metadata": {
        "id": "AlIIXFNMOcos"
      },
      "outputs": [],
      "source": [
        "data_anonym = pd.get_dummies(data_anonym, drop_first=True)"
      ]
    },
    {
      "cell_type": "code",
      "execution_count": 15,
      "metadata": {
        "colab": {
          "base_uri": "https://localhost:8080/",
          "height": 270
        },
        "id": "PRdi6QgkOcot",
        "outputId": "373c4fb8-e659-45ec-b2e8-36f0d3ae5bb0"
      },
      "outputs": [
        {
          "output_type": "execute_result",
          "data": {
            "text/plain": [
              "   CreditScore  Age  Tenure    Balance  NumOfProducts  HasCrCard  \\\n",
              "0          619   42     2.0       0.00              1          1   \n",
              "1          608   41     1.0   83807.86              1          0   \n",
              "2          502   42     8.0  159660.80              3          1   \n",
              "3          699   39     1.0       0.00              2          0   \n",
              "4          850   43     2.0  125510.82              1          1   \n",
              "\n",
              "   IsActiveMember  EstimatedSalary  Exited  Geography_Germany  \\\n",
              "0               1        101348.88       1                  0   \n",
              "1               1        112542.58       0                  0   \n",
              "2               0        113931.57       1                  0   \n",
              "3               0         93826.63       0                  0   \n",
              "4               1         79084.10       0                  0   \n",
              "\n",
              "   Geography_Spain  Gender_Male  \n",
              "0                0            0  \n",
              "1                1            0  \n",
              "2                0            0  \n",
              "3                0            0  \n",
              "4                1            0  "
            ],
            "text/html": [
              "\n",
              "  <div id=\"df-ed28a865-8bad-4b73-bd90-5b69e70db4a6\">\n",
              "    <div class=\"colab-df-container\">\n",
              "      <div>\n",
              "<style scoped>\n",
              "    .dataframe tbody tr th:only-of-type {\n",
              "        vertical-align: middle;\n",
              "    }\n",
              "\n",
              "    .dataframe tbody tr th {\n",
              "        vertical-align: top;\n",
              "    }\n",
              "\n",
              "    .dataframe thead th {\n",
              "        text-align: right;\n",
              "    }\n",
              "</style>\n",
              "<table border=\"1\" class=\"dataframe\">\n",
              "  <thead>\n",
              "    <tr style=\"text-align: right;\">\n",
              "      <th></th>\n",
              "      <th>CreditScore</th>\n",
              "      <th>Age</th>\n",
              "      <th>Tenure</th>\n",
              "      <th>Balance</th>\n",
              "      <th>NumOfProducts</th>\n",
              "      <th>HasCrCard</th>\n",
              "      <th>IsActiveMember</th>\n",
              "      <th>EstimatedSalary</th>\n",
              "      <th>Exited</th>\n",
              "      <th>Geography_Germany</th>\n",
              "      <th>Geography_Spain</th>\n",
              "      <th>Gender_Male</th>\n",
              "    </tr>\n",
              "  </thead>\n",
              "  <tbody>\n",
              "    <tr>\n",
              "      <th>0</th>\n",
              "      <td>619</td>\n",
              "      <td>42</td>\n",
              "      <td>2.0</td>\n",
              "      <td>0.00</td>\n",
              "      <td>1</td>\n",
              "      <td>1</td>\n",
              "      <td>1</td>\n",
              "      <td>101348.88</td>\n",
              "      <td>1</td>\n",
              "      <td>0</td>\n",
              "      <td>0</td>\n",
              "      <td>0</td>\n",
              "    </tr>\n",
              "    <tr>\n",
              "      <th>1</th>\n",
              "      <td>608</td>\n",
              "      <td>41</td>\n",
              "      <td>1.0</td>\n",
              "      <td>83807.86</td>\n",
              "      <td>1</td>\n",
              "      <td>0</td>\n",
              "      <td>1</td>\n",
              "      <td>112542.58</td>\n",
              "      <td>0</td>\n",
              "      <td>0</td>\n",
              "      <td>1</td>\n",
              "      <td>0</td>\n",
              "    </tr>\n",
              "    <tr>\n",
              "      <th>2</th>\n",
              "      <td>502</td>\n",
              "      <td>42</td>\n",
              "      <td>8.0</td>\n",
              "      <td>159660.80</td>\n",
              "      <td>3</td>\n",
              "      <td>1</td>\n",
              "      <td>0</td>\n",
              "      <td>113931.57</td>\n",
              "      <td>1</td>\n",
              "      <td>0</td>\n",
              "      <td>0</td>\n",
              "      <td>0</td>\n",
              "    </tr>\n",
              "    <tr>\n",
              "      <th>3</th>\n",
              "      <td>699</td>\n",
              "      <td>39</td>\n",
              "      <td>1.0</td>\n",
              "      <td>0.00</td>\n",
              "      <td>2</td>\n",
              "      <td>0</td>\n",
              "      <td>0</td>\n",
              "      <td>93826.63</td>\n",
              "      <td>0</td>\n",
              "      <td>0</td>\n",
              "      <td>0</td>\n",
              "      <td>0</td>\n",
              "    </tr>\n",
              "    <tr>\n",
              "      <th>4</th>\n",
              "      <td>850</td>\n",
              "      <td>43</td>\n",
              "      <td>2.0</td>\n",
              "      <td>125510.82</td>\n",
              "      <td>1</td>\n",
              "      <td>1</td>\n",
              "      <td>1</td>\n",
              "      <td>79084.10</td>\n",
              "      <td>0</td>\n",
              "      <td>0</td>\n",
              "      <td>1</td>\n",
              "      <td>0</td>\n",
              "    </tr>\n",
              "  </tbody>\n",
              "</table>\n",
              "</div>\n",
              "      <button class=\"colab-df-convert\" onclick=\"convertToInteractive('df-ed28a865-8bad-4b73-bd90-5b69e70db4a6')\"\n",
              "              title=\"Convert this dataframe to an interactive table.\"\n",
              "              style=\"display:none;\">\n",
              "        \n",
              "  <svg xmlns=\"http://www.w3.org/2000/svg\" height=\"24px\"viewBox=\"0 0 24 24\"\n",
              "       width=\"24px\">\n",
              "    <path d=\"M0 0h24v24H0V0z\" fill=\"none\"/>\n",
              "    <path d=\"M18.56 5.44l.94 2.06.94-2.06 2.06-.94-2.06-.94-.94-2.06-.94 2.06-2.06.94zm-11 1L8.5 8.5l.94-2.06 2.06-.94-2.06-.94L8.5 2.5l-.94 2.06-2.06.94zm10 10l.94 2.06.94-2.06 2.06-.94-2.06-.94-.94-2.06-.94 2.06-2.06.94z\"/><path d=\"M17.41 7.96l-1.37-1.37c-.4-.4-.92-.59-1.43-.59-.52 0-1.04.2-1.43.59L10.3 9.45l-7.72 7.72c-.78.78-.78 2.05 0 2.83L4 21.41c.39.39.9.59 1.41.59.51 0 1.02-.2 1.41-.59l7.78-7.78 2.81-2.81c.8-.78.8-2.07 0-2.86zM5.41 20L4 18.59l7.72-7.72 1.47 1.35L5.41 20z\"/>\n",
              "  </svg>\n",
              "      </button>\n",
              "      \n",
              "  <style>\n",
              "    .colab-df-container {\n",
              "      display:flex;\n",
              "      flex-wrap:wrap;\n",
              "      gap: 12px;\n",
              "    }\n",
              "\n",
              "    .colab-df-convert {\n",
              "      background-color: #E8F0FE;\n",
              "      border: none;\n",
              "      border-radius: 50%;\n",
              "      cursor: pointer;\n",
              "      display: none;\n",
              "      fill: #1967D2;\n",
              "      height: 32px;\n",
              "      padding: 0 0 0 0;\n",
              "      width: 32px;\n",
              "    }\n",
              "\n",
              "    .colab-df-convert:hover {\n",
              "      background-color: #E2EBFA;\n",
              "      box-shadow: 0px 1px 2px rgba(60, 64, 67, 0.3), 0px 1px 3px 1px rgba(60, 64, 67, 0.15);\n",
              "      fill: #174EA6;\n",
              "    }\n",
              "\n",
              "    [theme=dark] .colab-df-convert {\n",
              "      background-color: #3B4455;\n",
              "      fill: #D2E3FC;\n",
              "    }\n",
              "\n",
              "    [theme=dark] .colab-df-convert:hover {\n",
              "      background-color: #434B5C;\n",
              "      box-shadow: 0px 1px 3px 1px rgba(0, 0, 0, 0.15);\n",
              "      filter: drop-shadow(0px 1px 2px rgba(0, 0, 0, 0.3));\n",
              "      fill: #FFFFFF;\n",
              "    }\n",
              "  </style>\n",
              "\n",
              "      <script>\n",
              "        const buttonEl =\n",
              "          document.querySelector('#df-ed28a865-8bad-4b73-bd90-5b69e70db4a6 button.colab-df-convert');\n",
              "        buttonEl.style.display =\n",
              "          google.colab.kernel.accessAllowed ? 'block' : 'none';\n",
              "\n",
              "        async function convertToInteractive(key) {\n",
              "          const element = document.querySelector('#df-ed28a865-8bad-4b73-bd90-5b69e70db4a6');\n",
              "          const dataTable =\n",
              "            await google.colab.kernel.invokeFunction('convertToInteractive',\n",
              "                                                     [key], {});\n",
              "          if (!dataTable) return;\n",
              "\n",
              "          const docLinkHtml = 'Like what you see? Visit the ' +\n",
              "            '<a target=\"_blank\" href=https://colab.research.google.com/notebooks/data_table.ipynb>data table notebook</a>'\n",
              "            + ' to learn more about interactive tables.';\n",
              "          element.innerHTML = '';\n",
              "          dataTable['output_type'] = 'display_data';\n",
              "          await google.colab.output.renderOutput(dataTable, element);\n",
              "          const docLink = document.createElement('div');\n",
              "          docLink.innerHTML = docLinkHtml;\n",
              "          element.appendChild(docLink);\n",
              "        }\n",
              "      </script>\n",
              "    </div>\n",
              "  </div>\n",
              "  "
            ]
          },
          "metadata": {},
          "execution_count": 15
        }
      ],
      "source": [
        "data_anonym.head()"
      ]
    },
    {
      "cell_type": "markdown",
      "metadata": {
        "id": "VIDzLRhPOcot"
      },
      "source": [
        "Так как пропуски мешают работе моделей, заменим пропуски на медианное зназение."
      ]
    },
    {
      "cell_type": "code",
      "execution_count": 16,
      "metadata": {
        "id": "BcIU6z80Ocot"
      },
      "outputs": [],
      "source": [
        "data_anonym['Tenure'] = data_anonym['Tenure'].fillna(data_anonym['Tenure']\n",
        "                                             .median())"
      ]
    },
    {
      "cell_type": "markdown",
      "metadata": {
        "id": "QLp-DBXoOcot"
      },
      "source": [
        "Теперь произведем масштабирование признаков из столбцов кредитный рейтинг, возраст, баланс счета и предполагаемая зарплата."
      ]
    },
    {
      "cell_type": "markdown",
      "metadata": {
        "id": "ZfR-wz7MOcou"
      },
      "source": [
        "Так как у нас нет отдельной валидационной выборки и спрятанной тестовой выборки, разделим общие данные на 3 части в следующих пропорциях: 60% - обучающие данные, 20% - валидацтонная выборка и 20% - тестовая выборка. Это стандартное разделение на выборки 3:1:1."
      ]
    },
    {
      "cell_type": "code",
      "execution_count": 17,
      "metadata": {
        "id": "5Y8Q5sb-Ocou"
      },
      "outputs": [],
      "source": [
        "#выделим целевой признак\n",
        "features = data_anonym.drop('Exited', axis=1)\n",
        "target = data_anonym['Exited']"
      ]
    },
    {
      "cell_type": "code",
      "execution_count": 18,
      "metadata": {
        "id": "inw4OMwUOcou"
      },
      "outputs": [],
      "source": [
        "# выделим обучающие данные\n",
        "features_train, features_valid_and_test, \\\n",
        "target_train, target_valid_and_test = train_test_split(features,\n",
        "                                                       target, \n",
        "                                                       test_size=0.4,\n",
        "                                                       random_state=12345,\n",
        "                                                       stratify = target)"
      ]
    },
    {
      "cell_type": "code",
      "execution_count": 19,
      "metadata": {
        "id": "iKzRRcUzOcou"
      },
      "outputs": [],
      "source": [
        "# разделим оставшиеся данные на вавлидационные и тестовые\n",
        "features_valid, features_test, \\\n",
        " target_valid, target_test = train_test_split(features_valid_and_test,\n",
        "                                              target_valid_and_test,\n",
        "                                              test_size=0.5,\n",
        "                                              random_state=12345,\n",
        "                                              stratify=target_valid_and_test)"
      ]
    },
    {
      "cell_type": "code",
      "execution_count": 20,
      "metadata": {
        "id": "jhB1DcafOcov"
      },
      "outputs": [],
      "source": [
        "# перечень столбцов для масштабирования\n",
        "numeric = ['CreditScore', \n",
        "           'Age', \n",
        "           'Tenure', \n",
        "           'Balance', \n",
        "           'NumOfProducts', \n",
        "           'EstimatedSalary']"
      ]
    },
    {
      "cell_type": "code",
      "execution_count": 21,
      "metadata": {
        "id": "s0JvopQgOcov"
      },
      "outputs": [],
      "source": [
        "# модель для масштабирования\n",
        "scaler = StandardScaler()\n",
        "# обучение модели\n",
        "scaler.fit(features_train[numeric]) \n",
        "# масштабированиие данных \n",
        "pd.options.mode.chained_assignment = None\n",
        "features_train[numeric] = scaler.transform(features_train[numeric])\n",
        "features_valid[numeric] = scaler.transform(features_valid[numeric]) \n",
        "features_test[numeric] = scaler.transform(features_test[numeric])"
      ]
    },
    {
      "cell_type": "markdown",
      "source": [
        "Проверим, как выполнилось преобразование."
      ],
      "metadata": {
        "id": "JjSva6KLVgE7"
      }
    },
    {
      "cell_type": "code",
      "execution_count": 22,
      "metadata": {
        "colab": {
          "base_uri": "https://localhost:8080/",
          "height": 270
        },
        "id": "MgY-LHsVOcow",
        "outputId": "c612d6e6-6841-4e92-b785-3a5dbb090d64"
      },
      "outputs": [
        {
          "output_type": "execute_result",
          "data": {
            "text/plain": [
              "      CreditScore       Age    Tenure   Balance  NumOfProducts  HasCrCard  \\\n",
              "2837    -1.040434  0.953312  0.360600  0.774657      -0.914708          0   \n",
              "9925     0.454006 -0.095244 -0.002786  1.910540      -0.914708          1   \n",
              "8746     0.103585 -0.476537  1.087371  0.481608       0.820981          0   \n",
              "660     -0.184996  0.190726 -0.002786  0.088439      -0.914708          1   \n",
              "3610    -0.720933  1.620574 -1.456328  0.879129      -0.914708          1   \n",
              "\n",
              "      IsActiveMember  EstimatedSalary  Geography_Germany  Geography_Spain  \\\n",
              "2837               1        -0.119110                  1                0   \n",
              "9925               1        -0.258658                  0                0   \n",
              "8746               1         1.422836                  0                0   \n",
              "660                1        -1.160427                  1                0   \n",
              "3610               0         0.113236                  0                0   \n",
              "\n",
              "      Gender_Male  \n",
              "2837            0  \n",
              "9925            0  \n",
              "8746            1  \n",
              "660             0  \n",
              "3610            0  "
            ],
            "text/html": [
              "\n",
              "  <div id=\"df-8b38f98e-c5b8-488b-a571-a8b0cf3d8b96\">\n",
              "    <div class=\"colab-df-container\">\n",
              "      <div>\n",
              "<style scoped>\n",
              "    .dataframe tbody tr th:only-of-type {\n",
              "        vertical-align: middle;\n",
              "    }\n",
              "\n",
              "    .dataframe tbody tr th {\n",
              "        vertical-align: top;\n",
              "    }\n",
              "\n",
              "    .dataframe thead th {\n",
              "        text-align: right;\n",
              "    }\n",
              "</style>\n",
              "<table border=\"1\" class=\"dataframe\">\n",
              "  <thead>\n",
              "    <tr style=\"text-align: right;\">\n",
              "      <th></th>\n",
              "      <th>CreditScore</th>\n",
              "      <th>Age</th>\n",
              "      <th>Tenure</th>\n",
              "      <th>Balance</th>\n",
              "      <th>NumOfProducts</th>\n",
              "      <th>HasCrCard</th>\n",
              "      <th>IsActiveMember</th>\n",
              "      <th>EstimatedSalary</th>\n",
              "      <th>Geography_Germany</th>\n",
              "      <th>Geography_Spain</th>\n",
              "      <th>Gender_Male</th>\n",
              "    </tr>\n",
              "  </thead>\n",
              "  <tbody>\n",
              "    <tr>\n",
              "      <th>2837</th>\n",
              "      <td>-1.040434</td>\n",
              "      <td>0.953312</td>\n",
              "      <td>0.360600</td>\n",
              "      <td>0.774657</td>\n",
              "      <td>-0.914708</td>\n",
              "      <td>0</td>\n",
              "      <td>1</td>\n",
              "      <td>-0.119110</td>\n",
              "      <td>1</td>\n",
              "      <td>0</td>\n",
              "      <td>0</td>\n",
              "    </tr>\n",
              "    <tr>\n",
              "      <th>9925</th>\n",
              "      <td>0.454006</td>\n",
              "      <td>-0.095244</td>\n",
              "      <td>-0.002786</td>\n",
              "      <td>1.910540</td>\n",
              "      <td>-0.914708</td>\n",
              "      <td>1</td>\n",
              "      <td>1</td>\n",
              "      <td>-0.258658</td>\n",
              "      <td>0</td>\n",
              "      <td>0</td>\n",
              "      <td>0</td>\n",
              "    </tr>\n",
              "    <tr>\n",
              "      <th>8746</th>\n",
              "      <td>0.103585</td>\n",
              "      <td>-0.476537</td>\n",
              "      <td>1.087371</td>\n",
              "      <td>0.481608</td>\n",
              "      <td>0.820981</td>\n",
              "      <td>0</td>\n",
              "      <td>1</td>\n",
              "      <td>1.422836</td>\n",
              "      <td>0</td>\n",
              "      <td>0</td>\n",
              "      <td>1</td>\n",
              "    </tr>\n",
              "    <tr>\n",
              "      <th>660</th>\n",
              "      <td>-0.184996</td>\n",
              "      <td>0.190726</td>\n",
              "      <td>-0.002786</td>\n",
              "      <td>0.088439</td>\n",
              "      <td>-0.914708</td>\n",
              "      <td>1</td>\n",
              "      <td>1</td>\n",
              "      <td>-1.160427</td>\n",
              "      <td>1</td>\n",
              "      <td>0</td>\n",
              "      <td>0</td>\n",
              "    </tr>\n",
              "    <tr>\n",
              "      <th>3610</th>\n",
              "      <td>-0.720933</td>\n",
              "      <td>1.620574</td>\n",
              "      <td>-1.456328</td>\n",
              "      <td>0.879129</td>\n",
              "      <td>-0.914708</td>\n",
              "      <td>1</td>\n",
              "      <td>0</td>\n",
              "      <td>0.113236</td>\n",
              "      <td>0</td>\n",
              "      <td>0</td>\n",
              "      <td>0</td>\n",
              "    </tr>\n",
              "  </tbody>\n",
              "</table>\n",
              "</div>\n",
              "      <button class=\"colab-df-convert\" onclick=\"convertToInteractive('df-8b38f98e-c5b8-488b-a571-a8b0cf3d8b96')\"\n",
              "              title=\"Convert this dataframe to an interactive table.\"\n",
              "              style=\"display:none;\">\n",
              "        \n",
              "  <svg xmlns=\"http://www.w3.org/2000/svg\" height=\"24px\"viewBox=\"0 0 24 24\"\n",
              "       width=\"24px\">\n",
              "    <path d=\"M0 0h24v24H0V0z\" fill=\"none\"/>\n",
              "    <path d=\"M18.56 5.44l.94 2.06.94-2.06 2.06-.94-2.06-.94-.94-2.06-.94 2.06-2.06.94zm-11 1L8.5 8.5l.94-2.06 2.06-.94-2.06-.94L8.5 2.5l-.94 2.06-2.06.94zm10 10l.94 2.06.94-2.06 2.06-.94-2.06-.94-.94-2.06-.94 2.06-2.06.94z\"/><path d=\"M17.41 7.96l-1.37-1.37c-.4-.4-.92-.59-1.43-.59-.52 0-1.04.2-1.43.59L10.3 9.45l-7.72 7.72c-.78.78-.78 2.05 0 2.83L4 21.41c.39.39.9.59 1.41.59.51 0 1.02-.2 1.41-.59l7.78-7.78 2.81-2.81c.8-.78.8-2.07 0-2.86zM5.41 20L4 18.59l7.72-7.72 1.47 1.35L5.41 20z\"/>\n",
              "  </svg>\n",
              "      </button>\n",
              "      \n",
              "  <style>\n",
              "    .colab-df-container {\n",
              "      display:flex;\n",
              "      flex-wrap:wrap;\n",
              "      gap: 12px;\n",
              "    }\n",
              "\n",
              "    .colab-df-convert {\n",
              "      background-color: #E8F0FE;\n",
              "      border: none;\n",
              "      border-radius: 50%;\n",
              "      cursor: pointer;\n",
              "      display: none;\n",
              "      fill: #1967D2;\n",
              "      height: 32px;\n",
              "      padding: 0 0 0 0;\n",
              "      width: 32px;\n",
              "    }\n",
              "\n",
              "    .colab-df-convert:hover {\n",
              "      background-color: #E2EBFA;\n",
              "      box-shadow: 0px 1px 2px rgba(60, 64, 67, 0.3), 0px 1px 3px 1px rgba(60, 64, 67, 0.15);\n",
              "      fill: #174EA6;\n",
              "    }\n",
              "\n",
              "    [theme=dark] .colab-df-convert {\n",
              "      background-color: #3B4455;\n",
              "      fill: #D2E3FC;\n",
              "    }\n",
              "\n",
              "    [theme=dark] .colab-df-convert:hover {\n",
              "      background-color: #434B5C;\n",
              "      box-shadow: 0px 1px 3px 1px rgba(0, 0, 0, 0.15);\n",
              "      filter: drop-shadow(0px 1px 2px rgba(0, 0, 0, 0.3));\n",
              "      fill: #FFFFFF;\n",
              "    }\n",
              "  </style>\n",
              "\n",
              "      <script>\n",
              "        const buttonEl =\n",
              "          document.querySelector('#df-8b38f98e-c5b8-488b-a571-a8b0cf3d8b96 button.colab-df-convert');\n",
              "        buttonEl.style.display =\n",
              "          google.colab.kernel.accessAllowed ? 'block' : 'none';\n",
              "\n",
              "        async function convertToInteractive(key) {\n",
              "          const element = document.querySelector('#df-8b38f98e-c5b8-488b-a571-a8b0cf3d8b96');\n",
              "          const dataTable =\n",
              "            await google.colab.kernel.invokeFunction('convertToInteractive',\n",
              "                                                     [key], {});\n",
              "          if (!dataTable) return;\n",
              "\n",
              "          const docLinkHtml = 'Like what you see? Visit the ' +\n",
              "            '<a target=\"_blank\" href=https://colab.research.google.com/notebooks/data_table.ipynb>data table notebook</a>'\n",
              "            + ' to learn more about interactive tables.';\n",
              "          element.innerHTML = '';\n",
              "          dataTable['output_type'] = 'display_data';\n",
              "          await google.colab.output.renderOutput(dataTable, element);\n",
              "          const docLink = document.createElement('div');\n",
              "          docLink.innerHTML = docLinkHtml;\n",
              "          element.appendChild(docLink);\n",
              "        }\n",
              "      </script>\n",
              "    </div>\n",
              "  </div>\n",
              "  "
            ]
          },
          "metadata": {},
          "execution_count": 22
        }
      ],
      "source": [
        "features_train.head()"
      ]
    },
    {
      "cell_type": "markdown",
      "metadata": {
        "id": "op4QcEuiOcox"
      },
      "source": [
        "Теперь можно перейти к рассмотрению моделей для прогнозирования."
      ]
    },
    {
      "cell_type": "markdown",
      "metadata": {
        "id": "wdMDf0gtOcox"
      },
      "source": [
        "## Исследование задачи"
      ]
    },
    {
      "cell_type": "markdown",
      "metadata": {
        "id": "2KJqoSl0Ocox"
      },
      "source": [
        "Рассмотрим несколько моделей: логистическую регрессию, решающее дерево и случайный лес решающих деревьев.\n",
        "Для начала посмотрим, на сколько эфективными окажутся модели на текущих данных. Так как нас интересует удержание клиентов, для оценки модели воспользуемся параметром F-меры(среднего гармонического)."
      ]
    },
    {
      "cell_type": "code",
      "source": [
        "# функция расчета метрик качества\n",
        "def quality_metrics(targ, pred):\n",
        "  recall = recall_score(targ, pred)\n",
        "  f1 = f1_score(targ, pred)\n",
        "  roc_auc = roc_auc_score(targ, pred)\n",
        "  print('Recall =', '%.3f' %f1)\n",
        "  print('F1 =', '%.3f' %recall)\n",
        "  print('AUC-ROC =', '%.3f' %roc_auc)"
      ],
      "metadata": {
        "id": "ox5SJdwS9L6M"
      },
      "execution_count": 23,
      "outputs": []
    },
    {
      "cell_type": "markdown",
      "metadata": {
        "id": "mQwYNafvOcox"
      },
      "source": [
        "### Логистическая регрессия"
      ]
    },
    {
      "cell_type": "code",
      "execution_count": 24,
      "metadata": {
        "colab": {
          "base_uri": "https://localhost:8080/"
        },
        "id": "teOfoTnlOcox",
        "outputId": "67626b95-3565-4d2c-ddab-8e71c0ea30d1"
      },
      "outputs": [
        {
          "output_type": "stream",
          "name": "stdout",
          "text": [
            "CPU times: user 20 ms, sys: 8.87 ms, total: 28.9 ms\n",
            "Wall time: 20.6 ms\n"
          ]
        }
      ],
      "source": [
        "%%time\n",
        "#создание модели\n",
        "model_lr = LogisticRegression(random_state=12345, \n",
        "                              solver='lbfgs', \n",
        "                              max_iter=1000) \n",
        "#обучение модели \n",
        "model_lr.fit(features_train, target_train)\n",
        "\n",
        "#проверка работы модели на валидационной выборке\n",
        "predictions_valid_lr = model_lr.predict(features_valid)"
      ]
    },
    {
      "cell_type": "markdown",
      "metadata": {
        "id": "tsVyC-Fo36aU"
      },
      "source": [
        "Посмотрим показатели качества."
      ]
    },
    {
      "cell_type": "code",
      "execution_count": 25,
      "metadata": {
        "colab": {
          "base_uri": "https://localhost:8080/"
        },
        "id": "72y8L68IOcoy",
        "outputId": "5c2abc0d-e301-4ebf-9a4a-8b0556a65856"
      },
      "outputs": [
        {
          "output_type": "stream",
          "name": "stdout",
          "text": [
            "Recall = 0.305\n",
            "F1 = 0.203\n",
            "AUC-ROC = 0.585\n"
          ]
        }
      ],
      "source": [
        "#оценка работы модели\n",
        "quality_metrics(target_valid, predictions_valid_lr)"
      ]
    },
    {
      "cell_type": "markdown",
      "metadata": {
        "id": "sV3gmi9COcoz"
      },
      "source": [
        "Результат среднего гармонического модели логистической регрессии на валидационной выборке - 0,33, а площадь под ROC-кривой 0,59. Это низкие показатели. Посмотрим, удасться ли их улучшить в других моделях."
      ]
    },
    {
      "cell_type": "markdown",
      "metadata": {
        "id": "DJ3cDbkHOco0"
      },
      "source": [
        "### Решающее дерево\n",
        "Найдём наилучшую модель решающего дерева.\n"
      ]
    },
    {
      "cell_type": "code",
      "execution_count": 26,
      "metadata": {
        "colab": {
          "base_uri": "https://localhost:8080/"
        },
        "id": "VwNSYdBGOco1",
        "outputId": "4cf025ad-a2b5-44fd-8d6d-d86a19f7f5b6"
      },
      "outputs": [
        {
          "output_type": "stream",
          "name": "stdout",
          "text": [
            "CPU times: user 178 ms, sys: 62.1 ms, total: 241 ms\n",
            "Wall time: 177 ms\n"
          ]
        }
      ],
      "source": [
        "%%time\n",
        "best_model = None\n",
        "best_result = 0\n",
        "best_depth = 0\n",
        "\n",
        "for depth in range(1, 10): \n",
        "    #создание модели\n",
        "    model_dtc = DecisionTreeClassifier(random_state=12345,\n",
        "                                       max_depth=depth)\n",
        "    #обучение модели\n",
        "    model_dtc.fit(features_train, target_train)\n",
        "    #проверка работы модели на валидационной выборке\n",
        "    predictions_valid_dtc = model_dtc.predict(features_valid)\n",
        "    #оценка работы модели\n",
        "    result_dtc = f1_score(target_valid, predictions_valid_dtc)\n",
        "    if result_dtc > best_result:\n",
        "        best_model = model_dtc # сохраним наилучшую модель\n",
        "        best_result = result_dtc\n",
        "        best_depth = depth"
      ]
    },
    {
      "cell_type": "code",
      "execution_count": 27,
      "metadata": {
        "colab": {
          "base_uri": "https://localhost:8080/"
        },
        "id": "8KCjk_bPOco1",
        "outputId": "202c0b1f-e668-4648-eedf-2c9891fa5835"
      },
      "outputs": [
        {
          "output_type": "execute_result",
          "data": {
            "text/plain": [
              "7"
            ]
          },
          "metadata": {},
          "execution_count": 27
        }
      ],
      "source": [
        "# максимальная глубина лучшей модели\n",
        "best_depth"
      ]
    },
    {
      "cell_type": "code",
      "execution_count": 28,
      "metadata": {
        "id": "mfrdIfjaOco2"
      },
      "outputs": [],
      "source": [
        "#лучшая модель решающего дерева \n",
        "model_dtc = best_model"
      ]
    },
    {
      "cell_type": "code",
      "execution_count": 29,
      "metadata": {
        "id": "2Xbqi3bSOco2"
      },
      "outputs": [],
      "source": [
        "#проверка работы модели на валидационной выборке\n",
        "predictions_valid_dtc = model_dtc.predict(features_valid)"
      ]
    },
    {
      "cell_type": "markdown",
      "metadata": {
        "id": "XZIkTN4234LU"
      },
      "source": [
        "Посмотрим показатели качества."
      ]
    },
    {
      "cell_type": "code",
      "execution_count": 30,
      "metadata": {
        "colab": {
          "base_uri": "https://localhost:8080/"
        },
        "id": "LxLopUByOco3",
        "outputId": "0dd21cf4-9453-42f3-a23d-bf73e70ab375"
      },
      "outputs": [
        {
          "output_type": "stream",
          "name": "stdout",
          "text": [
            "Recall = 0.592\n",
            "F1 = 0.502\n",
            "AUC-ROC = 0.726\n"
          ]
        }
      ],
      "source": [
        "#оценка работы модели\n",
        "quality_metrics(target_valid, predictions_valid_dtc)"
      ]
    },
    {
      "cell_type": "markdown",
      "metadata": {
        "id": "nHTMQB75Oco3"
      },
      "source": [
        "Среднее гармоническое решающего дерева 0,57, а AUC-ROC 0,71. Уже гораздо лучше, но всё ещё недостаточно."
      ]
    },
    {
      "cell_type": "markdown",
      "metadata": {
        "id": "CLWLZev2Oco3"
      },
      "source": [
        "### Случайный лес решающих деревьев\n",
        "Найдём наилучшую модель для случайного леса решающих деревьев.\n"
      ]
    },
    {
      "cell_type": "code",
      "execution_count": 31,
      "metadata": {
        "colab": {
          "base_uri": "https://localhost:8080/"
        },
        "id": "Yo6B5HjnOco4",
        "outputId": "eca9462f-ee43-47ab-952f-516904ecc497"
      },
      "outputs": [
        {
          "output_type": "stream",
          "name": "stdout",
          "text": [
            "CPU times: user 1min 30s, sys: 255 ms, total: 1min 31s\n",
            "Wall time: 1min 36s\n"
          ]
        }
      ],
      "source": [
        "%%time\n",
        "best_model = None\n",
        "best_result = 0\n",
        "best_n_est = 0\n",
        "best_depth = 0\n",
        "\n",
        "for est in range(50, 70):\n",
        "    for depth in range(10, 20):\n",
        "        #создание модели\n",
        "        model_rfc = RandomForestClassifier(random_state=12345, \n",
        "                                           n_estimators=est, \n",
        "                                           max_depth=depth)\n",
        "        #обучение модели\n",
        "        model_rfc.fit(features_train, target_train)\n",
        "        #проверка работы модели на валидационной выборке\n",
        "        predictions_valid_rfc = model_rfc.predict(features_valid)\n",
        "        #оценка работы модели\n",
        "        result_rfc = f1_score(target_valid, predictions_valid_rfc)\n",
        "        if result_rfc > best_result:\n",
        "            best_model = model_rfc \n",
        "            best_result = result_rfc\n",
        "            best_n_est = est\n",
        "            best_depth = depth"
      ]
    },
    {
      "cell_type": "code",
      "execution_count": 32,
      "metadata": {
        "colab": {
          "base_uri": "https://localhost:8080/"
        },
        "id": "lK8c2I1OOco4",
        "outputId": "7852605a-c756-4569-f49d-6671fead49bf"
      },
      "outputs": [
        {
          "output_type": "execute_result",
          "data": {
            "text/plain": [
              "60"
            ]
          },
          "metadata": {},
          "execution_count": 32
        }
      ],
      "source": [
        "# количество деревьев лучшей модели\n",
        "best_n_est"
      ]
    },
    {
      "cell_type": "code",
      "execution_count": 33,
      "metadata": {
        "colab": {
          "base_uri": "https://localhost:8080/"
        },
        "id": "D7P-NakDOco4",
        "outputId": "cb794f1b-a11b-455e-8501-eabe809849fe"
      },
      "outputs": [
        {
          "output_type": "execute_result",
          "data": {
            "text/plain": [
              "15"
            ]
          },
          "metadata": {},
          "execution_count": 33
        }
      ],
      "source": [
        "# максимальная глубина лучшей модели\n",
        "best_depth"
      ]
    },
    {
      "cell_type": "code",
      "execution_count": 34,
      "metadata": {
        "id": "3YuJg7xcOco4"
      },
      "outputs": [],
      "source": [
        "#лучшая модель решающего дерева \n",
        "model_rfc = best_model"
      ]
    },
    {
      "cell_type": "code",
      "execution_count": 35,
      "metadata": {
        "id": "XvAyRjE2Oco5"
      },
      "outputs": [],
      "source": [
        "#проверка работы модели на валидационной выборке\n",
        "predictions_valid_rfc = model_rfc.predict(features_valid)"
      ]
    },
    {
      "cell_type": "code",
      "execution_count": 36,
      "metadata": {
        "id": "_Svm-BscOco5"
      },
      "outputs": [],
      "source": [
        "#прогноз вероятности на валидационной выборке\n",
        "probablities_valid_rfc = model_rfc.predict_proba(features_valid)[:, 1]"
      ]
    },
    {
      "cell_type": "markdown",
      "metadata": {
        "id": "OospZj5jOco5"
      },
      "source": [
        "Посмотрим показатели качества."
      ]
    },
    {
      "cell_type": "code",
      "execution_count": 37,
      "metadata": {
        "colab": {
          "base_uri": "https://localhost:8080/"
        },
        "id": "PzqcRuswOco6",
        "outputId": "1f01a1ac-167d-4e3e-bfb6-149a17fb7066"
      },
      "outputs": [
        {
          "output_type": "stream",
          "name": "stdout",
          "text": [
            "Recall = 0.628\n",
            "F1 = 0.522\n",
            "AUC-ROC = 0.743\n"
          ]
        }
      ],
      "source": [
        "#оценка работы модели\n",
        "quality_metrics(target_valid, predictions_valid_rfc)"
      ]
    },
    {
      "cell_type": "markdown",
      "metadata": {
        "id": "JJL9M66COco6"
      },
      "source": [
        "Среднее гармоническое случайного леса решающих деревьев 0,628, а AUC-ROC 0,864. \n",
        "\n",
        "На полученных данных можно заметить, что с ростом среднего гармонического, растет и AUC-ROC. Лучшие показатели на несбалансированных данных показала модель случайного леса. Попробуем ещё улучшить параметры, для этого необходимо сбалансировать данные в обучающих выборках."
      ]
    },
    {
      "cell_type": "markdown",
      "metadata": {
        "id": "mtH2zh02Oco6"
      },
      "source": [
        "## Борьба с дисбалансом\n",
        "\n",
        "Для борьбы с дисбалансом данных используют несколько методов: учет веса класса, увеличение и уменьшение выборки. Рассмотрим каждый из методов на модели случайного леса решающих деревьев."
      ]
    },
    {
      "cell_type": "markdown",
      "metadata": {
        "id": "Hejj_kzTOco7"
      },
      "source": [
        "### Вес класса"
      ]
    },
    {
      "cell_type": "code",
      "execution_count": 38,
      "metadata": {
        "colab": {
          "base_uri": "https://localhost:8080/"
        },
        "id": "FKb-Vl6YOco7",
        "outputId": "2ded2e9a-9bfd-4628-a5ce-50feccbbd554"
      },
      "outputs": [
        {
          "output_type": "stream",
          "name": "stdout",
          "text": [
            "CPU times: user 1min 52s, sys: 385 ms, total: 1min 52s\n",
            "Wall time: 2min 1s\n"
          ]
        }
      ],
      "source": [
        "%%time\n",
        "best_model = None\n",
        "best_result = 0\n",
        "best_n_est = 0\n",
        "best_depth = 0\n",
        "\n",
        "for est in range(10, 131, 5): \n",
        "    for depth in range(5, 15):\n",
        "        #создание модели\n",
        "        model_rfc_balance = RandomForestClassifier(random_state=12345, \n",
        "                                                   n_estimators=est,\n",
        "                                                   max_depth=depth,\n",
        "                                                   class_weight='balanced')\n",
        "        #обучение модели\n",
        "        model_rfc_balance.fit(features_train, target_train)\n",
        "        #проверка работы модели на валидационной выборке\n",
        "        predictions_valid_rfc = model_rfc_balance.predict(features_valid)\n",
        "        #оценка работы модели\n",
        "        result_rfc_balance = f1_score(target_valid, predictions_valid_rfc)\n",
        "        if result_rfc_balance > best_result:\n",
        "            best_model = model_rfc_balance # сохраним наилучшую модель\n",
        "            best_result = result_rfc_balance\n",
        "            best_n_est = est\n",
        "            best_depth = depth"
      ]
    },
    {
      "cell_type": "code",
      "execution_count": 39,
      "metadata": {
        "colab": {
          "base_uri": "https://localhost:8080/"
        },
        "id": "WK-y3dh6Oco7",
        "outputId": "77870eed-4173-4d30-dfc6-07a9de5df3d3"
      },
      "outputs": [
        {
          "output_type": "execute_result",
          "data": {
            "text/plain": [
              "65"
            ]
          },
          "metadata": {},
          "execution_count": 39
        }
      ],
      "source": [
        "# количество деревьев лучшей модели\n",
        "best_n_est"
      ]
    },
    {
      "cell_type": "code",
      "execution_count": 40,
      "metadata": {
        "colab": {
          "base_uri": "https://localhost:8080/"
        },
        "id": "1ppMWcNSOco7",
        "outputId": "460b0360-a684-451e-b252-22c549db2143"
      },
      "outputs": [
        {
          "output_type": "execute_result",
          "data": {
            "text/plain": [
              "10"
            ]
          },
          "metadata": {},
          "execution_count": 40
        }
      ],
      "source": [
        "# максимальная глубина лучшей модели\n",
        "best_depth"
      ]
    },
    {
      "cell_type": "code",
      "execution_count": 41,
      "metadata": {
        "id": "wp8IjHbgOco8"
      },
      "outputs": [],
      "source": [
        "#лучшая модель решающего дерева \n",
        "model_rfc_balance = best_model"
      ]
    },
    {
      "cell_type": "code",
      "execution_count": 42,
      "metadata": {
        "id": "iLGEPQAdOco8"
      },
      "outputs": [],
      "source": [
        "#проверка работы модели на валидационной выборке\n",
        "predictions_valid_rfc = model_rfc_balance.predict(features_valid)"
      ]
    },
    {
      "cell_type": "code",
      "execution_count": 43,
      "metadata": {
        "id": "JTeYLsg8Oco8"
      },
      "outputs": [],
      "source": [
        "#прогноз вероятности на валидационной выборке\n",
        "probablities_valid_rfc = model_rfc_balance\\\n",
        "                        .predict_proba(features_valid)[:, 1]"
      ]
    },
    {
      "cell_type": "code",
      "execution_count": 44,
      "metadata": {
        "colab": {
          "base_uri": "https://localhost:8080/"
        },
        "id": "yecS1ofXOco8",
        "outputId": "27473ad5-4fe8-40f1-8571-1fc387e05a4b"
      },
      "outputs": [
        {
          "output_type": "stream",
          "name": "stdout",
          "text": [
            "Recall = 0.658\n",
            "F1 = 0.669\n",
            "AUC-ROC = 0.788\n"
          ]
        }
      ],
      "source": [
        "#оценка работы модели\n",
        "quality_metrics(target_valid, predictions_valid_rfc)"
      ]
    },
    {
      "cell_type": "markdown",
      "metadata": {
        "id": "9mCboN-lOco9"
      },
      "source": [
        "У модели, обученной с учётом веса класса, показатели F1 и AUC-ROC выросли с 0,628, и 0,864 до 0,653 и 0,871. Неплохой резуультат, попробуем улучшить их ещё."
      ]
    },
    {
      "cell_type": "markdown",
      "metadata": {
        "id": "5FWvJlINOco-"
      },
      "source": [
        "### Увеличение выборки\n",
        "\n",
        "Для этого метода нам необходимо произвести манипуляции с обчающей выборкой. Чтобы получить сбалансированную выборку, добавим в нее недостающее количество строк ушедших клиентов."
      ]
    },
    {
      "cell_type": "code",
      "execution_count": 45,
      "metadata": {
        "id": "H2AHqSXYOco-"
      },
      "outputs": [],
      "source": [
        "def upsample(features, target, repeat):\n",
        "    features_zeros = features[target == 0]\n",
        "    features_ones = features[target == 1]\n",
        "    target_zeros = target[target == 0]\n",
        "    target_ones = target[target == 1]\n",
        "\n",
        "    features_upsampled = pd.concat([features_zeros] \\\n",
        "                                   + [features_ones] * repeat)\n",
        "    target_upsampled = pd.concat([target_zeros] + [target_ones] * repeat)\n",
        "    \n",
        "    features_upsampled, target_upsampled = shuffle(\n",
        "        features_upsampled, target_upsampled, random_state=12345)\n",
        "    \n",
        "    return features_upsampled, target_upsampled"
      ]
    },
    {
      "cell_type": "code",
      "execution_count": 46,
      "metadata": {
        "colab": {
          "base_uri": "https://localhost:8080/"
        },
        "id": "c5Hr80z1Oco-",
        "outputId": "087156d2-f736-4766-fb3b-34edbb4787b4"
      },
      "outputs": [
        {
          "output_type": "execute_result",
          "data": {
            "text/plain": [
              "3.909983633387889"
            ]
          },
          "metadata": {},
          "execution_count": 46
        }
      ],
      "source": [
        "# расчитаем замер необходимого увеличения\n",
        "(target_train.count() - target_train.sum()) / target_train.sum()"
      ]
    },
    {
      "cell_type": "code",
      "execution_count": 47,
      "metadata": {
        "id": "XJ5lWYXiOco-"
      },
      "outputs": [],
      "source": [
        "features_train_upsample, target_train_upsample = \\\n",
        "upsample(features_train, target_train, 4)"
      ]
    },
    {
      "cell_type": "code",
      "execution_count": 48,
      "metadata": {
        "colab": {
          "base_uri": "https://localhost:8080/"
        },
        "id": "mXupyOcJOco-",
        "outputId": "81864cd7-29dd-46ab-e08b-17a541b564b6"
      },
      "outputs": [
        {
          "output_type": "stream",
          "name": "stdout",
          "text": [
            "CPU times: user 48.1 s, sys: 138 ms, total: 48.2 s\n",
            "Wall time: 48.6 s\n"
          ]
        }
      ],
      "source": [
        "%%time\n",
        "best_model = None\n",
        "best_result = 0\n",
        "best_n_est = 0\n",
        "best_depth = 0\n",
        "\n",
        "for est in range(30, 45): \n",
        "    for depth in range(5, 15):\n",
        "        #создание модели\n",
        "        model_rfc_upsampling = RandomForestClassifier(random_state=12345, \n",
        "                                                   n_estimators=est,\n",
        "                                                   max_depth=depth)\n",
        "        #обучение модели\n",
        "        model_rfc_upsampling.fit(features_train_upsample,\n",
        "                                 target_train_upsample)\n",
        "        #проверка работы модели на валидационной выборке\n",
        "        predictions_valid_rfc = model_rfc_upsampling\\\n",
        "                                .predict(features_valid)\n",
        "        #оценка работы модели\n",
        "        result_rfc_upsampling = f1_score(target_valid, \n",
        "                                         predictions_valid_rfc)\n",
        "        if result_rfc_upsampling > best_result:\n",
        "            best_model = model_rfc_upsampling \n",
        "            best_result = result_rfc_upsampling\n",
        "            best_n_est = est\n",
        "            best_depth = depth"
      ]
    },
    {
      "cell_type": "code",
      "execution_count": 49,
      "metadata": {
        "colab": {
          "base_uri": "https://localhost:8080/"
        },
        "id": "1UENK8MHOco_",
        "outputId": "fd589f31-0e6a-4e71-d609-9f102903c21e"
      },
      "outputs": [
        {
          "output_type": "execute_result",
          "data": {
            "text/plain": [
              "37"
            ]
          },
          "metadata": {},
          "execution_count": 49
        }
      ],
      "source": [
        "# количество деревьев лучшей модели\n",
        "best_n_est"
      ]
    },
    {
      "cell_type": "code",
      "execution_count": 50,
      "metadata": {
        "colab": {
          "base_uri": "https://localhost:8080/"
        },
        "id": "RGH5FrygOcpA",
        "outputId": "a3f28441-9ea9-410f-95d6-621ea5bd1a8c"
      },
      "outputs": [
        {
          "output_type": "execute_result",
          "data": {
            "text/plain": [
              "10"
            ]
          },
          "metadata": {},
          "execution_count": 50
        }
      ],
      "source": [
        "# максимальная глубина лучшей модели\n",
        "best_depth"
      ]
    },
    {
      "cell_type": "code",
      "execution_count": 51,
      "metadata": {
        "id": "jO9YPJE3OcpA"
      },
      "outputs": [],
      "source": [
        "#лучшая модель решающего дерева \n",
        "model_rfc_upsampling = best_model"
      ]
    },
    {
      "cell_type": "code",
      "execution_count": 52,
      "metadata": {
        "id": "weaQAUULOcpA"
      },
      "outputs": [],
      "source": [
        "#проверка работы модели на валидационной выборке\n",
        "predictions_valid_rfc = model_rfc_upsampling.predict(features_valid)"
      ]
    },
    {
      "cell_type": "code",
      "execution_count": 53,
      "metadata": {
        "id": "t40w2KkkOcpA"
      },
      "outputs": [],
      "source": [
        "#прогноз вероятности на валидационной выборке\n",
        "probablities_valid_rfc = model_rfc_upsampling\\\n",
        "                         .predict_proba(features_valid)[:, 1]"
      ]
    },
    {
      "cell_type": "code",
      "execution_count": 54,
      "metadata": {
        "colab": {
          "base_uri": "https://localhost:8080/"
        },
        "id": "1JwK6X_5OcpB",
        "outputId": "85ddd47e-98d4-4664-cde0-a04d650637f2"
      },
      "outputs": [
        {
          "output_type": "stream",
          "name": "stdout",
          "text": [
            "Recall = 0.653\n",
            "F1 = 0.745\n",
            "AUC-ROC = 0.804\n"
          ]
        }
      ],
      "source": [
        "#оценка работы модели\n",
        "quality_metrics(target_valid, predictions_valid_rfc)"
      ]
    },
    {
      "cell_type": "markdown",
      "metadata": {
        "id": "TRudWz_AOcpB"
      },
      "source": [
        "Показатель среднего гармонического получился незначительно выше(5 стотысечных), чам на обучающей выборке с учетом веса класса, а вот показатель AUC-ROC снизился на 0.005 - 0.653 и 0.866. Посмотрим, как изменятся показатели в следующем эксперименте."
      ]
    },
    {
      "cell_type": "markdown",
      "metadata": {
        "id": "mFVqtalvOcpC"
      },
      "source": [
        "### Уменьшение выборки\n",
        "\n",
        "Для этого метода добавим в нее недостающее количество строк ушедших клиентов."
      ]
    },
    {
      "cell_type": "code",
      "execution_count": 55,
      "metadata": {
        "id": "rZdTdYpFOcpC"
      },
      "outputs": [],
      "source": [
        "def downsample(features, target, fraction):\n",
        "    features_zeros = features[target == 0]\n",
        "    features_ones = features[target == 1]\n",
        "    target_zeros = target[target == 0]\n",
        "    target_ones = target[target == 1]\n",
        "\n",
        "    features_downsampled = pd.concat(\n",
        "        [features_zeros.sample(frac=fraction, \n",
        "                               random_state=12345)] \\\n",
        "                                + [features_ones])\n",
        "    target_downsampled = pd.concat(\n",
        "        [target_zeros.sample(frac=fraction, \n",
        "                             random_state=12345)] \\\n",
        "                             + [target_ones])\n",
        "    \n",
        "    features_downsampled, target_downsampled = shuffle(\n",
        "features_downsampled, target_downsampled, random_state=12345)\n",
        "    \n",
        "    return features_downsampled, target_downsampled"
      ]
    },
    {
      "cell_type": "code",
      "execution_count": 56,
      "metadata": {
        "colab": {
          "base_uri": "https://localhost:8080/"
        },
        "id": "4p3wWs9cOcpC",
        "outputId": "d31a5ebb-928b-4bfa-ed71-db2daeb5e29c"
      },
      "outputs": [
        {
          "output_type": "execute_result",
          "data": {
            "text/plain": [
              "0.20366666666666666"
            ]
          },
          "metadata": {},
          "execution_count": 56
        }
      ],
      "source": [
        "# расчитаем замер необходимого уменьшения\n",
        "target_train.mean()"
      ]
    },
    {
      "cell_type": "code",
      "execution_count": 57,
      "metadata": {
        "id": "H0IHuQWROcpC"
      },
      "outputs": [],
      "source": [
        "features_train_downsampled, target_train_downsampled = \\\n",
        "downsample(features_train, target_train, 0.2)"
      ]
    },
    {
      "cell_type": "code",
      "execution_count": 58,
      "metadata": {
        "colab": {
          "base_uri": "https://localhost:8080/"
        },
        "id": "7Th8wBRLOcpC",
        "outputId": "4f44b321-8168-46a8-b327-16564c8afc68"
      },
      "outputs": [
        {
          "output_type": "stream",
          "name": "stdout",
          "text": [
            "CPU times: user 6.46 s, sys: 29.9 ms, total: 6.49 s\n",
            "Wall time: 6.53 s\n"
          ]
        }
      ],
      "source": [
        "%%time\n",
        "best_model = None\n",
        "best_result = 0\n",
        "best_n_est = 0\n",
        "best_depth = 0\n",
        "\n",
        "for est in range(10, 25): \n",
        "    for depth in range(1, 10):\n",
        "        #создание модели\n",
        "        model_rfc_downsampled = RandomForestClassifier(\n",
        "                                                   random_state=12345, \n",
        "                                                   n_estimators=est,\n",
        "                                                   max_depth=depth\n",
        "                                                   )\n",
        "        #обучение модели\n",
        "        model_rfc_downsampled.fit(features_train_downsampled,\n",
        "                                  target_train_downsampled)\n",
        "        #проверка работы модели на валидационной выборке\n",
        "        predictions_valid_rfc = model_rfc_downsampled\\\n",
        "                                .predict(features_valid)\n",
        "        #оценка работы модели\n",
        "        result_rfc_downsampled = f1_score(target_valid, \n",
        "                                          predictions_valid_rfc)\n",
        "        if result_rfc_downsampled > best_result:\n",
        "            best_model = model_rfc_downsampled \n",
        "            best_result = result_rfc_downsampled\n",
        "            best_n_est = est\n",
        "            best_depth = depth"
      ]
    },
    {
      "cell_type": "code",
      "execution_count": 59,
      "metadata": {
        "colab": {
          "base_uri": "https://localhost:8080/"
        },
        "id": "Dkllubm0OcpD",
        "outputId": "56bddf95-b2ea-485e-b243-8546fb9acd60"
      },
      "outputs": [
        {
          "output_type": "execute_result",
          "data": {
            "text/plain": [
              "22"
            ]
          },
          "metadata": {},
          "execution_count": 59
        }
      ],
      "source": [
        "# количество деревьев лучшей модели\n",
        "best_n_est"
      ]
    },
    {
      "cell_type": "code",
      "execution_count": 60,
      "metadata": {
        "colab": {
          "base_uri": "https://localhost:8080/"
        },
        "id": "_9-EbCMuOcpD",
        "outputId": "000b97b0-1544-4ab0-bfd3-4a8d372b1c79"
      },
      "outputs": [
        {
          "output_type": "execute_result",
          "data": {
            "text/plain": [
              "6"
            ]
          },
          "metadata": {},
          "execution_count": 60
        }
      ],
      "source": [
        "# максимальная глубина лучшей модели\n",
        "best_depth"
      ]
    },
    {
      "cell_type": "code",
      "execution_count": 61,
      "metadata": {
        "id": "SR1fp4R2OcpD"
      },
      "outputs": [],
      "source": [
        "#лучшая модель решающего дерева \n",
        "model_rfc_downsampled = best_model"
      ]
    },
    {
      "cell_type": "code",
      "execution_count": 62,
      "metadata": {
        "id": "RopUidByOcpE"
      },
      "outputs": [],
      "source": [
        "#проверка работы модели на валидационной выборке\n",
        "predictions_valid_rfc = model_rfc_downsampled.predict(features_valid)"
      ]
    },
    {
      "cell_type": "code",
      "execution_count": 63,
      "metadata": {
        "id": "fDPaRsXJOcpE"
      },
      "outputs": [],
      "source": [
        "#прогноз вероятности на валидационной выборке\n",
        "probablities_valid_rfc = model_rfc_downsampled\\\n",
        "                         .predict_proba(features_valid)[:, 1]"
      ]
    },
    {
      "cell_type": "code",
      "execution_count": 64,
      "metadata": {
        "colab": {
          "base_uri": "https://localhost:8080/"
        },
        "id": "DZ7puQJBOcpE",
        "outputId": "fc6fd1f5-6fe0-4892-e083-eb24785f4e93"
      },
      "outputs": [
        {
          "output_type": "stream",
          "name": "stdout",
          "text": [
            "Recall = 0.606\n",
            "F1 = 0.855\n",
            "AUC-ROC = 0.804\n"
          ]
        }
      ],
      "source": [
        "#оценка работы модели\n",
        "quality_metrics(target_valid, predictions_valid_rfc)"
      ]
    },
    {
      "cell_type": "markdown",
      "metadata": {
        "id": "QV7AypkPOcpF"
      },
      "source": [
        "На обучающей выборке с уменьшением,  оказались самые низкие показатели F1 и AUC-ROC - 0.606 и 0.868.\n",
        "\n",
        "Самые оптимальные показатели оказались у модели, обученной на увеличенной выборке - F-мера = 0.653 и площадью под roc-кривой  0.866."
      ]
    },
    {
      "cell_type": "markdown",
      "metadata": {
        "id": "HgUxQ09pOcpF"
      },
      "source": [
        "## Тестирование модели\n",
        "Проверим модель, обученную на увеличенной выборке, на тестовой выборке."
      ]
    },
    {
      "cell_type": "code",
      "execution_count": 65,
      "metadata": {
        "id": "_SKTNtzCOcpF"
      },
      "outputs": [],
      "source": [
        "#проверка работы модели на тестовой выборке\n",
        "predictions_test_rfc = model_rfc_upsampling.predict(features_test)"
      ]
    },
    {
      "cell_type": "code",
      "execution_count": 66,
      "metadata": {
        "id": "FzzsLcuJOcpF"
      },
      "outputs": [],
      "source": [
        "#прогноз вероятности на валидационной выборке\n",
        "probablities_valid_rfc = model_rfc_upsampling\\\n",
        "                         .predict_proba(features_test)[:, 1]"
      ]
    },
    {
      "cell_type": "code",
      "execution_count": 67,
      "metadata": {
        "colab": {
          "base_uri": "https://localhost:8080/"
        },
        "id": "R7TRKVEbOcpG",
        "outputId": "e80f50b0-5f87-4b92-ca53-b8a1c6f2fb3e"
      },
      "outputs": [
        {
          "output_type": "stream",
          "name": "stdout",
          "text": [
            "Recall = 0.603\n",
            "F1 = 0.681\n",
            "AUC-ROC = 0.767\n"
          ]
        }
      ],
      "source": [
        "#оценка работы модели \n",
        "quality_metrics(target_test, predictions_test_rfc)"
      ]
    },
    {
      "cell_type": "markdown",
      "metadata": {
        "id": "FxvmHhwqOcpH"
      },
      "source": [
        "На тестовой выборке наша модель выдаёт показатели среднего гармонического 0.603 и AUC-ROC 0.851. Показатель снизилсся по сравнению с валидационной выборкой. Показатели модели оказались выше, чем у случайной модели, а значит наша модель рабочая."
      ]
    },
    {
      "cell_type": "markdown",
      "source": [
        "##Вывод\n",
        "\n",
        "На основании запроса от «Бета-Банка» было произведено исследование оттока клиентов. Задача данного исследования - посторить модель для предсказания ухода клиента на основании предоставленных данных о клиентах.\n",
        "\n",
        "В ходе исследования также было проанализировано влияние баланса данных на качество предсказания моделей.\n",
        "\n",
        "В роли метрик качества моделей были выбраны:\n",
        "- recall(полнота - количество истинно положительных ответов среди всех положительных предсказаний)\n",
        "- f1(среднее гармоническое полноты и точности предсказаний)\n",
        "- roc_auc(площадь под кривой ошибок - довя верно определенных значений)\n",
        "\n",
        "При обучении моделей на несбалансированных данных были получены следующие показатели метрик качества:\n",
        "\n",
        "|Модель|recall| F1 |AUC-ROC|\n",
        "|----- | ---- | -- | ----- |\n",
        "|Логистическая регрессия| 0.203 | 0.305 | 0.585 |\n",
        "|Решающее дерево| 0.502 | 0.592 | 0.726 |\n",
        "|Случайный лес решающих деревьев| 0.522 | 0.628 | 0.864 |\n",
        "\n",
        "На полученных данных можно заметить, что с ростом среднего гармонического, растет и AUC-ROC. Лучшие показатели на несбалансированных данных показала модель случайного леса. \n",
        "\n",
        "Для улучшения показателей случайного леса решающих деревьев были рассмотрены 3 способа баланса классов(учет веса класса, увеличение и уменьшение выборки).\n",
        "\n",
        "|Тип баланса|recall| F1 |AUC-ROC|\n",
        "|----- | ---- | -- | ----- |\n",
        "|Учет веса класса| 0.669 | 0.658 | 0.866 |\n",
        "|Увеличение выборки| 0.745 | 0.653 | 0.726 |\n",
        "|Уменьшение выборки| 0.855 | 0.606 | 0.868 |\n",
        "\n",
        "Из полученных данных видно, что оптимальные значения F1 и AUC-ROC получены при увеличении выборки.\n",
        "\n",
        "При проверке модели с лучшими показателями на тестовой выборке значения параметров оказались:\n",
        "- recall = 0.681\n",
        "- F1 = 0.603\n",
        "- AUC-ROC = 0.851\n",
        "\n",
        "На тестовых данных получены хорошие показатели точности модели, поэтому наша модель готова к дальнейшему использованию.\n",
        "\n"
      ],
      "metadata": {
        "id": "a440g6hVgnOj"
      }
    }
  ],
  "metadata": {
    "ExecuteTimeLog": [
      {
        "duration": 1492,
        "start_time": "2022-12-28T19:32:23.593Z"
      },
      {
        "duration": 1291,
        "start_time": "2022-12-28T19:35:21.158Z"
      },
      {
        "duration": 43,
        "start_time": "2022-12-28T19:35:22.451Z"
      },
      {
        "duration": 159,
        "start_time": "2022-12-28T19:35:22.496Z"
      },
      {
        "duration": 16,
        "start_time": "2022-12-28T19:35:22.657Z"
      },
      {
        "duration": 16,
        "start_time": "2022-12-28T19:37:08.288Z"
      },
      {
        "duration": 18,
        "start_time": "2022-12-28T19:39:33.353Z"
      },
      {
        "duration": 6,
        "start_time": "2022-12-28T20:01:38.826Z"
      },
      {
        "duration": 128,
        "start_time": "2022-12-28T20:05:23.293Z"
      },
      {
        "duration": 13,
        "start_time": "2022-12-28T20:10:48.080Z"
      },
      {
        "duration": 13,
        "start_time": "2022-12-28T20:11:00.766Z"
      },
      {
        "duration": 14,
        "start_time": "2022-12-28T20:11:25.936Z"
      },
      {
        "duration": 15,
        "start_time": "2022-12-28T20:11:33.661Z"
      },
      {
        "duration": 15,
        "start_time": "2022-12-28T20:12:30.418Z"
      },
      {
        "duration": 21,
        "start_time": "2022-12-28T20:12:51.915Z"
      },
      {
        "duration": 18,
        "start_time": "2022-12-28T20:13:33.405Z"
      },
      {
        "duration": 14,
        "start_time": "2022-12-28T20:13:56.151Z"
      },
      {
        "duration": 18,
        "start_time": "2022-12-28T20:14:25.449Z"
      },
      {
        "duration": 7738,
        "start_time": "2022-12-28T20:21:09.167Z"
      },
      {
        "duration": 6,
        "start_time": "2022-12-28T20:25:22.823Z"
      },
      {
        "duration": 13,
        "start_time": "2022-12-28T20:25:44.587Z"
      },
      {
        "duration": 7,
        "start_time": "2022-12-28T20:26:00.359Z"
      },
      {
        "duration": 17,
        "start_time": "2022-12-28T20:29:47.142Z"
      },
      {
        "duration": 13,
        "start_time": "2022-12-28T20:29:55.691Z"
      },
      {
        "duration": 12,
        "start_time": "2022-12-28T20:30:01.320Z"
      },
      {
        "duration": 23,
        "start_time": "2022-12-28T20:34:12.042Z"
      },
      {
        "duration": 21,
        "start_time": "2022-12-28T20:34:19.868Z"
      },
      {
        "duration": 4,
        "start_time": "2022-12-28T20:36:27.541Z"
      },
      {
        "duration": 1077,
        "start_time": "2022-12-28T20:47:59.008Z"
      },
      {
        "duration": 706,
        "start_time": "2022-12-28T20:48:43.312Z"
      },
      {
        "duration": 885,
        "start_time": "2022-12-28T20:48:53.666Z"
      },
      {
        "duration": 1606,
        "start_time": "2022-12-28T20:50:18.904Z"
      },
      {
        "duration": 1376,
        "start_time": "2022-12-28T20:50:27.143Z"
      },
      {
        "duration": 10,
        "start_time": "2022-12-28T20:50:42.958Z"
      },
      {
        "duration": 5,
        "start_time": "2022-12-28T20:50:45.607Z"
      },
      {
        "duration": 1296,
        "start_time": "2022-12-28T20:50:50.333Z"
      },
      {
        "duration": 43,
        "start_time": "2022-12-28T20:50:51.631Z"
      },
      {
        "duration": 39,
        "start_time": "2022-12-28T20:50:51.676Z"
      },
      {
        "duration": 15,
        "start_time": "2022-12-28T20:50:51.717Z"
      },
      {
        "duration": 14,
        "start_time": "2022-12-28T20:50:51.734Z"
      },
      {
        "duration": 4,
        "start_time": "2022-12-28T20:50:51.750Z"
      },
      {
        "duration": 20,
        "start_time": "2022-12-28T20:50:51.756Z"
      },
      {
        "duration": 5,
        "start_time": "2022-12-28T20:50:51.777Z"
      },
      {
        "duration": 131,
        "start_time": "2022-12-28T20:50:51.783Z"
      },
      {
        "duration": 1089,
        "start_time": "2022-12-28T20:51:07.504Z"
      },
      {
        "duration": 554,
        "start_time": "2022-12-28T20:58:37.106Z"
      },
      {
        "duration": 631,
        "start_time": "2022-12-28T21:00:58.392Z"
      },
      {
        "duration": 638,
        "start_time": "2022-12-28T21:02:41.502Z"
      },
      {
        "duration": 13,
        "start_time": "2022-12-28T21:23:29.650Z"
      },
      {
        "duration": 13,
        "start_time": "2022-12-28T21:23:39.152Z"
      },
      {
        "duration": 25,
        "start_time": "2022-12-28T21:23:49.787Z"
      },
      {
        "duration": 9,
        "start_time": "2022-12-28T21:24:06.893Z"
      },
      {
        "duration": 16,
        "start_time": "2022-12-28T21:24:59.441Z"
      },
      {
        "duration": 4,
        "start_time": "2022-12-28T21:26:19.740Z"
      },
      {
        "duration": 1264,
        "start_time": "2022-12-28T21:26:27.462Z"
      },
      {
        "duration": 41,
        "start_time": "2022-12-28T21:26:28.727Z"
      },
      {
        "duration": 41,
        "start_time": "2022-12-28T21:26:28.770Z"
      },
      {
        "duration": 16,
        "start_time": "2022-12-28T21:26:28.813Z"
      },
      {
        "duration": 12,
        "start_time": "2022-12-28T21:26:28.830Z"
      },
      {
        "duration": 4,
        "start_time": "2022-12-28T21:26:28.844Z"
      },
      {
        "duration": 17,
        "start_time": "2022-12-28T21:26:28.849Z"
      },
      {
        "duration": 3,
        "start_time": "2022-12-28T21:26:28.868Z"
      },
      {
        "duration": 8,
        "start_time": "2022-12-28T21:26:28.873Z"
      },
      {
        "duration": 1075,
        "start_time": "2022-12-28T21:26:28.914Z"
      },
      {
        "duration": 754,
        "start_time": "2022-12-28T21:26:29.991Z"
      },
      {
        "duration": 5,
        "start_time": "2022-12-28T21:27:09.588Z"
      },
      {
        "duration": 554,
        "start_time": "2022-12-28T21:27:28.899Z"
      },
      {
        "duration": 4,
        "start_time": "2022-12-28T21:27:52.538Z"
      },
      {
        "duration": 687,
        "start_time": "2022-12-28T21:28:00.419Z"
      },
      {
        "duration": 1315,
        "start_time": "2022-12-28T21:28:10.792Z"
      },
      {
        "duration": 42,
        "start_time": "2022-12-28T21:28:12.109Z"
      },
      {
        "duration": 41,
        "start_time": "2022-12-28T21:28:12.153Z"
      },
      {
        "duration": 17,
        "start_time": "2022-12-28T21:28:12.196Z"
      },
      {
        "duration": 12,
        "start_time": "2022-12-28T21:28:12.214Z"
      },
      {
        "duration": 4,
        "start_time": "2022-12-28T21:28:12.228Z"
      },
      {
        "duration": 19,
        "start_time": "2022-12-28T21:28:12.233Z"
      },
      {
        "duration": 4,
        "start_time": "2022-12-28T21:28:12.253Z"
      },
      {
        "duration": 8,
        "start_time": "2022-12-28T21:28:12.258Z"
      },
      {
        "duration": 1123,
        "start_time": "2022-12-28T21:28:12.269Z"
      },
      {
        "duration": 736,
        "start_time": "2022-12-28T21:28:13.394Z"
      },
      {
        "duration": 1288,
        "start_time": "2022-12-28T21:29:02.606Z"
      },
      {
        "duration": 42,
        "start_time": "2022-12-28T21:29:03.896Z"
      },
      {
        "duration": 38,
        "start_time": "2022-12-28T21:29:03.940Z"
      },
      {
        "duration": 17,
        "start_time": "2022-12-28T21:29:03.980Z"
      },
      {
        "duration": 13,
        "start_time": "2022-12-28T21:29:03.999Z"
      },
      {
        "duration": 5,
        "start_time": "2022-12-28T21:29:04.014Z"
      },
      {
        "duration": 18,
        "start_time": "2022-12-28T21:29:04.021Z"
      },
      {
        "duration": 4,
        "start_time": "2022-12-28T21:29:04.041Z"
      },
      {
        "duration": 6,
        "start_time": "2022-12-28T21:29:04.048Z"
      },
      {
        "duration": 1121,
        "start_time": "2022-12-28T21:29:04.056Z"
      },
      {
        "duration": 635,
        "start_time": "2022-12-28T21:29:05.178Z"
      },
      {
        "duration": 4,
        "start_time": "2022-12-28T21:30:26.576Z"
      },
      {
        "duration": 1317,
        "start_time": "2022-12-28T21:30:31.582Z"
      },
      {
        "duration": 41,
        "start_time": "2022-12-28T21:30:32.901Z"
      },
      {
        "duration": 38,
        "start_time": "2022-12-28T21:30:32.944Z"
      },
      {
        "duration": 15,
        "start_time": "2022-12-28T21:30:32.985Z"
      },
      {
        "duration": 14,
        "start_time": "2022-12-28T21:30:33.001Z"
      },
      {
        "duration": 3,
        "start_time": "2022-12-28T21:30:33.017Z"
      },
      {
        "duration": 20,
        "start_time": "2022-12-28T21:30:33.022Z"
      },
      {
        "duration": 4,
        "start_time": "2022-12-28T21:30:33.043Z"
      },
      {
        "duration": 6,
        "start_time": "2022-12-28T21:30:33.049Z"
      },
      {
        "duration": 1106,
        "start_time": "2022-12-28T21:30:33.057Z"
      },
      {
        "duration": 728,
        "start_time": "2022-12-28T21:30:34.164Z"
      },
      {
        "duration": 1326,
        "start_time": "2022-12-28T21:31:11.910Z"
      },
      {
        "duration": 42,
        "start_time": "2022-12-28T21:31:13.238Z"
      },
      {
        "duration": 40,
        "start_time": "2022-12-28T21:31:13.281Z"
      },
      {
        "duration": 15,
        "start_time": "2022-12-28T21:31:13.322Z"
      },
      {
        "duration": 12,
        "start_time": "2022-12-28T21:31:13.340Z"
      },
      {
        "duration": 4,
        "start_time": "2022-12-28T21:31:13.354Z"
      },
      {
        "duration": 20,
        "start_time": "2022-12-28T21:31:13.359Z"
      },
      {
        "duration": 4,
        "start_time": "2022-12-28T21:31:13.380Z"
      },
      {
        "duration": 1057,
        "start_time": "2022-12-28T21:31:13.413Z"
      },
      {
        "duration": 684,
        "start_time": "2022-12-28T21:31:14.472Z"
      },
      {
        "duration": 1781,
        "start_time": "2022-12-29T07:35:12.546Z"
      },
      {
        "duration": 49,
        "start_time": "2022-12-29T07:35:14.329Z"
      },
      {
        "duration": 161,
        "start_time": "2022-12-29T07:35:14.379Z"
      },
      {
        "duration": 15,
        "start_time": "2022-12-29T07:35:14.542Z"
      },
      {
        "duration": 12,
        "start_time": "2022-12-29T07:35:14.559Z"
      },
      {
        "duration": 9,
        "start_time": "2022-12-29T07:35:14.572Z"
      },
      {
        "duration": 25,
        "start_time": "2022-12-29T07:35:14.583Z"
      },
      {
        "duration": 4,
        "start_time": "2022-12-29T07:35:14.610Z"
      },
      {
        "duration": 1211,
        "start_time": "2022-12-29T07:35:14.616Z"
      },
      {
        "duration": 598,
        "start_time": "2022-12-29T07:35:15.830Z"
      },
      {
        "duration": 1433,
        "start_time": "2022-12-29T07:46:50.713Z"
      },
      {
        "duration": 1518,
        "start_time": "2022-12-29T07:48:56.860Z"
      },
      {
        "duration": 1349,
        "start_time": "2022-12-29T07:49:01.156Z"
      },
      {
        "duration": 380,
        "start_time": "2022-12-29T07:50:48.209Z"
      },
      {
        "duration": 1327,
        "start_time": "2022-12-29T07:51:09.599Z"
      },
      {
        "duration": 1446,
        "start_time": "2022-12-29T07:56:02.971Z"
      },
      {
        "duration": 307,
        "start_time": "2022-12-29T07:57:04.226Z"
      },
      {
        "duration": 812,
        "start_time": "2022-12-29T08:01:56.797Z"
      },
      {
        "duration": 546,
        "start_time": "2022-12-29T08:02:08.047Z"
      },
      {
        "duration": 2253,
        "start_time": "2022-12-29T08:06:08.177Z"
      },
      {
        "duration": 430,
        "start_time": "2022-12-29T08:06:59.127Z"
      },
      {
        "duration": 397,
        "start_time": "2022-12-29T08:07:14.066Z"
      },
      {
        "duration": 279,
        "start_time": "2022-12-29T08:09:43.713Z"
      },
      {
        "duration": 33,
        "start_time": "2022-12-29T08:13:18.750Z"
      },
      {
        "duration": 31,
        "start_time": "2022-12-29T08:14:44.414Z"
      },
      {
        "duration": 446,
        "start_time": "2022-12-29T08:16:16.181Z"
      },
      {
        "duration": 624,
        "start_time": "2022-12-29T08:17:20.678Z"
      },
      {
        "duration": 655,
        "start_time": "2022-12-29T08:18:51.923Z"
      },
      {
        "duration": 272,
        "start_time": "2022-12-29T08:20:49.247Z"
      },
      {
        "duration": 517,
        "start_time": "2022-12-29T08:21:04.085Z"
      },
      {
        "duration": 626,
        "start_time": "2022-12-29T08:21:12.927Z"
      },
      {
        "duration": 600,
        "start_time": "2022-12-29T08:23:00.145Z"
      },
      {
        "duration": 672,
        "start_time": "2022-12-29T08:26:23.655Z"
      },
      {
        "duration": 77,
        "start_time": "2022-12-29T08:30:20.822Z"
      },
      {
        "duration": 103,
        "start_time": "2022-12-29T08:30:34.227Z"
      },
      {
        "duration": 484,
        "start_time": "2022-12-29T08:30:58.092Z"
      },
      {
        "duration": 248,
        "start_time": "2022-12-29T08:32:56.195Z"
      },
      {
        "duration": 1209,
        "start_time": "2022-12-29T08:35:16.443Z"
      },
      {
        "duration": 1379,
        "start_time": "2022-12-29T08:56:56.549Z"
      },
      {
        "duration": 49,
        "start_time": "2022-12-29T08:56:57.929Z"
      },
      {
        "duration": 48,
        "start_time": "2022-12-29T08:56:57.980Z"
      },
      {
        "duration": 19,
        "start_time": "2022-12-29T08:56:58.029Z"
      },
      {
        "duration": 31,
        "start_time": "2022-12-29T08:56:58.051Z"
      },
      {
        "duration": 22,
        "start_time": "2022-12-29T08:56:58.084Z"
      },
      {
        "duration": 32,
        "start_time": "2022-12-29T08:56:58.108Z"
      },
      {
        "duration": 23,
        "start_time": "2022-12-29T08:56:58.142Z"
      },
      {
        "duration": 1229,
        "start_time": "2022-12-29T08:56:58.167Z"
      },
      {
        "duration": 362,
        "start_time": "2022-12-29T08:56:59.398Z"
      },
      {
        "duration": 327,
        "start_time": "2022-12-29T08:56:59.761Z"
      },
      {
        "duration": 1394,
        "start_time": "2022-12-29T08:57:00.090Z"
      },
      {
        "duration": 429,
        "start_time": "2022-12-29T08:57:01.485Z"
      },
      {
        "duration": 255,
        "start_time": "2022-12-29T08:57:01.918Z"
      },
      {
        "duration": 1347,
        "start_time": "2022-12-29T10:14:23.548Z"
      },
      {
        "duration": 48,
        "start_time": "2022-12-29T10:14:24.897Z"
      },
      {
        "duration": 50,
        "start_time": "2022-12-29T10:14:24.946Z"
      },
      {
        "duration": 18,
        "start_time": "2022-12-29T10:14:24.999Z"
      },
      {
        "duration": 15,
        "start_time": "2022-12-29T10:14:25.018Z"
      },
      {
        "duration": 4,
        "start_time": "2022-12-29T10:14:25.034Z"
      },
      {
        "duration": 42,
        "start_time": "2022-12-29T10:14:25.040Z"
      },
      {
        "duration": 4,
        "start_time": "2022-12-29T10:14:25.084Z"
      },
      {
        "duration": 1228,
        "start_time": "2022-12-29T10:14:25.090Z"
      },
      {
        "duration": 354,
        "start_time": "2022-12-29T10:14:26.322Z"
      },
      {
        "duration": 368,
        "start_time": "2022-12-29T10:14:26.678Z"
      },
      {
        "duration": 1432,
        "start_time": "2022-12-29T10:14:27.048Z"
      },
      {
        "duration": 444,
        "start_time": "2022-12-29T10:14:28.482Z"
      },
      {
        "duration": 251,
        "start_time": "2022-12-29T10:14:28.927Z"
      },
      {
        "duration": 1393,
        "start_time": "2022-12-29T10:34:03.174Z"
      },
      {
        "duration": 49,
        "start_time": "2022-12-29T10:34:04.569Z"
      },
      {
        "duration": 41,
        "start_time": "2022-12-29T10:34:04.620Z"
      },
      {
        "duration": 16,
        "start_time": "2022-12-29T10:34:04.663Z"
      },
      {
        "duration": 21,
        "start_time": "2022-12-29T10:34:04.681Z"
      },
      {
        "duration": 4,
        "start_time": "2022-12-29T10:34:04.704Z"
      },
      {
        "duration": 29,
        "start_time": "2022-12-29T10:34:04.709Z"
      },
      {
        "duration": 4,
        "start_time": "2022-12-29T10:34:04.739Z"
      },
      {
        "duration": 1151,
        "start_time": "2022-12-29T10:34:04.745Z"
      },
      {
        "duration": 328,
        "start_time": "2022-12-29T10:34:05.899Z"
      },
      {
        "duration": 302,
        "start_time": "2022-12-29T10:34:06.229Z"
      },
      {
        "duration": 1319,
        "start_time": "2022-12-29T10:34:06.533Z"
      },
      {
        "duration": 443,
        "start_time": "2022-12-29T10:34:07.854Z"
      },
      {
        "duration": 249,
        "start_time": "2022-12-29T10:34:08.299Z"
      },
      {
        "duration": 30,
        "start_time": "2022-12-29T10:34:08.550Z"
      },
      {
        "duration": 11,
        "start_time": "2022-12-29T10:36:00.991Z"
      },
      {
        "duration": 22,
        "start_time": "2022-12-29T10:36:23.214Z"
      },
      {
        "duration": 1283,
        "start_time": "2022-12-29T10:36:32.838Z"
      },
      {
        "duration": 45,
        "start_time": "2022-12-29T10:36:34.123Z"
      },
      {
        "duration": 40,
        "start_time": "2022-12-29T10:36:34.170Z"
      },
      {
        "duration": 16,
        "start_time": "2022-12-29T10:36:34.212Z"
      },
      {
        "duration": 12,
        "start_time": "2022-12-29T10:36:34.230Z"
      },
      {
        "duration": 4,
        "start_time": "2022-12-29T10:36:34.244Z"
      },
      {
        "duration": 29,
        "start_time": "2022-12-29T10:36:34.249Z"
      },
      {
        "duration": 4,
        "start_time": "2022-12-29T10:36:34.280Z"
      },
      {
        "duration": 1086,
        "start_time": "2022-12-29T10:36:34.285Z"
      },
      {
        "duration": 324,
        "start_time": "2022-12-29T10:36:35.372Z"
      },
      {
        "duration": 302,
        "start_time": "2022-12-29T10:36:35.698Z"
      },
      {
        "duration": 1240,
        "start_time": "2022-12-29T10:36:36.002Z"
      },
      {
        "duration": 460,
        "start_time": "2022-12-29T10:36:37.244Z"
      },
      {
        "duration": 288,
        "start_time": "2022-12-29T10:36:37.707Z"
      },
      {
        "duration": 26,
        "start_time": "2022-12-29T10:36:37.996Z"
      },
      {
        "duration": 1370,
        "start_time": "2022-12-29T10:45:20.036Z"
      },
      {
        "duration": 45,
        "start_time": "2022-12-29T10:45:21.408Z"
      },
      {
        "duration": 40,
        "start_time": "2022-12-29T10:45:21.455Z"
      },
      {
        "duration": 17,
        "start_time": "2022-12-29T10:45:21.497Z"
      },
      {
        "duration": 14,
        "start_time": "2022-12-29T10:45:21.516Z"
      },
      {
        "duration": 5,
        "start_time": "2022-12-29T10:45:21.532Z"
      },
      {
        "duration": 41,
        "start_time": "2022-12-29T10:45:21.538Z"
      },
      {
        "duration": 5,
        "start_time": "2022-12-29T10:45:21.581Z"
      },
      {
        "duration": 1179,
        "start_time": "2022-12-29T10:45:21.587Z"
      },
      {
        "duration": 359,
        "start_time": "2022-12-29T10:45:22.769Z"
      },
      {
        "duration": 320,
        "start_time": "2022-12-29T10:45:23.130Z"
      },
      {
        "duration": 1421,
        "start_time": "2022-12-29T10:45:23.452Z"
      },
      {
        "duration": 536,
        "start_time": "2022-12-29T10:45:24.878Z"
      },
      {
        "duration": 294,
        "start_time": "2022-12-29T10:45:25.416Z"
      },
      {
        "duration": 13,
        "start_time": "2022-12-29T10:45:25.712Z"
      },
      {
        "duration": 38,
        "start_time": "2022-12-29T10:45:25.727Z"
      },
      {
        "duration": 96,
        "start_time": "2022-12-29T11:11:32.191Z"
      },
      {
        "duration": 11,
        "start_time": "2022-12-29T11:11:43.114Z"
      },
      {
        "duration": 28,
        "start_time": "2022-12-29T11:12:40.647Z"
      },
      {
        "duration": 8,
        "start_time": "2022-12-29T11:12:45.863Z"
      },
      {
        "duration": 11,
        "start_time": "2022-12-29T11:13:45.739Z"
      },
      {
        "duration": 1312,
        "start_time": "2022-12-29T12:12:48.689Z"
      },
      {
        "duration": 41,
        "start_time": "2022-12-29T12:12:50.003Z"
      },
      {
        "duration": 47,
        "start_time": "2022-12-29T12:12:50.046Z"
      },
      {
        "duration": 19,
        "start_time": "2022-12-29T12:12:50.096Z"
      },
      {
        "duration": 12,
        "start_time": "2022-12-29T12:12:50.116Z"
      },
      {
        "duration": 15,
        "start_time": "2022-12-29T12:12:50.129Z"
      },
      {
        "duration": 33,
        "start_time": "2022-12-29T12:12:50.145Z"
      },
      {
        "duration": 8,
        "start_time": "2022-12-29T12:12:50.179Z"
      },
      {
        "duration": 1104,
        "start_time": "2022-12-29T12:12:50.189Z"
      },
      {
        "duration": 329,
        "start_time": "2022-12-29T12:12:51.295Z"
      },
      {
        "duration": 299,
        "start_time": "2022-12-29T12:12:51.625Z"
      },
      {
        "duration": 1239,
        "start_time": "2022-12-29T12:12:51.925Z"
      },
      {
        "duration": 450,
        "start_time": "2022-12-29T12:12:53.166Z"
      },
      {
        "duration": 240,
        "start_time": "2022-12-29T12:12:53.618Z"
      },
      {
        "duration": 20,
        "start_time": "2022-12-29T12:12:53.860Z"
      },
      {
        "duration": 16,
        "start_time": "2022-12-29T12:12:53.882Z"
      },
      {
        "duration": 12,
        "start_time": "2022-12-29T12:12:53.900Z"
      },
      {
        "duration": 16,
        "start_time": "2022-12-29T12:12:53.914Z"
      },
      {
        "duration": 140,
        "start_time": "2022-12-29T12:12:53.935Z"
      },
      {
        "duration": 0,
        "start_time": "2022-12-29T12:12:54.078Z"
      },
      {
        "duration": 1310,
        "start_time": "2022-12-29T12:14:41.469Z"
      },
      {
        "duration": 45,
        "start_time": "2022-12-29T12:14:42.781Z"
      },
      {
        "duration": 41,
        "start_time": "2022-12-29T12:14:42.828Z"
      },
      {
        "duration": 18,
        "start_time": "2022-12-29T12:14:42.871Z"
      },
      {
        "duration": 25,
        "start_time": "2022-12-29T12:14:42.891Z"
      },
      {
        "duration": 4,
        "start_time": "2022-12-29T12:14:42.918Z"
      },
      {
        "duration": 46,
        "start_time": "2022-12-29T12:14:42.924Z"
      },
      {
        "duration": 4,
        "start_time": "2022-12-29T12:14:42.972Z"
      },
      {
        "duration": 1196,
        "start_time": "2022-12-29T12:14:42.978Z"
      },
      {
        "duration": 370,
        "start_time": "2022-12-29T12:14:44.178Z"
      },
      {
        "duration": 313,
        "start_time": "2022-12-29T12:14:44.550Z"
      },
      {
        "duration": 1226,
        "start_time": "2022-12-29T12:14:44.864Z"
      },
      {
        "duration": 468,
        "start_time": "2022-12-29T12:14:46.091Z"
      },
      {
        "duration": 247,
        "start_time": "2022-12-29T12:14:46.562Z"
      },
      {
        "duration": 10,
        "start_time": "2022-12-29T12:14:46.810Z"
      },
      {
        "duration": 14,
        "start_time": "2022-12-29T12:14:46.822Z"
      },
      {
        "duration": 20,
        "start_time": "2022-12-29T12:14:46.837Z"
      },
      {
        "duration": 9,
        "start_time": "2022-12-29T12:14:46.859Z"
      },
      {
        "duration": 9,
        "start_time": "2022-12-29T12:14:46.869Z"
      },
      {
        "duration": 4,
        "start_time": "2022-12-29T12:14:46.879Z"
      },
      {
        "duration": 4,
        "start_time": "2022-12-29T12:27:57.024Z"
      },
      {
        "duration": 1258,
        "start_time": "2022-12-29T12:49:54.640Z"
      },
      {
        "duration": 43,
        "start_time": "2022-12-29T12:49:55.900Z"
      },
      {
        "duration": 40,
        "start_time": "2022-12-29T12:49:55.944Z"
      },
      {
        "duration": 16,
        "start_time": "2022-12-29T12:49:55.986Z"
      },
      {
        "duration": 15,
        "start_time": "2022-12-29T12:49:56.004Z"
      },
      {
        "duration": 5,
        "start_time": "2022-12-29T12:49:56.021Z"
      },
      {
        "duration": 28,
        "start_time": "2022-12-29T12:49:56.028Z"
      },
      {
        "duration": 5,
        "start_time": "2022-12-29T12:49:56.077Z"
      },
      {
        "duration": 1202,
        "start_time": "2022-12-29T12:49:56.084Z"
      },
      {
        "duration": 372,
        "start_time": "2022-12-29T12:49:57.288Z"
      },
      {
        "duration": 345,
        "start_time": "2022-12-29T12:49:57.662Z"
      },
      {
        "duration": 1430,
        "start_time": "2022-12-29T12:49:58.009Z"
      },
      {
        "duration": 549,
        "start_time": "2022-12-29T12:49:59.441Z"
      },
      {
        "duration": 314,
        "start_time": "2022-12-29T12:49:59.993Z"
      },
      {
        "duration": 11,
        "start_time": "2022-12-29T12:50:00.309Z"
      },
      {
        "duration": 30,
        "start_time": "2022-12-29T12:50:00.322Z"
      },
      {
        "duration": 28,
        "start_time": "2022-12-29T12:50:00.353Z"
      },
      {
        "duration": 18,
        "start_time": "2022-12-29T12:50:00.383Z"
      },
      {
        "duration": 16,
        "start_time": "2022-12-29T12:50:00.403Z"
      },
      {
        "duration": 26,
        "start_time": "2022-12-29T12:50:00.421Z"
      },
      {
        "duration": 18,
        "start_time": "2022-12-29T12:50:00.449Z"
      },
      {
        "duration": 24,
        "start_time": "2022-12-29T12:50:00.470Z"
      },
      {
        "duration": 43,
        "start_time": "2022-12-29T12:50:00.496Z"
      },
      {
        "duration": 23,
        "start_time": "2022-12-29T12:50:00.541Z"
      },
      {
        "duration": 12,
        "start_time": "2022-12-29T12:52:12.214Z"
      },
      {
        "duration": 17,
        "start_time": "2022-12-29T12:53:18.277Z"
      },
      {
        "duration": 1249,
        "start_time": "2022-12-29T12:53:27.432Z"
      },
      {
        "duration": 44,
        "start_time": "2022-12-29T12:53:28.683Z"
      },
      {
        "duration": 41,
        "start_time": "2022-12-29T12:53:28.728Z"
      },
      {
        "duration": 17,
        "start_time": "2022-12-29T12:53:28.771Z"
      },
      {
        "duration": 12,
        "start_time": "2022-12-29T12:53:28.789Z"
      },
      {
        "duration": 4,
        "start_time": "2022-12-29T12:53:28.803Z"
      },
      {
        "duration": 20,
        "start_time": "2022-12-29T12:53:28.808Z"
      },
      {
        "duration": 3,
        "start_time": "2022-12-29T12:53:28.830Z"
      },
      {
        "duration": 1110,
        "start_time": "2022-12-29T12:53:28.835Z"
      },
      {
        "duration": 327,
        "start_time": "2022-12-29T12:53:29.948Z"
      },
      {
        "duration": 295,
        "start_time": "2022-12-29T12:53:30.277Z"
      },
      {
        "duration": 1276,
        "start_time": "2022-12-29T12:53:30.577Z"
      },
      {
        "duration": 450,
        "start_time": "2022-12-29T12:53:31.854Z"
      },
      {
        "duration": 259,
        "start_time": "2022-12-29T12:53:32.306Z"
      },
      {
        "duration": 19,
        "start_time": "2022-12-29T12:53:32.566Z"
      },
      {
        "duration": 19,
        "start_time": "2022-12-29T12:53:32.586Z"
      },
      {
        "duration": 28,
        "start_time": "2022-12-29T12:53:32.606Z"
      },
      {
        "duration": 21,
        "start_time": "2022-12-29T12:53:32.636Z"
      },
      {
        "duration": 6,
        "start_time": "2022-12-29T12:53:32.659Z"
      },
      {
        "duration": 24,
        "start_time": "2022-12-29T12:53:32.667Z"
      },
      {
        "duration": 26,
        "start_time": "2022-12-29T12:53:32.692Z"
      },
      {
        "duration": 17,
        "start_time": "2022-12-29T12:53:32.720Z"
      },
      {
        "duration": 60,
        "start_time": "2022-12-29T12:53:32.738Z"
      },
      {
        "duration": 12,
        "start_time": "2022-12-29T12:53:32.799Z"
      },
      {
        "duration": 12,
        "start_time": "2022-12-29T13:10:54.708Z"
      },
      {
        "duration": 1317,
        "start_time": "2022-12-29T13:31:44.101Z"
      },
      {
        "duration": 42,
        "start_time": "2022-12-29T13:31:45.420Z"
      },
      {
        "duration": 41,
        "start_time": "2022-12-29T13:31:45.463Z"
      },
      {
        "duration": 19,
        "start_time": "2022-12-29T13:31:45.506Z"
      },
      {
        "duration": 12,
        "start_time": "2022-12-29T13:31:45.526Z"
      },
      {
        "duration": 10,
        "start_time": "2022-12-29T13:31:45.540Z"
      },
      {
        "duration": 20,
        "start_time": "2022-12-29T13:31:45.552Z"
      },
      {
        "duration": 6,
        "start_time": "2022-12-29T13:31:45.573Z"
      },
      {
        "duration": 1094,
        "start_time": "2022-12-29T13:31:45.581Z"
      },
      {
        "duration": 326,
        "start_time": "2022-12-29T13:31:46.678Z"
      },
      {
        "duration": 283,
        "start_time": "2022-12-29T13:31:47.006Z"
      },
      {
        "duration": 1163,
        "start_time": "2022-12-29T13:31:47.291Z"
      },
      {
        "duration": 426,
        "start_time": "2022-12-29T13:31:48.456Z"
      },
      {
        "duration": 267,
        "start_time": "2022-12-29T13:31:48.884Z"
      },
      {
        "duration": 10,
        "start_time": "2022-12-29T13:31:49.153Z"
      },
      {
        "duration": 21,
        "start_time": "2022-12-29T13:31:49.165Z"
      },
      {
        "duration": 9,
        "start_time": "2022-12-29T13:31:49.188Z"
      },
      {
        "duration": 8,
        "start_time": "2022-12-29T13:31:49.199Z"
      },
      {
        "duration": 6,
        "start_time": "2022-12-29T13:31:49.208Z"
      },
      {
        "duration": 12,
        "start_time": "2022-12-29T13:31:49.216Z"
      },
      {
        "duration": 21,
        "start_time": "2022-12-29T13:31:49.230Z"
      },
      {
        "duration": 12,
        "start_time": "2022-12-29T13:31:49.253Z"
      },
      {
        "duration": 21,
        "start_time": "2022-12-29T13:31:49.267Z"
      },
      {
        "duration": 11,
        "start_time": "2022-12-29T13:31:49.289Z"
      },
      {
        "duration": 1456,
        "start_time": "2022-12-29T16:47:02.893Z"
      },
      {
        "duration": 44,
        "start_time": "2022-12-29T16:47:04.351Z"
      },
      {
        "duration": 340,
        "start_time": "2022-12-29T16:47:04.396Z"
      },
      {
        "duration": 17,
        "start_time": "2022-12-29T16:47:04.738Z"
      },
      {
        "duration": 12,
        "start_time": "2022-12-29T16:47:04.757Z"
      },
      {
        "duration": 4,
        "start_time": "2022-12-29T16:47:04.770Z"
      },
      {
        "duration": 19,
        "start_time": "2022-12-29T16:47:04.776Z"
      },
      {
        "duration": 4,
        "start_time": "2022-12-29T16:47:04.796Z"
      },
      {
        "duration": 1251,
        "start_time": "2022-12-29T16:47:04.801Z"
      },
      {
        "duration": 240,
        "start_time": "2022-12-29T16:47:06.054Z"
      },
      {
        "duration": 289,
        "start_time": "2022-12-29T16:47:06.296Z"
      },
      {
        "duration": 1279,
        "start_time": "2022-12-29T16:47:06.586Z"
      },
      {
        "duration": 337,
        "start_time": "2022-12-29T16:47:07.868Z"
      },
      {
        "duration": 237,
        "start_time": "2022-12-29T16:47:08.207Z"
      },
      {
        "duration": 9,
        "start_time": "2022-12-29T16:47:08.446Z"
      },
      {
        "duration": 10,
        "start_time": "2022-12-29T16:47:08.457Z"
      },
      {
        "duration": 9,
        "start_time": "2022-12-29T16:47:08.468Z"
      },
      {
        "duration": 5,
        "start_time": "2022-12-29T16:47:08.478Z"
      },
      {
        "duration": 5,
        "start_time": "2022-12-29T16:47:08.485Z"
      },
      {
        "duration": 7,
        "start_time": "2022-12-29T16:47:08.492Z"
      },
      {
        "duration": 7,
        "start_time": "2022-12-29T16:47:08.500Z"
      },
      {
        "duration": 24,
        "start_time": "2022-12-29T16:47:08.509Z"
      },
      {
        "duration": 22,
        "start_time": "2022-12-29T16:47:08.535Z"
      },
      {
        "duration": 10,
        "start_time": "2022-12-29T16:47:08.558Z"
      },
      {
        "duration": 1509,
        "start_time": "2022-12-30T09:15:23.888Z"
      },
      {
        "duration": 52,
        "start_time": "2022-12-30T09:15:25.399Z"
      },
      {
        "duration": 156,
        "start_time": "2022-12-30T09:15:25.453Z"
      },
      {
        "duration": 19,
        "start_time": "2022-12-30T09:15:25.611Z"
      },
      {
        "duration": 13,
        "start_time": "2022-12-30T09:15:25.632Z"
      },
      {
        "duration": 5,
        "start_time": "2022-12-30T09:15:25.646Z"
      },
      {
        "duration": 22,
        "start_time": "2022-12-30T09:15:25.652Z"
      },
      {
        "duration": 7,
        "start_time": "2022-12-30T09:15:25.676Z"
      },
      {
        "duration": 1251,
        "start_time": "2022-12-30T09:15:25.685Z"
      },
      {
        "duration": 258,
        "start_time": "2022-12-30T09:15:26.939Z"
      },
      {
        "duration": 303,
        "start_time": "2022-12-30T09:15:27.198Z"
      },
      {
        "duration": 1458,
        "start_time": "2022-12-30T09:15:27.503Z"
      },
      {
        "duration": 378,
        "start_time": "2022-12-30T09:15:28.963Z"
      },
      {
        "duration": 283,
        "start_time": "2022-12-30T09:15:29.343Z"
      },
      {
        "duration": 10,
        "start_time": "2022-12-30T09:15:29.628Z"
      },
      {
        "duration": 11,
        "start_time": "2022-12-30T09:15:29.640Z"
      },
      {
        "duration": 10,
        "start_time": "2022-12-30T09:15:29.653Z"
      },
      {
        "duration": 8,
        "start_time": "2022-12-30T09:15:29.665Z"
      },
      {
        "duration": 5,
        "start_time": "2022-12-30T09:15:29.675Z"
      },
      {
        "duration": 5,
        "start_time": "2022-12-30T09:15:29.682Z"
      },
      {
        "duration": 15,
        "start_time": "2022-12-30T09:15:29.689Z"
      },
      {
        "duration": 10,
        "start_time": "2022-12-30T09:15:29.722Z"
      },
      {
        "duration": 20,
        "start_time": "2022-12-30T09:15:29.734Z"
      },
      {
        "duration": 12,
        "start_time": "2022-12-30T09:15:29.756Z"
      },
      {
        "duration": 1473,
        "start_time": "2023-01-02T13:17:59.746Z"
      },
      {
        "duration": 45,
        "start_time": "2023-01-02T13:18:01.222Z"
      },
      {
        "duration": 166,
        "start_time": "2023-01-02T13:18:01.269Z"
      },
      {
        "duration": 17,
        "start_time": "2023-01-02T13:18:01.437Z"
      },
      {
        "duration": 16,
        "start_time": "2023-01-02T13:18:01.455Z"
      },
      {
        "duration": 5,
        "start_time": "2023-01-02T13:18:01.473Z"
      },
      {
        "duration": 24,
        "start_time": "2023-01-02T13:18:01.479Z"
      },
      {
        "duration": 3,
        "start_time": "2023-01-02T13:18:01.505Z"
      },
      {
        "duration": 1170,
        "start_time": "2023-01-02T13:18:01.510Z"
      },
      {
        "duration": 247,
        "start_time": "2023-01-02T13:18:02.683Z"
      },
      {
        "duration": 296,
        "start_time": "2023-01-02T13:18:02.932Z"
      },
      {
        "duration": 1424,
        "start_time": "2023-01-02T13:18:03.230Z"
      },
      {
        "duration": 345,
        "start_time": "2023-01-02T13:18:04.656Z"
      },
      {
        "duration": 266,
        "start_time": "2023-01-02T13:18:05.003Z"
      },
      {
        "duration": 10,
        "start_time": "2023-01-02T13:18:05.271Z"
      },
      {
        "duration": 11,
        "start_time": "2023-01-02T13:18:05.283Z"
      },
      {
        "duration": 7,
        "start_time": "2023-01-02T13:18:05.296Z"
      },
      {
        "duration": 6,
        "start_time": "2023-01-02T13:18:05.322Z"
      },
      {
        "duration": 6,
        "start_time": "2023-01-02T13:18:05.330Z"
      },
      {
        "duration": 5,
        "start_time": "2023-01-02T13:18:05.337Z"
      },
      {
        "duration": 6,
        "start_time": "2023-01-02T13:18:05.343Z"
      },
      {
        "duration": 11,
        "start_time": "2023-01-02T13:18:05.350Z"
      },
      {
        "duration": 20,
        "start_time": "2023-01-02T13:18:05.363Z"
      },
      {
        "duration": 11,
        "start_time": "2023-01-02T13:18:05.385Z"
      },
      {
        "duration": 1282,
        "start_time": "2023-01-02T13:28:48.751Z"
      },
      {
        "duration": 52,
        "start_time": "2023-01-02T13:28:50.035Z"
      },
      {
        "duration": 41,
        "start_time": "2023-01-02T13:28:50.090Z"
      },
      {
        "duration": 19,
        "start_time": "2023-01-02T13:28:50.132Z"
      },
      {
        "duration": 15,
        "start_time": "2023-01-02T13:28:50.153Z"
      },
      {
        "duration": 5,
        "start_time": "2023-01-02T13:28:50.169Z"
      },
      {
        "duration": 46,
        "start_time": "2023-01-02T13:28:50.176Z"
      },
      {
        "duration": 4,
        "start_time": "2023-01-02T13:28:50.224Z"
      },
      {
        "duration": 1100,
        "start_time": "2023-01-02T13:28:50.230Z"
      },
      {
        "duration": 337,
        "start_time": "2023-01-02T13:28:51.332Z"
      },
      {
        "duration": 310,
        "start_time": "2023-01-02T13:28:51.671Z"
      },
      {
        "duration": 1206,
        "start_time": "2023-01-02T13:28:51.983Z"
      },
      {
        "duration": 438,
        "start_time": "2023-01-02T13:28:53.190Z"
      },
      {
        "duration": 255,
        "start_time": "2023-01-02T13:28:53.631Z"
      },
      {
        "duration": 10,
        "start_time": "2023-01-02T13:28:53.887Z"
      },
      {
        "duration": 24,
        "start_time": "2023-01-02T13:28:53.898Z"
      },
      {
        "duration": 8,
        "start_time": "2023-01-02T13:28:53.923Z"
      },
      {
        "duration": 7,
        "start_time": "2023-01-02T13:28:53.932Z"
      },
      {
        "duration": 25,
        "start_time": "2023-01-02T13:28:53.940Z"
      },
      {
        "duration": 11,
        "start_time": "2023-01-02T13:28:53.967Z"
      },
      {
        "duration": 13,
        "start_time": "2023-01-02T13:28:53.980Z"
      },
      {
        "duration": 14,
        "start_time": "2023-01-02T13:28:53.995Z"
      },
      {
        "duration": 18,
        "start_time": "2023-01-02T13:28:54.011Z"
      },
      {
        "duration": 12,
        "start_time": "2023-01-02T13:28:54.031Z"
      },
      {
        "duration": 39,
        "start_time": "2023-01-02T13:28:54.044Z"
      },
      {
        "duration": 146,
        "start_time": "2023-01-02T13:28:54.085Z"
      },
      {
        "duration": 0,
        "start_time": "2023-01-02T13:28:54.233Z"
      },
      {
        "duration": 0,
        "start_time": "2023-01-02T13:28:54.234Z"
      },
      {
        "duration": 16,
        "start_time": "2023-01-02T13:29:41.147Z"
      },
      {
        "duration": 1350,
        "start_time": "2023-01-02T13:32:12.903Z"
      },
      {
        "duration": 46,
        "start_time": "2023-01-02T13:32:14.256Z"
      },
      {
        "duration": 39,
        "start_time": "2023-01-02T13:32:14.304Z"
      },
      {
        "duration": 16,
        "start_time": "2023-01-02T13:32:14.345Z"
      },
      {
        "duration": 13,
        "start_time": "2023-01-02T13:32:14.363Z"
      },
      {
        "duration": 4,
        "start_time": "2023-01-02T13:32:14.377Z"
      },
      {
        "duration": 19,
        "start_time": "2023-01-02T13:32:14.383Z"
      },
      {
        "duration": 5,
        "start_time": "2023-01-02T13:32:14.421Z"
      },
      {
        "duration": 1075,
        "start_time": "2023-01-02T13:32:14.428Z"
      },
      {
        "duration": 319,
        "start_time": "2023-01-02T13:32:15.505Z"
      },
      {
        "duration": 322,
        "start_time": "2023-01-02T13:32:15.826Z"
      },
      {
        "duration": 1242,
        "start_time": "2023-01-02T13:32:16.150Z"
      },
      {
        "duration": 452,
        "start_time": "2023-01-02T13:32:17.394Z"
      },
      {
        "duration": 257,
        "start_time": "2023-01-02T13:32:17.849Z"
      },
      {
        "duration": 16,
        "start_time": "2023-01-02T13:32:18.108Z"
      },
      {
        "duration": 11,
        "start_time": "2023-01-02T13:32:18.126Z"
      },
      {
        "duration": 6,
        "start_time": "2023-01-02T13:32:18.139Z"
      },
      {
        "duration": 6,
        "start_time": "2023-01-02T13:32:18.147Z"
      },
      {
        "duration": 5,
        "start_time": "2023-01-02T13:32:18.154Z"
      },
      {
        "duration": 4,
        "start_time": "2023-01-02T13:32:18.160Z"
      },
      {
        "duration": 3,
        "start_time": "2023-01-02T13:32:18.166Z"
      },
      {
        "duration": 10,
        "start_time": "2023-01-02T13:32:18.171Z"
      },
      {
        "duration": 46,
        "start_time": "2023-01-02T13:32:18.182Z"
      },
      {
        "duration": 11,
        "start_time": "2023-01-02T13:32:18.230Z"
      },
      {
        "duration": 4,
        "start_time": "2023-01-02T13:32:18.242Z"
      },
      {
        "duration": 116,
        "start_time": "2023-01-02T13:32:18.247Z"
      },
      {
        "duration": 0,
        "start_time": "2023-01-02T13:32:18.365Z"
      },
      {
        "duration": 0,
        "start_time": "2023-01-02T13:32:18.366Z"
      },
      {
        "duration": 1366,
        "start_time": "2023-01-03T07:50:43.656Z"
      },
      {
        "duration": 47,
        "start_time": "2023-01-03T07:50:45.024Z"
      },
      {
        "duration": 78,
        "start_time": "2023-01-03T07:50:45.073Z"
      },
      {
        "duration": 16,
        "start_time": "2023-01-03T07:50:45.154Z"
      },
      {
        "duration": 13,
        "start_time": "2023-01-03T07:50:45.172Z"
      },
      {
        "duration": 4,
        "start_time": "2023-01-03T07:50:45.187Z"
      },
      {
        "duration": 24,
        "start_time": "2023-01-03T07:50:45.193Z"
      },
      {
        "duration": 4,
        "start_time": "2023-01-03T07:50:45.218Z"
      },
      {
        "duration": 1229,
        "start_time": "2023-01-03T07:50:45.223Z"
      },
      {
        "duration": 242,
        "start_time": "2023-01-03T07:50:46.454Z"
      },
      {
        "duration": 285,
        "start_time": "2023-01-03T07:50:46.697Z"
      },
      {
        "duration": 1299,
        "start_time": "2023-01-03T07:50:46.984Z"
      },
      {
        "duration": 327,
        "start_time": "2023-01-03T07:50:48.285Z"
      },
      {
        "duration": 247,
        "start_time": "2023-01-03T07:50:48.614Z"
      },
      {
        "duration": 10,
        "start_time": "2023-01-03T07:50:48.862Z"
      },
      {
        "duration": 14,
        "start_time": "2023-01-03T07:50:48.873Z"
      },
      {
        "duration": 5,
        "start_time": "2023-01-03T07:50:48.896Z"
      },
      {
        "duration": 9,
        "start_time": "2023-01-03T07:50:48.902Z"
      },
      {
        "duration": 5,
        "start_time": "2023-01-03T07:50:48.912Z"
      },
      {
        "duration": 112,
        "start_time": "2023-01-03T07:50:48.918Z"
      },
      {
        "duration": 0,
        "start_time": "2023-01-03T07:50:49.031Z"
      },
      {
        "duration": 0,
        "start_time": "2023-01-03T07:50:49.032Z"
      },
      {
        "duration": 0,
        "start_time": "2023-01-03T07:50:49.035Z"
      },
      {
        "duration": 0,
        "start_time": "2023-01-03T07:50:49.036Z"
      },
      {
        "duration": 0,
        "start_time": "2023-01-03T07:50:49.037Z"
      },
      {
        "duration": 0,
        "start_time": "2023-01-03T07:50:49.038Z"
      },
      {
        "duration": 0,
        "start_time": "2023-01-03T07:50:49.039Z"
      },
      {
        "duration": 1,
        "start_time": "2023-01-03T07:50:49.040Z"
      },
      {
        "duration": 0,
        "start_time": "2023-01-03T07:50:49.042Z"
      },
      {
        "duration": 1260,
        "start_time": "2023-01-03T08:15:49.083Z"
      },
      {
        "duration": 39,
        "start_time": "2023-01-03T08:15:50.345Z"
      },
      {
        "duration": 52,
        "start_time": "2023-01-03T08:15:50.386Z"
      },
      {
        "duration": 17,
        "start_time": "2023-01-03T08:15:50.440Z"
      },
      {
        "duration": 20,
        "start_time": "2023-01-03T08:15:50.459Z"
      },
      {
        "duration": 14,
        "start_time": "2023-01-03T08:15:50.481Z"
      },
      {
        "duration": 24,
        "start_time": "2023-01-03T08:15:50.501Z"
      },
      {
        "duration": 3,
        "start_time": "2023-01-03T08:15:50.527Z"
      },
      {
        "duration": 1060,
        "start_time": "2023-01-03T08:15:50.531Z"
      },
      {
        "duration": 310,
        "start_time": "2023-01-03T08:15:51.608Z"
      },
      {
        "duration": 317,
        "start_time": "2023-01-03T08:15:51.920Z"
      },
      {
        "duration": 1335,
        "start_time": "2023-01-03T08:15:52.239Z"
      },
      {
        "duration": 469,
        "start_time": "2023-01-03T08:15:53.575Z"
      },
      {
        "duration": 274,
        "start_time": "2023-01-03T08:15:54.046Z"
      },
      {
        "duration": 10,
        "start_time": "2023-01-03T08:15:54.321Z"
      },
      {
        "duration": 16,
        "start_time": "2023-01-03T08:15:54.333Z"
      },
      {
        "duration": 23,
        "start_time": "2023-01-03T08:15:54.350Z"
      },
      {
        "duration": 114,
        "start_time": "2023-01-03T08:15:54.374Z"
      },
      {
        "duration": 0,
        "start_time": "2023-01-03T08:15:54.490Z"
      },
      {
        "duration": 0,
        "start_time": "2023-01-03T08:15:54.491Z"
      },
      {
        "duration": 0,
        "start_time": "2023-01-03T08:15:54.502Z"
      },
      {
        "duration": 0,
        "start_time": "2023-01-03T08:15:54.502Z"
      },
      {
        "duration": 0,
        "start_time": "2023-01-03T08:15:54.503Z"
      },
      {
        "duration": 0,
        "start_time": "2023-01-03T08:15:54.503Z"
      },
      {
        "duration": 0,
        "start_time": "2023-01-03T08:15:54.504Z"
      },
      {
        "duration": 0,
        "start_time": "2023-01-03T08:15:54.507Z"
      },
      {
        "duration": 0,
        "start_time": "2023-01-03T08:15:54.508Z"
      },
      {
        "duration": 0,
        "start_time": "2023-01-03T08:15:54.510Z"
      },
      {
        "duration": 0,
        "start_time": "2023-01-03T08:15:54.512Z"
      },
      {
        "duration": 0,
        "start_time": "2023-01-03T08:15:54.513Z"
      },
      {
        "duration": 6,
        "start_time": "2023-01-03T08:18:38.218Z"
      },
      {
        "duration": 1219,
        "start_time": "2023-01-03T08:18:46.270Z"
      },
      {
        "duration": 48,
        "start_time": "2023-01-03T08:18:47.491Z"
      },
      {
        "duration": 39,
        "start_time": "2023-01-03T08:18:47.541Z"
      },
      {
        "duration": 24,
        "start_time": "2023-01-03T08:18:47.582Z"
      },
      {
        "duration": 26,
        "start_time": "2023-01-03T08:18:47.608Z"
      },
      {
        "duration": 4,
        "start_time": "2023-01-03T08:18:47.635Z"
      },
      {
        "duration": 18,
        "start_time": "2023-01-03T08:18:47.640Z"
      },
      {
        "duration": 3,
        "start_time": "2023-01-03T08:18:47.660Z"
      },
      {
        "duration": 1061,
        "start_time": "2023-01-03T08:18:47.664Z"
      },
      {
        "duration": 324,
        "start_time": "2023-01-03T08:18:48.728Z"
      },
      {
        "duration": 320,
        "start_time": "2023-01-03T08:18:49.054Z"
      },
      {
        "duration": 1262,
        "start_time": "2023-01-03T08:18:49.375Z"
      },
      {
        "duration": 442,
        "start_time": "2023-01-03T08:18:50.639Z"
      },
      {
        "duration": 257,
        "start_time": "2023-01-03T08:18:51.082Z"
      },
      {
        "duration": 8,
        "start_time": "2023-01-03T08:18:51.341Z"
      },
      {
        "duration": 11,
        "start_time": "2023-01-03T08:18:51.351Z"
      },
      {
        "duration": 7,
        "start_time": "2023-01-03T08:18:51.363Z"
      },
      {
        "duration": 8,
        "start_time": "2023-01-03T08:18:51.372Z"
      },
      {
        "duration": 30,
        "start_time": "2023-01-03T08:18:51.382Z"
      },
      {
        "duration": 5,
        "start_time": "2023-01-03T08:18:51.413Z"
      },
      {
        "duration": 6,
        "start_time": "2023-01-03T08:18:51.420Z"
      },
      {
        "duration": 4,
        "start_time": "2023-01-03T08:18:51.427Z"
      },
      {
        "duration": 4,
        "start_time": "2023-01-03T08:18:51.432Z"
      },
      {
        "duration": 10,
        "start_time": "2023-01-03T08:18:51.437Z"
      },
      {
        "duration": 16,
        "start_time": "2023-01-03T08:18:51.448Z"
      },
      {
        "duration": 12,
        "start_time": "2023-01-03T08:18:51.465Z"
      },
      {
        "duration": 23,
        "start_time": "2023-01-03T08:18:51.478Z"
      },
      {
        "duration": 502,
        "start_time": "2023-01-03T08:18:51.504Z"
      },
      {
        "duration": 198,
        "start_time": "2023-01-03T08:18:52.012Z"
      },
      {
        "duration": 0,
        "start_time": "2023-01-03T08:18:52.211Z"
      },
      {
        "duration": 1456,
        "start_time": "2023-01-03T11:28:19.379Z"
      },
      {
        "duration": 42,
        "start_time": "2023-01-03T11:28:20.837Z"
      },
      {
        "duration": 83,
        "start_time": "2023-01-03T11:28:20.881Z"
      },
      {
        "duration": 18,
        "start_time": "2023-01-03T11:28:20.967Z"
      },
      {
        "duration": 15,
        "start_time": "2023-01-03T11:28:20.986Z"
      },
      {
        "duration": 5,
        "start_time": "2023-01-03T11:28:21.003Z"
      },
      {
        "duration": 31,
        "start_time": "2023-01-03T11:28:21.010Z"
      },
      {
        "duration": 4,
        "start_time": "2023-01-03T11:28:21.043Z"
      },
      {
        "duration": 1077,
        "start_time": "2023-01-03T11:28:21.049Z"
      },
      {
        "duration": 219,
        "start_time": "2023-01-03T11:28:22.129Z"
      },
      {
        "duration": 268,
        "start_time": "2023-01-03T11:28:22.350Z"
      },
      {
        "duration": 1169,
        "start_time": "2023-01-03T11:28:22.620Z"
      },
      {
        "duration": 325,
        "start_time": "2023-01-03T11:28:23.797Z"
      },
      {
        "duration": 228,
        "start_time": "2023-01-03T11:28:24.124Z"
      },
      {
        "duration": 9,
        "start_time": "2023-01-03T11:28:24.354Z"
      },
      {
        "duration": 10,
        "start_time": "2023-01-03T11:28:24.364Z"
      },
      {
        "duration": 22,
        "start_time": "2023-01-03T11:28:24.375Z"
      },
      {
        "duration": 10,
        "start_time": "2023-01-03T11:28:24.399Z"
      },
      {
        "duration": 8,
        "start_time": "2023-01-03T11:28:24.411Z"
      },
      {
        "duration": 7,
        "start_time": "2023-01-03T11:28:24.420Z"
      },
      {
        "duration": 9,
        "start_time": "2023-01-03T11:28:24.428Z"
      },
      {
        "duration": 4,
        "start_time": "2023-01-03T11:28:24.438Z"
      },
      {
        "duration": 9,
        "start_time": "2023-01-03T11:28:24.443Z"
      },
      {
        "duration": 10,
        "start_time": "2023-01-03T11:28:24.453Z"
      },
      {
        "duration": 15,
        "start_time": "2023-01-03T11:28:24.465Z"
      },
      {
        "duration": 17,
        "start_time": "2023-01-03T11:28:24.482Z"
      },
      {
        "duration": 2,
        "start_time": "2023-01-03T11:28:24.500Z"
      },
      {
        "duration": 202,
        "start_time": "2023-01-03T11:28:24.504Z"
      },
      {
        "duration": 280,
        "start_time": "2023-01-03T11:28:24.707Z"
      },
      {
        "duration": 0,
        "start_time": "2023-01-03T11:28:24.989Z"
      },
      {
        "duration": 0,
        "start_time": "2023-01-03T11:28:24.997Z"
      },
      {
        "duration": 1,
        "start_time": "2023-01-03T11:28:24.998Z"
      },
      {
        "duration": 0,
        "start_time": "2023-01-03T11:28:24.999Z"
      },
      {
        "duration": 3,
        "start_time": "2023-01-03T11:28:44.273Z"
      },
      {
        "duration": 8,
        "start_time": "2023-01-03T11:28:46.389Z"
      },
      {
        "duration": 1221,
        "start_time": "2023-01-03T11:29:13.857Z"
      },
      {
        "duration": 46,
        "start_time": "2023-01-03T11:29:15.079Z"
      },
      {
        "duration": 43,
        "start_time": "2023-01-03T11:29:15.127Z"
      },
      {
        "duration": 15,
        "start_time": "2023-01-03T11:29:15.172Z"
      },
      {
        "duration": 12,
        "start_time": "2023-01-03T11:29:15.188Z"
      },
      {
        "duration": 10,
        "start_time": "2023-01-03T11:29:15.201Z"
      },
      {
        "duration": 20,
        "start_time": "2023-01-03T11:29:15.213Z"
      },
      {
        "duration": 5,
        "start_time": "2023-01-03T11:29:15.234Z"
      },
      {
        "duration": 1066,
        "start_time": "2023-01-03T11:29:15.241Z"
      },
      {
        "duration": 290,
        "start_time": "2023-01-03T11:29:16.310Z"
      },
      {
        "duration": 313,
        "start_time": "2023-01-03T11:29:16.602Z"
      },
      {
        "duration": 1158,
        "start_time": "2023-01-03T11:29:16.917Z"
      },
      {
        "duration": 409,
        "start_time": "2023-01-03T11:29:18.077Z"
      },
      {
        "duration": 235,
        "start_time": "2023-01-03T11:29:18.488Z"
      },
      {
        "duration": 9,
        "start_time": "2023-01-03T11:29:18.724Z"
      },
      {
        "duration": 10,
        "start_time": "2023-01-03T11:29:18.735Z"
      },
      {
        "duration": 6,
        "start_time": "2023-01-03T11:29:18.747Z"
      },
      {
        "duration": 6,
        "start_time": "2023-01-03T11:29:18.755Z"
      },
      {
        "duration": 5,
        "start_time": "2023-01-03T11:29:18.763Z"
      },
      {
        "duration": 27,
        "start_time": "2023-01-03T11:29:18.770Z"
      },
      {
        "duration": 7,
        "start_time": "2023-01-03T11:29:18.799Z"
      },
      {
        "duration": 4,
        "start_time": "2023-01-03T11:29:18.807Z"
      },
      {
        "duration": 5,
        "start_time": "2023-01-03T11:29:18.812Z"
      },
      {
        "duration": 16,
        "start_time": "2023-01-03T11:29:18.819Z"
      },
      {
        "duration": 17,
        "start_time": "2023-01-03T11:29:18.837Z"
      },
      {
        "duration": 12,
        "start_time": "2023-01-03T11:29:18.855Z"
      },
      {
        "duration": 5,
        "start_time": "2023-01-03T11:29:18.868Z"
      },
      {
        "duration": 320,
        "start_time": "2023-01-03T11:29:18.876Z"
      },
      {
        "duration": 199,
        "start_time": "2023-01-03T11:29:19.199Z"
      },
      {
        "duration": 0,
        "start_time": "2023-01-03T11:29:19.400Z"
      },
      {
        "duration": 0,
        "start_time": "2023-01-03T11:29:19.402Z"
      },
      {
        "duration": 0,
        "start_time": "2023-01-03T11:29:19.403Z"
      },
      {
        "duration": 0,
        "start_time": "2023-01-03T11:29:19.404Z"
      },
      {
        "duration": 3,
        "start_time": "2023-01-03T11:29:22.840Z"
      },
      {
        "duration": 28,
        "start_time": "2023-01-03T11:29:25.029Z"
      },
      {
        "duration": 15,
        "start_time": "2023-01-03T11:29:27.479Z"
      },
      {
        "duration": 20,
        "start_time": "2023-01-03T11:47:52.090Z"
      },
      {
        "duration": 12,
        "start_time": "2023-01-03T11:50:54.253Z"
      },
      {
        "duration": 24,
        "start_time": "2023-01-03T11:56:55.923Z"
      },
      {
        "duration": 16,
        "start_time": "2023-01-03T12:06:42.602Z"
      },
      {
        "duration": 1272,
        "start_time": "2023-01-03T12:22:20.573Z"
      },
      {
        "duration": 39,
        "start_time": "2023-01-03T12:22:21.847Z"
      },
      {
        "duration": 41,
        "start_time": "2023-01-03T12:22:21.887Z"
      },
      {
        "duration": 17,
        "start_time": "2023-01-03T12:22:21.930Z"
      },
      {
        "duration": 21,
        "start_time": "2023-01-03T12:22:21.949Z"
      },
      {
        "duration": 14,
        "start_time": "2023-01-03T12:22:21.971Z"
      },
      {
        "duration": 32,
        "start_time": "2023-01-03T12:22:21.987Z"
      },
      {
        "duration": 4,
        "start_time": "2023-01-03T12:22:22.020Z"
      },
      {
        "duration": 1041,
        "start_time": "2023-01-03T12:22:22.026Z"
      },
      {
        "duration": 286,
        "start_time": "2023-01-03T12:22:23.070Z"
      },
      {
        "duration": 268,
        "start_time": "2023-01-03T12:22:23.358Z"
      },
      {
        "duration": 1175,
        "start_time": "2023-01-03T12:22:23.628Z"
      },
      {
        "duration": 387,
        "start_time": "2023-01-03T12:22:24.804Z"
      },
      {
        "duration": 231,
        "start_time": "2023-01-03T12:22:25.196Z"
      },
      {
        "duration": 10,
        "start_time": "2023-01-03T12:22:25.428Z"
      },
      {
        "duration": 10,
        "start_time": "2023-01-03T12:22:25.439Z"
      },
      {
        "duration": 116,
        "start_time": "2023-01-03T12:22:25.451Z"
      },
      {
        "duration": 0,
        "start_time": "2023-01-03T12:22:25.569Z"
      },
      {
        "duration": 0,
        "start_time": "2023-01-03T12:22:25.570Z"
      },
      {
        "duration": 0,
        "start_time": "2023-01-03T12:22:25.571Z"
      },
      {
        "duration": 0,
        "start_time": "2023-01-03T12:22:25.572Z"
      },
      {
        "duration": 0,
        "start_time": "2023-01-03T12:22:25.573Z"
      },
      {
        "duration": 0,
        "start_time": "2023-01-03T12:22:25.573Z"
      },
      {
        "duration": 0,
        "start_time": "2023-01-03T12:22:25.575Z"
      },
      {
        "duration": 0,
        "start_time": "2023-01-03T12:22:25.575Z"
      },
      {
        "duration": 0,
        "start_time": "2023-01-03T12:22:25.577Z"
      },
      {
        "duration": 0,
        "start_time": "2023-01-03T12:22:25.578Z"
      },
      {
        "duration": 0,
        "start_time": "2023-01-03T12:22:25.597Z"
      },
      {
        "duration": 0,
        "start_time": "2023-01-03T12:22:25.598Z"
      },
      {
        "duration": 0,
        "start_time": "2023-01-03T12:22:25.599Z"
      },
      {
        "duration": 0,
        "start_time": "2023-01-03T12:22:25.600Z"
      },
      {
        "duration": 0,
        "start_time": "2023-01-03T12:22:25.601Z"
      },
      {
        "duration": 0,
        "start_time": "2023-01-03T12:22:25.602Z"
      },
      {
        "duration": 0,
        "start_time": "2023-01-03T12:22:25.603Z"
      },
      {
        "duration": 1232,
        "start_time": "2023-01-03T12:24:48.112Z"
      },
      {
        "duration": 43,
        "start_time": "2023-01-03T12:24:49.346Z"
      },
      {
        "duration": 45,
        "start_time": "2023-01-03T12:24:49.391Z"
      },
      {
        "duration": 16,
        "start_time": "2023-01-03T12:24:49.438Z"
      },
      {
        "duration": 12,
        "start_time": "2023-01-03T12:24:49.456Z"
      },
      {
        "duration": 17,
        "start_time": "2023-01-03T12:24:49.469Z"
      },
      {
        "duration": 24,
        "start_time": "2023-01-03T12:24:49.488Z"
      },
      {
        "duration": 5,
        "start_time": "2023-01-03T12:24:49.513Z"
      },
      {
        "duration": 1041,
        "start_time": "2023-01-03T12:24:49.519Z"
      },
      {
        "duration": 299,
        "start_time": "2023-01-03T12:24:50.563Z"
      },
      {
        "duration": 282,
        "start_time": "2023-01-03T12:24:50.863Z"
      },
      {
        "duration": 1130,
        "start_time": "2023-01-03T12:24:51.148Z"
      },
      {
        "duration": 428,
        "start_time": "2023-01-03T12:24:52.280Z"
      },
      {
        "duration": 250,
        "start_time": "2023-01-03T12:24:52.710Z"
      },
      {
        "duration": 9,
        "start_time": "2023-01-03T12:24:52.961Z"
      },
      {
        "duration": 19,
        "start_time": "2023-01-03T12:24:52.972Z"
      },
      {
        "duration": 19,
        "start_time": "2023-01-03T12:24:52.996Z"
      },
      {
        "duration": 14,
        "start_time": "2023-01-03T12:24:53.017Z"
      },
      {
        "duration": 13,
        "start_time": "2023-01-03T12:24:53.033Z"
      },
      {
        "duration": 15,
        "start_time": "2023-01-03T12:24:53.048Z"
      },
      {
        "duration": 15,
        "start_time": "2023-01-03T12:24:53.065Z"
      },
      {
        "duration": 7,
        "start_time": "2023-01-03T12:24:53.082Z"
      },
      {
        "duration": 10,
        "start_time": "2023-01-03T12:24:53.091Z"
      },
      {
        "duration": 8,
        "start_time": "2023-01-03T12:24:53.102Z"
      },
      {
        "duration": 12,
        "start_time": "2023-01-03T12:24:53.112Z"
      },
      {
        "duration": 22,
        "start_time": "2023-01-03T12:24:53.125Z"
      },
      {
        "duration": 14,
        "start_time": "2023-01-03T12:24:53.148Z"
      },
      {
        "duration": 4,
        "start_time": "2023-01-03T12:24:53.165Z"
      },
      {
        "duration": 141,
        "start_time": "2023-01-03T12:24:53.170Z"
      },
      {
        "duration": 0,
        "start_time": "2023-01-03T12:24:53.313Z"
      },
      {
        "duration": 0,
        "start_time": "2023-01-03T12:24:53.315Z"
      },
      {
        "duration": 0,
        "start_time": "2023-01-03T12:24:53.316Z"
      },
      {
        "duration": 0,
        "start_time": "2023-01-03T12:24:53.317Z"
      },
      {
        "duration": 0,
        "start_time": "2023-01-03T12:24:53.318Z"
      },
      {
        "duration": 4,
        "start_time": "2023-01-03T12:33:40.630Z"
      },
      {
        "duration": 1190,
        "start_time": "2023-01-03T12:33:44.533Z"
      },
      {
        "duration": 39,
        "start_time": "2023-01-03T12:33:45.725Z"
      },
      {
        "duration": 40,
        "start_time": "2023-01-03T12:33:45.766Z"
      },
      {
        "duration": 15,
        "start_time": "2023-01-03T12:33:45.808Z"
      },
      {
        "duration": 12,
        "start_time": "2023-01-03T12:33:45.825Z"
      },
      {
        "duration": 4,
        "start_time": "2023-01-03T12:33:45.839Z"
      },
      {
        "duration": 17,
        "start_time": "2023-01-03T12:33:45.844Z"
      },
      {
        "duration": 3,
        "start_time": "2023-01-03T12:33:45.863Z"
      },
      {
        "duration": 991,
        "start_time": "2023-01-03T12:33:45.867Z"
      },
      {
        "duration": 274,
        "start_time": "2023-01-03T12:33:46.860Z"
      },
      {
        "duration": 262,
        "start_time": "2023-01-03T12:33:47.136Z"
      },
      {
        "duration": 1077,
        "start_time": "2023-01-03T12:33:47.400Z"
      },
      {
        "duration": 387,
        "start_time": "2023-01-03T12:33:48.478Z"
      },
      {
        "duration": 268,
        "start_time": "2023-01-03T12:33:48.868Z"
      },
      {
        "duration": 9,
        "start_time": "2023-01-03T12:33:49.137Z"
      },
      {
        "duration": 15,
        "start_time": "2023-01-03T12:33:49.148Z"
      },
      {
        "duration": 8,
        "start_time": "2023-01-03T12:33:49.165Z"
      },
      {
        "duration": 8,
        "start_time": "2023-01-03T12:33:49.175Z"
      },
      {
        "duration": 14,
        "start_time": "2023-01-03T12:33:49.184Z"
      },
      {
        "duration": 10,
        "start_time": "2023-01-03T12:33:49.199Z"
      },
      {
        "duration": 6,
        "start_time": "2023-01-03T12:33:49.211Z"
      },
      {
        "duration": 8,
        "start_time": "2023-01-03T12:33:49.218Z"
      },
      {
        "duration": 5,
        "start_time": "2023-01-03T12:33:49.227Z"
      },
      {
        "duration": 7,
        "start_time": "2023-01-03T12:33:49.233Z"
      },
      {
        "duration": 21,
        "start_time": "2023-01-03T12:33:49.241Z"
      },
      {
        "duration": 16,
        "start_time": "2023-01-03T12:33:49.263Z"
      },
      {
        "duration": 10,
        "start_time": "2023-01-03T12:33:49.280Z"
      },
      {
        "duration": 2,
        "start_time": "2023-01-03T12:33:49.297Z"
      },
      {
        "duration": 196,
        "start_time": "2023-01-03T12:33:49.300Z"
      },
      {
        "duration": 105,
        "start_time": "2023-01-03T12:33:49.499Z"
      },
      {
        "duration": 9,
        "start_time": "2023-01-03T12:33:49.605Z"
      },
      {
        "duration": 99,
        "start_time": "2023-01-03T12:33:49.699Z"
      },
      {
        "duration": 41,
        "start_time": "2023-01-03T12:33:49.800Z"
      },
      {
        "duration": 5,
        "start_time": "2023-01-03T12:33:49.842Z"
      },
      {
        "duration": 1204,
        "start_time": "2023-01-03T12:43:36.512Z"
      },
      {
        "duration": 39,
        "start_time": "2023-01-03T12:43:37.718Z"
      },
      {
        "duration": 40,
        "start_time": "2023-01-03T12:43:37.758Z"
      },
      {
        "duration": 14,
        "start_time": "2023-01-03T12:43:37.800Z"
      },
      {
        "duration": 17,
        "start_time": "2023-01-03T12:43:37.815Z"
      },
      {
        "duration": 4,
        "start_time": "2023-01-03T12:43:37.833Z"
      },
      {
        "duration": 18,
        "start_time": "2023-01-03T12:43:37.838Z"
      },
      {
        "duration": 3,
        "start_time": "2023-01-03T12:43:37.857Z"
      },
      {
        "duration": 1007,
        "start_time": "2023-01-03T12:43:37.861Z"
      },
      {
        "duration": 317,
        "start_time": "2023-01-03T12:43:38.870Z"
      },
      {
        "duration": 286,
        "start_time": "2023-01-03T12:43:39.188Z"
      },
      {
        "duration": 1142,
        "start_time": "2023-01-03T12:43:39.475Z"
      },
      {
        "duration": 403,
        "start_time": "2023-01-03T12:43:40.619Z"
      },
      {
        "duration": 231,
        "start_time": "2023-01-03T12:43:41.024Z"
      },
      {
        "duration": 10,
        "start_time": "2023-01-03T12:43:41.257Z"
      },
      {
        "duration": 11,
        "start_time": "2023-01-03T12:43:41.268Z"
      },
      {
        "duration": 3,
        "start_time": "2023-01-03T12:43:41.297Z"
      },
      {
        "duration": 6,
        "start_time": "2023-01-03T12:43:41.302Z"
      },
      {
        "duration": 5,
        "start_time": "2023-01-03T12:43:41.309Z"
      },
      {
        "duration": 0,
        "start_time": "2023-01-03T12:43:41.315Z"
      },
      {
        "duration": 0,
        "start_time": "2023-01-03T12:43:41.316Z"
      },
      {
        "duration": 0,
        "start_time": "2023-01-03T12:43:41.317Z"
      },
      {
        "duration": 0,
        "start_time": "2023-01-03T12:43:41.318Z"
      },
      {
        "duration": 0,
        "start_time": "2023-01-03T12:43:41.319Z"
      },
      {
        "duration": 0,
        "start_time": "2023-01-03T12:43:41.320Z"
      },
      {
        "duration": 0,
        "start_time": "2023-01-03T12:43:41.321Z"
      },
      {
        "duration": 0,
        "start_time": "2023-01-03T12:43:41.323Z"
      },
      {
        "duration": 0,
        "start_time": "2023-01-03T12:43:41.324Z"
      },
      {
        "duration": 0,
        "start_time": "2023-01-03T12:43:41.324Z"
      },
      {
        "duration": 0,
        "start_time": "2023-01-03T12:43:41.326Z"
      },
      {
        "duration": 0,
        "start_time": "2023-01-03T12:43:41.327Z"
      },
      {
        "duration": 0,
        "start_time": "2023-01-03T12:43:41.327Z"
      },
      {
        "duration": 1228,
        "start_time": "2023-01-03T12:44:56.991Z"
      },
      {
        "duration": 42,
        "start_time": "2023-01-03T12:44:58.221Z"
      },
      {
        "duration": 41,
        "start_time": "2023-01-03T12:44:58.264Z"
      },
      {
        "duration": 14,
        "start_time": "2023-01-03T12:44:58.307Z"
      },
      {
        "duration": 11,
        "start_time": "2023-01-03T12:44:58.323Z"
      },
      {
        "duration": 3,
        "start_time": "2023-01-03T12:44:58.336Z"
      },
      {
        "duration": 18,
        "start_time": "2023-01-03T12:44:58.341Z"
      },
      {
        "duration": 4,
        "start_time": "2023-01-03T12:44:58.361Z"
      },
      {
        "duration": 1018,
        "start_time": "2023-01-03T12:44:58.366Z"
      },
      {
        "duration": 286,
        "start_time": "2023-01-03T12:44:59.387Z"
      },
      {
        "duration": 264,
        "start_time": "2023-01-03T12:44:59.674Z"
      },
      {
        "duration": 1145,
        "start_time": "2023-01-03T12:44:59.940Z"
      },
      {
        "duration": 404,
        "start_time": "2023-01-03T12:45:01.086Z"
      },
      {
        "duration": 257,
        "start_time": "2023-01-03T12:45:01.492Z"
      },
      {
        "duration": 10,
        "start_time": "2023-01-03T12:45:01.751Z"
      },
      {
        "duration": 34,
        "start_time": "2023-01-03T12:45:01.762Z"
      },
      {
        "duration": 14,
        "start_time": "2023-01-03T12:45:01.798Z"
      },
      {
        "duration": 6,
        "start_time": "2023-01-03T12:45:01.813Z"
      },
      {
        "duration": 43,
        "start_time": "2023-01-03T12:45:01.820Z"
      },
      {
        "duration": 0,
        "start_time": "2023-01-03T12:45:01.865Z"
      },
      {
        "duration": 1,
        "start_time": "2023-01-03T12:45:01.866Z"
      },
      {
        "duration": 0,
        "start_time": "2023-01-03T12:45:01.868Z"
      },
      {
        "duration": 0,
        "start_time": "2023-01-03T12:45:01.869Z"
      },
      {
        "duration": 0,
        "start_time": "2023-01-03T12:45:01.870Z"
      },
      {
        "duration": 0,
        "start_time": "2023-01-03T12:45:01.871Z"
      },
      {
        "duration": 0,
        "start_time": "2023-01-03T12:45:01.873Z"
      },
      {
        "duration": 0,
        "start_time": "2023-01-03T12:45:01.874Z"
      },
      {
        "duration": 0,
        "start_time": "2023-01-03T12:45:01.875Z"
      },
      {
        "duration": 0,
        "start_time": "2023-01-03T12:45:01.877Z"
      },
      {
        "duration": 0,
        "start_time": "2023-01-03T12:45:01.878Z"
      },
      {
        "duration": 0,
        "start_time": "2023-01-03T12:45:01.879Z"
      },
      {
        "duration": 0,
        "start_time": "2023-01-03T12:45:01.880Z"
      },
      {
        "duration": 6,
        "start_time": "2023-01-03T12:45:16.281Z"
      },
      {
        "duration": 1249,
        "start_time": "2023-01-03T12:45:21.187Z"
      },
      {
        "duration": 39,
        "start_time": "2023-01-03T12:45:22.438Z"
      },
      {
        "duration": 40,
        "start_time": "2023-01-03T12:45:22.479Z"
      },
      {
        "duration": 15,
        "start_time": "2023-01-03T12:45:22.521Z"
      },
      {
        "duration": 22,
        "start_time": "2023-01-03T12:45:22.538Z"
      },
      {
        "duration": 9,
        "start_time": "2023-01-03T12:45:22.562Z"
      },
      {
        "duration": 35,
        "start_time": "2023-01-03T12:45:22.572Z"
      },
      {
        "duration": 7,
        "start_time": "2023-01-03T12:45:22.608Z"
      },
      {
        "duration": 991,
        "start_time": "2023-01-03T12:45:22.616Z"
      },
      {
        "duration": 289,
        "start_time": "2023-01-03T12:45:23.610Z"
      },
      {
        "duration": 273,
        "start_time": "2023-01-03T12:45:23.901Z"
      },
      {
        "duration": 1169,
        "start_time": "2023-01-03T12:45:24.175Z"
      },
      {
        "duration": 410,
        "start_time": "2023-01-03T12:45:25.346Z"
      },
      {
        "duration": 233,
        "start_time": "2023-01-03T12:45:25.757Z"
      },
      {
        "duration": 12,
        "start_time": "2023-01-03T12:45:25.992Z"
      },
      {
        "duration": 21,
        "start_time": "2023-01-03T12:45:26.005Z"
      },
      {
        "duration": 14,
        "start_time": "2023-01-03T12:45:26.027Z"
      },
      {
        "duration": 18,
        "start_time": "2023-01-03T12:45:26.043Z"
      },
      {
        "duration": 13,
        "start_time": "2023-01-03T12:45:26.062Z"
      },
      {
        "duration": 19,
        "start_time": "2023-01-03T12:45:26.076Z"
      },
      {
        "duration": 10,
        "start_time": "2023-01-03T12:45:26.097Z"
      },
      {
        "duration": 12,
        "start_time": "2023-01-03T12:45:26.108Z"
      },
      {
        "duration": 13,
        "start_time": "2023-01-03T12:45:26.121Z"
      },
      {
        "duration": 30,
        "start_time": "2023-01-03T12:45:26.136Z"
      },
      {
        "duration": 12,
        "start_time": "2023-01-03T12:45:26.167Z"
      },
      {
        "duration": 21,
        "start_time": "2023-01-03T12:45:26.180Z"
      },
      {
        "duration": 195,
        "start_time": "2023-01-03T12:45:26.203Z"
      },
      {
        "duration": 107,
        "start_time": "2023-01-03T12:45:26.402Z"
      },
      {
        "duration": 186,
        "start_time": "2023-01-03T12:45:26.512Z"
      },
      {
        "duration": 18,
        "start_time": "2023-01-03T12:45:26.699Z"
      },
      {
        "duration": 42,
        "start_time": "2023-01-03T12:45:26.719Z"
      },
      {
        "duration": 4,
        "start_time": "2023-01-03T12:45:26.763Z"
      },
      {
        "duration": 5,
        "start_time": "2023-01-03T12:46:55.009Z"
      },
      {
        "duration": 1221,
        "start_time": "2023-01-03T12:47:01.513Z"
      },
      {
        "duration": 41,
        "start_time": "2023-01-03T12:47:02.736Z"
      },
      {
        "duration": 42,
        "start_time": "2023-01-03T12:47:02.778Z"
      },
      {
        "duration": 15,
        "start_time": "2023-01-03T12:47:02.822Z"
      },
      {
        "duration": 11,
        "start_time": "2023-01-03T12:47:02.838Z"
      },
      {
        "duration": 5,
        "start_time": "2023-01-03T12:47:02.850Z"
      },
      {
        "duration": 19,
        "start_time": "2023-01-03T12:47:02.856Z"
      },
      {
        "duration": 4,
        "start_time": "2023-01-03T12:47:02.876Z"
      },
      {
        "duration": 1030,
        "start_time": "2023-01-03T12:47:02.881Z"
      },
      {
        "duration": 294,
        "start_time": "2023-01-03T12:47:03.914Z"
      },
      {
        "duration": 273,
        "start_time": "2023-01-03T12:47:04.209Z"
      },
      {
        "duration": 1263,
        "start_time": "2023-01-03T12:47:04.484Z"
      },
      {
        "duration": 429,
        "start_time": "2023-01-03T12:47:05.748Z"
      },
      {
        "duration": 233,
        "start_time": "2023-01-03T12:47:06.179Z"
      },
      {
        "duration": 9,
        "start_time": "2023-01-03T12:47:06.414Z"
      },
      {
        "duration": 17,
        "start_time": "2023-01-03T12:47:06.424Z"
      },
      {
        "duration": 13,
        "start_time": "2023-01-03T12:47:06.442Z"
      },
      {
        "duration": 13,
        "start_time": "2023-01-03T12:47:06.457Z"
      },
      {
        "duration": 11,
        "start_time": "2023-01-03T12:47:06.471Z"
      },
      {
        "duration": 9,
        "start_time": "2023-01-03T12:47:06.484Z"
      },
      {
        "duration": 4,
        "start_time": "2023-01-03T12:47:06.494Z"
      },
      {
        "duration": 7,
        "start_time": "2023-01-03T12:47:06.499Z"
      },
      {
        "duration": 9,
        "start_time": "2023-01-03T12:47:06.508Z"
      },
      {
        "duration": 14,
        "start_time": "2023-01-03T12:47:06.519Z"
      },
      {
        "duration": 10,
        "start_time": "2023-01-03T12:47:06.534Z"
      },
      {
        "duration": 4,
        "start_time": "2023-01-03T12:47:06.545Z"
      },
      {
        "duration": 247,
        "start_time": "2023-01-03T12:47:06.551Z"
      },
      {
        "duration": 95,
        "start_time": "2023-01-03T12:47:06.804Z"
      },
      {
        "duration": 107,
        "start_time": "2023-01-03T12:47:06.901Z"
      },
      {
        "duration": 10,
        "start_time": "2023-01-03T12:47:07.010Z"
      },
      {
        "duration": 29,
        "start_time": "2023-01-03T12:47:07.098Z"
      },
      {
        "duration": 4,
        "start_time": "2023-01-03T12:47:07.129Z"
      },
      {
        "duration": 6,
        "start_time": "2023-01-03T12:59:55.942Z"
      },
      {
        "duration": 390,
        "start_time": "2023-01-03T13:13:10.039Z"
      },
      {
        "duration": 1389,
        "start_time": "2023-01-03T13:15:18.882Z"
      },
      {
        "duration": 43,
        "start_time": "2023-01-03T13:15:20.273Z"
      },
      {
        "duration": 39,
        "start_time": "2023-01-03T13:15:20.318Z"
      },
      {
        "duration": 17,
        "start_time": "2023-01-03T13:15:20.359Z"
      },
      {
        "duration": 17,
        "start_time": "2023-01-03T13:15:20.380Z"
      },
      {
        "duration": 6,
        "start_time": "2023-01-03T13:15:20.399Z"
      },
      {
        "duration": 26,
        "start_time": "2023-01-03T13:15:20.407Z"
      },
      {
        "duration": 12,
        "start_time": "2023-01-03T13:15:20.435Z"
      },
      {
        "duration": 1077,
        "start_time": "2023-01-03T13:15:20.449Z"
      },
      {
        "duration": 322,
        "start_time": "2023-01-03T13:15:21.528Z"
      },
      {
        "duration": 315,
        "start_time": "2023-01-03T13:15:21.852Z"
      },
      {
        "duration": 1111,
        "start_time": "2023-01-03T13:15:22.168Z"
      },
      {
        "duration": 433,
        "start_time": "2023-01-03T13:15:23.281Z"
      },
      {
        "duration": 240,
        "start_time": "2023-01-03T13:15:23.716Z"
      },
      {
        "duration": 12,
        "start_time": "2023-01-03T13:15:23.957Z"
      },
      {
        "duration": 16,
        "start_time": "2023-01-03T13:15:23.970Z"
      },
      {
        "duration": 10,
        "start_time": "2023-01-03T13:15:23.987Z"
      },
      {
        "duration": 8,
        "start_time": "2023-01-03T13:15:23.999Z"
      },
      {
        "duration": 19,
        "start_time": "2023-01-03T13:15:24.008Z"
      },
      {
        "duration": 7,
        "start_time": "2023-01-03T13:15:24.028Z"
      },
      {
        "duration": 17,
        "start_time": "2023-01-03T13:15:24.036Z"
      },
      {
        "duration": 14,
        "start_time": "2023-01-03T13:15:24.054Z"
      },
      {
        "duration": 17,
        "start_time": "2023-01-03T13:15:24.069Z"
      },
      {
        "duration": 15,
        "start_time": "2023-01-03T13:15:24.087Z"
      },
      {
        "duration": 10,
        "start_time": "2023-01-03T13:15:24.103Z"
      },
      {
        "duration": 14,
        "start_time": "2023-01-03T13:15:24.114Z"
      },
      {
        "duration": 170,
        "start_time": "2023-01-03T13:15:24.129Z"
      },
      {
        "duration": 104,
        "start_time": "2023-01-03T13:15:24.300Z"
      },
      {
        "duration": 95,
        "start_time": "2023-01-03T13:15:24.410Z"
      },
      {
        "duration": 98,
        "start_time": "2023-01-03T13:15:24.508Z"
      },
      {
        "duration": 42,
        "start_time": "2023-01-03T13:15:24.608Z"
      },
      {
        "duration": 4,
        "start_time": "2023-01-03T13:15:24.652Z"
      },
      {
        "duration": 404,
        "start_time": "2023-01-03T13:15:24.658Z"
      },
      {
        "duration": 4,
        "start_time": "2023-01-03T13:16:05.585Z"
      },
      {
        "duration": 1169,
        "start_time": "2023-01-03T13:22:02.649Z"
      },
      {
        "duration": 39,
        "start_time": "2023-01-03T13:22:03.820Z"
      },
      {
        "duration": 40,
        "start_time": "2023-01-03T13:22:03.861Z"
      },
      {
        "duration": 15,
        "start_time": "2023-01-03T13:22:03.903Z"
      },
      {
        "duration": 12,
        "start_time": "2023-01-03T13:22:03.920Z"
      },
      {
        "duration": 4,
        "start_time": "2023-01-03T13:22:03.934Z"
      },
      {
        "duration": 23,
        "start_time": "2023-01-03T13:22:03.940Z"
      },
      {
        "duration": 4,
        "start_time": "2023-01-03T13:22:03.965Z"
      },
      {
        "duration": 1104,
        "start_time": "2023-01-03T13:22:03.998Z"
      },
      {
        "duration": 319,
        "start_time": "2023-01-03T13:22:05.104Z"
      },
      {
        "duration": 309,
        "start_time": "2023-01-03T13:22:05.424Z"
      },
      {
        "duration": 1164,
        "start_time": "2023-01-03T13:22:05.735Z"
      },
      {
        "duration": 428,
        "start_time": "2023-01-03T13:22:06.901Z"
      },
      {
        "duration": 244,
        "start_time": "2023-01-03T13:22:07.333Z"
      },
      {
        "duration": 20,
        "start_time": "2023-01-03T13:22:07.578Z"
      },
      {
        "duration": 11,
        "start_time": "2023-01-03T13:22:07.600Z"
      },
      {
        "duration": 9,
        "start_time": "2023-01-03T13:22:07.613Z"
      },
      {
        "duration": 9,
        "start_time": "2023-01-03T13:22:07.624Z"
      },
      {
        "duration": 6,
        "start_time": "2023-01-03T13:22:07.634Z"
      },
      {
        "duration": 5,
        "start_time": "2023-01-03T13:22:07.641Z"
      },
      {
        "duration": 9,
        "start_time": "2023-01-03T13:22:07.647Z"
      },
      {
        "duration": 7,
        "start_time": "2023-01-03T13:22:07.658Z"
      },
      {
        "duration": 11,
        "start_time": "2023-01-03T13:22:07.666Z"
      },
      {
        "duration": 17,
        "start_time": "2023-01-03T13:22:07.698Z"
      },
      {
        "duration": 12,
        "start_time": "2023-01-03T13:22:07.716Z"
      },
      {
        "duration": 4,
        "start_time": "2023-01-03T13:22:07.729Z"
      },
      {
        "duration": 170,
        "start_time": "2023-01-03T13:22:07.735Z"
      },
      {
        "duration": 96,
        "start_time": "2023-01-03T13:22:07.907Z"
      },
      {
        "duration": 102,
        "start_time": "2023-01-03T13:22:08.008Z"
      },
      {
        "duration": 91,
        "start_time": "2023-01-03T13:22:08.112Z"
      },
      {
        "duration": 35,
        "start_time": "2023-01-03T13:22:08.205Z"
      },
      {
        "duration": 5,
        "start_time": "2023-01-03T13:22:08.242Z"
      },
      {
        "duration": 157,
        "start_time": "2023-01-03T13:22:08.248Z"
      },
      {
        "duration": 3,
        "start_time": "2023-01-03T13:22:08.408Z"
      },
      {
        "duration": 12,
        "start_time": "2023-01-03T13:22:08.413Z"
      },
      {
        "duration": 8,
        "start_time": "2023-01-03T13:22:08.427Z"
      },
      {
        "duration": 1163,
        "start_time": "2023-01-03T13:27:22.961Z"
      },
      {
        "duration": 40,
        "start_time": "2023-01-03T13:27:24.125Z"
      },
      {
        "duration": 40,
        "start_time": "2023-01-03T13:27:24.166Z"
      },
      {
        "duration": 15,
        "start_time": "2023-01-03T13:27:24.207Z"
      },
      {
        "duration": 10,
        "start_time": "2023-01-03T13:27:24.224Z"
      },
      {
        "duration": 3,
        "start_time": "2023-01-03T13:27:24.236Z"
      },
      {
        "duration": 27,
        "start_time": "2023-01-03T13:27:24.240Z"
      },
      {
        "duration": 6,
        "start_time": "2023-01-03T13:27:24.268Z"
      },
      {
        "duration": 1062,
        "start_time": "2023-01-03T13:27:24.275Z"
      },
      {
        "duration": 282,
        "start_time": "2023-01-03T13:27:25.338Z"
      },
      {
        "duration": 296,
        "start_time": "2023-01-03T13:27:25.622Z"
      },
      {
        "duration": 1148,
        "start_time": "2023-01-03T13:27:25.919Z"
      },
      {
        "duration": 419,
        "start_time": "2023-01-03T13:27:27.069Z"
      },
      {
        "duration": 233,
        "start_time": "2023-01-03T13:27:27.491Z"
      },
      {
        "duration": 9,
        "start_time": "2023-01-03T13:27:27.726Z"
      },
      {
        "duration": 15,
        "start_time": "2023-01-03T13:27:27.737Z"
      },
      {
        "duration": 8,
        "start_time": "2023-01-03T13:27:27.753Z"
      },
      {
        "duration": 6,
        "start_time": "2023-01-03T13:27:27.763Z"
      },
      {
        "duration": 10,
        "start_time": "2023-01-03T13:27:27.770Z"
      },
      {
        "duration": 7,
        "start_time": "2023-01-03T13:27:27.782Z"
      },
      {
        "duration": 14,
        "start_time": "2023-01-03T13:27:27.789Z"
      },
      {
        "duration": 7,
        "start_time": "2023-01-03T13:27:27.806Z"
      },
      {
        "duration": 11,
        "start_time": "2023-01-03T13:27:27.815Z"
      },
      {
        "duration": 39,
        "start_time": "2023-01-03T13:27:27.827Z"
      },
      {
        "duration": 22,
        "start_time": "2023-01-03T13:27:27.868Z"
      },
      {
        "duration": 211,
        "start_time": "2023-01-03T13:27:27.892Z"
      },
      {
        "duration": 95,
        "start_time": "2023-01-03T13:27:28.106Z"
      },
      {
        "duration": 97,
        "start_time": "2023-01-03T13:27:28.204Z"
      },
      {
        "duration": 2,
        "start_time": "2023-01-03T13:27:28.303Z"
      },
      {
        "duration": 100,
        "start_time": "2023-01-03T13:27:28.307Z"
      },
      {
        "duration": 5,
        "start_time": "2023-01-03T13:27:28.409Z"
      },
      {
        "duration": 130,
        "start_time": "2023-01-03T13:27:28.415Z"
      },
      {
        "duration": 2,
        "start_time": "2023-01-03T13:27:28.547Z"
      },
      {
        "duration": 6,
        "start_time": "2023-01-03T13:27:28.551Z"
      },
      {
        "duration": 7,
        "start_time": "2023-01-03T13:27:28.558Z"
      },
      {
        "duration": 89839,
        "start_time": "2023-01-03T13:49:36.899Z"
      },
      {
        "duration": 88215,
        "start_time": "2023-01-03T13:58:30.242Z"
      },
      {
        "duration": 4,
        "start_time": "2023-01-03T14:01:01.437Z"
      },
      {
        "duration": 4,
        "start_time": "2023-01-03T14:01:03.745Z"
      },
      {
        "duration": 147529,
        "start_time": "2023-01-03T14:01:19.684Z"
      },
      {
        "duration": 3,
        "start_time": "2023-01-03T14:26:57.583Z"
      },
      {
        "duration": 3,
        "start_time": "2023-01-03T14:27:00.840Z"
      },
      {
        "duration": 449915,
        "start_time": "2023-01-03T14:27:08.223Z"
      },
      {
        "duration": 4,
        "start_time": "2023-01-03T14:37:39.866Z"
      },
      {
        "duration": 4,
        "start_time": "2023-01-03T14:37:42.261Z"
      },
      {
        "duration": 7132,
        "start_time": "2023-01-03T14:42:40.398Z"
      },
      {
        "duration": 7233,
        "start_time": "2023-01-03T14:50:58.954Z"
      },
      {
        "duration": 3,
        "start_time": "2023-01-03T14:51:08.818Z"
      },
      {
        "duration": 3,
        "start_time": "2023-01-03T14:51:11.177Z"
      },
      {
        "duration": 37968,
        "start_time": "2023-01-03T14:51:37.798Z"
      },
      {
        "duration": 4,
        "start_time": "2023-01-03T14:52:19.041Z"
      },
      {
        "duration": 3,
        "start_time": "2023-01-03T14:52:21.220Z"
      },
      {
        "duration": 12734,
        "start_time": "2023-01-03T14:52:37.740Z"
      },
      {
        "duration": 12916,
        "start_time": "2023-01-03T14:54:22.948Z"
      },
      {
        "duration": 4,
        "start_time": "2023-01-03T14:54:39.827Z"
      },
      {
        "duration": 4,
        "start_time": "2023-01-03T14:54:43.022Z"
      },
      {
        "duration": 14822,
        "start_time": "2023-01-03T14:55:01.189Z"
      },
      {
        "duration": 3,
        "start_time": "2023-01-03T14:55:20.309Z"
      },
      {
        "duration": 4,
        "start_time": "2023-01-03T14:55:22.969Z"
      },
      {
        "duration": 12963,
        "start_time": "2023-01-03T14:55:53.716Z"
      },
      {
        "duration": 4,
        "start_time": "2023-01-03T14:56:10.002Z"
      },
      {
        "duration": 4,
        "start_time": "2023-01-03T14:56:12.536Z"
      },
      {
        "duration": 16915,
        "start_time": "2023-01-03T14:56:18.551Z"
      },
      {
        "duration": 3,
        "start_time": "2023-01-03T15:01:49.654Z"
      },
      {
        "duration": 4,
        "start_time": "2023-01-03T15:01:51.001Z"
      },
      {
        "duration": 1210,
        "start_time": "2023-01-03T15:03:39.910Z"
      },
      {
        "duration": 40,
        "start_time": "2023-01-03T15:03:41.122Z"
      },
      {
        "duration": 40,
        "start_time": "2023-01-03T15:03:41.164Z"
      },
      {
        "duration": 15,
        "start_time": "2023-01-03T15:03:41.206Z"
      },
      {
        "duration": 12,
        "start_time": "2023-01-03T15:03:41.222Z"
      },
      {
        "duration": 4,
        "start_time": "2023-01-03T15:03:41.235Z"
      },
      {
        "duration": 20,
        "start_time": "2023-01-03T15:03:41.240Z"
      },
      {
        "duration": 3,
        "start_time": "2023-01-03T15:03:41.262Z"
      },
      {
        "duration": 1015,
        "start_time": "2023-01-03T15:03:41.267Z"
      },
      {
        "duration": 283,
        "start_time": "2023-01-03T15:03:42.284Z"
      },
      {
        "duration": 258,
        "start_time": "2023-01-03T15:03:42.569Z"
      },
      {
        "duration": 1094,
        "start_time": "2023-01-03T15:03:42.828Z"
      },
      {
        "duration": 422,
        "start_time": "2023-01-03T15:03:43.923Z"
      },
      {
        "duration": 253,
        "start_time": "2023-01-03T15:03:44.347Z"
      },
      {
        "duration": 11,
        "start_time": "2023-01-03T15:03:44.602Z"
      },
      {
        "duration": 13,
        "start_time": "2023-01-03T15:03:44.616Z"
      },
      {
        "duration": 14,
        "start_time": "2023-01-03T15:03:44.630Z"
      },
      {
        "duration": 6,
        "start_time": "2023-01-03T15:03:44.646Z"
      },
      {
        "duration": 8,
        "start_time": "2023-01-03T15:03:44.654Z"
      },
      {
        "duration": 9,
        "start_time": "2023-01-03T15:03:44.664Z"
      },
      {
        "duration": 25,
        "start_time": "2023-01-03T15:03:44.674Z"
      },
      {
        "duration": 15,
        "start_time": "2023-01-03T15:03:44.701Z"
      },
      {
        "duration": 16,
        "start_time": "2023-01-03T15:03:44.717Z"
      },
      {
        "duration": 30,
        "start_time": "2023-01-03T15:03:44.735Z"
      },
      {
        "duration": 12,
        "start_time": "2023-01-03T15:03:44.766Z"
      },
      {
        "duration": 224,
        "start_time": "2023-01-03T15:03:44.779Z"
      },
      {
        "duration": 95,
        "start_time": "2023-01-03T15:03:45.005Z"
      },
      {
        "duration": 193,
        "start_time": "2023-01-03T15:03:45.105Z"
      },
      {
        "duration": 2,
        "start_time": "2023-01-03T15:03:45.300Z"
      },
      {
        "duration": 37,
        "start_time": "2023-01-03T15:03:45.304Z"
      },
      {
        "duration": 4,
        "start_time": "2023-01-03T15:03:45.343Z"
      },
      {
        "duration": 142,
        "start_time": "2023-01-03T15:03:45.348Z"
      },
      {
        "duration": 3,
        "start_time": "2023-01-03T15:03:45.491Z"
      },
      {
        "duration": 9,
        "start_time": "2023-01-03T15:03:45.498Z"
      },
      {
        "duration": 9,
        "start_time": "2023-01-03T15:03:45.508Z"
      },
      {
        "duration": 16972,
        "start_time": "2023-01-03T15:03:45.518Z"
      },
      {
        "duration": 6,
        "start_time": "2023-01-03T15:04:02.491Z"
      },
      {
        "duration": 24,
        "start_time": "2023-01-03T15:04:02.498Z"
      },
      {
        "duration": 5,
        "start_time": "2023-01-03T15:04:02.524Z"
      },
      {
        "duration": 131,
        "start_time": "2023-01-03T15:18:42.972Z"
      },
      {
        "duration": 1173,
        "start_time": "2023-01-03T15:20:43.231Z"
      },
      {
        "duration": 41,
        "start_time": "2023-01-03T15:20:44.405Z"
      },
      {
        "duration": 41,
        "start_time": "2023-01-03T15:20:44.447Z"
      },
      {
        "duration": 15,
        "start_time": "2023-01-03T15:20:44.489Z"
      },
      {
        "duration": 11,
        "start_time": "2023-01-03T15:20:44.506Z"
      },
      {
        "duration": 4,
        "start_time": "2023-01-03T15:20:44.518Z"
      },
      {
        "duration": 25,
        "start_time": "2023-01-03T15:20:44.523Z"
      },
      {
        "duration": 5,
        "start_time": "2023-01-03T15:20:44.549Z"
      },
      {
        "duration": 1044,
        "start_time": "2023-01-03T15:20:44.555Z"
      },
      {
        "duration": 299,
        "start_time": "2023-01-03T15:20:45.601Z"
      },
      {
        "duration": 262,
        "start_time": "2023-01-03T15:20:45.902Z"
      },
      {
        "duration": 1083,
        "start_time": "2023-01-03T15:20:46.165Z"
      },
      {
        "duration": 388,
        "start_time": "2023-01-03T15:20:47.250Z"
      },
      {
        "duration": 228,
        "start_time": "2023-01-03T15:20:47.641Z"
      },
      {
        "duration": 9,
        "start_time": "2023-01-03T15:20:47.871Z"
      },
      {
        "duration": 18,
        "start_time": "2023-01-03T15:20:47.881Z"
      },
      {
        "duration": 6,
        "start_time": "2023-01-03T15:20:47.901Z"
      },
      {
        "duration": 9,
        "start_time": "2023-01-03T15:20:47.909Z"
      },
      {
        "duration": 6,
        "start_time": "2023-01-03T15:20:47.920Z"
      },
      {
        "duration": 6,
        "start_time": "2023-01-03T15:20:47.927Z"
      },
      {
        "duration": 14,
        "start_time": "2023-01-03T15:20:47.934Z"
      },
      {
        "duration": 8,
        "start_time": "2023-01-03T15:20:47.949Z"
      },
      {
        "duration": 12,
        "start_time": "2023-01-03T15:20:47.959Z"
      },
      {
        "duration": 17,
        "start_time": "2023-01-03T15:20:47.972Z"
      },
      {
        "duration": 15,
        "start_time": "2023-01-03T15:20:47.990Z"
      },
      {
        "duration": 196,
        "start_time": "2023-01-03T15:20:48.007Z"
      },
      {
        "duration": 96,
        "start_time": "2023-01-03T15:20:48.205Z"
      },
      {
        "duration": 195,
        "start_time": "2023-01-03T15:20:48.304Z"
      },
      {
        "duration": 10,
        "start_time": "2023-01-03T15:20:48.500Z"
      },
      {
        "duration": 31,
        "start_time": "2023-01-03T15:20:48.511Z"
      },
      {
        "duration": 4,
        "start_time": "2023-01-03T15:20:48.544Z"
      },
      {
        "duration": 138,
        "start_time": "2023-01-03T15:20:48.549Z"
      },
      {
        "duration": 3,
        "start_time": "2023-01-03T15:20:48.689Z"
      },
      {
        "duration": 2,
        "start_time": "2023-01-03T15:20:48.697Z"
      },
      {
        "duration": 5,
        "start_time": "2023-01-03T15:20:48.701Z"
      },
      {
        "duration": 6,
        "start_time": "2023-01-03T15:20:48.707Z"
      },
      {
        "duration": 17922,
        "start_time": "2023-01-03T15:20:48.714Z"
      },
      {
        "duration": 4,
        "start_time": "2023-01-03T15:21:06.637Z"
      },
      {
        "duration": 6,
        "start_time": "2023-01-03T15:21:06.642Z"
      },
      {
        "duration": 5,
        "start_time": "2023-01-03T15:21:06.649Z"
      },
      {
        "duration": 11,
        "start_time": "2023-01-03T15:21:06.657Z"
      },
      {
        "duration": 5,
        "start_time": "2023-01-03T15:21:06.670Z"
      },
      {
        "duration": 135,
        "start_time": "2023-01-03T15:41:13.902Z"
      },
      {
        "duration": 4,
        "start_time": "2023-01-03T15:41:16.509Z"
      },
      {
        "duration": 6,
        "start_time": "2023-01-03T15:42:41.303Z"
      },
      {
        "duration": 4,
        "start_time": "2023-01-03T17:18:03.617Z"
      },
      {
        "duration": 4,
        "start_time": "2023-01-03T17:18:47.017Z"
      },
      {
        "duration": 1224,
        "start_time": "2023-01-03T17:19:21.917Z"
      },
      {
        "duration": 38,
        "start_time": "2023-01-03T17:19:23.143Z"
      },
      {
        "duration": 41,
        "start_time": "2023-01-03T17:19:23.183Z"
      },
      {
        "duration": 16,
        "start_time": "2023-01-03T17:19:23.225Z"
      },
      {
        "duration": 12,
        "start_time": "2023-01-03T17:19:23.244Z"
      },
      {
        "duration": 5,
        "start_time": "2023-01-03T17:19:23.257Z"
      },
      {
        "duration": 19,
        "start_time": "2023-01-03T17:19:23.263Z"
      },
      {
        "duration": 15,
        "start_time": "2023-01-03T17:19:23.284Z"
      },
      {
        "duration": 1013,
        "start_time": "2023-01-03T17:19:23.300Z"
      },
      {
        "duration": 286,
        "start_time": "2023-01-03T17:19:24.314Z"
      },
      {
        "duration": 373,
        "start_time": "2023-01-03T17:19:24.602Z"
      },
      {
        "duration": 1154,
        "start_time": "2023-01-03T17:19:24.977Z"
      },
      {
        "duration": 386,
        "start_time": "2023-01-03T17:19:26.133Z"
      },
      {
        "duration": 237,
        "start_time": "2023-01-03T17:19:26.522Z"
      },
      {
        "duration": 9,
        "start_time": "2023-01-03T17:19:26.761Z"
      },
      {
        "duration": 12,
        "start_time": "2023-01-03T17:19:26.771Z"
      },
      {
        "duration": 14,
        "start_time": "2023-01-03T17:19:26.785Z"
      },
      {
        "duration": 8,
        "start_time": "2023-01-03T17:19:26.800Z"
      },
      {
        "duration": 9,
        "start_time": "2023-01-03T17:19:26.809Z"
      },
      {
        "duration": 16,
        "start_time": "2023-01-03T17:19:26.820Z"
      },
      {
        "duration": 6,
        "start_time": "2023-01-03T17:19:26.838Z"
      },
      {
        "duration": 19,
        "start_time": "2023-01-03T17:19:26.845Z"
      },
      {
        "duration": 10,
        "start_time": "2023-01-03T17:19:26.865Z"
      },
      {
        "duration": 26,
        "start_time": "2023-01-03T17:19:26.877Z"
      },
      {
        "duration": 15,
        "start_time": "2023-01-03T17:19:26.905Z"
      },
      {
        "duration": 182,
        "start_time": "2023-01-03T17:19:26.922Z"
      },
      {
        "duration": 104,
        "start_time": "2023-01-03T17:19:27.105Z"
      },
      {
        "duration": 108,
        "start_time": "2023-01-03T17:19:27.296Z"
      },
      {
        "duration": 5,
        "start_time": "2023-01-03T17:19:27.405Z"
      },
      {
        "duration": 33,
        "start_time": "2023-01-03T17:19:27.412Z"
      },
      {
        "duration": 5,
        "start_time": "2023-01-03T17:19:27.447Z"
      },
      {
        "duration": 160,
        "start_time": "2023-01-03T17:19:27.453Z"
      },
      {
        "duration": 3,
        "start_time": "2023-01-03T17:19:27.615Z"
      },
      {
        "duration": 6,
        "start_time": "2023-01-03T17:19:27.619Z"
      },
      {
        "duration": 7,
        "start_time": "2023-01-03T17:19:27.626Z"
      },
      {
        "duration": 8,
        "start_time": "2023-01-03T17:19:27.634Z"
      },
      {
        "duration": 17285,
        "start_time": "2023-01-03T17:19:27.643Z"
      },
      {
        "duration": 3,
        "start_time": "2023-01-03T17:19:44.930Z"
      },
      {
        "duration": 8,
        "start_time": "2023-01-03T17:19:44.935Z"
      },
      {
        "duration": 5,
        "start_time": "2023-01-03T17:19:44.944Z"
      },
      {
        "duration": 9,
        "start_time": "2023-01-03T17:19:44.953Z"
      },
      {
        "duration": 6,
        "start_time": "2023-01-03T17:19:44.963Z"
      },
      {
        "duration": 1242,
        "start_time": "2023-01-03T17:20:08.478Z"
      },
      {
        "duration": 41,
        "start_time": "2023-01-03T17:20:09.722Z"
      },
      {
        "duration": 41,
        "start_time": "2023-01-03T17:20:09.765Z"
      },
      {
        "duration": 15,
        "start_time": "2023-01-03T17:20:09.808Z"
      },
      {
        "duration": 11,
        "start_time": "2023-01-03T17:20:09.825Z"
      },
      {
        "duration": 4,
        "start_time": "2023-01-03T17:20:09.837Z"
      },
      {
        "duration": 19,
        "start_time": "2023-01-03T17:20:09.842Z"
      },
      {
        "duration": 4,
        "start_time": "2023-01-03T17:20:09.862Z"
      },
      {
        "duration": 1049,
        "start_time": "2023-01-03T17:20:09.867Z"
      },
      {
        "duration": 305,
        "start_time": "2023-01-03T17:20:10.919Z"
      },
      {
        "duration": 284,
        "start_time": "2023-01-03T17:20:11.225Z"
      },
      {
        "duration": 1320,
        "start_time": "2023-01-03T17:20:11.510Z"
      },
      {
        "duration": 487,
        "start_time": "2023-01-03T17:20:12.832Z"
      },
      {
        "duration": 235,
        "start_time": "2023-01-03T17:20:13.321Z"
      },
      {
        "duration": 9,
        "start_time": "2023-01-03T17:20:13.557Z"
      },
      {
        "duration": 14,
        "start_time": "2023-01-03T17:20:13.568Z"
      },
      {
        "duration": 13,
        "start_time": "2023-01-03T17:20:13.584Z"
      },
      {
        "duration": 16,
        "start_time": "2023-01-03T17:20:13.599Z"
      },
      {
        "duration": 9,
        "start_time": "2023-01-03T17:20:13.616Z"
      },
      {
        "duration": 7,
        "start_time": "2023-01-03T17:20:13.626Z"
      },
      {
        "duration": 6,
        "start_time": "2023-01-03T17:20:13.634Z"
      },
      {
        "duration": 6,
        "start_time": "2023-01-03T17:20:13.642Z"
      },
      {
        "duration": 10,
        "start_time": "2023-01-03T17:20:13.649Z"
      },
      {
        "duration": 17,
        "start_time": "2023-01-03T17:20:13.661Z"
      },
      {
        "duration": 18,
        "start_time": "2023-01-03T17:20:13.680Z"
      },
      {
        "duration": 699,
        "start_time": "2023-01-03T17:20:13.700Z"
      },
      {
        "duration": 98,
        "start_time": "2023-01-03T17:20:14.401Z"
      },
      {
        "duration": 99,
        "start_time": "2023-01-03T17:20:14.507Z"
      },
      {
        "duration": 11,
        "start_time": "2023-01-03T17:20:14.608Z"
      },
      {
        "duration": 47,
        "start_time": "2023-01-03T17:20:14.622Z"
      },
      {
        "duration": 6,
        "start_time": "2023-01-03T17:20:14.671Z"
      },
      {
        "duration": 169,
        "start_time": "2023-01-03T17:20:14.678Z"
      },
      {
        "duration": 4,
        "start_time": "2023-01-03T17:20:14.849Z"
      },
      {
        "duration": 4,
        "start_time": "2023-01-03T17:20:14.855Z"
      },
      {
        "duration": 8,
        "start_time": "2023-01-03T17:20:14.860Z"
      },
      {
        "duration": 9,
        "start_time": "2023-01-03T17:20:14.869Z"
      },
      {
        "duration": 206660,
        "start_time": "2023-01-03T17:20:14.879Z"
      },
      {
        "duration": 4,
        "start_time": "2023-01-03T17:23:41.540Z"
      },
      {
        "duration": 10,
        "start_time": "2023-01-03T17:23:41.545Z"
      },
      {
        "duration": 5,
        "start_time": "2023-01-03T17:23:41.557Z"
      },
      {
        "duration": 10,
        "start_time": "2023-01-03T17:23:41.563Z"
      },
      {
        "duration": 4,
        "start_time": "2023-01-03T17:23:41.575Z"
      },
      {
        "duration": 1200,
        "start_time": "2023-01-03T17:24:52.847Z"
      },
      {
        "duration": 39,
        "start_time": "2023-01-03T17:24:54.049Z"
      },
      {
        "duration": 40,
        "start_time": "2023-01-03T17:24:54.090Z"
      },
      {
        "duration": 15,
        "start_time": "2023-01-03T17:24:54.131Z"
      },
      {
        "duration": 18,
        "start_time": "2023-01-03T17:24:54.147Z"
      },
      {
        "duration": 8,
        "start_time": "2023-01-03T17:24:54.167Z"
      },
      {
        "duration": 30,
        "start_time": "2023-01-03T17:24:54.176Z"
      },
      {
        "duration": 4,
        "start_time": "2023-01-03T17:24:54.207Z"
      },
      {
        "duration": 1094,
        "start_time": "2023-01-03T17:24:54.212Z"
      },
      {
        "duration": 315,
        "start_time": "2023-01-03T17:24:55.308Z"
      },
      {
        "duration": 292,
        "start_time": "2023-01-03T17:24:55.625Z"
      },
      {
        "duration": 1185,
        "start_time": "2023-01-03T17:24:55.919Z"
      },
      {
        "duration": 437,
        "start_time": "2023-01-03T17:24:57.105Z"
      },
      {
        "duration": 259,
        "start_time": "2023-01-03T17:24:57.545Z"
      },
      {
        "duration": 9,
        "start_time": "2023-01-03T17:24:57.805Z"
      },
      {
        "duration": 25,
        "start_time": "2023-01-03T17:24:57.815Z"
      },
      {
        "duration": 35,
        "start_time": "2023-01-03T17:24:57.842Z"
      },
      {
        "duration": 5,
        "start_time": "2023-01-03T17:24:57.879Z"
      },
      {
        "duration": 6,
        "start_time": "2023-01-03T17:24:57.886Z"
      },
      {
        "duration": 13,
        "start_time": "2023-01-03T17:24:57.894Z"
      },
      {
        "duration": 16,
        "start_time": "2023-01-03T17:24:57.909Z"
      },
      {
        "duration": 17,
        "start_time": "2023-01-03T17:24:57.927Z"
      },
      {
        "duration": 21,
        "start_time": "2023-01-03T17:24:57.946Z"
      },
      {
        "duration": 25,
        "start_time": "2023-01-03T17:24:57.969Z"
      },
      {
        "duration": 12,
        "start_time": "2023-01-03T17:24:57.996Z"
      },
      {
        "duration": 197,
        "start_time": "2023-01-03T17:24:58.009Z"
      },
      {
        "duration": 195,
        "start_time": "2023-01-03T17:24:58.207Z"
      },
      {
        "duration": 102,
        "start_time": "2023-01-03T17:24:58.409Z"
      },
      {
        "duration": 3,
        "start_time": "2023-01-03T17:24:58.598Z"
      },
      {
        "duration": 36,
        "start_time": "2023-01-03T17:24:58.602Z"
      },
      {
        "duration": 6,
        "start_time": "2023-01-03T17:24:58.639Z"
      },
      {
        "duration": 151,
        "start_time": "2023-01-03T17:24:58.646Z"
      },
      {
        "duration": 3,
        "start_time": "2023-01-03T17:24:58.799Z"
      },
      {
        "duration": 4,
        "start_time": "2023-01-03T17:24:58.804Z"
      },
      {
        "duration": 6,
        "start_time": "2023-01-03T17:24:58.810Z"
      },
      {
        "duration": 10,
        "start_time": "2023-01-03T17:24:58.818Z"
      },
      {
        "duration": 206189,
        "start_time": "2023-01-03T17:24:58.829Z"
      },
      {
        "duration": 3,
        "start_time": "2023-01-03T17:28:25.019Z"
      },
      {
        "duration": 10,
        "start_time": "2023-01-03T17:28:25.024Z"
      },
      {
        "duration": 27,
        "start_time": "2023-01-03T17:28:25.036Z"
      },
      {
        "duration": 26,
        "start_time": "2023-01-03T17:28:25.066Z"
      },
      {
        "duration": 11,
        "start_time": "2023-01-03T17:28:25.094Z"
      },
      {
        "duration": 1229,
        "start_time": "2023-01-03T17:29:20.804Z"
      },
      {
        "duration": 42,
        "start_time": "2023-01-03T17:29:22.035Z"
      },
      {
        "duration": 41,
        "start_time": "2023-01-03T17:29:22.078Z"
      },
      {
        "duration": 16,
        "start_time": "2023-01-03T17:29:22.120Z"
      },
      {
        "duration": 12,
        "start_time": "2023-01-03T17:29:22.138Z"
      },
      {
        "duration": 5,
        "start_time": "2023-01-03T17:29:22.151Z"
      },
      {
        "duration": 19,
        "start_time": "2023-01-03T17:29:22.157Z"
      },
      {
        "duration": 4,
        "start_time": "2023-01-03T17:29:22.197Z"
      },
      {
        "duration": 1025,
        "start_time": "2023-01-03T17:29:22.202Z"
      },
      {
        "duration": 286,
        "start_time": "2023-01-03T17:29:23.228Z"
      },
      {
        "duration": 270,
        "start_time": "2023-01-03T17:29:23.516Z"
      },
      {
        "duration": 1184,
        "start_time": "2023-01-03T17:29:23.787Z"
      },
      {
        "duration": 406,
        "start_time": "2023-01-03T17:29:24.972Z"
      },
      {
        "duration": 244,
        "start_time": "2023-01-03T17:29:25.382Z"
      },
      {
        "duration": 9,
        "start_time": "2023-01-03T17:29:25.627Z"
      },
      {
        "duration": 12,
        "start_time": "2023-01-03T17:29:25.638Z"
      },
      {
        "duration": 10,
        "start_time": "2023-01-03T17:29:25.651Z"
      },
      {
        "duration": 8,
        "start_time": "2023-01-03T17:29:25.663Z"
      },
      {
        "duration": 24,
        "start_time": "2023-01-03T17:29:25.673Z"
      },
      {
        "duration": 5,
        "start_time": "2023-01-03T17:29:25.699Z"
      },
      {
        "duration": 5,
        "start_time": "2023-01-03T17:29:25.705Z"
      },
      {
        "duration": 5,
        "start_time": "2023-01-03T17:29:25.711Z"
      },
      {
        "duration": 23,
        "start_time": "2023-01-03T17:29:25.717Z"
      },
      {
        "duration": 27,
        "start_time": "2023-01-03T17:29:25.742Z"
      },
      {
        "duration": 10,
        "start_time": "2023-01-03T17:29:25.771Z"
      },
      {
        "duration": 216,
        "start_time": "2023-01-03T17:29:25.782Z"
      },
      {
        "duration": 99,
        "start_time": "2023-01-03T17:29:26.000Z"
      },
      {
        "duration": 100,
        "start_time": "2023-01-03T17:29:26.101Z"
      },
      {
        "duration": 9,
        "start_time": "2023-01-03T17:29:26.203Z"
      },
      {
        "duration": 96,
        "start_time": "2023-01-03T17:29:26.214Z"
      },
      {
        "duration": 6,
        "start_time": "2023-01-03T17:29:26.311Z"
      },
      {
        "duration": 127,
        "start_time": "2023-01-03T17:29:26.319Z"
      },
      {
        "duration": 4,
        "start_time": "2023-01-03T17:29:26.448Z"
      },
      {
        "duration": 10,
        "start_time": "2023-01-03T17:29:26.454Z"
      },
      {
        "duration": 7,
        "start_time": "2023-01-03T17:29:26.466Z"
      },
      {
        "duration": 7,
        "start_time": "2023-01-03T17:29:26.475Z"
      },
      {
        "duration": 16131,
        "start_time": "2023-01-03T17:29:26.484Z"
      },
      {
        "duration": 4,
        "start_time": "2023-01-03T17:29:42.618Z"
      },
      {
        "duration": 11,
        "start_time": "2023-01-03T17:29:42.623Z"
      },
      {
        "duration": 4,
        "start_time": "2023-01-03T17:29:42.636Z"
      },
      {
        "duration": 19,
        "start_time": "2023-01-03T17:29:42.643Z"
      },
      {
        "duration": 5,
        "start_time": "2023-01-03T17:29:42.664Z"
      },
      {
        "duration": 1283,
        "start_time": "2023-01-03T18:10:24.575Z"
      },
      {
        "duration": 40,
        "start_time": "2023-01-03T18:10:25.860Z"
      },
      {
        "duration": 41,
        "start_time": "2023-01-03T18:10:25.901Z"
      },
      {
        "duration": 16,
        "start_time": "2023-01-03T18:10:25.944Z"
      },
      {
        "duration": 12,
        "start_time": "2023-01-03T18:10:25.961Z"
      },
      {
        "duration": 4,
        "start_time": "2023-01-03T18:10:25.974Z"
      },
      {
        "duration": 20,
        "start_time": "2023-01-03T18:10:25.979Z"
      },
      {
        "duration": 3,
        "start_time": "2023-01-03T18:10:26.000Z"
      },
      {
        "duration": 1000,
        "start_time": "2023-01-03T18:10:26.005Z"
      },
      {
        "duration": 289,
        "start_time": "2023-01-03T18:10:27.008Z"
      },
      {
        "duration": 262,
        "start_time": "2023-01-03T18:10:27.299Z"
      },
      {
        "duration": 1103,
        "start_time": "2023-01-03T18:10:27.562Z"
      },
      {
        "duration": 404,
        "start_time": "2023-01-03T18:10:28.666Z"
      },
      {
        "duration": 235,
        "start_time": "2023-01-03T18:10:29.071Z"
      },
      {
        "duration": 9,
        "start_time": "2023-01-03T18:10:29.308Z"
      },
      {
        "duration": 13,
        "start_time": "2023-01-03T18:10:29.318Z"
      },
      {
        "duration": 6,
        "start_time": "2023-01-03T18:10:29.333Z"
      },
      {
        "duration": 5,
        "start_time": "2023-01-03T18:10:29.341Z"
      },
      {
        "duration": 7,
        "start_time": "2023-01-03T18:10:29.348Z"
      },
      {
        "duration": 5,
        "start_time": "2023-01-03T18:10:29.357Z"
      },
      {
        "duration": 10,
        "start_time": "2023-01-03T18:10:29.363Z"
      },
      {
        "duration": 30,
        "start_time": "2023-01-03T18:10:29.374Z"
      },
      {
        "duration": 13,
        "start_time": "2023-01-03T18:10:29.406Z"
      },
      {
        "duration": 15,
        "start_time": "2023-01-03T18:10:29.420Z"
      },
      {
        "duration": 10,
        "start_time": "2023-01-03T18:10:29.437Z"
      },
      {
        "duration": 250,
        "start_time": "2023-01-03T18:10:29.448Z"
      },
      {
        "duration": 8,
        "start_time": "2023-01-03T18:10:29.700Z"
      },
      {
        "duration": 100,
        "start_time": "2023-01-03T18:10:29.806Z"
      },
      {
        "duration": 3,
        "start_time": "2023-01-03T18:10:29.908Z"
      },
      {
        "duration": 35,
        "start_time": "2023-01-03T18:10:29.913Z"
      },
      {
        "duration": 5,
        "start_time": "2023-01-03T18:10:29.949Z"
      },
      {
        "duration": 149,
        "start_time": "2023-01-03T18:10:29.955Z"
      },
      {
        "duration": 4,
        "start_time": "2023-01-03T18:10:30.106Z"
      },
      {
        "duration": 12,
        "start_time": "2023-01-03T18:10:30.111Z"
      },
      {
        "duration": 17,
        "start_time": "2023-01-03T18:10:30.124Z"
      },
      {
        "duration": 17,
        "start_time": "2023-01-03T18:10:30.142Z"
      },
      {
        "duration": 16290,
        "start_time": "2023-01-03T18:10:30.160Z"
      },
      {
        "duration": 3,
        "start_time": "2023-01-03T18:10:46.452Z"
      },
      {
        "duration": 8,
        "start_time": "2023-01-03T18:10:46.456Z"
      },
      {
        "duration": 4,
        "start_time": "2023-01-03T18:10:46.465Z"
      },
      {
        "duration": 26,
        "start_time": "2023-01-03T18:10:46.471Z"
      },
      {
        "duration": 4,
        "start_time": "2023-01-03T18:10:46.499Z"
      },
      {
        "duration": 16323,
        "start_time": "2023-01-03T18:10:46.505Z"
      },
      {
        "duration": 4,
        "start_time": "2023-01-03T18:11:02.829Z"
      },
      {
        "duration": 9,
        "start_time": "2023-01-03T18:11:02.835Z"
      },
      {
        "duration": 11353,
        "start_time": "2023-01-03T18:30:01.722Z"
      },
      {
        "duration": 3,
        "start_time": "2023-01-03T18:30:16.310Z"
      },
      {
        "duration": 4,
        "start_time": "2023-01-03T18:30:18.987Z"
      },
      {
        "duration": 1142,
        "start_time": "2023-01-03T18:30:39.759Z"
      },
      {
        "duration": 41,
        "start_time": "2023-01-03T18:30:40.902Z"
      },
      {
        "duration": 41,
        "start_time": "2023-01-03T18:30:40.944Z"
      },
      {
        "duration": 16,
        "start_time": "2023-01-03T18:30:40.986Z"
      },
      {
        "duration": 13,
        "start_time": "2023-01-03T18:30:41.004Z"
      },
      {
        "duration": 4,
        "start_time": "2023-01-03T18:30:41.018Z"
      },
      {
        "duration": 21,
        "start_time": "2023-01-03T18:30:41.024Z"
      },
      {
        "duration": 3,
        "start_time": "2023-01-03T18:30:41.047Z"
      },
      {
        "duration": 1040,
        "start_time": "2023-01-03T18:30:41.052Z"
      },
      {
        "duration": 320,
        "start_time": "2023-01-03T18:30:42.097Z"
      },
      {
        "duration": 268,
        "start_time": "2023-01-03T18:30:42.419Z"
      },
      {
        "duration": 1270,
        "start_time": "2023-01-03T18:30:42.688Z"
      },
      {
        "duration": 402,
        "start_time": "2023-01-03T18:30:43.959Z"
      },
      {
        "duration": 255,
        "start_time": "2023-01-03T18:30:44.364Z"
      },
      {
        "duration": 12,
        "start_time": "2023-01-03T18:30:44.623Z"
      },
      {
        "duration": 18,
        "start_time": "2023-01-03T18:30:44.637Z"
      },
      {
        "duration": 11,
        "start_time": "2023-01-03T18:30:44.657Z"
      },
      {
        "duration": 6,
        "start_time": "2023-01-03T18:30:44.670Z"
      },
      {
        "duration": 24,
        "start_time": "2023-01-03T18:30:44.678Z"
      },
      {
        "duration": 16,
        "start_time": "2023-01-03T18:30:44.704Z"
      },
      {
        "duration": 9,
        "start_time": "2023-01-03T18:30:44.722Z"
      },
      {
        "duration": 7,
        "start_time": "2023-01-03T18:30:44.733Z"
      },
      {
        "duration": 15,
        "start_time": "2023-01-03T18:30:44.742Z"
      },
      {
        "duration": 23,
        "start_time": "2023-01-03T18:30:44.759Z"
      },
      {
        "duration": 10,
        "start_time": "2023-01-03T18:30:44.784Z"
      },
      {
        "duration": 203,
        "start_time": "2023-01-03T18:30:44.796Z"
      },
      {
        "duration": 97,
        "start_time": "2023-01-03T18:30:45.001Z"
      },
      {
        "duration": 101,
        "start_time": "2023-01-03T18:30:45.101Z"
      },
      {
        "duration": 7,
        "start_time": "2023-01-03T18:30:45.203Z"
      },
      {
        "duration": 96,
        "start_time": "2023-01-03T18:30:45.212Z"
      },
      {
        "duration": 4,
        "start_time": "2023-01-03T18:30:45.310Z"
      },
      {
        "duration": 129,
        "start_time": "2023-01-03T18:30:45.315Z"
      },
      {
        "duration": 4,
        "start_time": "2023-01-03T18:30:45.445Z"
      },
      {
        "duration": 5,
        "start_time": "2023-01-03T18:30:45.450Z"
      },
      {
        "duration": 7,
        "start_time": "2023-01-03T18:30:45.456Z"
      },
      {
        "duration": 7,
        "start_time": "2023-01-03T18:30:45.464Z"
      },
      {
        "duration": 15928,
        "start_time": "2023-01-03T18:30:45.472Z"
      },
      {
        "duration": 4,
        "start_time": "2023-01-03T18:31:01.402Z"
      },
      {
        "duration": 10,
        "start_time": "2023-01-03T18:31:01.408Z"
      },
      {
        "duration": 5,
        "start_time": "2023-01-03T18:31:01.420Z"
      },
      {
        "duration": 18,
        "start_time": "2023-01-03T18:31:01.428Z"
      },
      {
        "duration": 6,
        "start_time": "2023-01-03T18:31:01.447Z"
      },
      {
        "duration": 1361046,
        "start_time": "2023-01-03T18:31:01.455Z"
      },
      {
        "duration": 3,
        "start_time": "2023-01-03T18:53:42.503Z"
      },
      {
        "duration": 8,
        "start_time": "2023-01-03T18:53:42.507Z"
      },
      {
        "duration": 218748,
        "start_time": "2023-01-03T18:59:23.397Z"
      },
      {
        "duration": 4,
        "start_time": "2023-01-03T19:10:28.459Z"
      },
      {
        "duration": 3,
        "start_time": "2023-01-03T19:10:30.890Z"
      },
      {
        "duration": 142601,
        "start_time": "2023-01-03T19:13:48.279Z"
      },
      {
        "duration": 4,
        "start_time": "2023-01-03T19:19:20.288Z"
      },
      {
        "duration": 3,
        "start_time": "2023-01-03T19:19:22.574Z"
      },
      {
        "duration": 189649,
        "start_time": "2023-01-03T19:19:35.521Z"
      },
      {
        "duration": 5,
        "start_time": "2023-01-03T19:22:50.045Z"
      },
      {
        "duration": 3,
        "start_time": "2023-01-03T19:22:52.398Z"
      },
      {
        "duration": 99096,
        "start_time": "2023-01-03T19:23:55.007Z"
      },
      {
        "duration": 3,
        "start_time": "2023-01-03T19:25:39.004Z"
      },
      {
        "duration": 4,
        "start_time": "2023-01-03T19:25:41.219Z"
      },
      {
        "duration": 16546,
        "start_time": "2023-01-03T19:27:12.920Z"
      },
      {
        "duration": 1148,
        "start_time": "2023-01-03T19:29:24.758Z"
      },
      {
        "duration": 42,
        "start_time": "2023-01-03T19:29:25.908Z"
      },
      {
        "duration": 41,
        "start_time": "2023-01-03T19:29:25.952Z"
      },
      {
        "duration": 18,
        "start_time": "2023-01-03T19:29:25.994Z"
      },
      {
        "duration": 11,
        "start_time": "2023-01-03T19:29:26.014Z"
      },
      {
        "duration": 4,
        "start_time": "2023-01-03T19:29:26.026Z"
      },
      {
        "duration": 16,
        "start_time": "2023-01-03T19:29:26.032Z"
      },
      {
        "duration": 4,
        "start_time": "2023-01-03T19:29:26.049Z"
      },
      {
        "duration": 981,
        "start_time": "2023-01-03T19:29:26.054Z"
      },
      {
        "duration": 294,
        "start_time": "2023-01-03T19:29:27.037Z"
      },
      {
        "duration": 253,
        "start_time": "2023-01-03T19:29:27.333Z"
      },
      {
        "duration": 1093,
        "start_time": "2023-01-03T19:29:27.587Z"
      },
      {
        "duration": 405,
        "start_time": "2023-01-03T19:29:28.681Z"
      },
      {
        "duration": 220,
        "start_time": "2023-01-03T19:29:29.097Z"
      },
      {
        "duration": 10,
        "start_time": "2023-01-03T19:29:29.319Z"
      },
      {
        "duration": 10,
        "start_time": "2023-01-03T19:29:29.330Z"
      },
      {
        "duration": 4,
        "start_time": "2023-01-03T19:29:29.342Z"
      },
      {
        "duration": 6,
        "start_time": "2023-01-03T19:29:29.347Z"
      },
      {
        "duration": 5,
        "start_time": "2023-01-03T19:29:29.355Z"
      },
      {
        "duration": 5,
        "start_time": "2023-01-03T19:29:29.361Z"
      },
      {
        "duration": 30,
        "start_time": "2023-01-03T19:29:29.367Z"
      },
      {
        "duration": 5,
        "start_time": "2023-01-03T19:29:29.399Z"
      },
      {
        "duration": 9,
        "start_time": "2023-01-03T19:29:29.406Z"
      },
      {
        "duration": 14,
        "start_time": "2023-01-03T19:29:29.417Z"
      },
      {
        "duration": 9,
        "start_time": "2023-01-03T19:29:29.432Z"
      },
      {
        "duration": 256,
        "start_time": "2023-01-03T19:29:29.442Z"
      },
      {
        "duration": 10,
        "start_time": "2023-01-03T19:29:29.700Z"
      },
      {
        "duration": 98,
        "start_time": "2023-01-03T19:29:29.799Z"
      },
      {
        "duration": 4,
        "start_time": "2023-01-03T19:29:29.899Z"
      },
      {
        "duration": 35,
        "start_time": "2023-01-03T19:29:29.904Z"
      },
      {
        "duration": 6,
        "start_time": "2023-01-03T19:29:29.941Z"
      },
      {
        "duration": 149,
        "start_time": "2023-01-03T19:29:29.948Z"
      },
      {
        "duration": 4,
        "start_time": "2023-01-03T19:29:30.100Z"
      },
      {
        "duration": 28,
        "start_time": "2023-01-03T19:29:30.106Z"
      },
      {
        "duration": 8,
        "start_time": "2023-01-03T19:29:30.136Z"
      },
      {
        "duration": 8,
        "start_time": "2023-01-03T19:29:30.145Z"
      },
      {
        "duration": 16051,
        "start_time": "2023-01-03T19:29:30.155Z"
      },
      {
        "duration": 3,
        "start_time": "2023-01-03T19:29:46.207Z"
      },
      {
        "duration": 6,
        "start_time": "2023-01-03T19:29:46.212Z"
      },
      {
        "duration": 5,
        "start_time": "2023-01-03T19:29:46.219Z"
      },
      {
        "duration": 13,
        "start_time": "2023-01-03T19:29:46.227Z"
      },
      {
        "duration": 5,
        "start_time": "2023-01-03T19:29:46.241Z"
      },
      {
        "duration": 16333,
        "start_time": "2023-01-03T19:29:46.247Z"
      },
      {
        "duration": 3,
        "start_time": "2023-01-03T19:30:02.582Z"
      },
      {
        "duration": 3,
        "start_time": "2023-01-03T19:30:02.597Z"
      },
      {
        "duration": 10,
        "start_time": "2023-01-03T19:30:02.601Z"
      },
      {
        "duration": 39,
        "start_time": "2023-01-03T19:30:02.613Z"
      },
      {
        "duration": 5,
        "start_time": "2023-01-03T19:30:02.653Z"
      },
      {
        "duration": 5,
        "start_time": "2023-01-03T20:20:34.910Z"
      },
      {
        "duration": 4,
        "start_time": "2023-01-03T20:20:49.750Z"
      },
      {
        "duration": 5,
        "start_time": "2023-01-03T20:21:01.121Z"
      },
      {
        "duration": 6,
        "start_time": "2023-01-03T20:26:44.555Z"
      },
      {
        "duration": 1200,
        "start_time": "2023-01-03T20:29:45.595Z"
      },
      {
        "duration": 41,
        "start_time": "2023-01-03T20:29:46.796Z"
      },
      {
        "duration": 41,
        "start_time": "2023-01-03T20:29:46.838Z"
      },
      {
        "duration": 15,
        "start_time": "2023-01-03T20:29:46.880Z"
      },
      {
        "duration": 11,
        "start_time": "2023-01-03T20:29:46.897Z"
      },
      {
        "duration": 4,
        "start_time": "2023-01-03T20:29:46.909Z"
      },
      {
        "duration": 34,
        "start_time": "2023-01-03T20:29:46.914Z"
      },
      {
        "duration": 4,
        "start_time": "2023-01-03T20:29:46.949Z"
      },
      {
        "duration": 974,
        "start_time": "2023-01-03T20:29:46.954Z"
      },
      {
        "duration": 287,
        "start_time": "2023-01-03T20:29:47.930Z"
      },
      {
        "duration": 252,
        "start_time": "2023-01-03T20:29:48.219Z"
      },
      {
        "duration": 1098,
        "start_time": "2023-01-03T20:29:48.473Z"
      },
      {
        "duration": 380,
        "start_time": "2023-01-03T20:29:49.572Z"
      },
      {
        "duration": 268,
        "start_time": "2023-01-03T20:29:49.954Z"
      },
      {
        "duration": 9,
        "start_time": "2023-01-03T20:29:50.224Z"
      },
      {
        "duration": 11,
        "start_time": "2023-01-03T20:29:50.234Z"
      },
      {
        "duration": 6,
        "start_time": "2023-01-03T20:29:50.246Z"
      },
      {
        "duration": 5,
        "start_time": "2023-01-03T20:29:50.253Z"
      },
      {
        "duration": 6,
        "start_time": "2023-01-03T20:29:50.260Z"
      },
      {
        "duration": 5,
        "start_time": "2023-01-03T20:29:50.267Z"
      },
      {
        "duration": 23,
        "start_time": "2023-01-03T20:29:50.274Z"
      },
      {
        "duration": 2,
        "start_time": "2023-01-03T20:29:50.298Z"
      },
      {
        "duration": 18,
        "start_time": "2023-01-03T20:29:50.301Z"
      },
      {
        "duration": 20,
        "start_time": "2023-01-03T20:29:50.320Z"
      },
      {
        "duration": 9,
        "start_time": "2023-01-03T20:29:50.342Z"
      },
      {
        "duration": 245,
        "start_time": "2023-01-03T20:29:50.353Z"
      },
      {
        "duration": 7,
        "start_time": "2023-01-03T20:29:50.600Z"
      },
      {
        "duration": 112,
        "start_time": "2023-01-03T20:29:50.704Z"
      },
      {
        "duration": 16,
        "start_time": "2023-01-03T20:29:50.818Z"
      },
      {
        "duration": 34,
        "start_time": "2023-01-03T20:29:50.836Z"
      },
      {
        "duration": 5,
        "start_time": "2023-01-03T20:29:50.871Z"
      },
      {
        "duration": 123,
        "start_time": "2023-01-03T20:29:50.877Z"
      },
      {
        "duration": 4,
        "start_time": "2023-01-03T20:29:51.001Z"
      },
      {
        "duration": 18,
        "start_time": "2023-01-03T20:29:51.006Z"
      },
      {
        "duration": 18,
        "start_time": "2023-01-03T20:29:51.026Z"
      },
      {
        "duration": 34,
        "start_time": "2023-01-03T20:29:51.045Z"
      },
      {
        "duration": 16087,
        "start_time": "2023-01-03T20:29:51.081Z"
      },
      {
        "duration": 4,
        "start_time": "2023-01-03T20:30:07.169Z"
      },
      {
        "duration": 7,
        "start_time": "2023-01-03T20:30:07.174Z"
      },
      {
        "duration": 15,
        "start_time": "2023-01-03T20:30:07.182Z"
      },
      {
        "duration": 19,
        "start_time": "2023-01-03T20:30:07.199Z"
      },
      {
        "duration": 4,
        "start_time": "2023-01-03T20:30:07.220Z"
      },
      {
        "duration": 16609,
        "start_time": "2023-01-03T20:30:07.225Z"
      },
      {
        "duration": 4,
        "start_time": "2023-01-03T20:30:23.835Z"
      },
      {
        "duration": 10,
        "start_time": "2023-01-03T20:30:23.840Z"
      },
      {
        "duration": 8,
        "start_time": "2023-01-03T20:30:23.852Z"
      },
      {
        "duration": 52,
        "start_time": "2023-01-03T20:30:23.861Z"
      },
      {
        "duration": 5,
        "start_time": "2023-01-03T20:30:23.915Z"
      },
      {
        "duration": 4,
        "start_time": "2023-01-03T20:30:23.922Z"
      },
      {
        "duration": 9,
        "start_time": "2023-01-03T20:30:23.928Z"
      },
      {
        "duration": 55,
        "start_time": "2023-01-03T20:30:23.939Z"
      },
      {
        "duration": 0,
        "start_time": "2023-01-03T20:30:23.996Z"
      },
      {
        "duration": 0,
        "start_time": "2023-01-03T20:30:23.997Z"
      },
      {
        "duration": 0,
        "start_time": "2023-01-03T20:30:23.998Z"
      },
      {
        "duration": 0,
        "start_time": "2023-01-03T20:30:23.999Z"
      },
      {
        "duration": 0,
        "start_time": "2023-01-03T20:30:24.000Z"
      },
      {
        "duration": 0,
        "start_time": "2023-01-03T20:30:24.001Z"
      },
      {
        "duration": 1237,
        "start_time": "2023-01-03T20:31:55.991Z"
      },
      {
        "duration": 45,
        "start_time": "2023-01-03T20:31:57.230Z"
      },
      {
        "duration": 41,
        "start_time": "2023-01-03T20:31:57.277Z"
      },
      {
        "duration": 15,
        "start_time": "2023-01-03T20:31:57.319Z"
      },
      {
        "duration": 10,
        "start_time": "2023-01-03T20:31:57.336Z"
      },
      {
        "duration": 3,
        "start_time": "2023-01-03T20:31:57.348Z"
      },
      {
        "duration": 23,
        "start_time": "2023-01-03T20:31:57.353Z"
      },
      {
        "duration": 4,
        "start_time": "2023-01-03T20:31:57.377Z"
      },
      {
        "duration": 1011,
        "start_time": "2023-01-03T20:31:57.397Z"
      },
      {
        "duration": 288,
        "start_time": "2023-01-03T20:31:58.410Z"
      },
      {
        "duration": 266,
        "start_time": "2023-01-03T20:31:58.699Z"
      },
      {
        "duration": 1112,
        "start_time": "2023-01-03T20:31:58.966Z"
      },
      {
        "duration": 408,
        "start_time": "2023-01-03T20:32:00.080Z"
      },
      {
        "duration": 231,
        "start_time": "2023-01-03T20:32:00.496Z"
      },
      {
        "duration": 11,
        "start_time": "2023-01-03T20:32:00.728Z"
      },
      {
        "duration": 43,
        "start_time": "2023-01-03T20:32:00.740Z"
      },
      {
        "duration": 31,
        "start_time": "2023-01-03T20:32:00.785Z"
      },
      {
        "duration": 21,
        "start_time": "2023-01-03T20:32:00.818Z"
      },
      {
        "duration": 46,
        "start_time": "2023-01-03T20:32:00.841Z"
      },
      {
        "duration": 39,
        "start_time": "2023-01-03T20:32:00.888Z"
      },
      {
        "duration": 33,
        "start_time": "2023-01-03T20:32:00.929Z"
      },
      {
        "duration": 33,
        "start_time": "2023-01-03T20:32:00.964Z"
      },
      {
        "duration": 50,
        "start_time": "2023-01-03T20:32:00.998Z"
      },
      {
        "duration": 42,
        "start_time": "2023-01-03T20:32:01.050Z"
      },
      {
        "duration": 29,
        "start_time": "2023-01-03T20:32:01.094Z"
      },
      {
        "duration": 173,
        "start_time": "2023-01-03T20:32:01.125Z"
      },
      {
        "duration": 101,
        "start_time": "2023-01-03T20:32:01.300Z"
      },
      {
        "duration": 192,
        "start_time": "2023-01-03T20:32:01.407Z"
      },
      {
        "duration": 9,
        "start_time": "2023-01-03T20:32:01.601Z"
      },
      {
        "duration": 45,
        "start_time": "2023-01-03T20:32:01.612Z"
      },
      {
        "duration": 5,
        "start_time": "2023-01-03T20:32:01.658Z"
      },
      {
        "duration": 152,
        "start_time": "2023-01-03T20:32:01.664Z"
      },
      {
        "duration": 3,
        "start_time": "2023-01-03T20:32:01.818Z"
      },
      {
        "duration": 7,
        "start_time": "2023-01-03T20:32:01.823Z"
      },
      {
        "duration": 8,
        "start_time": "2023-01-03T20:32:01.831Z"
      },
      {
        "duration": 27,
        "start_time": "2023-01-03T20:32:01.840Z"
      },
      {
        "duration": 16371,
        "start_time": "2023-01-03T20:32:01.869Z"
      },
      {
        "duration": 3,
        "start_time": "2023-01-03T20:32:18.242Z"
      },
      {
        "duration": 11,
        "start_time": "2023-01-03T20:32:18.246Z"
      },
      {
        "duration": 13,
        "start_time": "2023-01-03T20:32:18.259Z"
      },
      {
        "duration": 15,
        "start_time": "2023-01-03T20:32:18.274Z"
      },
      {
        "duration": 7,
        "start_time": "2023-01-03T20:32:18.291Z"
      },
      {
        "duration": 16305,
        "start_time": "2023-01-03T20:32:18.299Z"
      },
      {
        "duration": 4,
        "start_time": "2023-01-03T20:32:34.606Z"
      },
      {
        "duration": 10,
        "start_time": "2023-01-03T20:32:34.612Z"
      },
      {
        "duration": 9,
        "start_time": "2023-01-03T20:32:34.624Z"
      },
      {
        "duration": 50,
        "start_time": "2023-01-03T20:32:34.635Z"
      },
      {
        "duration": 15,
        "start_time": "2023-01-03T20:32:34.686Z"
      },
      {
        "duration": 4,
        "start_time": "2023-01-03T20:32:34.703Z"
      },
      {
        "duration": 9,
        "start_time": "2023-01-03T20:32:34.708Z"
      },
      {
        "duration": 51,
        "start_time": "2023-01-03T20:32:34.718Z"
      },
      {
        "duration": 0,
        "start_time": "2023-01-03T20:32:34.770Z"
      },
      {
        "duration": 0,
        "start_time": "2023-01-03T20:32:34.771Z"
      },
      {
        "duration": 0,
        "start_time": "2023-01-03T20:32:34.772Z"
      },
      {
        "duration": 0,
        "start_time": "2023-01-03T20:32:34.773Z"
      },
      {
        "duration": 0,
        "start_time": "2023-01-03T20:32:34.774Z"
      },
      {
        "duration": 0,
        "start_time": "2023-01-03T20:32:34.775Z"
      },
      {
        "duration": 8,
        "start_time": "2023-01-03T20:34:56.352Z"
      },
      {
        "duration": 599998,
        "start_time": "2023-01-03T20:35:01.718Z"
      },
      {
        "duration": 4,
        "start_time": "2023-01-03T20:45:01.718Z"
      },
      {
        "duration": 37,
        "start_time": "2023-01-03T20:45:01.724Z"
      },
      {
        "duration": 26,
        "start_time": "2023-01-03T20:45:01.763Z"
      },
      {
        "duration": 65,
        "start_time": "2023-01-03T20:45:01.790Z"
      },
      {
        "duration": 5,
        "start_time": "2023-01-03T20:45:01.857Z"
      },
      {
        "duration": 61278,
        "start_time": "2023-01-03T20:50:52.103Z"
      },
      {
        "duration": 4,
        "start_time": "2023-01-03T20:54:14.775Z"
      },
      {
        "duration": 3,
        "start_time": "2023-01-03T20:54:19.160Z"
      },
      {
        "duration": 50,
        "start_time": "2023-01-03T20:54:27.684Z"
      },
      {
        "duration": 6,
        "start_time": "2023-01-03T20:54:30.981Z"
      },
      {
        "duration": 152864,
        "start_time": "2023-01-03T20:55:00.485Z"
      },
      {
        "duration": 3,
        "start_time": "2023-01-03T20:57:33.351Z"
      },
      {
        "duration": 12,
        "start_time": "2023-01-03T20:57:33.355Z"
      },
      {
        "duration": 58,
        "start_time": "2023-01-03T20:57:33.369Z"
      },
      {
        "duration": 5,
        "start_time": "2023-01-03T20:57:33.428Z"
      },
      {
        "duration": 136214,
        "start_time": "2023-01-03T20:57:56.665Z"
      },
      {
        "duration": 1232,
        "start_time": "2023-01-03T21:08:29.377Z"
      },
      {
        "duration": 40,
        "start_time": "2023-01-03T21:08:30.611Z"
      },
      {
        "duration": 46,
        "start_time": "2023-01-03T21:08:30.653Z"
      },
      {
        "duration": 17,
        "start_time": "2023-01-03T21:08:30.701Z"
      },
      {
        "duration": 55,
        "start_time": "2023-01-03T21:08:30.720Z"
      },
      {
        "duration": 35,
        "start_time": "2023-01-03T21:08:30.776Z"
      },
      {
        "duration": 56,
        "start_time": "2023-01-03T21:08:30.813Z"
      },
      {
        "duration": 22,
        "start_time": "2023-01-03T21:08:30.871Z"
      },
      {
        "duration": 1024,
        "start_time": "2023-01-03T21:08:30.894Z"
      },
      {
        "duration": 297,
        "start_time": "2023-01-03T21:08:31.920Z"
      },
      {
        "duration": 270,
        "start_time": "2023-01-03T21:08:32.219Z"
      },
      {
        "duration": 1081,
        "start_time": "2023-01-03T21:08:32.497Z"
      },
      {
        "duration": 391,
        "start_time": "2023-01-03T21:08:33.580Z"
      },
      {
        "duration": 240,
        "start_time": "2023-01-03T21:08:33.973Z"
      },
      {
        "duration": 9,
        "start_time": "2023-01-03T21:08:34.215Z"
      },
      {
        "duration": 11,
        "start_time": "2023-01-03T21:08:34.225Z"
      },
      {
        "duration": 7,
        "start_time": "2023-01-03T21:08:34.237Z"
      },
      {
        "duration": 7,
        "start_time": "2023-01-03T21:08:34.245Z"
      },
      {
        "duration": 5,
        "start_time": "2023-01-03T21:08:34.253Z"
      },
      {
        "duration": 14,
        "start_time": "2023-01-03T21:08:34.259Z"
      },
      {
        "duration": 14,
        "start_time": "2023-01-03T21:08:34.274Z"
      },
      {
        "duration": 9,
        "start_time": "2023-01-03T21:08:34.290Z"
      },
      {
        "duration": 10,
        "start_time": "2023-01-03T21:08:34.300Z"
      },
      {
        "duration": 15,
        "start_time": "2023-01-03T21:08:34.311Z"
      },
      {
        "duration": 9,
        "start_time": "2023-01-03T21:08:34.327Z"
      },
      {
        "duration": 261,
        "start_time": "2023-01-03T21:08:34.338Z"
      },
      {
        "duration": 101,
        "start_time": "2023-01-03T21:08:34.600Z"
      },
      {
        "duration": 192,
        "start_time": "2023-01-03T21:08:34.707Z"
      },
      {
        "duration": 3,
        "start_time": "2023-01-03T21:08:34.900Z"
      },
      {
        "duration": 33,
        "start_time": "2023-01-03T21:08:34.905Z"
      },
      {
        "duration": 4,
        "start_time": "2023-01-03T21:08:34.939Z"
      },
      {
        "duration": 145,
        "start_time": "2023-01-03T21:08:34.944Z"
      },
      {
        "duration": 8,
        "start_time": "2023-01-03T21:08:35.091Z"
      },
      {
        "duration": 7,
        "start_time": "2023-01-03T21:08:35.100Z"
      },
      {
        "duration": 10,
        "start_time": "2023-01-03T21:08:35.108Z"
      },
      {
        "duration": 8,
        "start_time": "2023-01-03T21:08:35.119Z"
      },
      {
        "duration": 16071,
        "start_time": "2023-01-03T21:08:35.128Z"
      },
      {
        "duration": 4,
        "start_time": "2023-01-03T21:08:51.200Z"
      },
      {
        "duration": 9,
        "start_time": "2023-01-03T21:08:51.205Z"
      },
      {
        "duration": 3,
        "start_time": "2023-01-03T21:08:51.216Z"
      },
      {
        "duration": 21,
        "start_time": "2023-01-03T21:08:51.220Z"
      },
      {
        "duration": 5,
        "start_time": "2023-01-03T21:08:51.242Z"
      },
      {
        "duration": 16274,
        "start_time": "2023-01-03T21:08:51.249Z"
      },
      {
        "duration": 4,
        "start_time": "2023-01-03T21:09:07.524Z"
      },
      {
        "duration": 7,
        "start_time": "2023-01-03T21:09:07.529Z"
      },
      {
        "duration": 5,
        "start_time": "2023-01-03T21:09:07.538Z"
      },
      {
        "duration": 37,
        "start_time": "2023-01-03T21:09:07.544Z"
      },
      {
        "duration": 16,
        "start_time": "2023-01-03T21:09:07.582Z"
      },
      {
        "duration": 3,
        "start_time": "2023-01-03T21:09:07.599Z"
      },
      {
        "duration": 8,
        "start_time": "2023-01-03T21:09:07.604Z"
      },
      {
        "duration": 10,
        "start_time": "2023-01-03T21:09:07.613Z"
      },
      {
        "duration": 134523,
        "start_time": "2023-01-03T21:09:07.624Z"
      },
      {
        "duration": 3,
        "start_time": "2023-01-03T21:11:22.149Z"
      },
      {
        "duration": 7,
        "start_time": "2023-01-03T21:11:22.153Z"
      },
      {
        "duration": 7,
        "start_time": "2023-01-03T21:11:22.161Z"
      },
      {
        "duration": 65,
        "start_time": "2023-01-03T21:11:22.169Z"
      },
      {
        "duration": 6,
        "start_time": "2023-01-03T21:11:22.235Z"
      },
      {
        "duration": 74663,
        "start_time": "2023-01-03T21:11:52.305Z"
      },
      {
        "duration": 4,
        "start_time": "2023-01-03T21:13:11.298Z"
      },
      {
        "duration": 3,
        "start_time": "2023-01-03T21:13:13.453Z"
      },
      {
        "duration": 39292,
        "start_time": "2023-01-03T21:13:20.441Z"
      },
      {
        "duration": 3,
        "start_time": "2023-01-03T21:14:23.046Z"
      },
      {
        "duration": 49,
        "start_time": "2023-01-03T21:14:28.946Z"
      },
      {
        "duration": 5,
        "start_time": "2023-01-03T21:14:31.058Z"
      },
      {
        "duration": 1249,
        "start_time": "2023-01-03T21:18:05.165Z"
      },
      {
        "duration": 39,
        "start_time": "2023-01-03T21:18:06.416Z"
      },
      {
        "duration": 40,
        "start_time": "2023-01-03T21:18:06.456Z"
      },
      {
        "duration": 15,
        "start_time": "2023-01-03T21:18:06.498Z"
      },
      {
        "duration": 11,
        "start_time": "2023-01-03T21:18:06.515Z"
      },
      {
        "duration": 6,
        "start_time": "2023-01-03T21:18:06.527Z"
      },
      {
        "duration": 22,
        "start_time": "2023-01-03T21:18:06.535Z"
      },
      {
        "duration": 4,
        "start_time": "2023-01-03T21:18:06.558Z"
      },
      {
        "duration": 1004,
        "start_time": "2023-01-03T21:18:06.564Z"
      },
      {
        "duration": 292,
        "start_time": "2023-01-03T21:18:07.570Z"
      },
      {
        "duration": 263,
        "start_time": "2023-01-03T21:18:07.864Z"
      },
      {
        "duration": 1116,
        "start_time": "2023-01-03T21:18:08.128Z"
      },
      {
        "duration": 399,
        "start_time": "2023-01-03T21:18:09.246Z"
      },
      {
        "duration": 225,
        "start_time": "2023-01-03T21:18:09.647Z"
      },
      {
        "duration": 9,
        "start_time": "2023-01-03T21:18:09.874Z"
      },
      {
        "duration": 19,
        "start_time": "2023-01-03T21:18:09.884Z"
      },
      {
        "duration": 10,
        "start_time": "2023-01-03T21:18:09.904Z"
      },
      {
        "duration": 7,
        "start_time": "2023-01-03T21:18:09.916Z"
      },
      {
        "duration": 7,
        "start_time": "2023-01-03T21:18:09.925Z"
      },
      {
        "duration": 16,
        "start_time": "2023-01-03T21:18:09.934Z"
      },
      {
        "duration": 12,
        "start_time": "2023-01-03T21:18:09.951Z"
      },
      {
        "duration": 8,
        "start_time": "2023-01-03T21:18:09.965Z"
      },
      {
        "duration": 24,
        "start_time": "2023-01-03T21:18:09.974Z"
      },
      {
        "duration": 22,
        "start_time": "2023-01-03T21:18:09.999Z"
      },
      {
        "duration": 13,
        "start_time": "2023-01-03T21:18:10.023Z"
      },
      {
        "duration": 261,
        "start_time": "2023-01-03T21:18:10.038Z"
      },
      {
        "duration": 97,
        "start_time": "2023-01-03T21:18:10.301Z"
      },
      {
        "duration": 96,
        "start_time": "2023-01-03T21:18:10.405Z"
      },
      {
        "duration": 3,
        "start_time": "2023-01-03T21:18:10.503Z"
      },
      {
        "duration": 33,
        "start_time": "2023-01-03T21:18:10.508Z"
      },
      {
        "duration": 5,
        "start_time": "2023-01-03T21:18:10.542Z"
      },
      {
        "duration": 149,
        "start_time": "2023-01-03T21:18:10.549Z"
      },
      {
        "duration": 3,
        "start_time": "2023-01-03T21:18:10.700Z"
      },
      {
        "duration": 8,
        "start_time": "2023-01-03T21:18:10.704Z"
      },
      {
        "duration": 8,
        "start_time": "2023-01-03T21:18:10.714Z"
      },
      {
        "duration": 9,
        "start_time": "2023-01-03T21:18:10.723Z"
      },
      {
        "duration": 16354,
        "start_time": "2023-01-03T21:18:10.733Z"
      },
      {
        "duration": 10,
        "start_time": "2023-01-03T21:18:27.088Z"
      },
      {
        "duration": 3,
        "start_time": "2023-01-03T21:18:27.099Z"
      },
      {
        "duration": 5,
        "start_time": "2023-01-03T21:18:27.103Z"
      },
      {
        "duration": 16,
        "start_time": "2023-01-03T21:18:27.109Z"
      },
      {
        "duration": 4,
        "start_time": "2023-01-03T21:18:27.127Z"
      },
      {
        "duration": 16516,
        "start_time": "2023-01-03T21:18:27.132Z"
      },
      {
        "duration": 3,
        "start_time": "2023-01-03T21:18:43.650Z"
      },
      {
        "duration": 5,
        "start_time": "2023-01-03T21:18:43.655Z"
      },
      {
        "duration": 4,
        "start_time": "2023-01-03T21:18:43.662Z"
      },
      {
        "duration": 41,
        "start_time": "2023-01-03T21:18:43.667Z"
      },
      {
        "duration": 5,
        "start_time": "2023-01-03T21:18:43.709Z"
      },
      {
        "duration": 3,
        "start_time": "2023-01-03T21:18:43.716Z"
      },
      {
        "duration": 9,
        "start_time": "2023-01-03T21:18:43.721Z"
      },
      {
        "duration": 15,
        "start_time": "2023-01-03T21:18:43.731Z"
      },
      {
        "duration": 39700,
        "start_time": "2023-01-03T21:18:43.747Z"
      },
      {
        "duration": 4,
        "start_time": "2023-01-03T21:19:23.449Z"
      },
      {
        "duration": 8,
        "start_time": "2023-01-03T21:19:23.454Z"
      },
      {
        "duration": 19,
        "start_time": "2023-01-03T21:19:23.463Z"
      },
      {
        "duration": 66,
        "start_time": "2023-01-03T21:19:23.483Z"
      },
      {
        "duration": 5,
        "start_time": "2023-01-03T21:19:23.551Z"
      },
      {
        "duration": 4,
        "start_time": "2023-01-03T21:32:27.238Z"
      },
      {
        "duration": 1201,
        "start_time": "2023-01-03T21:33:42.305Z"
      },
      {
        "duration": 41,
        "start_time": "2023-01-03T21:33:43.507Z"
      },
      {
        "duration": 41,
        "start_time": "2023-01-03T21:33:43.550Z"
      },
      {
        "duration": 14,
        "start_time": "2023-01-03T21:33:43.593Z"
      },
      {
        "duration": 10,
        "start_time": "2023-01-03T21:33:43.609Z"
      },
      {
        "duration": 4,
        "start_time": "2023-01-03T21:33:43.620Z"
      },
      {
        "duration": 17,
        "start_time": "2023-01-03T21:33:43.625Z"
      },
      {
        "duration": 4,
        "start_time": "2023-01-03T21:33:43.643Z"
      },
      {
        "duration": 1049,
        "start_time": "2023-01-03T21:33:43.648Z"
      },
      {
        "duration": 293,
        "start_time": "2023-01-03T21:33:44.699Z"
      },
      {
        "duration": 275,
        "start_time": "2023-01-03T21:33:44.993Z"
      },
      {
        "duration": 1092,
        "start_time": "2023-01-03T21:33:45.270Z"
      },
      {
        "duration": 389,
        "start_time": "2023-01-03T21:33:46.363Z"
      },
      {
        "duration": 229,
        "start_time": "2023-01-03T21:33:46.753Z"
      },
      {
        "duration": 14,
        "start_time": "2023-01-03T21:33:46.983Z"
      },
      {
        "duration": 10,
        "start_time": "2023-01-03T21:33:46.998Z"
      },
      {
        "duration": 5,
        "start_time": "2023-01-03T21:33:47.010Z"
      },
      {
        "duration": 7,
        "start_time": "2023-01-03T21:33:47.017Z"
      },
      {
        "duration": 8,
        "start_time": "2023-01-03T21:33:47.025Z"
      },
      {
        "duration": 6,
        "start_time": "2023-01-03T21:33:47.034Z"
      },
      {
        "duration": 5,
        "start_time": "2023-01-03T21:33:47.041Z"
      },
      {
        "duration": 9,
        "start_time": "2023-01-03T21:33:47.047Z"
      },
      {
        "duration": 12,
        "start_time": "2023-01-03T21:33:47.057Z"
      },
      {
        "duration": 31,
        "start_time": "2023-01-03T21:33:47.070Z"
      },
      {
        "duration": 9,
        "start_time": "2023-01-03T21:33:47.103Z"
      },
      {
        "duration": 189,
        "start_time": "2023-01-03T21:33:47.114Z"
      },
      {
        "duration": 102,
        "start_time": "2023-01-03T21:33:47.305Z"
      },
      {
        "duration": 95,
        "start_time": "2023-01-03T21:33:47.503Z"
      },
      {
        "duration": 4,
        "start_time": "2023-01-03T21:33:47.599Z"
      },
      {
        "duration": 31,
        "start_time": "2023-01-03T21:33:47.604Z"
      },
      {
        "duration": 4,
        "start_time": "2023-01-03T21:33:47.636Z"
      },
      {
        "duration": 135,
        "start_time": "2023-01-03T21:33:47.641Z"
      },
      {
        "duration": 3,
        "start_time": "2023-01-03T21:33:47.777Z"
      },
      {
        "duration": 7,
        "start_time": "2023-01-03T21:33:47.781Z"
      },
      {
        "duration": 10,
        "start_time": "2023-01-03T21:33:47.789Z"
      },
      {
        "duration": 8,
        "start_time": "2023-01-03T21:33:47.800Z"
      },
      {
        "duration": 16250,
        "start_time": "2023-01-03T21:33:47.809Z"
      },
      {
        "duration": 3,
        "start_time": "2023-01-03T21:34:04.061Z"
      },
      {
        "duration": 6,
        "start_time": "2023-01-03T21:34:04.066Z"
      },
      {
        "duration": 7,
        "start_time": "2023-01-03T21:34:04.073Z"
      },
      {
        "duration": 26,
        "start_time": "2023-01-03T21:34:04.081Z"
      },
      {
        "duration": 5,
        "start_time": "2023-01-03T21:34:04.108Z"
      },
      {
        "duration": 16400,
        "start_time": "2023-01-03T21:34:04.114Z"
      },
      {
        "duration": 3,
        "start_time": "2023-01-03T21:34:20.516Z"
      },
      {
        "duration": 6,
        "start_time": "2023-01-03T21:34:20.521Z"
      },
      {
        "duration": 6,
        "start_time": "2023-01-03T21:34:20.528Z"
      },
      {
        "duration": 32,
        "start_time": "2023-01-03T21:34:20.535Z"
      },
      {
        "duration": 5,
        "start_time": "2023-01-03T21:34:20.568Z"
      },
      {
        "duration": 23,
        "start_time": "2023-01-03T21:34:20.574Z"
      },
      {
        "duration": 5,
        "start_time": "2023-01-03T21:34:20.598Z"
      },
      {
        "duration": 11,
        "start_time": "2023-01-03T21:34:20.604Z"
      },
      {
        "duration": 39834,
        "start_time": "2023-01-03T21:34:20.616Z"
      },
      {
        "duration": 4,
        "start_time": "2023-01-03T21:35:00.451Z"
      },
      {
        "duration": 28,
        "start_time": "2023-01-03T21:35:00.456Z"
      },
      {
        "duration": 70,
        "start_time": "2023-01-03T21:35:00.486Z"
      },
      {
        "duration": 73,
        "start_time": "2023-01-03T21:35:00.557Z"
      },
      {
        "duration": 7,
        "start_time": "2023-01-03T21:35:00.632Z"
      },
      {
        "duration": 23,
        "start_time": "2023-01-03T21:35:00.640Z"
      },
      {
        "duration": 41,
        "start_time": "2023-01-03T21:35:00.664Z"
      },
      {
        "duration": 146,
        "start_time": "2023-01-03T21:35:00.707Z"
      },
      {
        "duration": 0,
        "start_time": "2023-01-03T21:35:00.854Z"
      },
      {
        "duration": 1266,
        "start_time": "2023-01-03T21:37:56.070Z"
      },
      {
        "duration": 41,
        "start_time": "2023-01-03T21:37:57.338Z"
      },
      {
        "duration": 41,
        "start_time": "2023-01-03T21:37:57.381Z"
      },
      {
        "duration": 14,
        "start_time": "2023-01-03T21:37:57.424Z"
      },
      {
        "duration": 13,
        "start_time": "2023-01-03T21:37:57.440Z"
      },
      {
        "duration": 3,
        "start_time": "2023-01-03T21:37:57.455Z"
      },
      {
        "duration": 20,
        "start_time": "2023-01-03T21:37:57.459Z"
      },
      {
        "duration": 4,
        "start_time": "2023-01-03T21:37:57.480Z"
      },
      {
        "duration": 978,
        "start_time": "2023-01-03T21:37:57.485Z"
      },
      {
        "duration": 284,
        "start_time": "2023-01-03T21:37:58.465Z"
      },
      {
        "duration": 267,
        "start_time": "2023-01-03T21:37:58.750Z"
      },
      {
        "duration": 1093,
        "start_time": "2023-01-03T21:37:59.019Z"
      },
      {
        "duration": 403,
        "start_time": "2023-01-03T21:38:00.114Z"
      },
      {
        "duration": 231,
        "start_time": "2023-01-03T21:38:00.519Z"
      },
      {
        "duration": 9,
        "start_time": "2023-01-03T21:38:00.752Z"
      },
      {
        "duration": 61,
        "start_time": "2023-01-03T21:38:00.762Z"
      },
      {
        "duration": 35,
        "start_time": "2023-01-03T21:38:00.825Z"
      },
      {
        "duration": 23,
        "start_time": "2023-01-03T21:38:00.862Z"
      },
      {
        "duration": 39,
        "start_time": "2023-01-03T21:38:00.887Z"
      },
      {
        "duration": 81,
        "start_time": "2023-01-03T21:38:00.928Z"
      },
      {
        "duration": 30,
        "start_time": "2023-01-03T21:38:01.010Z"
      },
      {
        "duration": 33,
        "start_time": "2023-01-03T21:38:01.041Z"
      },
      {
        "duration": 29,
        "start_time": "2023-01-03T21:38:01.076Z"
      },
      {
        "duration": 27,
        "start_time": "2023-01-03T21:38:01.107Z"
      },
      {
        "duration": 9,
        "start_time": "2023-01-03T21:38:01.136Z"
      },
      {
        "duration": 158,
        "start_time": "2023-01-03T21:38:01.146Z"
      },
      {
        "duration": 99,
        "start_time": "2023-01-03T21:38:01.306Z"
      },
      {
        "duration": 190,
        "start_time": "2023-01-03T21:38:01.411Z"
      },
      {
        "duration": 21,
        "start_time": "2023-01-03T21:38:01.602Z"
      },
      {
        "duration": 32,
        "start_time": "2023-01-03T21:38:01.624Z"
      },
      {
        "duration": 4,
        "start_time": "2023-01-03T21:38:01.657Z"
      },
      {
        "duration": 126,
        "start_time": "2023-01-03T21:38:01.662Z"
      },
      {
        "duration": 3,
        "start_time": "2023-01-03T21:38:01.789Z"
      },
      {
        "duration": 27,
        "start_time": "2023-01-03T21:38:01.797Z"
      },
      {
        "duration": 10,
        "start_time": "2023-01-03T21:38:01.825Z"
      },
      {
        "duration": 40,
        "start_time": "2023-01-03T21:38:01.836Z"
      },
      {
        "duration": 15918,
        "start_time": "2023-01-03T21:38:01.877Z"
      },
      {
        "duration": 3,
        "start_time": "2023-01-03T21:38:17.796Z"
      },
      {
        "duration": 7,
        "start_time": "2023-01-03T21:38:17.801Z"
      },
      {
        "duration": 4,
        "start_time": "2023-01-03T21:38:17.810Z"
      },
      {
        "duration": 15,
        "start_time": "2023-01-03T21:38:17.815Z"
      },
      {
        "duration": 5,
        "start_time": "2023-01-03T21:38:17.831Z"
      },
      {
        "duration": 16269,
        "start_time": "2023-01-03T21:38:17.837Z"
      },
      {
        "duration": 4,
        "start_time": "2023-01-03T21:38:34.107Z"
      },
      {
        "duration": 6,
        "start_time": "2023-01-03T21:38:34.112Z"
      },
      {
        "duration": 5,
        "start_time": "2023-01-03T21:38:34.119Z"
      },
      {
        "duration": 27,
        "start_time": "2023-01-03T21:38:34.126Z"
      },
      {
        "duration": 5,
        "start_time": "2023-01-03T21:38:34.154Z"
      },
      {
        "duration": 3,
        "start_time": "2023-01-03T21:38:34.161Z"
      },
      {
        "duration": 33,
        "start_time": "2023-01-03T21:38:34.165Z"
      },
      {
        "duration": 9,
        "start_time": "2023-01-03T21:38:34.199Z"
      },
      {
        "duration": 39215,
        "start_time": "2023-01-03T21:38:34.210Z"
      },
      {
        "duration": 3,
        "start_time": "2023-01-03T21:39:13.427Z"
      },
      {
        "duration": 12,
        "start_time": "2023-01-03T21:39:13.432Z"
      },
      {
        "duration": 12,
        "start_time": "2023-01-03T21:39:13.446Z"
      },
      {
        "duration": 49,
        "start_time": "2023-01-03T21:39:13.460Z"
      },
      {
        "duration": 6,
        "start_time": "2023-01-03T21:39:13.510Z"
      },
      {
        "duration": 5,
        "start_time": "2023-01-03T21:39:13.518Z"
      },
      {
        "duration": 7,
        "start_time": "2023-01-03T21:39:13.524Z"
      },
      {
        "duration": 116,
        "start_time": "2023-01-03T21:39:13.532Z"
      },
      {
        "duration": 0,
        "start_time": "2023-01-03T21:39:13.649Z"
      },
      {
        "duration": 0,
        "start_time": "2023-01-03T21:39:13.651Z"
      },
      {
        "duration": 0,
        "start_time": "2023-01-03T21:39:13.651Z"
      },
      {
        "duration": 0,
        "start_time": "2023-01-03T21:39:13.652Z"
      },
      {
        "duration": 0,
        "start_time": "2023-01-03T21:39:13.653Z"
      },
      {
        "duration": 0,
        "start_time": "2023-01-03T21:39:13.654Z"
      },
      {
        "duration": 3,
        "start_time": "2023-01-03T21:40:37.398Z"
      },
      {
        "duration": 9,
        "start_time": "2023-01-03T21:41:00.491Z"
      },
      {
        "duration": 1173,
        "start_time": "2023-01-03T21:41:06.131Z"
      },
      {
        "duration": 40,
        "start_time": "2023-01-03T21:41:07.306Z"
      },
      {
        "duration": 41,
        "start_time": "2023-01-03T21:41:07.347Z"
      },
      {
        "duration": 15,
        "start_time": "2023-01-03T21:41:07.390Z"
      },
      {
        "duration": 11,
        "start_time": "2023-01-03T21:41:07.406Z"
      },
      {
        "duration": 3,
        "start_time": "2023-01-03T21:41:07.418Z"
      },
      {
        "duration": 16,
        "start_time": "2023-01-03T21:41:07.423Z"
      },
      {
        "duration": 3,
        "start_time": "2023-01-03T21:41:07.440Z"
      },
      {
        "duration": 984,
        "start_time": "2023-01-03T21:41:07.445Z"
      },
      {
        "duration": 286,
        "start_time": "2023-01-03T21:41:08.432Z"
      },
      {
        "duration": 268,
        "start_time": "2023-01-03T21:41:08.720Z"
      },
      {
        "duration": 1103,
        "start_time": "2023-01-03T21:41:08.997Z"
      },
      {
        "duration": 409,
        "start_time": "2023-01-03T21:41:10.102Z"
      },
      {
        "duration": 228,
        "start_time": "2023-01-03T21:41:10.512Z"
      },
      {
        "duration": 9,
        "start_time": "2023-01-03T21:41:10.741Z"
      },
      {
        "duration": 12,
        "start_time": "2023-01-03T21:41:10.751Z"
      },
      {
        "duration": 7,
        "start_time": "2023-01-03T21:41:10.764Z"
      },
      {
        "duration": 7,
        "start_time": "2023-01-03T21:41:10.773Z"
      },
      {
        "duration": 18,
        "start_time": "2023-01-03T21:41:10.781Z"
      },
      {
        "duration": 5,
        "start_time": "2023-01-03T21:41:10.800Z"
      },
      {
        "duration": 5,
        "start_time": "2023-01-03T21:41:10.806Z"
      },
      {
        "duration": 4,
        "start_time": "2023-01-03T21:41:10.813Z"
      },
      {
        "duration": 11,
        "start_time": "2023-01-03T21:41:10.818Z"
      },
      {
        "duration": 15,
        "start_time": "2023-01-03T21:41:10.831Z"
      },
      {
        "duration": 12,
        "start_time": "2023-01-03T21:41:10.847Z"
      },
      {
        "duration": 238,
        "start_time": "2023-01-03T21:41:10.861Z"
      },
      {
        "duration": 98,
        "start_time": "2023-01-03T21:41:11.101Z"
      },
      {
        "duration": 98,
        "start_time": "2023-01-03T21:41:11.205Z"
      },
      {
        "duration": 92,
        "start_time": "2023-01-03T21:41:11.306Z"
      },
      {
        "duration": 31,
        "start_time": "2023-01-03T21:41:11.400Z"
      },
      {
        "duration": 4,
        "start_time": "2023-01-03T21:41:11.432Z"
      },
      {
        "duration": 129,
        "start_time": "2023-01-03T21:41:11.438Z"
      },
      {
        "duration": 3,
        "start_time": "2023-01-03T21:41:11.569Z"
      },
      {
        "duration": 5,
        "start_time": "2023-01-03T21:41:11.573Z"
      },
      {
        "duration": 9,
        "start_time": "2023-01-03T21:41:11.579Z"
      },
      {
        "duration": 5,
        "start_time": "2023-01-03T21:41:11.597Z"
      },
      {
        "duration": 16041,
        "start_time": "2023-01-03T21:41:11.603Z"
      },
      {
        "duration": 4,
        "start_time": "2023-01-03T21:41:27.646Z"
      },
      {
        "duration": 5,
        "start_time": "2023-01-03T21:41:27.651Z"
      },
      {
        "duration": 4,
        "start_time": "2023-01-03T21:41:27.658Z"
      },
      {
        "duration": 17,
        "start_time": "2023-01-03T21:41:27.664Z"
      },
      {
        "duration": 4,
        "start_time": "2023-01-03T21:41:27.697Z"
      },
      {
        "duration": 16071,
        "start_time": "2023-01-03T21:41:27.703Z"
      },
      {
        "duration": 3,
        "start_time": "2023-01-03T21:41:43.776Z"
      },
      {
        "duration": 5,
        "start_time": "2023-01-03T21:41:43.781Z"
      },
      {
        "duration": 2,
        "start_time": "2023-01-03T21:41:43.798Z"
      },
      {
        "duration": 27,
        "start_time": "2023-01-03T21:41:43.801Z"
      },
      {
        "duration": 5,
        "start_time": "2023-01-03T21:41:43.829Z"
      },
      {
        "duration": 4,
        "start_time": "2023-01-03T21:41:43.835Z"
      },
      {
        "duration": 8,
        "start_time": "2023-01-03T21:41:43.840Z"
      },
      {
        "duration": 11,
        "start_time": "2023-01-03T21:41:43.849Z"
      },
      {
        "duration": 39050,
        "start_time": "2023-01-03T21:41:43.862Z"
      },
      {
        "duration": 3,
        "start_time": "2023-01-03T21:42:22.913Z"
      },
      {
        "duration": 13,
        "start_time": "2023-01-03T21:42:22.917Z"
      },
      {
        "duration": 9,
        "start_time": "2023-01-03T21:42:22.931Z"
      },
      {
        "duration": 50,
        "start_time": "2023-01-03T21:42:22.942Z"
      },
      {
        "duration": 5,
        "start_time": "2023-01-03T21:42:22.997Z"
      },
      {
        "duration": 4,
        "start_time": "2023-01-03T21:42:23.003Z"
      },
      {
        "duration": 9,
        "start_time": "2023-01-03T21:42:23.008Z"
      },
      {
        "duration": 22,
        "start_time": "2023-01-03T21:42:23.019Z"
      },
      {
        "duration": 141,
        "start_time": "2023-01-03T21:42:23.043Z"
      },
      {
        "duration": 3,
        "start_time": "2023-01-03T21:42:23.186Z"
      },
      {
        "duration": 16,
        "start_time": "2023-01-03T21:42:23.190Z"
      },
      {
        "duration": 5,
        "start_time": "2023-01-03T21:42:23.208Z"
      },
      {
        "duration": 18,
        "start_time": "2023-01-03T21:42:23.214Z"
      },
      {
        "duration": 0,
        "start_time": "2023-01-03T21:42:23.233Z"
      },
      {
        "duration": 50,
        "start_time": "2023-01-03T21:44:53.561Z"
      },
      {
        "duration": 60,
        "start_time": "2023-01-03T21:45:55.100Z"
      },
      {
        "duration": 1171,
        "start_time": "2023-01-03T21:47:02.433Z"
      },
      {
        "duration": 40,
        "start_time": "2023-01-03T21:47:03.605Z"
      },
      {
        "duration": 40,
        "start_time": "2023-01-03T21:47:03.646Z"
      },
      {
        "duration": 15,
        "start_time": "2023-01-03T21:47:03.688Z"
      },
      {
        "duration": 11,
        "start_time": "2023-01-03T21:47:03.705Z"
      },
      {
        "duration": 4,
        "start_time": "2023-01-03T21:47:03.718Z"
      },
      {
        "duration": 19,
        "start_time": "2023-01-03T21:47:03.723Z"
      },
      {
        "duration": 9,
        "start_time": "2023-01-03T21:47:03.743Z"
      },
      {
        "duration": 1011,
        "start_time": "2023-01-03T21:47:03.753Z"
      },
      {
        "duration": 286,
        "start_time": "2023-01-03T21:47:04.766Z"
      },
      {
        "duration": 275,
        "start_time": "2023-01-03T21:47:05.054Z"
      },
      {
        "duration": 1123,
        "start_time": "2023-01-03T21:47:05.331Z"
      },
      {
        "duration": 388,
        "start_time": "2023-01-03T21:47:06.456Z"
      },
      {
        "duration": 228,
        "start_time": "2023-01-03T21:47:06.848Z"
      },
      {
        "duration": 21,
        "start_time": "2023-01-03T21:47:07.078Z"
      },
      {
        "duration": 9,
        "start_time": "2023-01-03T21:47:07.101Z"
      },
      {
        "duration": 7,
        "start_time": "2023-01-03T21:47:07.111Z"
      },
      {
        "duration": 5,
        "start_time": "2023-01-03T21:47:07.119Z"
      },
      {
        "duration": 5,
        "start_time": "2023-01-03T21:47:07.125Z"
      },
      {
        "duration": 5,
        "start_time": "2023-01-03T21:47:07.132Z"
      },
      {
        "duration": 6,
        "start_time": "2023-01-03T21:47:07.138Z"
      },
      {
        "duration": 4,
        "start_time": "2023-01-03T21:47:07.145Z"
      },
      {
        "duration": 9,
        "start_time": "2023-01-03T21:47:07.151Z"
      },
      {
        "duration": 36,
        "start_time": "2023-01-03T21:47:07.161Z"
      },
      {
        "duration": 9,
        "start_time": "2023-01-03T21:47:07.199Z"
      },
      {
        "duration": 193,
        "start_time": "2023-01-03T21:47:07.210Z"
      },
      {
        "duration": 98,
        "start_time": "2023-01-03T21:47:07.405Z"
      },
      {
        "duration": 195,
        "start_time": "2023-01-03T21:47:07.505Z"
      },
      {
        "duration": 5,
        "start_time": "2023-01-03T21:47:07.701Z"
      },
      {
        "duration": 39,
        "start_time": "2023-01-03T21:47:07.707Z"
      },
      {
        "duration": 4,
        "start_time": "2023-01-03T21:47:07.747Z"
      },
      {
        "duration": 130,
        "start_time": "2023-01-03T21:47:07.753Z"
      },
      {
        "duration": 3,
        "start_time": "2023-01-03T21:47:07.885Z"
      },
      {
        "duration": 9,
        "start_time": "2023-01-03T21:47:07.889Z"
      },
      {
        "duration": 9,
        "start_time": "2023-01-03T21:47:07.899Z"
      },
      {
        "duration": 10,
        "start_time": "2023-01-03T21:47:07.909Z"
      },
      {
        "duration": 16032,
        "start_time": "2023-01-03T21:47:07.920Z"
      },
      {
        "duration": 4,
        "start_time": "2023-01-03T21:47:23.954Z"
      },
      {
        "duration": 13,
        "start_time": "2023-01-03T21:47:23.959Z"
      },
      {
        "duration": 12,
        "start_time": "2023-01-03T21:47:23.973Z"
      },
      {
        "duration": 17,
        "start_time": "2023-01-03T21:47:23.989Z"
      },
      {
        "duration": 5,
        "start_time": "2023-01-03T21:47:24.008Z"
      },
      {
        "duration": 16276,
        "start_time": "2023-01-03T21:47:24.014Z"
      },
      {
        "duration": 4,
        "start_time": "2023-01-03T21:47:40.296Z"
      },
      {
        "duration": 6,
        "start_time": "2023-01-03T21:47:40.301Z"
      },
      {
        "duration": 5,
        "start_time": "2023-01-03T21:47:40.308Z"
      },
      {
        "duration": 29,
        "start_time": "2023-01-03T21:47:40.315Z"
      },
      {
        "duration": 5,
        "start_time": "2023-01-03T21:47:40.345Z"
      },
      {
        "duration": 3,
        "start_time": "2023-01-03T21:47:40.351Z"
      },
      {
        "duration": 11,
        "start_time": "2023-01-03T21:47:40.355Z"
      },
      {
        "duration": 10,
        "start_time": "2023-01-03T21:47:40.367Z"
      },
      {
        "duration": 39563,
        "start_time": "2023-01-03T21:47:40.378Z"
      },
      {
        "duration": 4,
        "start_time": "2023-01-03T21:48:19.943Z"
      },
      {
        "duration": 7,
        "start_time": "2023-01-03T21:48:19.949Z"
      },
      {
        "duration": 7,
        "start_time": "2023-01-03T21:48:19.958Z"
      },
      {
        "duration": 72,
        "start_time": "2023-01-03T21:48:19.967Z"
      },
      {
        "duration": 7,
        "start_time": "2023-01-03T21:48:20.041Z"
      },
      {
        "duration": 6,
        "start_time": "2023-01-03T21:48:20.051Z"
      },
      {
        "duration": 13,
        "start_time": "2023-01-03T21:48:20.058Z"
      },
      {
        "duration": 24,
        "start_time": "2023-01-03T21:48:20.073Z"
      },
      {
        "duration": 387972,
        "start_time": "2023-01-03T21:48:20.100Z"
      },
      {
        "duration": 4,
        "start_time": "2023-01-03T21:54:48.073Z"
      },
      {
        "duration": 8,
        "start_time": "2023-01-03T21:54:48.078Z"
      },
      {
        "duration": 12,
        "start_time": "2023-01-03T21:54:48.087Z"
      },
      {
        "duration": 46,
        "start_time": "2023-01-03T21:54:48.100Z"
      },
      {
        "duration": 4,
        "start_time": "2023-01-03T21:54:48.148Z"
      },
      {
        "duration": 59524,
        "start_time": "2023-01-03T21:55:28.271Z"
      },
      {
        "duration": 4,
        "start_time": "2023-01-03T21:56:45.089Z"
      },
      {
        "duration": 4,
        "start_time": "2023-01-03T21:56:47.588Z"
      },
      {
        "duration": 3,
        "start_time": "2023-01-03T21:56:57.061Z"
      },
      {
        "duration": 46,
        "start_time": "2023-01-03T21:56:59.486Z"
      },
      {
        "duration": 6,
        "start_time": "2023-01-03T21:57:01.713Z"
      },
      {
        "duration": 1199,
        "start_time": "2023-01-03T21:58:05.239Z"
      },
      {
        "duration": 40,
        "start_time": "2023-01-03T21:58:06.440Z"
      },
      {
        "duration": 42,
        "start_time": "2023-01-03T21:58:06.481Z"
      },
      {
        "duration": 16,
        "start_time": "2023-01-03T21:58:06.525Z"
      },
      {
        "duration": 11,
        "start_time": "2023-01-03T21:58:06.542Z"
      },
      {
        "duration": 4,
        "start_time": "2023-01-03T21:58:06.554Z"
      },
      {
        "duration": 18,
        "start_time": "2023-01-03T21:58:06.559Z"
      },
      {
        "duration": 18,
        "start_time": "2023-01-03T21:58:06.579Z"
      },
      {
        "duration": 1030,
        "start_time": "2023-01-03T21:58:06.598Z"
      },
      {
        "duration": 300,
        "start_time": "2023-01-03T21:58:07.630Z"
      },
      {
        "duration": 281,
        "start_time": "2023-01-03T21:58:07.932Z"
      },
      {
        "duration": 1164,
        "start_time": "2023-01-03T21:58:08.215Z"
      },
      {
        "duration": 401,
        "start_time": "2023-01-03T21:58:09.380Z"
      },
      {
        "duration": 236,
        "start_time": "2023-01-03T21:58:09.783Z"
      },
      {
        "duration": 11,
        "start_time": "2023-01-03T21:58:10.021Z"
      },
      {
        "duration": 26,
        "start_time": "2023-01-03T21:58:10.034Z"
      },
      {
        "duration": 12,
        "start_time": "2023-01-03T21:58:10.062Z"
      },
      {
        "duration": 6,
        "start_time": "2023-01-03T21:58:10.076Z"
      },
      {
        "duration": 13,
        "start_time": "2023-01-03T21:58:10.084Z"
      },
      {
        "duration": 7,
        "start_time": "2023-01-03T21:58:10.099Z"
      },
      {
        "duration": 5,
        "start_time": "2023-01-03T21:58:10.108Z"
      },
      {
        "duration": 5,
        "start_time": "2023-01-03T21:58:10.114Z"
      },
      {
        "duration": 10,
        "start_time": "2023-01-03T21:58:10.120Z"
      },
      {
        "duration": 16,
        "start_time": "2023-01-03T21:58:10.132Z"
      },
      {
        "duration": 10,
        "start_time": "2023-01-03T21:58:10.149Z"
      },
      {
        "duration": 239,
        "start_time": "2023-01-03T21:58:10.161Z"
      },
      {
        "duration": 99,
        "start_time": "2023-01-03T21:58:10.402Z"
      },
      {
        "duration": 100,
        "start_time": "2023-01-03T21:58:10.507Z"
      },
      {
        "duration": 5,
        "start_time": "2023-01-03T21:58:10.610Z"
      },
      {
        "duration": 33,
        "start_time": "2023-01-03T21:58:10.697Z"
      },
      {
        "duration": 4,
        "start_time": "2023-01-03T21:58:10.732Z"
      },
      {
        "duration": 143,
        "start_time": "2023-01-03T21:58:10.738Z"
      },
      {
        "duration": 4,
        "start_time": "2023-01-03T21:58:10.883Z"
      },
      {
        "duration": 10,
        "start_time": "2023-01-03T21:58:10.888Z"
      },
      {
        "duration": 8,
        "start_time": "2023-01-03T21:58:10.899Z"
      },
      {
        "duration": 7,
        "start_time": "2023-01-03T21:58:10.908Z"
      },
      {
        "duration": 16587,
        "start_time": "2023-01-03T21:58:10.917Z"
      },
      {
        "duration": 3,
        "start_time": "2023-01-03T21:58:27.506Z"
      },
      {
        "duration": 5,
        "start_time": "2023-01-03T21:58:27.511Z"
      },
      {
        "duration": 6,
        "start_time": "2023-01-03T21:58:27.518Z"
      },
      {
        "duration": 16,
        "start_time": "2023-01-03T21:58:27.525Z"
      },
      {
        "duration": 5,
        "start_time": "2023-01-03T21:58:27.543Z"
      },
      {
        "duration": 17016,
        "start_time": "2023-01-03T21:58:27.549Z"
      },
      {
        "duration": 4,
        "start_time": "2023-01-03T21:58:44.568Z"
      },
      {
        "duration": 13,
        "start_time": "2023-01-03T21:58:44.574Z"
      },
      {
        "duration": 11,
        "start_time": "2023-01-03T21:58:44.588Z"
      },
      {
        "duration": 48,
        "start_time": "2023-01-03T21:58:44.601Z"
      },
      {
        "duration": 7,
        "start_time": "2023-01-03T21:58:44.651Z"
      },
      {
        "duration": 10,
        "start_time": "2023-01-03T21:58:44.660Z"
      },
      {
        "duration": 14,
        "start_time": "2023-01-03T21:58:44.671Z"
      },
      {
        "duration": 17,
        "start_time": "2023-01-03T21:58:44.687Z"
      },
      {
        "duration": 654064,
        "start_time": "2023-01-03T21:58:44.706Z"
      },
      {
        "duration": 4,
        "start_time": "2023-01-03T22:09:38.771Z"
      },
      {
        "duration": 9,
        "start_time": "2023-01-03T22:09:38.776Z"
      },
      {
        "duration": 10,
        "start_time": "2023-01-03T22:09:38.787Z"
      },
      {
        "duration": 62,
        "start_time": "2023-01-03T22:09:38.799Z"
      },
      {
        "duration": 5,
        "start_time": "2023-01-03T22:09:38.863Z"
      },
      {
        "duration": 10,
        "start_time": "2023-01-03T22:09:38.869Z"
      },
      {
        "duration": 11,
        "start_time": "2023-01-03T22:09:38.880Z"
      },
      {
        "duration": 11,
        "start_time": "2023-01-03T22:09:38.892Z"
      },
      {
        "duration": 187405,
        "start_time": "2023-01-03T22:09:38.904Z"
      },
      {
        "duration": 3,
        "start_time": "2023-01-03T22:12:46.311Z"
      },
      {
        "duration": 6,
        "start_time": "2023-01-03T22:12:46.315Z"
      },
      {
        "duration": 10,
        "start_time": "2023-01-03T22:12:46.322Z"
      },
      {
        "duration": 51,
        "start_time": "2023-01-03T22:12:46.334Z"
      },
      {
        "duration": 5,
        "start_time": "2023-01-03T22:12:46.397Z"
      },
      {
        "duration": 24688,
        "start_time": "2023-01-03T22:15:06.094Z"
      },
      {
        "duration": 3,
        "start_time": "2023-01-03T22:15:34.777Z"
      },
      {
        "duration": 3,
        "start_time": "2023-01-03T22:15:39.157Z"
      },
      {
        "duration": 3,
        "start_time": "2023-01-03T22:16:40.178Z"
      },
      {
        "duration": 25,
        "start_time": "2023-01-03T22:16:42.696Z"
      },
      {
        "duration": 5,
        "start_time": "2023-01-03T22:16:44.888Z"
      },
      {
        "duration": 25056,
        "start_time": "2023-01-03T22:17:02.466Z"
      },
      {
        "duration": 1194,
        "start_time": "2023-01-03T22:17:51.410Z"
      },
      {
        "duration": 40,
        "start_time": "2023-01-03T22:17:52.606Z"
      },
      {
        "duration": 42,
        "start_time": "2023-01-03T22:17:52.647Z"
      },
      {
        "duration": 15,
        "start_time": "2023-01-03T22:17:52.690Z"
      },
      {
        "duration": 11,
        "start_time": "2023-01-03T22:17:52.706Z"
      },
      {
        "duration": 4,
        "start_time": "2023-01-03T22:17:52.719Z"
      },
      {
        "duration": 18,
        "start_time": "2023-01-03T22:17:52.724Z"
      },
      {
        "duration": 4,
        "start_time": "2023-01-03T22:17:52.743Z"
      },
      {
        "duration": 990,
        "start_time": "2023-01-03T22:17:52.748Z"
      },
      {
        "duration": 284,
        "start_time": "2023-01-03T22:17:53.741Z"
      },
      {
        "duration": 263,
        "start_time": "2023-01-03T22:17:54.027Z"
      },
      {
        "duration": 1115,
        "start_time": "2023-01-03T22:17:54.297Z"
      },
      {
        "duration": 401,
        "start_time": "2023-01-03T22:17:55.414Z"
      },
      {
        "duration": 239,
        "start_time": "2023-01-03T22:17:55.817Z"
      },
      {
        "duration": 9,
        "start_time": "2023-01-03T22:17:56.057Z"
      },
      {
        "duration": 9,
        "start_time": "2023-01-03T22:17:56.067Z"
      },
      {
        "duration": 20,
        "start_time": "2023-01-03T22:17:56.077Z"
      },
      {
        "duration": 6,
        "start_time": "2023-01-03T22:17:56.099Z"
      },
      {
        "duration": 6,
        "start_time": "2023-01-03T22:17:56.106Z"
      },
      {
        "duration": 5,
        "start_time": "2023-01-03T22:17:56.113Z"
      },
      {
        "duration": 8,
        "start_time": "2023-01-03T22:17:56.119Z"
      },
      {
        "duration": 5,
        "start_time": "2023-01-03T22:17:56.129Z"
      },
      {
        "duration": 9,
        "start_time": "2023-01-03T22:17:56.135Z"
      },
      {
        "duration": 15,
        "start_time": "2023-01-03T22:17:56.146Z"
      },
      {
        "duration": 10,
        "start_time": "2023-01-03T22:17:56.163Z"
      },
      {
        "duration": 223,
        "start_time": "2023-01-03T22:17:56.174Z"
      },
      {
        "duration": 102,
        "start_time": "2023-01-03T22:17:56.399Z"
      },
      {
        "duration": 191,
        "start_time": "2023-01-03T22:17:56.507Z"
      },
      {
        "duration": 2,
        "start_time": "2023-01-03T22:17:56.700Z"
      },
      {
        "duration": 32,
        "start_time": "2023-01-03T22:17:56.704Z"
      },
      {
        "duration": 4,
        "start_time": "2023-01-03T22:17:56.737Z"
      },
      {
        "duration": 136,
        "start_time": "2023-01-03T22:17:56.742Z"
      },
      {
        "duration": 3,
        "start_time": "2023-01-03T22:17:56.880Z"
      },
      {
        "duration": 14,
        "start_time": "2023-01-03T22:17:56.884Z"
      },
      {
        "duration": 7,
        "start_time": "2023-01-03T22:17:56.899Z"
      },
      {
        "duration": 7,
        "start_time": "2023-01-03T22:17:56.907Z"
      },
      {
        "duration": 15786,
        "start_time": "2023-01-03T22:17:56.915Z"
      },
      {
        "duration": 3,
        "start_time": "2023-01-03T22:18:12.703Z"
      },
      {
        "duration": 7,
        "start_time": "2023-01-03T22:18:12.708Z"
      },
      {
        "duration": 6,
        "start_time": "2023-01-03T22:18:12.716Z"
      },
      {
        "duration": 16,
        "start_time": "2023-01-03T22:18:12.723Z"
      },
      {
        "duration": 5,
        "start_time": "2023-01-03T22:18:12.740Z"
      },
      {
        "duration": 16508,
        "start_time": "2023-01-03T22:18:12.746Z"
      },
      {
        "duration": 3,
        "start_time": "2023-01-03T22:18:29.255Z"
      },
      {
        "duration": 5,
        "start_time": "2023-01-03T22:18:29.260Z"
      },
      {
        "duration": 6,
        "start_time": "2023-01-03T22:18:29.266Z"
      },
      {
        "duration": 40,
        "start_time": "2023-01-03T22:18:29.273Z"
      },
      {
        "duration": 5,
        "start_time": "2023-01-03T22:18:29.314Z"
      },
      {
        "duration": 9,
        "start_time": "2023-01-03T22:18:29.321Z"
      },
      {
        "duration": 8,
        "start_time": "2023-01-03T22:18:29.332Z"
      },
      {
        "duration": 9,
        "start_time": "2023-01-03T22:18:29.342Z"
      },
      {
        "duration": 24433,
        "start_time": "2023-01-03T22:18:29.352Z"
      },
      {
        "duration": 3,
        "start_time": "2023-01-03T22:18:53.787Z"
      },
      {
        "duration": 4,
        "start_time": "2023-01-03T22:18:53.797Z"
      },
      {
        "duration": 7,
        "start_time": "2023-01-03T22:18:53.802Z"
      },
      {
        "duration": 26,
        "start_time": "2023-01-03T22:18:53.810Z"
      },
      {
        "duration": 4,
        "start_time": "2023-01-03T22:18:53.838Z"
      },
      {
        "duration": 6,
        "start_time": "2023-01-03T22:18:53.843Z"
      },
      {
        "duration": 7,
        "start_time": "2023-01-03T22:18:53.850Z"
      },
      {
        "duration": 9,
        "start_time": "2023-01-03T22:18:53.859Z"
      },
      {
        "duration": 10355,
        "start_time": "2023-01-03T22:18:53.870Z"
      },
      {
        "duration": 3,
        "start_time": "2023-01-03T22:19:04.227Z"
      },
      {
        "duration": 13,
        "start_time": "2023-01-03T22:19:04.232Z"
      },
      {
        "duration": 38,
        "start_time": "2023-01-03T22:19:04.246Z"
      },
      {
        "duration": 51,
        "start_time": "2023-01-03T22:19:04.285Z"
      },
      {
        "duration": 5,
        "start_time": "2023-01-03T22:19:04.337Z"
      },
      {
        "duration": 25,
        "start_time": "2023-01-03T22:29:06.726Z"
      },
      {
        "duration": 5,
        "start_time": "2023-01-03T22:29:09.474Z"
      },
      {
        "duration": 16265,
        "start_time": "2023-01-03T22:31:47.403Z"
      },
      {
        "duration": 3,
        "start_time": "2023-01-03T22:32:06.794Z"
      },
      {
        "duration": 4,
        "start_time": "2023-01-03T22:32:09.262Z"
      },
      {
        "duration": 437799,
        "start_time": "2023-01-03T22:32:36.357Z"
      },
      {
        "duration": 3,
        "start_time": "2023-01-03T22:39:59.096Z"
      },
      {
        "duration": 3,
        "start_time": "2023-01-03T22:40:01.873Z"
      },
      {
        "duration": 3,
        "start_time": "2023-01-03T22:40:21.466Z"
      },
      {
        "duration": 37,
        "start_time": "2023-01-03T22:40:23.669Z"
      },
      {
        "duration": 6,
        "start_time": "2023-01-03T22:40:26.368Z"
      },
      {
        "duration": 5,
        "start_time": "2023-01-03T22:40:28.939Z"
      },
      {
        "duration": 1634,
        "start_time": "2023-01-04T07:28:08.648Z"
      },
      {
        "duration": 55,
        "start_time": "2023-01-04T07:28:10.284Z"
      },
      {
        "duration": 163,
        "start_time": "2023-01-04T07:28:10.341Z"
      },
      {
        "duration": 28,
        "start_time": "2023-01-04T07:28:10.506Z"
      },
      {
        "duration": 20,
        "start_time": "2023-01-04T07:28:10.537Z"
      },
      {
        "duration": 6,
        "start_time": "2023-01-04T07:28:10.558Z"
      },
      {
        "duration": 30,
        "start_time": "2023-01-04T07:28:10.565Z"
      },
      {
        "duration": 4,
        "start_time": "2023-01-04T07:28:10.597Z"
      },
      {
        "duration": 1321,
        "start_time": "2023-01-04T07:28:10.603Z"
      },
      {
        "duration": 376,
        "start_time": "2023-01-04T07:28:11.925Z"
      },
      {
        "duration": 312,
        "start_time": "2023-01-04T07:28:12.303Z"
      },
      {
        "duration": 1261,
        "start_time": "2023-01-04T07:28:12.622Z"
      },
      {
        "duration": 590,
        "start_time": "2023-01-04T07:28:13.885Z"
      },
      {
        "duration": 297,
        "start_time": "2023-01-04T07:28:14.478Z"
      },
      {
        "duration": 11,
        "start_time": "2023-01-04T07:28:14.777Z"
      },
      {
        "duration": 12,
        "start_time": "2023-01-04T07:28:14.789Z"
      },
      {
        "duration": 19,
        "start_time": "2023-01-04T07:28:14.803Z"
      },
      {
        "duration": 23,
        "start_time": "2023-01-04T07:28:14.825Z"
      },
      {
        "duration": 6,
        "start_time": "2023-01-04T07:28:14.849Z"
      },
      {
        "duration": 6,
        "start_time": "2023-01-04T07:28:14.856Z"
      },
      {
        "duration": 6,
        "start_time": "2023-01-04T07:28:14.863Z"
      },
      {
        "duration": 4,
        "start_time": "2023-01-04T07:28:14.871Z"
      },
      {
        "duration": 11,
        "start_time": "2023-01-04T07:28:14.877Z"
      },
      {
        "duration": 57,
        "start_time": "2023-01-04T07:28:14.890Z"
      },
      {
        "duration": 13,
        "start_time": "2023-01-04T07:28:14.949Z"
      },
      {
        "duration": 474,
        "start_time": "2023-01-04T07:28:14.964Z"
      },
      {
        "duration": 94,
        "start_time": "2023-01-04T07:28:15.440Z"
      },
      {
        "duration": 98,
        "start_time": "2023-01-04T07:28:15.536Z"
      },
      {
        "duration": 14,
        "start_time": "2023-01-04T07:28:15.637Z"
      },
      {
        "duration": 106,
        "start_time": "2023-01-04T07:28:15.653Z"
      },
      {
        "duration": 5,
        "start_time": "2023-01-04T07:28:15.761Z"
      },
      {
        "duration": 170,
        "start_time": "2023-01-04T07:28:15.768Z"
      },
      {
        "duration": 4,
        "start_time": "2023-01-04T07:28:15.940Z"
      },
      {
        "duration": 5,
        "start_time": "2023-01-04T07:28:15.946Z"
      },
      {
        "duration": 6,
        "start_time": "2023-01-04T07:28:15.953Z"
      },
      {
        "duration": 7,
        "start_time": "2023-01-04T07:28:15.961Z"
      },
      {
        "duration": 18105,
        "start_time": "2023-01-04T07:28:15.969Z"
      },
      {
        "duration": 4,
        "start_time": "2023-01-04T07:28:34.076Z"
      },
      {
        "duration": 11,
        "start_time": "2023-01-04T07:28:34.081Z"
      },
      {
        "duration": 7,
        "start_time": "2023-01-04T07:28:34.094Z"
      },
      {
        "duration": 54,
        "start_time": "2023-01-04T07:28:34.107Z"
      },
      {
        "duration": 13,
        "start_time": "2023-01-04T07:28:34.163Z"
      },
      {
        "duration": 102472,
        "start_time": "2023-01-04T07:28:34.178Z"
      },
      {
        "duration": 4,
        "start_time": "2023-01-04T07:30:16.651Z"
      },
      {
        "duration": 34,
        "start_time": "2023-01-04T07:30:16.656Z"
      },
      {
        "duration": 10,
        "start_time": "2023-01-04T07:30:16.692Z"
      },
      {
        "duration": 55,
        "start_time": "2023-01-04T07:30:16.704Z"
      },
      {
        "duration": 5,
        "start_time": "2023-01-04T07:30:16.761Z"
      },
      {
        "duration": 30,
        "start_time": "2023-01-04T07:30:16.768Z"
      },
      {
        "duration": 31,
        "start_time": "2023-01-04T07:30:16.799Z"
      },
      {
        "duration": 34,
        "start_time": "2023-01-04T07:30:16.832Z"
      },
      {
        "duration": 34,
        "start_time": "2023-01-04T07:30:16.868Z"
      },
      {
        "duration": 25967,
        "start_time": "2023-01-04T07:30:16.903Z"
      },
      {
        "duration": 4,
        "start_time": "2023-01-04T07:30:42.871Z"
      },
      {
        "duration": 20,
        "start_time": "2023-01-04T07:30:42.877Z"
      },
      {
        "duration": 23,
        "start_time": "2023-01-04T07:30:42.900Z"
      },
      {
        "duration": 60,
        "start_time": "2023-01-04T07:30:42.925Z"
      },
      {
        "duration": 7,
        "start_time": "2023-01-04T07:30:42.987Z"
      },
      {
        "duration": 16,
        "start_time": "2023-01-04T07:30:42.995Z"
      },
      {
        "duration": 33,
        "start_time": "2023-01-04T07:30:43.012Z"
      },
      {
        "duration": 19,
        "start_time": "2023-01-04T07:30:43.047Z"
      },
      {
        "duration": 11092,
        "start_time": "2023-01-04T07:30:43.067Z"
      },
      {
        "duration": 4,
        "start_time": "2023-01-04T07:30:54.162Z"
      },
      {
        "duration": 29,
        "start_time": "2023-01-04T07:30:54.168Z"
      },
      {
        "duration": 10,
        "start_time": "2023-01-04T07:30:54.199Z"
      },
      {
        "duration": 49,
        "start_time": "2023-01-04T07:30:54.211Z"
      },
      {
        "duration": 8,
        "start_time": "2023-01-04T07:30:54.262Z"
      },
      {
        "duration": 37,
        "start_time": "2023-01-04T07:30:54.272Z"
      },
      {
        "duration": 6,
        "start_time": "2023-01-04T07:30:54.321Z"
      },
      {
        "duration": 1299,
        "start_time": "2023-01-04T07:53:58.386Z"
      },
      {
        "duration": 44,
        "start_time": "2023-01-04T07:53:59.687Z"
      },
      {
        "duration": 41,
        "start_time": "2023-01-04T07:53:59.732Z"
      },
      {
        "duration": 18,
        "start_time": "2023-01-04T07:53:59.774Z"
      },
      {
        "duration": 12,
        "start_time": "2023-01-04T07:53:59.794Z"
      },
      {
        "duration": 21,
        "start_time": "2023-01-04T07:53:59.808Z"
      },
      {
        "duration": 37,
        "start_time": "2023-01-04T07:53:59.831Z"
      },
      {
        "duration": 26,
        "start_time": "2023-01-04T07:53:59.869Z"
      },
      {
        "duration": 1195,
        "start_time": "2023-01-04T07:53:59.896Z"
      },
      {
        "duration": 356,
        "start_time": "2023-01-04T07:54:01.093Z"
      },
      {
        "duration": 341,
        "start_time": "2023-01-04T07:54:01.451Z"
      },
      {
        "duration": 1263,
        "start_time": "2023-01-04T07:54:01.794Z"
      },
      {
        "duration": 450,
        "start_time": "2023-01-04T07:54:03.059Z"
      },
      {
        "duration": 255,
        "start_time": "2023-01-04T07:54:03.512Z"
      },
      {
        "duration": 9,
        "start_time": "2023-01-04T07:54:03.769Z"
      },
      {
        "duration": 11,
        "start_time": "2023-01-04T07:54:03.779Z"
      },
      {
        "duration": 8,
        "start_time": "2023-01-04T07:54:03.791Z"
      },
      {
        "duration": 8,
        "start_time": "2023-01-04T07:54:03.801Z"
      },
      {
        "duration": 18,
        "start_time": "2023-01-04T07:54:03.810Z"
      },
      {
        "duration": 6,
        "start_time": "2023-01-04T07:54:03.830Z"
      },
      {
        "duration": 12,
        "start_time": "2023-01-04T07:54:03.838Z"
      },
      {
        "duration": 9,
        "start_time": "2023-01-04T07:54:03.852Z"
      },
      {
        "duration": 14,
        "start_time": "2023-01-04T07:54:03.863Z"
      },
      {
        "duration": 19,
        "start_time": "2023-01-04T07:54:03.879Z"
      },
      {
        "duration": 32,
        "start_time": "2023-01-04T07:54:03.900Z"
      },
      {
        "duration": 96,
        "start_time": "2023-01-04T07:54:03.933Z"
      },
      {
        "duration": 197,
        "start_time": "2023-01-04T07:54:04.030Z"
      },
      {
        "duration": 100,
        "start_time": "2023-01-04T07:54:04.229Z"
      },
      {
        "duration": 92,
        "start_time": "2023-01-04T07:54:04.331Z"
      },
      {
        "duration": 32,
        "start_time": "2023-01-04T07:54:04.425Z"
      },
      {
        "duration": 5,
        "start_time": "2023-01-04T07:54:04.459Z"
      },
      {
        "duration": 140,
        "start_time": "2023-01-04T07:54:04.465Z"
      },
      {
        "duration": 4,
        "start_time": "2023-01-04T07:54:04.606Z"
      },
      {
        "duration": 11,
        "start_time": "2023-01-04T07:54:04.611Z"
      },
      {
        "duration": 7,
        "start_time": "2023-01-04T07:54:04.623Z"
      },
      {
        "duration": 9,
        "start_time": "2023-01-04T07:54:04.631Z"
      },
      {
        "duration": 17147,
        "start_time": "2023-01-04T07:54:04.641Z"
      },
      {
        "duration": 4,
        "start_time": "2023-01-04T07:54:21.789Z"
      },
      {
        "duration": 6,
        "start_time": "2023-01-04T07:54:21.795Z"
      },
      {
        "duration": 19,
        "start_time": "2023-01-04T07:54:21.803Z"
      },
      {
        "duration": 18,
        "start_time": "2023-01-04T07:54:21.828Z"
      },
      {
        "duration": 6,
        "start_time": "2023-01-04T07:54:21.848Z"
      },
      {
        "duration": 12828,
        "start_time": "2023-01-04T07:54:21.856Z"
      },
      {
        "duration": 4,
        "start_time": "2023-01-04T07:54:34.685Z"
      },
      {
        "duration": 9,
        "start_time": "2023-01-04T07:54:34.691Z"
      },
      {
        "duration": 5,
        "start_time": "2023-01-04T07:54:34.702Z"
      },
      {
        "duration": 40,
        "start_time": "2023-01-04T07:54:34.708Z"
      },
      {
        "duration": 7,
        "start_time": "2023-01-04T07:54:34.751Z"
      },
      {
        "duration": 12,
        "start_time": "2023-01-04T07:54:34.760Z"
      },
      {
        "duration": 4,
        "start_time": "2023-01-04T07:54:34.774Z"
      },
      {
        "duration": 11,
        "start_time": "2023-01-04T07:54:34.780Z"
      },
      {
        "duration": 11,
        "start_time": "2023-01-04T07:54:34.793Z"
      },
      {
        "duration": 2183,
        "start_time": "2023-01-04T07:54:34.806Z"
      },
      {
        "duration": 3,
        "start_time": "2023-01-04T07:54:36.991Z"
      },
      {
        "duration": 6,
        "start_time": "2023-01-04T07:54:36.996Z"
      },
      {
        "duration": 7,
        "start_time": "2023-01-04T07:54:37.003Z"
      },
      {
        "duration": 33,
        "start_time": "2023-01-04T07:54:37.011Z"
      },
      {
        "duration": 7,
        "start_time": "2023-01-04T07:54:37.046Z"
      },
      {
        "duration": 7,
        "start_time": "2023-01-04T07:54:37.055Z"
      },
      {
        "duration": 5,
        "start_time": "2023-01-04T07:54:37.064Z"
      },
      {
        "duration": 7,
        "start_time": "2023-01-04T07:54:37.071Z"
      },
      {
        "duration": 12,
        "start_time": "2023-01-04T07:54:37.080Z"
      },
      {
        "duration": 153,
        "start_time": "2023-01-04T07:54:37.122Z"
      },
      {
        "duration": 4,
        "start_time": "2023-01-04T07:54:37.276Z"
      },
      {
        "duration": 8,
        "start_time": "2023-01-04T07:54:37.281Z"
      },
      {
        "duration": 5,
        "start_time": "2023-01-04T07:54:37.290Z"
      },
      {
        "duration": 12,
        "start_time": "2023-01-04T07:54:37.297Z"
      },
      {
        "duration": 0,
        "start_time": "2023-01-04T07:54:37.310Z"
      },
      {
        "duration": 0,
        "start_time": "2023-01-04T07:54:37.311Z"
      },
      {
        "duration": 0,
        "start_time": "2023-01-04T07:54:37.312Z"
      },
      {
        "duration": 0,
        "start_time": "2023-01-04T07:54:37.313Z"
      },
      {
        "duration": 0,
        "start_time": "2023-01-04T07:54:37.314Z"
      },
      {
        "duration": 1258,
        "start_time": "2023-01-04T07:56:19.177Z"
      },
      {
        "duration": 45,
        "start_time": "2023-01-04T07:56:20.437Z"
      },
      {
        "duration": 39,
        "start_time": "2023-01-04T07:56:20.483Z"
      },
      {
        "duration": 17,
        "start_time": "2023-01-04T07:56:20.524Z"
      },
      {
        "duration": 12,
        "start_time": "2023-01-04T07:56:20.542Z"
      },
      {
        "duration": 4,
        "start_time": "2023-01-04T07:56:20.556Z"
      },
      {
        "duration": 23,
        "start_time": "2023-01-04T07:56:20.561Z"
      },
      {
        "duration": 4,
        "start_time": "2023-01-04T07:56:20.585Z"
      },
      {
        "duration": 1090,
        "start_time": "2023-01-04T07:56:20.590Z"
      },
      {
        "duration": 322,
        "start_time": "2023-01-04T07:56:21.683Z"
      },
      {
        "duration": 317,
        "start_time": "2023-01-04T07:56:22.007Z"
      },
      {
        "duration": 1237,
        "start_time": "2023-01-04T07:56:22.325Z"
      },
      {
        "duration": 448,
        "start_time": "2023-01-04T07:56:23.563Z"
      },
      {
        "duration": 323,
        "start_time": "2023-01-04T07:56:24.012Z"
      },
      {
        "duration": 9,
        "start_time": "2023-01-04T07:56:24.336Z"
      },
      {
        "duration": 11,
        "start_time": "2023-01-04T07:56:24.347Z"
      },
      {
        "duration": 6,
        "start_time": "2023-01-04T07:56:24.359Z"
      },
      {
        "duration": 6,
        "start_time": "2023-01-04T07:56:24.366Z"
      },
      {
        "duration": 5,
        "start_time": "2023-01-04T07:56:24.374Z"
      },
      {
        "duration": 6,
        "start_time": "2023-01-04T07:56:24.380Z"
      },
      {
        "duration": 2,
        "start_time": "2023-01-04T07:56:24.388Z"
      },
      {
        "duration": 10,
        "start_time": "2023-01-04T07:56:24.392Z"
      },
      {
        "duration": 13,
        "start_time": "2023-01-04T07:56:24.423Z"
      },
      {
        "duration": 18,
        "start_time": "2023-01-04T07:56:24.437Z"
      },
      {
        "duration": 11,
        "start_time": "2023-01-04T07:56:24.456Z"
      },
      {
        "duration": 163,
        "start_time": "2023-01-04T07:56:24.468Z"
      },
      {
        "duration": 99,
        "start_time": "2023-01-04T07:56:24.723Z"
      },
      {
        "duration": 90,
        "start_time": "2023-01-04T07:56:24.833Z"
      },
      {
        "duration": 11,
        "start_time": "2023-01-04T07:56:24.929Z"
      },
      {
        "duration": 39,
        "start_time": "2023-01-04T07:56:24.942Z"
      },
      {
        "duration": 5,
        "start_time": "2023-01-04T07:56:24.983Z"
      },
      {
        "duration": 150,
        "start_time": "2023-01-04T07:56:24.990Z"
      },
      {
        "duration": 3,
        "start_time": "2023-01-04T07:56:25.142Z"
      },
      {
        "duration": 8,
        "start_time": "2023-01-04T07:56:25.147Z"
      },
      {
        "duration": 7,
        "start_time": "2023-01-04T07:56:25.157Z"
      },
      {
        "duration": 8,
        "start_time": "2023-01-04T07:56:25.166Z"
      },
      {
        "duration": 17236,
        "start_time": "2023-01-04T07:56:25.176Z"
      },
      {
        "duration": 4,
        "start_time": "2023-01-04T07:56:42.413Z"
      },
      {
        "duration": 9,
        "start_time": "2023-01-04T07:56:42.422Z"
      },
      {
        "duration": 10,
        "start_time": "2023-01-04T07:56:42.432Z"
      },
      {
        "duration": 17,
        "start_time": "2023-01-04T07:56:42.444Z"
      },
      {
        "duration": 7,
        "start_time": "2023-01-04T07:56:42.463Z"
      },
      {
        "duration": 488158,
        "start_time": "2023-01-04T07:56:42.471Z"
      },
      {
        "duration": 7,
        "start_time": "2023-01-04T08:04:50.630Z"
      },
      {
        "duration": 20,
        "start_time": "2023-01-04T08:04:50.640Z"
      },
      {
        "duration": 17,
        "start_time": "2023-01-04T08:04:50.662Z"
      },
      {
        "duration": 61,
        "start_time": "2023-01-04T08:04:50.681Z"
      },
      {
        "duration": 5,
        "start_time": "2023-01-04T08:04:50.744Z"
      },
      {
        "duration": 25,
        "start_time": "2023-01-04T08:04:50.750Z"
      },
      {
        "duration": 9,
        "start_time": "2023-01-04T08:04:50.777Z"
      },
      {
        "duration": 31,
        "start_time": "2023-01-04T08:04:50.788Z"
      },
      {
        "duration": 27,
        "start_time": "2023-01-04T08:04:50.820Z"
      },
      {
        "duration": 632026,
        "start_time": "2023-01-04T08:04:50.849Z"
      },
      {
        "duration": 4,
        "start_time": "2023-01-04T08:15:22.876Z"
      },
      {
        "duration": 10,
        "start_time": "2023-01-04T08:15:22.881Z"
      },
      {
        "duration": 19,
        "start_time": "2023-01-04T08:15:22.892Z"
      },
      {
        "duration": 55,
        "start_time": "2023-01-04T08:15:22.912Z"
      },
      {
        "duration": 6,
        "start_time": "2023-01-04T08:15:22.968Z"
      },
      {
        "duration": 15,
        "start_time": "2023-01-04T08:15:22.976Z"
      },
      {
        "duration": 4,
        "start_time": "2023-01-04T08:15:22.993Z"
      },
      {
        "duration": 10,
        "start_time": "2023-01-04T08:15:22.998Z"
      },
      {
        "duration": 18,
        "start_time": "2023-01-04T08:15:23.010Z"
      },
      {
        "duration": 11121,
        "start_time": "2023-01-04T08:15:23.030Z"
      },
      {
        "duration": 4,
        "start_time": "2023-01-04T08:15:34.153Z"
      },
      {
        "duration": 8,
        "start_time": "2023-01-04T08:15:34.159Z"
      },
      {
        "duration": 8,
        "start_time": "2023-01-04T08:15:34.169Z"
      },
      {
        "duration": 63,
        "start_time": "2023-01-04T08:15:34.179Z"
      },
      {
        "duration": 9,
        "start_time": "2023-01-04T08:15:34.244Z"
      },
      {
        "duration": 9,
        "start_time": "2023-01-04T08:15:34.255Z"
      },
      {
        "duration": 31,
        "start_time": "2023-01-04T08:15:34.265Z"
      },
      {
        "duration": 6,
        "start_time": "2023-01-04T08:15:34.297Z"
      },
      {
        "duration": 7,
        "start_time": "2023-01-04T08:15:34.322Z"
      },
      {
        "duration": 33,
        "start_time": "2023-01-04T08:18:36.655Z"
      },
      {
        "duration": 6,
        "start_time": "2023-01-04T08:18:39.732Z"
      },
      {
        "duration": 6,
        "start_time": "2023-01-04T08:18:42.076Z"
      },
      {
        "duration": 28,
        "start_time": "2023-01-04T08:19:22.714Z"
      },
      {
        "duration": 5,
        "start_time": "2023-01-04T08:19:25.210Z"
      },
      {
        "duration": 5,
        "start_time": "2023-01-04T08:19:27.561Z"
      },
      {
        "duration": 1346,
        "start_time": "2023-01-04T08:24:33.847Z"
      },
      {
        "duration": 44,
        "start_time": "2023-01-04T08:24:35.195Z"
      },
      {
        "duration": 40,
        "start_time": "2023-01-04T08:24:35.240Z"
      },
      {
        "duration": 17,
        "start_time": "2023-01-04T08:24:35.282Z"
      },
      {
        "duration": 13,
        "start_time": "2023-01-04T08:24:35.302Z"
      },
      {
        "duration": 8,
        "start_time": "2023-01-04T08:24:35.317Z"
      },
      {
        "duration": 20,
        "start_time": "2023-01-04T08:24:35.327Z"
      },
      {
        "duration": 3,
        "start_time": "2023-01-04T08:24:35.349Z"
      },
      {
        "duration": 1102,
        "start_time": "2023-01-04T08:24:35.354Z"
      },
      {
        "duration": 318,
        "start_time": "2023-01-04T08:24:36.457Z"
      },
      {
        "duration": 278,
        "start_time": "2023-01-04T08:24:36.777Z"
      },
      {
        "duration": 1183,
        "start_time": "2023-01-04T08:24:37.057Z"
      },
      {
        "duration": 458,
        "start_time": "2023-01-04T08:24:38.242Z"
      },
      {
        "duration": 256,
        "start_time": "2023-01-04T08:24:38.702Z"
      },
      {
        "duration": 9,
        "start_time": "2023-01-04T08:24:38.960Z"
      },
      {
        "duration": 11,
        "start_time": "2023-01-04T08:24:38.970Z"
      },
      {
        "duration": 6,
        "start_time": "2023-01-04T08:24:38.982Z"
      },
      {
        "duration": 123,
        "start_time": "2023-01-04T08:24:38.990Z"
      },
      {
        "duration": 0,
        "start_time": "2023-01-04T08:24:39.117Z"
      },
      {
        "duration": 0,
        "start_time": "2023-01-04T08:24:39.117Z"
      },
      {
        "duration": 0,
        "start_time": "2023-01-04T08:24:39.118Z"
      },
      {
        "duration": 0,
        "start_time": "2023-01-04T08:24:39.118Z"
      },
      {
        "duration": 0,
        "start_time": "2023-01-04T08:24:39.122Z"
      },
      {
        "duration": 0,
        "start_time": "2023-01-04T08:24:39.123Z"
      },
      {
        "duration": 0,
        "start_time": "2023-01-04T08:24:39.124Z"
      },
      {
        "duration": 0,
        "start_time": "2023-01-04T08:24:39.126Z"
      },
      {
        "duration": 0,
        "start_time": "2023-01-04T08:24:39.127Z"
      },
      {
        "duration": 0,
        "start_time": "2023-01-04T08:24:39.128Z"
      },
      {
        "duration": 0,
        "start_time": "2023-01-04T08:24:39.129Z"
      },
      {
        "duration": 0,
        "start_time": "2023-01-04T08:24:39.130Z"
      },
      {
        "duration": 0,
        "start_time": "2023-01-04T08:24:39.131Z"
      },
      {
        "duration": 0,
        "start_time": "2023-01-04T08:24:39.131Z"
      },
      {
        "duration": 0,
        "start_time": "2023-01-04T08:24:39.132Z"
      },
      {
        "duration": 0,
        "start_time": "2023-01-04T08:24:39.133Z"
      },
      {
        "duration": 0,
        "start_time": "2023-01-04T08:24:39.134Z"
      },
      {
        "duration": 0,
        "start_time": "2023-01-04T08:24:39.135Z"
      },
      {
        "duration": 0,
        "start_time": "2023-01-04T08:24:39.136Z"
      },
      {
        "duration": 0,
        "start_time": "2023-01-04T08:24:39.137Z"
      },
      {
        "duration": 0,
        "start_time": "2023-01-04T08:24:39.138Z"
      },
      {
        "duration": 0,
        "start_time": "2023-01-04T08:24:39.138Z"
      },
      {
        "duration": 0,
        "start_time": "2023-01-04T08:24:39.140Z"
      },
      {
        "duration": 0,
        "start_time": "2023-01-04T08:24:39.140Z"
      },
      {
        "duration": 0,
        "start_time": "2023-01-04T08:24:39.141Z"
      },
      {
        "duration": 0,
        "start_time": "2023-01-04T08:24:39.142Z"
      },
      {
        "duration": 0,
        "start_time": "2023-01-04T08:24:39.143Z"
      },
      {
        "duration": 0,
        "start_time": "2023-01-04T08:24:39.144Z"
      },
      {
        "duration": 0,
        "start_time": "2023-01-04T08:24:39.145Z"
      },
      {
        "duration": 0,
        "start_time": "2023-01-04T08:24:39.145Z"
      },
      {
        "duration": 0,
        "start_time": "2023-01-04T08:24:39.147Z"
      },
      {
        "duration": 0,
        "start_time": "2023-01-04T08:24:39.147Z"
      },
      {
        "duration": 0,
        "start_time": "2023-01-04T08:24:39.148Z"
      },
      {
        "duration": 0,
        "start_time": "2023-01-04T08:24:39.149Z"
      },
      {
        "duration": 0,
        "start_time": "2023-01-04T08:24:39.150Z"
      },
      {
        "duration": 0,
        "start_time": "2023-01-04T08:24:39.151Z"
      },
      {
        "duration": 0,
        "start_time": "2023-01-04T08:24:39.152Z"
      },
      {
        "duration": 0,
        "start_time": "2023-01-04T08:24:39.153Z"
      },
      {
        "duration": 0,
        "start_time": "2023-01-04T08:24:39.154Z"
      },
      {
        "duration": 0,
        "start_time": "2023-01-04T08:24:39.155Z"
      },
      {
        "duration": 0,
        "start_time": "2023-01-04T08:24:39.156Z"
      },
      {
        "duration": 0,
        "start_time": "2023-01-04T08:24:39.157Z"
      },
      {
        "duration": 0,
        "start_time": "2023-01-04T08:24:39.157Z"
      },
      {
        "duration": 0,
        "start_time": "2023-01-04T08:24:39.158Z"
      },
      {
        "duration": 0,
        "start_time": "2023-01-04T08:24:39.159Z"
      },
      {
        "duration": 0,
        "start_time": "2023-01-04T08:24:39.160Z"
      },
      {
        "duration": 0,
        "start_time": "2023-01-04T08:24:39.162Z"
      },
      {
        "duration": 0,
        "start_time": "2023-01-04T08:24:39.222Z"
      },
      {
        "duration": 0,
        "start_time": "2023-01-04T08:24:39.223Z"
      },
      {
        "duration": 0,
        "start_time": "2023-01-04T08:24:39.224Z"
      },
      {
        "duration": 0,
        "start_time": "2023-01-04T08:24:39.225Z"
      },
      {
        "duration": 0,
        "start_time": "2023-01-04T08:24:39.227Z"
      },
      {
        "duration": 0,
        "start_time": "2023-01-04T08:24:39.228Z"
      },
      {
        "duration": 0,
        "start_time": "2023-01-04T08:24:39.229Z"
      },
      {
        "duration": 0,
        "start_time": "2023-01-04T08:24:39.230Z"
      },
      {
        "duration": 7,
        "start_time": "2023-01-04T08:25:37.335Z"
      },
      {
        "duration": 1288,
        "start_time": "2023-01-04T08:25:42.219Z"
      },
      {
        "duration": 43,
        "start_time": "2023-01-04T08:25:43.509Z"
      },
      {
        "duration": 40,
        "start_time": "2023-01-04T08:25:43.554Z"
      },
      {
        "duration": 16,
        "start_time": "2023-01-04T08:25:43.596Z"
      },
      {
        "duration": 27,
        "start_time": "2023-01-04T08:25:43.613Z"
      },
      {
        "duration": 7,
        "start_time": "2023-01-04T08:25:43.642Z"
      },
      {
        "duration": 45,
        "start_time": "2023-01-04T08:25:43.651Z"
      },
      {
        "duration": 4,
        "start_time": "2023-01-04T08:25:43.697Z"
      },
      {
        "duration": 1137,
        "start_time": "2023-01-04T08:25:43.703Z"
      },
      {
        "duration": 315,
        "start_time": "2023-01-04T08:25:44.844Z"
      },
      {
        "duration": 291,
        "start_time": "2023-01-04T08:25:45.161Z"
      },
      {
        "duration": 1215,
        "start_time": "2023-01-04T08:25:45.453Z"
      },
      {
        "duration": 437,
        "start_time": "2023-01-04T08:25:46.669Z"
      },
      {
        "duration": 257,
        "start_time": "2023-01-04T08:25:47.108Z"
      },
      {
        "duration": 10,
        "start_time": "2023-01-04T08:25:47.366Z"
      },
      {
        "duration": 14,
        "start_time": "2023-01-04T08:25:47.377Z"
      },
      {
        "duration": 7,
        "start_time": "2023-01-04T08:25:47.393Z"
      },
      {
        "duration": 21,
        "start_time": "2023-01-04T08:25:47.401Z"
      },
      {
        "duration": 4,
        "start_time": "2023-01-04T08:25:47.424Z"
      },
      {
        "duration": 8,
        "start_time": "2023-01-04T08:25:47.430Z"
      },
      {
        "duration": 6,
        "start_time": "2023-01-04T08:25:47.440Z"
      },
      {
        "duration": 4,
        "start_time": "2023-01-04T08:25:47.448Z"
      },
      {
        "duration": 5,
        "start_time": "2023-01-04T08:25:47.453Z"
      },
      {
        "duration": 10,
        "start_time": "2023-01-04T08:25:47.459Z"
      },
      {
        "duration": 16,
        "start_time": "2023-01-04T08:25:47.471Z"
      },
      {
        "duration": 39,
        "start_time": "2023-01-04T08:25:47.489Z"
      },
      {
        "duration": 192,
        "start_time": "2023-01-04T08:25:47.530Z"
      },
      {
        "duration": 98,
        "start_time": "2023-01-04T08:25:47.728Z"
      },
      {
        "duration": 195,
        "start_time": "2023-01-04T08:25:47.828Z"
      },
      {
        "duration": 9,
        "start_time": "2023-01-04T08:25:48.025Z"
      },
      {
        "duration": 29,
        "start_time": "2023-01-04T08:25:48.035Z"
      },
      {
        "duration": 4,
        "start_time": "2023-01-04T08:25:48.065Z"
      },
      {
        "duration": 129,
        "start_time": "2023-01-04T08:25:48.071Z"
      },
      {
        "duration": 3,
        "start_time": "2023-01-04T08:25:48.201Z"
      },
      {
        "duration": 6,
        "start_time": "2023-01-04T08:25:48.206Z"
      },
      {
        "duration": 14,
        "start_time": "2023-01-04T08:25:48.213Z"
      },
      {
        "duration": 7,
        "start_time": "2023-01-04T08:25:48.229Z"
      },
      {
        "duration": 15969,
        "start_time": "2023-01-04T08:25:48.237Z"
      },
      {
        "duration": 4,
        "start_time": "2023-01-04T08:26:04.208Z"
      },
      {
        "duration": 11,
        "start_time": "2023-01-04T08:26:04.221Z"
      },
      {
        "duration": 11,
        "start_time": "2023-01-04T08:26:04.234Z"
      },
      {
        "duration": 13,
        "start_time": "2023-01-04T08:26:04.246Z"
      },
      {
        "duration": 6,
        "start_time": "2023-01-04T08:26:04.260Z"
      },
      {
        "duration": 90685,
        "start_time": "2023-01-04T08:26:04.267Z"
      },
      {
        "duration": 4,
        "start_time": "2023-01-04T08:27:34.953Z"
      },
      {
        "duration": 7,
        "start_time": "2023-01-04T08:27:34.958Z"
      },
      {
        "duration": 4,
        "start_time": "2023-01-04T08:27:34.967Z"
      },
      {
        "duration": 50,
        "start_time": "2023-01-04T08:27:34.973Z"
      },
      {
        "duration": 5,
        "start_time": "2023-01-04T08:27:35.025Z"
      },
      {
        "duration": 5,
        "start_time": "2023-01-04T08:27:35.031Z"
      },
      {
        "duration": 3,
        "start_time": "2023-01-04T08:27:35.038Z"
      },
      {
        "duration": 12,
        "start_time": "2023-01-04T08:27:35.042Z"
      },
      {
        "duration": 11,
        "start_time": "2023-01-04T08:27:35.056Z"
      },
      {
        "duration": 1259,
        "start_time": "2023-01-04T08:30:14.037Z"
      },
      {
        "duration": 41,
        "start_time": "2023-01-04T08:30:15.298Z"
      },
      {
        "duration": 39,
        "start_time": "2023-01-04T08:30:15.340Z"
      },
      {
        "duration": 16,
        "start_time": "2023-01-04T08:30:15.381Z"
      },
      {
        "duration": 14,
        "start_time": "2023-01-04T08:30:15.398Z"
      },
      {
        "duration": 4,
        "start_time": "2023-01-04T08:30:15.414Z"
      },
      {
        "duration": 20,
        "start_time": "2023-01-04T08:30:15.419Z"
      },
      {
        "duration": 4,
        "start_time": "2023-01-04T08:30:15.440Z"
      },
      {
        "duration": 1086,
        "start_time": "2023-01-04T08:30:15.445Z"
      },
      {
        "duration": 321,
        "start_time": "2023-01-04T08:30:16.534Z"
      },
      {
        "duration": 287,
        "start_time": "2023-01-04T08:30:16.856Z"
      },
      {
        "duration": 1184,
        "start_time": "2023-01-04T08:30:17.144Z"
      },
      {
        "duration": 435,
        "start_time": "2023-01-04T08:30:18.329Z"
      },
      {
        "duration": 254,
        "start_time": "2023-01-04T08:30:18.766Z"
      },
      {
        "duration": 11,
        "start_time": "2023-01-04T08:30:19.022Z"
      },
      {
        "duration": 15,
        "start_time": "2023-01-04T08:30:19.035Z"
      },
      {
        "duration": 6,
        "start_time": "2023-01-04T08:30:19.052Z"
      },
      {
        "duration": 9,
        "start_time": "2023-01-04T08:30:19.059Z"
      },
      {
        "duration": 8,
        "start_time": "2023-01-04T08:30:19.070Z"
      },
      {
        "duration": 9,
        "start_time": "2023-01-04T08:30:19.080Z"
      },
      {
        "duration": 10,
        "start_time": "2023-01-04T08:30:19.091Z"
      },
      {
        "duration": 21,
        "start_time": "2023-01-04T08:30:19.102Z"
      },
      {
        "duration": 6,
        "start_time": "2023-01-04T08:30:19.126Z"
      },
      {
        "duration": 14,
        "start_time": "2023-01-04T08:30:19.134Z"
      },
      {
        "duration": 22,
        "start_time": "2023-01-04T08:30:19.150Z"
      },
      {
        "duration": 13,
        "start_time": "2023-01-04T08:30:19.174Z"
      },
      {
        "duration": 234,
        "start_time": "2023-01-04T08:30:19.189Z"
      },
      {
        "duration": 95,
        "start_time": "2023-01-04T08:30:19.428Z"
      },
      {
        "duration": 104,
        "start_time": "2023-01-04T08:30:19.525Z"
      },
      {
        "duration": 4,
        "start_time": "2023-01-04T08:30:19.631Z"
      },
      {
        "duration": 96,
        "start_time": "2023-01-04T08:30:19.636Z"
      },
      {
        "duration": 5,
        "start_time": "2023-01-04T08:30:19.734Z"
      },
      {
        "duration": 143,
        "start_time": "2023-01-04T08:30:19.740Z"
      },
      {
        "duration": 3,
        "start_time": "2023-01-04T08:30:19.885Z"
      },
      {
        "duration": 7,
        "start_time": "2023-01-04T08:30:19.890Z"
      },
      {
        "duration": 7,
        "start_time": "2023-01-04T08:30:19.899Z"
      },
      {
        "duration": 16,
        "start_time": "2023-01-04T08:30:19.908Z"
      },
      {
        "duration": 16714,
        "start_time": "2023-01-04T08:30:19.926Z"
      },
      {
        "duration": 3,
        "start_time": "2023-01-04T08:30:36.643Z"
      },
      {
        "duration": 6,
        "start_time": "2023-01-04T08:30:36.648Z"
      },
      {
        "duration": 6,
        "start_time": "2023-01-04T08:30:36.655Z"
      },
      {
        "duration": 20,
        "start_time": "2023-01-04T08:30:36.662Z"
      },
      {
        "duration": 6,
        "start_time": "2023-01-04T08:30:36.683Z"
      },
      {
        "duration": 97448,
        "start_time": "2023-01-04T08:30:36.690Z"
      },
      {
        "duration": 4,
        "start_time": "2023-01-04T08:32:14.140Z"
      },
      {
        "duration": 20,
        "start_time": "2023-01-04T08:32:14.146Z"
      },
      {
        "duration": 12,
        "start_time": "2023-01-04T08:32:14.168Z"
      },
      {
        "duration": 60,
        "start_time": "2023-01-04T08:32:14.182Z"
      },
      {
        "duration": 7,
        "start_time": "2023-01-04T08:32:14.244Z"
      },
      {
        "duration": 12,
        "start_time": "2023-01-04T08:32:14.253Z"
      },
      {
        "duration": 5,
        "start_time": "2023-01-04T08:32:14.268Z"
      },
      {
        "duration": 10,
        "start_time": "2023-01-04T08:32:14.275Z"
      },
      {
        "duration": 11,
        "start_time": "2023-01-04T08:32:14.286Z"
      },
      {
        "duration": 648127,
        "start_time": "2023-01-04T08:32:14.299Z"
      },
      {
        "duration": 3,
        "start_time": "2023-01-04T08:43:02.428Z"
      },
      {
        "duration": 10,
        "start_time": "2023-01-04T08:43:02.433Z"
      },
      {
        "duration": 6,
        "start_time": "2023-01-04T08:43:02.445Z"
      },
      {
        "duration": 55,
        "start_time": "2023-01-04T08:43:02.453Z"
      },
      {
        "duration": 6,
        "start_time": "2023-01-04T08:43:02.521Z"
      },
      {
        "duration": 8,
        "start_time": "2023-01-04T08:43:02.528Z"
      },
      {
        "duration": 6,
        "start_time": "2023-01-04T08:43:02.538Z"
      },
      {
        "duration": 7,
        "start_time": "2023-01-04T08:43:02.545Z"
      },
      {
        "duration": 12,
        "start_time": "2023-01-04T08:43:02.554Z"
      },
      {
        "duration": 11530,
        "start_time": "2023-01-04T08:43:02.568Z"
      },
      {
        "duration": 6,
        "start_time": "2023-01-04T08:43:14.101Z"
      },
      {
        "duration": 14,
        "start_time": "2023-01-04T08:43:14.109Z"
      },
      {
        "duration": 15,
        "start_time": "2023-01-04T08:43:14.125Z"
      },
      {
        "duration": 49,
        "start_time": "2023-01-04T08:43:14.142Z"
      },
      {
        "duration": 8,
        "start_time": "2023-01-04T08:43:14.193Z"
      },
      {
        "duration": 23,
        "start_time": "2023-01-04T08:43:14.203Z"
      },
      {
        "duration": 48,
        "start_time": "2023-01-04T08:43:14.230Z"
      },
      {
        "duration": 7,
        "start_time": "2023-01-04T08:43:14.280Z"
      },
      {
        "duration": 29,
        "start_time": "2023-01-04T08:43:14.289Z"
      },
      {
        "duration": 114252,
        "start_time": "2023-01-04T09:13:12.371Z"
      },
      {
        "duration": 1228,
        "start_time": "2023-01-04T09:15:28.663Z"
      },
      {
        "duration": 44,
        "start_time": "2023-01-04T09:15:29.893Z"
      },
      {
        "duration": 39,
        "start_time": "2023-01-04T09:15:29.938Z"
      },
      {
        "duration": 17,
        "start_time": "2023-01-04T09:15:29.979Z"
      },
      {
        "duration": 13,
        "start_time": "2023-01-04T09:15:29.999Z"
      },
      {
        "duration": 5,
        "start_time": "2023-01-04T09:15:30.014Z"
      },
      {
        "duration": 19,
        "start_time": "2023-01-04T09:15:30.022Z"
      },
      {
        "duration": 4,
        "start_time": "2023-01-04T09:15:30.043Z"
      },
      {
        "duration": 1124,
        "start_time": "2023-01-04T09:15:30.049Z"
      },
      {
        "duration": 320,
        "start_time": "2023-01-04T09:15:31.175Z"
      },
      {
        "duration": 300,
        "start_time": "2023-01-04T09:15:31.497Z"
      },
      {
        "duration": 1245,
        "start_time": "2023-01-04T09:15:31.799Z"
      },
      {
        "duration": 461,
        "start_time": "2023-01-04T09:15:33.046Z"
      },
      {
        "duration": 252,
        "start_time": "2023-01-04T09:15:33.510Z"
      },
      {
        "duration": 10,
        "start_time": "2023-01-04T09:15:33.764Z"
      },
      {
        "duration": 11,
        "start_time": "2023-01-04T09:15:33.775Z"
      },
      {
        "duration": 5,
        "start_time": "2023-01-04T09:15:33.788Z"
      },
      {
        "duration": 3,
        "start_time": "2023-01-04T09:15:33.794Z"
      },
      {
        "duration": 11,
        "start_time": "2023-01-04T09:15:33.821Z"
      },
      {
        "duration": 7,
        "start_time": "2023-01-04T09:15:33.834Z"
      },
      {
        "duration": 14,
        "start_time": "2023-01-04T09:15:33.843Z"
      },
      {
        "duration": 4,
        "start_time": "2023-01-04T09:15:33.858Z"
      },
      {
        "duration": 5,
        "start_time": "2023-01-04T09:15:33.864Z"
      },
      {
        "duration": 11,
        "start_time": "2023-01-04T09:15:33.870Z"
      },
      {
        "duration": 17,
        "start_time": "2023-01-04T09:15:33.882Z"
      },
      {
        "duration": 22,
        "start_time": "2023-01-04T09:15:33.901Z"
      },
      {
        "duration": 197,
        "start_time": "2023-01-04T09:15:33.926Z"
      },
      {
        "duration": 101,
        "start_time": "2023-01-04T09:15:34.125Z"
      },
      {
        "duration": 200,
        "start_time": "2023-01-04T09:15:34.230Z"
      },
      {
        "duration": 11,
        "start_time": "2023-01-04T09:15:34.431Z"
      },
      {
        "duration": 36,
        "start_time": "2023-01-04T09:15:34.444Z"
      },
      {
        "duration": 5,
        "start_time": "2023-01-04T09:15:34.482Z"
      },
      {
        "duration": 135,
        "start_time": "2023-01-04T09:15:34.488Z"
      },
      {
        "duration": 3,
        "start_time": "2023-01-04T09:15:34.625Z"
      },
      {
        "duration": 21,
        "start_time": "2023-01-04T09:15:34.630Z"
      },
      {
        "duration": 24,
        "start_time": "2023-01-04T09:15:34.652Z"
      },
      {
        "duration": 12,
        "start_time": "2023-01-04T09:15:34.677Z"
      },
      {
        "duration": 16938,
        "start_time": "2023-01-04T09:15:34.690Z"
      },
      {
        "duration": 3,
        "start_time": "2023-01-04T09:15:51.630Z"
      },
      {
        "duration": 12,
        "start_time": "2023-01-04T09:15:51.635Z"
      },
      {
        "duration": 15,
        "start_time": "2023-01-04T09:15:51.651Z"
      },
      {
        "duration": 30,
        "start_time": "2023-01-04T09:15:51.669Z"
      },
      {
        "duration": 6,
        "start_time": "2023-01-04T09:15:51.701Z"
      },
      {
        "duration": 98803,
        "start_time": "2023-01-04T09:15:51.708Z"
      },
      {
        "duration": 4,
        "start_time": "2023-01-04T09:17:30.513Z"
      },
      {
        "duration": 15,
        "start_time": "2023-01-04T09:17:30.522Z"
      },
      {
        "duration": 14,
        "start_time": "2023-01-04T09:17:30.538Z"
      },
      {
        "duration": 61,
        "start_time": "2023-01-04T09:17:30.554Z"
      },
      {
        "duration": 6,
        "start_time": "2023-01-04T09:17:30.616Z"
      },
      {
        "duration": 20,
        "start_time": "2023-01-04T09:17:30.624Z"
      },
      {
        "duration": 27,
        "start_time": "2023-01-04T09:17:30.646Z"
      },
      {
        "duration": 22,
        "start_time": "2023-01-04T09:17:30.675Z"
      },
      {
        "duration": 25,
        "start_time": "2023-01-04T09:17:30.699Z"
      },
      {
        "duration": 293247,
        "start_time": "2023-01-04T09:17:30.726Z"
      },
      {
        "duration": 3,
        "start_time": "2023-01-04T09:22:23.975Z"
      },
      {
        "duration": 8,
        "start_time": "2023-01-04T09:22:23.979Z"
      },
      {
        "duration": 7,
        "start_time": "2023-01-04T09:22:23.989Z"
      },
      {
        "duration": 87,
        "start_time": "2023-01-04T09:22:23.997Z"
      },
      {
        "duration": 7,
        "start_time": "2023-01-04T09:22:24.086Z"
      },
      {
        "duration": 15,
        "start_time": "2023-01-04T09:22:24.095Z"
      },
      {
        "duration": 12,
        "start_time": "2023-01-04T09:22:24.113Z"
      },
      {
        "duration": 12,
        "start_time": "2023-01-04T09:22:24.128Z"
      },
      {
        "duration": 17,
        "start_time": "2023-01-04T09:22:24.142Z"
      },
      {
        "duration": 113989,
        "start_time": "2023-01-04T09:22:24.161Z"
      },
      {
        "duration": 4,
        "start_time": "2023-01-04T09:24:18.151Z"
      },
      {
        "duration": 10,
        "start_time": "2023-01-04T09:24:18.156Z"
      },
      {
        "duration": 9,
        "start_time": "2023-01-04T09:24:18.167Z"
      },
      {
        "duration": 65,
        "start_time": "2023-01-04T09:24:18.178Z"
      },
      {
        "duration": 7,
        "start_time": "2023-01-04T09:24:18.245Z"
      },
      {
        "duration": 8,
        "start_time": "2023-01-04T09:24:18.253Z"
      },
      {
        "duration": 39,
        "start_time": "2023-01-04T09:24:18.262Z"
      },
      {
        "duration": 23,
        "start_time": "2023-01-04T09:24:18.302Z"
      },
      {
        "duration": 6,
        "start_time": "2023-01-04T09:24:18.327Z"
      },
      {
        "duration": 50134,
        "start_time": "2023-01-04T09:30:32.560Z"
      },
      {
        "duration": 3,
        "start_time": "2023-01-04T09:32:09.291Z"
      },
      {
        "duration": 4,
        "start_time": "2023-01-04T09:32:11.825Z"
      },
      {
        "duration": 2,
        "start_time": "2023-01-04T09:32:22.983Z"
      },
      {
        "duration": 61,
        "start_time": "2023-01-04T09:32:25.294Z"
      },
      {
        "duration": 7,
        "start_time": "2023-01-04T09:32:27.981Z"
      },
      {
        "duration": 7,
        "start_time": "2023-01-04T09:32:30.578Z"
      },
      {
        "duration": 1260,
        "start_time": "2023-01-04T09:36:02.516Z"
      },
      {
        "duration": 45,
        "start_time": "2023-01-04T09:36:03.778Z"
      },
      {
        "duration": 40,
        "start_time": "2023-01-04T09:36:03.824Z"
      },
      {
        "duration": 16,
        "start_time": "2023-01-04T09:36:03.867Z"
      },
      {
        "duration": 32,
        "start_time": "2023-01-04T09:36:03.885Z"
      },
      {
        "duration": 4,
        "start_time": "2023-01-04T09:36:03.919Z"
      },
      {
        "duration": 21,
        "start_time": "2023-01-04T09:36:03.924Z"
      },
      {
        "duration": 4,
        "start_time": "2023-01-04T09:36:03.946Z"
      },
      {
        "duration": 1215,
        "start_time": "2023-01-04T09:36:03.952Z"
      },
      {
        "duration": 324,
        "start_time": "2023-01-04T09:36:05.169Z"
      },
      {
        "duration": 302,
        "start_time": "2023-01-04T09:36:05.494Z"
      },
      {
        "duration": 1314,
        "start_time": "2023-01-04T09:36:05.798Z"
      },
      {
        "duration": 455,
        "start_time": "2023-01-04T09:36:07.113Z"
      },
      {
        "duration": 271,
        "start_time": "2023-01-04T09:36:07.570Z"
      },
      {
        "duration": 11,
        "start_time": "2023-01-04T09:36:07.842Z"
      },
      {
        "duration": 11,
        "start_time": "2023-01-04T09:36:07.855Z"
      },
      {
        "duration": 8,
        "start_time": "2023-01-04T09:36:07.868Z"
      },
      {
        "duration": 2,
        "start_time": "2023-01-04T09:36:07.878Z"
      },
      {
        "duration": 8,
        "start_time": "2023-01-04T09:36:07.882Z"
      },
      {
        "duration": 31,
        "start_time": "2023-01-04T09:36:07.891Z"
      },
      {
        "duration": 7,
        "start_time": "2023-01-04T09:36:07.924Z"
      },
      {
        "duration": 6,
        "start_time": "2023-01-04T09:36:07.932Z"
      },
      {
        "duration": 5,
        "start_time": "2023-01-04T09:36:07.939Z"
      },
      {
        "duration": 13,
        "start_time": "2023-01-04T09:36:07.945Z"
      },
      {
        "duration": 16,
        "start_time": "2023-01-04T09:36:07.960Z"
      },
      {
        "duration": 11,
        "start_time": "2023-01-04T09:36:07.978Z"
      },
      {
        "duration": 138,
        "start_time": "2023-01-04T09:36:07.990Z"
      },
      {
        "duration": 98,
        "start_time": "2023-01-04T09:36:08.133Z"
      },
      {
        "duration": 106,
        "start_time": "2023-01-04T09:36:08.327Z"
      },
      {
        "duration": 3,
        "start_time": "2023-01-04T09:36:08.434Z"
      },
      {
        "duration": 33,
        "start_time": "2023-01-04T09:36:08.439Z"
      },
      {
        "duration": 5,
        "start_time": "2023-01-04T09:36:08.474Z"
      },
      {
        "duration": 148,
        "start_time": "2023-01-04T09:36:08.481Z"
      },
      {
        "duration": 4,
        "start_time": "2023-01-04T09:36:08.632Z"
      },
      {
        "duration": 6,
        "start_time": "2023-01-04T09:36:08.637Z"
      },
      {
        "duration": 8,
        "start_time": "2023-01-04T09:36:08.645Z"
      },
      {
        "duration": 12,
        "start_time": "2023-01-04T09:36:08.655Z"
      },
      {
        "duration": 17451,
        "start_time": "2023-01-04T09:36:08.668Z"
      },
      {
        "duration": 4,
        "start_time": "2023-01-04T09:36:26.120Z"
      },
      {
        "duration": 7,
        "start_time": "2023-01-04T09:36:26.125Z"
      },
      {
        "duration": 5,
        "start_time": "2023-01-04T09:36:26.133Z"
      },
      {
        "duration": 17,
        "start_time": "2023-01-04T09:36:26.139Z"
      },
      {
        "duration": 9,
        "start_time": "2023-01-04T09:36:26.157Z"
      },
      {
        "duration": 423033,
        "start_time": "2023-01-04T09:36:26.168Z"
      },
      {
        "duration": 4,
        "start_time": "2023-01-04T09:43:29.203Z"
      },
      {
        "duration": 15,
        "start_time": "2023-01-04T09:43:29.208Z"
      },
      {
        "duration": 5,
        "start_time": "2023-01-04T09:43:29.225Z"
      },
      {
        "duration": 45,
        "start_time": "2023-01-04T09:43:29.231Z"
      },
      {
        "duration": 5,
        "start_time": "2023-01-04T09:43:29.278Z"
      },
      {
        "duration": 6,
        "start_time": "2023-01-04T09:43:29.285Z"
      },
      {
        "duration": 3,
        "start_time": "2023-01-04T09:43:29.293Z"
      },
      {
        "duration": 25,
        "start_time": "2023-01-04T09:43:29.298Z"
      },
      {
        "duration": 11,
        "start_time": "2023-01-04T09:43:29.324Z"
      },
      {
        "duration": 820380,
        "start_time": "2023-01-04T09:43:29.337Z"
      },
      {
        "duration": 5,
        "start_time": "2023-01-04T09:57:09.721Z"
      },
      {
        "duration": 5,
        "start_time": "2023-01-04T09:57:09.728Z"
      },
      {
        "duration": 8,
        "start_time": "2023-01-04T09:57:09.735Z"
      },
      {
        "duration": 13,
        "start_time": "2023-01-04T09:57:09.746Z"
      },
      {
        "duration": 7,
        "start_time": "2023-01-04T09:57:09.761Z"
      },
      {
        "duration": 7,
        "start_time": "2023-01-04T09:57:09.770Z"
      },
      {
        "duration": 6,
        "start_time": "2023-01-04T09:57:09.779Z"
      },
      {
        "duration": 39,
        "start_time": "2023-01-04T09:57:09.787Z"
      },
      {
        "duration": 14,
        "start_time": "2023-01-04T09:57:09.828Z"
      },
      {
        "duration": 315815,
        "start_time": "2023-01-04T09:57:09.845Z"
      },
      {
        "duration": 4,
        "start_time": "2023-01-04T10:02:25.662Z"
      },
      {
        "duration": 34,
        "start_time": "2023-01-04T10:02:25.668Z"
      },
      {
        "duration": 16,
        "start_time": "2023-01-04T10:02:25.703Z"
      },
      {
        "duration": 14,
        "start_time": "2023-01-04T10:02:25.721Z"
      },
      {
        "duration": 24,
        "start_time": "2023-01-04T10:02:25.737Z"
      },
      {
        "duration": 18,
        "start_time": "2023-01-04T10:02:25.762Z"
      },
      {
        "duration": 29,
        "start_time": "2023-01-04T10:02:25.782Z"
      },
      {
        "duration": 31,
        "start_time": "2023-01-04T10:02:25.812Z"
      },
      {
        "duration": 56,
        "start_time": "2023-01-04T10:02:25.846Z"
      },
      {
        "duration": 30,
        "start_time": "2023-01-04T10:04:12.664Z"
      },
      {
        "duration": 7,
        "start_time": "2023-01-04T10:04:14.909Z"
      },
      {
        "duration": 6,
        "start_time": "2023-01-04T10:04:17.110Z"
      },
      {
        "duration": 9,
        "start_time": "2023-01-04T10:04:39.358Z"
      },
      {
        "duration": 6,
        "start_time": "2023-01-04T10:04:41.464Z"
      },
      {
        "duration": 6,
        "start_time": "2023-01-04T10:04:44.004Z"
      },
      {
        "duration": 1349,
        "start_time": "2023-01-04T10:04:50.925Z"
      },
      {
        "duration": 46,
        "start_time": "2023-01-04T10:04:52.276Z"
      },
      {
        "duration": 40,
        "start_time": "2023-01-04T10:04:52.323Z"
      },
      {
        "duration": 16,
        "start_time": "2023-01-04T10:04:52.365Z"
      },
      {
        "duration": 13,
        "start_time": "2023-01-04T10:04:52.383Z"
      },
      {
        "duration": 5,
        "start_time": "2023-01-04T10:04:52.397Z"
      },
      {
        "duration": 26,
        "start_time": "2023-01-04T10:04:52.404Z"
      },
      {
        "duration": 4,
        "start_time": "2023-01-04T10:04:52.432Z"
      },
      {
        "duration": 1122,
        "start_time": "2023-01-04T10:04:52.437Z"
      },
      {
        "duration": 330,
        "start_time": "2023-01-04T10:04:53.561Z"
      },
      {
        "duration": 352,
        "start_time": "2023-01-04T10:04:53.893Z"
      },
      {
        "duration": 1330,
        "start_time": "2023-01-04T10:04:54.247Z"
      },
      {
        "duration": 475,
        "start_time": "2023-01-04T10:04:55.578Z"
      },
      {
        "duration": 269,
        "start_time": "2023-01-04T10:04:56.055Z"
      },
      {
        "duration": 10,
        "start_time": "2023-01-04T10:04:56.326Z"
      },
      {
        "duration": 13,
        "start_time": "2023-01-04T10:04:56.338Z"
      },
      {
        "duration": 7,
        "start_time": "2023-01-04T10:04:56.353Z"
      },
      {
        "duration": 3,
        "start_time": "2023-01-04T10:04:56.362Z"
      },
      {
        "duration": 7,
        "start_time": "2023-01-04T10:04:56.366Z"
      },
      {
        "duration": 10,
        "start_time": "2023-01-04T10:04:56.374Z"
      },
      {
        "duration": 9,
        "start_time": "2023-01-04T10:04:56.386Z"
      },
      {
        "duration": 25,
        "start_time": "2023-01-04T10:04:56.397Z"
      },
      {
        "duration": 7,
        "start_time": "2023-01-04T10:04:56.424Z"
      },
      {
        "duration": 13,
        "start_time": "2023-01-04T10:04:56.433Z"
      },
      {
        "duration": 17,
        "start_time": "2023-01-04T10:04:56.447Z"
      },
      {
        "duration": 12,
        "start_time": "2023-01-04T10:04:56.466Z"
      },
      {
        "duration": 150,
        "start_time": "2023-01-04T10:04:56.479Z"
      },
      {
        "duration": 96,
        "start_time": "2023-01-04T10:04:56.634Z"
      },
      {
        "duration": 194,
        "start_time": "2023-01-04T10:04:56.732Z"
      },
      {
        "duration": 7,
        "start_time": "2023-01-04T10:04:56.927Z"
      },
      {
        "duration": 39,
        "start_time": "2023-01-04T10:04:56.936Z"
      },
      {
        "duration": 5,
        "start_time": "2023-01-04T10:04:56.976Z"
      },
      {
        "duration": 140,
        "start_time": "2023-01-04T10:04:56.983Z"
      },
      {
        "duration": 4,
        "start_time": "2023-01-04T10:04:57.125Z"
      },
      {
        "duration": 6,
        "start_time": "2023-01-04T10:04:57.130Z"
      },
      {
        "duration": 7,
        "start_time": "2023-01-04T10:04:57.137Z"
      },
      {
        "duration": 7,
        "start_time": "2023-01-04T10:04:57.146Z"
      },
      {
        "duration": 18110,
        "start_time": "2023-01-04T10:04:57.154Z"
      },
      {
        "duration": 64,
        "start_time": "2023-01-04T10:05:15.265Z"
      },
      {
        "duration": 17,
        "start_time": "2023-01-04T10:05:15.331Z"
      },
      {
        "duration": 6,
        "start_time": "2023-01-04T10:05:15.350Z"
      },
      {
        "duration": 18,
        "start_time": "2023-01-04T10:05:15.357Z"
      },
      {
        "duration": 6,
        "start_time": "2023-01-04T10:05:15.377Z"
      },
      {
        "duration": 19469,
        "start_time": "2023-01-04T10:05:15.384Z"
      },
      {
        "duration": 4,
        "start_time": "2023-01-04T10:05:34.855Z"
      },
      {
        "duration": 13,
        "start_time": "2023-01-04T10:05:34.861Z"
      },
      {
        "duration": 9,
        "start_time": "2023-01-04T10:05:34.875Z"
      },
      {
        "duration": 48,
        "start_time": "2023-01-04T10:05:34.886Z"
      },
      {
        "duration": 10,
        "start_time": "2023-01-04T10:05:34.937Z"
      },
      {
        "duration": 9,
        "start_time": "2023-01-04T10:05:34.949Z"
      },
      {
        "duration": 5,
        "start_time": "2023-01-04T10:05:34.960Z"
      },
      {
        "duration": 11,
        "start_time": "2023-01-04T10:05:34.967Z"
      },
      {
        "duration": 11,
        "start_time": "2023-01-04T10:05:34.980Z"
      },
      {
        "duration": 5755,
        "start_time": "2023-01-04T10:05:34.993Z"
      },
      {
        "duration": 4,
        "start_time": "2023-01-04T10:05:40.749Z"
      },
      {
        "duration": 6,
        "start_time": "2023-01-04T10:05:40.755Z"
      },
      {
        "duration": 7,
        "start_time": "2023-01-04T10:05:40.762Z"
      },
      {
        "duration": 13,
        "start_time": "2023-01-04T10:05:40.770Z"
      },
      {
        "duration": 6,
        "start_time": "2023-01-04T10:05:40.785Z"
      },
      {
        "duration": 31,
        "start_time": "2023-01-04T10:05:40.792Z"
      },
      {
        "duration": 4,
        "start_time": "2023-01-04T10:05:40.825Z"
      },
      {
        "duration": 11,
        "start_time": "2023-01-04T10:05:40.830Z"
      },
      {
        "duration": 12,
        "start_time": "2023-01-04T10:05:40.842Z"
      },
      {
        "duration": 3059,
        "start_time": "2023-01-04T10:05:40.855Z"
      },
      {
        "duration": 7,
        "start_time": "2023-01-04T10:05:43.916Z"
      },
      {
        "duration": 19,
        "start_time": "2023-01-04T10:05:43.924Z"
      },
      {
        "duration": 16,
        "start_time": "2023-01-04T10:05:43.944Z"
      },
      {
        "duration": 22,
        "start_time": "2023-01-04T10:05:43.962Z"
      },
      {
        "duration": 6,
        "start_time": "2023-01-04T10:05:43.985Z"
      },
      {
        "duration": 21,
        "start_time": "2023-01-04T10:05:43.993Z"
      },
      {
        "duration": 27,
        "start_time": "2023-01-04T10:05:44.016Z"
      },
      {
        "duration": 15,
        "start_time": "2023-01-04T10:05:44.045Z"
      },
      {
        "duration": 24,
        "start_time": "2023-01-04T10:05:44.063Z"
      },
      {
        "duration": 1352,
        "start_time": "2023-01-04T10:09:01.980Z"
      },
      {
        "duration": 47,
        "start_time": "2023-01-04T10:09:03.334Z"
      },
      {
        "duration": 41,
        "start_time": "2023-01-04T10:09:03.383Z"
      },
      {
        "duration": 18,
        "start_time": "2023-01-04T10:09:03.426Z"
      },
      {
        "duration": 34,
        "start_time": "2023-01-04T10:09:03.445Z"
      },
      {
        "duration": 5,
        "start_time": "2023-01-04T10:09:03.481Z"
      },
      {
        "duration": 25,
        "start_time": "2023-01-04T10:09:03.488Z"
      },
      {
        "duration": 9,
        "start_time": "2023-01-04T10:09:03.515Z"
      },
      {
        "duration": 1241,
        "start_time": "2023-01-04T10:09:03.526Z"
      },
      {
        "duration": 339,
        "start_time": "2023-01-04T10:09:04.770Z"
      },
      {
        "duration": 298,
        "start_time": "2023-01-04T10:09:05.111Z"
      },
      {
        "duration": 1280,
        "start_time": "2023-01-04T10:09:05.411Z"
      },
      {
        "duration": 459,
        "start_time": "2023-01-04T10:09:06.693Z"
      },
      {
        "duration": 269,
        "start_time": "2023-01-04T10:09:07.153Z"
      },
      {
        "duration": 11,
        "start_time": "2023-01-04T10:09:07.423Z"
      },
      {
        "duration": 14,
        "start_time": "2023-01-04T10:09:07.435Z"
      },
      {
        "duration": 14,
        "start_time": "2023-01-04T10:09:07.451Z"
      },
      {
        "duration": 5,
        "start_time": "2023-01-04T10:09:07.466Z"
      },
      {
        "duration": 9,
        "start_time": "2023-01-04T10:09:07.473Z"
      },
      {
        "duration": 6,
        "start_time": "2023-01-04T10:09:07.483Z"
      },
      {
        "duration": 6,
        "start_time": "2023-01-04T10:09:07.491Z"
      },
      {
        "duration": 23,
        "start_time": "2023-01-04T10:09:07.499Z"
      },
      {
        "duration": 6,
        "start_time": "2023-01-04T10:09:07.524Z"
      },
      {
        "duration": 11,
        "start_time": "2023-01-04T10:09:07.531Z"
      },
      {
        "duration": 19,
        "start_time": "2023-01-04T10:09:07.543Z"
      },
      {
        "duration": 11,
        "start_time": "2023-01-04T10:09:07.563Z"
      },
      {
        "duration": 154,
        "start_time": "2023-01-04T10:09:07.575Z"
      },
      {
        "duration": 15,
        "start_time": "2023-01-04T10:09:07.821Z"
      },
      {
        "duration": 13,
        "start_time": "2023-01-04T10:09:07.923Z"
      },
      {
        "duration": 5,
        "start_time": "2023-01-04T10:09:08.023Z"
      },
      {
        "duration": 32,
        "start_time": "2023-01-04T10:09:08.030Z"
      },
      {
        "duration": 6,
        "start_time": "2023-01-04T10:09:08.064Z"
      },
      {
        "duration": 185,
        "start_time": "2023-01-04T10:09:08.072Z"
      },
      {
        "duration": 4,
        "start_time": "2023-01-04T10:09:08.259Z"
      },
      {
        "duration": 7,
        "start_time": "2023-01-04T10:09:08.264Z"
      },
      {
        "duration": 7,
        "start_time": "2023-01-04T10:09:08.273Z"
      },
      {
        "duration": 10,
        "start_time": "2023-01-04T10:09:08.281Z"
      },
      {
        "duration": 17806,
        "start_time": "2023-01-04T10:09:08.293Z"
      },
      {
        "duration": 3,
        "start_time": "2023-01-04T10:09:26.101Z"
      },
      {
        "duration": 16,
        "start_time": "2023-01-04T10:09:26.106Z"
      },
      {
        "duration": 3,
        "start_time": "2023-01-04T10:09:26.123Z"
      },
      {
        "duration": 17,
        "start_time": "2023-01-04T10:09:26.127Z"
      },
      {
        "duration": 5,
        "start_time": "2023-01-04T10:09:26.146Z"
      },
      {
        "duration": 19078,
        "start_time": "2023-01-04T10:09:26.152Z"
      },
      {
        "duration": 3,
        "start_time": "2023-01-04T10:09:45.232Z"
      },
      {
        "duration": 8,
        "start_time": "2023-01-04T10:09:45.236Z"
      },
      {
        "duration": 9,
        "start_time": "2023-01-04T10:09:45.246Z"
      },
      {
        "duration": 39,
        "start_time": "2023-01-04T10:09:45.257Z"
      },
      {
        "duration": 6,
        "start_time": "2023-01-04T10:09:45.297Z"
      },
      {
        "duration": 22,
        "start_time": "2023-01-04T10:09:45.304Z"
      },
      {
        "duration": 3,
        "start_time": "2023-01-04T10:09:45.328Z"
      },
      {
        "duration": 12,
        "start_time": "2023-01-04T10:09:45.333Z"
      },
      {
        "duration": 11,
        "start_time": "2023-01-04T10:09:45.346Z"
      },
      {
        "duration": 44415,
        "start_time": "2023-01-04T10:09:45.360Z"
      },
      {
        "duration": 4,
        "start_time": "2023-01-04T10:10:29.776Z"
      },
      {
        "duration": 27,
        "start_time": "2023-01-04T10:10:29.782Z"
      },
      {
        "duration": 54,
        "start_time": "2023-01-04T10:10:29.810Z"
      },
      {
        "duration": 62,
        "start_time": "2023-01-04T10:10:29.866Z"
      },
      {
        "duration": 6,
        "start_time": "2023-01-04T10:10:29.929Z"
      },
      {
        "duration": 29,
        "start_time": "2023-01-04T10:10:29.937Z"
      },
      {
        "duration": 39,
        "start_time": "2023-01-04T10:10:29.968Z"
      },
      {
        "duration": 38,
        "start_time": "2023-01-04T10:10:30.009Z"
      },
      {
        "duration": 45,
        "start_time": "2023-01-04T10:10:30.049Z"
      },
      {
        "duration": 18420,
        "start_time": "2023-01-04T10:10:30.096Z"
      },
      {
        "duration": 6,
        "start_time": "2023-01-04T10:10:48.518Z"
      },
      {
        "duration": 15,
        "start_time": "2023-01-04T10:10:48.526Z"
      },
      {
        "duration": 4,
        "start_time": "2023-01-04T10:10:48.543Z"
      },
      {
        "duration": 23,
        "start_time": "2023-01-04T10:10:48.549Z"
      },
      {
        "duration": 7,
        "start_time": "2023-01-04T10:10:48.574Z"
      },
      {
        "duration": 5,
        "start_time": "2023-01-04T10:10:48.583Z"
      },
      {
        "duration": 39,
        "start_time": "2023-01-04T10:10:48.590Z"
      },
      {
        "duration": 6,
        "start_time": "2023-01-04T10:10:48.630Z"
      },
      {
        "duration": 9,
        "start_time": "2023-01-04T10:10:48.637Z"
      },
      {
        "duration": 28,
        "start_time": "2023-01-04T10:20:57.988Z"
      },
      {
        "duration": 6,
        "start_time": "2023-01-04T10:21:00.995Z"
      },
      {
        "duration": 7,
        "start_time": "2023-01-04T10:21:03.734Z"
      },
      {
        "duration": 1371,
        "start_time": "2023-01-05T09:23:11.233Z"
      },
      {
        "duration": 45,
        "start_time": "2023-01-05T09:23:12.606Z"
      },
      {
        "duration": 77,
        "start_time": "2023-01-05T09:23:12.652Z"
      },
      {
        "duration": 16,
        "start_time": "2023-01-05T09:23:12.731Z"
      },
      {
        "duration": 11,
        "start_time": "2023-01-05T09:23:12.749Z"
      },
      {
        "duration": 4,
        "start_time": "2023-01-05T09:23:12.761Z"
      },
      {
        "duration": 17,
        "start_time": "2023-01-05T09:23:12.767Z"
      },
      {
        "duration": 3,
        "start_time": "2023-01-05T09:23:12.786Z"
      },
      {
        "duration": 1032,
        "start_time": "2023-01-05T09:23:12.790Z"
      },
      {
        "duration": 316,
        "start_time": "2023-01-05T09:23:13.824Z"
      },
      {
        "duration": 298,
        "start_time": "2023-01-05T09:23:14.142Z"
      },
      {
        "duration": 1166,
        "start_time": "2023-01-05T09:23:14.442Z"
      },
      {
        "duration": 435,
        "start_time": "2023-01-05T09:23:15.615Z"
      },
      {
        "duration": 273,
        "start_time": "2023-01-05T09:23:16.053Z"
      },
      {
        "duration": 12,
        "start_time": "2023-01-05T09:23:16.328Z"
      },
      {
        "duration": 25,
        "start_time": "2023-01-05T09:23:16.342Z"
      },
      {
        "duration": 18,
        "start_time": "2023-01-05T09:23:16.368Z"
      },
      {
        "duration": 11,
        "start_time": "2023-01-05T09:23:16.388Z"
      },
      {
        "duration": 10,
        "start_time": "2023-01-05T09:23:16.401Z"
      },
      {
        "duration": 15,
        "start_time": "2023-01-05T09:23:16.414Z"
      },
      {
        "duration": 12,
        "start_time": "2023-01-05T09:23:16.431Z"
      },
      {
        "duration": 21,
        "start_time": "2023-01-05T09:23:16.445Z"
      },
      {
        "duration": 5,
        "start_time": "2023-01-05T09:23:16.468Z"
      },
      {
        "duration": 12,
        "start_time": "2023-01-05T09:23:16.475Z"
      },
      {
        "duration": 23,
        "start_time": "2023-01-05T09:23:16.489Z"
      },
      {
        "duration": 13,
        "start_time": "2023-01-05T09:23:16.514Z"
      },
      {
        "duration": 102,
        "start_time": "2023-01-05T09:23:16.529Z"
      },
      {
        "duration": 6,
        "start_time": "2023-01-05T09:23:16.715Z"
      },
      {
        "duration": 94,
        "start_time": "2023-01-05T09:23:16.726Z"
      },
      {
        "duration": 94,
        "start_time": "2023-01-05T09:23:16.822Z"
      },
      {
        "duration": 39,
        "start_time": "2023-01-05T09:23:16.918Z"
      },
      {
        "duration": 5,
        "start_time": "2023-01-05T09:23:16.959Z"
      },
      {
        "duration": 715,
        "start_time": "2023-01-05T09:23:16.965Z"
      },
      {
        "duration": 3,
        "start_time": "2023-01-05T09:23:17.682Z"
      },
      {
        "duration": 5,
        "start_time": "2023-01-05T09:23:17.686Z"
      },
      {
        "duration": 7,
        "start_time": "2023-01-05T09:23:17.692Z"
      },
      {
        "duration": 16,
        "start_time": "2023-01-05T09:23:17.700Z"
      },
      {
        "duration": 5,
        "start_time": "2023-01-05T09:23:17.717Z"
      },
      {
        "duration": 778773,
        "start_time": "2023-01-05T09:23:17.724Z"
      },
      {
        "duration": 4,
        "start_time": "2023-01-05T09:36:16.498Z"
      },
      {
        "duration": 11,
        "start_time": "2023-01-05T09:36:16.505Z"
      },
      {
        "duration": 3,
        "start_time": "2023-01-05T09:36:16.517Z"
      },
      {
        "duration": 8,
        "start_time": "2023-01-05T09:36:16.521Z"
      },
      {
        "duration": 7,
        "start_time": "2023-01-05T09:36:16.531Z"
      },
      {
        "duration": 7,
        "start_time": "2023-01-05T09:36:16.539Z"
      },
      {
        "duration": 455901,
        "start_time": "2023-01-05T09:36:16.547Z"
      },
      {
        "duration": 4,
        "start_time": "2023-01-05T09:43:52.449Z"
      },
      {
        "duration": 10,
        "start_time": "2023-01-05T09:43:52.454Z"
      },
      {
        "duration": 10,
        "start_time": "2023-01-05T09:43:52.465Z"
      },
      {
        "duration": 13,
        "start_time": "2023-01-05T09:43:52.477Z"
      },
      {
        "duration": 6,
        "start_time": "2023-01-05T09:43:52.492Z"
      },
      {
        "duration": 17,
        "start_time": "2023-01-05T09:43:52.499Z"
      },
      {
        "duration": 5,
        "start_time": "2023-01-05T09:43:52.517Z"
      },
      {
        "duration": 3,
        "start_time": "2023-01-05T09:43:52.524Z"
      },
      {
        "duration": 7,
        "start_time": "2023-01-05T09:43:52.528Z"
      },
      {
        "duration": 127,
        "start_time": "2023-01-05T09:43:52.537Z"
      },
      {
        "duration": 0,
        "start_time": "2023-01-05T09:43:52.666Z"
      },
      {
        "duration": 0,
        "start_time": "2023-01-05T09:43:52.667Z"
      },
      {
        "duration": 0,
        "start_time": "2023-01-05T09:43:52.668Z"
      },
      {
        "duration": 0,
        "start_time": "2023-01-05T09:43:52.668Z"
      },
      {
        "duration": 0,
        "start_time": "2023-01-05T09:43:52.670Z"
      },
      {
        "duration": 0,
        "start_time": "2023-01-05T09:43:52.670Z"
      },
      {
        "duration": 0,
        "start_time": "2023-01-05T09:43:52.671Z"
      },
      {
        "duration": 0,
        "start_time": "2023-01-05T09:43:52.672Z"
      },
      {
        "duration": 0,
        "start_time": "2023-01-05T09:43:52.673Z"
      },
      {
        "duration": 0,
        "start_time": "2023-01-05T09:43:52.674Z"
      },
      {
        "duration": 0,
        "start_time": "2023-01-05T09:43:52.675Z"
      },
      {
        "duration": 0,
        "start_time": "2023-01-05T09:43:52.676Z"
      },
      {
        "duration": 0,
        "start_time": "2023-01-05T09:43:52.677Z"
      },
      {
        "duration": 0,
        "start_time": "2023-01-05T09:43:52.678Z"
      },
      {
        "duration": 0,
        "start_time": "2023-01-05T09:43:52.679Z"
      },
      {
        "duration": 0,
        "start_time": "2023-01-05T09:43:52.680Z"
      },
      {
        "duration": 0,
        "start_time": "2023-01-05T09:43:52.681Z"
      },
      {
        "duration": 0,
        "start_time": "2023-01-05T09:43:52.682Z"
      },
      {
        "duration": 0,
        "start_time": "2023-01-05T09:43:52.683Z"
      },
      {
        "duration": 0,
        "start_time": "2023-01-05T09:43:52.684Z"
      },
      {
        "duration": 0,
        "start_time": "2023-01-05T09:43:52.685Z"
      },
      {
        "duration": 0,
        "start_time": "2023-01-05T09:43:52.715Z"
      },
      {
        "duration": 0,
        "start_time": "2023-01-05T09:43:52.716Z"
      },
      {
        "duration": 0,
        "start_time": "2023-01-05T09:43:52.717Z"
      },
      {
        "duration": 5,
        "start_time": "2023-01-05T09:47:43.344Z"
      },
      {
        "duration": 11,
        "start_time": "2023-01-05T09:48:13.457Z"
      },
      {
        "duration": 620286,
        "start_time": "2023-01-05T09:48:14.717Z"
      },
      {
        "duration": 3,
        "start_time": "2023-01-05T09:58:35.005Z"
      },
      {
        "duration": 7,
        "start_time": "2023-01-05T09:58:35.010Z"
      },
      {
        "duration": 5,
        "start_time": "2023-01-05T09:58:35.019Z"
      },
      {
        "duration": 7,
        "start_time": "2023-01-05T09:58:35.025Z"
      },
      {
        "duration": 6,
        "start_time": "2023-01-05T09:58:35.034Z"
      },
      {
        "duration": 7,
        "start_time": "2023-01-05T09:58:35.041Z"
      },
      {
        "duration": 5,
        "start_time": "2023-01-05T09:58:35.049Z"
      },
      {
        "duration": 4,
        "start_time": "2023-01-05T09:58:35.056Z"
      },
      {
        "duration": 7,
        "start_time": "2023-01-05T09:58:35.063Z"
      },
      {
        "duration": 11,
        "start_time": "2023-01-05T09:58:35.071Z"
      },
      {
        "duration": 248992,
        "start_time": "2023-01-05T09:58:35.083Z"
      },
      {
        "duration": 3,
        "start_time": "2023-01-05T10:02:44.076Z"
      },
      {
        "duration": 7,
        "start_time": "2023-01-05T10:02:44.081Z"
      },
      {
        "duration": 5,
        "start_time": "2023-01-05T10:02:44.089Z"
      },
      {
        "duration": 9,
        "start_time": "2023-01-05T10:02:44.096Z"
      },
      {
        "duration": 6,
        "start_time": "2023-01-05T10:02:44.116Z"
      },
      {
        "duration": 5,
        "start_time": "2023-01-05T10:02:44.124Z"
      },
      {
        "duration": 5,
        "start_time": "2023-01-05T10:02:44.131Z"
      },
      {
        "duration": 7,
        "start_time": "2023-01-05T10:02:44.137Z"
      },
      {
        "duration": 6,
        "start_time": "2023-01-05T10:02:44.145Z"
      },
      {
        "duration": 5,
        "start_time": "2023-01-05T10:02:44.152Z"
      },
      {
        "duration": 6,
        "start_time": "2023-01-05T10:02:44.159Z"
      },
      {
        "duration": 5,
        "start_time": "2023-01-05T10:11:54.617Z"
      },
      {
        "duration": 1227,
        "start_time": "2023-01-05T10:14:43.949Z"
      },
      {
        "duration": 41,
        "start_time": "2023-01-05T10:14:45.178Z"
      },
      {
        "duration": 41,
        "start_time": "2023-01-05T10:14:45.221Z"
      },
      {
        "duration": 17,
        "start_time": "2023-01-05T10:14:45.263Z"
      },
      {
        "duration": 12,
        "start_time": "2023-01-05T10:14:45.283Z"
      },
      {
        "duration": 4,
        "start_time": "2023-01-05T10:14:45.297Z"
      },
      {
        "duration": 20,
        "start_time": "2023-01-05T10:14:45.302Z"
      },
      {
        "duration": 4,
        "start_time": "2023-01-05T10:14:45.324Z"
      },
      {
        "duration": 1123,
        "start_time": "2023-01-05T10:14:45.329Z"
      },
      {
        "duration": 292,
        "start_time": "2023-01-05T10:14:46.454Z"
      },
      {
        "duration": 281,
        "start_time": "2023-01-05T10:14:46.748Z"
      },
      {
        "duration": 1193,
        "start_time": "2023-01-05T10:14:47.031Z"
      },
      {
        "duration": 424,
        "start_time": "2023-01-05T10:14:48.226Z"
      },
      {
        "duration": 272,
        "start_time": "2023-01-05T10:14:48.653Z"
      },
      {
        "duration": 10,
        "start_time": "2023-01-05T10:14:48.926Z"
      },
      {
        "duration": 13,
        "start_time": "2023-01-05T10:14:48.937Z"
      },
      {
        "duration": 5,
        "start_time": "2023-01-05T10:14:48.951Z"
      },
      {
        "duration": 6,
        "start_time": "2023-01-05T10:14:48.957Z"
      },
      {
        "duration": 9,
        "start_time": "2023-01-05T10:14:48.964Z"
      },
      {
        "duration": 6,
        "start_time": "2023-01-05T10:14:48.974Z"
      },
      {
        "duration": 10,
        "start_time": "2023-01-05T10:14:48.982Z"
      },
      {
        "duration": 23,
        "start_time": "2023-01-05T10:14:48.993Z"
      },
      {
        "duration": 6,
        "start_time": "2023-01-05T10:14:49.018Z"
      },
      {
        "duration": 9,
        "start_time": "2023-01-05T10:14:49.025Z"
      },
      {
        "duration": 16,
        "start_time": "2023-01-05T10:14:49.036Z"
      },
      {
        "duration": 15,
        "start_time": "2023-01-05T10:14:49.053Z"
      },
      {
        "duration": 155,
        "start_time": "2023-01-05T10:14:49.070Z"
      },
      {
        "duration": 93,
        "start_time": "2023-01-05T10:14:49.227Z"
      },
      {
        "duration": 107,
        "start_time": "2023-01-05T10:14:49.322Z"
      },
      {
        "duration": 93,
        "start_time": "2023-01-05T10:14:49.430Z"
      },
      {
        "duration": 4,
        "start_time": "2023-01-05T10:14:49.525Z"
      },
      {
        "duration": 32,
        "start_time": "2023-01-05T10:14:49.530Z"
      },
      {
        "duration": 4,
        "start_time": "2023-01-05T10:14:49.564Z"
      },
      {
        "duration": 695,
        "start_time": "2023-01-05T10:14:49.570Z"
      },
      {
        "duration": 3,
        "start_time": "2023-01-05T10:14:50.267Z"
      },
      {
        "duration": 9,
        "start_time": "2023-01-05T10:14:50.272Z"
      },
      {
        "duration": 9,
        "start_time": "2023-01-05T10:14:50.283Z"
      },
      {
        "duration": 7,
        "start_time": "2023-01-05T10:14:50.294Z"
      },
      {
        "duration": 12,
        "start_time": "2023-01-05T10:14:50.303Z"
      },
      {
        "duration": 6691,
        "start_time": "2023-01-05T10:14:50.317Z"
      },
      {
        "duration": 4,
        "start_time": "2023-01-05T10:14:57.013Z"
      },
      {
        "duration": 9,
        "start_time": "2023-01-05T10:14:57.018Z"
      },
      {
        "duration": 4,
        "start_time": "2023-01-05T10:14:57.028Z"
      },
      {
        "duration": 12,
        "start_time": "2023-01-05T10:14:57.033Z"
      },
      {
        "duration": 5,
        "start_time": "2023-01-05T10:14:57.047Z"
      },
      {
        "duration": 7,
        "start_time": "2023-01-05T10:14:57.053Z"
      },
      {
        "duration": 454050,
        "start_time": "2023-01-05T10:14:57.062Z"
      },
      {
        "duration": 5,
        "start_time": "2023-01-05T10:22:31.114Z"
      },
      {
        "duration": 20,
        "start_time": "2023-01-05T10:22:31.120Z"
      },
      {
        "duration": 24,
        "start_time": "2023-01-05T10:22:31.141Z"
      },
      {
        "duration": 49,
        "start_time": "2023-01-05T10:22:31.167Z"
      },
      {
        "duration": 5,
        "start_time": "2023-01-05T10:22:31.217Z"
      },
      {
        "duration": 13,
        "start_time": "2023-01-05T10:22:31.223Z"
      },
      {
        "duration": 13,
        "start_time": "2023-01-05T10:22:31.237Z"
      },
      {
        "duration": 8,
        "start_time": "2023-01-05T10:22:31.251Z"
      },
      {
        "duration": 131,
        "start_time": "2023-01-05T10:22:31.261Z"
      },
      {
        "duration": 0,
        "start_time": "2023-01-05T10:22:31.394Z"
      },
      {
        "duration": 0,
        "start_time": "2023-01-05T10:22:31.395Z"
      },
      {
        "duration": 0,
        "start_time": "2023-01-05T10:22:31.396Z"
      },
      {
        "duration": 0,
        "start_time": "2023-01-05T10:22:31.397Z"
      },
      {
        "duration": 0,
        "start_time": "2023-01-05T10:22:31.398Z"
      },
      {
        "duration": 0,
        "start_time": "2023-01-05T10:22:31.398Z"
      },
      {
        "duration": 0,
        "start_time": "2023-01-05T10:22:31.399Z"
      },
      {
        "duration": 0,
        "start_time": "2023-01-05T10:22:31.400Z"
      },
      {
        "duration": 0,
        "start_time": "2023-01-05T10:22:31.401Z"
      },
      {
        "duration": 0,
        "start_time": "2023-01-05T10:22:31.402Z"
      },
      {
        "duration": 0,
        "start_time": "2023-01-05T10:22:31.403Z"
      },
      {
        "duration": 0,
        "start_time": "2023-01-05T10:22:31.415Z"
      },
      {
        "duration": 0,
        "start_time": "2023-01-05T10:22:31.416Z"
      },
      {
        "duration": 0,
        "start_time": "2023-01-05T10:22:31.417Z"
      },
      {
        "duration": 0,
        "start_time": "2023-01-05T10:22:31.418Z"
      },
      {
        "duration": 0,
        "start_time": "2023-01-05T10:22:31.419Z"
      },
      {
        "duration": 0,
        "start_time": "2023-01-05T10:22:31.420Z"
      },
      {
        "duration": 0,
        "start_time": "2023-01-05T10:22:31.421Z"
      },
      {
        "duration": 0,
        "start_time": "2023-01-05T10:22:31.422Z"
      },
      {
        "duration": 0,
        "start_time": "2023-01-05T10:22:31.423Z"
      },
      {
        "duration": 0,
        "start_time": "2023-01-05T10:22:31.425Z"
      },
      {
        "duration": 0,
        "start_time": "2023-01-05T10:22:31.426Z"
      },
      {
        "duration": 0,
        "start_time": "2023-01-05T10:22:31.427Z"
      },
      {
        "duration": 0,
        "start_time": "2023-01-05T10:22:31.428Z"
      },
      {
        "duration": 9,
        "start_time": "2023-01-05T10:29:21.255Z"
      },
      {
        "duration": 4,
        "start_time": "2023-01-05T10:29:29.259Z"
      },
      {
        "duration": 10,
        "start_time": "2023-01-05T10:29:33.134Z"
      },
      {
        "duration": 646257,
        "start_time": "2023-01-05T10:29:34.682Z"
      },
      {
        "duration": 4,
        "start_time": "2023-01-05T10:40:20.941Z"
      },
      {
        "duration": 7,
        "start_time": "2023-01-05T10:40:20.947Z"
      },
      {
        "duration": 6,
        "start_time": "2023-01-05T10:40:20.956Z"
      },
      {
        "duration": 8,
        "start_time": "2023-01-05T10:40:20.964Z"
      },
      {
        "duration": 8,
        "start_time": "2023-01-05T10:40:20.974Z"
      },
      {
        "duration": 6,
        "start_time": "2023-01-05T10:40:20.984Z"
      },
      {
        "duration": 30,
        "start_time": "2023-01-05T10:40:20.992Z"
      },
      {
        "duration": 11,
        "start_time": "2023-01-05T10:40:21.023Z"
      },
      {
        "duration": 10,
        "start_time": "2023-01-05T10:40:21.039Z"
      },
      {
        "duration": 14,
        "start_time": "2023-01-05T10:40:21.051Z"
      },
      {
        "duration": 259968,
        "start_time": "2023-01-05T10:40:21.066Z"
      },
      {
        "duration": 5,
        "start_time": "2023-01-05T10:44:41.036Z"
      },
      {
        "duration": 13,
        "start_time": "2023-01-05T10:44:41.042Z"
      },
      {
        "duration": 7,
        "start_time": "2023-01-05T10:44:41.057Z"
      },
      {
        "duration": 10,
        "start_time": "2023-01-05T10:44:41.066Z"
      },
      {
        "duration": 8,
        "start_time": "2023-01-05T10:44:41.077Z"
      },
      {
        "duration": 7,
        "start_time": "2023-01-05T10:44:41.087Z"
      },
      {
        "duration": 20,
        "start_time": "2023-01-05T10:44:41.096Z"
      },
      {
        "duration": 36,
        "start_time": "2023-01-05T10:44:41.118Z"
      },
      {
        "duration": 10,
        "start_time": "2023-01-05T10:44:41.157Z"
      },
      {
        "duration": 13,
        "start_time": "2023-01-05T10:44:41.169Z"
      },
      {
        "duration": 7,
        "start_time": "2023-01-05T10:44:41.183Z"
      },
      {
        "duration": 2167,
        "start_time": "2023-01-05T13:01:04.869Z"
      },
      {
        "duration": 49,
        "start_time": "2023-01-05T13:01:07.038Z"
      },
      {
        "duration": 160,
        "start_time": "2023-01-05T13:01:07.088Z"
      },
      {
        "duration": 14,
        "start_time": "2023-01-05T13:01:07.250Z"
      },
      {
        "duration": 22,
        "start_time": "2023-01-05T13:01:07.266Z"
      },
      {
        "duration": 9,
        "start_time": "2023-01-05T13:01:07.289Z"
      },
      {
        "duration": 21,
        "start_time": "2023-01-05T13:01:07.299Z"
      },
      {
        "duration": 4,
        "start_time": "2023-01-05T13:01:07.321Z"
      },
      {
        "duration": 946,
        "start_time": "2023-01-05T13:01:07.684Z"
      },
      {
        "duration": 281,
        "start_time": "2023-01-05T13:01:08.632Z"
      },
      {
        "duration": 272,
        "start_time": "2023-01-05T13:01:08.914Z"
      },
      {
        "duration": 1084,
        "start_time": "2023-01-05T13:01:09.188Z"
      },
      {
        "duration": 449,
        "start_time": "2023-01-05T13:01:10.274Z"
      },
      {
        "duration": 235,
        "start_time": "2023-01-05T13:01:10.724Z"
      },
      {
        "duration": 11,
        "start_time": "2023-01-05T13:01:10.961Z"
      },
      {
        "duration": 16,
        "start_time": "2023-01-05T13:01:10.974Z"
      },
      {
        "duration": 5,
        "start_time": "2023-01-05T13:01:11.312Z"
      },
      {
        "duration": 2,
        "start_time": "2023-01-05T13:01:11.764Z"
      },
      {
        "duration": 5,
        "start_time": "2023-01-05T13:01:16.964Z"
      },
      {
        "duration": 5,
        "start_time": "2023-01-05T13:01:17.451Z"
      },
      {
        "duration": 5,
        "start_time": "2023-01-05T13:01:17.696Z"
      },
      {
        "duration": 4,
        "start_time": "2023-01-05T13:01:18.148Z"
      },
      {
        "duration": 348,
        "start_time": "2023-01-05T13:20:53.169Z"
      },
      {
        "duration": 5,
        "start_time": "2023-01-05T13:20:54.357Z"
      },
      {
        "duration": 7,
        "start_time": "2023-01-05T13:20:54.750Z"
      },
      {
        "duration": 6,
        "start_time": "2023-01-05T13:20:55.157Z"
      },
      {
        "duration": 4,
        "start_time": "2023-01-05T13:20:57.266Z"
      },
      {
        "duration": 39,
        "start_time": "2023-01-05T13:20:57.633Z"
      },
      {
        "duration": 5,
        "start_time": "2023-01-05T13:20:57.878Z"
      },
      {
        "duration": 723,
        "start_time": "2023-01-05T13:20:58.158Z"
      },
      {
        "duration": 4,
        "start_time": "2023-01-05T13:20:58.882Z"
      },
      {
        "duration": 10,
        "start_time": "2023-01-05T13:20:58.887Z"
      },
      {
        "duration": 5,
        "start_time": "2023-01-05T13:20:59.207Z"
      },
      {
        "duration": 7,
        "start_time": "2023-01-05T13:21:00.016Z"
      },
      {
        "duration": 7,
        "start_time": "2023-01-05T13:21:00.348Z"
      },
      {
        "duration": 7147,
        "start_time": "2023-01-05T13:21:01.695Z"
      },
      {
        "duration": 4,
        "start_time": "2023-01-05T13:21:08.843Z"
      },
      {
        "duration": 7,
        "start_time": "2023-01-05T13:21:08.848Z"
      },
      {
        "duration": 7,
        "start_time": "2023-01-05T13:21:08.856Z"
      },
      {
        "duration": 15,
        "start_time": "2023-01-05T13:21:08.865Z"
      },
      {
        "duration": 7,
        "start_time": "2023-01-05T13:21:08.881Z"
      },
      {
        "duration": 9,
        "start_time": "2023-01-05T13:21:08.890Z"
      },
      {
        "duration": 42452,
        "start_time": "2023-01-05T13:21:08.913Z"
      },
      {
        "duration": 4,
        "start_time": "2023-01-05T13:21:51.367Z"
      },
      {
        "duration": 9,
        "start_time": "2023-01-05T13:21:51.374Z"
      },
      {
        "duration": 11,
        "start_time": "2023-01-05T13:21:51.385Z"
      },
      {
        "duration": 51,
        "start_time": "2023-01-05T13:21:51.398Z"
      },
      {
        "duration": 8,
        "start_time": "2023-01-05T13:21:51.452Z"
      },
      {
        "duration": 23,
        "start_time": "2023-01-05T13:21:51.462Z"
      },
      {
        "duration": 12,
        "start_time": "2023-01-05T13:21:51.487Z"
      },
      {
        "duration": 32,
        "start_time": "2023-01-05T13:21:51.500Z"
      },
      {
        "duration": 17,
        "start_time": "2023-01-05T13:21:51.533Z"
      },
      {
        "duration": 13,
        "start_time": "2023-01-05T13:21:51.551Z"
      },
      {
        "duration": 2422,
        "start_time": "2023-01-05T13:21:51.567Z"
      },
      {
        "duration": 4,
        "start_time": "2023-01-05T13:21:53.990Z"
      },
      {
        "duration": 15,
        "start_time": "2023-01-05T13:21:53.995Z"
      },
      {
        "duration": 59,
        "start_time": "2023-01-05T13:21:54.012Z"
      },
      {
        "duration": 29,
        "start_time": "2023-01-05T13:21:54.073Z"
      },
      {
        "duration": 15,
        "start_time": "2023-01-05T13:21:54.103Z"
      },
      {
        "duration": 19,
        "start_time": "2023-01-05T13:21:54.120Z"
      },
      {
        "duration": 15,
        "start_time": "2023-01-05T13:21:54.141Z"
      },
      {
        "duration": 17,
        "start_time": "2023-01-05T13:21:54.157Z"
      },
      {
        "duration": 27,
        "start_time": "2023-01-05T13:21:54.177Z"
      },
      {
        "duration": 29,
        "start_time": "2023-01-05T13:21:54.206Z"
      },
      {
        "duration": 1302,
        "start_time": "2023-01-05T13:21:54.237Z"
      },
      {
        "duration": 4,
        "start_time": "2023-01-05T13:21:55.541Z"
      },
      {
        "duration": 24,
        "start_time": "2023-01-05T13:21:55.546Z"
      },
      {
        "duration": 25,
        "start_time": "2023-01-05T13:21:55.571Z"
      },
      {
        "duration": 54,
        "start_time": "2023-01-05T13:21:55.598Z"
      },
      {
        "duration": 21,
        "start_time": "2023-01-05T13:21:55.654Z"
      },
      {
        "duration": 37,
        "start_time": "2023-01-05T13:21:55.677Z"
      },
      {
        "duration": 19,
        "start_time": "2023-01-05T13:21:55.716Z"
      },
      {
        "duration": 66,
        "start_time": "2023-01-05T13:21:55.737Z"
      },
      {
        "duration": 8,
        "start_time": "2023-01-05T13:21:55.805Z"
      },
      {
        "duration": 33,
        "start_time": "2023-01-05T13:21:55.814Z"
      },
      {
        "duration": 23,
        "start_time": "2023-01-05T13:21:55.849Z"
      },
      {
        "duration": 3,
        "start_time": "2023-01-05T13:25:14.633Z"
      },
      {
        "duration": 9,
        "start_time": "2023-01-05T13:25:15.584Z"
      },
      {
        "duration": 37797,
        "start_time": "2023-01-05T13:25:16.249Z"
      },
      {
        "duration": 1480,
        "start_time": "2023-01-05T14:46:25.585Z"
      },
      {
        "duration": 42,
        "start_time": "2023-01-05T14:46:27.067Z"
      },
      {
        "duration": 156,
        "start_time": "2023-01-05T14:46:27.110Z"
      },
      {
        "duration": 22,
        "start_time": "2023-01-05T14:46:27.267Z"
      },
      {
        "duration": 19,
        "start_time": "2023-01-05T14:46:27.292Z"
      },
      {
        "duration": 5,
        "start_time": "2023-01-05T14:46:27.313Z"
      },
      {
        "duration": 29,
        "start_time": "2023-01-05T14:46:27.320Z"
      },
      {
        "duration": 14,
        "start_time": "2023-01-05T14:46:27.351Z"
      },
      {
        "duration": 1070,
        "start_time": "2023-01-05T14:46:27.367Z"
      },
      {
        "duration": 299,
        "start_time": "2023-01-05T14:46:28.438Z"
      },
      {
        "duration": 273,
        "start_time": "2023-01-05T14:46:28.739Z"
      },
      {
        "duration": 1160,
        "start_time": "2023-01-05T14:46:29.014Z"
      },
      {
        "duration": 450,
        "start_time": "2023-01-05T14:46:30.177Z"
      },
      {
        "duration": 274,
        "start_time": "2023-01-05T14:46:30.630Z"
      },
      {
        "duration": 2,
        "start_time": "2023-01-05T14:46:30.906Z"
      },
      {
        "duration": 125,
        "start_time": "2023-01-05T14:46:30.910Z"
      },
      {
        "duration": 0,
        "start_time": "2023-01-05T14:46:31.037Z"
      },
      {
        "duration": 0,
        "start_time": "2023-01-05T14:46:31.039Z"
      },
      {
        "duration": 0,
        "start_time": "2023-01-05T14:46:31.040Z"
      },
      {
        "duration": 0,
        "start_time": "2023-01-05T14:46:31.041Z"
      },
      {
        "duration": 0,
        "start_time": "2023-01-05T14:46:31.042Z"
      },
      {
        "duration": 0,
        "start_time": "2023-01-05T14:46:31.043Z"
      },
      {
        "duration": 0,
        "start_time": "2023-01-05T14:46:31.045Z"
      },
      {
        "duration": 0,
        "start_time": "2023-01-05T14:46:31.046Z"
      },
      {
        "duration": 0,
        "start_time": "2023-01-05T14:46:31.047Z"
      },
      {
        "duration": 0,
        "start_time": "2023-01-05T14:46:31.048Z"
      },
      {
        "duration": 0,
        "start_time": "2023-01-05T14:46:31.049Z"
      },
      {
        "duration": 0,
        "start_time": "2023-01-05T14:46:31.050Z"
      },
      {
        "duration": 0,
        "start_time": "2023-01-05T14:46:31.050Z"
      },
      {
        "duration": 0,
        "start_time": "2023-01-05T14:46:31.051Z"
      },
      {
        "duration": 0,
        "start_time": "2023-01-05T14:46:31.053Z"
      },
      {
        "duration": 0,
        "start_time": "2023-01-05T14:46:31.054Z"
      },
      {
        "duration": 0,
        "start_time": "2023-01-05T14:46:31.055Z"
      },
      {
        "duration": 0,
        "start_time": "2023-01-05T14:46:31.056Z"
      },
      {
        "duration": 0,
        "start_time": "2023-01-05T14:46:31.057Z"
      },
      {
        "duration": 0,
        "start_time": "2023-01-05T14:46:31.059Z"
      },
      {
        "duration": 0,
        "start_time": "2023-01-05T14:46:31.059Z"
      },
      {
        "duration": 0,
        "start_time": "2023-01-05T14:46:31.105Z"
      },
      {
        "duration": 0,
        "start_time": "2023-01-05T14:46:31.106Z"
      },
      {
        "duration": 0,
        "start_time": "2023-01-05T14:46:31.107Z"
      },
      {
        "duration": 0,
        "start_time": "2023-01-05T14:46:31.108Z"
      },
      {
        "duration": 0,
        "start_time": "2023-01-05T14:46:31.109Z"
      },
      {
        "duration": 0,
        "start_time": "2023-01-05T14:46:31.111Z"
      },
      {
        "duration": 0,
        "start_time": "2023-01-05T14:46:31.112Z"
      },
      {
        "duration": 0,
        "start_time": "2023-01-05T14:46:31.113Z"
      },
      {
        "duration": 0,
        "start_time": "2023-01-05T14:46:31.114Z"
      },
      {
        "duration": 0,
        "start_time": "2023-01-05T14:46:31.115Z"
      },
      {
        "duration": 0,
        "start_time": "2023-01-05T14:46:31.116Z"
      },
      {
        "duration": 0,
        "start_time": "2023-01-05T14:46:31.118Z"
      },
      {
        "duration": 0,
        "start_time": "2023-01-05T14:46:31.119Z"
      },
      {
        "duration": 0,
        "start_time": "2023-01-05T14:46:31.120Z"
      },
      {
        "duration": 0,
        "start_time": "2023-01-05T14:46:31.121Z"
      },
      {
        "duration": 0,
        "start_time": "2023-01-05T14:46:31.122Z"
      },
      {
        "duration": 0,
        "start_time": "2023-01-05T14:46:31.123Z"
      },
      {
        "duration": 0,
        "start_time": "2023-01-05T14:46:31.124Z"
      },
      {
        "duration": 0,
        "start_time": "2023-01-05T14:46:31.125Z"
      },
      {
        "duration": 0,
        "start_time": "2023-01-05T14:46:31.126Z"
      },
      {
        "duration": 0,
        "start_time": "2023-01-05T14:46:31.127Z"
      },
      {
        "duration": 0,
        "start_time": "2023-01-05T14:46:31.129Z"
      },
      {
        "duration": 0,
        "start_time": "2023-01-05T14:46:31.130Z"
      },
      {
        "duration": 0,
        "start_time": "2023-01-05T14:46:31.131Z"
      },
      {
        "duration": 0,
        "start_time": "2023-01-05T14:46:31.132Z"
      },
      {
        "duration": 0,
        "start_time": "2023-01-05T14:46:31.133Z"
      },
      {
        "duration": 0,
        "start_time": "2023-01-05T14:46:31.134Z"
      },
      {
        "duration": 0,
        "start_time": "2023-01-05T14:46:31.135Z"
      },
      {
        "duration": 0,
        "start_time": "2023-01-05T14:46:31.136Z"
      },
      {
        "duration": 0,
        "start_time": "2023-01-05T14:46:31.137Z"
      },
      {
        "duration": 0,
        "start_time": "2023-01-05T14:46:31.138Z"
      },
      {
        "duration": 0,
        "start_time": "2023-01-05T14:46:31.139Z"
      },
      {
        "duration": 0,
        "start_time": "2023-01-05T14:46:31.140Z"
      },
      {
        "duration": 0,
        "start_time": "2023-01-05T14:46:31.141Z"
      },
      {
        "duration": 0,
        "start_time": "2023-01-05T14:46:31.205Z"
      },
      {
        "duration": 0,
        "start_time": "2023-01-05T14:46:31.206Z"
      },
      {
        "duration": 0,
        "start_time": "2023-01-05T14:46:31.207Z"
      },
      {
        "duration": 0,
        "start_time": "2023-01-05T14:46:31.208Z"
      },
      {
        "duration": 0,
        "start_time": "2023-01-05T14:46:31.209Z"
      },
      {
        "duration": 0,
        "start_time": "2023-01-05T14:46:31.210Z"
      },
      {
        "duration": 0,
        "start_time": "2023-01-05T14:46:31.211Z"
      },
      {
        "duration": 0,
        "start_time": "2023-01-05T14:46:31.213Z"
      },
      {
        "duration": 0,
        "start_time": "2023-01-05T14:46:31.213Z"
      },
      {
        "duration": 0,
        "start_time": "2023-01-05T14:46:31.215Z"
      },
      {
        "duration": 0,
        "start_time": "2023-01-05T14:46:31.216Z"
      },
      {
        "duration": 0,
        "start_time": "2023-01-05T14:46:31.217Z"
      },
      {
        "duration": 0,
        "start_time": "2023-01-05T14:46:31.218Z"
      },
      {
        "duration": 0,
        "start_time": "2023-01-05T14:46:31.219Z"
      },
      {
        "duration": 0,
        "start_time": "2023-01-05T14:46:31.220Z"
      },
      {
        "duration": 9,
        "start_time": "2023-01-05T15:02:55.052Z"
      },
      {
        "duration": 1088,
        "start_time": "2023-01-05T15:03:17.509Z"
      },
      {
        "duration": 9,
        "start_time": "2023-01-05T15:03:51.647Z"
      },
      {
        "duration": 2,
        "start_time": "2023-01-05T15:14:40.449Z"
      },
      {
        "duration": 217,
        "start_time": "2023-01-05T15:14:43.414Z"
      },
      {
        "duration": 8,
        "start_time": "2023-01-05T15:14:55.568Z"
      },
      {
        "duration": 32496,
        "start_time": "2023-01-05T15:15:15.258Z"
      },
      {
        "duration": 1339,
        "start_time": "2023-01-05T15:21:24.319Z"
      },
      {
        "duration": 43,
        "start_time": "2023-01-05T15:21:25.660Z"
      },
      {
        "duration": 41,
        "start_time": "2023-01-05T15:21:25.705Z"
      },
      {
        "duration": 16,
        "start_time": "2023-01-05T15:21:25.747Z"
      },
      {
        "duration": 12,
        "start_time": "2023-01-05T15:21:25.766Z"
      },
      {
        "duration": 4,
        "start_time": "2023-01-05T15:21:25.780Z"
      },
      {
        "duration": 22,
        "start_time": "2023-01-05T15:21:25.785Z"
      },
      {
        "duration": 4,
        "start_time": "2023-01-05T15:21:25.809Z"
      },
      {
        "duration": 1061,
        "start_time": "2023-01-05T15:21:25.815Z"
      },
      {
        "duration": 298,
        "start_time": "2023-01-05T15:21:26.877Z"
      },
      {
        "duration": 330,
        "start_time": "2023-01-05T15:21:27.176Z"
      },
      {
        "duration": 1215,
        "start_time": "2023-01-05T15:21:27.508Z"
      },
      {
        "duration": 434,
        "start_time": "2023-01-05T15:21:28.725Z"
      },
      {
        "duration": 252,
        "start_time": "2023-01-05T15:21:29.163Z"
      },
      {
        "duration": 10,
        "start_time": "2023-01-05T15:21:29.417Z"
      },
      {
        "duration": 3,
        "start_time": "2023-01-05T15:21:29.428Z"
      },
      {
        "duration": 5,
        "start_time": "2023-01-05T15:21:29.432Z"
      },
      {
        "duration": 13,
        "start_time": "2023-01-05T15:21:29.438Z"
      },
      {
        "duration": 8,
        "start_time": "2023-01-05T15:21:29.452Z"
      },
      {
        "duration": 6,
        "start_time": "2023-01-05T15:21:29.462Z"
      },
      {
        "duration": 6,
        "start_time": "2023-01-05T15:21:29.469Z"
      },
      {
        "duration": 6,
        "start_time": "2023-01-05T15:21:29.504Z"
      },
      {
        "duration": 16,
        "start_time": "2023-01-05T15:21:29.512Z"
      },
      {
        "duration": 5,
        "start_time": "2023-01-05T15:21:29.529Z"
      },
      {
        "duration": 11,
        "start_time": "2023-01-05T15:21:29.535Z"
      },
      {
        "duration": 10,
        "start_time": "2023-01-05T15:21:29.548Z"
      },
      {
        "duration": 21,
        "start_time": "2023-01-05T15:21:29.559Z"
      },
      {
        "duration": 11,
        "start_time": "2023-01-05T15:21:29.582Z"
      },
      {
        "duration": 212,
        "start_time": "2023-01-05T15:21:29.595Z"
      },
      {
        "duration": 101,
        "start_time": "2023-01-05T15:21:29.809Z"
      },
      {
        "duration": 193,
        "start_time": "2023-01-05T15:21:29.913Z"
      },
      {
        "duration": 6,
        "start_time": "2023-01-05T15:21:30.107Z"
      },
      {
        "duration": 29,
        "start_time": "2023-01-05T15:21:30.115Z"
      },
      {
        "duration": 13,
        "start_time": "2023-01-05T15:21:30.145Z"
      },
      {
        "duration": 58,
        "start_time": "2023-01-05T15:21:30.160Z"
      },
      {
        "duration": 5,
        "start_time": "2023-01-05T15:21:30.219Z"
      },
      {
        "duration": 1339,
        "start_time": "2023-01-05T15:21:30.225Z"
      },
      {
        "duration": 3,
        "start_time": "2023-01-05T15:21:31.565Z"
      },
      {
        "duration": 12,
        "start_time": "2023-01-05T15:21:31.570Z"
      },
      {
        "duration": 20,
        "start_time": "2023-01-05T15:21:31.583Z"
      },
      {
        "duration": 20,
        "start_time": "2023-01-05T15:21:31.607Z"
      },
      {
        "duration": 38,
        "start_time": "2023-01-05T15:21:31.628Z"
      },
      {
        "duration": 8158593,
        "start_time": "2023-01-05T15:21:31.667Z"
      },
      {
        "duration": 5,
        "start_time": "2023-01-05T17:37:30.262Z"
      },
      {
        "duration": 17,
        "start_time": "2023-01-05T17:37:30.269Z"
      },
      {
        "duration": 19,
        "start_time": "2023-01-05T17:37:30.287Z"
      },
      {
        "duration": 32,
        "start_time": "2023-01-05T17:37:30.308Z"
      },
      {
        "duration": 27,
        "start_time": "2023-01-05T17:37:30.342Z"
      },
      {
        "duration": 38,
        "start_time": "2023-01-05T17:37:30.371Z"
      },
      {
        "duration": 1296,
        "start_time": "2023-01-05T17:38:51.245Z"
      },
      {
        "duration": 42,
        "start_time": "2023-01-05T17:38:52.543Z"
      },
      {
        "duration": 40,
        "start_time": "2023-01-05T17:38:52.587Z"
      },
      {
        "duration": 16,
        "start_time": "2023-01-05T17:38:52.629Z"
      },
      {
        "duration": 13,
        "start_time": "2023-01-05T17:38:52.648Z"
      },
      {
        "duration": 5,
        "start_time": "2023-01-05T17:38:52.663Z"
      },
      {
        "duration": 38,
        "start_time": "2023-01-05T17:38:52.669Z"
      },
      {
        "duration": 4,
        "start_time": "2023-01-05T17:38:52.709Z"
      },
      {
        "duration": 1018,
        "start_time": "2023-01-05T17:38:52.715Z"
      },
      {
        "duration": 310,
        "start_time": "2023-01-05T17:38:53.735Z"
      },
      {
        "duration": 298,
        "start_time": "2023-01-05T17:38:54.047Z"
      },
      {
        "duration": 1153,
        "start_time": "2023-01-05T17:38:54.347Z"
      },
      {
        "duration": 389,
        "start_time": "2023-01-05T17:38:55.505Z"
      },
      {
        "duration": 237,
        "start_time": "2023-01-05T17:38:55.905Z"
      },
      {
        "duration": 9,
        "start_time": "2023-01-05T17:38:56.143Z"
      },
      {
        "duration": 3,
        "start_time": "2023-01-05T17:38:56.153Z"
      },
      {
        "duration": 5,
        "start_time": "2023-01-05T17:38:56.158Z"
      },
      {
        "duration": 13,
        "start_time": "2023-01-05T17:38:56.164Z"
      },
      {
        "duration": 8,
        "start_time": "2023-01-05T17:38:56.179Z"
      },
      {
        "duration": 4,
        "start_time": "2023-01-05T17:38:56.204Z"
      },
      {
        "duration": 6,
        "start_time": "2023-01-05T17:38:56.210Z"
      },
      {
        "duration": 4,
        "start_time": "2023-01-05T17:38:56.217Z"
      },
      {
        "duration": 5,
        "start_time": "2023-01-05T17:38:56.222Z"
      },
      {
        "duration": 3,
        "start_time": "2023-01-05T17:38:56.229Z"
      },
      {
        "duration": 6,
        "start_time": "2023-01-05T17:38:56.234Z"
      },
      {
        "duration": 11,
        "start_time": "2023-01-05T17:38:56.242Z"
      },
      {
        "duration": 19,
        "start_time": "2023-01-05T17:38:56.255Z"
      },
      {
        "duration": 34,
        "start_time": "2023-01-05T17:38:56.275Z"
      },
      {
        "duration": 196,
        "start_time": "2023-01-05T17:38:56.310Z"
      },
      {
        "duration": 98,
        "start_time": "2023-01-05T17:38:56.508Z"
      },
      {
        "duration": 98,
        "start_time": "2023-01-05T17:38:56.608Z"
      },
      {
        "duration": 8,
        "start_time": "2023-01-05T17:38:56.708Z"
      },
      {
        "duration": 7,
        "start_time": "2023-01-05T17:38:56.717Z"
      },
      {
        "duration": 3,
        "start_time": "2023-01-05T17:38:56.725Z"
      },
      {
        "duration": 81,
        "start_time": "2023-01-05T17:38:56.729Z"
      },
      {
        "duration": 4,
        "start_time": "2023-01-05T17:38:56.812Z"
      },
      {
        "duration": 137,
        "start_time": "2023-01-05T17:38:56.817Z"
      },
      {
        "duration": 3,
        "start_time": "2023-01-05T17:38:56.956Z"
      },
      {
        "duration": 5,
        "start_time": "2023-01-05T17:38:56.961Z"
      },
      {
        "duration": 6,
        "start_time": "2023-01-05T17:38:56.967Z"
      },
      {
        "duration": 5,
        "start_time": "2023-01-05T17:38:56.977Z"
      },
      {
        "duration": 25,
        "start_time": "2023-01-05T17:38:56.983Z"
      },
      {
        "duration": 7047,
        "start_time": "2023-01-05T17:38:57.010Z"
      },
      {
        "duration": 3,
        "start_time": "2023-01-05T17:39:04.059Z"
      },
      {
        "duration": 87,
        "start_time": "2023-01-05T17:39:04.063Z"
      },
      {
        "duration": 11,
        "start_time": "2023-01-05T17:39:04.151Z"
      },
      {
        "duration": 14,
        "start_time": "2023-01-05T17:39:04.163Z"
      },
      {
        "duration": 6,
        "start_time": "2023-01-05T17:39:04.178Z"
      },
      {
        "duration": 8,
        "start_time": "2023-01-05T17:39:04.185Z"
      },
      {
        "duration": 44512,
        "start_time": "2023-01-05T17:39:04.194Z"
      },
      {
        "duration": 3,
        "start_time": "2023-01-05T17:39:48.707Z"
      },
      {
        "duration": 7,
        "start_time": "2023-01-05T17:39:48.712Z"
      },
      {
        "duration": 5,
        "start_time": "2023-01-05T17:39:48.720Z"
      },
      {
        "duration": 38,
        "start_time": "2023-01-05T17:39:48.727Z"
      },
      {
        "duration": 7,
        "start_time": "2023-01-05T17:39:48.766Z"
      },
      {
        "duration": 7,
        "start_time": "2023-01-05T17:39:48.774Z"
      },
      {
        "duration": 26,
        "start_time": "2023-01-05T17:39:48.783Z"
      },
      {
        "duration": 5,
        "start_time": "2023-01-05T17:39:48.811Z"
      },
      {
        "duration": 12,
        "start_time": "2023-01-05T17:39:48.817Z"
      },
      {
        "duration": 9,
        "start_time": "2023-01-05T17:39:48.831Z"
      },
      {
        "duration": 2370,
        "start_time": "2023-01-05T17:39:48.842Z"
      },
      {
        "duration": 4,
        "start_time": "2023-01-05T17:39:51.214Z"
      },
      {
        "duration": 17,
        "start_time": "2023-01-05T17:39:51.219Z"
      },
      {
        "duration": 22,
        "start_time": "2023-01-05T17:39:51.237Z"
      },
      {
        "duration": 11,
        "start_time": "2023-01-05T17:39:51.261Z"
      },
      {
        "duration": 13,
        "start_time": "2023-01-05T17:39:51.274Z"
      },
      {
        "duration": 11,
        "start_time": "2023-01-05T17:39:51.289Z"
      },
      {
        "duration": 14,
        "start_time": "2023-01-05T17:39:51.301Z"
      },
      {
        "duration": 11,
        "start_time": "2023-01-05T17:39:51.316Z"
      },
      {
        "duration": 13,
        "start_time": "2023-01-05T17:39:51.328Z"
      },
      {
        "duration": 19,
        "start_time": "2023-01-05T17:39:51.342Z"
      },
      {
        "duration": 1270,
        "start_time": "2023-01-05T17:39:51.362Z"
      },
      {
        "duration": 4,
        "start_time": "2023-01-05T17:39:52.633Z"
      },
      {
        "duration": 10,
        "start_time": "2023-01-05T17:39:52.638Z"
      },
      {
        "duration": 13,
        "start_time": "2023-01-05T17:39:52.650Z"
      },
      {
        "duration": 17,
        "start_time": "2023-01-05T17:39:52.665Z"
      },
      {
        "duration": 7,
        "start_time": "2023-01-05T17:39:52.684Z"
      },
      {
        "duration": 13,
        "start_time": "2023-01-05T17:39:52.692Z"
      },
      {
        "duration": 5,
        "start_time": "2023-01-05T17:39:52.707Z"
      },
      {
        "duration": 44,
        "start_time": "2023-01-05T17:39:52.713Z"
      },
      {
        "duration": 6,
        "start_time": "2023-01-05T17:39:52.758Z"
      },
      {
        "duration": 11,
        "start_time": "2023-01-05T17:39:52.765Z"
      },
      {
        "duration": 6,
        "start_time": "2023-01-05T17:39:52.777Z"
      },
      {
        "duration": 4,
        "start_time": "2023-01-05T17:39:52.784Z"
      },
      {
        "duration": 8,
        "start_time": "2023-01-05T17:39:52.805Z"
      },
      {
        "duration": 40365,
        "start_time": "2023-01-05T17:39:52.815Z"
      },
      {
        "duration": 352320,
        "start_time": "2023-01-05T17:42:05.006Z"
      },
      {
        "duration": 5,
        "start_time": "2023-01-05T17:47:57.327Z"
      },
      {
        "duration": 4,
        "start_time": "2023-01-05T17:48:36.448Z"
      },
      {
        "duration": 3,
        "start_time": "2023-01-05T17:48:38.848Z"
      },
      {
        "duration": 6224,
        "start_time": "2023-01-05T17:48:55.033Z"
      },
      {
        "duration": 453447,
        "start_time": "2023-01-05T17:49:09.635Z"
      },
      {
        "duration": 3,
        "start_time": "2023-01-05T18:11:29.302Z"
      },
      {
        "duration": 3,
        "start_time": "2023-01-05T18:11:31.775Z"
      },
      {
        "duration": 1056910,
        "start_time": "2023-01-05T18:12:51.170Z"
      },
      {
        "duration": 1337,
        "start_time": "2023-01-05T18:30:57.730Z"
      },
      {
        "duration": 43,
        "start_time": "2023-01-05T18:30:59.069Z"
      },
      {
        "duration": 40,
        "start_time": "2023-01-05T18:30:59.114Z"
      },
      {
        "duration": 17,
        "start_time": "2023-01-05T18:30:59.155Z"
      },
      {
        "duration": 13,
        "start_time": "2023-01-05T18:30:59.174Z"
      },
      {
        "duration": 5,
        "start_time": "2023-01-05T18:30:59.188Z"
      },
      {
        "duration": 23,
        "start_time": "2023-01-05T18:30:59.195Z"
      },
      {
        "duration": 4,
        "start_time": "2023-01-05T18:30:59.220Z"
      },
      {
        "duration": 1045,
        "start_time": "2023-01-05T18:30:59.225Z"
      },
      {
        "duration": 313,
        "start_time": "2023-01-05T18:31:00.272Z"
      },
      {
        "duration": 295,
        "start_time": "2023-01-05T18:31:00.587Z"
      },
      {
        "duration": 1120,
        "start_time": "2023-01-05T18:31:00.884Z"
      },
      {
        "duration": 422,
        "start_time": "2023-01-05T18:31:02.006Z"
      },
      {
        "duration": 238,
        "start_time": "2023-01-05T18:31:02.431Z"
      },
      {
        "duration": 9,
        "start_time": "2023-01-05T18:31:02.670Z"
      },
      {
        "duration": 3,
        "start_time": "2023-01-05T18:31:02.680Z"
      },
      {
        "duration": 4,
        "start_time": "2023-01-05T18:31:02.685Z"
      },
      {
        "duration": 11,
        "start_time": "2023-01-05T18:31:02.704Z"
      },
      {
        "duration": 15,
        "start_time": "2023-01-05T18:31:02.716Z"
      },
      {
        "duration": 12,
        "start_time": "2023-01-05T18:31:02.732Z"
      },
      {
        "duration": 19,
        "start_time": "2023-01-05T18:31:02.746Z"
      },
      {
        "duration": 5,
        "start_time": "2023-01-05T18:31:02.766Z"
      },
      {
        "duration": 5,
        "start_time": "2023-01-05T18:31:02.772Z"
      },
      {
        "duration": 5,
        "start_time": "2023-01-05T18:31:02.779Z"
      },
      {
        "duration": 5,
        "start_time": "2023-01-05T18:31:02.785Z"
      },
      {
        "duration": 12,
        "start_time": "2023-01-05T18:31:02.792Z"
      },
      {
        "duration": 23,
        "start_time": "2023-01-05T18:31:02.805Z"
      },
      {
        "duration": 11,
        "start_time": "2023-01-05T18:31:02.829Z"
      },
      {
        "duration": 171,
        "start_time": "2023-01-05T18:31:02.842Z"
      },
      {
        "duration": 191,
        "start_time": "2023-01-05T18:31:03.015Z"
      },
      {
        "duration": 98,
        "start_time": "2023-01-05T18:31:03.209Z"
      },
      {
        "duration": 94,
        "start_time": "2023-01-05T18:31:03.314Z"
      },
      {
        "duration": 5,
        "start_time": "2023-01-05T18:31:03.409Z"
      },
      {
        "duration": 9,
        "start_time": "2023-01-05T18:31:03.416Z"
      },
      {
        "duration": 35,
        "start_time": "2023-01-05T18:31:03.426Z"
      },
      {
        "duration": 5,
        "start_time": "2023-01-05T18:31:03.463Z"
      },
      {
        "duration": 159,
        "start_time": "2023-01-05T18:31:03.469Z"
      },
      {
        "duration": 3,
        "start_time": "2023-01-05T18:31:03.630Z"
      },
      {
        "duration": 30,
        "start_time": "2023-01-05T18:31:03.634Z"
      },
      {
        "duration": 16,
        "start_time": "2023-01-05T18:31:03.665Z"
      },
      {
        "duration": 26,
        "start_time": "2023-01-05T18:31:03.685Z"
      },
      {
        "duration": 20,
        "start_time": "2023-01-05T18:31:03.712Z"
      },
      {
        "duration": 18,
        "start_time": "2023-01-05T18:31:03.733Z"
      },
      {
        "duration": 6306,
        "start_time": "2023-01-05T18:31:03.753Z"
      },
      {
        "duration": 4,
        "start_time": "2023-01-05T18:31:10.061Z"
      },
      {
        "duration": 9,
        "start_time": "2023-01-05T18:31:10.067Z"
      },
      {
        "duration": 18,
        "start_time": "2023-01-05T18:31:10.077Z"
      },
      {
        "duration": 14,
        "start_time": "2023-01-05T18:31:10.096Z"
      },
      {
        "duration": 13,
        "start_time": "2023-01-05T18:31:10.111Z"
      },
      {
        "duration": 22,
        "start_time": "2023-01-05T18:31:10.126Z"
      },
      {
        "duration": 29,
        "start_time": "2023-01-05T18:31:10.149Z"
      },
      {
        "duration": 44878,
        "start_time": "2023-01-05T18:31:10.180Z"
      },
      {
        "duration": 4,
        "start_time": "2023-01-05T18:31:55.060Z"
      },
      {
        "duration": 11,
        "start_time": "2023-01-05T18:31:55.065Z"
      },
      {
        "duration": 5,
        "start_time": "2023-01-05T18:31:55.077Z"
      },
      {
        "duration": 52,
        "start_time": "2023-01-05T18:31:55.083Z"
      },
      {
        "duration": 5,
        "start_time": "2023-01-05T18:31:55.137Z"
      },
      {
        "duration": 6,
        "start_time": "2023-01-05T18:31:55.144Z"
      },
      {
        "duration": 7,
        "start_time": "2023-01-05T18:31:55.152Z"
      },
      {
        "duration": 4,
        "start_time": "2023-01-05T18:31:55.160Z"
      },
      {
        "duration": 7,
        "start_time": "2023-01-05T18:31:55.166Z"
      },
      {
        "duration": 35,
        "start_time": "2023-01-05T18:31:55.175Z"
      },
      {
        "duration": 2435,
        "start_time": "2023-01-05T18:31:55.212Z"
      },
      {
        "duration": 4,
        "start_time": "2023-01-05T18:31:57.649Z"
      },
      {
        "duration": 12,
        "start_time": "2023-01-05T18:31:57.655Z"
      },
      {
        "duration": 8,
        "start_time": "2023-01-05T18:31:57.669Z"
      },
      {
        "duration": 9,
        "start_time": "2023-01-05T18:31:57.679Z"
      },
      {
        "duration": 8,
        "start_time": "2023-01-05T18:31:57.705Z"
      },
      {
        "duration": 7,
        "start_time": "2023-01-05T18:31:57.715Z"
      },
      {
        "duration": 6,
        "start_time": "2023-01-05T18:31:57.724Z"
      },
      {
        "duration": 4,
        "start_time": "2023-01-05T18:31:57.732Z"
      },
      {
        "duration": 6,
        "start_time": "2023-01-05T18:31:57.738Z"
      },
      {
        "duration": 11,
        "start_time": "2023-01-05T18:31:57.746Z"
      },
      {
        "duration": 1462,
        "start_time": "2023-01-05T18:31:57.758Z"
      },
      {
        "duration": 3,
        "start_time": "2023-01-05T18:31:59.222Z"
      },
      {
        "duration": 9,
        "start_time": "2023-01-05T18:31:59.227Z"
      },
      {
        "duration": 5,
        "start_time": "2023-01-05T18:31:59.238Z"
      },
      {
        "duration": 12,
        "start_time": "2023-01-05T18:31:59.244Z"
      },
      {
        "duration": 5,
        "start_time": "2023-01-05T18:31:59.257Z"
      },
      {
        "duration": 7,
        "start_time": "2023-01-05T18:31:59.264Z"
      },
      {
        "duration": 5,
        "start_time": "2023-01-05T18:31:59.273Z"
      },
      {
        "duration": 62,
        "start_time": "2023-01-05T18:31:59.280Z"
      },
      {
        "duration": 6,
        "start_time": "2023-01-05T18:31:59.343Z"
      },
      {
        "duration": 6,
        "start_time": "2023-01-05T18:31:59.351Z"
      },
      {
        "duration": 5,
        "start_time": "2023-01-05T18:31:59.358Z"
      },
      {
        "duration": 4,
        "start_time": "2023-01-05T18:31:59.365Z"
      },
      {
        "duration": 39,
        "start_time": "2023-01-05T18:31:59.370Z"
      },
      {
        "duration": 40423,
        "start_time": "2023-01-05T18:31:59.410Z"
      },
      {
        "duration": 1280,
        "start_time": "2023-01-05T18:42:33.772Z"
      },
      {
        "duration": 43,
        "start_time": "2023-01-05T18:42:35.053Z"
      },
      {
        "duration": 41,
        "start_time": "2023-01-05T18:42:35.098Z"
      },
      {
        "duration": 16,
        "start_time": "2023-01-05T18:42:35.141Z"
      },
      {
        "duration": 12,
        "start_time": "2023-01-05T18:42:35.159Z"
      },
      {
        "duration": 3,
        "start_time": "2023-01-05T18:42:35.173Z"
      },
      {
        "duration": 27,
        "start_time": "2023-01-05T18:42:35.178Z"
      },
      {
        "duration": 4,
        "start_time": "2023-01-05T18:42:35.207Z"
      },
      {
        "duration": 1079,
        "start_time": "2023-01-05T18:42:35.212Z"
      },
      {
        "duration": 307,
        "start_time": "2023-01-05T18:42:36.293Z"
      },
      {
        "duration": 306,
        "start_time": "2023-01-05T18:42:36.601Z"
      },
      {
        "duration": 1178,
        "start_time": "2023-01-05T18:42:36.909Z"
      },
      {
        "duration": 445,
        "start_time": "2023-01-05T18:42:38.088Z"
      },
      {
        "duration": 252,
        "start_time": "2023-01-05T18:42:38.537Z"
      },
      {
        "duration": 14,
        "start_time": "2023-01-05T18:42:38.791Z"
      },
      {
        "duration": 5,
        "start_time": "2023-01-05T18:42:38.806Z"
      },
      {
        "duration": 16,
        "start_time": "2023-01-05T18:42:38.813Z"
      },
      {
        "duration": 28,
        "start_time": "2023-01-05T18:42:38.830Z"
      },
      {
        "duration": 25,
        "start_time": "2023-01-05T18:42:38.860Z"
      },
      {
        "duration": 15,
        "start_time": "2023-01-05T18:42:38.886Z"
      },
      {
        "duration": 30,
        "start_time": "2023-01-05T18:42:38.902Z"
      },
      {
        "duration": 5,
        "start_time": "2023-01-05T18:42:38.934Z"
      },
      {
        "duration": 26,
        "start_time": "2023-01-05T18:42:38.941Z"
      },
      {
        "duration": 25,
        "start_time": "2023-01-05T18:42:38.969Z"
      },
      {
        "duration": 16,
        "start_time": "2023-01-05T18:42:38.996Z"
      },
      {
        "duration": 34,
        "start_time": "2023-01-05T18:42:39.013Z"
      },
      {
        "duration": 43,
        "start_time": "2023-01-05T18:42:39.048Z"
      },
      {
        "duration": 15,
        "start_time": "2023-01-05T18:42:39.092Z"
      },
      {
        "duration": 197,
        "start_time": "2023-01-05T18:42:39.109Z"
      },
      {
        "duration": 100,
        "start_time": "2023-01-05T18:42:39.309Z"
      },
      {
        "duration": 191,
        "start_time": "2023-01-05T18:42:39.416Z"
      },
      {
        "duration": 6,
        "start_time": "2023-01-05T18:42:39.609Z"
      },
      {
        "duration": 7,
        "start_time": "2023-01-05T18:42:39.616Z"
      },
      {
        "duration": 5,
        "start_time": "2023-01-05T18:42:39.624Z"
      },
      {
        "duration": 35,
        "start_time": "2023-01-05T18:42:39.630Z"
      },
      {
        "duration": 5,
        "start_time": "2023-01-05T18:42:39.666Z"
      },
      {
        "duration": 156,
        "start_time": "2023-01-05T18:42:39.673Z"
      },
      {
        "duration": 3,
        "start_time": "2023-01-05T18:42:39.831Z"
      },
      {
        "duration": 7,
        "start_time": "2023-01-05T18:42:39.835Z"
      },
      {
        "duration": 7,
        "start_time": "2023-01-05T18:42:39.844Z"
      },
      {
        "duration": 6,
        "start_time": "2023-01-05T18:42:39.855Z"
      },
      {
        "duration": 6,
        "start_time": "2023-01-05T18:42:39.862Z"
      },
      {
        "duration": 5,
        "start_time": "2023-01-05T18:42:39.869Z"
      },
      {
        "duration": 2017811,
        "start_time": "2023-01-05T18:42:39.875Z"
      },
      {
        "duration": 4,
        "start_time": "2023-01-05T19:16:17.688Z"
      },
      {
        "duration": 4,
        "start_time": "2023-01-05T19:16:17.705Z"
      },
      {
        "duration": 8,
        "start_time": "2023-01-05T19:16:17.711Z"
      },
      {
        "duration": 135,
        "start_time": "2023-01-05T19:16:17.721Z"
      },
      {
        "duration": 5,
        "start_time": "2023-01-05T19:16:17.858Z"
      },
      {
        "duration": 7,
        "start_time": "2023-01-05T19:16:17.864Z"
      },
      {
        "duration": 5,
        "start_time": "2023-01-05T19:16:17.872Z"
      },
      {
        "duration": 2056373,
        "start_time": "2023-01-05T19:16:17.879Z"
      },
      {
        "duration": 3,
        "start_time": "2023-01-05T19:50:34.254Z"
      },
      {
        "duration": 7,
        "start_time": "2023-01-05T19:50:34.259Z"
      },
      {
        "duration": 6,
        "start_time": "2023-01-05T19:50:34.268Z"
      },
      {
        "duration": 65,
        "start_time": "2023-01-05T19:50:34.276Z"
      },
      {
        "duration": 7,
        "start_time": "2023-01-05T19:50:34.342Z"
      },
      {
        "duration": 6,
        "start_time": "2023-01-05T19:50:34.351Z"
      },
      {
        "duration": 6,
        "start_time": "2023-01-05T19:50:34.359Z"
      },
      {
        "duration": 5,
        "start_time": "2023-01-05T19:50:34.367Z"
      },
      {
        "duration": 33,
        "start_time": "2023-01-05T19:50:34.373Z"
      },
      {
        "duration": 11,
        "start_time": "2023-01-05T19:50:34.408Z"
      },
      {
        "duration": 4669578,
        "start_time": "2023-01-05T19:50:34.420Z"
      },
      {
        "duration": 9,
        "start_time": "2023-01-05T21:08:23.999Z"
      },
      {
        "duration": 8,
        "start_time": "2023-01-05T21:08:24.009Z"
      },
      {
        "duration": 8,
        "start_time": "2023-01-05T21:08:24.018Z"
      },
      {
        "duration": 7,
        "start_time": "2023-01-05T21:08:24.027Z"
      },
      {
        "duration": 5,
        "start_time": "2023-01-05T21:08:24.036Z"
      },
      {
        "duration": 6,
        "start_time": "2023-01-05T21:08:24.042Z"
      },
      {
        "duration": 5,
        "start_time": "2023-01-05T21:08:24.049Z"
      },
      {
        "duration": 4,
        "start_time": "2023-01-05T21:08:24.055Z"
      },
      {
        "duration": 5,
        "start_time": "2023-01-05T21:08:24.060Z"
      },
      {
        "duration": 38,
        "start_time": "2023-01-05T21:08:24.067Z"
      },
      {
        "duration": 1063505,
        "start_time": "2023-01-05T21:08:24.107Z"
      },
      {
        "duration": 3,
        "start_time": "2023-01-05T21:26:07.614Z"
      },
      {
        "duration": 5,
        "start_time": "2023-01-05T21:26:07.618Z"
      },
      {
        "duration": 4,
        "start_time": "2023-01-05T21:26:07.625Z"
      },
      {
        "duration": 134,
        "start_time": "2023-01-05T21:26:07.630Z"
      },
      {
        "duration": 7,
        "start_time": "2023-01-05T21:26:07.768Z"
      },
      {
        "duration": 7,
        "start_time": "2023-01-05T21:26:07.776Z"
      },
      {
        "duration": 23,
        "start_time": "2023-01-05T21:26:07.784Z"
      },
      {
        "duration": 49,
        "start_time": "2023-01-05T21:26:07.808Z"
      },
      {
        "duration": 6,
        "start_time": "2023-01-05T21:26:07.859Z"
      },
      {
        "duration": 6,
        "start_time": "2023-01-05T21:26:07.867Z"
      },
      {
        "duration": 30,
        "start_time": "2023-01-05T21:26:07.875Z"
      },
      {
        "duration": 4,
        "start_time": "2023-01-05T21:26:07.907Z"
      },
      {
        "duration": 12,
        "start_time": "2023-01-05T21:26:07.913Z"
      },
      {
        "duration": 39643,
        "start_time": "2023-01-05T21:26:07.927Z"
      },
      {
        "duration": 1299,
        "start_time": "2023-01-05T21:46:30.158Z"
      },
      {
        "duration": 41,
        "start_time": "2023-01-05T21:46:31.459Z"
      },
      {
        "duration": 43,
        "start_time": "2023-01-05T21:46:31.502Z"
      },
      {
        "duration": 15,
        "start_time": "2023-01-05T21:46:31.547Z"
      },
      {
        "duration": 14,
        "start_time": "2023-01-05T21:46:31.564Z"
      },
      {
        "duration": 14,
        "start_time": "2023-01-05T21:46:31.580Z"
      },
      {
        "duration": 17,
        "start_time": "2023-01-05T21:46:31.596Z"
      },
      {
        "duration": 5,
        "start_time": "2023-01-05T21:46:31.615Z"
      },
      {
        "duration": 1041,
        "start_time": "2023-01-05T21:46:31.621Z"
      },
      {
        "duration": 304,
        "start_time": "2023-01-05T21:46:32.663Z"
      },
      {
        "duration": 271,
        "start_time": "2023-01-05T21:46:32.969Z"
      },
      {
        "duration": 1145,
        "start_time": "2023-01-05T21:46:33.241Z"
      },
      {
        "duration": 396,
        "start_time": "2023-01-05T21:46:34.387Z"
      },
      {
        "duration": 229,
        "start_time": "2023-01-05T21:46:34.785Z"
      },
      {
        "duration": 10,
        "start_time": "2023-01-05T21:46:35.015Z"
      },
      {
        "duration": 2,
        "start_time": "2023-01-05T21:46:35.027Z"
      },
      {
        "duration": 5,
        "start_time": "2023-01-05T21:46:35.030Z"
      },
      {
        "duration": 13,
        "start_time": "2023-01-05T21:46:35.036Z"
      },
      {
        "duration": 7,
        "start_time": "2023-01-05T21:46:35.050Z"
      },
      {
        "duration": 7,
        "start_time": "2023-01-05T21:46:35.058Z"
      },
      {
        "duration": 10,
        "start_time": "2023-01-05T21:46:35.066Z"
      },
      {
        "duration": 28,
        "start_time": "2023-01-05T21:46:35.077Z"
      },
      {
        "duration": 4,
        "start_time": "2023-01-05T21:46:35.106Z"
      },
      {
        "duration": 5,
        "start_time": "2023-01-05T21:46:35.112Z"
      },
      {
        "duration": 5,
        "start_time": "2023-01-05T21:46:35.119Z"
      },
      {
        "duration": 10,
        "start_time": "2023-01-05T21:46:35.125Z"
      },
      {
        "duration": 20,
        "start_time": "2023-01-05T21:46:35.137Z"
      },
      {
        "duration": 10,
        "start_time": "2023-01-05T21:46:35.159Z"
      },
      {
        "duration": 240,
        "start_time": "2023-01-05T21:46:35.170Z"
      },
      {
        "duration": 97,
        "start_time": "2023-01-05T21:46:35.412Z"
      },
      {
        "duration": 194,
        "start_time": "2023-01-05T21:46:35.511Z"
      },
      {
        "duration": 5,
        "start_time": "2023-01-05T21:46:35.707Z"
      },
      {
        "duration": 9,
        "start_time": "2023-01-05T21:46:35.714Z"
      },
      {
        "duration": 2,
        "start_time": "2023-01-05T21:46:35.724Z"
      },
      {
        "duration": 33,
        "start_time": "2023-01-05T21:46:35.728Z"
      },
      {
        "duration": 5,
        "start_time": "2023-01-05T21:46:35.763Z"
      },
      {
        "duration": 154,
        "start_time": "2023-01-05T21:46:35.770Z"
      },
      {
        "duration": 4,
        "start_time": "2023-01-05T21:46:35.925Z"
      },
      {
        "duration": 4,
        "start_time": "2023-01-05T21:46:35.930Z"
      },
      {
        "duration": 8,
        "start_time": "2023-01-05T21:46:35.936Z"
      },
      {
        "duration": 7,
        "start_time": "2023-01-05T21:46:35.948Z"
      },
      {
        "duration": 15,
        "start_time": "2023-01-05T21:46:35.957Z"
      },
      {
        "duration": 5,
        "start_time": "2023-01-05T21:46:35.973Z"
      },
      {
        "duration": 298342,
        "start_time": "2023-01-05T21:46:35.979Z"
      },
      {
        "duration": 3,
        "start_time": "2023-01-05T21:51:34.323Z"
      },
      {
        "duration": 12,
        "start_time": "2023-01-05T21:51:34.328Z"
      },
      {
        "duration": 5,
        "start_time": "2023-01-05T21:51:34.342Z"
      },
      {
        "duration": 128,
        "start_time": "2023-01-05T21:51:34.348Z"
      },
      {
        "duration": 7,
        "start_time": "2023-01-05T21:51:34.478Z"
      },
      {
        "duration": 19,
        "start_time": "2023-01-05T21:51:34.486Z"
      },
      {
        "duration": 6,
        "start_time": "2023-01-05T21:51:34.507Z"
      },
      {
        "duration": 94274,
        "start_time": "2023-01-05T21:51:34.515Z"
      },
      {
        "duration": 3,
        "start_time": "2023-01-05T21:53:08.791Z"
      },
      {
        "duration": 16,
        "start_time": "2023-01-05T21:53:08.804Z"
      },
      {
        "duration": 35,
        "start_time": "2023-01-05T21:53:08.822Z"
      },
      {
        "duration": 73,
        "start_time": "2023-01-05T21:53:08.859Z"
      },
      {
        "duration": 5,
        "start_time": "2023-01-05T21:53:08.934Z"
      },
      {
        "duration": 35,
        "start_time": "2023-01-05T21:53:08.940Z"
      },
      {
        "duration": 35,
        "start_time": "2023-01-05T21:53:08.977Z"
      },
      {
        "duration": 33,
        "start_time": "2023-01-05T21:53:09.014Z"
      },
      {
        "duration": 51,
        "start_time": "2023-01-05T21:53:09.048Z"
      },
      {
        "duration": 30,
        "start_time": "2023-01-05T21:53:09.101Z"
      },
      {
        "duration": 115325,
        "start_time": "2023-01-05T21:53:09.132Z"
      },
      {
        "duration": 3,
        "start_time": "2023-01-05T21:55:04.459Z"
      },
      {
        "duration": 23,
        "start_time": "2023-01-05T21:55:04.464Z"
      },
      {
        "duration": 23,
        "start_time": "2023-01-05T21:55:04.489Z"
      },
      {
        "duration": 27,
        "start_time": "2023-01-05T21:55:04.513Z"
      },
      {
        "duration": 10,
        "start_time": "2023-01-05T21:55:04.541Z"
      },
      {
        "duration": 7,
        "start_time": "2023-01-05T21:55:04.552Z"
      },
      {
        "duration": 5,
        "start_time": "2023-01-05T21:55:04.561Z"
      },
      {
        "duration": 6,
        "start_time": "2023-01-05T21:55:04.567Z"
      },
      {
        "duration": 6,
        "start_time": "2023-01-05T21:55:04.574Z"
      },
      {
        "duration": 11,
        "start_time": "2023-01-05T21:55:04.582Z"
      },
      {
        "duration": 1221,
        "start_time": "2023-01-05T21:55:41.444Z"
      },
      {
        "duration": 42,
        "start_time": "2023-01-05T21:55:42.667Z"
      },
      {
        "duration": 40,
        "start_time": "2023-01-05T21:55:42.710Z"
      },
      {
        "duration": 15,
        "start_time": "2023-01-05T21:55:42.752Z"
      },
      {
        "duration": 15,
        "start_time": "2023-01-05T21:55:42.769Z"
      },
      {
        "duration": 4,
        "start_time": "2023-01-05T21:55:42.786Z"
      },
      {
        "duration": 24,
        "start_time": "2023-01-05T21:55:42.792Z"
      },
      {
        "duration": 4,
        "start_time": "2023-01-05T21:55:42.818Z"
      },
      {
        "duration": 1031,
        "start_time": "2023-01-05T21:55:42.824Z"
      },
      {
        "duration": 314,
        "start_time": "2023-01-05T21:55:43.857Z"
      },
      {
        "duration": 272,
        "start_time": "2023-01-05T21:55:44.172Z"
      },
      {
        "duration": 1158,
        "start_time": "2023-01-05T21:55:44.446Z"
      },
      {
        "duration": 423,
        "start_time": "2023-01-05T21:55:45.606Z"
      },
      {
        "duration": 246,
        "start_time": "2023-01-05T21:55:46.032Z"
      },
      {
        "duration": 9,
        "start_time": "2023-01-05T21:55:46.280Z"
      },
      {
        "duration": 20,
        "start_time": "2023-01-05T21:55:46.290Z"
      },
      {
        "duration": 18,
        "start_time": "2023-01-05T21:55:46.311Z"
      },
      {
        "duration": 28,
        "start_time": "2023-01-05T21:55:46.330Z"
      },
      {
        "duration": 15,
        "start_time": "2023-01-05T21:55:46.360Z"
      },
      {
        "duration": 21,
        "start_time": "2023-01-05T21:55:46.376Z"
      },
      {
        "duration": 17,
        "start_time": "2023-01-05T21:55:46.399Z"
      },
      {
        "duration": 5,
        "start_time": "2023-01-05T21:55:46.417Z"
      },
      {
        "duration": 5,
        "start_time": "2023-01-05T21:55:46.424Z"
      },
      {
        "duration": 4,
        "start_time": "2023-01-05T21:55:46.431Z"
      },
      {
        "duration": 5,
        "start_time": "2023-01-05T21:55:46.436Z"
      },
      {
        "duration": 11,
        "start_time": "2023-01-05T21:55:46.442Z"
      },
      {
        "duration": 21,
        "start_time": "2023-01-05T21:55:46.454Z"
      },
      {
        "duration": 11,
        "start_time": "2023-01-05T21:55:46.476Z"
      },
      {
        "duration": 321,
        "start_time": "2023-01-05T21:55:46.488Z"
      },
      {
        "duration": 96,
        "start_time": "2023-01-05T21:55:46.811Z"
      },
      {
        "duration": 106,
        "start_time": "2023-01-05T21:55:46.910Z"
      },
      {
        "duration": 7,
        "start_time": "2023-01-05T21:55:47.018Z"
      },
      {
        "duration": 81,
        "start_time": "2023-01-05T21:55:47.027Z"
      },
      {
        "duration": 2,
        "start_time": "2023-01-05T21:55:47.110Z"
      },
      {
        "duration": 33,
        "start_time": "2023-01-05T21:55:47.114Z"
      },
      {
        "duration": 4,
        "start_time": "2023-01-05T21:55:47.149Z"
      },
      {
        "duration": 166,
        "start_time": "2023-01-05T21:55:47.155Z"
      },
      {
        "duration": 5,
        "start_time": "2023-01-05T21:55:47.323Z"
      },
      {
        "duration": 11,
        "start_time": "2023-01-05T21:55:47.329Z"
      },
      {
        "duration": 7,
        "start_time": "2023-01-05T21:55:47.341Z"
      },
      {
        "duration": 6,
        "start_time": "2023-01-05T21:55:47.352Z"
      },
      {
        "duration": 6,
        "start_time": "2023-01-05T21:55:47.359Z"
      },
      {
        "duration": 6,
        "start_time": "2023-01-05T21:55:47.367Z"
      },
      {
        "duration": 295947,
        "start_time": "2023-01-05T21:55:47.375Z"
      },
      {
        "duration": 4,
        "start_time": "2023-01-05T22:00:43.323Z"
      },
      {
        "duration": 6,
        "start_time": "2023-01-05T22:00:43.329Z"
      },
      {
        "duration": 7,
        "start_time": "2023-01-05T22:00:43.337Z"
      },
      {
        "duration": 120,
        "start_time": "2023-01-05T22:00:43.345Z"
      },
      {
        "duration": 5,
        "start_time": "2023-01-05T22:00:43.466Z"
      },
      {
        "duration": 5,
        "start_time": "2023-01-05T22:00:43.473Z"
      },
      {
        "duration": 9,
        "start_time": "2023-01-05T22:00:43.480Z"
      },
      {
        "duration": 93885,
        "start_time": "2023-01-05T22:00:43.490Z"
      },
      {
        "duration": 4,
        "start_time": "2023-01-05T22:02:17.377Z"
      },
      {
        "duration": 5,
        "start_time": "2023-01-05T22:02:17.382Z"
      },
      {
        "duration": 16,
        "start_time": "2023-01-05T22:02:17.389Z"
      },
      {
        "duration": 49,
        "start_time": "2023-01-05T22:02:17.406Z"
      },
      {
        "duration": 5,
        "start_time": "2023-01-05T22:02:17.457Z"
      },
      {
        "duration": 5,
        "start_time": "2023-01-05T22:02:17.464Z"
      },
      {
        "duration": 5,
        "start_time": "2023-01-05T22:02:17.471Z"
      },
      {
        "duration": 28,
        "start_time": "2023-01-05T22:02:17.477Z"
      },
      {
        "duration": 11,
        "start_time": "2023-01-05T22:02:17.506Z"
      },
      {
        "duration": 15,
        "start_time": "2023-01-05T22:02:17.518Z"
      },
      {
        "duration": 5389413,
        "start_time": "2023-01-05T22:02:17.534Z"
      },
      {
        "duration": 3,
        "start_time": "2023-01-05T23:32:06.949Z"
      },
      {
        "duration": 5,
        "start_time": "2023-01-05T23:32:06.954Z"
      },
      {
        "duration": 6,
        "start_time": "2023-01-05T23:32:06.960Z"
      },
      {
        "duration": 9,
        "start_time": "2023-01-05T23:32:06.968Z"
      },
      {
        "duration": 6,
        "start_time": "2023-01-05T23:32:06.978Z"
      },
      {
        "duration": 22,
        "start_time": "2023-01-05T23:32:06.985Z"
      },
      {
        "duration": 9,
        "start_time": "2023-01-05T23:32:07.010Z"
      },
      {
        "duration": 5,
        "start_time": "2023-01-05T23:32:07.020Z"
      },
      {
        "duration": 7,
        "start_time": "2023-01-05T23:32:07.026Z"
      },
      {
        "duration": 17,
        "start_time": "2023-01-05T23:32:07.034Z"
      },
      {
        "duration": 2796736,
        "start_time": "2023-01-05T23:32:07.053Z"
      },
      {
        "duration": 4,
        "start_time": "2023-01-06T00:18:43.791Z"
      },
      {
        "duration": 3,
        "start_time": "2023-01-06T00:18:43.804Z"
      },
      {
        "duration": 8,
        "start_time": "2023-01-06T00:18:43.808Z"
      },
      {
        "duration": 126,
        "start_time": "2023-01-06T00:18:43.817Z"
      },
      {
        "duration": 5,
        "start_time": "2023-01-06T00:18:43.944Z"
      },
      {
        "duration": 5,
        "start_time": "2023-01-06T00:18:43.951Z"
      },
      {
        "duration": 5,
        "start_time": "2023-01-06T00:18:43.958Z"
      },
      {
        "duration": 69,
        "start_time": "2023-01-06T00:18:43.964Z"
      },
      {
        "duration": 5,
        "start_time": "2023-01-06T00:18:44.035Z"
      },
      {
        "duration": 5,
        "start_time": "2023-01-06T00:18:44.041Z"
      },
      {
        "duration": 5,
        "start_time": "2023-01-06T00:18:44.047Z"
      },
      {
        "duration": 4,
        "start_time": "2023-01-06T00:18:44.054Z"
      },
      {
        "duration": 12,
        "start_time": "2023-01-06T00:18:44.059Z"
      },
      {
        "duration": 39393,
        "start_time": "2023-01-06T00:18:44.072Z"
      },
      {
        "duration": 7,
        "start_time": "2023-01-06T07:17:23.001Z"
      },
      {
        "duration": 5,
        "start_time": "2023-01-06T07:17:25.307Z"
      },
      {
        "duration": 6,
        "start_time": "2023-01-06T07:17:26.713Z"
      },
      {
        "duration": 5,
        "start_time": "2023-01-06T07:17:27.655Z"
      },
      {
        "duration": 369373,
        "start_time": "2023-01-06T07:27:22.793Z"
      },
      {
        "duration": 4,
        "start_time": "2023-01-06T07:35:35.972Z"
      },
      {
        "duration": 4,
        "start_time": "2023-01-06T07:35:38.520Z"
      },
      {
        "duration": 3,
        "start_time": "2023-01-06T07:35:43.067Z"
      },
      {
        "duration": 43,
        "start_time": "2023-01-06T07:35:43.747Z"
      },
      {
        "duration": 5,
        "start_time": "2023-01-06T07:35:44.373Z"
      },
      {
        "duration": 6,
        "start_time": "2023-01-06T07:35:45.318Z"
      },
      {
        "duration": 5,
        "start_time": "2023-01-06T07:35:47.013Z"
      },
      {
        "duration": 492442,
        "start_time": "2023-01-06T07:38:15.201Z"
      },
      {
        "duration": 46,
        "start_time": "2023-01-06T07:46:35.560Z"
      },
      {
        "duration": 7,
        "start_time": "2023-01-06T07:46:37.001Z"
      },
      {
        "duration": 6,
        "start_time": "2023-01-06T07:46:37.681Z"
      },
      {
        "duration": 6,
        "start_time": "2023-01-06T07:46:38.504Z"
      },
      {
        "duration": 1252,
        "start_time": "2023-01-06T08:52:38.624Z"
      },
      {
        "duration": 42,
        "start_time": "2023-01-06T08:52:39.878Z"
      },
      {
        "duration": 40,
        "start_time": "2023-01-06T08:52:39.922Z"
      },
      {
        "duration": 17,
        "start_time": "2023-01-06T08:52:39.963Z"
      },
      {
        "duration": 13,
        "start_time": "2023-01-06T08:52:39.982Z"
      },
      {
        "duration": 4,
        "start_time": "2023-01-06T08:52:39.996Z"
      },
      {
        "duration": 19,
        "start_time": "2023-01-06T08:52:40.002Z"
      },
      {
        "duration": 4,
        "start_time": "2023-01-06T08:52:40.023Z"
      },
      {
        "duration": 1043,
        "start_time": "2023-01-06T08:52:40.029Z"
      },
      {
        "duration": 302,
        "start_time": "2023-01-06T08:52:41.074Z"
      },
      {
        "duration": 277,
        "start_time": "2023-01-06T08:52:41.378Z"
      },
      {
        "duration": 1166,
        "start_time": "2023-01-06T08:52:41.657Z"
      },
      {
        "duration": 451,
        "start_time": "2023-01-06T08:52:42.825Z"
      },
      {
        "duration": 386,
        "start_time": "2023-01-06T08:52:43.279Z"
      },
      {
        "duration": 43,
        "start_time": "2023-01-06T08:52:43.666Z"
      },
      {
        "duration": 2,
        "start_time": "2023-01-06T08:52:43.711Z"
      },
      {
        "duration": 7,
        "start_time": "2023-01-06T08:52:43.715Z"
      },
      {
        "duration": 16,
        "start_time": "2023-01-06T08:52:43.723Z"
      },
      {
        "duration": 6,
        "start_time": "2023-01-06T08:52:43.740Z"
      },
      {
        "duration": 5,
        "start_time": "2023-01-06T08:52:43.748Z"
      },
      {
        "duration": 8,
        "start_time": "2023-01-06T08:52:43.755Z"
      },
      {
        "duration": 8,
        "start_time": "2023-01-06T08:52:43.764Z"
      },
      {
        "duration": 5,
        "start_time": "2023-01-06T08:52:43.773Z"
      },
      {
        "duration": 28,
        "start_time": "2023-01-06T08:52:43.779Z"
      },
      {
        "duration": 8,
        "start_time": "2023-01-06T08:52:43.808Z"
      },
      {
        "duration": 14,
        "start_time": "2023-01-06T08:52:43.817Z"
      },
      {
        "duration": 28,
        "start_time": "2023-01-06T08:52:43.832Z"
      },
      {
        "duration": 11,
        "start_time": "2023-01-06T08:52:43.861Z"
      },
      {
        "duration": 236,
        "start_time": "2023-01-06T08:52:43.873Z"
      },
      {
        "duration": 98,
        "start_time": "2023-01-06T08:52:44.111Z"
      },
      {
        "duration": 99,
        "start_time": "2023-01-06T08:52:44.212Z"
      },
      {
        "duration": 98,
        "start_time": "2023-01-06T08:52:44.313Z"
      },
      {
        "duration": 6,
        "start_time": "2023-01-06T08:52:44.412Z"
      },
      {
        "duration": 6,
        "start_time": "2023-01-06T08:52:44.419Z"
      },
      {
        "duration": 32,
        "start_time": "2023-01-06T08:52:44.426Z"
      },
      {
        "duration": 4,
        "start_time": "2023-01-06T08:52:44.460Z"
      },
      {
        "duration": 153,
        "start_time": "2023-01-06T08:52:44.466Z"
      },
      {
        "duration": 5,
        "start_time": "2023-01-06T08:52:44.620Z"
      },
      {
        "duration": 4,
        "start_time": "2023-01-06T08:52:44.626Z"
      },
      {
        "duration": 7,
        "start_time": "2023-01-06T08:52:44.631Z"
      },
      {
        "duration": 7,
        "start_time": "2023-01-06T08:52:44.642Z"
      },
      {
        "duration": 6,
        "start_time": "2023-01-06T08:52:44.650Z"
      },
      {
        "duration": 7,
        "start_time": "2023-01-06T08:52:44.657Z"
      },
      {
        "duration": 150248,
        "start_time": "2023-01-06T08:52:44.665Z"
      },
      {
        "duration": 3,
        "start_time": "2023-01-06T08:55:14.914Z"
      },
      {
        "duration": 9,
        "start_time": "2023-01-06T08:55:14.919Z"
      },
      {
        "duration": 4,
        "start_time": "2023-01-06T08:55:14.930Z"
      },
      {
        "duration": 126,
        "start_time": "2023-01-06T08:55:14.936Z"
      },
      {
        "duration": 7,
        "start_time": "2023-01-06T08:55:15.063Z"
      },
      {
        "duration": 6,
        "start_time": "2023-01-06T08:55:15.072Z"
      },
      {
        "duration": 26,
        "start_time": "2023-01-06T08:55:15.080Z"
      },
      {
        "duration": 62372,
        "start_time": "2023-01-06T08:55:15.108Z"
      },
      {
        "duration": 3,
        "start_time": "2023-01-06T08:56:17.481Z"
      },
      {
        "duration": 8,
        "start_time": "2023-01-06T08:56:17.486Z"
      },
      {
        "duration": 13,
        "start_time": "2023-01-06T08:56:17.495Z"
      },
      {
        "duration": 43,
        "start_time": "2023-01-06T08:56:17.510Z"
      },
      {
        "duration": 5,
        "start_time": "2023-01-06T08:56:17.554Z"
      },
      {
        "duration": 5,
        "start_time": "2023-01-06T08:56:17.561Z"
      },
      {
        "duration": 5,
        "start_time": "2023-01-06T08:56:17.567Z"
      },
      {
        "duration": 4,
        "start_time": "2023-01-06T08:56:17.573Z"
      },
      {
        "duration": 28,
        "start_time": "2023-01-06T08:56:17.578Z"
      },
      {
        "duration": 10,
        "start_time": "2023-01-06T08:56:17.607Z"
      },
      {
        "duration": 65330,
        "start_time": "2023-01-06T08:56:17.618Z"
      },
      {
        "duration": 4,
        "start_time": "2023-01-06T08:57:22.949Z"
      },
      {
        "duration": 13,
        "start_time": "2023-01-06T08:57:22.955Z"
      },
      {
        "duration": 9,
        "start_time": "2023-01-06T08:57:22.970Z"
      },
      {
        "duration": 53,
        "start_time": "2023-01-06T08:57:22.981Z"
      },
      {
        "duration": 6,
        "start_time": "2023-01-06T08:57:23.036Z"
      },
      {
        "duration": 7,
        "start_time": "2023-01-06T08:57:23.044Z"
      },
      {
        "duration": 10,
        "start_time": "2023-01-06T08:57:23.052Z"
      },
      {
        "duration": 14,
        "start_time": "2023-01-06T08:57:23.063Z"
      },
      {
        "duration": 17,
        "start_time": "2023-01-06T08:57:23.079Z"
      },
      {
        "duration": 30,
        "start_time": "2023-01-06T08:57:23.098Z"
      },
      {
        "duration": 24491,
        "start_time": "2023-01-06T08:57:23.129Z"
      },
      {
        "duration": 4,
        "start_time": "2023-01-06T08:57:47.622Z"
      },
      {
        "duration": 8,
        "start_time": "2023-01-06T08:57:47.627Z"
      },
      {
        "duration": 9,
        "start_time": "2023-01-06T08:57:47.637Z"
      },
      {
        "duration": 116,
        "start_time": "2023-01-06T08:57:47.647Z"
      },
      {
        "duration": 6,
        "start_time": "2023-01-06T08:57:47.764Z"
      },
      {
        "duration": 7,
        "start_time": "2023-01-06T08:57:47.771Z"
      },
      {
        "duration": 8,
        "start_time": "2023-01-06T08:57:47.780Z"
      },
      {
        "duration": 50,
        "start_time": "2023-01-06T08:57:47.789Z"
      },
      {
        "duration": 5,
        "start_time": "2023-01-06T08:57:47.841Z"
      },
      {
        "duration": 10,
        "start_time": "2023-01-06T08:57:47.847Z"
      },
      {
        "duration": 8,
        "start_time": "2023-01-06T08:57:47.859Z"
      },
      {
        "duration": 11,
        "start_time": "2023-01-06T08:57:47.869Z"
      },
      {
        "duration": 17,
        "start_time": "2023-01-06T08:57:47.881Z"
      },
      {
        "duration": 40283,
        "start_time": "2023-01-06T08:57:47.904Z"
      },
      {
        "duration": 1309,
        "start_time": "2023-01-06T09:01:57.412Z"
      },
      {
        "duration": 45,
        "start_time": "2023-01-06T09:01:58.723Z"
      },
      {
        "duration": 41,
        "start_time": "2023-01-06T09:01:58.770Z"
      },
      {
        "duration": 16,
        "start_time": "2023-01-06T09:01:58.813Z"
      },
      {
        "duration": 12,
        "start_time": "2023-01-06T09:01:58.831Z"
      },
      {
        "duration": 4,
        "start_time": "2023-01-06T09:01:58.845Z"
      },
      {
        "duration": 22,
        "start_time": "2023-01-06T09:01:58.850Z"
      },
      {
        "duration": 32,
        "start_time": "2023-01-06T09:01:58.873Z"
      },
      {
        "duration": 1056,
        "start_time": "2023-01-06T09:01:58.906Z"
      },
      {
        "duration": 337,
        "start_time": "2023-01-06T09:01:59.963Z"
      },
      {
        "duration": 289,
        "start_time": "2023-01-06T09:02:00.304Z"
      },
      {
        "duration": 1177,
        "start_time": "2023-01-06T09:02:00.595Z"
      },
      {
        "duration": 422,
        "start_time": "2023-01-06T09:02:01.774Z"
      },
      {
        "duration": 232,
        "start_time": "2023-01-06T09:02:02.204Z"
      },
      {
        "duration": 9,
        "start_time": "2023-01-06T09:02:02.438Z"
      },
      {
        "duration": 4,
        "start_time": "2023-01-06T09:02:02.448Z"
      },
      {
        "duration": 4,
        "start_time": "2023-01-06T09:02:02.454Z"
      },
      {
        "duration": 28,
        "start_time": "2023-01-06T09:02:02.460Z"
      },
      {
        "duration": 7,
        "start_time": "2023-01-06T09:02:02.489Z"
      },
      {
        "duration": 9,
        "start_time": "2023-01-06T09:02:02.497Z"
      },
      {
        "duration": 9,
        "start_time": "2023-01-06T09:02:02.508Z"
      },
      {
        "duration": 6,
        "start_time": "2023-01-06T09:02:02.518Z"
      },
      {
        "duration": 8,
        "start_time": "2023-01-06T09:02:02.526Z"
      },
      {
        "duration": 7,
        "start_time": "2023-01-06T09:02:02.535Z"
      },
      {
        "duration": 6,
        "start_time": "2023-01-06T09:02:02.544Z"
      },
      {
        "duration": 16,
        "start_time": "2023-01-06T09:02:02.551Z"
      },
      {
        "duration": 29,
        "start_time": "2023-01-06T09:02:02.568Z"
      },
      {
        "duration": 14,
        "start_time": "2023-01-06T09:02:02.598Z"
      },
      {
        "duration": 192,
        "start_time": "2023-01-06T09:02:02.614Z"
      },
      {
        "duration": 96,
        "start_time": "2023-01-06T09:02:02.810Z"
      },
      {
        "duration": 105,
        "start_time": "2023-01-06T09:02:02.909Z"
      },
      {
        "duration": 18,
        "start_time": "2023-01-06T09:02:03.015Z"
      },
      {
        "duration": 12,
        "start_time": "2023-01-06T09:02:03.034Z"
      },
      {
        "duration": 19,
        "start_time": "2023-01-06T09:02:03.048Z"
      },
      {
        "duration": 54,
        "start_time": "2023-01-06T09:02:03.068Z"
      },
      {
        "duration": 5,
        "start_time": "2023-01-06T09:02:03.123Z"
      },
      {
        "duration": 158,
        "start_time": "2023-01-06T09:02:03.129Z"
      },
      {
        "duration": 3,
        "start_time": "2023-01-06T09:02:03.289Z"
      },
      {
        "duration": 18,
        "start_time": "2023-01-06T09:02:03.294Z"
      },
      {
        "duration": 23,
        "start_time": "2023-01-06T09:02:03.313Z"
      },
      {
        "duration": 23,
        "start_time": "2023-01-06T09:02:03.341Z"
      },
      {
        "duration": 23,
        "start_time": "2023-01-06T09:02:03.365Z"
      },
      {
        "duration": 23,
        "start_time": "2023-01-06T09:02:03.390Z"
      },
      {
        "duration": 151201,
        "start_time": "2023-01-06T09:02:03.415Z"
      },
      {
        "duration": 5,
        "start_time": "2023-01-06T09:04:34.618Z"
      },
      {
        "duration": 6,
        "start_time": "2023-01-06T09:04:34.624Z"
      },
      {
        "duration": 7,
        "start_time": "2023-01-06T09:04:34.631Z"
      },
      {
        "duration": 118,
        "start_time": "2023-01-06T09:04:34.639Z"
      },
      {
        "duration": 5,
        "start_time": "2023-01-06T09:04:34.759Z"
      },
      {
        "duration": 7,
        "start_time": "2023-01-06T09:04:34.765Z"
      },
      {
        "duration": 7,
        "start_time": "2023-01-06T09:04:34.773Z"
      },
      {
        "duration": 46324,
        "start_time": "2023-01-06T09:04:34.782Z"
      },
      {
        "duration": 4,
        "start_time": "2023-01-06T09:05:21.108Z"
      },
      {
        "duration": 8,
        "start_time": "2023-01-06T09:05:21.114Z"
      },
      {
        "duration": 5,
        "start_time": "2023-01-06T09:05:21.123Z"
      },
      {
        "duration": 124,
        "start_time": "2023-01-06T09:05:21.129Z"
      },
      {
        "duration": 6,
        "start_time": "2023-01-06T09:05:21.255Z"
      },
      {
        "duration": 6,
        "start_time": "2023-01-06T09:05:21.263Z"
      },
      {
        "duration": 6,
        "start_time": "2023-01-06T09:05:21.270Z"
      },
      {
        "duration": 28,
        "start_time": "2023-01-06T09:05:21.278Z"
      },
      {
        "duration": 11,
        "start_time": "2023-01-06T09:05:21.307Z"
      },
      {
        "duration": 22,
        "start_time": "2023-01-06T09:05:21.319Z"
      },
      {
        "duration": 64534,
        "start_time": "2023-01-06T09:05:21.342Z"
      },
      {
        "duration": 3,
        "start_time": "2023-01-06T09:06:25.877Z"
      },
      {
        "duration": 9,
        "start_time": "2023-01-06T09:06:25.881Z"
      },
      {
        "duration": 14,
        "start_time": "2023-01-06T09:06:25.891Z"
      },
      {
        "duration": 120,
        "start_time": "2023-01-06T09:06:25.907Z"
      },
      {
        "duration": 6,
        "start_time": "2023-01-06T09:06:26.028Z"
      },
      {
        "duration": 6,
        "start_time": "2023-01-06T09:06:26.036Z"
      },
      {
        "duration": 6,
        "start_time": "2023-01-06T09:06:26.043Z"
      },
      {
        "duration": 5,
        "start_time": "2023-01-06T09:06:26.051Z"
      },
      {
        "duration": 8,
        "start_time": "2023-01-06T09:06:26.057Z"
      },
      {
        "duration": 13,
        "start_time": "2023-01-06T09:06:26.067Z"
      },
      {
        "duration": 23594,
        "start_time": "2023-01-06T09:06:26.104Z"
      },
      {
        "duration": 4,
        "start_time": "2023-01-06T09:06:49.704Z"
      },
      {
        "duration": 6,
        "start_time": "2023-01-06T09:06:49.709Z"
      },
      {
        "duration": 4,
        "start_time": "2023-01-06T09:06:49.717Z"
      },
      {
        "duration": 120,
        "start_time": "2023-01-06T09:06:49.723Z"
      },
      {
        "duration": 5,
        "start_time": "2023-01-06T09:06:49.845Z"
      },
      {
        "duration": 5,
        "start_time": "2023-01-06T09:06:49.851Z"
      },
      {
        "duration": 5,
        "start_time": "2023-01-06T09:06:49.857Z"
      },
      {
        "duration": 127,
        "start_time": "2023-01-06T09:06:49.863Z"
      },
      {
        "duration": 14,
        "start_time": "2023-01-06T09:06:49.991Z"
      },
      {
        "duration": 5,
        "start_time": "2023-01-06T09:06:50.006Z"
      },
      {
        "duration": 5,
        "start_time": "2023-01-06T09:06:50.013Z"
      },
      {
        "duration": 8,
        "start_time": "2023-01-06T09:06:50.019Z"
      },
      {
        "duration": 13,
        "start_time": "2023-01-06T09:06:50.029Z"
      },
      {
        "duration": 40264,
        "start_time": "2023-01-06T09:06:50.043Z"
      },
      {
        "duration": 1247,
        "start_time": "2023-01-06T09:09:28.412Z"
      },
      {
        "duration": 42,
        "start_time": "2023-01-06T09:09:29.660Z"
      },
      {
        "duration": 41,
        "start_time": "2023-01-06T09:09:29.704Z"
      },
      {
        "duration": 15,
        "start_time": "2023-01-06T09:09:29.747Z"
      },
      {
        "duration": 11,
        "start_time": "2023-01-06T09:09:29.763Z"
      },
      {
        "duration": 4,
        "start_time": "2023-01-06T09:09:29.776Z"
      },
      {
        "duration": 19,
        "start_time": "2023-01-06T09:09:29.782Z"
      },
      {
        "duration": 4,
        "start_time": "2023-01-06T09:09:29.802Z"
      },
      {
        "duration": 1119,
        "start_time": "2023-01-06T09:09:29.807Z"
      },
      {
        "duration": 321,
        "start_time": "2023-01-06T09:09:30.929Z"
      },
      {
        "duration": 300,
        "start_time": "2023-01-06T09:09:31.251Z"
      },
      {
        "duration": 1236,
        "start_time": "2023-01-06T09:09:31.553Z"
      },
      {
        "duration": 471,
        "start_time": "2023-01-06T09:09:32.790Z"
      },
      {
        "duration": 268,
        "start_time": "2023-01-06T09:09:33.263Z"
      },
      {
        "duration": 10,
        "start_time": "2023-01-06T09:09:33.533Z"
      },
      {
        "duration": 6,
        "start_time": "2023-01-06T09:09:33.545Z"
      },
      {
        "duration": 5,
        "start_time": "2023-01-06T09:09:33.553Z"
      },
      {
        "duration": 14,
        "start_time": "2023-01-06T09:09:33.559Z"
      },
      {
        "duration": 5,
        "start_time": "2023-01-06T09:09:33.575Z"
      },
      {
        "duration": 25,
        "start_time": "2023-01-06T09:09:33.582Z"
      },
      {
        "duration": 6,
        "start_time": "2023-01-06T09:09:33.609Z"
      },
      {
        "duration": 9,
        "start_time": "2023-01-06T09:09:33.616Z"
      },
      {
        "duration": 6,
        "start_time": "2023-01-06T09:09:33.626Z"
      },
      {
        "duration": 12,
        "start_time": "2023-01-06T09:09:33.633Z"
      },
      {
        "duration": 9,
        "start_time": "2023-01-06T09:09:33.646Z"
      },
      {
        "duration": 10,
        "start_time": "2023-01-06T09:09:33.657Z"
      },
      {
        "duration": 23,
        "start_time": "2023-01-06T09:09:33.669Z"
      },
      {
        "duration": 12,
        "start_time": "2023-01-06T09:09:33.704Z"
      },
      {
        "duration": 194,
        "start_time": "2023-01-06T09:09:33.717Z"
      },
      {
        "duration": 196,
        "start_time": "2023-01-06T09:09:33.913Z"
      },
      {
        "duration": 193,
        "start_time": "2023-01-06T09:09:34.112Z"
      },
      {
        "duration": 6,
        "start_time": "2023-01-06T09:09:34.307Z"
      },
      {
        "duration": 9,
        "start_time": "2023-01-06T09:09:34.314Z"
      },
      {
        "duration": 7,
        "start_time": "2023-01-06T09:09:34.325Z"
      },
      {
        "duration": 34,
        "start_time": "2023-01-06T09:09:34.333Z"
      },
      {
        "duration": 5,
        "start_time": "2023-01-06T09:09:34.369Z"
      },
      {
        "duration": 170,
        "start_time": "2023-01-06T09:09:34.375Z"
      },
      {
        "duration": 3,
        "start_time": "2023-01-06T09:09:34.546Z"
      },
      {
        "duration": 4,
        "start_time": "2023-01-06T09:09:34.551Z"
      },
      {
        "duration": 7,
        "start_time": "2023-01-06T09:09:34.556Z"
      },
      {
        "duration": 7,
        "start_time": "2023-01-06T09:09:34.564Z"
      },
      {
        "duration": 6,
        "start_time": "2023-01-06T09:09:34.572Z"
      },
      {
        "duration": 27,
        "start_time": "2023-01-06T09:09:34.579Z"
      },
      {
        "duration": 150321,
        "start_time": "2023-01-06T09:09:34.607Z"
      },
      {
        "duration": 4,
        "start_time": "2023-01-06T09:12:04.930Z"
      },
      {
        "duration": 10,
        "start_time": "2023-01-06T09:12:04.935Z"
      },
      {
        "duration": 7,
        "start_time": "2023-01-06T09:12:04.947Z"
      },
      {
        "duration": 123,
        "start_time": "2023-01-06T09:12:04.955Z"
      },
      {
        "duration": 5,
        "start_time": "2023-01-06T09:12:05.080Z"
      },
      {
        "duration": 18,
        "start_time": "2023-01-06T09:12:05.087Z"
      },
      {
        "duration": 6,
        "start_time": "2023-01-06T09:12:05.107Z"
      },
      {
        "duration": 100103,
        "start_time": "2023-01-06T09:12:05.114Z"
      },
      {
        "duration": 4,
        "start_time": "2023-01-06T09:13:45.218Z"
      },
      {
        "duration": 8,
        "start_time": "2023-01-06T09:13:45.223Z"
      },
      {
        "duration": 5,
        "start_time": "2023-01-06T09:13:45.233Z"
      },
      {
        "duration": 113,
        "start_time": "2023-01-06T09:13:45.240Z"
      },
      {
        "duration": 5,
        "start_time": "2023-01-06T09:13:45.354Z"
      },
      {
        "duration": 7,
        "start_time": "2023-01-06T09:13:45.361Z"
      },
      {
        "duration": 6,
        "start_time": "2023-01-06T09:13:45.369Z"
      },
      {
        "duration": 3,
        "start_time": "2023-01-06T09:13:45.377Z"
      },
      {
        "duration": 25,
        "start_time": "2023-01-06T09:13:45.381Z"
      },
      {
        "duration": 9,
        "start_time": "2023-01-06T09:13:45.408Z"
      },
      {
        "duration": 138144,
        "start_time": "2023-01-06T09:13:45.418Z"
      },
      {
        "duration": 4,
        "start_time": "2023-01-06T09:16:03.563Z"
      },
      {
        "duration": 34,
        "start_time": "2023-01-06T09:16:03.568Z"
      },
      {
        "duration": 24,
        "start_time": "2023-01-06T09:16:03.604Z"
      },
      {
        "duration": 121,
        "start_time": "2023-01-06T09:16:03.630Z"
      },
      {
        "duration": 7,
        "start_time": "2023-01-06T09:16:03.753Z"
      },
      {
        "duration": 30,
        "start_time": "2023-01-06T09:16:03.762Z"
      },
      {
        "duration": 33,
        "start_time": "2023-01-06T09:16:03.793Z"
      },
      {
        "duration": 16,
        "start_time": "2023-01-06T09:16:03.828Z"
      },
      {
        "duration": 30,
        "start_time": "2023-01-06T09:16:03.846Z"
      },
      {
        "duration": 21,
        "start_time": "2023-01-06T09:16:03.877Z"
      },
      {
        "duration": 23400,
        "start_time": "2023-01-06T09:16:03.899Z"
      },
      {
        "duration": 5,
        "start_time": "2023-01-06T09:16:27.305Z"
      },
      {
        "duration": 13,
        "start_time": "2023-01-06T09:16:27.312Z"
      },
      {
        "duration": 6,
        "start_time": "2023-01-06T09:16:27.327Z"
      },
      {
        "duration": 110,
        "start_time": "2023-01-06T09:16:27.334Z"
      },
      {
        "duration": 6,
        "start_time": "2023-01-06T09:16:27.445Z"
      },
      {
        "duration": 11,
        "start_time": "2023-01-06T09:16:27.452Z"
      },
      {
        "duration": 13,
        "start_time": "2023-01-06T09:16:27.464Z"
      },
      {
        "duration": 112,
        "start_time": "2023-01-06T09:16:27.482Z"
      },
      {
        "duration": 10,
        "start_time": "2023-01-06T09:16:27.595Z"
      },
      {
        "duration": 5,
        "start_time": "2023-01-06T09:16:27.607Z"
      },
      {
        "duration": 5,
        "start_time": "2023-01-06T09:16:27.613Z"
      },
      {
        "duration": 3,
        "start_time": "2023-01-06T09:16:27.620Z"
      },
      {
        "duration": 11,
        "start_time": "2023-01-06T09:16:27.625Z"
      },
      {
        "duration": 40432,
        "start_time": "2023-01-06T09:16:27.637Z"
      },
      {
        "duration": 99,
        "start_time": "2023-01-06T09:34:14.334Z"
      },
      {
        "duration": 1305,
        "start_time": "2023-01-06T09:34:28.858Z"
      },
      {
        "duration": 43,
        "start_time": "2023-01-06T09:34:30.165Z"
      },
      {
        "duration": 58,
        "start_time": "2023-01-06T09:34:30.210Z"
      },
      {
        "duration": 35,
        "start_time": "2023-01-06T09:34:30.270Z"
      },
      {
        "duration": 53,
        "start_time": "2023-01-06T09:34:30.308Z"
      },
      {
        "duration": 42,
        "start_time": "2023-01-06T09:34:30.363Z"
      },
      {
        "duration": 57,
        "start_time": "2023-01-06T09:34:30.407Z"
      },
      {
        "duration": 44,
        "start_time": "2023-01-06T09:34:30.466Z"
      },
      {
        "duration": 1140,
        "start_time": "2023-01-06T09:34:30.512Z"
      },
      {
        "duration": 324,
        "start_time": "2023-01-06T09:34:31.654Z"
      },
      {
        "duration": 300,
        "start_time": "2023-01-06T09:34:31.979Z"
      },
      {
        "duration": 1318,
        "start_time": "2023-01-06T09:34:32.281Z"
      },
      {
        "duration": 448,
        "start_time": "2023-01-06T09:34:33.600Z"
      },
      {
        "duration": 263,
        "start_time": "2023-01-06T09:34:34.051Z"
      },
      {
        "duration": 10,
        "start_time": "2023-01-06T09:34:34.316Z"
      },
      {
        "duration": 5,
        "start_time": "2023-01-06T09:34:34.327Z"
      },
      {
        "duration": 13,
        "start_time": "2023-01-06T09:34:34.333Z"
      },
      {
        "duration": 19,
        "start_time": "2023-01-06T09:34:34.348Z"
      },
      {
        "duration": 11,
        "start_time": "2023-01-06T09:34:34.369Z"
      },
      {
        "duration": 7,
        "start_time": "2023-01-06T09:34:34.381Z"
      },
      {
        "duration": 17,
        "start_time": "2023-01-06T09:34:34.389Z"
      },
      {
        "duration": 9,
        "start_time": "2023-01-06T09:34:34.408Z"
      },
      {
        "duration": 8,
        "start_time": "2023-01-06T09:34:34.419Z"
      },
      {
        "duration": 9,
        "start_time": "2023-01-06T09:34:34.429Z"
      },
      {
        "duration": 6,
        "start_time": "2023-01-06T09:34:34.439Z"
      },
      {
        "duration": 13,
        "start_time": "2023-01-06T09:34:34.447Z"
      },
      {
        "duration": 24,
        "start_time": "2023-01-06T09:34:34.461Z"
      },
      {
        "duration": 29,
        "start_time": "2023-01-06T09:34:34.486Z"
      },
      {
        "duration": 196,
        "start_time": "2023-01-06T09:34:34.516Z"
      },
      {
        "duration": 97,
        "start_time": "2023-01-06T09:34:34.714Z"
      },
      {
        "duration": 196,
        "start_time": "2023-01-06T09:34:34.813Z"
      },
      {
        "duration": 10,
        "start_time": "2023-01-06T09:34:35.011Z"
      },
      {
        "duration": 26,
        "start_time": "2023-01-06T09:34:35.022Z"
      },
      {
        "duration": 13,
        "start_time": "2023-01-06T09:34:35.049Z"
      },
      {
        "duration": 58,
        "start_time": "2023-01-06T09:34:35.064Z"
      },
      {
        "duration": 5,
        "start_time": "2023-01-06T09:34:35.124Z"
      },
      {
        "duration": 169,
        "start_time": "2023-01-06T09:34:35.130Z"
      },
      {
        "duration": 4,
        "start_time": "2023-01-06T09:34:35.301Z"
      },
      {
        "duration": 26,
        "start_time": "2023-01-06T09:34:35.307Z"
      },
      {
        "duration": 39,
        "start_time": "2023-01-06T09:34:35.335Z"
      },
      {
        "duration": 28,
        "start_time": "2023-01-06T09:34:35.379Z"
      },
      {
        "duration": 16,
        "start_time": "2023-01-06T09:34:35.409Z"
      },
      {
        "duration": 10,
        "start_time": "2023-01-06T09:34:35.427Z"
      },
      {
        "duration": 152566,
        "start_time": "2023-01-06T09:34:35.439Z"
      },
      {
        "duration": 3,
        "start_time": "2023-01-06T09:37:08.007Z"
      },
      {
        "duration": 7,
        "start_time": "2023-01-06T09:37:08.011Z"
      },
      {
        "duration": 7,
        "start_time": "2023-01-06T09:37:08.019Z"
      },
      {
        "duration": 112,
        "start_time": "2023-01-06T09:37:08.027Z"
      },
      {
        "duration": 123,
        "start_time": "2023-01-06T09:37:08.141Z"
      },
      {
        "duration": 5,
        "start_time": "2023-01-06T09:37:08.266Z"
      },
      {
        "duration": 8,
        "start_time": "2023-01-06T09:37:08.272Z"
      },
      {
        "duration": 4,
        "start_time": "2023-01-06T09:37:08.281Z"
      },
      {
        "duration": 101351,
        "start_time": "2023-01-06T09:37:08.286Z"
      },
      {
        "duration": 3,
        "start_time": "2023-01-06T09:38:49.639Z"
      },
      {
        "duration": 8,
        "start_time": "2023-01-06T09:38:49.644Z"
      },
      {
        "duration": 6,
        "start_time": "2023-01-06T09:38:49.653Z"
      },
      {
        "duration": 109,
        "start_time": "2023-01-06T09:38:49.660Z"
      },
      {
        "duration": 6,
        "start_time": "2023-01-06T09:38:49.770Z"
      },
      {
        "duration": 10,
        "start_time": "2023-01-06T09:38:49.777Z"
      },
      {
        "duration": 18,
        "start_time": "2023-01-06T09:38:49.788Z"
      },
      {
        "duration": 4,
        "start_time": "2023-01-06T09:38:49.807Z"
      },
      {
        "duration": 13,
        "start_time": "2023-01-06T09:38:49.813Z"
      },
      {
        "duration": 11,
        "start_time": "2023-01-06T09:38:49.827Z"
      },
      {
        "duration": 139214,
        "start_time": "2023-01-06T09:38:49.839Z"
      },
      {
        "duration": 3,
        "start_time": "2023-01-06T09:41:09.054Z"
      },
      {
        "duration": 19,
        "start_time": "2023-01-06T09:41:09.058Z"
      },
      {
        "duration": 15,
        "start_time": "2023-01-06T09:41:09.078Z"
      },
      {
        "duration": 91,
        "start_time": "2023-01-06T09:41:09.094Z"
      },
      {
        "duration": 5,
        "start_time": "2023-01-06T09:41:09.187Z"
      },
      {
        "duration": 15,
        "start_time": "2023-01-06T09:41:09.193Z"
      },
      {
        "duration": 11,
        "start_time": "2023-01-06T09:41:09.209Z"
      },
      {
        "duration": 35,
        "start_time": "2023-01-06T09:41:09.221Z"
      },
      {
        "duration": 19,
        "start_time": "2023-01-06T09:41:09.257Z"
      },
      {
        "duration": 15,
        "start_time": "2023-01-06T09:41:09.277Z"
      },
      {
        "duration": 23490,
        "start_time": "2023-01-06T09:41:09.294Z"
      },
      {
        "duration": 4,
        "start_time": "2023-01-06T09:41:32.786Z"
      },
      {
        "duration": 13,
        "start_time": "2023-01-06T09:41:32.792Z"
      },
      {
        "duration": 2,
        "start_time": "2023-01-06T09:41:32.807Z"
      },
      {
        "duration": 120,
        "start_time": "2023-01-06T09:41:32.811Z"
      },
      {
        "duration": 6,
        "start_time": "2023-01-06T09:41:32.933Z"
      },
      {
        "duration": 5,
        "start_time": "2023-01-06T09:41:32.941Z"
      },
      {
        "duration": 5,
        "start_time": "2023-01-06T09:41:32.948Z"
      },
      {
        "duration": 120,
        "start_time": "2023-01-06T09:41:32.955Z"
      },
      {
        "duration": 5,
        "start_time": "2023-01-06T09:41:33.077Z"
      },
      {
        "duration": 6,
        "start_time": "2023-01-06T09:41:33.083Z"
      },
      {
        "duration": 18,
        "start_time": "2023-01-06T09:41:33.090Z"
      },
      {
        "duration": 3,
        "start_time": "2023-01-06T09:41:33.110Z"
      },
      {
        "duration": 17,
        "start_time": "2023-01-06T09:41:33.115Z"
      },
      {
        "duration": 40219,
        "start_time": "2023-01-06T09:41:33.134Z"
      },
      {
        "duration": 1302,
        "start_time": "2023-01-06T09:44:57.667Z"
      },
      {
        "duration": 44,
        "start_time": "2023-01-06T09:44:58.971Z"
      },
      {
        "duration": 40,
        "start_time": "2023-01-06T09:44:59.017Z"
      },
      {
        "duration": 15,
        "start_time": "2023-01-06T09:44:59.059Z"
      },
      {
        "duration": 12,
        "start_time": "2023-01-06T09:44:59.075Z"
      },
      {
        "duration": 4,
        "start_time": "2023-01-06T09:44:59.089Z"
      },
      {
        "duration": 27,
        "start_time": "2023-01-06T09:44:59.094Z"
      },
      {
        "duration": 12,
        "start_time": "2023-01-06T09:44:59.122Z"
      },
      {
        "duration": 1059,
        "start_time": "2023-01-06T09:44:59.135Z"
      },
      {
        "duration": 323,
        "start_time": "2023-01-06T09:45:00.204Z"
      },
      {
        "duration": 290,
        "start_time": "2023-01-06T09:45:00.528Z"
      },
      {
        "duration": 1175,
        "start_time": "2023-01-06T09:45:00.819Z"
      },
      {
        "duration": 444,
        "start_time": "2023-01-06T09:45:01.996Z"
      },
      {
        "duration": 251,
        "start_time": "2023-01-06T09:45:02.442Z"
      },
      {
        "duration": 14,
        "start_time": "2023-01-06T09:45:02.695Z"
      },
      {
        "duration": 11,
        "start_time": "2023-01-06T09:45:02.710Z"
      },
      {
        "duration": 26,
        "start_time": "2023-01-06T09:45:02.723Z"
      },
      {
        "duration": 33,
        "start_time": "2023-01-06T09:45:02.751Z"
      },
      {
        "duration": 27,
        "start_time": "2023-01-06T09:45:02.786Z"
      },
      {
        "duration": 27,
        "start_time": "2023-01-06T09:45:02.814Z"
      },
      {
        "duration": 24,
        "start_time": "2023-01-06T09:45:02.842Z"
      },
      {
        "duration": 20,
        "start_time": "2023-01-06T09:45:02.868Z"
      },
      {
        "duration": 24,
        "start_time": "2023-01-06T09:45:02.890Z"
      },
      {
        "duration": 25,
        "start_time": "2023-01-06T09:45:02.916Z"
      },
      {
        "duration": 26,
        "start_time": "2023-01-06T09:45:02.943Z"
      },
      {
        "duration": 20,
        "start_time": "2023-01-06T09:45:02.971Z"
      },
      {
        "duration": 38,
        "start_time": "2023-01-06T09:45:02.993Z"
      },
      {
        "duration": 28,
        "start_time": "2023-01-06T09:45:03.036Z"
      },
      {
        "duration": 147,
        "start_time": "2023-01-06T09:45:03.066Z"
      },
      {
        "duration": 104,
        "start_time": "2023-01-06T09:45:03.306Z"
      },
      {
        "duration": 98,
        "start_time": "2023-01-06T09:45:03.413Z"
      },
      {
        "duration": 96,
        "start_time": "2023-01-06T09:45:03.513Z"
      },
      {
        "duration": 23,
        "start_time": "2023-01-06T09:45:03.611Z"
      },
      {
        "duration": 15,
        "start_time": "2023-01-06T09:45:03.636Z"
      },
      {
        "duration": 50,
        "start_time": "2023-01-06T09:45:03.653Z"
      },
      {
        "duration": 5,
        "start_time": "2023-01-06T09:45:03.704Z"
      },
      {
        "duration": 163,
        "start_time": "2023-01-06T09:45:03.710Z"
      },
      {
        "duration": 3,
        "start_time": "2023-01-06T09:45:03.875Z"
      },
      {
        "duration": 22,
        "start_time": "2023-01-06T09:45:03.880Z"
      },
      {
        "duration": 13,
        "start_time": "2023-01-06T09:45:03.903Z"
      },
      {
        "duration": 17,
        "start_time": "2023-01-06T09:45:03.917Z"
      },
      {
        "duration": 8,
        "start_time": "2023-01-06T09:45:03.935Z"
      },
      {
        "duration": 14,
        "start_time": "2023-01-06T09:45:03.944Z"
      },
      {
        "duration": 150447,
        "start_time": "2023-01-06T09:45:03.959Z"
      },
      {
        "duration": 3,
        "start_time": "2023-01-06T09:47:34.408Z"
      },
      {
        "duration": 26,
        "start_time": "2023-01-06T09:47:34.413Z"
      },
      {
        "duration": 18,
        "start_time": "2023-01-06T09:47:34.441Z"
      },
      {
        "duration": 131,
        "start_time": "2023-01-06T09:47:34.461Z"
      },
      {
        "duration": 117,
        "start_time": "2023-01-06T09:47:34.593Z"
      },
      {
        "duration": 6,
        "start_time": "2023-01-06T09:47:34.712Z"
      },
      {
        "duration": 20,
        "start_time": "2023-01-06T09:47:34.719Z"
      },
      {
        "duration": 19,
        "start_time": "2023-01-06T09:47:34.741Z"
      },
      {
        "duration": 103722,
        "start_time": "2023-01-06T09:47:34.762Z"
      },
      {
        "duration": 4,
        "start_time": "2023-01-06T09:49:18.485Z"
      },
      {
        "duration": 14,
        "start_time": "2023-01-06T09:49:18.491Z"
      },
      {
        "duration": 5,
        "start_time": "2023-01-06T09:49:18.507Z"
      },
      {
        "duration": 40,
        "start_time": "2023-01-06T09:49:18.514Z"
      },
      {
        "duration": 5,
        "start_time": "2023-01-06T09:49:18.556Z"
      },
      {
        "duration": 6,
        "start_time": "2023-01-06T09:49:18.563Z"
      },
      {
        "duration": 6,
        "start_time": "2023-01-06T09:49:18.570Z"
      },
      {
        "duration": 28,
        "start_time": "2023-01-06T09:49:18.578Z"
      },
      {
        "duration": 11,
        "start_time": "2023-01-06T09:49:18.608Z"
      },
      {
        "duration": 13,
        "start_time": "2023-01-06T09:49:18.621Z"
      },
      {
        "duration": 143057,
        "start_time": "2023-01-06T09:49:18.635Z"
      },
      {
        "duration": 12,
        "start_time": "2023-01-06T09:51:41.694Z"
      },
      {
        "duration": 9,
        "start_time": "2023-01-06T09:51:41.707Z"
      },
      {
        "duration": 7,
        "start_time": "2023-01-06T09:51:41.718Z"
      },
      {
        "duration": 29,
        "start_time": "2023-01-06T09:51:41.727Z"
      },
      {
        "duration": 7,
        "start_time": "2023-01-06T09:51:41.757Z"
      },
      {
        "duration": 6,
        "start_time": "2023-01-06T09:51:41.765Z"
      },
      {
        "duration": 34,
        "start_time": "2023-01-06T09:51:41.773Z"
      },
      {
        "duration": 4,
        "start_time": "2023-01-06T09:51:41.809Z"
      },
      {
        "duration": 7,
        "start_time": "2023-01-06T09:51:41.815Z"
      },
      {
        "duration": 11,
        "start_time": "2023-01-06T09:51:41.823Z"
      },
      {
        "duration": 22536,
        "start_time": "2023-01-06T09:51:41.836Z"
      },
      {
        "duration": 4,
        "start_time": "2023-01-06T09:52:04.374Z"
      },
      {
        "duration": 6,
        "start_time": "2023-01-06T09:52:04.379Z"
      },
      {
        "duration": 19,
        "start_time": "2023-01-06T09:52:04.386Z"
      },
      {
        "duration": 83,
        "start_time": "2023-01-06T09:52:04.406Z"
      },
      {
        "duration": 15,
        "start_time": "2023-01-06T09:52:04.490Z"
      },
      {
        "duration": 5,
        "start_time": "2023-01-06T09:52:04.506Z"
      },
      {
        "duration": 5,
        "start_time": "2023-01-06T09:52:04.516Z"
      },
      {
        "duration": 37,
        "start_time": "2023-01-06T09:52:04.522Z"
      },
      {
        "duration": 5,
        "start_time": "2023-01-06T09:52:04.561Z"
      },
      {
        "duration": 6,
        "start_time": "2023-01-06T09:52:04.567Z"
      },
      {
        "duration": 33,
        "start_time": "2023-01-06T09:52:04.574Z"
      },
      {
        "duration": 4,
        "start_time": "2023-01-06T09:52:04.609Z"
      },
      {
        "duration": 11,
        "start_time": "2023-01-06T09:52:04.614Z"
      },
      {
        "duration": 40344,
        "start_time": "2023-01-06T09:52:04.627Z"
      },
      {
        "duration": 1285,
        "start_time": "2023-01-06T09:57:32.093Z"
      },
      {
        "duration": 42,
        "start_time": "2023-01-06T09:57:33.380Z"
      },
      {
        "duration": 42,
        "start_time": "2023-01-06T09:57:33.423Z"
      },
      {
        "duration": 15,
        "start_time": "2023-01-06T09:57:33.466Z"
      },
      {
        "duration": 11,
        "start_time": "2023-01-06T09:57:33.483Z"
      },
      {
        "duration": 5,
        "start_time": "2023-01-06T09:57:33.496Z"
      },
      {
        "duration": 19,
        "start_time": "2023-01-06T09:57:33.503Z"
      },
      {
        "duration": 4,
        "start_time": "2023-01-06T09:57:33.523Z"
      },
      {
        "duration": 1051,
        "start_time": "2023-01-06T09:57:33.528Z"
      },
      {
        "duration": 313,
        "start_time": "2023-01-06T09:57:34.580Z"
      },
      {
        "duration": 295,
        "start_time": "2023-01-06T09:57:34.894Z"
      },
      {
        "duration": 1150,
        "start_time": "2023-01-06T09:57:35.190Z"
      },
      {
        "duration": 424,
        "start_time": "2023-01-06T09:57:36.342Z"
      },
      {
        "duration": 256,
        "start_time": "2023-01-06T09:57:36.769Z"
      },
      {
        "duration": 9,
        "start_time": "2023-01-06T09:57:37.026Z"
      },
      {
        "duration": 2,
        "start_time": "2023-01-06T09:57:37.037Z"
      },
      {
        "duration": 5,
        "start_time": "2023-01-06T09:57:37.041Z"
      },
      {
        "duration": 13,
        "start_time": "2023-01-06T09:57:37.047Z"
      },
      {
        "duration": 6,
        "start_time": "2023-01-06T09:57:37.061Z"
      },
      {
        "duration": 8,
        "start_time": "2023-01-06T09:57:37.068Z"
      },
      {
        "duration": 29,
        "start_time": "2023-01-06T09:57:37.078Z"
      },
      {
        "duration": 14,
        "start_time": "2023-01-06T09:57:37.109Z"
      },
      {
        "duration": 6,
        "start_time": "2023-01-06T09:57:37.125Z"
      },
      {
        "duration": 5,
        "start_time": "2023-01-06T09:57:37.132Z"
      },
      {
        "duration": 7,
        "start_time": "2023-01-06T09:57:37.138Z"
      },
      {
        "duration": 19,
        "start_time": "2023-01-06T09:57:37.147Z"
      },
      {
        "duration": 23,
        "start_time": "2023-01-06T09:57:37.168Z"
      },
      {
        "duration": 13,
        "start_time": "2023-01-06T09:57:37.192Z"
      },
      {
        "duration": 202,
        "start_time": "2023-01-06T09:57:37.206Z"
      },
      {
        "duration": 99,
        "start_time": "2023-01-06T09:57:37.410Z"
      },
      {
        "duration": 194,
        "start_time": "2023-01-06T09:57:37.511Z"
      },
      {
        "duration": 5,
        "start_time": "2023-01-06T09:57:37.707Z"
      },
      {
        "duration": 7,
        "start_time": "2023-01-06T09:57:37.713Z"
      },
      {
        "duration": 3,
        "start_time": "2023-01-06T09:57:37.722Z"
      },
      {
        "duration": 33,
        "start_time": "2023-01-06T09:57:37.727Z"
      },
      {
        "duration": 4,
        "start_time": "2023-01-06T09:57:37.762Z"
      },
      {
        "duration": 166,
        "start_time": "2023-01-06T09:57:37.767Z"
      },
      {
        "duration": 3,
        "start_time": "2023-01-06T09:57:37.935Z"
      },
      {
        "duration": 6,
        "start_time": "2023-01-06T09:57:37.940Z"
      },
      {
        "duration": 9,
        "start_time": "2023-01-06T09:57:37.947Z"
      },
      {
        "duration": 6,
        "start_time": "2023-01-06T09:57:37.963Z"
      },
      {
        "duration": 7,
        "start_time": "2023-01-06T09:57:37.971Z"
      },
      {
        "duration": 8,
        "start_time": "2023-01-06T09:57:38.005Z"
      },
      {
        "duration": 150569,
        "start_time": "2023-01-06T09:57:38.014Z"
      },
      {
        "duration": 3,
        "start_time": "2023-01-06T10:00:08.585Z"
      },
      {
        "duration": 19,
        "start_time": "2023-01-06T10:00:08.590Z"
      },
      {
        "duration": 28,
        "start_time": "2023-01-06T10:00:08.611Z"
      },
      {
        "duration": 127,
        "start_time": "2023-01-06T10:00:08.641Z"
      },
      {
        "duration": 114,
        "start_time": "2023-01-06T10:00:08.770Z"
      },
      {
        "duration": 6,
        "start_time": "2023-01-06T10:00:08.886Z"
      },
      {
        "duration": 27,
        "start_time": "2023-01-06T10:00:08.893Z"
      },
      {
        "duration": 24,
        "start_time": "2023-01-06T10:00:08.922Z"
      },
      {
        "duration": 104235,
        "start_time": "2023-01-06T10:00:08.948Z"
      },
      {
        "duration": 3,
        "start_time": "2023-01-06T10:01:53.185Z"
      },
      {
        "duration": 9,
        "start_time": "2023-01-06T10:01:53.189Z"
      },
      {
        "duration": 3,
        "start_time": "2023-01-06T10:01:53.205Z"
      },
      {
        "duration": 68,
        "start_time": "2023-01-06T10:01:53.210Z"
      },
      {
        "duration": 6,
        "start_time": "2023-01-06T10:01:53.279Z"
      },
      {
        "duration": 19,
        "start_time": "2023-01-06T10:01:53.286Z"
      },
      {
        "duration": 11,
        "start_time": "2023-01-06T10:01:53.307Z"
      },
      {
        "duration": 5,
        "start_time": "2023-01-06T10:01:53.319Z"
      },
      {
        "duration": 18,
        "start_time": "2023-01-06T10:01:53.325Z"
      },
      {
        "duration": 10,
        "start_time": "2023-01-06T10:01:53.345Z"
      },
      {
        "duration": 143215,
        "start_time": "2023-01-06T10:01:53.356Z"
      },
      {
        "duration": 3,
        "start_time": "2023-01-06T10:04:16.572Z"
      },
      {
        "duration": 35,
        "start_time": "2023-01-06T10:04:16.577Z"
      },
      {
        "duration": 30,
        "start_time": "2023-01-06T10:04:16.614Z"
      },
      {
        "duration": 50,
        "start_time": "2023-01-06T10:04:16.645Z"
      },
      {
        "duration": 5,
        "start_time": "2023-01-06T10:04:16.697Z"
      },
      {
        "duration": 25,
        "start_time": "2023-01-06T10:04:16.704Z"
      },
      {
        "duration": 28,
        "start_time": "2023-01-06T10:04:16.730Z"
      },
      {
        "duration": 10,
        "start_time": "2023-01-06T10:04:16.759Z"
      },
      {
        "duration": 6,
        "start_time": "2023-01-06T10:04:16.770Z"
      },
      {
        "duration": 10,
        "start_time": "2023-01-06T10:04:16.778Z"
      },
      {
        "duration": 22918,
        "start_time": "2023-01-06T10:04:16.789Z"
      },
      {
        "duration": 3,
        "start_time": "2023-01-06T10:04:39.709Z"
      },
      {
        "duration": 7,
        "start_time": "2023-01-06T10:04:39.713Z"
      },
      {
        "duration": 6,
        "start_time": "2023-01-06T10:04:39.721Z"
      },
      {
        "duration": 102,
        "start_time": "2023-01-06T10:04:39.728Z"
      },
      {
        "duration": 6,
        "start_time": "2023-01-06T10:04:39.831Z"
      },
      {
        "duration": 11,
        "start_time": "2023-01-06T10:04:39.838Z"
      },
      {
        "duration": 12,
        "start_time": "2023-01-06T10:04:39.851Z"
      },
      {
        "duration": 77,
        "start_time": "2023-01-06T10:04:39.864Z"
      },
      {
        "duration": 6,
        "start_time": "2023-01-06T10:04:39.943Z"
      },
      {
        "duration": 7,
        "start_time": "2023-01-06T10:04:39.950Z"
      },
      {
        "duration": 6,
        "start_time": "2023-01-06T10:04:39.959Z"
      },
      {
        "duration": 4,
        "start_time": "2023-01-06T10:04:39.967Z"
      },
      {
        "duration": 34,
        "start_time": "2023-01-06T10:04:39.972Z"
      },
      {
        "duration": 41012,
        "start_time": "2023-01-06T10:04:40.008Z"
      },
      {
        "duration": 59985,
        "start_time": "2023-01-06T10:20:42.206Z"
      },
      {
        "duration": 4,
        "start_time": "2023-01-06T10:24:02.106Z"
      },
      {
        "duration": 3,
        "start_time": "2023-01-06T10:24:04.373Z"
      },
      {
        "duration": 3,
        "start_time": "2023-01-06T10:24:12.889Z"
      },
      {
        "duration": 10,
        "start_time": "2023-01-06T10:24:13.472Z"
      },
      {
        "duration": 6,
        "start_time": "2023-01-06T10:24:14.137Z"
      },
      {
        "duration": 7,
        "start_time": "2023-01-06T10:24:14.791Z"
      },
      {
        "duration": 5,
        "start_time": "2023-01-06T10:24:17.748Z"
      },
      {
        "duration": 1304,
        "start_time": "2023-01-06T11:13:05.733Z"
      },
      {
        "duration": 45,
        "start_time": "2023-01-06T11:13:07.039Z"
      },
      {
        "duration": 41,
        "start_time": "2023-01-06T11:13:07.085Z"
      },
      {
        "duration": 17,
        "start_time": "2023-01-06T11:13:07.128Z"
      },
      {
        "duration": 13,
        "start_time": "2023-01-06T11:13:07.147Z"
      },
      {
        "duration": 4,
        "start_time": "2023-01-06T11:13:07.162Z"
      },
      {
        "duration": 19,
        "start_time": "2023-01-06T11:13:07.167Z"
      },
      {
        "duration": 21,
        "start_time": "2023-01-06T11:13:07.187Z"
      },
      {
        "duration": 1069,
        "start_time": "2023-01-06T11:13:07.209Z"
      },
      {
        "duration": 330,
        "start_time": "2023-01-06T11:13:08.280Z"
      },
      {
        "duration": 295,
        "start_time": "2023-01-06T11:13:08.612Z"
      },
      {
        "duration": 1181,
        "start_time": "2023-01-06T11:13:08.908Z"
      },
      {
        "duration": 429,
        "start_time": "2023-01-06T11:13:10.091Z"
      },
      {
        "duration": 250,
        "start_time": "2023-01-06T11:13:10.521Z"
      },
      {
        "duration": 10,
        "start_time": "2023-01-06T11:13:10.772Z"
      },
      {
        "duration": 6,
        "start_time": "2023-01-06T11:13:10.783Z"
      },
      {
        "duration": 14,
        "start_time": "2023-01-06T11:13:10.790Z"
      },
      {
        "duration": 14,
        "start_time": "2023-01-06T11:13:10.806Z"
      },
      {
        "duration": 9,
        "start_time": "2023-01-06T11:13:10.821Z"
      },
      {
        "duration": 5,
        "start_time": "2023-01-06T11:13:10.832Z"
      },
      {
        "duration": 5,
        "start_time": "2023-01-06T11:13:10.838Z"
      },
      {
        "duration": 4,
        "start_time": "2023-01-06T11:13:10.845Z"
      },
      {
        "duration": 7,
        "start_time": "2023-01-06T11:13:10.850Z"
      },
      {
        "duration": 5,
        "start_time": "2023-01-06T11:13:10.858Z"
      },
      {
        "duration": 25,
        "start_time": "2023-01-06T11:13:10.864Z"
      },
      {
        "duration": 19,
        "start_time": "2023-01-06T11:13:10.891Z"
      },
      {
        "duration": 32,
        "start_time": "2023-01-06T11:13:10.911Z"
      },
      {
        "duration": 10,
        "start_time": "2023-01-06T11:13:10.947Z"
      },
      {
        "duration": 250,
        "start_time": "2023-01-06T11:13:10.959Z"
      },
      {
        "duration": 97,
        "start_time": "2023-01-06T11:13:11.212Z"
      },
      {
        "duration": 190,
        "start_time": "2023-01-06T11:13:11.316Z"
      },
      {
        "duration": 15,
        "start_time": "2023-01-06T11:13:11.507Z"
      },
      {
        "duration": 35,
        "start_time": "2023-01-06T11:13:11.524Z"
      },
      {
        "duration": 13,
        "start_time": "2023-01-06T11:13:11.561Z"
      },
      {
        "duration": 56,
        "start_time": "2023-01-06T11:13:11.575Z"
      },
      {
        "duration": 4,
        "start_time": "2023-01-06T11:13:11.633Z"
      },
      {
        "duration": 149,
        "start_time": "2023-01-06T11:13:11.639Z"
      },
      {
        "duration": 3,
        "start_time": "2023-01-06T11:13:11.789Z"
      },
      {
        "duration": 29,
        "start_time": "2023-01-06T11:13:11.793Z"
      },
      {
        "duration": 17,
        "start_time": "2023-01-06T11:13:11.823Z"
      },
      {
        "duration": 12,
        "start_time": "2023-01-06T11:13:11.841Z"
      },
      {
        "duration": 6,
        "start_time": "2023-01-06T11:13:11.855Z"
      },
      {
        "duration": 5,
        "start_time": "2023-01-06T11:13:11.863Z"
      },
      {
        "duration": 149348,
        "start_time": "2023-01-06T11:13:11.869Z"
      },
      {
        "duration": 3,
        "start_time": "2023-01-06T11:15:41.219Z"
      },
      {
        "duration": 6,
        "start_time": "2023-01-06T11:15:41.223Z"
      },
      {
        "duration": 5,
        "start_time": "2023-01-06T11:15:41.231Z"
      },
      {
        "duration": 126,
        "start_time": "2023-01-06T11:15:41.237Z"
      },
      {
        "duration": 119,
        "start_time": "2023-01-06T11:15:41.365Z"
      },
      {
        "duration": 6,
        "start_time": "2023-01-06T11:15:41.486Z"
      },
      {
        "duration": 14,
        "start_time": "2023-01-06T11:15:41.494Z"
      },
      {
        "duration": 19,
        "start_time": "2023-01-06T11:15:41.509Z"
      },
      {
        "duration": 98057,
        "start_time": "2023-01-06T11:15:41.530Z"
      },
      {
        "duration": 3,
        "start_time": "2023-01-06T11:17:19.589Z"
      },
      {
        "duration": 14,
        "start_time": "2023-01-06T11:17:19.593Z"
      },
      {
        "duration": 4,
        "start_time": "2023-01-06T11:17:19.608Z"
      },
      {
        "duration": 62,
        "start_time": "2023-01-06T11:17:19.614Z"
      },
      {
        "duration": 73,
        "start_time": "2023-01-06T11:17:19.678Z"
      },
      {
        "duration": 5,
        "start_time": "2023-01-06T11:17:19.753Z"
      },
      {
        "duration": 5,
        "start_time": "2023-01-06T11:17:19.760Z"
      },
      {
        "duration": 5,
        "start_time": "2023-01-06T11:17:19.767Z"
      },
      {
        "duration": 4,
        "start_time": "2023-01-06T11:17:19.773Z"
      },
      {
        "duration": 28,
        "start_time": "2023-01-06T11:17:19.778Z"
      },
      {
        "duration": 11,
        "start_time": "2023-01-06T11:17:19.807Z"
      },
      {
        "duration": 56762,
        "start_time": "2023-01-06T11:17:19.820Z"
      },
      {
        "duration": 4,
        "start_time": "2023-01-06T11:18:16.583Z"
      },
      {
        "duration": 17,
        "start_time": "2023-01-06T11:18:16.588Z"
      },
      {
        "duration": 7,
        "start_time": "2023-01-06T11:18:16.606Z"
      },
      {
        "duration": 14,
        "start_time": "2023-01-06T11:18:16.615Z"
      },
      {
        "duration": 14,
        "start_time": "2023-01-06T11:18:16.631Z"
      },
      {
        "duration": 6,
        "start_time": "2023-01-06T11:18:16.646Z"
      },
      {
        "duration": 6,
        "start_time": "2023-01-06T11:18:16.653Z"
      },
      {
        "duration": 6,
        "start_time": "2023-01-06T11:18:16.661Z"
      },
      {
        "duration": 4,
        "start_time": "2023-01-06T11:18:16.668Z"
      },
      {
        "duration": 5,
        "start_time": "2023-01-06T11:18:16.705Z"
      },
      {
        "duration": 10,
        "start_time": "2023-01-06T11:18:16.711Z"
      },
      {
        "duration": 78397,
        "start_time": "2023-01-06T11:18:16.722Z"
      },
      {
        "duration": 3,
        "start_time": "2023-01-06T11:19:35.122Z"
      },
      {
        "duration": 24,
        "start_time": "2023-01-06T11:19:35.127Z"
      },
      {
        "duration": 30,
        "start_time": "2023-01-06T11:19:35.153Z"
      },
      {
        "duration": 174,
        "start_time": "2023-01-06T11:19:35.185Z"
      },
      {
        "duration": 150,
        "start_time": "2023-01-06T11:19:35.364Z"
      },
      {
        "duration": 5,
        "start_time": "2023-01-06T11:19:35.516Z"
      },
      {
        "duration": 22,
        "start_time": "2023-01-06T11:19:35.523Z"
      },
      {
        "duration": 22,
        "start_time": "2023-01-06T11:19:35.547Z"
      },
      {
        "duration": 87,
        "start_time": "2023-01-06T11:19:35.570Z"
      },
      {
        "duration": 6,
        "start_time": "2023-01-06T11:19:35.659Z"
      },
      {
        "duration": 6,
        "start_time": "2023-01-06T11:19:35.666Z"
      },
      {
        "duration": 5,
        "start_time": "2023-01-06T11:19:35.674Z"
      },
      {
        "duration": 3,
        "start_time": "2023-01-06T11:19:35.681Z"
      },
      {
        "duration": 11,
        "start_time": "2023-01-06T11:19:35.704Z"
      },
      {
        "duration": 40822,
        "start_time": "2023-01-06T11:19:35.716Z"
      },
      {
        "duration": 1291,
        "start_time": "2023-01-06T11:33:52.873Z"
      },
      {
        "duration": 41,
        "start_time": "2023-01-06T11:33:54.166Z"
      },
      {
        "duration": 40,
        "start_time": "2023-01-06T11:33:54.208Z"
      },
      {
        "duration": 16,
        "start_time": "2023-01-06T11:33:54.249Z"
      },
      {
        "duration": 12,
        "start_time": "2023-01-06T11:33:54.266Z"
      },
      {
        "duration": 4,
        "start_time": "2023-01-06T11:33:54.279Z"
      },
      {
        "duration": 24,
        "start_time": "2023-01-06T11:33:54.284Z"
      },
      {
        "duration": 3,
        "start_time": "2023-01-06T11:33:54.310Z"
      },
      {
        "duration": 1056,
        "start_time": "2023-01-06T11:33:54.315Z"
      },
      {
        "duration": 312,
        "start_time": "2023-01-06T11:33:55.373Z"
      },
      {
        "duration": 293,
        "start_time": "2023-01-06T11:33:55.686Z"
      },
      {
        "duration": 1167,
        "start_time": "2023-01-06T11:33:55.981Z"
      },
      {
        "duration": 426,
        "start_time": "2023-01-06T11:33:57.151Z"
      },
      {
        "duration": 236,
        "start_time": "2023-01-06T11:33:57.580Z"
      },
      {
        "duration": 8,
        "start_time": "2023-01-06T11:33:57.818Z"
      },
      {
        "duration": 3,
        "start_time": "2023-01-06T11:33:57.828Z"
      },
      {
        "duration": 10,
        "start_time": "2023-01-06T11:33:57.832Z"
      },
      {
        "duration": 12,
        "start_time": "2023-01-06T11:33:57.843Z"
      },
      {
        "duration": 5,
        "start_time": "2023-01-06T11:33:57.856Z"
      },
      {
        "duration": 5,
        "start_time": "2023-01-06T11:33:57.863Z"
      },
      {
        "duration": 6,
        "start_time": "2023-01-06T11:33:57.869Z"
      },
      {
        "duration": 8,
        "start_time": "2023-01-06T11:33:57.877Z"
      },
      {
        "duration": 19,
        "start_time": "2023-01-06T11:33:57.886Z"
      },
      {
        "duration": 4,
        "start_time": "2023-01-06T11:33:57.907Z"
      },
      {
        "duration": 5,
        "start_time": "2023-01-06T11:33:57.912Z"
      },
      {
        "duration": 10,
        "start_time": "2023-01-06T11:33:57.918Z"
      },
      {
        "duration": 22,
        "start_time": "2023-01-06T11:33:57.930Z"
      },
      {
        "duration": 15,
        "start_time": "2023-01-06T11:33:57.953Z"
      },
      {
        "duration": 237,
        "start_time": "2023-01-06T11:33:57.970Z"
      },
      {
        "duration": 96,
        "start_time": "2023-01-06T11:33:58.210Z"
      },
      {
        "duration": 103,
        "start_time": "2023-01-06T11:33:58.309Z"
      },
      {
        "duration": 11,
        "start_time": "2023-01-06T11:33:58.414Z"
      },
      {
        "duration": 80,
        "start_time": "2023-01-06T11:33:58.427Z"
      },
      {
        "duration": 3,
        "start_time": "2023-01-06T11:33:58.508Z"
      },
      {
        "duration": 36,
        "start_time": "2023-01-06T11:33:58.512Z"
      },
      {
        "duration": 5,
        "start_time": "2023-01-06T11:33:58.550Z"
      },
      {
        "duration": 159,
        "start_time": "2023-01-06T11:33:58.556Z"
      },
      {
        "duration": 3,
        "start_time": "2023-01-06T11:33:58.717Z"
      },
      {
        "duration": 5,
        "start_time": "2023-01-06T11:33:58.721Z"
      },
      {
        "duration": 11,
        "start_time": "2023-01-06T11:33:58.728Z"
      },
      {
        "duration": 5,
        "start_time": "2023-01-06T11:33:58.745Z"
      },
      {
        "duration": 5,
        "start_time": "2023-01-06T11:33:58.752Z"
      },
      {
        "duration": 5,
        "start_time": "2023-01-06T11:33:58.759Z"
      },
      {
        "duration": 150740,
        "start_time": "2023-01-06T11:33:58.765Z"
      },
      {
        "duration": 4,
        "start_time": "2023-01-06T11:36:29.507Z"
      },
      {
        "duration": 6,
        "start_time": "2023-01-06T11:36:29.513Z"
      },
      {
        "duration": 5,
        "start_time": "2023-01-06T11:36:29.521Z"
      },
      {
        "duration": 130,
        "start_time": "2023-01-06T11:36:29.528Z"
      },
      {
        "duration": 115,
        "start_time": "2023-01-06T11:36:29.659Z"
      },
      {
        "duration": 6,
        "start_time": "2023-01-06T11:36:29.776Z"
      },
      {
        "duration": 22,
        "start_time": "2023-01-06T11:36:29.784Z"
      },
      {
        "duration": 7,
        "start_time": "2023-01-06T11:36:29.808Z"
      },
      {
        "duration": 97825,
        "start_time": "2023-01-06T11:36:29.817Z"
      },
      {
        "duration": 3,
        "start_time": "2023-01-06T11:38:07.644Z"
      },
      {
        "duration": 9,
        "start_time": "2023-01-06T11:38:07.648Z"
      },
      {
        "duration": 5,
        "start_time": "2023-01-06T11:38:07.658Z"
      },
      {
        "duration": 75,
        "start_time": "2023-01-06T11:38:07.664Z"
      },
      {
        "duration": 65,
        "start_time": "2023-01-06T11:38:07.741Z"
      },
      {
        "duration": 6,
        "start_time": "2023-01-06T11:38:07.808Z"
      },
      {
        "duration": 6,
        "start_time": "2023-01-06T11:38:07.815Z"
      },
      {
        "duration": 6,
        "start_time": "2023-01-06T11:38:07.823Z"
      },
      {
        "duration": 4,
        "start_time": "2023-01-06T11:38:07.830Z"
      },
      {
        "duration": 11,
        "start_time": "2023-01-06T11:38:07.836Z"
      },
      {
        "duration": 10,
        "start_time": "2023-01-06T11:38:07.848Z"
      },
      {
        "duration": 130194,
        "start_time": "2023-01-06T11:38:07.859Z"
      },
      {
        "duration": 3,
        "start_time": "2023-01-06T11:40:18.055Z"
      },
      {
        "duration": 8,
        "start_time": "2023-01-06T11:40:18.059Z"
      },
      {
        "duration": 6,
        "start_time": "2023-01-06T11:40:18.068Z"
      },
      {
        "duration": 16,
        "start_time": "2023-01-06T11:40:18.076Z"
      },
      {
        "duration": 23,
        "start_time": "2023-01-06T11:40:18.093Z"
      },
      {
        "duration": 5,
        "start_time": "2023-01-06T11:40:18.118Z"
      },
      {
        "duration": 5,
        "start_time": "2023-01-06T11:40:18.125Z"
      },
      {
        "duration": 8,
        "start_time": "2023-01-06T11:40:18.131Z"
      },
      {
        "duration": 3,
        "start_time": "2023-01-06T11:40:18.141Z"
      },
      {
        "duration": 6,
        "start_time": "2023-01-06T11:40:18.146Z"
      },
      {
        "duration": 10,
        "start_time": "2023-01-06T11:40:18.154Z"
      },
      {
        "duration": 294115,
        "start_time": "2023-01-06T11:40:18.166Z"
      },
      {
        "duration": 4,
        "start_time": "2023-01-06T11:45:12.283Z"
      },
      {
        "duration": 17,
        "start_time": "2023-01-06T11:45:12.289Z"
      },
      {
        "duration": 9,
        "start_time": "2023-01-06T11:45:12.308Z"
      },
      {
        "duration": 122,
        "start_time": "2023-01-06T11:45:12.319Z"
      },
      {
        "duration": 122,
        "start_time": "2023-01-06T11:45:12.443Z"
      },
      {
        "duration": 5,
        "start_time": "2023-01-06T11:45:12.567Z"
      },
      {
        "duration": 8,
        "start_time": "2023-01-06T11:45:12.573Z"
      },
      {
        "duration": 9,
        "start_time": "2023-01-06T11:45:12.582Z"
      },
      {
        "duration": 61,
        "start_time": "2023-01-06T11:45:12.604Z"
      },
      {
        "duration": 71,
        "start_time": "2023-01-06T11:45:12.667Z"
      },
      {
        "duration": 6,
        "start_time": "2023-01-06T11:45:12.740Z"
      },
      {
        "duration": 4,
        "start_time": "2023-01-06T11:45:12.749Z"
      },
      {
        "duration": 4,
        "start_time": "2023-01-06T11:45:12.755Z"
      },
      {
        "duration": 6,
        "start_time": "2023-01-06T11:45:12.760Z"
      },
      {
        "duration": 10,
        "start_time": "2023-01-06T11:45:12.768Z"
      },
      {
        "duration": 39722,
        "start_time": "2023-01-06T11:45:12.780Z"
      },
      {
        "duration": 1238,
        "start_time": "2023-01-06T11:48:01.413Z"
      },
      {
        "duration": 40,
        "start_time": "2023-01-06T11:48:02.653Z"
      },
      {
        "duration": 40,
        "start_time": "2023-01-06T11:48:02.695Z"
      },
      {
        "duration": 15,
        "start_time": "2023-01-06T11:48:02.737Z"
      },
      {
        "duration": 10,
        "start_time": "2023-01-06T11:48:02.754Z"
      },
      {
        "duration": 11,
        "start_time": "2023-01-06T11:48:02.765Z"
      },
      {
        "duration": 20,
        "start_time": "2023-01-06T11:48:02.777Z"
      },
      {
        "duration": 7,
        "start_time": "2023-01-06T11:48:02.798Z"
      },
      {
        "duration": 1027,
        "start_time": "2023-01-06T11:48:02.806Z"
      },
      {
        "duration": 316,
        "start_time": "2023-01-06T11:48:03.835Z"
      },
      {
        "duration": 285,
        "start_time": "2023-01-06T11:48:04.152Z"
      },
      {
        "duration": 1184,
        "start_time": "2023-01-06T11:48:04.439Z"
      },
      {
        "duration": 437,
        "start_time": "2023-01-06T11:48:05.625Z"
      },
      {
        "duration": 250,
        "start_time": "2023-01-06T11:48:06.063Z"
      },
      {
        "duration": 9,
        "start_time": "2023-01-06T11:48:06.314Z"
      },
      {
        "duration": 5,
        "start_time": "2023-01-06T11:48:06.324Z"
      },
      {
        "duration": 5,
        "start_time": "2023-01-06T11:48:06.331Z"
      },
      {
        "duration": 13,
        "start_time": "2023-01-06T11:48:06.337Z"
      },
      {
        "duration": 6,
        "start_time": "2023-01-06T11:48:06.351Z"
      },
      {
        "duration": 5,
        "start_time": "2023-01-06T11:48:06.358Z"
      },
      {
        "duration": 7,
        "start_time": "2023-01-06T11:48:06.364Z"
      },
      {
        "duration": 5,
        "start_time": "2023-01-06T11:48:06.372Z"
      },
      {
        "duration": 27,
        "start_time": "2023-01-06T11:48:06.378Z"
      },
      {
        "duration": 2,
        "start_time": "2023-01-06T11:48:06.407Z"
      },
      {
        "duration": 5,
        "start_time": "2023-01-06T11:48:06.411Z"
      },
      {
        "duration": 12,
        "start_time": "2023-01-06T11:48:06.417Z"
      },
      {
        "duration": 21,
        "start_time": "2023-01-06T11:48:06.431Z"
      },
      {
        "duration": 11,
        "start_time": "2023-01-06T11:48:06.456Z"
      },
      {
        "duration": 243,
        "start_time": "2023-01-06T11:48:06.468Z"
      },
      {
        "duration": 92,
        "start_time": "2023-01-06T11:48:06.715Z"
      },
      {
        "duration": 102,
        "start_time": "2023-01-06T11:48:06.809Z"
      },
      {
        "duration": 96,
        "start_time": "2023-01-06T11:48:06.913Z"
      },
      {
        "duration": 8,
        "start_time": "2023-01-06T11:48:07.011Z"
      },
      {
        "duration": 3,
        "start_time": "2023-01-06T11:48:07.020Z"
      },
      {
        "duration": 31,
        "start_time": "2023-01-06T11:48:07.025Z"
      },
      {
        "duration": 4,
        "start_time": "2023-01-06T11:48:07.057Z"
      },
      {
        "duration": 149,
        "start_time": "2023-01-06T11:48:07.062Z"
      },
      {
        "duration": 3,
        "start_time": "2023-01-06T11:48:07.213Z"
      },
      {
        "duration": 4,
        "start_time": "2023-01-06T11:48:07.218Z"
      },
      {
        "duration": 7,
        "start_time": "2023-01-06T11:48:07.223Z"
      },
      {
        "duration": 7,
        "start_time": "2023-01-06T11:48:07.231Z"
      },
      {
        "duration": 5,
        "start_time": "2023-01-06T11:48:07.240Z"
      },
      {
        "duration": 4,
        "start_time": "2023-01-06T11:48:07.247Z"
      },
      {
        "duration": 150599,
        "start_time": "2023-01-06T11:48:07.253Z"
      },
      {
        "duration": 4,
        "start_time": "2023-01-06T11:50:37.854Z"
      },
      {
        "duration": 6,
        "start_time": "2023-01-06T11:50:37.860Z"
      },
      {
        "duration": 5,
        "start_time": "2023-01-06T11:50:37.867Z"
      },
      {
        "duration": 130,
        "start_time": "2023-01-06T11:50:37.874Z"
      },
      {
        "duration": 119,
        "start_time": "2023-01-06T11:50:38.006Z"
      },
      {
        "duration": 6,
        "start_time": "2023-01-06T11:50:38.127Z"
      },
      {
        "duration": 15,
        "start_time": "2023-01-06T11:50:38.135Z"
      },
      {
        "duration": 10,
        "start_time": "2023-01-06T11:50:38.151Z"
      },
      {
        "duration": 44,
        "start_time": "2023-01-06T11:50:38.162Z"
      },
      {
        "duration": 0,
        "start_time": "2023-01-06T11:50:38.208Z"
      },
      {
        "duration": 0,
        "start_time": "2023-01-06T11:50:38.209Z"
      },
      {
        "duration": 0,
        "start_time": "2023-01-06T11:50:38.209Z"
      },
      {
        "duration": 0,
        "start_time": "2023-01-06T11:50:38.211Z"
      },
      {
        "duration": 0,
        "start_time": "2023-01-06T11:50:38.211Z"
      },
      {
        "duration": 0,
        "start_time": "2023-01-06T11:50:38.212Z"
      },
      {
        "duration": 0,
        "start_time": "2023-01-06T11:50:38.213Z"
      },
      {
        "duration": 0,
        "start_time": "2023-01-06T11:50:38.214Z"
      },
      {
        "duration": 0,
        "start_time": "2023-01-06T11:50:38.215Z"
      },
      {
        "duration": 0,
        "start_time": "2023-01-06T11:50:38.216Z"
      },
      {
        "duration": 0,
        "start_time": "2023-01-06T11:50:38.217Z"
      },
      {
        "duration": 0,
        "start_time": "2023-01-06T11:50:38.218Z"
      },
      {
        "duration": 0,
        "start_time": "2023-01-06T11:50:38.219Z"
      },
      {
        "duration": 0,
        "start_time": "2023-01-06T11:50:38.220Z"
      },
      {
        "duration": 0,
        "start_time": "2023-01-06T11:50:38.221Z"
      },
      {
        "duration": 0,
        "start_time": "2023-01-06T11:50:38.222Z"
      },
      {
        "duration": 0,
        "start_time": "2023-01-06T11:50:38.223Z"
      },
      {
        "duration": 0,
        "start_time": "2023-01-06T11:50:38.224Z"
      },
      {
        "duration": 0,
        "start_time": "2023-01-06T11:50:38.224Z"
      },
      {
        "duration": 0,
        "start_time": "2023-01-06T11:50:38.226Z"
      },
      {
        "duration": 0,
        "start_time": "2023-01-06T11:50:38.226Z"
      },
      {
        "duration": 0,
        "start_time": "2023-01-06T11:50:38.227Z"
      },
      {
        "duration": 0,
        "start_time": "2023-01-06T11:50:38.228Z"
      },
      {
        "duration": 0,
        "start_time": "2023-01-06T11:50:38.229Z"
      },
      {
        "duration": 0,
        "start_time": "2023-01-06T11:50:38.230Z"
      },
      {
        "duration": 0,
        "start_time": "2023-01-06T11:50:38.231Z"
      },
      {
        "duration": 0,
        "start_time": "2023-01-06T11:50:38.232Z"
      },
      {
        "duration": 0,
        "start_time": "2023-01-06T11:50:38.233Z"
      },
      {
        "duration": 0,
        "start_time": "2023-01-06T11:50:38.234Z"
      },
      {
        "duration": 0,
        "start_time": "2023-01-06T11:50:38.235Z"
      },
      {
        "duration": 0,
        "start_time": "2023-01-06T11:50:38.237Z"
      },
      {
        "duration": 0,
        "start_time": "2023-01-06T11:50:38.238Z"
      },
      {
        "duration": 0,
        "start_time": "2023-01-06T11:50:38.239Z"
      },
      {
        "duration": 0,
        "start_time": "2023-01-06T11:50:38.241Z"
      },
      {
        "duration": 0,
        "start_time": "2023-01-06T11:50:38.242Z"
      },
      {
        "duration": 0,
        "start_time": "2023-01-06T11:50:38.244Z"
      },
      {
        "duration": 0,
        "start_time": "2023-01-06T11:50:38.305Z"
      },
      {
        "duration": 0,
        "start_time": "2023-01-06T11:50:38.307Z"
      },
      {
        "duration": 0,
        "start_time": "2023-01-06T11:50:38.308Z"
      },
      {
        "duration": 0,
        "start_time": "2023-01-06T11:50:38.309Z"
      },
      {
        "duration": 1179,
        "start_time": "2023-01-06T11:58:50.563Z"
      },
      {
        "duration": 41,
        "start_time": "2023-01-06T11:58:51.744Z"
      },
      {
        "duration": 39,
        "start_time": "2023-01-06T11:58:51.787Z"
      },
      {
        "duration": 15,
        "start_time": "2023-01-06T11:58:51.828Z"
      },
      {
        "duration": 11,
        "start_time": "2023-01-06T11:58:51.845Z"
      },
      {
        "duration": 4,
        "start_time": "2023-01-06T11:58:51.857Z"
      },
      {
        "duration": 18,
        "start_time": "2023-01-06T11:58:51.862Z"
      },
      {
        "duration": 4,
        "start_time": "2023-01-06T11:58:51.882Z"
      },
      {
        "duration": 1057,
        "start_time": "2023-01-06T11:58:51.887Z"
      },
      {
        "duration": 323,
        "start_time": "2023-01-06T11:58:52.946Z"
      },
      {
        "duration": 301,
        "start_time": "2023-01-06T11:58:53.271Z"
      },
      {
        "duration": 1157,
        "start_time": "2023-01-06T11:58:53.574Z"
      },
      {
        "duration": 424,
        "start_time": "2023-01-06T11:58:54.733Z"
      },
      {
        "duration": 248,
        "start_time": "2023-01-06T11:58:55.161Z"
      },
      {
        "duration": 10,
        "start_time": "2023-01-06T11:58:55.411Z"
      },
      {
        "duration": 5,
        "start_time": "2023-01-06T11:58:55.423Z"
      },
      {
        "duration": 20,
        "start_time": "2023-01-06T11:58:55.430Z"
      },
      {
        "duration": 23,
        "start_time": "2023-01-06T11:58:55.452Z"
      },
      {
        "duration": 12,
        "start_time": "2023-01-06T11:58:55.477Z"
      },
      {
        "duration": 17,
        "start_time": "2023-01-06T11:58:55.490Z"
      },
      {
        "duration": 10,
        "start_time": "2023-01-06T11:58:55.508Z"
      },
      {
        "duration": 8,
        "start_time": "2023-01-06T11:58:55.520Z"
      },
      {
        "duration": 6,
        "start_time": "2023-01-06T11:58:55.529Z"
      },
      {
        "duration": 5,
        "start_time": "2023-01-06T11:58:55.536Z"
      },
      {
        "duration": 9,
        "start_time": "2023-01-06T11:58:55.543Z"
      },
      {
        "duration": 15,
        "start_time": "2023-01-06T11:58:55.553Z"
      },
      {
        "duration": 32,
        "start_time": "2023-01-06T11:58:55.569Z"
      },
      {
        "duration": 12,
        "start_time": "2023-01-06T11:58:55.602Z"
      },
      {
        "duration": 197,
        "start_time": "2023-01-06T11:58:55.615Z"
      },
      {
        "duration": 193,
        "start_time": "2023-01-06T11:58:55.813Z"
      },
      {
        "duration": 107,
        "start_time": "2023-01-06T11:58:56.008Z"
      },
      {
        "duration": 7,
        "start_time": "2023-01-06T11:58:56.117Z"
      },
      {
        "duration": 12,
        "start_time": "2023-01-06T11:58:56.126Z"
      },
      {
        "duration": 6,
        "start_time": "2023-01-06T11:58:56.140Z"
      },
      {
        "duration": 64,
        "start_time": "2023-01-06T11:58:56.148Z"
      },
      {
        "duration": 5,
        "start_time": "2023-01-06T11:58:56.213Z"
      },
      {
        "duration": 147,
        "start_time": "2023-01-06T11:58:56.219Z"
      },
      {
        "duration": 3,
        "start_time": "2023-01-06T11:58:56.368Z"
      },
      {
        "duration": 15,
        "start_time": "2023-01-06T11:58:56.372Z"
      },
      {
        "duration": 17,
        "start_time": "2023-01-06T11:58:56.388Z"
      },
      {
        "duration": 6,
        "start_time": "2023-01-06T11:58:56.410Z"
      },
      {
        "duration": 5,
        "start_time": "2023-01-06T11:58:56.418Z"
      },
      {
        "duration": 5,
        "start_time": "2023-01-06T11:58:56.425Z"
      },
      {
        "duration": 150678,
        "start_time": "2023-01-06T11:58:56.432Z"
      },
      {
        "duration": 3,
        "start_time": "2023-01-06T12:01:27.112Z"
      },
      {
        "duration": 9,
        "start_time": "2023-01-06T12:01:27.116Z"
      },
      {
        "duration": 11,
        "start_time": "2023-01-06T12:01:27.126Z"
      },
      {
        "duration": 132,
        "start_time": "2023-01-06T12:01:27.139Z"
      },
      {
        "duration": 139,
        "start_time": "2023-01-06T12:01:27.272Z"
      },
      {
        "duration": 6,
        "start_time": "2023-01-06T12:01:27.412Z"
      },
      {
        "duration": 6,
        "start_time": "2023-01-06T12:01:27.420Z"
      },
      {
        "duration": 6,
        "start_time": "2023-01-06T12:01:27.427Z"
      },
      {
        "duration": 394351,
        "start_time": "2023-01-06T12:01:27.434Z"
      },
      {
        "duration": 3,
        "start_time": "2023-01-06T12:08:01.786Z"
      },
      {
        "duration": 14,
        "start_time": "2023-01-06T12:08:01.791Z"
      },
      {
        "duration": 17,
        "start_time": "2023-01-06T12:08:01.807Z"
      },
      {
        "duration": 119,
        "start_time": "2023-01-06T12:08:01.825Z"
      },
      {
        "duration": 102,
        "start_time": "2023-01-06T12:08:01.946Z"
      },
      {
        "duration": 6,
        "start_time": "2023-01-06T12:08:02.049Z"
      },
      {
        "duration": 19,
        "start_time": "2023-01-06T12:08:02.056Z"
      },
      {
        "duration": 12,
        "start_time": "2023-01-06T12:08:02.076Z"
      },
      {
        "duration": 4,
        "start_time": "2023-01-06T12:08:02.089Z"
      },
      {
        "duration": 10,
        "start_time": "2023-01-06T12:08:02.094Z"
      },
      {
        "duration": 10,
        "start_time": "2023-01-06T12:08:02.105Z"
      },
      {
        "duration": 536315,
        "start_time": "2023-01-06T12:08:02.117Z"
      },
      {
        "duration": 3,
        "start_time": "2023-01-06T12:16:58.434Z"
      },
      {
        "duration": 49,
        "start_time": "2023-01-06T12:16:58.438Z"
      },
      {
        "duration": 25,
        "start_time": "2023-01-06T12:16:58.489Z"
      },
      {
        "duration": 56,
        "start_time": "2023-01-06T12:16:58.516Z"
      },
      {
        "duration": 30,
        "start_time": "2023-01-06T12:16:58.573Z"
      },
      {
        "duration": 5,
        "start_time": "2023-01-06T12:16:58.604Z"
      },
      {
        "duration": 41,
        "start_time": "2023-01-06T12:16:58.611Z"
      },
      {
        "duration": 18,
        "start_time": "2023-01-06T12:16:58.654Z"
      },
      {
        "duration": 26,
        "start_time": "2023-01-06T12:16:58.674Z"
      },
      {
        "duration": 22,
        "start_time": "2023-01-06T12:16:58.702Z"
      },
      {
        "duration": 31,
        "start_time": "2023-01-06T12:16:58.725Z"
      },
      {
        "duration": 349849,
        "start_time": "2023-01-06T12:16:58.757Z"
      },
      {
        "duration": 3,
        "start_time": "2023-01-06T12:22:48.608Z"
      },
      {
        "duration": 14,
        "start_time": "2023-01-06T12:22:48.612Z"
      },
      {
        "duration": 22,
        "start_time": "2023-01-06T12:22:48.627Z"
      },
      {
        "duration": 37,
        "start_time": "2023-01-06T12:22:48.650Z"
      },
      {
        "duration": 15,
        "start_time": "2023-01-06T12:22:48.689Z"
      },
      {
        "duration": 10,
        "start_time": "2023-01-06T12:22:48.705Z"
      },
      {
        "duration": 15,
        "start_time": "2023-01-06T12:22:48.716Z"
      },
      {
        "duration": 22,
        "start_time": "2023-01-06T12:22:48.732Z"
      },
      {
        "duration": 125,
        "start_time": "2023-01-06T12:22:48.755Z"
      },
      {
        "duration": 109,
        "start_time": "2023-01-06T12:22:48.881Z"
      },
      {
        "duration": 6,
        "start_time": "2023-01-06T12:22:48.992Z"
      },
      {
        "duration": 20,
        "start_time": "2023-01-06T12:22:49.005Z"
      },
      {
        "duration": 19,
        "start_time": "2023-01-06T12:22:49.026Z"
      },
      {
        "duration": 24,
        "start_time": "2023-01-06T12:22:49.047Z"
      },
      {
        "duration": 25,
        "start_time": "2023-01-06T12:22:49.072Z"
      },
      {
        "duration": 40278,
        "start_time": "2023-01-06T12:22:49.099Z"
      },
      {
        "duration": 30,
        "start_time": "2023-01-06T12:31:45.153Z"
      },
      {
        "duration": 7,
        "start_time": "2023-01-06T12:31:46.383Z"
      },
      {
        "duration": 5,
        "start_time": "2023-01-06T12:31:47.228Z"
      },
      {
        "duration": 6,
        "start_time": "2023-01-06T12:31:48.137Z"
      },
      {
        "duration": 130,
        "start_time": "2023-01-06T12:31:56.103Z"
      },
      {
        "duration": 28,
        "start_time": "2023-01-06T12:32:04.361Z"
      },
      {
        "duration": 36,
        "start_time": "2023-01-06T12:32:05.015Z"
      },
      {
        "duration": 7,
        "start_time": "2023-01-06T12:32:05.945Z"
      },
      {
        "duration": 5,
        "start_time": "2023-01-06T12:32:06.897Z"
      },
      {
        "duration": 6,
        "start_time": "2023-01-06T12:32:07.776Z"
      },
      {
        "duration": 1325,
        "start_time": "2023-01-06T12:32:12.845Z"
      },
      {
        "duration": 50,
        "start_time": "2023-01-06T12:32:14.172Z"
      },
      {
        "duration": 40,
        "start_time": "2023-01-06T12:32:14.223Z"
      },
      {
        "duration": 15,
        "start_time": "2023-01-06T12:32:14.265Z"
      },
      {
        "duration": 14,
        "start_time": "2023-01-06T12:32:14.281Z"
      },
      {
        "duration": 4,
        "start_time": "2023-01-06T12:32:14.296Z"
      },
      {
        "duration": 29,
        "start_time": "2023-01-06T12:32:14.304Z"
      },
      {
        "duration": 4,
        "start_time": "2023-01-06T12:32:14.334Z"
      },
      {
        "duration": 1197,
        "start_time": "2023-01-06T12:32:14.340Z"
      },
      {
        "duration": 349,
        "start_time": "2023-01-06T12:32:15.540Z"
      },
      {
        "duration": 326,
        "start_time": "2023-01-06T12:32:15.891Z"
      },
      {
        "duration": 1286,
        "start_time": "2023-01-06T12:32:16.218Z"
      },
      {
        "duration": 474,
        "start_time": "2023-01-06T12:32:17.506Z"
      },
      {
        "duration": 316,
        "start_time": "2023-01-06T12:32:17.981Z"
      },
      {
        "duration": 22,
        "start_time": "2023-01-06T12:32:18.299Z"
      },
      {
        "duration": 3,
        "start_time": "2023-01-06T12:32:18.322Z"
      },
      {
        "duration": 4,
        "start_time": "2023-01-06T12:32:18.327Z"
      },
      {
        "duration": 14,
        "start_time": "2023-01-06T12:32:18.332Z"
      },
      {
        "duration": 5,
        "start_time": "2023-01-06T12:32:18.347Z"
      },
      {
        "duration": 9,
        "start_time": "2023-01-06T12:32:18.353Z"
      },
      {
        "duration": 7,
        "start_time": "2023-01-06T12:32:18.363Z"
      },
      {
        "duration": 7,
        "start_time": "2023-01-06T12:32:18.371Z"
      },
      {
        "duration": 5,
        "start_time": "2023-01-06T12:32:18.380Z"
      },
      {
        "duration": 13,
        "start_time": "2023-01-06T12:32:18.406Z"
      },
      {
        "duration": 5,
        "start_time": "2023-01-06T12:32:18.422Z"
      },
      {
        "duration": 14,
        "start_time": "2023-01-06T12:32:18.429Z"
      },
      {
        "duration": 23,
        "start_time": "2023-01-06T12:32:18.445Z"
      },
      {
        "duration": 33,
        "start_time": "2023-01-06T12:32:18.473Z"
      },
      {
        "duration": 200,
        "start_time": "2023-01-06T12:32:18.510Z"
      },
      {
        "duration": 95,
        "start_time": "2023-01-06T12:32:18.715Z"
      },
      {
        "duration": 91,
        "start_time": "2023-01-06T12:32:18.817Z"
      },
      {
        "duration": 11,
        "start_time": "2023-01-06T12:32:18.913Z"
      },
      {
        "duration": 9,
        "start_time": "2023-01-06T12:32:18.926Z"
      },
      {
        "duration": 5,
        "start_time": "2023-01-06T12:32:18.936Z"
      },
      {
        "duration": 33,
        "start_time": "2023-01-06T12:32:18.942Z"
      },
      {
        "duration": 32,
        "start_time": "2023-01-06T12:32:18.977Z"
      },
      {
        "duration": 164,
        "start_time": "2023-01-06T12:32:19.011Z"
      },
      {
        "duration": 3,
        "start_time": "2023-01-06T12:32:19.177Z"
      },
      {
        "duration": 5,
        "start_time": "2023-01-06T12:32:19.181Z"
      },
      {
        "duration": 8,
        "start_time": "2023-01-06T12:32:19.187Z"
      },
      {
        "duration": 7,
        "start_time": "2023-01-06T12:32:19.206Z"
      },
      {
        "duration": 13,
        "start_time": "2023-01-06T12:32:19.215Z"
      },
      {
        "duration": 5,
        "start_time": "2023-01-06T12:32:19.230Z"
      },
      {
        "duration": 1443,
        "start_time": "2023-01-06T12:33:31.080Z"
      },
      {
        "duration": 43,
        "start_time": "2023-01-06T12:33:32.526Z"
      },
      {
        "duration": 54,
        "start_time": "2023-01-06T12:33:32.570Z"
      },
      {
        "duration": 17,
        "start_time": "2023-01-06T12:33:32.625Z"
      },
      {
        "duration": 21,
        "start_time": "2023-01-06T12:33:32.644Z"
      },
      {
        "duration": 30,
        "start_time": "2023-01-06T12:33:32.666Z"
      },
      {
        "duration": 33,
        "start_time": "2023-01-06T12:33:32.698Z"
      },
      {
        "duration": 7,
        "start_time": "2023-01-06T12:33:32.733Z"
      },
      {
        "duration": 1188,
        "start_time": "2023-01-06T12:33:32.742Z"
      },
      {
        "duration": 359,
        "start_time": "2023-01-06T12:33:33.933Z"
      },
      {
        "duration": 340,
        "start_time": "2023-01-06T12:33:34.294Z"
      },
      {
        "duration": 1380,
        "start_time": "2023-01-06T12:33:34.636Z"
      },
      {
        "duration": 501,
        "start_time": "2023-01-06T12:33:36.019Z"
      },
      {
        "duration": 276,
        "start_time": "2023-01-06T12:33:36.521Z"
      },
      {
        "duration": 16,
        "start_time": "2023-01-06T12:33:36.804Z"
      },
      {
        "duration": 4,
        "start_time": "2023-01-06T12:33:36.822Z"
      },
      {
        "duration": 6,
        "start_time": "2023-01-06T12:33:36.827Z"
      },
      {
        "duration": 13,
        "start_time": "2023-01-06T12:33:36.834Z"
      },
      {
        "duration": 7,
        "start_time": "2023-01-06T12:33:36.849Z"
      },
      {
        "duration": 8,
        "start_time": "2023-01-06T12:33:36.857Z"
      },
      {
        "duration": 6,
        "start_time": "2023-01-06T12:33:36.867Z"
      },
      {
        "duration": 5,
        "start_time": "2023-01-06T12:33:36.875Z"
      },
      {
        "duration": 38,
        "start_time": "2023-01-06T12:33:36.881Z"
      },
      {
        "duration": 8,
        "start_time": "2023-01-06T12:33:36.921Z"
      },
      {
        "duration": 5,
        "start_time": "2023-01-06T12:33:36.931Z"
      },
      {
        "duration": 10,
        "start_time": "2023-01-06T12:33:36.937Z"
      },
      {
        "duration": 20,
        "start_time": "2023-01-06T12:33:36.949Z"
      },
      {
        "duration": 10,
        "start_time": "2023-01-06T12:33:36.974Z"
      },
      {
        "duration": 222,
        "start_time": "2023-01-06T12:33:36.985Z"
      },
      {
        "duration": 14,
        "start_time": "2023-01-06T12:33:37.210Z"
      },
      {
        "duration": 205,
        "start_time": "2023-01-06T12:33:37.228Z"
      },
      {
        "duration": 7,
        "start_time": "2023-01-06T12:33:37.435Z"
      },
      {
        "duration": 8,
        "start_time": "2023-01-06T12:33:37.444Z"
      },
      {
        "duration": 9,
        "start_time": "2023-01-06T12:33:37.453Z"
      },
      {
        "duration": 38,
        "start_time": "2023-01-06T12:33:37.463Z"
      },
      {
        "duration": 7,
        "start_time": "2023-01-06T12:33:37.503Z"
      },
      {
        "duration": 161,
        "start_time": "2023-01-06T12:33:37.513Z"
      },
      {
        "duration": 3,
        "start_time": "2023-01-06T12:33:37.675Z"
      },
      {
        "duration": 4,
        "start_time": "2023-01-06T12:33:37.680Z"
      },
      {
        "duration": 24,
        "start_time": "2023-01-06T12:33:37.685Z"
      },
      {
        "duration": 16,
        "start_time": "2023-01-06T12:33:37.711Z"
      },
      {
        "duration": 6,
        "start_time": "2023-01-06T12:33:37.728Z"
      },
      {
        "duration": 6,
        "start_time": "2023-01-06T12:33:37.735Z"
      },
      {
        "duration": 165438,
        "start_time": "2023-01-06T12:33:37.742Z"
      },
      {
        "duration": 4,
        "start_time": "2023-01-06T12:36:23.182Z"
      },
      {
        "duration": 19,
        "start_time": "2023-01-06T12:36:23.187Z"
      },
      {
        "duration": 19,
        "start_time": "2023-01-06T12:36:23.208Z"
      },
      {
        "duration": 118,
        "start_time": "2023-01-06T12:36:23.229Z"
      },
      {
        "duration": 116,
        "start_time": "2023-01-06T12:36:23.349Z"
      },
      {
        "duration": 6,
        "start_time": "2023-01-06T12:36:23.466Z"
      },
      {
        "duration": 13,
        "start_time": "2023-01-06T12:36:23.473Z"
      },
      {
        "duration": 5,
        "start_time": "2023-01-06T12:36:23.487Z"
      },
      {
        "duration": 1975552,
        "start_time": "2023-01-06T12:36:23.504Z"
      },
      {
        "duration": 4,
        "start_time": "2023-01-06T13:09:19.057Z"
      },
      {
        "duration": 7,
        "start_time": "2023-01-06T13:09:19.063Z"
      },
      {
        "duration": 5,
        "start_time": "2023-01-06T13:09:19.072Z"
      },
      {
        "duration": 69,
        "start_time": "2023-01-06T13:09:19.078Z"
      },
      {
        "duration": 59,
        "start_time": "2023-01-06T13:09:19.148Z"
      },
      {
        "duration": 6,
        "start_time": "2023-01-06T13:09:19.209Z"
      },
      {
        "duration": 9,
        "start_time": "2023-01-06T13:09:19.216Z"
      },
      {
        "duration": 6,
        "start_time": "2023-01-06T13:09:19.226Z"
      },
      {
        "duration": 8,
        "start_time": "2023-01-06T13:09:19.233Z"
      },
      {
        "duration": 12,
        "start_time": "2023-01-06T13:09:19.243Z"
      },
      {
        "duration": 9,
        "start_time": "2023-01-06T13:09:19.257Z"
      },
      {
        "duration": 2636877,
        "start_time": "2023-01-06T13:09:19.268Z"
      },
      {
        "duration": 4,
        "start_time": "2023-01-06T13:53:16.146Z"
      },
      {
        "duration": 15,
        "start_time": "2023-01-06T13:53:16.152Z"
      },
      {
        "duration": 14,
        "start_time": "2023-01-06T13:53:16.169Z"
      },
      {
        "duration": 36,
        "start_time": "2023-01-06T13:53:16.186Z"
      },
      {
        "duration": 27,
        "start_time": "2023-01-06T13:53:16.224Z"
      },
      {
        "duration": 5,
        "start_time": "2023-01-06T13:53:16.252Z"
      },
      {
        "duration": 7,
        "start_time": "2023-01-06T13:53:16.258Z"
      },
      {
        "duration": 10,
        "start_time": "2023-01-06T13:53:16.267Z"
      },
      {
        "duration": 4,
        "start_time": "2023-01-06T13:53:16.278Z"
      },
      {
        "duration": 22,
        "start_time": "2023-01-06T13:53:16.283Z"
      },
      {
        "duration": 15,
        "start_time": "2023-01-06T13:53:16.307Z"
      },
      {
        "duration": 1379,
        "start_time": "2023-01-06T13:57:47.490Z"
      },
      {
        "duration": 44,
        "start_time": "2023-01-06T13:57:48.871Z"
      },
      {
        "duration": 40,
        "start_time": "2023-01-06T13:57:48.917Z"
      },
      {
        "duration": 17,
        "start_time": "2023-01-06T13:57:48.958Z"
      },
      {
        "duration": 15,
        "start_time": "2023-01-06T13:57:48.977Z"
      },
      {
        "duration": 4,
        "start_time": "2023-01-06T13:57:48.994Z"
      },
      {
        "duration": 35,
        "start_time": "2023-01-06T13:57:49.000Z"
      },
      {
        "duration": 25,
        "start_time": "2023-01-06T13:57:49.037Z"
      },
      {
        "duration": 1079,
        "start_time": "2023-01-06T13:57:49.063Z"
      },
      {
        "duration": 309,
        "start_time": "2023-01-06T13:57:50.143Z"
      },
      {
        "duration": 273,
        "start_time": "2023-01-06T13:57:50.453Z"
      },
      {
        "duration": 1179,
        "start_time": "2023-01-06T13:57:50.728Z"
      },
      {
        "duration": 428,
        "start_time": "2023-01-06T13:57:51.908Z"
      },
      {
        "duration": 249,
        "start_time": "2023-01-06T13:57:52.339Z"
      },
      {
        "duration": 17,
        "start_time": "2023-01-06T13:57:52.590Z"
      },
      {
        "duration": 3,
        "start_time": "2023-01-06T13:57:52.608Z"
      },
      {
        "duration": 11,
        "start_time": "2023-01-06T13:57:52.612Z"
      },
      {
        "duration": 20,
        "start_time": "2023-01-06T13:57:52.624Z"
      },
      {
        "duration": 7,
        "start_time": "2023-01-06T13:57:52.646Z"
      },
      {
        "duration": 5,
        "start_time": "2023-01-06T13:57:52.654Z"
      },
      {
        "duration": 6,
        "start_time": "2023-01-06T13:57:52.661Z"
      },
      {
        "duration": 5,
        "start_time": "2023-01-06T13:57:52.669Z"
      },
      {
        "duration": 4,
        "start_time": "2023-01-06T13:57:52.676Z"
      },
      {
        "duration": 4,
        "start_time": "2023-01-06T13:57:52.681Z"
      },
      {
        "duration": 19,
        "start_time": "2023-01-06T13:57:52.686Z"
      },
      {
        "duration": 22,
        "start_time": "2023-01-06T13:57:52.706Z"
      },
      {
        "duration": 22,
        "start_time": "2023-01-06T13:57:52.729Z"
      },
      {
        "duration": 10,
        "start_time": "2023-01-06T13:57:52.753Z"
      },
      {
        "duration": 242,
        "start_time": "2023-01-06T13:57:52.764Z"
      },
      {
        "duration": 97,
        "start_time": "2023-01-06T13:57:53.009Z"
      },
      {
        "duration": 104,
        "start_time": "2023-01-06T13:57:53.108Z"
      },
      {
        "duration": 5,
        "start_time": "2023-01-06T13:57:53.214Z"
      },
      {
        "duration": 5,
        "start_time": "2023-01-06T13:57:53.220Z"
      },
      {
        "duration": 4,
        "start_time": "2023-01-06T13:57:53.227Z"
      },
      {
        "duration": 74,
        "start_time": "2023-01-06T13:57:53.232Z"
      },
      {
        "duration": 5,
        "start_time": "2023-01-06T13:57:53.307Z"
      },
      {
        "duration": 137,
        "start_time": "2023-01-06T13:57:53.313Z"
      },
      {
        "duration": 3,
        "start_time": "2023-01-06T13:57:53.452Z"
      },
      {
        "duration": 7,
        "start_time": "2023-01-06T13:57:53.456Z"
      },
      {
        "duration": 7,
        "start_time": "2023-01-06T13:57:53.464Z"
      },
      {
        "duration": 5,
        "start_time": "2023-01-06T13:57:53.475Z"
      },
      {
        "duration": 25,
        "start_time": "2023-01-06T13:57:53.482Z"
      },
      {
        "duration": 6,
        "start_time": "2023-01-06T13:57:53.508Z"
      },
      {
        "duration": 126807,
        "start_time": "2023-01-06T13:57:53.515Z"
      },
      {
        "duration": 3,
        "start_time": "2023-01-06T14:00:00.324Z"
      },
      {
        "duration": 27,
        "start_time": "2023-01-06T14:00:00.329Z"
      },
      {
        "duration": 39,
        "start_time": "2023-01-06T14:00:00.357Z"
      },
      {
        "duration": 154,
        "start_time": "2023-01-06T14:00:00.397Z"
      },
      {
        "duration": 118,
        "start_time": "2023-01-06T14:00:00.552Z"
      },
      {
        "duration": 5,
        "start_time": "2023-01-06T14:00:00.672Z"
      },
      {
        "duration": 52,
        "start_time": "2023-01-06T14:00:00.679Z"
      },
      {
        "duration": 34,
        "start_time": "2023-01-06T14:00:00.732Z"
      },
      {
        "duration": 1344,
        "start_time": "2023-01-06T14:00:29.850Z"
      },
      {
        "duration": 44,
        "start_time": "2023-01-06T14:00:31.195Z"
      },
      {
        "duration": 39,
        "start_time": "2023-01-06T14:00:31.241Z"
      },
      {
        "duration": 15,
        "start_time": "2023-01-06T14:00:31.282Z"
      },
      {
        "duration": 11,
        "start_time": "2023-01-06T14:00:31.299Z"
      },
      {
        "duration": 4,
        "start_time": "2023-01-06T14:00:31.312Z"
      },
      {
        "duration": 26,
        "start_time": "2023-01-06T14:00:31.317Z"
      },
      {
        "duration": 5,
        "start_time": "2023-01-06T14:00:31.344Z"
      },
      {
        "duration": 1148,
        "start_time": "2023-01-06T14:00:31.350Z"
      },
      {
        "duration": 346,
        "start_time": "2023-01-06T14:00:32.499Z"
      },
      {
        "duration": 310,
        "start_time": "2023-01-06T14:00:32.847Z"
      },
      {
        "duration": 1281,
        "start_time": "2023-01-06T14:00:33.159Z"
      },
      {
        "duration": 481,
        "start_time": "2023-01-06T14:00:34.442Z"
      },
      {
        "duration": 280,
        "start_time": "2023-01-06T14:00:34.926Z"
      },
      {
        "duration": 10,
        "start_time": "2023-01-06T14:00:35.208Z"
      },
      {
        "duration": 3,
        "start_time": "2023-01-06T14:00:35.219Z"
      },
      {
        "duration": 5,
        "start_time": "2023-01-06T14:00:35.223Z"
      },
      {
        "duration": 13,
        "start_time": "2023-01-06T14:00:35.229Z"
      },
      {
        "duration": 11,
        "start_time": "2023-01-06T14:00:35.244Z"
      },
      {
        "duration": 16,
        "start_time": "2023-01-06T14:00:35.256Z"
      },
      {
        "duration": 15,
        "start_time": "2023-01-06T14:00:35.274Z"
      },
      {
        "duration": 14,
        "start_time": "2023-01-06T14:00:35.291Z"
      },
      {
        "duration": 4,
        "start_time": "2023-01-06T14:00:35.307Z"
      },
      {
        "duration": 4,
        "start_time": "2023-01-06T14:00:35.313Z"
      },
      {
        "duration": 18,
        "start_time": "2023-01-06T14:00:35.319Z"
      },
      {
        "duration": 20,
        "start_time": "2023-01-06T14:00:35.339Z"
      },
      {
        "duration": 23,
        "start_time": "2023-01-06T14:00:35.360Z"
      },
      {
        "duration": 12,
        "start_time": "2023-01-06T14:00:35.385Z"
      },
      {
        "duration": 211,
        "start_time": "2023-01-06T14:00:35.399Z"
      },
      {
        "duration": 101,
        "start_time": "2023-01-06T14:00:35.612Z"
      },
      {
        "duration": 191,
        "start_time": "2023-01-06T14:00:35.715Z"
      },
      {
        "duration": 6,
        "start_time": "2023-01-06T14:00:35.907Z"
      },
      {
        "duration": 8,
        "start_time": "2023-01-06T14:00:35.914Z"
      },
      {
        "duration": 6,
        "start_time": "2023-01-06T14:00:35.924Z"
      },
      {
        "duration": 44,
        "start_time": "2023-01-06T14:00:35.931Z"
      },
      {
        "duration": 5,
        "start_time": "2023-01-06T14:00:35.977Z"
      },
      {
        "duration": 168,
        "start_time": "2023-01-06T14:00:35.984Z"
      },
      {
        "duration": 4,
        "start_time": "2023-01-06T14:00:36.153Z"
      },
      {
        "duration": 6,
        "start_time": "2023-01-06T14:00:36.158Z"
      },
      {
        "duration": 7,
        "start_time": "2023-01-06T14:00:36.165Z"
      },
      {
        "duration": 6,
        "start_time": "2023-01-06T14:00:36.177Z"
      },
      {
        "duration": 24,
        "start_time": "2023-01-06T14:00:36.184Z"
      },
      {
        "duration": 5,
        "start_time": "2023-01-06T14:00:36.210Z"
      },
      {
        "duration": 1968324,
        "start_time": "2023-01-06T14:00:36.217Z"
      },
      {
        "duration": 4,
        "start_time": "2023-01-06T14:33:24.543Z"
      },
      {
        "duration": 7,
        "start_time": "2023-01-06T14:33:24.549Z"
      },
      {
        "duration": 9,
        "start_time": "2023-01-06T14:33:24.558Z"
      },
      {
        "duration": 47,
        "start_time": "2023-01-06T14:33:24.569Z"
      },
      {
        "duration": 35,
        "start_time": "2023-01-06T14:33:24.618Z"
      },
      {
        "duration": 7,
        "start_time": "2023-01-06T14:33:24.654Z"
      },
      {
        "duration": 6,
        "start_time": "2023-01-06T14:33:24.663Z"
      },
      {
        "duration": 35,
        "start_time": "2023-01-06T14:33:24.671Z"
      },
      {
        "duration": 1950388,
        "start_time": "2023-01-06T14:33:24.708Z"
      },
      {
        "duration": 7,
        "start_time": "2023-01-06T15:05:55.098Z"
      },
      {
        "duration": 4,
        "start_time": "2023-01-06T15:05:55.107Z"
      },
      {
        "duration": 5,
        "start_time": "2023-01-06T15:05:55.112Z"
      },
      {
        "duration": 53,
        "start_time": "2023-01-06T15:05:55.118Z"
      },
      {
        "duration": 69,
        "start_time": "2023-01-06T15:05:55.173Z"
      },
      {
        "duration": 5,
        "start_time": "2023-01-06T15:05:55.244Z"
      },
      {
        "duration": 5,
        "start_time": "2023-01-06T15:05:55.251Z"
      },
      {
        "duration": 8,
        "start_time": "2023-01-06T15:05:55.258Z"
      },
      {
        "duration": 3,
        "start_time": "2023-01-06T15:05:55.268Z"
      },
      {
        "duration": 9,
        "start_time": "2023-01-06T15:05:55.273Z"
      },
      {
        "duration": 28,
        "start_time": "2023-01-06T15:05:55.283Z"
      },
      {
        "duration": 2647811,
        "start_time": "2023-01-06T15:05:55.313Z"
      },
      {
        "duration": 4,
        "start_time": "2023-01-06T15:50:03.125Z"
      },
      {
        "duration": 21,
        "start_time": "2023-01-06T15:50:03.130Z"
      },
      {
        "duration": 18,
        "start_time": "2023-01-06T15:50:03.153Z"
      },
      {
        "duration": 41,
        "start_time": "2023-01-06T15:50:03.172Z"
      },
      {
        "duration": 21,
        "start_time": "2023-01-06T15:50:03.215Z"
      },
      {
        "duration": 22,
        "start_time": "2023-01-06T15:50:03.238Z"
      },
      {
        "duration": 28,
        "start_time": "2023-01-06T15:50:03.262Z"
      },
      {
        "duration": 26,
        "start_time": "2023-01-06T15:50:03.292Z"
      },
      {
        "duration": 22,
        "start_time": "2023-01-06T15:50:03.319Z"
      },
      {
        "duration": 24,
        "start_time": "2023-01-06T15:50:03.343Z"
      },
      {
        "duration": 12,
        "start_time": "2023-01-06T15:50:03.368Z"
      },
      {
        "duration": 1714329,
        "start_time": "2023-01-06T15:50:03.382Z"
      },
      {
        "duration": 3,
        "start_time": "2023-01-06T16:18:37.713Z"
      },
      {
        "duration": 11,
        "start_time": "2023-01-06T16:18:37.718Z"
      },
      {
        "duration": 5,
        "start_time": "2023-01-06T16:18:37.730Z"
      },
      {
        "duration": 12,
        "start_time": "2023-01-06T16:18:37.737Z"
      },
      {
        "duration": 10,
        "start_time": "2023-01-06T16:18:37.751Z"
      },
      {
        "duration": 6,
        "start_time": "2023-01-06T16:18:37.762Z"
      },
      {
        "duration": 7,
        "start_time": "2023-01-06T16:18:37.769Z"
      },
      {
        "duration": 6,
        "start_time": "2023-01-06T16:18:37.805Z"
      },
      {
        "duration": 17,
        "start_time": "2023-01-06T16:18:37.813Z"
      },
      {
        "duration": 17,
        "start_time": "2023-01-06T16:18:37.831Z"
      },
      {
        "duration": 6,
        "start_time": "2023-01-06T16:18:37.849Z"
      },
      {
        "duration": 5,
        "start_time": "2023-01-06T16:18:37.857Z"
      },
      {
        "duration": 41,
        "start_time": "2023-01-06T16:18:37.864Z"
      },
      {
        "duration": 3,
        "start_time": "2023-01-06T16:18:37.907Z"
      },
      {
        "duration": 11,
        "start_time": "2023-01-06T16:18:37.912Z"
      },
      {
        "duration": 40862,
        "start_time": "2023-01-06T16:18:37.925Z"
      },
      {
        "duration": 16,
        "start_time": "2023-01-06T16:20:17.216Z"
      },
      {
        "duration": 17,
        "start_time": "2023-01-06T16:20:18.609Z"
      },
      {
        "duration": 5,
        "start_time": "2023-01-06T16:20:19.682Z"
      },
      {
        "duration": 6,
        "start_time": "2023-01-06T16:20:21.260Z"
      },
      {
        "duration": 5,
        "start_time": "2023-01-06T16:20:22.113Z"
      },
      {
        "duration": 7,
        "start_time": "2023-01-06T16:26:37.830Z"
      },
      {
        "duration": 1277,
        "start_time": "2023-01-06T16:28:36.815Z"
      },
      {
        "duration": 44,
        "start_time": "2023-01-06T16:28:38.094Z"
      },
      {
        "duration": 40,
        "start_time": "2023-01-06T16:28:38.140Z"
      },
      {
        "duration": 19,
        "start_time": "2023-01-06T16:28:38.183Z"
      },
      {
        "duration": 14,
        "start_time": "2023-01-06T16:28:38.205Z"
      },
      {
        "duration": 5,
        "start_time": "2023-01-06T16:28:38.221Z"
      },
      {
        "duration": 19,
        "start_time": "2023-01-06T16:28:38.227Z"
      },
      {
        "duration": 6,
        "start_time": "2023-01-06T16:28:38.248Z"
      },
      {
        "duration": 1080,
        "start_time": "2023-01-06T16:28:38.256Z"
      },
      {
        "duration": 318,
        "start_time": "2023-01-06T16:28:39.337Z"
      },
      {
        "duration": 283,
        "start_time": "2023-01-06T16:28:39.656Z"
      },
      {
        "duration": 1154,
        "start_time": "2023-01-06T16:28:39.941Z"
      },
      {
        "duration": 418,
        "start_time": "2023-01-06T16:28:41.097Z"
      },
      {
        "duration": 242,
        "start_time": "2023-01-06T16:28:41.517Z"
      },
      {
        "duration": 9,
        "start_time": "2023-01-06T16:28:41.760Z"
      },
      {
        "duration": 2,
        "start_time": "2023-01-06T16:28:41.771Z"
      },
      {
        "duration": 8,
        "start_time": "2023-01-06T16:28:41.774Z"
      },
      {
        "duration": 24,
        "start_time": "2023-01-06T16:28:41.784Z"
      },
      {
        "duration": 6,
        "start_time": "2023-01-06T16:28:41.810Z"
      },
      {
        "duration": 7,
        "start_time": "2023-01-06T16:28:41.818Z"
      },
      {
        "duration": 8,
        "start_time": "2023-01-06T16:28:41.827Z"
      },
      {
        "duration": 7,
        "start_time": "2023-01-06T16:28:41.836Z"
      },
      {
        "duration": 7,
        "start_time": "2023-01-06T16:28:41.844Z"
      },
      {
        "duration": 4,
        "start_time": "2023-01-06T16:28:41.852Z"
      },
      {
        "duration": 8,
        "start_time": "2023-01-06T16:28:41.857Z"
      },
      {
        "duration": 15,
        "start_time": "2023-01-06T16:28:41.867Z"
      },
      {
        "duration": 40,
        "start_time": "2023-01-06T16:28:41.884Z"
      },
      {
        "duration": 10,
        "start_time": "2023-01-06T16:28:41.926Z"
      },
      {
        "duration": 175,
        "start_time": "2023-01-06T16:28:41.938Z"
      },
      {
        "duration": 8,
        "start_time": "2023-01-06T16:28:42.206Z"
      },
      {
        "duration": 98,
        "start_time": "2023-01-06T16:28:42.306Z"
      },
      {
        "duration": 7,
        "start_time": "2023-01-06T16:28:42.406Z"
      },
      {
        "duration": 4,
        "start_time": "2023-01-06T16:28:42.415Z"
      },
      {
        "duration": 2,
        "start_time": "2023-01-06T16:28:42.421Z"
      },
      {
        "duration": 33,
        "start_time": "2023-01-06T16:28:42.424Z"
      },
      {
        "duration": 4,
        "start_time": "2023-01-06T16:28:42.459Z"
      },
      {
        "duration": 168,
        "start_time": "2023-01-06T16:28:42.465Z"
      },
      {
        "duration": 3,
        "start_time": "2023-01-06T16:28:42.635Z"
      },
      {
        "duration": 12,
        "start_time": "2023-01-06T16:28:42.639Z"
      },
      {
        "duration": 7,
        "start_time": "2023-01-06T16:28:42.653Z"
      },
      {
        "duration": 6,
        "start_time": "2023-01-06T16:28:42.664Z"
      },
      {
        "duration": 6,
        "start_time": "2023-01-06T16:28:42.671Z"
      },
      {
        "duration": 5,
        "start_time": "2023-01-06T16:28:42.679Z"
      },
      {
        "duration": 73552,
        "start_time": "2023-01-06T16:28:42.685Z"
      },
      {
        "duration": 4,
        "start_time": "2023-01-06T16:29:56.238Z"
      },
      {
        "duration": 6,
        "start_time": "2023-01-06T16:29:56.243Z"
      },
      {
        "duration": 5,
        "start_time": "2023-01-06T16:29:56.250Z"
      },
      {
        "duration": 49,
        "start_time": "2023-01-06T16:29:56.256Z"
      },
      {
        "duration": 31,
        "start_time": "2023-01-06T16:29:56.306Z"
      },
      {
        "duration": 6,
        "start_time": "2023-01-06T16:29:56.338Z"
      },
      {
        "duration": 6,
        "start_time": "2023-01-06T16:29:56.346Z"
      },
      {
        "duration": 9,
        "start_time": "2023-01-06T16:29:56.353Z"
      },
      {
        "duration": 50202,
        "start_time": "2023-01-06T16:29:56.363Z"
      },
      {
        "duration": 3,
        "start_time": "2023-01-06T16:30:46.567Z"
      },
      {
        "duration": 7,
        "start_time": "2023-01-06T16:30:46.571Z"
      },
      {
        "duration": 8,
        "start_time": "2023-01-06T16:30:46.579Z"
      },
      {
        "duration": 63,
        "start_time": "2023-01-06T16:30:46.588Z"
      },
      {
        "duration": 53,
        "start_time": "2023-01-06T16:30:46.652Z"
      },
      {
        "duration": 5,
        "start_time": "2023-01-06T16:30:46.707Z"
      },
      {
        "duration": 5,
        "start_time": "2023-01-06T16:30:46.714Z"
      },
      {
        "duration": 6,
        "start_time": "2023-01-06T16:30:46.721Z"
      },
      {
        "duration": 4,
        "start_time": "2023-01-06T16:30:46.728Z"
      },
      {
        "duration": 10,
        "start_time": "2023-01-06T16:30:46.733Z"
      },
      {
        "duration": 11,
        "start_time": "2023-01-06T16:30:46.745Z"
      },
      {
        "duration": 83309,
        "start_time": "2023-01-06T16:30:46.758Z"
      },
      {
        "duration": 3,
        "start_time": "2023-01-06T16:32:10.068Z"
      },
      {
        "duration": 6,
        "start_time": "2023-01-06T16:32:10.073Z"
      },
      {
        "duration": 8,
        "start_time": "2023-01-06T16:32:10.080Z"
      },
      {
        "duration": 30,
        "start_time": "2023-01-06T16:32:10.089Z"
      },
      {
        "duration": 19,
        "start_time": "2023-01-06T16:32:10.120Z"
      },
      {
        "duration": 6,
        "start_time": "2023-01-06T16:32:10.141Z"
      },
      {
        "duration": 5,
        "start_time": "2023-01-06T16:32:10.149Z"
      },
      {
        "duration": 6,
        "start_time": "2023-01-06T16:32:10.156Z"
      },
      {
        "duration": 5,
        "start_time": "2023-01-06T16:32:10.164Z"
      },
      {
        "duration": 4,
        "start_time": "2023-01-06T16:32:10.205Z"
      },
      {
        "duration": 10,
        "start_time": "2023-01-06T16:32:10.210Z"
      },
      {
        "duration": 9765,
        "start_time": "2023-01-06T16:32:10.222Z"
      },
      {
        "duration": 3,
        "start_time": "2023-01-06T16:32:19.989Z"
      },
      {
        "duration": 11,
        "start_time": "2023-01-06T16:32:19.994Z"
      },
      {
        "duration": 11,
        "start_time": "2023-01-06T16:32:20.007Z"
      },
      {
        "duration": 17,
        "start_time": "2023-01-06T16:32:20.020Z"
      },
      {
        "duration": 11,
        "start_time": "2023-01-06T16:32:20.039Z"
      },
      {
        "duration": 8,
        "start_time": "2023-01-06T16:32:20.052Z"
      },
      {
        "duration": 8,
        "start_time": "2023-01-06T16:32:20.061Z"
      },
      {
        "duration": 11,
        "start_time": "2023-01-06T16:32:20.071Z"
      },
      {
        "duration": 34,
        "start_time": "2023-01-06T16:32:20.084Z"
      },
      {
        "duration": 20,
        "start_time": "2023-01-06T16:32:20.120Z"
      },
      {
        "duration": 6,
        "start_time": "2023-01-06T16:32:20.142Z"
      },
      {
        "duration": 7,
        "start_time": "2023-01-06T16:32:20.150Z"
      },
      {
        "duration": 8,
        "start_time": "2023-01-06T16:32:20.159Z"
      },
      {
        "duration": 4,
        "start_time": "2023-01-06T16:32:20.169Z"
      },
      {
        "duration": 10,
        "start_time": "2023-01-06T16:32:20.204Z"
      },
      {
        "duration": 41387,
        "start_time": "2023-01-06T16:32:20.216Z"
      },
      {
        "duration": 1467,
        "start_time": "2023-01-06T18:50:01.575Z"
      },
      {
        "duration": 55,
        "start_time": "2023-01-06T18:50:03.044Z"
      },
      {
        "duration": 80,
        "start_time": "2023-01-06T18:50:03.111Z"
      },
      {
        "duration": 23,
        "start_time": "2023-01-06T18:50:03.193Z"
      },
      {
        "duration": 21,
        "start_time": "2023-01-06T18:50:03.218Z"
      },
      {
        "duration": 11,
        "start_time": "2023-01-06T18:50:03.241Z"
      },
      {
        "duration": 19,
        "start_time": "2023-01-06T18:50:03.254Z"
      },
      {
        "duration": 3,
        "start_time": "2023-01-06T18:50:03.275Z"
      },
      {
        "duration": 1108,
        "start_time": "2023-01-06T18:50:03.280Z"
      },
      {
        "duration": 356,
        "start_time": "2023-01-06T18:50:04.398Z"
      },
      {
        "duration": 334,
        "start_time": "2023-01-06T18:50:04.756Z"
      },
      {
        "duration": 1237,
        "start_time": "2023-01-06T18:50:05.098Z"
      },
      {
        "duration": 465,
        "start_time": "2023-01-06T18:50:06.336Z"
      },
      {
        "duration": 244,
        "start_time": "2023-01-06T18:50:06.810Z"
      },
      {
        "duration": 9,
        "start_time": "2023-01-06T18:50:07.055Z"
      },
      {
        "duration": 2,
        "start_time": "2023-01-06T18:50:07.066Z"
      },
      {
        "duration": 10,
        "start_time": "2023-01-06T18:50:07.069Z"
      },
      {
        "duration": 28,
        "start_time": "2023-01-06T18:50:07.080Z"
      },
      {
        "duration": 5,
        "start_time": "2023-01-06T18:50:07.110Z"
      },
      {
        "duration": 6,
        "start_time": "2023-01-06T18:50:07.116Z"
      },
      {
        "duration": 8,
        "start_time": "2023-01-06T18:50:07.123Z"
      },
      {
        "duration": 7,
        "start_time": "2023-01-06T18:50:07.133Z"
      },
      {
        "duration": 4,
        "start_time": "2023-01-06T18:50:07.141Z"
      },
      {
        "duration": 5,
        "start_time": "2023-01-06T18:50:07.146Z"
      },
      {
        "duration": 7,
        "start_time": "2023-01-06T18:50:07.152Z"
      },
      {
        "duration": 9,
        "start_time": "2023-01-06T18:50:07.160Z"
      },
      {
        "duration": 49,
        "start_time": "2023-01-06T18:50:07.171Z"
      },
      {
        "duration": 11,
        "start_time": "2023-01-06T18:50:07.225Z"
      },
      {
        "duration": 479,
        "start_time": "2023-01-06T18:50:07.237Z"
      },
      {
        "duration": 94,
        "start_time": "2023-01-06T18:50:07.718Z"
      },
      {
        "duration": 205,
        "start_time": "2023-01-06T18:50:07.814Z"
      },
      {
        "duration": 6,
        "start_time": "2023-01-06T18:50:08.021Z"
      },
      {
        "duration": 5,
        "start_time": "2023-01-06T18:50:08.028Z"
      },
      {
        "duration": 8,
        "start_time": "2023-01-06T18:50:08.034Z"
      },
      {
        "duration": 35,
        "start_time": "2023-01-06T18:50:08.043Z"
      },
      {
        "duration": 4,
        "start_time": "2023-01-06T18:50:08.080Z"
      },
      {
        "duration": 155,
        "start_time": "2023-01-06T18:50:08.086Z"
      },
      {
        "duration": 3,
        "start_time": "2023-01-06T18:50:08.242Z"
      },
      {
        "duration": 10,
        "start_time": "2023-01-06T18:50:08.247Z"
      },
      {
        "duration": 6,
        "start_time": "2023-01-06T18:50:08.259Z"
      },
      {
        "duration": 8,
        "start_time": "2023-01-06T18:50:08.266Z"
      },
      {
        "duration": 9,
        "start_time": "2023-01-06T18:50:08.275Z"
      },
      {
        "duration": 10,
        "start_time": "2023-01-06T18:50:08.285Z"
      },
      {
        "duration": 73872,
        "start_time": "2023-01-06T18:50:08.297Z"
      },
      {
        "duration": 3,
        "start_time": "2023-01-06T18:51:22.171Z"
      },
      {
        "duration": 9,
        "start_time": "2023-01-06T18:51:22.176Z"
      },
      {
        "duration": 15,
        "start_time": "2023-01-06T18:51:22.186Z"
      },
      {
        "duration": 41,
        "start_time": "2023-01-06T18:51:22.202Z"
      },
      {
        "duration": 30,
        "start_time": "2023-01-06T18:51:22.245Z"
      },
      {
        "duration": 5,
        "start_time": "2023-01-06T18:51:22.277Z"
      },
      {
        "duration": 11,
        "start_time": "2023-01-06T18:51:22.283Z"
      },
      {
        "duration": 14,
        "start_time": "2023-01-06T18:51:22.295Z"
      },
      {
        "duration": 50815,
        "start_time": "2023-01-06T18:51:22.313Z"
      },
      {
        "duration": 4,
        "start_time": "2023-01-06T18:52:13.130Z"
      },
      {
        "duration": 8,
        "start_time": "2023-01-06T18:52:13.136Z"
      },
      {
        "duration": 8,
        "start_time": "2023-01-06T18:52:13.146Z"
      },
      {
        "duration": 63,
        "start_time": "2023-01-06T18:52:13.155Z"
      },
      {
        "duration": 49,
        "start_time": "2023-01-06T18:52:13.219Z"
      },
      {
        "duration": 7,
        "start_time": "2023-01-06T18:52:13.269Z"
      },
      {
        "duration": 27,
        "start_time": "2023-01-06T18:52:13.277Z"
      },
      {
        "duration": 6,
        "start_time": "2023-01-06T18:52:13.305Z"
      },
      {
        "duration": 6,
        "start_time": "2023-01-06T18:52:13.313Z"
      },
      {
        "duration": 9,
        "start_time": "2023-01-06T18:52:13.320Z"
      },
      {
        "duration": 9,
        "start_time": "2023-01-06T18:52:13.330Z"
      },
      {
        "duration": 85400,
        "start_time": "2023-01-06T18:52:13.341Z"
      },
      {
        "duration": 4,
        "start_time": "2023-01-06T18:53:38.743Z"
      },
      {
        "duration": 8,
        "start_time": "2023-01-06T18:53:38.749Z"
      },
      {
        "duration": 9,
        "start_time": "2023-01-06T18:53:38.759Z"
      },
      {
        "duration": 38,
        "start_time": "2023-01-06T18:53:38.769Z"
      },
      {
        "duration": 23,
        "start_time": "2023-01-06T18:53:38.809Z"
      },
      {
        "duration": 6,
        "start_time": "2023-01-06T18:53:38.834Z"
      },
      {
        "duration": 6,
        "start_time": "2023-01-06T18:53:38.842Z"
      },
      {
        "duration": 6,
        "start_time": "2023-01-06T18:53:38.849Z"
      },
      {
        "duration": 4,
        "start_time": "2023-01-06T18:53:38.856Z"
      },
      {
        "duration": 5,
        "start_time": "2023-01-06T18:53:38.862Z"
      },
      {
        "duration": 50,
        "start_time": "2023-01-06T18:53:38.869Z"
      },
      {
        "duration": 10239,
        "start_time": "2023-01-06T18:53:38.921Z"
      },
      {
        "duration": 4,
        "start_time": "2023-01-06T18:53:49.162Z"
      },
      {
        "duration": 7,
        "start_time": "2023-01-06T18:53:49.168Z"
      },
      {
        "duration": 4,
        "start_time": "2023-01-06T18:53:49.176Z"
      },
      {
        "duration": 29,
        "start_time": "2023-01-06T18:53:49.197Z"
      },
      {
        "duration": 11,
        "start_time": "2023-01-06T18:53:49.231Z"
      },
      {
        "duration": 12,
        "start_time": "2023-01-06T18:53:49.244Z"
      },
      {
        "duration": 6,
        "start_time": "2023-01-06T18:53:49.258Z"
      },
      {
        "duration": 7,
        "start_time": "2023-01-06T18:53:49.266Z"
      },
      {
        "duration": 42,
        "start_time": "2023-01-06T18:53:49.274Z"
      },
      {
        "duration": 19,
        "start_time": "2023-01-06T18:53:49.319Z"
      },
      {
        "duration": 5,
        "start_time": "2023-01-06T18:53:49.339Z"
      },
      {
        "duration": 5,
        "start_time": "2023-01-06T18:53:49.345Z"
      },
      {
        "duration": 6,
        "start_time": "2023-01-06T18:53:49.352Z"
      },
      {
        "duration": 4,
        "start_time": "2023-01-06T18:53:49.359Z"
      },
      {
        "duration": 46,
        "start_time": "2023-01-06T18:53:49.364Z"
      },
      {
        "duration": 41028,
        "start_time": "2023-01-06T18:53:49.411Z"
      },
      {
        "duration": 54,
        "start_time": "2023-01-06T20:13:09.050Z"
      },
      {
        "duration": 51,
        "start_time": "2023-01-06T20:13:11.989Z"
      },
      {
        "duration": 5,
        "start_time": "2023-01-06T20:13:14.259Z"
      },
      {
        "duration": 6,
        "start_time": "2023-01-06T20:13:26.344Z"
      },
      {
        "duration": 6,
        "start_time": "2023-01-06T20:13:29.997Z"
      },
      {
        "duration": 25,
        "start_time": "2023-01-06T20:22:10.006Z"
      },
      {
        "duration": 19,
        "start_time": "2023-01-06T20:22:11.554Z"
      },
      {
        "duration": 8,
        "start_time": "2023-01-06T20:22:12.429Z"
      },
      {
        "duration": 6,
        "start_time": "2023-01-06T20:22:13.341Z"
      },
      {
        "duration": 7,
        "start_time": "2023-01-06T20:22:14.715Z"
      }
    ],
    "kernelspec": {
      "display_name": "Python 3 (ipykernel)",
      "language": "python",
      "name": "python3"
    },
    "language_info": {
      "codemirror_mode": {
        "name": "ipython",
        "version": 3
      },
      "file_extension": ".py",
      "mimetype": "text/x-python",
      "name": "python",
      "nbconvert_exporter": "python",
      "pygments_lexer": "ipython3",
      "version": "3.9.5"
    },
    "toc": {
      "base_numbering": 1,
      "nav_menu": {},
      "number_sections": true,
      "sideBar": true,
      "skip_h1_title": true,
      "title_cell": "Содержание",
      "title_sidebar": "Contents",
      "toc_cell": true,
      "toc_position": {
        "height": "calc(100% - 180px)",
        "left": "10px",
        "top": "150px",
        "width": "302.188px"
      },
      "toc_section_display": true,
      "toc_window_display": true
    },
    "colab": {
      "provenance": [],
      "toc_visible": true
    }
  },
  "nbformat": 4,
  "nbformat_minor": 0
}