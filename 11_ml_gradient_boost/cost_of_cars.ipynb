{
  "cells": [
    {
      "cell_type": "markdown",
      "metadata": {
        "id": "KK5wKf9OCTDK"
      },
      "source": [
        "# Определение стоимости автомобилей"
      ]
    },
    {
      "cell_type": "markdown",
      "metadata": {
        "id": "yvuPz7b6CTDL"
      },
      "source": [
        "<h1>Описание проекта</h1>\n",
        "\n",
        "От сервиса по продаже автомобилей с пробегом «Не бит, не крашен» получено задание на разработку модели для определения стоимости автомобиля. Разработанная модель будет применяться в новом приложении с целью привлечения новых клиентов.\n",
        "Для построения модели были предоставлены исторические данные: технические характеристики, комплектации и цены автомобилей.\n",
        "\n",
        "\n",
        "Особые требования заказчика:\n",
        "\n",
        "- качество предсказания;\n",
        "- скорость предсказания;\n",
        "- время обучения."
      ]
    },
    {
      "cell_type": "markdown",
      "metadata": {
        "toc": true,
        "id": "ZZSPI1JmCTDM"
      },
      "source": [
        "<h1>Содержание<span class=\"tocSkip\"></span></h1>\n",
        "<div class=\"toc\"><ul class=\"toc-item\"><li><span><a href=\"#Подготовка-данных\" data-toc-modified-id=\"Подготовка-данных-1\"><span class=\"toc-item-num\">1&nbsp;&nbsp;</span>Подготовка данных</a></span><ul class=\"toc-item\"><li><span><a href=\"#Общие-сведения\" data-toc-modified-id=\"Общие-сведения-1.1\"><span class=\"toc-item-num\">1.1&nbsp;&nbsp;</span>Общие сведения</a></span></li><li><span><a href=\"#Сведения-о-пропусках-и-дубликатах\" data-toc-modified-id=\"Сведения-о-пропусках-и-дубликатах-1.2\"><span class=\"toc-item-num\">1.2&nbsp;&nbsp;</span>Сведения о пропусках и дубликатах</a></span></li><li><span><a href=\"#Распределение-значений\" data-toc-modified-id=\"Распределение-значений-1.3\"><span class=\"toc-item-num\">1.3&nbsp;&nbsp;</span>Распределение значений</a></span></li><li><span><a href=\"#Связь-между-данными\" data-toc-modified-id=\"Связь-между-данными-1.4\"><span class=\"toc-item-num\">1.4&nbsp;&nbsp;</span>Связь между данными</a></span></li><li><span><a href=\"#Заполнение-пропусков\" data-toc-modified-id=\"Заполнение-пропусков-1.5\"><span class=\"toc-item-num\">1.5&nbsp;&nbsp;</span>Заполнение пропусков</a></span></li></ul></li><li><span><a href=\"#Обучение-моделей\" data-toc-modified-id=\"Обучение-моделей-2\"><span class=\"toc-item-num\">2&nbsp;&nbsp;</span>Обучение моделей</a></span><ul class=\"toc-item\"><li><span><a href=\"#Линейная-регрессия\" data-toc-modified-id=\"Линейная-регрессия-2.1\"><span class=\"toc-item-num\">2.1&nbsp;&nbsp;</span>Линейная регрессия</a></span></li><li><span><a href=\"#Случайный-лес-решающих-деревьев.\" data-toc-modified-id=\"Случайный-лес-решающих-деревьев.-2.2\"><span class=\"toc-item-num\">2.2&nbsp;&nbsp;</span>Случайный лес решающих деревьев.</a></span></li><li><span><a href=\"#LightGBM\" data-toc-modified-id=\"LightGBM-2.3\"><span class=\"toc-item-num\">2.3&nbsp;&nbsp;</span>LightGBM</a></span></li></ul></li><li><span><a href=\"#Анализ-моделей\" data-toc-modified-id=\"Анализ-моделей-3\"><span class=\"toc-item-num\">3&nbsp;&nbsp;</span>Анализ моделей</a></span></li><li><span><a href=\"#Проверка-выбранной-модели\" data-toc-modified-id=\"Проверка-выбранной-модели-4\"><span class=\"toc-item-num\">4&nbsp;&nbsp;</span>Проверка выбранной модели</a></span></li><li><span><a href=\"#Вывод\" data-toc-modified-id=\"Вывод-5\"><span class=\"toc-item-num\">5&nbsp;&nbsp;</span>Вывод</a></span></li></ul></div>"
      ]
    },
    {
      "cell_type": "markdown",
      "metadata": {
        "id": "bMO3zYpPCTDO"
      },
      "source": [
        "## Подготовка данных"
      ]
    },
    {
      "cell_type": "markdown",
      "metadata": {
        "id": "C26xC2D8CTDP"
      },
      "source": [
        "Начнем с рассмотрения полученных данных, для этого проверим их целостность(нет ли ошибок или пропусков) и рассмотрим возможные закономерности."
      ]
    },
    {
      "cell_type": "code",
      "execution_count": 4,
      "metadata": {
        "id": "GDmNt7OeCTDQ"
      },
      "outputs": [],
      "source": [
        "import pandas as pd\n",
        "import numpy as np\n",
        "import matplotlib.pyplot as plt\n",
        "import seaborn as sb\n",
        "import time\n",
        "from sklearn.model_selection import train_test_split\n",
        "from sklearn.metrics import mean_squared_error as mse\n",
        "from sklearn.preprocessing import OrdinalEncoder\n",
        "from sklearn.preprocessing import StandardScaler\n",
        "from sklearn.linear_model import LinearRegression\n",
        "from sklearn.ensemble import RandomForestRegressor\n",
        "import lightgbm as lgb"
      ]
    },
    {
      "cell_type": "code",
      "source": [
        "# загрузка данных\n",
        "!wget https://_____/autos.csv"
      ],
      "metadata": {
        "colab": {
          "base_uri": "https://localhost:8080/"
        },
        "id": "r3e9k04fDH2e",
        "outputId": "7cd5d937-a6f0-445e-8eea-ada929a585e7"
      },
      "execution_count": 5,
      "outputs": [
        {
          "output_type": "stream",
          "name": "stdout",
          "text": [
            "--2023-03-31 19:15:11--  https://_____/autos.csv\n",
            "Resolving _____ (_____)... 93.158.134.158, 2a02:6b8::2:158\n",
            "Connecting to _____ (_____)|93.158.134.158|:443... connected.\n",
            "HTTP request sent, awaiting response... 200 OK\n",
            "Length: 44362152 (42M) [text/csv]\n",
            "Saving to: ‘autos.csv.1’\n",
            "\n",
            "autos.csv.1         100%[===================>]  42.31M  39.3MB/s    in 1.1s    \n",
            "\n",
            "2023-03-31 19:15:12 (39.3 MB/s) - ‘autos.csv.1’ saved [44362152/44362152]\n",
            "\n"
          ]
        }
      ]
    },
    {
      "cell_type": "code",
      "execution_count": 6,
      "metadata": {
        "id": "_V9VORCRCTDT"
      },
      "outputs": [],
      "source": [
        "try:\n",
        "    data = pd.read_csv('/datasets/autos.csv')\n",
        "except:\n",
        "    data = pd.read_csv('/content/autos.csv')"
      ]
    },
    {
      "cell_type": "markdown",
      "metadata": {
        "id": "wXVDqFcrCTDV"
      },
      "source": [
        "### Общие сведения"
      ]
    },
    {
      "cell_type": "code",
      "execution_count": 7,
      "metadata": {
        "colab": {
          "base_uri": "https://localhost:8080/",
          "height": 444
        },
        "id": "JzalpS7MCTDV",
        "outputId": "5a208e65-6a23-432d-bd5c-4ab8aeb407ef"
      },
      "outputs": [
        {
          "output_type": "execute_result",
          "data": {
            "text/plain": [
              "           DateCrawled  Price VehicleType  RegistrationYear Gearbox  Power  \\\n",
              "0  2016-03-24 11:52:17    480         NaN              1993  manual      0   \n",
              "1  2016-03-24 10:58:45  18300       coupe              2011  manual    190   \n",
              "2  2016-03-14 12:52:21   9800         suv              2004    auto    163   \n",
              "3  2016-03-17 16:54:04   1500       small              2001  manual     75   \n",
              "4  2016-03-31 17:25:20   3600       small              2008  manual     69   \n",
              "\n",
              "   Model  Kilometer  RegistrationMonth  FuelType       Brand Repaired  \\\n",
              "0   golf     150000                  0    petrol  volkswagen      NaN   \n",
              "1    NaN     125000                  5  gasoline        audi      yes   \n",
              "2  grand     125000                  8  gasoline        jeep      NaN   \n",
              "3   golf     150000                  6    petrol  volkswagen       no   \n",
              "4  fabia      90000                  7  gasoline       skoda       no   \n",
              "\n",
              "           DateCreated  NumberOfPictures  PostalCode             LastSeen  \n",
              "0  2016-03-24 00:00:00                 0       70435  2016-04-07 03:16:57  \n",
              "1  2016-03-24 00:00:00                 0       66954  2016-04-07 01:46:50  \n",
              "2  2016-03-14 00:00:00                 0       90480  2016-04-05 12:47:46  \n",
              "3  2016-03-17 00:00:00                 0       91074  2016-03-17 17:40:17  \n",
              "4  2016-03-31 00:00:00                 0       60437  2016-04-06 10:17:21  "
            ],
            "text/html": [
              "\n",
              "  <div id=\"df-934b9c4f-d6b8-4c07-bfe6-5e82cc90c753\">\n",
              "    <div class=\"colab-df-container\">\n",
              "      <div>\n",
              "<style scoped>\n",
              "    .dataframe tbody tr th:only-of-type {\n",
              "        vertical-align: middle;\n",
              "    }\n",
              "\n",
              "    .dataframe tbody tr th {\n",
              "        vertical-align: top;\n",
              "    }\n",
              "\n",
              "    .dataframe thead th {\n",
              "        text-align: right;\n",
              "    }\n",
              "</style>\n",
              "<table border=\"1\" class=\"dataframe\">\n",
              "  <thead>\n",
              "    <tr style=\"text-align: right;\">\n",
              "      <th></th>\n",
              "      <th>DateCrawled</th>\n",
              "      <th>Price</th>\n",
              "      <th>VehicleType</th>\n",
              "      <th>RegistrationYear</th>\n",
              "      <th>Gearbox</th>\n",
              "      <th>Power</th>\n",
              "      <th>Model</th>\n",
              "      <th>Kilometer</th>\n",
              "      <th>RegistrationMonth</th>\n",
              "      <th>FuelType</th>\n",
              "      <th>Brand</th>\n",
              "      <th>Repaired</th>\n",
              "      <th>DateCreated</th>\n",
              "      <th>NumberOfPictures</th>\n",
              "      <th>PostalCode</th>\n",
              "      <th>LastSeen</th>\n",
              "    </tr>\n",
              "  </thead>\n",
              "  <tbody>\n",
              "    <tr>\n",
              "      <th>0</th>\n",
              "      <td>2016-03-24 11:52:17</td>\n",
              "      <td>480</td>\n",
              "      <td>NaN</td>\n",
              "      <td>1993</td>\n",
              "      <td>manual</td>\n",
              "      <td>0</td>\n",
              "      <td>golf</td>\n",
              "      <td>150000</td>\n",
              "      <td>0</td>\n",
              "      <td>petrol</td>\n",
              "      <td>volkswagen</td>\n",
              "      <td>NaN</td>\n",
              "      <td>2016-03-24 00:00:00</td>\n",
              "      <td>0</td>\n",
              "      <td>70435</td>\n",
              "      <td>2016-04-07 03:16:57</td>\n",
              "    </tr>\n",
              "    <tr>\n",
              "      <th>1</th>\n",
              "      <td>2016-03-24 10:58:45</td>\n",
              "      <td>18300</td>\n",
              "      <td>coupe</td>\n",
              "      <td>2011</td>\n",
              "      <td>manual</td>\n",
              "      <td>190</td>\n",
              "      <td>NaN</td>\n",
              "      <td>125000</td>\n",
              "      <td>5</td>\n",
              "      <td>gasoline</td>\n",
              "      <td>audi</td>\n",
              "      <td>yes</td>\n",
              "      <td>2016-03-24 00:00:00</td>\n",
              "      <td>0</td>\n",
              "      <td>66954</td>\n",
              "      <td>2016-04-07 01:46:50</td>\n",
              "    </tr>\n",
              "    <tr>\n",
              "      <th>2</th>\n",
              "      <td>2016-03-14 12:52:21</td>\n",
              "      <td>9800</td>\n",
              "      <td>suv</td>\n",
              "      <td>2004</td>\n",
              "      <td>auto</td>\n",
              "      <td>163</td>\n",
              "      <td>grand</td>\n",
              "      <td>125000</td>\n",
              "      <td>8</td>\n",
              "      <td>gasoline</td>\n",
              "      <td>jeep</td>\n",
              "      <td>NaN</td>\n",
              "      <td>2016-03-14 00:00:00</td>\n",
              "      <td>0</td>\n",
              "      <td>90480</td>\n",
              "      <td>2016-04-05 12:47:46</td>\n",
              "    </tr>\n",
              "    <tr>\n",
              "      <th>3</th>\n",
              "      <td>2016-03-17 16:54:04</td>\n",
              "      <td>1500</td>\n",
              "      <td>small</td>\n",
              "      <td>2001</td>\n",
              "      <td>manual</td>\n",
              "      <td>75</td>\n",
              "      <td>golf</td>\n",
              "      <td>150000</td>\n",
              "      <td>6</td>\n",
              "      <td>petrol</td>\n",
              "      <td>volkswagen</td>\n",
              "      <td>no</td>\n",
              "      <td>2016-03-17 00:00:00</td>\n",
              "      <td>0</td>\n",
              "      <td>91074</td>\n",
              "      <td>2016-03-17 17:40:17</td>\n",
              "    </tr>\n",
              "    <tr>\n",
              "      <th>4</th>\n",
              "      <td>2016-03-31 17:25:20</td>\n",
              "      <td>3600</td>\n",
              "      <td>small</td>\n",
              "      <td>2008</td>\n",
              "      <td>manual</td>\n",
              "      <td>69</td>\n",
              "      <td>fabia</td>\n",
              "      <td>90000</td>\n",
              "      <td>7</td>\n",
              "      <td>gasoline</td>\n",
              "      <td>skoda</td>\n",
              "      <td>no</td>\n",
              "      <td>2016-03-31 00:00:00</td>\n",
              "      <td>0</td>\n",
              "      <td>60437</td>\n",
              "      <td>2016-04-06 10:17:21</td>\n",
              "    </tr>\n",
              "  </tbody>\n",
              "</table>\n",
              "</div>\n",
              "      <button class=\"colab-df-convert\" onclick=\"convertToInteractive('df-934b9c4f-d6b8-4c07-bfe6-5e82cc90c753')\"\n",
              "              title=\"Convert this dataframe to an interactive table.\"\n",
              "              style=\"display:none;\">\n",
              "        \n",
              "  <svg xmlns=\"http://www.w3.org/2000/svg\" height=\"24px\"viewBox=\"0 0 24 24\"\n",
              "       width=\"24px\">\n",
              "    <path d=\"M0 0h24v24H0V0z\" fill=\"none\"/>\n",
              "    <path d=\"M18.56 5.44l.94 2.06.94-2.06 2.06-.94-2.06-.94-.94-2.06-.94 2.06-2.06.94zm-11 1L8.5 8.5l.94-2.06 2.06-.94-2.06-.94L8.5 2.5l-.94 2.06-2.06.94zm10 10l.94 2.06.94-2.06 2.06-.94-2.06-.94-.94-2.06-.94 2.06-2.06.94z\"/><path d=\"M17.41 7.96l-1.37-1.37c-.4-.4-.92-.59-1.43-.59-.52 0-1.04.2-1.43.59L10.3 9.45l-7.72 7.72c-.78.78-.78 2.05 0 2.83L4 21.41c.39.39.9.59 1.41.59.51 0 1.02-.2 1.41-.59l7.78-7.78 2.81-2.81c.8-.78.8-2.07 0-2.86zM5.41 20L4 18.59l7.72-7.72 1.47 1.35L5.41 20z\"/>\n",
              "  </svg>\n",
              "      </button>\n",
              "      \n",
              "  <style>\n",
              "    .colab-df-container {\n",
              "      display:flex;\n",
              "      flex-wrap:wrap;\n",
              "      gap: 12px;\n",
              "    }\n",
              "\n",
              "    .colab-df-convert {\n",
              "      background-color: #E8F0FE;\n",
              "      border: none;\n",
              "      border-radius: 50%;\n",
              "      cursor: pointer;\n",
              "      display: none;\n",
              "      fill: #1967D2;\n",
              "      height: 32px;\n",
              "      padding: 0 0 0 0;\n",
              "      width: 32px;\n",
              "    }\n",
              "\n",
              "    .colab-df-convert:hover {\n",
              "      background-color: #E2EBFA;\n",
              "      box-shadow: 0px 1px 2px rgba(60, 64, 67, 0.3), 0px 1px 3px 1px rgba(60, 64, 67, 0.15);\n",
              "      fill: #174EA6;\n",
              "    }\n",
              "\n",
              "    [theme=dark] .colab-df-convert {\n",
              "      background-color: #3B4455;\n",
              "      fill: #D2E3FC;\n",
              "    }\n",
              "\n",
              "    [theme=dark] .colab-df-convert:hover {\n",
              "      background-color: #434B5C;\n",
              "      box-shadow: 0px 1px 3px 1px rgba(0, 0, 0, 0.15);\n",
              "      filter: drop-shadow(0px 1px 2px rgba(0, 0, 0, 0.3));\n",
              "      fill: #FFFFFF;\n",
              "    }\n",
              "  </style>\n",
              "\n",
              "      <script>\n",
              "        const buttonEl =\n",
              "          document.querySelector('#df-934b9c4f-d6b8-4c07-bfe6-5e82cc90c753 button.colab-df-convert');\n",
              "        buttonEl.style.display =\n",
              "          google.colab.kernel.accessAllowed ? 'block' : 'none';\n",
              "\n",
              "        async function convertToInteractive(key) {\n",
              "          const element = document.querySelector('#df-934b9c4f-d6b8-4c07-bfe6-5e82cc90c753');\n",
              "          const dataTable =\n",
              "            await google.colab.kernel.invokeFunction('convertToInteractive',\n",
              "                                                     [key], {});\n",
              "          if (!dataTable) return;\n",
              "\n",
              "          const docLinkHtml = 'Like what you see? Visit the ' +\n",
              "            '<a target=\"_blank\" href=https://colab.research.google.com/notebooks/data_table.ipynb>data table notebook</a>'\n",
              "            + ' to learn more about interactive tables.';\n",
              "          element.innerHTML = '';\n",
              "          dataTable['output_type'] = 'display_data';\n",
              "          await google.colab.output.renderOutput(dataTable, element);\n",
              "          const docLink = document.createElement('div');\n",
              "          docLink.innerHTML = docLinkHtml;\n",
              "          element.appendChild(docLink);\n",
              "        }\n",
              "      </script>\n",
              "    </div>\n",
              "  </div>\n",
              "  "
            ]
          },
          "metadata": {},
          "execution_count": 7
        }
      ],
      "source": [
        "data.head()"
      ]
    },
    {
      "cell_type": "code",
      "execution_count": 8,
      "metadata": {
        "colab": {
          "base_uri": "https://localhost:8080/"
        },
        "id": "hguc4ghWCTDX",
        "outputId": "258a5892-c8c5-4a25-870b-7d573d9e3491"
      },
      "outputs": [
        {
          "output_type": "stream",
          "name": "stdout",
          "text": [
            "<class 'pandas.core.frame.DataFrame'>\n",
            "RangeIndex: 354369 entries, 0 to 354368\n",
            "Data columns (total 16 columns):\n",
            " #   Column             Non-Null Count   Dtype \n",
            "---  ------             --------------   ----- \n",
            " 0   DateCrawled        354369 non-null  object\n",
            " 1   Price              354369 non-null  int64 \n",
            " 2   VehicleType        316879 non-null  object\n",
            " 3   RegistrationYear   354369 non-null  int64 \n",
            " 4   Gearbox            334536 non-null  object\n",
            " 5   Power              354369 non-null  int64 \n",
            " 6   Model              334664 non-null  object\n",
            " 7   Kilometer          354369 non-null  int64 \n",
            " 8   RegistrationMonth  354369 non-null  int64 \n",
            " 9   FuelType           321474 non-null  object\n",
            " 10  Brand              354369 non-null  object\n",
            " 11  Repaired           283215 non-null  object\n",
            " 12  DateCreated        354369 non-null  object\n",
            " 13  NumberOfPictures   354369 non-null  int64 \n",
            " 14  PostalCode         354369 non-null  int64 \n",
            " 15  LastSeen           354369 non-null  object\n",
            "dtypes: int64(7), object(9)\n",
            "memory usage: 43.3+ MB\n"
          ]
        }
      ],
      "source": [
        "data.info()"
      ]
    },
    {
      "cell_type": "markdown",
      "metadata": {
        "id": "O_X6PdjgCTDY"
      },
      "source": [
        "Полученные данные содержат следующие сведения:\n",
        "* DateCrawled — дата скачивания анкеты из базы\n",
        "* VehicleType — тип автомобильного кузова\n",
        "* RegistrationYear — год регистрации автомобиля\n",
        "* Gearbox — тип коробки передач\n",
        "* Power — мощность (л. с.)\n",
        "* Model — модель автомобиля\n",
        "* Kilometer — пробег (км)\n",
        "* RegistrationMonth — месяц регистрации автомобиля\n",
        "* FuelType — тип топлива\n",
        "* Brand — марка автомобиля\n",
        "* Repaired — была машина в ремонте или нет\n",
        "* DateCreated — дата создания анкеты\n",
        "* NumberOfPictures — количество фотографий автомобиля\n",
        "* PostalCode — почтовый индекс владельца анкеты (пользователя)\n",
        "* LastSeen — дата последней активности пользователя\n",
        "* Price — цена (евро)\n",
        "\n",
        "Преобразуем столбцы с информацией о времени и дате(тип object) в соответствующий формат."
      ]
    },
    {
      "cell_type": "code",
      "execution_count": 9,
      "metadata": {
        "id": "XmGEAUYtCTDZ"
      },
      "outputs": [],
      "source": [
        "for t in ['DateCrawled', 'DateCreated', 'LastSeen']:\n",
        "    data[t] = pd.to_datetime(data[t], format='%Y-%m-%d %H:%M:%S')"
      ]
    },
    {
      "cell_type": "markdown",
      "metadata": {
        "id": "jIKdRxwrCTDa"
      },
      "source": [
        "### Сведения о пропусках и дубликатах"
      ]
    },
    {
      "cell_type": "code",
      "execution_count": 10,
      "metadata": {
        "colab": {
          "base_uri": "https://localhost:8080/"
        },
        "id": "x42iztHQCTDb",
        "outputId": "03429844-2dba-4d5a-ef0c-fdc7b0af0242"
      },
      "outputs": [
        {
          "output_type": "execute_result",
          "data": {
            "text/plain": [
              "Repaired            0.200791\n",
              "VehicleType         0.105794\n",
              "FuelType            0.092827\n",
              "Gearbox             0.055967\n",
              "Model               0.055606\n",
              "DateCrawled         0.000000\n",
              "Price               0.000000\n",
              "RegistrationYear    0.000000\n",
              "Power               0.000000\n",
              "Kilometer           0.000000\n",
              "dtype: float64"
            ]
          },
          "metadata": {},
          "execution_count": 10
        }
      ],
      "source": [
        "data.isnull().mean().sort_values(ascending=False).head(10)"
      ]
    },
    {
      "cell_type": "markdown",
      "metadata": {
        "id": "xQ1n-raKCTDb"
      },
      "source": [
        "В полученных данных Достаточно мног опропусков:\n",
        "- свединях о ремонте - 20,1%\n",
        "- тип кузова - 10,6%\n",
        "- тип топлива - 9,3%\n",
        "- коробка передач - 5,6%\n",
        "- модель автомобиля - 5,6%\n",
        "\n",
        "Такое количество пропусков может повлиять на результат исследования, удаление также может повлиять на ркезультаты. Вернемся к заполнению пропусков позднее."
      ]
    },
    {
      "cell_type": "code",
      "execution_count": 11,
      "metadata": {
        "colab": {
          "base_uri": "https://localhost:8080/",
          "height": 694
        },
        "id": "-DH4MPvJCTDc",
        "outputId": "7873dd50-fbb3-4209-a81b-5a722b025250"
      },
      "outputs": [
        {
          "output_type": "stream",
          "name": "stdout",
          "text": [
            "Количество строк дубликатов - 4\n",
            "\n",
            "Все строки с повторяющимися данными:\n"
          ]
        },
        {
          "output_type": "display_data",
          "data": {
            "text/plain": [
              "               DateCrawled  Price VehicleType  RegistrationYear Gearbox  \\\n",
              "88087  2016-03-08 18:42:48   1799       coupe              1999    auto   \n",
              "171088 2016-03-08 18:42:48   1799       coupe              1999    auto   \n",
              "41529  2016-03-18 18:46:15   1999       wagon              2001  manual   \n",
              "325651 2016-03-18 18:46:15   1999       wagon              2001  manual   \n",
              "90964  2016-03-28 00:56:10   1000       small              2002  manual   \n",
              "231258 2016-03-28 00:56:10   1000       small              2002  manual   \n",
              "187735 2016-04-03 09:01:15   4699       coupe              2003    auto   \n",
              "258109 2016-04-03 09:01:15   4699       coupe              2003    auto   \n",
              "\n",
              "        Power   Model  Kilometer  RegistrationMonth  FuelType          Brand  \\\n",
              "88087     193     clk      20000                  7    petrol  mercedes_benz   \n",
              "171088    193     clk      20000                  7    petrol  mercedes_benz   \n",
              "41529     131  passat     150000                  7  gasoline     volkswagen   \n",
              "325651    131  passat     150000                  7  gasoline     volkswagen   \n",
              "90964      83   other     150000                  1    petrol         suzuki   \n",
              "231258     83   other     150000                  1    petrol         suzuki   \n",
              "187735    218     clk     125000                  6    petrol  mercedes_benz   \n",
              "258109    218     clk     125000                  6    petrol  mercedes_benz   \n",
              "\n",
              "       Repaired DateCreated  NumberOfPictures  PostalCode            LastSeen  \n",
              "88087        no  2016-03-08                 0       89518 2016-03-09 09:46:57  \n",
              "171088       no  2016-03-08                 0       89518 2016-03-09 09:46:57  \n",
              "41529        no  2016-03-18                 0       36391 2016-03-18 18:46:15  \n",
              "325651       no  2016-03-18                 0       36391 2016-03-18 18:46:15  \n",
              "90964        no  2016-03-28                 0       66589 2016-03-28 08:46:21  \n",
              "231258       no  2016-03-28                 0       66589 2016-03-28 08:46:21  \n",
              "187735      yes  2016-04-03                 0       75196 2016-04-07 09:44:54  \n",
              "258109      yes  2016-04-03                 0       75196 2016-04-07 09:44:54  "
            ],
            "text/html": [
              "\n",
              "  <div id=\"df-366e9e9c-8073-43ba-9478-1c4df76ab819\">\n",
              "    <div class=\"colab-df-container\">\n",
              "      <div>\n",
              "<style scoped>\n",
              "    .dataframe tbody tr th:only-of-type {\n",
              "        vertical-align: middle;\n",
              "    }\n",
              "\n",
              "    .dataframe tbody tr th {\n",
              "        vertical-align: top;\n",
              "    }\n",
              "\n",
              "    .dataframe thead th {\n",
              "        text-align: right;\n",
              "    }\n",
              "</style>\n",
              "<table border=\"1\" class=\"dataframe\">\n",
              "  <thead>\n",
              "    <tr style=\"text-align: right;\">\n",
              "      <th></th>\n",
              "      <th>DateCrawled</th>\n",
              "      <th>Price</th>\n",
              "      <th>VehicleType</th>\n",
              "      <th>RegistrationYear</th>\n",
              "      <th>Gearbox</th>\n",
              "      <th>Power</th>\n",
              "      <th>Model</th>\n",
              "      <th>Kilometer</th>\n",
              "      <th>RegistrationMonth</th>\n",
              "      <th>FuelType</th>\n",
              "      <th>Brand</th>\n",
              "      <th>Repaired</th>\n",
              "      <th>DateCreated</th>\n",
              "      <th>NumberOfPictures</th>\n",
              "      <th>PostalCode</th>\n",
              "      <th>LastSeen</th>\n",
              "    </tr>\n",
              "  </thead>\n",
              "  <tbody>\n",
              "    <tr>\n",
              "      <th>88087</th>\n",
              "      <td>2016-03-08 18:42:48</td>\n",
              "      <td>1799</td>\n",
              "      <td>coupe</td>\n",
              "      <td>1999</td>\n",
              "      <td>auto</td>\n",
              "      <td>193</td>\n",
              "      <td>clk</td>\n",
              "      <td>20000</td>\n",
              "      <td>7</td>\n",
              "      <td>petrol</td>\n",
              "      <td>mercedes_benz</td>\n",
              "      <td>no</td>\n",
              "      <td>2016-03-08</td>\n",
              "      <td>0</td>\n",
              "      <td>89518</td>\n",
              "      <td>2016-03-09 09:46:57</td>\n",
              "    </tr>\n",
              "    <tr>\n",
              "      <th>171088</th>\n",
              "      <td>2016-03-08 18:42:48</td>\n",
              "      <td>1799</td>\n",
              "      <td>coupe</td>\n",
              "      <td>1999</td>\n",
              "      <td>auto</td>\n",
              "      <td>193</td>\n",
              "      <td>clk</td>\n",
              "      <td>20000</td>\n",
              "      <td>7</td>\n",
              "      <td>petrol</td>\n",
              "      <td>mercedes_benz</td>\n",
              "      <td>no</td>\n",
              "      <td>2016-03-08</td>\n",
              "      <td>0</td>\n",
              "      <td>89518</td>\n",
              "      <td>2016-03-09 09:46:57</td>\n",
              "    </tr>\n",
              "    <tr>\n",
              "      <th>41529</th>\n",
              "      <td>2016-03-18 18:46:15</td>\n",
              "      <td>1999</td>\n",
              "      <td>wagon</td>\n",
              "      <td>2001</td>\n",
              "      <td>manual</td>\n",
              "      <td>131</td>\n",
              "      <td>passat</td>\n",
              "      <td>150000</td>\n",
              "      <td>7</td>\n",
              "      <td>gasoline</td>\n",
              "      <td>volkswagen</td>\n",
              "      <td>no</td>\n",
              "      <td>2016-03-18</td>\n",
              "      <td>0</td>\n",
              "      <td>36391</td>\n",
              "      <td>2016-03-18 18:46:15</td>\n",
              "    </tr>\n",
              "    <tr>\n",
              "      <th>325651</th>\n",
              "      <td>2016-03-18 18:46:15</td>\n",
              "      <td>1999</td>\n",
              "      <td>wagon</td>\n",
              "      <td>2001</td>\n",
              "      <td>manual</td>\n",
              "      <td>131</td>\n",
              "      <td>passat</td>\n",
              "      <td>150000</td>\n",
              "      <td>7</td>\n",
              "      <td>gasoline</td>\n",
              "      <td>volkswagen</td>\n",
              "      <td>no</td>\n",
              "      <td>2016-03-18</td>\n",
              "      <td>0</td>\n",
              "      <td>36391</td>\n",
              "      <td>2016-03-18 18:46:15</td>\n",
              "    </tr>\n",
              "    <tr>\n",
              "      <th>90964</th>\n",
              "      <td>2016-03-28 00:56:10</td>\n",
              "      <td>1000</td>\n",
              "      <td>small</td>\n",
              "      <td>2002</td>\n",
              "      <td>manual</td>\n",
              "      <td>83</td>\n",
              "      <td>other</td>\n",
              "      <td>150000</td>\n",
              "      <td>1</td>\n",
              "      <td>petrol</td>\n",
              "      <td>suzuki</td>\n",
              "      <td>no</td>\n",
              "      <td>2016-03-28</td>\n",
              "      <td>0</td>\n",
              "      <td>66589</td>\n",
              "      <td>2016-03-28 08:46:21</td>\n",
              "    </tr>\n",
              "    <tr>\n",
              "      <th>231258</th>\n",
              "      <td>2016-03-28 00:56:10</td>\n",
              "      <td>1000</td>\n",
              "      <td>small</td>\n",
              "      <td>2002</td>\n",
              "      <td>manual</td>\n",
              "      <td>83</td>\n",
              "      <td>other</td>\n",
              "      <td>150000</td>\n",
              "      <td>1</td>\n",
              "      <td>petrol</td>\n",
              "      <td>suzuki</td>\n",
              "      <td>no</td>\n",
              "      <td>2016-03-28</td>\n",
              "      <td>0</td>\n",
              "      <td>66589</td>\n",
              "      <td>2016-03-28 08:46:21</td>\n",
              "    </tr>\n",
              "    <tr>\n",
              "      <th>187735</th>\n",
              "      <td>2016-04-03 09:01:15</td>\n",
              "      <td>4699</td>\n",
              "      <td>coupe</td>\n",
              "      <td>2003</td>\n",
              "      <td>auto</td>\n",
              "      <td>218</td>\n",
              "      <td>clk</td>\n",
              "      <td>125000</td>\n",
              "      <td>6</td>\n",
              "      <td>petrol</td>\n",
              "      <td>mercedes_benz</td>\n",
              "      <td>yes</td>\n",
              "      <td>2016-04-03</td>\n",
              "      <td>0</td>\n",
              "      <td>75196</td>\n",
              "      <td>2016-04-07 09:44:54</td>\n",
              "    </tr>\n",
              "    <tr>\n",
              "      <th>258109</th>\n",
              "      <td>2016-04-03 09:01:15</td>\n",
              "      <td>4699</td>\n",
              "      <td>coupe</td>\n",
              "      <td>2003</td>\n",
              "      <td>auto</td>\n",
              "      <td>218</td>\n",
              "      <td>clk</td>\n",
              "      <td>125000</td>\n",
              "      <td>6</td>\n",
              "      <td>petrol</td>\n",
              "      <td>mercedes_benz</td>\n",
              "      <td>yes</td>\n",
              "      <td>2016-04-03</td>\n",
              "      <td>0</td>\n",
              "      <td>75196</td>\n",
              "      <td>2016-04-07 09:44:54</td>\n",
              "    </tr>\n",
              "  </tbody>\n",
              "</table>\n",
              "</div>\n",
              "      <button class=\"colab-df-convert\" onclick=\"convertToInteractive('df-366e9e9c-8073-43ba-9478-1c4df76ab819')\"\n",
              "              title=\"Convert this dataframe to an interactive table.\"\n",
              "              style=\"display:none;\">\n",
              "        \n",
              "  <svg xmlns=\"http://www.w3.org/2000/svg\" height=\"24px\"viewBox=\"0 0 24 24\"\n",
              "       width=\"24px\">\n",
              "    <path d=\"M0 0h24v24H0V0z\" fill=\"none\"/>\n",
              "    <path d=\"M18.56 5.44l.94 2.06.94-2.06 2.06-.94-2.06-.94-.94-2.06-.94 2.06-2.06.94zm-11 1L8.5 8.5l.94-2.06 2.06-.94-2.06-.94L8.5 2.5l-.94 2.06-2.06.94zm10 10l.94 2.06.94-2.06 2.06-.94-2.06-.94-.94-2.06-.94 2.06-2.06.94z\"/><path d=\"M17.41 7.96l-1.37-1.37c-.4-.4-.92-.59-1.43-.59-.52 0-1.04.2-1.43.59L10.3 9.45l-7.72 7.72c-.78.78-.78 2.05 0 2.83L4 21.41c.39.39.9.59 1.41.59.51 0 1.02-.2 1.41-.59l7.78-7.78 2.81-2.81c.8-.78.8-2.07 0-2.86zM5.41 20L4 18.59l7.72-7.72 1.47 1.35L5.41 20z\"/>\n",
              "  </svg>\n",
              "      </button>\n",
              "      \n",
              "  <style>\n",
              "    .colab-df-container {\n",
              "      display:flex;\n",
              "      flex-wrap:wrap;\n",
              "      gap: 12px;\n",
              "    }\n",
              "\n",
              "    .colab-df-convert {\n",
              "      background-color: #E8F0FE;\n",
              "      border: none;\n",
              "      border-radius: 50%;\n",
              "      cursor: pointer;\n",
              "      display: none;\n",
              "      fill: #1967D2;\n",
              "      height: 32px;\n",
              "      padding: 0 0 0 0;\n",
              "      width: 32px;\n",
              "    }\n",
              "\n",
              "    .colab-df-convert:hover {\n",
              "      background-color: #E2EBFA;\n",
              "      box-shadow: 0px 1px 2px rgba(60, 64, 67, 0.3), 0px 1px 3px 1px rgba(60, 64, 67, 0.15);\n",
              "      fill: #174EA6;\n",
              "    }\n",
              "\n",
              "    [theme=dark] .colab-df-convert {\n",
              "      background-color: #3B4455;\n",
              "      fill: #D2E3FC;\n",
              "    }\n",
              "\n",
              "    [theme=dark] .colab-df-convert:hover {\n",
              "      background-color: #434B5C;\n",
              "      box-shadow: 0px 1px 3px 1px rgba(0, 0, 0, 0.15);\n",
              "      filter: drop-shadow(0px 1px 2px rgba(0, 0, 0, 0.3));\n",
              "      fill: #FFFFFF;\n",
              "    }\n",
              "  </style>\n",
              "\n",
              "      <script>\n",
              "        const buttonEl =\n",
              "          document.querySelector('#df-366e9e9c-8073-43ba-9478-1c4df76ab819 button.colab-df-convert');\n",
              "        buttonEl.style.display =\n",
              "          google.colab.kernel.accessAllowed ? 'block' : 'none';\n",
              "\n",
              "        async function convertToInteractive(key) {\n",
              "          const element = document.querySelector('#df-366e9e9c-8073-43ba-9478-1c4df76ab819');\n",
              "          const dataTable =\n",
              "            await google.colab.kernel.invokeFunction('convertToInteractive',\n",
              "                                                     [key], {});\n",
              "          if (!dataTable) return;\n",
              "\n",
              "          const docLinkHtml = 'Like what you see? Visit the ' +\n",
              "            '<a target=\"_blank\" href=https://colab.research.google.com/notebooks/data_table.ipynb>data table notebook</a>'\n",
              "            + ' to learn more about interactive tables.';\n",
              "          element.innerHTML = '';\n",
              "          dataTable['output_type'] = 'display_data';\n",
              "          await google.colab.output.renderOutput(dataTable, element);\n",
              "          const docLink = document.createElement('div');\n",
              "          docLink.innerHTML = docLinkHtml;\n",
              "          element.appendChild(docLink);\n",
              "        }\n",
              "      </script>\n",
              "    </div>\n",
              "  </div>\n",
              "  "
            ]
          },
          "metadata": {}
        }
      ],
      "source": [
        "print('Количество строк дубликатов -', data.duplicated().sum())\n",
        "print('')\n",
        "print('Все строки с повторяющимися данными:')\n",
        "double = data.duplicated(keep = False)\n",
        "display(data[double].sort_values(by = 'DateCreated'))"
      ]
    },
    {
      "cell_type": "markdown",
      "metadata": {
        "id": "rSjBrzufCTDd"
      },
      "source": [
        "Маловероятно, что в одно и тоже время разных человеака продают идентичные машины. Следовательно, данное задвоение связано с програмной ошибкой. Поэтому дубликаты следует исключить."
      ]
    },
    {
      "cell_type": "code",
      "execution_count": 12,
      "metadata": {
        "id": "XEFkP5BGCTDe"
      },
      "outputs": [],
      "source": [
        "data = data.drop_duplicates().reset_index(drop=True)"
      ]
    },
    {
      "cell_type": "markdown",
      "metadata": {
        "id": "Lhlydbr1CTDf"
      },
      "source": [
        "### Распределение значений"
      ]
    },
    {
      "cell_type": "code",
      "execution_count": 13,
      "metadata": {
        "colab": {
          "base_uri": "https://localhost:8080/",
          "height": 1000
        },
        "id": "OEoomCPLCTDf",
        "outputId": "4c5b25a1-0b85-4497-978c-de38c74392ab"
      },
      "outputs": [
        {
          "output_type": "display_data",
          "data": {
            "text/plain": [
              "<Figure size 1200x1600 with 12 Axes>"
            ],
            "image/png": "[encoded data removed]"
          },
          "metadata": {}
        }
      ],
      "source": [
        "data.hist(bins=10, figsize=(12, 16))\n",
        "plt.show()"
      ]
    },
    {
      "cell_type": "markdown",
      "metadata": {
        "id": "suZKvKsDCTDg"
      },
      "source": [
        "На графиках гистограм есть странности с распределением в некоторых столбцах. Это может быть связано с ошибками в значениях или аномалиями."
      ]
    },
    {
      "cell_type": "code",
      "execution_count": 14,
      "metadata": {
        "colab": {
          "base_uri": "https://localhost:8080/",
          "height": 1000
        },
        "id": "9qbXs7IECTDg",
        "outputId": "fb54e17f-c903-4422-ff07-78f0c19a68cc"
      },
      "outputs": [
        {
          "output_type": "display_data",
          "data": {
            "text/plain": [
              "<Figure size 640x480 with 1 Axes>"
            ],
            "image/png": "[encoded data removed]"
          },
          "metadata": {}
        },
        {
          "output_type": "display_data",
          "data": {
            "text/plain": [
              "<Figure size 640x480 with 1 Axes>"
            ],
            "image/png": "[encoded data removed]"
          },
          "metadata": {}
        },
        {
          "output_type": "display_data",
          "data": {
            "text/plain": [
              "<Figure size 640x480 with 1 Axes>"
            ],
            "image/png": "[encoded data removed]"
          },
          "metadata": {}
        },
        {
          "output_type": "display_data",
          "data": {
            "text/plain": [
              "<Figure size 640x480 with 1 Axes>"
            ],
            "image/png": "[encoded data removed]"
          },
          "metadata": {}
        },
        {
          "output_type": "display_data",
          "data": {
            "text/plain": [
              "<Figure size 640x480 with 1 Axes>"
            ],
            "image/png": "[encoded data removed]"
          },
          "metadata": {}
        }
      ],
      "source": [
        "col = ['Price', 'RegistrationYear', 'Power', 'Kilometer', 'NumberOfPictures']\n",
        "for param in col:\n",
        "    data.boxplot(column=param)\n",
        "    plt.show()"
      ]
    },
    {
      "cell_type": "markdown",
      "metadata": {
        "id": "0SfNmeCTCTDh"
      },
      "source": [
        "Распределение на ящиках с усами показало, что во всех обявлениях отсутствуют фотографии авто. В столбце значений пробега автомобиля тоже всё в порябдке. А вот распределение значений цены, мощности и года регистрации вызывает вопросы. \n",
        "\n",
        "Для начала разбиремся с выбросами в столбце года регистрации. На данный момент идёт февраль 2023год, значит года регистрации с более поздней датой являютя ошибкой. Первый серийный автомобиль был выпущен в 1885 году, маловероятно, что такие ретро автомобили будут продаваться через приложение. Ограничим ретро автомобили 1980 годом."
      ]
    },
    {
      "cell_type": "code",
      "execution_count": 15,
      "metadata": {
        "colab": {
          "base_uri": "https://localhost:8080/"
        },
        "id": "M-PgxLfrCTDi",
        "outputId": "5a20bad6-bd35-4fcd-e82f-89685e814af6"
      },
      "outputs": [
        {
          "output_type": "stream",
          "name": "stdout",
          "text": [
            "Количество строк с явно ошибочным годом: 3557\n"
          ]
        }
      ],
      "source": [
        "print('Количество строк с явно ошибочным годом:', \n",
        "      data.loc[(data['RegistrationYear'] < 1980)|\\\n",
        "               (data['RegistrationYear'] > 2022)]['RegistrationYear']\\\n",
        "               .count())"
      ]
    },
    {
      "cell_type": "markdown",
      "metadata": {
        "id": "LXV93ZGfCTDi"
      },
      "source": [
        "Это 1% выбросов. Удаление такого количества данных не повлияет на исследовани."
      ]
    },
    {
      "cell_type": "code",
      "execution_count": 16,
      "metadata": {
        "id": "_v_wBzgxCTDi"
      },
      "outputs": [],
      "source": [
        "data_cl = data.loc[(data['RegistrationYear'] > 1980)&\\\n",
        "                (data['RegistrationYear'] < 2023)]"
      ]
    },
    {
      "cell_type": "markdown",
      "metadata": {
        "id": "e7mLA7OOCTDj"
      },
      "source": [
        "Теперь рассмотрим мощность автмобилей в подборке. На 2022 год самый мощный двигатель имеет 1500 л.с.. Высокие мощности двигателя не являются частым явлением, поэтому ограничим  более распространненый диапазон( менее 400л.с.)."
      ]
    },
    {
      "cell_type": "code",
      "execution_count": 17,
      "metadata": {
        "colab": {
          "base_uri": "https://localhost:8080/"
        },
        "id": "WMs7tftFCTDk",
        "outputId": "c2e5568c-56f1-4586-83a2-a1b78448ad22"
      },
      "outputs": [
        {
          "output_type": "stream",
          "name": "stdout",
          "text": [
            "Количество строк с явно ошибочной мощностью: 713\n"
          ]
        }
      ],
      "source": [
        "print('Количество строк с явно ошибочной мощностью:', \n",
        "      data_cl.loc[data_cl['Power'] > 400]['RegistrationYear'].count())"
      ]
    },
    {
      "cell_type": "code",
      "execution_count": 18,
      "metadata": {
        "id": "bEbCe9uACTDk"
      },
      "outputs": [],
      "source": [
        "data_cl = data_cl.loc[data_cl['Power'] < 400]"
      ]
    },
    {
      "cell_type": "markdown",
      "metadata": {
        "id": "fkKwxXrRCTDl"
      },
      "source": [
        "Следует отметить наличие нулевых значений в количественных параметрах цены, мощности, месяца регистации, скорее всего они связаны с незаполненными графами, и  0 является заглушкой."
      ]
    },
    {
      "cell_type": "markdown",
      "metadata": {
        "id": "XZmOLIveCTDl"
      },
      "source": [
        "### Связь между данными"
      ]
    },
    {
      "cell_type": "markdown",
      "metadata": {
        "id": "J-hTkYT_CTDl"
      },
      "source": [
        "Рассмотрим взаимосвязь между целевым признаком и остальными данными."
      ]
    },
    {
      "cell_type": "code",
      "execution_count": 19,
      "metadata": {
        "colab": {
          "base_uri": "https://localhost:8080/",
          "height": 549
        },
        "id": "lEIPqT2dCTDm",
        "outputId": "cbe382c3-af9f-4ea5-8e14-1c7af4e75c5c"
      },
      "outputs": [
        {
          "output_type": "display_data",
          "data": {
            "text/plain": [
              "<Figure size 640x480 with 2 Axes>"
            ],
            "image/png": "[encoded data removed]"
          },
          "metadata": {}
        }
      ],
      "source": [
        "sb.heatmap(data_cl.corr(), annot=True)\n",
        "plt.show()"
      ]
    },
    {
      "cell_type": "markdown",
      "metadata": {
        "id": "YLxWFiIaCTDm"
      },
      "source": [
        "По графику корреляции видно, что наш целевой признак(стоимость) имеет сильную положительную линейную связь с годом регистрации и мощностью двигателя и ощутимую отридцательную связь с пробегом."
      ]
    },
    {
      "cell_type": "markdown",
      "metadata": {
        "id": "9L3mR9PBCTDn"
      },
      "source": [
        "Теперь можно перейти к исключению неинформативных столбцов - количество фото( так как в данном столбце нет никаких данных),  последняя активность пользователя и дата скачивания анкеты из базы( так как данная взаимосвязь маловероятна)."
      ]
    },
    {
      "cell_type": "code",
      "execution_count": 20,
      "metadata": {
        "id": "vzUWXWAxCTDn"
      },
      "outputs": [],
      "source": [
        "data_cl = data_cl.drop(['NumberOfPictures', 'DateCrawled', 'LastSeen', 'DateCreated'], axis=1)"
      ]
    },
    {
      "cell_type": "markdown",
      "metadata": {
        "id": "N32b3luJCTDo"
      },
      "source": [
        "### Заполнение пропусков"
      ]
    },
    {
      "cell_type": "markdown",
      "metadata": {
        "id": "EnfQKiQHCTDo"
      },
      "source": [
        "Вернемся к обработке пропусков, которые были обнаружены ранее.\n",
        "\n",
        "Данные, в которых одновременно есть пропуски во столбцах с пропусками нельзя считать доставерными, так как это могут быть как ошибочно заполненные объявления, так и возможные ошибки при выгрузке данных. Так как с этими данными будет сложно работать, передадим их для дальнейшего исследования и исключим их из исследуемых данных."
      ]
    },
    {
      "cell_type": "code",
      "execution_count": 21,
      "metadata": {
        "colab": {
          "base_uri": "https://localhost:8080/",
          "height": 424
        },
        "id": "hK25jmw7CTDp",
        "outputId": "165f1354-6ec2-4b43-8283-e480943f5e77"
      },
      "outputs": [
        {
          "output_type": "execute_result",
          "data": {
            "text/plain": [
              "        Price VehicleType  RegistrationYear Gearbox  Power Model  Kilometer  \\\n",
              "37667    8900         NaN              1995     NaN    392   NaN     100000   \n",
              "166675      0         NaN              2000     NaN    350   NaN     100000   \n",
              "125438  15500         NaN              2018     NaN    310   NaN     150000   \n",
              "349561  10550         NaN              2017     NaN    307   NaN      80000   \n",
              "255013   7000         NaN              2017     NaN    299   NaN     150000   \n",
              "...       ...         ...               ...     ...    ...   ...        ...   \n",
              "118485   3500         NaN              2000     NaN      0   NaN     150000   \n",
              "118426   1500         NaN              1995     NaN      0   NaN     150000   \n",
              "118321   1400         NaN              2000     NaN      0   NaN     125000   \n",
              "118287     11         NaN              1995     NaN      0   NaN     150000   \n",
              "354361   2200         NaN              2005     NaN      0   NaN      20000   \n",
              "\n",
              "        RegistrationMonth FuelType           Brand Repaired  PostalCode  \n",
              "37667                   5      NaN      volkswagen      NaN       88416  \n",
              "166675                  0      NaN            audi      NaN       12679  \n",
              "125438                  7      NaN          nissan      NaN       24891  \n",
              "349561                  6      NaN           honda      NaN       36208  \n",
              "255013                  0      NaN             bmw      NaN       80331  \n",
              "...                   ...      ...             ...      ...         ...  \n",
              "118485                  0      NaN  sonstige_autos      NaN       13127  \n",
              "118426                  0      NaN             bmw      NaN       77974  \n",
              "118321                  0      NaN           mazda      NaN       44623  \n",
              "118287                 12      NaN  sonstige_autos      NaN        6618  \n",
              "354361                  1      NaN  sonstige_autos      NaN       39576  \n",
              "\n",
              "[1977 rows x 12 columns]"
            ],
            "text/html": [
              "\n",
              "  <div id=\"df-958d999a-0cf3-421e-bed0-2cba6147bbfd\">\n",
              "    <div class=\"colab-df-container\">\n",
              "      <div>\n",
              "<style scoped>\n",
              "    .dataframe tbody tr th:only-of-type {\n",
              "        vertical-align: middle;\n",
              "    }\n",
              "\n",
              "    .dataframe tbody tr th {\n",
              "        vertical-align: top;\n",
              "    }\n",
              "\n",
              "    .dataframe thead th {\n",
              "        text-align: right;\n",
              "    }\n",
              "</style>\n",
              "<table border=\"1\" class=\"dataframe\">\n",
              "  <thead>\n",
              "    <tr style=\"text-align: right;\">\n",
              "      <th></th>\n",
              "      <th>Price</th>\n",
              "      <th>VehicleType</th>\n",
              "      <th>RegistrationYear</th>\n",
              "      <th>Gearbox</th>\n",
              "      <th>Power</th>\n",
              "      <th>Model</th>\n",
              "      <th>Kilometer</th>\n",
              "      <th>RegistrationMonth</th>\n",
              "      <th>FuelType</th>\n",
              "      <th>Brand</th>\n",
              "      <th>Repaired</th>\n",
              "      <th>PostalCode</th>\n",
              "    </tr>\n",
              "  </thead>\n",
              "  <tbody>\n",
              "    <tr>\n",
              "      <th>37667</th>\n",
              "      <td>8900</td>\n",
              "      <td>NaN</td>\n",
              "      <td>1995</td>\n",
              "      <td>NaN</td>\n",
              "      <td>392</td>\n",
              "      <td>NaN</td>\n",
              "      <td>100000</td>\n",
              "      <td>5</td>\n",
              "      <td>NaN</td>\n",
              "      <td>volkswagen</td>\n",
              "      <td>NaN</td>\n",
              "      <td>88416</td>\n",
              "    </tr>\n",
              "    <tr>\n",
              "      <th>166675</th>\n",
              "      <td>0</td>\n",
              "      <td>NaN</td>\n",
              "      <td>2000</td>\n",
              "      <td>NaN</td>\n",
              "      <td>350</td>\n",
              "      <td>NaN</td>\n",
              "      <td>100000</td>\n",
              "      <td>0</td>\n",
              "      <td>NaN</td>\n",
              "      <td>audi</td>\n",
              "      <td>NaN</td>\n",
              "      <td>12679</td>\n",
              "    </tr>\n",
              "    <tr>\n",
              "      <th>125438</th>\n",
              "      <td>15500</td>\n",
              "      <td>NaN</td>\n",
              "      <td>2018</td>\n",
              "      <td>NaN</td>\n",
              "      <td>310</td>\n",
              "      <td>NaN</td>\n",
              "      <td>150000</td>\n",
              "      <td>7</td>\n",
              "      <td>NaN</td>\n",
              "      <td>nissan</td>\n",
              "      <td>NaN</td>\n",
              "      <td>24891</td>\n",
              "    </tr>\n",
              "    <tr>\n",
              "      <th>349561</th>\n",
              "      <td>10550</td>\n",
              "      <td>NaN</td>\n",
              "      <td>2017</td>\n",
              "      <td>NaN</td>\n",
              "      <td>307</td>\n",
              "      <td>NaN</td>\n",
              "      <td>80000</td>\n",
              "      <td>6</td>\n",
              "      <td>NaN</td>\n",
              "      <td>honda</td>\n",
              "      <td>NaN</td>\n",
              "      <td>36208</td>\n",
              "    </tr>\n",
              "    <tr>\n",
              "      <th>255013</th>\n",
              "      <td>7000</td>\n",
              "      <td>NaN</td>\n",
              "      <td>2017</td>\n",
              "      <td>NaN</td>\n",
              "      <td>299</td>\n",
              "      <td>NaN</td>\n",
              "      <td>150000</td>\n",
              "      <td>0</td>\n",
              "      <td>NaN</td>\n",
              "      <td>bmw</td>\n",
              "      <td>NaN</td>\n",
              "      <td>80331</td>\n",
              "    </tr>\n",
              "    <tr>\n",
              "      <th>...</th>\n",
              "      <td>...</td>\n",
              "      <td>...</td>\n",
              "      <td>...</td>\n",
              "      <td>...</td>\n",
              "      <td>...</td>\n",
              "      <td>...</td>\n",
              "      <td>...</td>\n",
              "      <td>...</td>\n",
              "      <td>...</td>\n",
              "      <td>...</td>\n",
              "      <td>...</td>\n",
              "      <td>...</td>\n",
              "    </tr>\n",
              "    <tr>\n",
              "      <th>118485</th>\n",
              "      <td>3500</td>\n",
              "      <td>NaN</td>\n",
              "      <td>2000</td>\n",
              "      <td>NaN</td>\n",
              "      <td>0</td>\n",
              "      <td>NaN</td>\n",
              "      <td>150000</td>\n",
              "      <td>0</td>\n",
              "      <td>NaN</td>\n",
              "      <td>sonstige_autos</td>\n",
              "      <td>NaN</td>\n",
              "      <td>13127</td>\n",
              "    </tr>\n",
              "    <tr>\n",
              "      <th>118426</th>\n",
              "      <td>1500</td>\n",
              "      <td>NaN</td>\n",
              "      <td>1995</td>\n",
              "      <td>NaN</td>\n",
              "      <td>0</td>\n",
              "      <td>NaN</td>\n",
              "      <td>150000</td>\n",
              "      <td>0</td>\n",
              "      <td>NaN</td>\n",
              "      <td>bmw</td>\n",
              "      <td>NaN</td>\n",
              "      <td>77974</td>\n",
              "    </tr>\n",
              "    <tr>\n",
              "      <th>118321</th>\n",
              "      <td>1400</td>\n",
              "      <td>NaN</td>\n",
              "      <td>2000</td>\n",
              "      <td>NaN</td>\n",
              "      <td>0</td>\n",
              "      <td>NaN</td>\n",
              "      <td>125000</td>\n",
              "      <td>0</td>\n",
              "      <td>NaN</td>\n",
              "      <td>mazda</td>\n",
              "      <td>NaN</td>\n",
              "      <td>44623</td>\n",
              "    </tr>\n",
              "    <tr>\n",
              "      <th>118287</th>\n",
              "      <td>11</td>\n",
              "      <td>NaN</td>\n",
              "      <td>1995</td>\n",
              "      <td>NaN</td>\n",
              "      <td>0</td>\n",
              "      <td>NaN</td>\n",
              "      <td>150000</td>\n",
              "      <td>12</td>\n",
              "      <td>NaN</td>\n",
              "      <td>sonstige_autos</td>\n",
              "      <td>NaN</td>\n",
              "      <td>6618</td>\n",
              "    </tr>\n",
              "    <tr>\n",
              "      <th>354361</th>\n",
              "      <td>2200</td>\n",
              "      <td>NaN</td>\n",
              "      <td>2005</td>\n",
              "      <td>NaN</td>\n",
              "      <td>0</td>\n",
              "      <td>NaN</td>\n",
              "      <td>20000</td>\n",
              "      <td>1</td>\n",
              "      <td>NaN</td>\n",
              "      <td>sonstige_autos</td>\n",
              "      <td>NaN</td>\n",
              "      <td>39576</td>\n",
              "    </tr>\n",
              "  </tbody>\n",
              "</table>\n",
              "<p>1977 rows × 12 columns</p>\n",
              "</div>\n",
              "      <button class=\"colab-df-convert\" onclick=\"convertToInteractive('df-958d999a-0cf3-421e-bed0-2cba6147bbfd')\"\n",
              "              title=\"Convert this dataframe to an interactive table.\"\n",
              "              style=\"display:none;\">\n",
              "        \n",
              "  <svg xmlns=\"http://www.w3.org/2000/svg\" height=\"24px\"viewBox=\"0 0 24 24\"\n",
              "       width=\"24px\">\n",
              "    <path d=\"M0 0h24v24H0V0z\" fill=\"none\"/>\n",
              "    <path d=\"M18.56 5.44l.94 2.06.94-2.06 2.06-.94-2.06-.94-.94-2.06-.94 2.06-2.06.94zm-11 1L8.5 8.5l.94-2.06 2.06-.94-2.06-.94L8.5 2.5l-.94 2.06-2.06.94zm10 10l.94 2.06.94-2.06 2.06-.94-2.06-.94-.94-2.06-.94 2.06-2.06.94z\"/><path d=\"M17.41 7.96l-1.37-1.37c-.4-.4-.92-.59-1.43-.59-.52 0-1.04.2-1.43.59L10.3 9.45l-7.72 7.72c-.78.78-.78 2.05 0 2.83L4 21.41c.39.39.9.59 1.41.59.51 0 1.02-.2 1.41-.59l7.78-7.78 2.81-2.81c.8-.78.8-2.07 0-2.86zM5.41 20L4 18.59l7.72-7.72 1.47 1.35L5.41 20z\"/>\n",
              "  </svg>\n",
              "      </button>\n",
              "      \n",
              "  <style>\n",
              "    .colab-df-container {\n",
              "      display:flex;\n",
              "      flex-wrap:wrap;\n",
              "      gap: 12px;\n",
              "    }\n",
              "\n",
              "    .colab-df-convert {\n",
              "      background-color: #E8F0FE;\n",
              "      border: none;\n",
              "      border-radius: 50%;\n",
              "      cursor: pointer;\n",
              "      display: none;\n",
              "      fill: #1967D2;\n",
              "      height: 32px;\n",
              "      padding: 0 0 0 0;\n",
              "      width: 32px;\n",
              "    }\n",
              "\n",
              "    .colab-df-convert:hover {\n",
              "      background-color: #E2EBFA;\n",
              "      box-shadow: 0px 1px 2px rgba(60, 64, 67, 0.3), 0px 1px 3px 1px rgba(60, 64, 67, 0.15);\n",
              "      fill: #174EA6;\n",
              "    }\n",
              "\n",
              "    [theme=dark] .colab-df-convert {\n",
              "      background-color: #3B4455;\n",
              "      fill: #D2E3FC;\n",
              "    }\n",
              "\n",
              "    [theme=dark] .colab-df-convert:hover {\n",
              "      background-color: #434B5C;\n",
              "      box-shadow: 0px 1px 3px 1px rgba(0, 0, 0, 0.15);\n",
              "      filter: drop-shadow(0px 1px 2px rgba(0, 0, 0, 0.3));\n",
              "      fill: #FFFFFF;\n",
              "    }\n",
              "  </style>\n",
              "\n",
              "      <script>\n",
              "        const buttonEl =\n",
              "          document.querySelector('#df-958d999a-0cf3-421e-bed0-2cba6147bbfd button.colab-df-convert');\n",
              "        buttonEl.style.display =\n",
              "          google.colab.kernel.accessAllowed ? 'block' : 'none';\n",
              "\n",
              "        async function convertToInteractive(key) {\n",
              "          const element = document.querySelector('#df-958d999a-0cf3-421e-bed0-2cba6147bbfd');\n",
              "          const dataTable =\n",
              "            await google.colab.kernel.invokeFunction('convertToInteractive',\n",
              "                                                     [key], {});\n",
              "          if (!dataTable) return;\n",
              "\n",
              "          const docLinkHtml = 'Like what you see? Visit the ' +\n",
              "            '<a target=\"_blank\" href=https://colab.research.google.com/notebooks/data_table.ipynb>data table notebook</a>'\n",
              "            + ' to learn more about interactive tables.';\n",
              "          element.innerHTML = '';\n",
              "          dataTable['output_type'] = 'display_data';\n",
              "          await google.colab.output.renderOutput(dataTable, element);\n",
              "          const docLink = document.createElement('div');\n",
              "          docLink.innerHTML = docLinkHtml;\n",
              "          element.appendChild(docLink);\n",
              "        }\n",
              "      </script>\n",
              "    </div>\n",
              "  </div>\n",
              "  "
            ]
          },
          "metadata": {},
          "execution_count": 21
        }
      ],
      "source": [
        "data_cl[data_cl[['Repaired', 'VehicleType', 'FuelType', 'Gearbox', 'Model']].isnull().all(1)]\\\n",
        "                .sort_values(by = 'Power', ascending=False)"
      ]
    },
    {
      "cell_type": "code",
      "execution_count": 22,
      "metadata": {
        "id": "cxfolzVsCTDp"
      },
      "outputs": [],
      "source": [
        "index_cl = data_cl[data_cl[['Repaired', 'VehicleType', 'FuelType', 'Gearbox', 'Model']]\n",
        "                          .isnull().all(1)].index\n",
        "data_cl = data_cl.drop(index_cl)"
      ]
    },
    {
      "cell_type": "markdown",
      "metadata": {
        "id": "xJI5LOnICTDq"
      },
      "source": [
        "Продолжим с информации о ремонте автомобиля и типа коробки передач. Процент пропусков в данных составлял 20% и 5%. Так как информмацию мы не можем предсказать, был ли в ремонте конкретный автомобиль, или какая коробка передач установлена, заменим пропуски на отсутствие данных(unspecified)."
      ]
    },
    {
      "cell_type": "code",
      "execution_count": 23,
      "metadata": {
        "id": "UKTJ58m4CTDq"
      },
      "outputs": [],
      "source": [
        "data_cl['Repaired'] = data_cl['Repaired'].fillna('unspecified')"
      ]
    },
    {
      "cell_type": "code",
      "execution_count": 24,
      "metadata": {
        "id": "vCfW-c-cCTDr"
      },
      "outputs": [],
      "source": [
        "data_cl['Gearbox'] = data_cl['Gearbox'].fillna('unspecified')"
      ]
    },
    {
      "cell_type": "markdown",
      "metadata": {
        "id": "xN2blCk3CTDr"
      },
      "source": [
        "Теперь рассмотрим пропуски в категории вид топлива."
      ]
    },
    {
      "cell_type": "code",
      "execution_count": 25,
      "metadata": {
        "colab": {
          "base_uri": "https://localhost:8080/"
        },
        "id": "IrPWnjLmCTDr",
        "outputId": "5bc6b491-d1bb-4e76-aaa8-5c3763ea63c9"
      },
      "outputs": [
        {
          "output_type": "execute_result",
          "data": {
            "text/plain": [
              "array(['petrol', 'gasoline', nan, 'lpg', 'other', 'hybrid', 'cng',\n",
              "       'electric'], dtype=object)"
            ]
          },
          "metadata": {},
          "execution_count": 25
        }
      ],
      "source": [
        "data_cl['FuelType'].unique()"
      ]
    },
    {
      "cell_type": "markdown",
      "metadata": {
        "id": "TLYtu4FfCTDs"
      },
      "source": [
        "В графе есть два идентичных значения 'petrol' и 'gasoline'(оба обозначают бензин). Имеет смысл упразднить и превести к одному обозначению 'petrol'."
      ]
    },
    {
      "cell_type": "code",
      "execution_count": 26,
      "metadata": {
        "id": "4w_sfkvGCTDs"
      },
      "outputs": [],
      "source": [
        "data_cl = data_cl.replace({'FuelType':{'gasoline':'petrol'}})"
      ]
    },
    {
      "cell_type": "markdown",
      "metadata": {
        "id": "7YqfVJsrCTDt"
      },
      "source": [
        "Так как оставшиеся переменные с пропусками являются категориальными введем в них новую категорию, обозначающую незаполненные данные( по аналогии с коничественными признаками, в которых указан 0 в качестве заглушки(цена, месяц регистрации и мощность))."
      ]
    },
    {
      "cell_type": "code",
      "execution_count": 27,
      "metadata": {
        "id": "JmYyWjTpCTDt"
      },
      "outputs": [],
      "source": [
        "data_cl = data_cl.fillna('unspecified')"
      ]
    },
    {
      "cell_type": "markdown",
      "metadata": {
        "id": "MdROQz8cCTDt"
      },
      "source": [
        "Проверим, не осталось ли пропусков в данных."
      ]
    },
    {
      "cell_type": "code",
      "execution_count": 28,
      "metadata": {
        "colab": {
          "base_uri": "https://localhost:8080/"
        },
        "id": "5O6Esl1eCTDu",
        "outputId": "ced8a023-0ec3-482a-cd37-4abfbaa00378"
      },
      "outputs": [
        {
          "output_type": "stream",
          "name": "stdout",
          "text": [
            "<class 'pandas.core.frame.DataFrame'>\n",
            "Int64Index: 347478 entries, 0 to 354364\n",
            "Data columns (total 12 columns):\n",
            " #   Column             Non-Null Count   Dtype \n",
            "---  ------             --------------   ----- \n",
            " 0   Price              347478 non-null  int64 \n",
            " 1   VehicleType        347478 non-null  object\n",
            " 2   RegistrationYear   347478 non-null  int64 \n",
            " 3   Gearbox            347478 non-null  object\n",
            " 4   Power              347478 non-null  int64 \n",
            " 5   Model              347478 non-null  object\n",
            " 6   Kilometer          347478 non-null  int64 \n",
            " 7   RegistrationMonth  347478 non-null  int64 \n",
            " 8   FuelType           347478 non-null  object\n",
            " 9   Brand              347478 non-null  object\n",
            " 10  Repaired           347478 non-null  object\n",
            " 11  PostalCode         347478 non-null  int64 \n",
            "dtypes: int64(6), object(6)\n",
            "memory usage: 34.5+ MB\n"
          ]
        }
      ],
      "source": [
        "data_cl.info()"
      ]
    },
    {
      "cell_type": "markdown",
      "metadata": {
        "id": "sefywM_uCTDu"
      },
      "source": [
        "И так, пропусков в данных не осталось, теперь мы можем перейти к разработке моделей."
      ]
    },
    {
      "cell_type": "markdown",
      "metadata": {
        "id": "lqusoR_VCTDv"
      },
      "source": [
        "## Обучение моделей"
      ]
    },
    {
      "cell_type": "markdown",
      "metadata": {
        "id": "hOmtBsSXCTDv"
      },
      "source": [
        "Для предсказаний рассмотрим 3 модели - линейная регрессия, случайный лес решающих деревьев, и LightGBM. В качестве метрики качества будем использовать RMSE(<2500) и время обучения модели.\n",
        "\n",
        "Для начала разделим данные на выборки."
      ]
    },
    {
      "cell_type": "code",
      "execution_count": 29,
      "metadata": {
        "id": "2rCXHc2HCTDv"
      },
      "outputs": [],
      "source": [
        "features_data = data_cl.drop(['Price'], axis=1)\n",
        "target_data = data_cl['Price']"
      ]
    },
    {
      "cell_type": "code",
      "execution_count": 30,
      "metadata": {
        "id": "QiIwLJHjCTDw"
      },
      "outputs": [],
      "source": [
        "features_train, features_valid_test, \\\n",
        " target_train, target_valid_test = \\\n",
        "              train_test_split(features_data, \n",
        "                               target_data,\n",
        "                               test_size=0.4, \n",
        "                               random_state=12345)"
      ]
    },
    {
      "cell_type": "code",
      "execution_count": 31,
      "metadata": {
        "id": "Cm_x3MTLCTDw"
      },
      "outputs": [],
      "source": [
        "features_valid, features_test, \\\n",
        "target_valid, target_test = \\\n",
        "               train_test_split(features_valid_test, \n",
        "                                target_valid_test, \n",
        "                                test_size=0.5, \n",
        "                                random_state=12345)"
      ]
    },
    {
      "cell_type": "markdown",
      "metadata": {
        "id": "L3L4hrrRCTDw"
      },
      "source": [
        "Скопируем выборки для дальнейшего кодирования"
      ]
    },
    {
      "cell_type": "code",
      "execution_count": 32,
      "metadata": {
        "id": "EsxcwqbzCTDx"
      },
      "outputs": [],
      "source": [
        "features_train_ord = features_train.copy()\n",
        "features_valid_ord = features_valid.copy()\n",
        "features_test_ord = features_test.copy()"
      ]
    },
    {
      "cell_type": "markdown",
      "metadata": {
        "id": "kgyUOM2OCTDx"
      },
      "source": [
        "Для обучения простых моделей преобразуем категориальные признаки в числовые. Для этого воспользуемся методом прямого кодирования. Также для повышения точности прогнозов произведем масштабирование признаков."
      ]
    },
    {
      "cell_type": "code",
      "execution_count": 33,
      "metadata": {
        "id": "faTyb8TgCTDx"
      },
      "outputs": [],
      "source": [
        "cat_features = ['VehicleType', 'Gearbox', \n",
        "                'Model', 'FuelType', \n",
        "                'Brand', 'Repaired']\n",
        "num_features = ['RegistrationYear', 'Power', \n",
        "                'Kilometer', 'RegistrationMonth',\n",
        "                'PostalCode']"
      ]
    },
    {
      "cell_type": "code",
      "execution_count": 36,
      "metadata": {
        "colab": {
          "base_uri": "https://localhost:8080/",
          "height": 75
        },
        "id": "yjonBmJ_CTDy",
        "outputId": "0f443474-6b69-40a5-f6c5-0282ae333c00"
      },
      "outputs": [
        {
          "output_type": "execute_result",
          "data": {
            "text/plain": [
              "OrdinalEncoder(handle_unknown='use_encoded_value', unknown_value=-1)"
            ],
            "text/html": [
              "<style>#sk-container-id-2 {color: black;background-color: white;}#sk-container-id-2 pre{padding: 0;}#sk-container-id-2 div.sk-toggleable {background-color: white;}#sk-container-id-2 label.sk-toggleable__label {cursor: pointer;display: block;width: 100%;margin-bottom: 0;padding: 0.3em;box-sizing: border-box;text-align: center;}#sk-container-id-2 label.sk-toggleable__label-arrow:before {content: \"▸\";float: left;margin-right: 0.25em;color: #696969;}#sk-container-id-2 label.sk-toggleable__label-arrow:hover:before {color: black;}#sk-container-id-2 div.sk-estimator:hover label.sk-toggleable__label-arrow:before {color: black;}#sk-container-id-2 div.sk-toggleable__content {max-height: 0;max-width: 0;overflow: hidden;text-align: left;background-color: #f0f8ff;}#sk-container-id-2 div.sk-toggleable__content pre {margin: 0.2em;color: black;border-radius: 0.25em;background-color: #f0f8ff;}#sk-container-id-2 input.sk-toggleable__control:checked~div.sk-toggleable__content {max-height: 200px;max-width: 100%;overflow: auto;}#sk-container-id-2 input.sk-toggleable__control:checked~label.sk-toggleable__label-arrow:before {content: \"▾\";}#sk-container-id-2 div.sk-estimator input.sk-toggleable__control:checked~label.sk-toggleable__label {background-color: #d4ebff;}#sk-container-id-2 div.sk-label input.sk-toggleable__control:checked~label.sk-toggleable__label {background-color: #d4ebff;}#sk-container-id-2 input.sk-hidden--visually {border: 0;clip: rect(1px 1px 1px 1px);clip: rect(1px, 1px, 1px, 1px);height: 1px;margin: -1px;overflow: hidden;padding: 0;position: absolute;width: 1px;}#sk-container-id-2 div.sk-estimator {font-family: monospace;background-color: #f0f8ff;border: 1px dotted black;border-radius: 0.25em;box-sizing: border-box;margin-bottom: 0.5em;}#sk-container-id-2 div.sk-estimator:hover {background-color: #d4ebff;}#sk-container-id-2 div.sk-parallel-item::after {content: \"\";width: 100%;border-bottom: 1px solid gray;flex-grow: 1;}#sk-container-id-2 div.sk-label:hover label.sk-toggleable__label {background-color: #d4ebff;}#sk-container-id-2 div.sk-serial::before {content: \"\";position: absolute;border-left: 1px solid gray;box-sizing: border-box;top: 0;bottom: 0;left: 50%;z-index: 0;}#sk-container-id-2 div.sk-serial {display: flex;flex-direction: column;align-items: center;background-color: white;padding-right: 0.2em;padding-left: 0.2em;position: relative;}#sk-container-id-2 div.sk-item {position: relative;z-index: 1;}#sk-container-id-2 div.sk-parallel {display: flex;align-items: stretch;justify-content: center;background-color: white;position: relative;}#sk-container-id-2 div.sk-item::before, #sk-container-id-2 div.sk-parallel-item::before {content: \"\";position: absolute;border-left: 1px solid gray;box-sizing: border-box;top: 0;bottom: 0;left: 50%;z-index: -1;}#sk-container-id-2 div.sk-parallel-item {display: flex;flex-direction: column;z-index: 1;position: relative;background-color: white;}#sk-container-id-2 div.sk-parallel-item:first-child::after {align-self: flex-end;width: 50%;}#sk-container-id-2 div.sk-parallel-item:last-child::after {align-self: flex-start;width: 50%;}#sk-container-id-2 div.sk-parallel-item:only-child::after {width: 0;}#sk-container-id-2 div.sk-dashed-wrapped {border: 1px dashed gray;margin: 0 0.4em 0.5em 0.4em;box-sizing: border-box;padding-bottom: 0.4em;background-color: white;}#sk-container-id-2 div.sk-label label {font-family: monospace;font-weight: bold;display: inline-block;line-height: 1.2em;}#sk-container-id-2 div.sk-label-container {text-align: center;}#sk-container-id-2 div.sk-container {/* jupyter's `normalize.less` sets `[hidden] { display: none; }` but bootstrap.min.css set `[hidden] { display: none !important; }` so we also need the `!important` here to be able to override the default hidden behavior on the sphinx rendered scikit-learn.org. See: https://github.com/scikit-learn/scikit-learn/issues/21755 */display: inline-block !important;position: relative;}#sk-container-id-2 div.sk-text-repr-fallback {display: none;}</style><div id=\"sk-container-id-2\" class=\"sk-top-container\"><div class=\"sk-text-repr-fallback\"><pre>OrdinalEncoder(handle_unknown=&#x27;use_encoded_value&#x27;, unknown_value=-1)</pre><b>In a Jupyter environment, please rerun this cell to show the HTML representation or trust the notebook. <br />On GitHub, the HTML representation is unable to render, please try loading this page with nbviewer.org.</b></div><div class=\"sk-container\" hidden><div class=\"sk-item\"><div class=\"sk-estimator sk-toggleable\"><input class=\"sk-toggleable__control sk-hidden--visually\" id=\"sk-estimator-id-2\" type=\"checkbox\" checked><label for=\"sk-estimator-id-2\" class=\"sk-toggleable__label sk-toggleable__label-arrow\">OrdinalEncoder</label><div class=\"sk-toggleable__content\"><pre>OrdinalEncoder(handle_unknown=&#x27;use_encoded_value&#x27;, unknown_value=-1)</pre></div></div></div></div></div>"
            ]
          },
          "metadata": {},
          "execution_count": 36
        }
      ],
      "source": [
        "encoder = OrdinalEncoder(handle_unknown='use_encoded_value',\n",
        "                         unknown_value=-1)\n",
        "encoder.fit(features_train[cat_features])"
      ]
    },
    {
      "cell_type": "code",
      "execution_count": 37,
      "metadata": {
        "id": "iouY4wuaCTDy"
      },
      "outputs": [],
      "source": [
        "features_train_ord[cat_features] = \\\n",
        "                  encoder.transform(features_train_ord[cat_features])\n",
        "features_valid_ord[cat_features] = \\\n",
        "                  encoder.transform(features_valid_ord[cat_features])\n",
        "features_test_ord[cat_features] = \\\n",
        "                  encoder.transform(features_test_ord[cat_features])"
      ]
    },
    {
      "cell_type": "code",
      "execution_count": 38,
      "metadata": {
        "colab": {
          "base_uri": "https://localhost:8080/",
          "height": 75
        },
        "id": "5izZo-X8CTD1",
        "outputId": "a6df76ab-b869-4ce5-9a1e-5c84b34665f4"
      },
      "outputs": [
        {
          "output_type": "execute_result",
          "data": {
            "text/plain": [
              "StandardScaler()"
            ],
            "text/html": [
              "<style>#sk-container-id-3 {color: black;background-color: white;}#sk-container-id-3 pre{padding: 0;}#sk-container-id-3 div.sk-toggleable {background-color: white;}#sk-container-id-3 label.sk-toggleable__label {cursor: pointer;display: block;width: 100%;margin-bottom: 0;padding: 0.3em;box-sizing: border-box;text-align: center;}#sk-container-id-3 label.sk-toggleable__label-arrow:before {content: \"▸\";float: left;margin-right: 0.25em;color: #696969;}#sk-container-id-3 label.sk-toggleable__label-arrow:hover:before {color: black;}#sk-container-id-3 div.sk-estimator:hover label.sk-toggleable__label-arrow:before {color: black;}#sk-container-id-3 div.sk-toggleable__content {max-height: 0;max-width: 0;overflow: hidden;text-align: left;background-color: #f0f8ff;}#sk-container-id-3 div.sk-toggleable__content pre {margin: 0.2em;color: black;border-radius: 0.25em;background-color: #f0f8ff;}#sk-container-id-3 input.sk-toggleable__control:checked~div.sk-toggleable__content {max-height: 200px;max-width: 100%;overflow: auto;}#sk-container-id-3 input.sk-toggleable__control:checked~label.sk-toggleable__label-arrow:before {content: \"▾\";}#sk-container-id-3 div.sk-estimator input.sk-toggleable__control:checked~label.sk-toggleable__label {background-color: #d4ebff;}#sk-container-id-3 div.sk-label input.sk-toggleable__control:checked~label.sk-toggleable__label {background-color: #d4ebff;}#sk-container-id-3 input.sk-hidden--visually {border: 0;clip: rect(1px 1px 1px 1px);clip: rect(1px, 1px, 1px, 1px);height: 1px;margin: -1px;overflow: hidden;padding: 0;position: absolute;width: 1px;}#sk-container-id-3 div.sk-estimator {font-family: monospace;background-color: #f0f8ff;border: 1px dotted black;border-radius: 0.25em;box-sizing: border-box;margin-bottom: 0.5em;}#sk-container-id-3 div.sk-estimator:hover {background-color: #d4ebff;}#sk-container-id-3 div.sk-parallel-item::after {content: \"\";width: 100%;border-bottom: 1px solid gray;flex-grow: 1;}#sk-container-id-3 div.sk-label:hover label.sk-toggleable__label {background-color: #d4ebff;}#sk-container-id-3 div.sk-serial::before {content: \"\";position: absolute;border-left: 1px solid gray;box-sizing: border-box;top: 0;bottom: 0;left: 50%;z-index: 0;}#sk-container-id-3 div.sk-serial {display: flex;flex-direction: column;align-items: center;background-color: white;padding-right: 0.2em;padding-left: 0.2em;position: relative;}#sk-container-id-3 div.sk-item {position: relative;z-index: 1;}#sk-container-id-3 div.sk-parallel {display: flex;align-items: stretch;justify-content: center;background-color: white;position: relative;}#sk-container-id-3 div.sk-item::before, #sk-container-id-3 div.sk-parallel-item::before {content: \"\";position: absolute;border-left: 1px solid gray;box-sizing: border-box;top: 0;bottom: 0;left: 50%;z-index: -1;}#sk-container-id-3 div.sk-parallel-item {display: flex;flex-direction: column;z-index: 1;position: relative;background-color: white;}#sk-container-id-3 div.sk-parallel-item:first-child::after {align-self: flex-end;width: 50%;}#sk-container-id-3 div.sk-parallel-item:last-child::after {align-self: flex-start;width: 50%;}#sk-container-id-3 div.sk-parallel-item:only-child::after {width: 0;}#sk-container-id-3 div.sk-dashed-wrapped {border: 1px dashed gray;margin: 0 0.4em 0.5em 0.4em;box-sizing: border-box;padding-bottom: 0.4em;background-color: white;}#sk-container-id-3 div.sk-label label {font-family: monospace;font-weight: bold;display: inline-block;line-height: 1.2em;}#sk-container-id-3 div.sk-label-container {text-align: center;}#sk-container-id-3 div.sk-container {/* jupyter's `normalize.less` sets `[hidden] { display: none; }` but bootstrap.min.css set `[hidden] { display: none !important; }` so we also need the `!important` here to be able to override the default hidden behavior on the sphinx rendered scikit-learn.org. See: https://github.com/scikit-learn/scikit-learn/issues/21755 */display: inline-block !important;position: relative;}#sk-container-id-3 div.sk-text-repr-fallback {display: none;}</style><div id=\"sk-container-id-3\" class=\"sk-top-container\"><div class=\"sk-text-repr-fallback\"><pre>StandardScaler()</pre><b>In a Jupyter environment, please rerun this cell to show the HTML representation or trust the notebook. <br />On GitHub, the HTML representation is unable to render, please try loading this page with nbviewer.org.</b></div><div class=\"sk-container\" hidden><div class=\"sk-item\"><div class=\"sk-estimator sk-toggleable\"><input class=\"sk-toggleable__control sk-hidden--visually\" id=\"sk-estimator-id-3\" type=\"checkbox\" checked><label for=\"sk-estimator-id-3\" class=\"sk-toggleable__label sk-toggleable__label-arrow\">StandardScaler</label><div class=\"sk-toggleable__content\"><pre>StandardScaler()</pre></div></div></div></div></div>"
            ]
          },
          "metadata": {},
          "execution_count": 38
        }
      ],
      "source": [
        "scaler = StandardScaler()\n",
        "\n",
        "scaler.fit(features_train[num_features])"
      ]
    },
    {
      "cell_type": "code",
      "execution_count": 39,
      "metadata": {
        "id": "pgE8UHcLCTD1"
      },
      "outputs": [],
      "source": [
        "features_train_ord[num_features] = \\\n",
        "                  scaler.transform(features_train_ord[num_features])\n",
        "features_valid_ord[num_features] = \\\n",
        "                  scaler.transform(features_valid_ord[num_features])\n",
        "features_test_ord[num_features] = \\\n",
        "                  scaler.transform(features_test_ord[num_features])"
      ]
    },
    {
      "cell_type": "code",
      "execution_count": 40,
      "metadata": {
        "id": "6-d5zgHLCTD3"
      },
      "outputs": [],
      "source": [
        "# функция обучения модели\n",
        "def model_training(f_tr, t_tr, f_val, t_val, model):\n",
        "    \n",
        "   # обучение модели\n",
        "    start = time.time()\n",
        "    \n",
        "    model = model.fit(f_tr, t_tr) \n",
        "    fit_time = time.time() - start\n",
        "    \n",
        "    start = time.time()\n",
        "    predict = model.predict(f_val)\n",
        "    \n",
        "    predict_time = time.time() - start\n",
        "    \n",
        "    rmse = mse(t_val, predict)**0.5\n",
        "    \n",
        "    print('Модель обучена. На валлидационной выборке RMSE =', \n",
        "          '%.2f' %rmse, '.')\n",
        "    \n",
        "    return model, rmse, fit_time, predict_time"
      ]
    },
    {
      "cell_type": "code",
      "execution_count": 41,
      "metadata": {
        "id": "HqHEok0fCTD3"
      },
      "outputs": [],
      "source": [
        "def output_to_display(mod, r_mse, t_fit, t_pred):\n",
        "    print('Модель '+ mod + ' на валлидациооных данных показала' +\n",
        "          ' следующие результаты:' )\n",
        "    print('- RMSE =', '%.2f' %r_mse)\n",
        "    print('- Время обучения модели -', '%.4f' %t_fit, 'с')\n",
        "    print('- Время предсказания модели -', '%.4f' %t_pred, 'с')"
      ]
    },
    {
      "cell_type": "markdown",
      "metadata": {
        "id": "oXxigT-6CTD4"
      },
      "source": [
        "### Линейная регрессия\n",
        "\n",
        "Обучим модель линейной регрессии."
      ]
    },
    {
      "cell_type": "code",
      "execution_count": 42,
      "metadata": {
        "colab": {
          "base_uri": "https://localhost:8080/"
        },
        "id": "8XSXViEwCTEA",
        "outputId": "992bacf6-2ab2-47be-ea4b-785a9fcad45e"
      },
      "outputs": [
        {
          "output_type": "stream",
          "name": "stdout",
          "text": [
            "Модель обучена. На валлидационной выборке RMSE = 3110.94 .\n",
            "CPU times: user 120 ms, sys: 44.3 ms, total: 165 ms\n",
            "Wall time: 159 ms\n"
          ]
        }
      ],
      "source": [
        "%%time\n",
        "model_lr, rmse_lr, t_fit_lr, t_pred_lr = \\\n",
        "            model_training(features_train_ord, target_train,\n",
        "                           features_valid_ord, target_valid,\n",
        "                           LinearRegression())"
      ]
    },
    {
      "cell_type": "code",
      "execution_count": 43,
      "metadata": {
        "colab": {
          "base_uri": "https://localhost:8080/"
        },
        "id": "HT6HgEgaCTEB",
        "outputId": "e56568f6-9f4d-4540-c07a-729bb964c0d5"
      },
      "outputs": [
        {
          "output_type": "stream",
          "name": "stdout",
          "text": [
            "Модель линейной регрессии на валлидациооных данных показала следующие результаты:\n",
            "- RMSE = 3110.94\n",
            "- Время обучения модели - 0.1471 с\n",
            "- Время предсказания модели - 0.0101 с\n"
          ]
        }
      ],
      "source": [
        "output_to_display('линейной регрессии', rmse_lr, t_fit_lr, t_pred_lr)"
      ]
    },
    {
      "cell_type": "markdown",
      "metadata": {
        "id": "JZOoJlOvCTEB"
      },
      "source": [
        "Полное время обучения данной модели составило меньше секунды."
      ]
    },
    {
      "cell_type": "markdown",
      "metadata": {
        "id": "NwQGwym6CTEC"
      },
      "source": [
        "### Случайный лес решающих деревьев.\n",
        "\n",
        "Для обучения данной модели потребуется перебор гипер параметров."
      ]
    },
    {
      "cell_type": "code",
      "execution_count": 44,
      "metadata": {
        "colab": {
          "base_uri": "https://localhost:8080/"
        },
        "id": "5VsDo7huCTEC",
        "outputId": "5aa58663-fb28-4491-e97f-3cc6f16aa09d"
      },
      "outputs": [
        {
          "output_type": "stream",
          "name": "stdout",
          "text": [
            "Модель случайного леса с 60 деревьев и глубиной 16 :\n",
            "Модель обучена. На валлидационной выборке RMSE = 1733.84 .\n",
            "Модель случайного леса с 60 деревьев и глубиной 18 :\n",
            "Модель обучена. На валлидационной выборке RMSE = 1711.66 .\n",
            "Модель случайного леса с 60 деревьев и глубиной 20 :\n",
            "Модель обучена. На валлидационной выборке RMSE = 1702.27 .\n",
            "Модель случайного леса с 80 деревьев и глубиной 16 :\n",
            "Модель обучена. На валлидационной выборке RMSE = 1731.69 .\n",
            "Модель случайного леса с 80 деревьев и глубиной 18 :\n",
            "Модель обучена. На валлидационной выборке RMSE = 1708.55 .\n",
            "Модель случайного леса с 80 деревьев и глубиной 20 :\n",
            "Модель обучена. На валлидационной выборке RMSE = 1699.36 .\n",
            "Модель случайного леса с 100 деревьев и глубиной 16 :\n",
            "Модель обучена. На валлидационной выборке RMSE = 1731.22 .\n",
            "Модель случайного леса с 100 деревьев и глубиной 18 :\n",
            "Модель обучена. На валлидационной выборке RMSE = 1707.21 .\n",
            "Модель случайного леса с 100 деревьев и глубиной 20 :\n",
            "Модель обучена. На валлидационной выборке RMSE = 1698.06 .\n",
            "Лучшая модель случайного леса достигнута при 100 деревьев и глубине 20 .\n",
            "CPU times: user 10min 22s, sys: 2.37 s, total: 10min 24s\n",
            "Wall time: 10min 33s\n"
          ]
        }
      ],
      "source": [
        "%%time\n",
        "\n",
        "best_model = None\n",
        "best_rmse = 10000\n",
        "best_depth = 0\n",
        "best_n_est = 0\n",
        "best_t_fit = 0\n",
        "best_t_pred = 0\n",
        "    \n",
        "for est in range(60, 101, 20):\n",
        "    for depth in range(16, 21, 2):\n",
        "        print('Модель случайного леса с', est, \\\n",
        "              'деревьев и глубиной', depth , ':')\n",
        "        \n",
        "        model_rfr, rmse_rfr, \\\n",
        "        t_fit_rfr, t_pred_rfr = model_training(features_train_ord, \n",
        "                                               target_train,\n",
        "                                               features_valid_ord,\n",
        "                                               target_valid,\n",
        "                                               RandomForestRegressor(\n",
        "                                                   random_state=12345, \n",
        "                                                   n_estimators=est, \n",
        "                                                   max_depth=depth))\n",
        "        \n",
        "        if rmse_rfr < best_rmse:\n",
        "            best_rmse = rmse_rfr\n",
        "            best_model = model_rfr\n",
        "            best_depth = depth\n",
        "            best_n_est = est\n",
        "            best_t_fit = t_fit_rfr\n",
        "            best_t_pred = t_pred_rfr\n",
        "            \n",
        "print('Лучшая модель случайного леса достигнута при', best_n_est, \n",
        "                                   'деревьев и глубине', best_depth, '.')"
      ]
    },
    {
      "cell_type": "markdown",
      "metadata": {
        "id": "PNfc2sXoCTED"
      },
      "source": [
        "Пересохраним показатели лучшей модели в более понятные переменные."
      ]
    },
    {
      "cell_type": "code",
      "execution_count": 45,
      "metadata": {
        "id": "Up77-8ecCTED"
      },
      "outputs": [],
      "source": [
        "model_rfr = best_model\n",
        "rmse_rfr = best_rmse\n",
        "t_fit_rfr = best_t_fit\n",
        "t_pred_rfr = best_t_pred"
      ]
    },
    {
      "cell_type": "code",
      "execution_count": 46,
      "metadata": {
        "colab": {
          "base_uri": "https://localhost:8080/"
        },
        "id": "pFW-aizkCTED",
        "outputId": "ad89c5f3-d197-4ac1-cc8d-48b90add6bcd"
      },
      "outputs": [
        {
          "output_type": "stream",
          "name": "stdout",
          "text": [
            "Модель случайного леса на валлидациооных данных показала следующие результаты:\n",
            "- RMSE = 1698.06\n",
            "- Время обучения модели - 91.8091 с\n",
            "- Время предсказания модели - 2.7323 с\n"
          ]
        }
      ],
      "source": [
        "output_to_display('случайного леса', rmse_rfr, t_fit_rfr, t_pred_rfr)"
      ]
    },
    {
      "cell_type": "markdown",
      "metadata": {
        "id": "mDyGFFMwCTEE"
      },
      "source": [
        "### LightGBM\n",
        "\n",
        "Последней моделью рассмотрим LightGBM с градиентным бустингом."
      ]
    },
    {
      "cell_type": "code",
      "execution_count": 47,
      "metadata": {
        "scrolled": true,
        "colab": {
          "base_uri": "https://localhost:8080/"
        },
        "id": "O4zwcuGWCTEE",
        "outputId": "ef2d413d-fada-4c83-b9ef-fe6daa185e40"
      },
      "outputs": [
        {
          "output_type": "stream",
          "name": "stdout",
          "text": [
            "[1]\tvalid_0's rmse: 4198.12\tvalid_0's l2: 1.76242e+07\n",
            "[2]\tvalid_0's rmse: 3923.14\tvalid_0's l2: 1.53911e+07\n",
            "[3]\tvalid_0's rmse: 3684.61\tvalid_0's l2: 1.35763e+07\n",
            "[4]\tvalid_0's rmse: 3472.57\tvalid_0's l2: 1.20588e+07\n",
            "[5]\tvalid_0's rmse: 3289.12\tvalid_0's l2: 1.08183e+07\n",
            "[6]\tvalid_0's rmse: 3131.92\tvalid_0's l2: 9.80895e+06\n",
            "[7]\tvalid_0's rmse: 2993.3\tvalid_0's l2: 8.95983e+06\n",
            "[8]\tvalid_0's rmse: 2873.22\tvalid_0's l2: 8.25539e+06\n",
            "[9]\tvalid_0's rmse: 2772.15\tvalid_0's l2: 7.6848e+06\n",
            "[10]\tvalid_0's rmse: 2682.12\tvalid_0's l2: 7.19374e+06\n",
            "[11]\tvalid_0's rmse: 2602.71\tvalid_0's l2: 6.7741e+06\n",
            "[12]\tvalid_0's rmse: 2528.66\tvalid_0's l2: 6.39414e+06\n",
            "[13]\tvalid_0's rmse: 2469.83\tvalid_0's l2: 6.10006e+06\n",
            "[14]\tvalid_0's rmse: 2411.84\tvalid_0's l2: 5.81698e+06\n",
            "[15]\tvalid_0's rmse: 2365.58\tvalid_0's l2: 5.59596e+06\n",
            "[16]\tvalid_0's rmse: 2318.94\tvalid_0's l2: 5.37748e+06\n",
            "[17]\tvalid_0's rmse: 2281.03\tvalid_0's l2: 5.20309e+06\n",
            "[18]\tvalid_0's rmse: 2244.75\tvalid_0's l2: 5.03891e+06\n",
            "[19]\tvalid_0's rmse: 2213.26\tvalid_0's l2: 4.89851e+06\n",
            "[20]\tvalid_0's rmse: 2186.08\tvalid_0's l2: 4.77893e+06\n",
            "[21]\tvalid_0's rmse: 2161.08\tvalid_0's l2: 4.67025e+06\n",
            "[22]\tvalid_0's rmse: 2138.16\tvalid_0's l2: 4.57172e+06\n",
            "[23]\tvalid_0's rmse: 2118.24\tvalid_0's l2: 4.48692e+06\n",
            "[24]\tvalid_0's rmse: 2096.81\tvalid_0's l2: 4.3966e+06\n",
            "[25]\tvalid_0's rmse: 2078.29\tvalid_0's l2: 4.31931e+06\n",
            "[26]\tvalid_0's rmse: 2063.08\tvalid_0's l2: 4.25629e+06\n",
            "[27]\tvalid_0's rmse: 2049.46\tvalid_0's l2: 4.2003e+06\n",
            "[28]\tvalid_0's rmse: 2032.98\tvalid_0's l2: 4.133e+06\n",
            "[29]\tvalid_0's rmse: 2021.32\tvalid_0's l2: 4.08575e+06\n",
            "[30]\tvalid_0's rmse: 2010.46\tvalid_0's l2: 4.04197e+06\n",
            "[31]\tvalid_0's rmse: 2001.17\tvalid_0's l2: 4.00469e+06\n",
            "[32]\tvalid_0's rmse: 1992.5\tvalid_0's l2: 3.97005e+06\n",
            "[33]\tvalid_0's rmse: 1983.91\tvalid_0's l2: 3.93589e+06\n",
            "[34]\tvalid_0's rmse: 1974.06\tvalid_0's l2: 3.8969e+06\n",
            "[35]\tvalid_0's rmse: 1964\tvalid_0's l2: 3.85729e+06\n",
            "[36]\tvalid_0's rmse: 1956.19\tvalid_0's l2: 3.82666e+06\n",
            "[37]\tvalid_0's rmse: 1950.01\tvalid_0's l2: 3.80254e+06\n",
            "[38]\tvalid_0's rmse: 1942.13\tvalid_0's l2: 3.77188e+06\n",
            "[39]\tvalid_0's rmse: 1936.36\tvalid_0's l2: 3.74949e+06\n",
            "[40]\tvalid_0's rmse: 1931.57\tvalid_0's l2: 3.73096e+06\n",
            "[41]\tvalid_0's rmse: 1925.47\tvalid_0's l2: 3.70745e+06\n",
            "[42]\tvalid_0's rmse: 1918.91\tvalid_0's l2: 3.68221e+06\n",
            "[43]\tvalid_0's rmse: 1914.62\tvalid_0's l2: 3.66576e+06\n",
            "[44]\tvalid_0's rmse: 1910.52\tvalid_0's l2: 3.65009e+06\n",
            "[45]\tvalid_0's rmse: 1907.74\tvalid_0's l2: 3.63947e+06\n",
            "[46]\tvalid_0's rmse: 1905.21\tvalid_0's l2: 3.62981e+06\n",
            "[47]\tvalid_0's rmse: 1900.96\tvalid_0's l2: 3.61364e+06\n",
            "[48]\tvalid_0's rmse: 1898.48\tvalid_0's l2: 3.60423e+06\n",
            "[49]\tvalid_0's rmse: 1893.51\tvalid_0's l2: 3.58539e+06\n",
            "[50]\tvalid_0's rmse: 1890.37\tvalid_0's l2: 3.5735e+06\n",
            "[51]\tvalid_0's rmse: 1887.64\tvalid_0's l2: 3.56317e+06\n",
            "[52]\tvalid_0's rmse: 1885.7\tvalid_0's l2: 3.55588e+06\n",
            "[53]\tvalid_0's rmse: 1882.19\tvalid_0's l2: 3.54264e+06\n",
            "[54]\tvalid_0's rmse: 1878.28\tvalid_0's l2: 3.52793e+06\n",
            "[55]\tvalid_0's rmse: 1876.82\tvalid_0's l2: 3.52245e+06\n",
            "[56]\tvalid_0's rmse: 1874.5\tvalid_0's l2: 3.51374e+06\n",
            "[57]\tvalid_0's rmse: 1871.08\tvalid_0's l2: 3.50093e+06\n",
            "[58]\tvalid_0's rmse: 1868.94\tvalid_0's l2: 3.49293e+06\n",
            "[59]\tvalid_0's rmse: 1866.22\tvalid_0's l2: 3.48277e+06\n",
            "[60]\tvalid_0's rmse: 1862.72\tvalid_0's l2: 3.46974e+06\n",
            "[61]\tvalid_0's rmse: 1860.29\tvalid_0's l2: 3.46068e+06\n",
            "[62]\tvalid_0's rmse: 1857.55\tvalid_0's l2: 3.4505e+06\n",
            "[63]\tvalid_0's rmse: 1854.48\tvalid_0's l2: 3.43909e+06\n",
            "[64]\tvalid_0's rmse: 1853.27\tvalid_0's l2: 3.4346e+06\n",
            "[65]\tvalid_0's rmse: 1851.9\tvalid_0's l2: 3.42952e+06\n",
            "[66]\tvalid_0's rmse: 1849.49\tvalid_0's l2: 3.4206e+06\n",
            "[67]\tvalid_0's rmse: 1848.01\tvalid_0's l2: 3.41513e+06\n",
            "[68]\tvalid_0's rmse: 1846.17\tvalid_0's l2: 3.40833e+06\n",
            "[69]\tvalid_0's rmse: 1845.35\tvalid_0's l2: 3.40531e+06\n",
            "[70]\tvalid_0's rmse: 1844.15\tvalid_0's l2: 3.40091e+06\n",
            "[71]\tvalid_0's rmse: 1843.22\tvalid_0's l2: 3.39747e+06\n",
            "[72]\tvalid_0's rmse: 1841.1\tvalid_0's l2: 3.38964e+06\n",
            "[73]\tvalid_0's rmse: 1838.72\tvalid_0's l2: 3.38088e+06\n",
            "[74]\tvalid_0's rmse: 1837.86\tvalid_0's l2: 3.37772e+06\n",
            "[75]\tvalid_0's rmse: 1836.82\tvalid_0's l2: 3.37389e+06\n",
            "[76]\tvalid_0's rmse: 1835.21\tvalid_0's l2: 3.36801e+06\n",
            "[77]\tvalid_0's rmse: 1833.4\tvalid_0's l2: 3.36137e+06\n",
            "[78]\tvalid_0's rmse: 1832.82\tvalid_0's l2: 3.35921e+06\n",
            "[79]\tvalid_0's rmse: 1831.15\tvalid_0's l2: 3.35312e+06\n",
            "[80]\tvalid_0's rmse: 1829.6\tvalid_0's l2: 3.34744e+06\n",
            "[81]\tvalid_0's rmse: 1828.01\tvalid_0's l2: 3.34161e+06\n",
            "[82]\tvalid_0's rmse: 1827.66\tvalid_0's l2: 3.34034e+06\n",
            "[83]\tvalid_0's rmse: 1825.98\tvalid_0's l2: 3.33422e+06\n",
            "[84]\tvalid_0's rmse: 1824.62\tvalid_0's l2: 3.32923e+06\n",
            "[85]\tvalid_0's rmse: 1823\tvalid_0's l2: 3.32334e+06\n",
            "[86]\tvalid_0's rmse: 1822.03\tvalid_0's l2: 3.31979e+06\n",
            "[87]\tvalid_0's rmse: 1820.34\tvalid_0's l2: 3.31365e+06\n",
            "[88]\tvalid_0's rmse: 1819.27\tvalid_0's l2: 3.30973e+06\n",
            "[89]\tvalid_0's rmse: 1817.95\tvalid_0's l2: 3.30495e+06\n",
            "[90]\tvalid_0's rmse: 1816.59\tvalid_0's l2: 3.30001e+06\n",
            "[91]\tvalid_0's rmse: 1815.49\tvalid_0's l2: 3.29601e+06\n",
            "[92]\tvalid_0's rmse: 1814.49\tvalid_0's l2: 3.29237e+06\n",
            "[93]\tvalid_0's rmse: 1813.01\tvalid_0's l2: 3.28699e+06\n",
            "[94]\tvalid_0's rmse: 1811.59\tvalid_0's l2: 3.28188e+06\n",
            "[95]\tvalid_0's rmse: 1810.99\tvalid_0's l2: 3.27968e+06\n",
            "[96]\tvalid_0's rmse: 1810.53\tvalid_0's l2: 3.27804e+06\n",
            "[97]\tvalid_0's rmse: 1809.86\tvalid_0's l2: 3.27561e+06\n",
            "[98]\tvalid_0's rmse: 1808.62\tvalid_0's l2: 3.27112e+06\n",
            "[99]\tvalid_0's rmse: 1808.09\tvalid_0's l2: 3.26919e+06\n",
            "[100]\tvalid_0's rmse: 1807.31\tvalid_0's l2: 3.26637e+06\n",
            "[101]\tvalid_0's rmse: 1805.93\tvalid_0's l2: 3.26137e+06\n",
            "[102]\tvalid_0's rmse: 1804.64\tvalid_0's l2: 3.25672e+06\n",
            "[103]\tvalid_0's rmse: 1803.43\tvalid_0's l2: 3.25237e+06\n",
            "[104]\tvalid_0's rmse: 1802.78\tvalid_0's l2: 3.25e+06\n",
            "[105]\tvalid_0's rmse: 1802.28\tvalid_0's l2: 3.24821e+06\n",
            "[106]\tvalid_0's rmse: 1801.42\tvalid_0's l2: 3.24511e+06\n",
            "[107]\tvalid_0's rmse: 1800.14\tvalid_0's l2: 3.24049e+06\n",
            "[108]\tvalid_0's rmse: 1799.47\tvalid_0's l2: 3.23808e+06\n",
            "[109]\tvalid_0's rmse: 1798.54\tvalid_0's l2: 3.23476e+06\n",
            "[110]\tvalid_0's rmse: 1797.35\tvalid_0's l2: 3.23047e+06\n",
            "[111]\tvalid_0's rmse: 1796.99\tvalid_0's l2: 3.22917e+06\n",
            "[112]\tvalid_0's rmse: 1796.19\tvalid_0's l2: 3.22628e+06\n",
            "[113]\tvalid_0's rmse: 1795.32\tvalid_0's l2: 3.22318e+06\n",
            "[114]\tvalid_0's rmse: 1794.65\tvalid_0's l2: 3.22078e+06\n",
            "[115]\tvalid_0's rmse: 1794.07\tvalid_0's l2: 3.2187e+06\n",
            "[116]\tvalid_0's rmse: 1793.65\tvalid_0's l2: 3.21718e+06\n",
            "[117]\tvalid_0's rmse: 1792.69\tvalid_0's l2: 3.21373e+06\n",
            "[118]\tvalid_0's rmse: 1792.27\tvalid_0's l2: 3.21222e+06\n",
            "[119]\tvalid_0's rmse: 1791.55\tvalid_0's l2: 3.20963e+06\n",
            "[120]\tvalid_0's rmse: 1790.42\tvalid_0's l2: 3.2056e+06\n",
            "[121]\tvalid_0's rmse: 1789.2\tvalid_0's l2: 3.20125e+06\n",
            "[122]\tvalid_0's rmse: 1788.43\tvalid_0's l2: 3.19847e+06\n",
            "[123]\tvalid_0's rmse: 1787.73\tvalid_0's l2: 3.19598e+06\n",
            "[124]\tvalid_0's rmse: 1786.58\tvalid_0's l2: 3.19185e+06\n",
            "[125]\tvalid_0's rmse: 1786.12\tvalid_0's l2: 3.19024e+06\n",
            "[126]\tvalid_0's rmse: 1785.08\tvalid_0's l2: 3.18652e+06\n",
            "[127]\tvalid_0's rmse: 1784.17\tvalid_0's l2: 3.18325e+06\n",
            "[128]\tvalid_0's rmse: 1783.93\tvalid_0's l2: 3.18239e+06\n",
            "[129]\tvalid_0's rmse: 1783.36\tvalid_0's l2: 3.18036e+06\n",
            "[130]\tvalid_0's rmse: 1782.68\tvalid_0's l2: 3.17795e+06\n",
            "[131]\tvalid_0's rmse: 1782.1\tvalid_0's l2: 3.17589e+06\n",
            "[132]\tvalid_0's rmse: 1781.23\tvalid_0's l2: 3.17277e+06\n",
            "[133]\tvalid_0's rmse: 1780.78\tvalid_0's l2: 3.17118e+06\n",
            "[134]\tvalid_0's rmse: 1780.65\tvalid_0's l2: 3.1707e+06\n",
            "[135]\tvalid_0's rmse: 1780.19\tvalid_0's l2: 3.16908e+06\n",
            "[136]\tvalid_0's rmse: 1779.51\tvalid_0's l2: 3.16666e+06\n",
            "[137]\tvalid_0's rmse: 1778.94\tvalid_0's l2: 3.16462e+06\n",
            "[138]\tvalid_0's rmse: 1778.09\tvalid_0's l2: 3.16159e+06\n",
            "[139]\tvalid_0's rmse: 1777.22\tvalid_0's l2: 3.15849e+06\n",
            "[140]\tvalid_0's rmse: 1776.92\tvalid_0's l2: 3.15744e+06\n",
            "[141]\tvalid_0's rmse: 1776.26\tvalid_0's l2: 3.15508e+06\n",
            "[142]\tvalid_0's rmse: 1775.98\tvalid_0's l2: 3.15411e+06\n",
            "[143]\tvalid_0's rmse: 1775.3\tvalid_0's l2: 3.15171e+06\n",
            "[144]\tvalid_0's rmse: 1775.12\tvalid_0's l2: 3.15104e+06\n",
            "[145]\tvalid_0's rmse: 1774.59\tvalid_0's l2: 3.14917e+06\n",
            "[146]\tvalid_0's rmse: 1774.28\tvalid_0's l2: 3.14807e+06\n",
            "[147]\tvalid_0's rmse: 1773.52\tvalid_0's l2: 3.14539e+06\n",
            "[148]\tvalid_0's rmse: 1772.85\tvalid_0's l2: 3.14299e+06\n",
            "[149]\tvalid_0's rmse: 1772.3\tvalid_0's l2: 3.14106e+06\n",
            "[150]\tvalid_0's rmse: 1771.41\tvalid_0's l2: 3.13791e+06\n",
            "[151]\tvalid_0's rmse: 1770.99\tvalid_0's l2: 3.13642e+06\n",
            "[152]\tvalid_0's rmse: 1770.35\tvalid_0's l2: 3.13414e+06\n",
            "[153]\tvalid_0's rmse: 1769.6\tvalid_0's l2: 3.13147e+06\n",
            "[154]\tvalid_0's rmse: 1768.79\tvalid_0's l2: 3.1286e+06\n",
            "[155]\tvalid_0's rmse: 1767.88\tvalid_0's l2: 3.12541e+06\n",
            "[156]\tvalid_0's rmse: 1767.69\tvalid_0's l2: 3.12474e+06\n",
            "[157]\tvalid_0's rmse: 1767.11\tvalid_0's l2: 3.12268e+06\n",
            "[158]\tvalid_0's rmse: 1766.56\tvalid_0's l2: 3.12074e+06\n",
            "[159]\tvalid_0's rmse: 1766.31\tvalid_0's l2: 3.11986e+06\n",
            "[160]\tvalid_0's rmse: 1766.09\tvalid_0's l2: 3.11909e+06\n",
            "Модель обучена. На валлидационной выборке RMSE = 1766.09 .\n",
            "CPU times: user 6.36 s, sys: 77.8 ms, total: 6.44 s\n",
            "Wall time: 3.58 s\n"
          ]
        }
      ],
      "source": [
        "%%time\n",
        "booster = lgb.LGBMModel(objective=\"regression\", n_estimators=160)\n",
        "start = time.time()\n",
        "booster.fit(features_train_ord, target_train, \n",
        "            eval_set=[(features_valid_ord, target_valid),], \n",
        "            eval_metric=\"rmse\")\n",
        "t_fit_lgbm = time.time() - start\n",
        "\n",
        "start = time.time()\n",
        "valid_preds = booster.predict(features_valid_ord)\n",
        "t_pred_lgbm = time.time() - start\n",
        "\n",
        "rmse_lgbm = mse(target_valid, valid_preds)**0.5\n",
        "print('Модель обучена. На валлидационной выборке RMSE =',\n",
        "      '%.2f' %rmse_lgbm, '.')"
      ]
    },
    {
      "cell_type": "code",
      "execution_count": 48,
      "metadata": {
        "colab": {
          "base_uri": "https://localhost:8080/"
        },
        "id": "Fx2VqPYyCTEF",
        "outputId": "4353127a-13ac-4125-bfaf-543bb697863e"
      },
      "outputs": [
        {
          "output_type": "stream",
          "name": "stdout",
          "text": [
            "Модель градиентного бустинга LightGBM на валлидациооных данных показала следующие результаты:\n",
            "- RMSE = 1766.09\n",
            "- Время обучения модели - 3.0869 с\n",
            "- Время предсказания модели - 0.4869 с\n"
          ]
        }
      ],
      "source": [
        "output_to_display('градиентного бустинга LightGBM', \n",
        "                  rmse_lgbm, t_fit_lgbm, t_pred_lgbm)"
      ]
    },
    {
      "cell_type": "markdown",
      "metadata": {
        "id": "INrLZbIfCTEF"
      },
      "source": [
        "Время подбора гиперпараметров этой модели составило меньше минуты. Этот результат гораздо лучше, чем у случайного леса."
      ]
    },
    {
      "cell_type": "markdown",
      "metadata": {
        "id": "GLiWm90OCTEG"
      },
      "source": [
        "## Анализ моделей"
      ]
    },
    {
      "cell_type": "markdown",
      "metadata": {
        "id": "7Nz9OAx8CTEG"
      },
      "source": [
        "Все модели обучены, теперь можно перейти к сравнению полученных данных.\n",
        "\n",
        "Сведем все полученные данные в одну таблицу. Вреемя в таблице указано для валлидациооной выборки."
      ]
    },
    {
      "cell_type": "code",
      "execution_count": 49,
      "metadata": {
        "colab": {
          "base_uri": "https://localhost:8080/",
          "height": 143
        },
        "id": "p-y-NRNTCTEG",
        "outputId": "53a71819-e971-4ae2-aeb5-4973e2d6f7c4"
      },
      "outputs": [
        {
          "output_type": "execute_result",
          "data": {
            "text/plain": [
              "                            Модель     RMSE  Время обучения(c)  \\\n",
              "0               Линейная регрессия  3110.94              0.147   \n",
              "1  Случайный лес решающих деревьев  1698.06             91.809   \n",
              "2              Градиентный бустинг  1766.09              3.087   \n",
              "\n",
              "   Время предсказания(c)  \n",
              "0                  0.010  \n",
              "1                  2.732  \n",
              "2                  0.487  "
            ],
            "text/html": [
              "\n",
              "  <div id=\"df-3b99384c-6b34-42c5-9fea-e5e475239068\">\n",
              "    <div class=\"colab-df-container\">\n",
              "      <div>\n",
              "<style scoped>\n",
              "    .dataframe tbody tr th:only-of-type {\n",
              "        vertical-align: middle;\n",
              "    }\n",
              "\n",
              "    .dataframe tbody tr th {\n",
              "        vertical-align: top;\n",
              "    }\n",
              "\n",
              "    .dataframe thead th {\n",
              "        text-align: right;\n",
              "    }\n",
              "</style>\n",
              "<table border=\"1\" class=\"dataframe\">\n",
              "  <thead>\n",
              "    <tr style=\"text-align: right;\">\n",
              "      <th></th>\n",
              "      <th>Модель</th>\n",
              "      <th>RMSE</th>\n",
              "      <th>Время обучения(c)</th>\n",
              "      <th>Время предсказания(c)</th>\n",
              "    </tr>\n",
              "  </thead>\n",
              "  <tbody>\n",
              "    <tr>\n",
              "      <th>0</th>\n",
              "      <td>Линейная регрессия</td>\n",
              "      <td>3110.94</td>\n",
              "      <td>0.147</td>\n",
              "      <td>0.010</td>\n",
              "    </tr>\n",
              "    <tr>\n",
              "      <th>1</th>\n",
              "      <td>Случайный лес решающих деревьев</td>\n",
              "      <td>1698.06</td>\n",
              "      <td>91.809</td>\n",
              "      <td>2.732</td>\n",
              "    </tr>\n",
              "    <tr>\n",
              "      <th>2</th>\n",
              "      <td>Градиентный бустинг</td>\n",
              "      <td>1766.09</td>\n",
              "      <td>3.087</td>\n",
              "      <td>0.487</td>\n",
              "    </tr>\n",
              "  </tbody>\n",
              "</table>\n",
              "</div>\n",
              "      <button class=\"colab-df-convert\" onclick=\"convertToInteractive('df-3b99384c-6b34-42c5-9fea-e5e475239068')\"\n",
              "              title=\"Convert this dataframe to an interactive table.\"\n",
              "              style=\"display:none;\">\n",
              "        \n",
              "  <svg xmlns=\"http://www.w3.org/2000/svg\" height=\"24px\"viewBox=\"0 0 24 24\"\n",
              "       width=\"24px\">\n",
              "    <path d=\"M0 0h24v24H0V0z\" fill=\"none\"/>\n",
              "    <path d=\"M18.56 5.44l.94 2.06.94-2.06 2.06-.94-2.06-.94-.94-2.06-.94 2.06-2.06.94zm-11 1L8.5 8.5l.94-2.06 2.06-.94-2.06-.94L8.5 2.5l-.94 2.06-2.06.94zm10 10l.94 2.06.94-2.06 2.06-.94-2.06-.94-.94-2.06-.94 2.06-2.06.94z\"/><path d=\"M17.41 7.96l-1.37-1.37c-.4-.4-.92-.59-1.43-.59-.52 0-1.04.2-1.43.59L10.3 9.45l-7.72 7.72c-.78.78-.78 2.05 0 2.83L4 21.41c.39.39.9.59 1.41.59.51 0 1.02-.2 1.41-.59l7.78-7.78 2.81-2.81c.8-.78.8-2.07 0-2.86zM5.41 20L4 18.59l7.72-7.72 1.47 1.35L5.41 20z\"/>\n",
              "  </svg>\n",
              "      </button>\n",
              "      \n",
              "  <style>\n",
              "    .colab-df-container {\n",
              "      display:flex;\n",
              "      flex-wrap:wrap;\n",
              "      gap: 12px;\n",
              "    }\n",
              "\n",
              "    .colab-df-convert {\n",
              "      background-color: #E8F0FE;\n",
              "      border: none;\n",
              "      border-radius: 50%;\n",
              "      cursor: pointer;\n",
              "      display: none;\n",
              "      fill: #1967D2;\n",
              "      height: 32px;\n",
              "      padding: 0 0 0 0;\n",
              "      width: 32px;\n",
              "    }\n",
              "\n",
              "    .colab-df-convert:hover {\n",
              "      background-color: #E2EBFA;\n",
              "      box-shadow: 0px 1px 2px rgba(60, 64, 67, 0.3), 0px 1px 3px 1px rgba(60, 64, 67, 0.15);\n",
              "      fill: #174EA6;\n",
              "    }\n",
              "\n",
              "    [theme=dark] .colab-df-convert {\n",
              "      background-color: #3B4455;\n",
              "      fill: #D2E3FC;\n",
              "    }\n",
              "\n",
              "    [theme=dark] .colab-df-convert:hover {\n",
              "      background-color: #434B5C;\n",
              "      box-shadow: 0px 1px 3px 1px rgba(0, 0, 0, 0.15);\n",
              "      filter: drop-shadow(0px 1px 2px rgba(0, 0, 0, 0.3));\n",
              "      fill: #FFFFFF;\n",
              "    }\n",
              "  </style>\n",
              "\n",
              "      <script>\n",
              "        const buttonEl =\n",
              "          document.querySelector('#df-3b99384c-6b34-42c5-9fea-e5e475239068 button.colab-df-convert');\n",
              "        buttonEl.style.display =\n",
              "          google.colab.kernel.accessAllowed ? 'block' : 'none';\n",
              "\n",
              "        async function convertToInteractive(key) {\n",
              "          const element = document.querySelector('#df-3b99384c-6b34-42c5-9fea-e5e475239068');\n",
              "          const dataTable =\n",
              "            await google.colab.kernel.invokeFunction('convertToInteractive',\n",
              "                                                     [key], {});\n",
              "          if (!dataTable) return;\n",
              "\n",
              "          const docLinkHtml = 'Like what you see? Visit the ' +\n",
              "            '<a target=\"_blank\" href=https://colab.research.google.com/notebooks/data_table.ipynb>data table notebook</a>'\n",
              "            + ' to learn more about interactive tables.';\n",
              "          element.innerHTML = '';\n",
              "          dataTable['output_type'] = 'display_data';\n",
              "          await google.colab.output.renderOutput(dataTable, element);\n",
              "          const docLink = document.createElement('div');\n",
              "          docLink.innerHTML = docLinkHtml;\n",
              "          element.appendChild(docLink);\n",
              "        }\n",
              "      </script>\n",
              "    </div>\n",
              "  </div>\n",
              "  "
            ]
          },
          "metadata": {},
          "execution_count": 49
        }
      ],
      "source": [
        "pd.DataFrame([\n",
        "    ['Линейная регрессия', round(rmse_lr, 2),\n",
        "     round(t_fit_lr, 3), round(t_pred_lr, 3)],\n",
        "    ['Случайный лес решающих деревьев', round(rmse_rfr, 2),\n",
        "     round(t_fit_rfr, 3), round(t_pred_rfr, 3)],\n",
        "    ['Градиентный бустинг', round(rmse_lgbm, 2),\n",
        "     round(t_fit_lgbm, 3), round(t_pred_lgbm, 3)],\n",
        "              ], \n",
        "             columns=['Модель', 'RMSE',\n",
        "                      'Время обучения(c)', \n",
        "                      'Время предсказания(c)'])"
      ]
    },
    {
      "cell_type": "markdown",
      "metadata": {
        "id": "FbCrxqRcCTEH"
      },
      "source": [
        "Самая высокая точность предлсказаний оказалась у модели случайного леса решающих деревьев. А вот лучшее время обучения и предсказания показывает модель линейной регрессии, однако качество данной модели самое низкое и не соответствует условию RMSE < 2500.\n",
        "\n",
        "Также не стоит забывать и про время подбора гипер параметров. Поэтому оптимальной моделью оказывется градиентный бустинг. Точность предсказаний немного ниже, чем у случайного леса, но при этом скорость предсказаний значительно выше, как и время подбора гиперпараметров."
      ]
    },
    {
      "cell_type": "markdown",
      "metadata": {
        "id": "JV8mAHtbCTEH"
      },
      "source": [
        "## Проверка выбранной модели\n",
        "\n",
        "Проверим выбранную модель на тестовой выборке."
      ]
    },
    {
      "cell_type": "code",
      "execution_count": 50,
      "metadata": {
        "id": "z1YW4Uw6CTEI"
      },
      "outputs": [],
      "source": [
        "start = time.time()\n",
        "test_preds = booster.predict(features_test_ord)\n",
        "t_pred_test = time.time() - start\n",
        "\n",
        "rmse_test = mse(target_test, test_preds)**0.5"
      ]
    },
    {
      "cell_type": "code",
      "execution_count": 51,
      "metadata": {
        "colab": {
          "base_uri": "https://localhost:8080/",
          "height": 112
        },
        "id": "LcmG-oqjCTEI",
        "outputId": "604a3901-c75c-4a45-90f9-6b8133d0c1a7"
      },
      "outputs": [
        {
          "output_type": "execute_result",
          "data": {
            "text/plain": [
              "                  Выборка     RMSE  Время предсказания(c)\n",
              "0  Валлидационная выборка  1766.09                  0.487\n",
              "1        Тестовая выборка  1763.67                  0.475"
            ],
            "text/html": [
              "\n",
              "  <div id=\"df-694a380e-6e42-445b-b0f4-7475178d4e00\">\n",
              "    <div class=\"colab-df-container\">\n",
              "      <div>\n",
              "<style scoped>\n",
              "    .dataframe tbody tr th:only-of-type {\n",
              "        vertical-align: middle;\n",
              "    }\n",
              "\n",
              "    .dataframe tbody tr th {\n",
              "        vertical-align: top;\n",
              "    }\n",
              "\n",
              "    .dataframe thead th {\n",
              "        text-align: right;\n",
              "    }\n",
              "</style>\n",
              "<table border=\"1\" class=\"dataframe\">\n",
              "  <thead>\n",
              "    <tr style=\"text-align: right;\">\n",
              "      <th></th>\n",
              "      <th>Выборка</th>\n",
              "      <th>RMSE</th>\n",
              "      <th>Время предсказания(c)</th>\n",
              "    </tr>\n",
              "  </thead>\n",
              "  <tbody>\n",
              "    <tr>\n",
              "      <th>0</th>\n",
              "      <td>Валлидационная выборка</td>\n",
              "      <td>1766.09</td>\n",
              "      <td>0.487</td>\n",
              "    </tr>\n",
              "    <tr>\n",
              "      <th>1</th>\n",
              "      <td>Тестовая выборка</td>\n",
              "      <td>1763.67</td>\n",
              "      <td>0.475</td>\n",
              "    </tr>\n",
              "  </tbody>\n",
              "</table>\n",
              "</div>\n",
              "      <button class=\"colab-df-convert\" onclick=\"convertToInteractive('df-694a380e-6e42-445b-b0f4-7475178d4e00')\"\n",
              "              title=\"Convert this dataframe to an interactive table.\"\n",
              "              style=\"display:none;\">\n",
              "        \n",
              "  <svg xmlns=\"http://www.w3.org/2000/svg\" height=\"24px\"viewBox=\"0 0 24 24\"\n",
              "       width=\"24px\">\n",
              "    <path d=\"M0 0h24v24H0V0z\" fill=\"none\"/>\n",
              "    <path d=\"M18.56 5.44l.94 2.06.94-2.06 2.06-.94-2.06-.94-.94-2.06-.94 2.06-2.06.94zm-11 1L8.5 8.5l.94-2.06 2.06-.94-2.06-.94L8.5 2.5l-.94 2.06-2.06.94zm10 10l.94 2.06.94-2.06 2.06-.94-2.06-.94-.94-2.06-.94 2.06-2.06.94z\"/><path d=\"M17.41 7.96l-1.37-1.37c-.4-.4-.92-.59-1.43-.59-.52 0-1.04.2-1.43.59L10.3 9.45l-7.72 7.72c-.78.78-.78 2.05 0 2.83L4 21.41c.39.39.9.59 1.41.59.51 0 1.02-.2 1.41-.59l7.78-7.78 2.81-2.81c.8-.78.8-2.07 0-2.86zM5.41 20L4 18.59l7.72-7.72 1.47 1.35L5.41 20z\"/>\n",
              "  </svg>\n",
              "      </button>\n",
              "      \n",
              "  <style>\n",
              "    .colab-df-container {\n",
              "      display:flex;\n",
              "      flex-wrap:wrap;\n",
              "      gap: 12px;\n",
              "    }\n",
              "\n",
              "    .colab-df-convert {\n",
              "      background-color: #E8F0FE;\n",
              "      border: none;\n",
              "      border-radius: 50%;\n",
              "      cursor: pointer;\n",
              "      display: none;\n",
              "      fill: #1967D2;\n",
              "      height: 32px;\n",
              "      padding: 0 0 0 0;\n",
              "      width: 32px;\n",
              "    }\n",
              "\n",
              "    .colab-df-convert:hover {\n",
              "      background-color: #E2EBFA;\n",
              "      box-shadow: 0px 1px 2px rgba(60, 64, 67, 0.3), 0px 1px 3px 1px rgba(60, 64, 67, 0.15);\n",
              "      fill: #174EA6;\n",
              "    }\n",
              "\n",
              "    [theme=dark] .colab-df-convert {\n",
              "      background-color: #3B4455;\n",
              "      fill: #D2E3FC;\n",
              "    }\n",
              "\n",
              "    [theme=dark] .colab-df-convert:hover {\n",
              "      background-color: #434B5C;\n",
              "      box-shadow: 0px 1px 3px 1px rgba(0, 0, 0, 0.15);\n",
              "      filter: drop-shadow(0px 1px 2px rgba(0, 0, 0, 0.3));\n",
              "      fill: #FFFFFF;\n",
              "    }\n",
              "  </style>\n",
              "\n",
              "      <script>\n",
              "        const buttonEl =\n",
              "          document.querySelector('#df-694a380e-6e42-445b-b0f4-7475178d4e00 button.colab-df-convert');\n",
              "        buttonEl.style.display =\n",
              "          google.colab.kernel.accessAllowed ? 'block' : 'none';\n",
              "\n",
              "        async function convertToInteractive(key) {\n",
              "          const element = document.querySelector('#df-694a380e-6e42-445b-b0f4-7475178d4e00');\n",
              "          const dataTable =\n",
              "            await google.colab.kernel.invokeFunction('convertToInteractive',\n",
              "                                                     [key], {});\n",
              "          if (!dataTable) return;\n",
              "\n",
              "          const docLinkHtml = 'Like what you see? Visit the ' +\n",
              "            '<a target=\"_blank\" href=https://colab.research.google.com/notebooks/data_table.ipynb>data table notebook</a>'\n",
              "            + ' to learn more about interactive tables.';\n",
              "          element.innerHTML = '';\n",
              "          dataTable['output_type'] = 'display_data';\n",
              "          await google.colab.output.renderOutput(dataTable, element);\n",
              "          const docLink = document.createElement('div');\n",
              "          docLink.innerHTML = docLinkHtml;\n",
              "          element.appendChild(docLink);\n",
              "        }\n",
              "      </script>\n",
              "    </div>\n",
              "  </div>\n",
              "  "
            ]
          },
          "metadata": {},
          "execution_count": 51
        }
      ],
      "source": [
        "pd.DataFrame([\n",
        "    ['Валлидационная выборка', round(rmse_lgbm, 2), round(t_pred_lgbm, 3)],\n",
        "    ['Тестовая выборка', round(rmse_test, 2), round(t_pred_test, 3)],\n",
        "              ],\n",
        "              columns=['Выборка', 'RMSE', 'Время предсказания(c)'])"
      ]
    },
    {
      "cell_type": "markdown",
      "metadata": {
        "id": "meLD6kSJCTEJ"
      },
      "source": [
        "Качество предсказаний на тестовой выборке практически не меняется, но всё ещё в перделах допустимого. а вот время предсказаний даже улучшилось. Сравним распределение полученных значений и фактических."
      ]
    },
    {
      "cell_type": "code",
      "execution_count": 52,
      "metadata": {
        "colab": {
          "base_uri": "https://localhost:8080/",
          "height": 447
        },
        "id": "C91-1hSqCTEJ",
        "outputId": "1ce69f13-fb06-4dae-c169-9c078631e141"
      },
      "outputs": [
        {
          "output_type": "stream",
          "name": "stdout",
          "text": [
            "График распределения значений \n"
          ]
        },
        {
          "output_type": "display_data",
          "data": {
            "text/plain": [
              "<Figure size 640x480 with 1 Axes>"
            ],
            "image/png": "[encoded data removed]"
          },
          "metadata": {}
        }
      ],
      "source": [
        "tester = pd.DataFrame()\n",
        "tester['Предсказания'] = test_preds\n",
        "tester['Фактические значения'] = target_test\n",
        "print('График распределения значений ')\n",
        "tester.boxplot(column=['Предсказания', 'Фактические значения'])\n",
        "plt.show()"
      ]
    },
    {
      "cell_type": "markdown",
      "metadata": {
        "id": "mZYSFnW-CTEK"
      },
      "source": [
        "По грфику распределения можно видеть, что предсказания имеют более скученные значения, чем исходные, в остальном значения предсказаний на тестовой выборке достаточно близки к исходным значениям."
      ]
    },
    {
      "cell_type": "markdown",
      "metadata": {
        "id": "Jk48A8ZoCTEK"
      },
      "source": [
        "## Вывод"
      ]
    },
    {
      "cell_type": "markdown",
      "metadata": {
        "id": "MYYN0RLVCTEL"
      },
      "source": [
        "На основании данных сервиса по продаже автомобилей с пробегом «Не бит, не крашен»была проведена разработка модели для определения стоимости автомобиля для дальнейшего использования в новом приложении с целью привлечения новых клиентов.\n",
        "\n",
        "В рамках работы было проведено исследование полученных данных. На основании проведенного анализа, рекомендовано добавить автоматическое заполнение \"не выбрано\" для столбцов свединях о ремонте, тип кузова, тип топлива, коробка передач, бренд и модель автомобиля. Рекомендация дана для возможности исключения случайных ошибок.\n",
        "\n",
        "Для потенциальной модели предсказаний были выбраны модель линейной регрессии, случайный лес решающих деревьев и градиентный бустинг. Мной были получены следующие показатели:\n",
        "\n",
        "| модель |RMSE | Время обучения| Время предсказания | Время подбора параметров|\n",
        "|:-------|:---:|:-------------:|:------------------:|:-----------------------:|\n",
        "|Линейная регрессия\t| 3110.94 | 0.147 с | 0.010 с | - |\n",
        "|Случайный лес | 1698.06 | 91.809 c\t| 2.732 c| 10.5 мин. |\n",
        "|Градиентный бустинг | 1766.09 | 3.087 c| 0.487 c| 7 с|\n",
        "\n",
        "На основании этих данных был сделан вывод, что оптимальной из обученных моделей, являестся модель, обученная с использованием градиентного бустига. \n",
        "\n",
        "Затем, обученная модель была проверена на тестовой выборке. На тестовых данных было небольшое снижение качества предсказаний, но время предсказания практически не изменилось. Поэтому данная модель готова к использованию.\n",
        "\n",
        "**Дополнительно** Настоятельно рекомендовано рассмотреть возможность в приложении не давать возможность предложения стоимости автомобиля без заполнения основных параметров, так как это увеличит точность работы Вашего сервиса, что в свою очередь повысит доверие клиентов."
      ]
    }
  ],
  "metadata": {
    "ExecuteTimeLog": [
      {
        "duration": 1982,
        "start_time": "2023-02-25T13:48:15.786Z"
      },
      {
        "duration": 1183,
        "start_time": "2023-02-25T13:52:56.386Z"
      },
      {
        "duration": 1247,
        "start_time": "2023-02-25T13:52:57.571Z"
      },
      {
        "duration": 32,
        "start_time": "2023-02-25T13:52:58.821Z"
      },
      {
        "duration": 146,
        "start_time": "2023-02-25T13:52:58.855Z"
      },
      {
        "duration": 877,
        "start_time": "2023-02-25T13:52:59.003Z"
      },
      {
        "duration": 1976,
        "start_time": "2023-02-25T13:52:59.883Z"
      },
      {
        "duration": 976,
        "start_time": "2023-02-25T13:53:26.917Z"
      },
      {
        "duration": 968,
        "start_time": "2023-02-25T13:53:37.342Z"
      },
      {
        "duration": 915,
        "start_time": "2023-02-25T13:53:54.025Z"
      },
      {
        "duration": 905,
        "start_time": "2023-02-25T13:54:47.207Z"
      },
      {
        "duration": 887,
        "start_time": "2023-02-25T13:55:43.864Z"
      },
      {
        "duration": 1076,
        "start_time": "2023-02-25T13:56:44.676Z"
      },
      {
        "duration": 1078,
        "start_time": "2023-02-25T13:56:59.642Z"
      },
      {
        "duration": 4051,
        "start_time": "2023-02-25T13:57:06.664Z"
      },
      {
        "duration": 878,
        "start_time": "2023-02-25T13:57:11.530Z"
      },
      {
        "duration": 1340,
        "start_time": "2023-02-26T10:02:32.508Z"
      },
      {
        "duration": 3106,
        "start_time": "2023-02-26T10:02:33.850Z"
      },
      {
        "duration": 16,
        "start_time": "2023-02-26T10:02:36.958Z"
      },
      {
        "duration": 140,
        "start_time": "2023-02-26T10:02:36.976Z"
      },
      {
        "duration": 143,
        "start_time": "2023-02-26T10:02:37.118Z"
      },
      {
        "duration": 1004,
        "start_time": "2023-02-26T10:02:37.262Z"
      },
      {
        "duration": 894,
        "start_time": "2023-02-26T10:02:38.267Z"
      },
      {
        "duration": 135,
        "start_time": "2023-02-26T10:26:16.495Z"
      },
      {
        "duration": 185,
        "start_time": "2023-02-26T10:29:56.398Z"
      },
      {
        "duration": 1059,
        "start_time": "2023-02-26T10:58:40.537Z"
      },
      {
        "duration": 1312,
        "start_time": "2023-02-26T11:49:29.572Z"
      },
      {
        "duration": 993,
        "start_time": "2023-02-26T11:49:30.888Z"
      },
      {
        "duration": 23,
        "start_time": "2023-02-26T11:49:31.883Z"
      },
      {
        "duration": 258,
        "start_time": "2023-02-26T11:49:31.909Z"
      },
      {
        "duration": 262,
        "start_time": "2023-02-26T11:49:32.175Z"
      },
      {
        "duration": 1204,
        "start_time": "2023-02-26T11:49:32.440Z"
      },
      {
        "duration": 717,
        "start_time": "2023-02-26T11:49:33.646Z"
      },
      {
        "duration": 1072,
        "start_time": "2023-02-26T11:49:34.368Z"
      },
      {
        "duration": 1195,
        "start_time": "2023-02-26T11:50:28.571Z"
      },
      {
        "duration": 1639,
        "start_time": "2023-02-26T12:02:15.598Z"
      },
      {
        "duration": 1393,
        "start_time": "2023-02-26T12:02:17.241Z"
      },
      {
        "duration": 27,
        "start_time": "2023-02-26T12:02:18.637Z"
      },
      {
        "duration": 230,
        "start_time": "2023-02-26T12:02:18.667Z"
      },
      {
        "duration": 252,
        "start_time": "2023-02-26T12:02:18.900Z"
      },
      {
        "duration": 1588,
        "start_time": "2023-02-26T12:02:19.155Z"
      },
      {
        "duration": 920,
        "start_time": "2023-02-26T12:02:20.748Z"
      },
      {
        "duration": 1155,
        "start_time": "2023-02-26T12:02:21.670Z"
      },
      {
        "duration": 75,
        "start_time": "2023-02-26T12:07:56.666Z"
      },
      {
        "duration": 286,
        "start_time": "2023-02-26T12:08:02.643Z"
      },
      {
        "duration": 171,
        "start_time": "2023-02-26T12:08:53.241Z"
      },
      {
        "duration": 3421,
        "start_time": "2023-02-26T12:16:34.775Z"
      },
      {
        "duration": 2430,
        "start_time": "2023-02-26T12:19:15.969Z"
      },
      {
        "duration": 24,
        "start_time": "2023-02-26T13:27:27.390Z"
      },
      {
        "duration": 21,
        "start_time": "2023-02-26T13:27:55.000Z"
      },
      {
        "duration": 25,
        "start_time": "2023-02-26T13:58:43.138Z"
      },
      {
        "duration": 46,
        "start_time": "2023-02-26T13:59:06.881Z"
      },
      {
        "duration": 40,
        "start_time": "2023-02-26T13:59:56.687Z"
      },
      {
        "duration": 30,
        "start_time": "2023-02-26T14:00:42.176Z"
      },
      {
        "duration": 23,
        "start_time": "2023-02-26T14:06:14.216Z"
      },
      {
        "duration": 32,
        "start_time": "2023-02-26T14:06:32.338Z"
      },
      {
        "duration": 10,
        "start_time": "2023-02-26T14:10:12.906Z"
      },
      {
        "duration": 232,
        "start_time": "2023-02-26T14:19:19.468Z"
      },
      {
        "duration": 5,
        "start_time": "2023-02-26T14:19:54.921Z"
      },
      {
        "duration": 102,
        "start_time": "2023-02-26T14:20:05.577Z"
      },
      {
        "duration": 17,
        "start_time": "2023-02-26T14:20:35.983Z"
      },
      {
        "duration": 7,
        "start_time": "2023-02-26T14:22:47.789Z"
      },
      {
        "duration": 9,
        "start_time": "2023-02-26T14:23:12.236Z"
      },
      {
        "duration": 12,
        "start_time": "2023-02-26T14:26:34.879Z"
      },
      {
        "duration": 12,
        "start_time": "2023-02-26T14:32:25.780Z"
      },
      {
        "duration": 11,
        "start_time": "2023-02-26T14:59:29.881Z"
      },
      {
        "duration": 48,
        "start_time": "2023-02-26T15:04:17.493Z"
      },
      {
        "duration": 2585,
        "start_time": "2023-02-26T15:06:49.493Z"
      },
      {
        "duration": 6,
        "start_time": "2023-02-26T15:09:08.385Z"
      },
      {
        "duration": 1386,
        "start_time": "2023-02-26T15:09:55.648Z"
      },
      {
        "duration": 1038,
        "start_time": "2023-02-26T15:09:57.036Z"
      },
      {
        "duration": 23,
        "start_time": "2023-02-26T15:09:58.078Z"
      },
      {
        "duration": 208,
        "start_time": "2023-02-26T15:09:58.105Z"
      },
      {
        "duration": 182,
        "start_time": "2023-02-26T15:09:58.315Z"
      },
      {
        "duration": 1130,
        "start_time": "2023-02-26T15:09:58.499Z"
      },
      {
        "duration": 696,
        "start_time": "2023-02-26T15:09:59.631Z"
      },
      {
        "duration": 1056,
        "start_time": "2023-02-26T15:10:00.329Z"
      },
      {
        "duration": 2619,
        "start_time": "2023-02-26T15:10:01.391Z"
      },
      {
        "duration": 10,
        "start_time": "2023-02-26T15:10:04.012Z"
      },
      {
        "duration": 83,
        "start_time": "2023-02-26T15:10:04.024Z"
      },
      {
        "duration": 3213,
        "start_time": "2023-02-26T15:11:51.501Z"
      },
      {
        "duration": 1326,
        "start_time": "2023-02-26T15:12:36.594Z"
      },
      {
        "duration": 990,
        "start_time": "2023-02-26T15:12:37.922Z"
      },
      {
        "duration": 18,
        "start_time": "2023-02-26T15:12:38.914Z"
      },
      {
        "duration": 214,
        "start_time": "2023-02-26T15:12:38.934Z"
      },
      {
        "duration": 174,
        "start_time": "2023-02-26T15:12:39.153Z"
      },
      {
        "duration": 1218,
        "start_time": "2023-02-26T15:12:39.329Z"
      },
      {
        "duration": 669,
        "start_time": "2023-02-26T15:12:40.549Z"
      },
      {
        "duration": 1010,
        "start_time": "2023-02-26T15:12:41.220Z"
      },
      {
        "duration": 2643,
        "start_time": "2023-02-26T15:12:42.232Z"
      },
      {
        "duration": 20,
        "start_time": "2023-02-26T15:12:44.877Z"
      },
      {
        "duration": 87,
        "start_time": "2023-02-26T15:12:44.899Z"
      },
      {
        "duration": 2511,
        "start_time": "2023-02-26T15:13:01.523Z"
      },
      {
        "duration": 1389,
        "start_time": "2023-02-26T15:13:22.234Z"
      },
      {
        "duration": 1039,
        "start_time": "2023-02-26T15:13:23.626Z"
      },
      {
        "duration": 31,
        "start_time": "2023-02-26T15:13:24.667Z"
      },
      {
        "duration": 169,
        "start_time": "2023-02-26T15:13:24.703Z"
      },
      {
        "duration": 203,
        "start_time": "2023-02-26T15:13:24.880Z"
      },
      {
        "duration": 1153,
        "start_time": "2023-02-26T15:13:25.085Z"
      },
      {
        "duration": 759,
        "start_time": "2023-02-26T15:13:26.240Z"
      },
      {
        "duration": 1054,
        "start_time": "2023-02-26T15:13:27.001Z"
      },
      {
        "duration": 2511,
        "start_time": "2023-02-26T15:13:28.066Z"
      },
      {
        "duration": 11,
        "start_time": "2023-02-26T15:13:30.580Z"
      },
      {
        "duration": 86,
        "start_time": "2023-02-26T15:13:30.593Z"
      },
      {
        "duration": 4,
        "start_time": "2023-02-26T15:23:28.021Z"
      },
      {
        "duration": 110,
        "start_time": "2023-02-26T15:23:31.691Z"
      },
      {
        "duration": 4,
        "start_time": "2023-02-26T15:23:43.116Z"
      },
      {
        "duration": 7,
        "start_time": "2023-02-26T15:23:57.598Z"
      },
      {
        "duration": 31,
        "start_time": "2023-02-26T15:24:40.784Z"
      },
      {
        "duration": 1245,
        "start_time": "2023-02-26T15:27:47.619Z"
      },
      {
        "duration": 1014,
        "start_time": "2023-02-26T15:27:48.867Z"
      },
      {
        "duration": 18,
        "start_time": "2023-02-26T15:27:49.884Z"
      },
      {
        "duration": 266,
        "start_time": "2023-02-26T15:27:49.904Z"
      },
      {
        "duration": 157,
        "start_time": "2023-02-26T15:27:50.176Z"
      },
      {
        "duration": 1162,
        "start_time": "2023-02-26T15:27:50.335Z"
      },
      {
        "duration": 675,
        "start_time": "2023-02-26T15:27:51.500Z"
      },
      {
        "duration": 1016,
        "start_time": "2023-02-26T15:27:52.177Z"
      },
      {
        "duration": 2521,
        "start_time": "2023-02-26T15:27:53.195Z"
      },
      {
        "duration": 10,
        "start_time": "2023-02-26T15:27:55.719Z"
      },
      {
        "duration": 88,
        "start_time": "2023-02-26T15:27:55.731Z"
      },
      {
        "duration": 6,
        "start_time": "2023-02-26T15:27:55.822Z"
      },
      {
        "duration": 83,
        "start_time": "2023-02-26T15:27:55.830Z"
      },
      {
        "duration": 2922,
        "start_time": "2023-02-26T15:28:00.530Z"
      },
      {
        "duration": 7,
        "start_time": "2023-02-26T15:34:25.134Z"
      },
      {
        "duration": 56,
        "start_time": "2023-02-26T15:34:32.603Z"
      },
      {
        "duration": 2548,
        "start_time": "2023-02-26T15:34:37.906Z"
      },
      {
        "duration": 1337,
        "start_time": "2023-02-26T15:37:16.572Z"
      },
      {
        "duration": 980,
        "start_time": "2023-02-26T15:37:17.911Z"
      },
      {
        "duration": 18,
        "start_time": "2023-02-26T15:37:18.893Z"
      },
      {
        "duration": 201,
        "start_time": "2023-02-26T15:37:18.913Z"
      },
      {
        "duration": 170,
        "start_time": "2023-02-26T15:37:19.116Z"
      },
      {
        "duration": 1145,
        "start_time": "2023-02-26T15:37:19.289Z"
      },
      {
        "duration": 679,
        "start_time": "2023-02-26T15:37:20.436Z"
      },
      {
        "duration": 1007,
        "start_time": "2023-02-26T15:37:21.117Z"
      },
      {
        "duration": 2565,
        "start_time": "2023-02-26T15:37:22.126Z"
      },
      {
        "duration": 13,
        "start_time": "2023-02-26T15:37:24.693Z"
      },
      {
        "duration": 82,
        "start_time": "2023-02-26T15:37:24.708Z"
      },
      {
        "duration": 7,
        "start_time": "2023-02-26T15:37:24.792Z"
      },
      {
        "duration": 80,
        "start_time": "2023-02-26T15:37:24.801Z"
      },
      {
        "duration": 2416,
        "start_time": "2023-02-26T15:38:51.325Z"
      },
      {
        "duration": 683,
        "start_time": "2023-02-26T17:03:52.280Z"
      },
      {
        "duration": 1201,
        "start_time": "2023-02-26T17:03:58.377Z"
      },
      {
        "duration": 866,
        "start_time": "2023-02-26T17:03:59.580Z"
      },
      {
        "duration": 18,
        "start_time": "2023-02-26T17:04:00.449Z"
      },
      {
        "duration": 155,
        "start_time": "2023-02-26T17:04:00.469Z"
      },
      {
        "duration": 734,
        "start_time": "2023-02-26T17:04:00.625Z"
      },
      {
        "duration": 0,
        "start_time": "2023-02-26T17:04:01.361Z"
      },
      {
        "duration": 0,
        "start_time": "2023-02-26T17:04:01.363Z"
      },
      {
        "duration": 1,
        "start_time": "2023-02-26T17:04:01.364Z"
      },
      {
        "duration": 0,
        "start_time": "2023-02-26T17:04:01.366Z"
      },
      {
        "duration": 0,
        "start_time": "2023-02-26T17:04:01.368Z"
      },
      {
        "duration": 0,
        "start_time": "2023-02-26T17:04:01.370Z"
      },
      {
        "duration": 0,
        "start_time": "2023-02-26T17:04:01.372Z"
      },
      {
        "duration": 0,
        "start_time": "2023-02-26T17:04:01.373Z"
      },
      {
        "duration": 0,
        "start_time": "2023-02-26T17:04:01.374Z"
      },
      {
        "duration": 278,
        "start_time": "2023-02-26T17:05:21.943Z"
      },
      {
        "duration": 1225,
        "start_time": "2023-02-26T17:05:29.571Z"
      },
      {
        "duration": 884,
        "start_time": "2023-02-26T17:05:30.798Z"
      },
      {
        "duration": 21,
        "start_time": "2023-02-26T17:05:31.684Z"
      },
      {
        "duration": 162,
        "start_time": "2023-02-26T17:05:31.708Z"
      },
      {
        "duration": 350,
        "start_time": "2023-02-26T17:05:31.872Z"
      },
      {
        "duration": 105,
        "start_time": "2023-02-26T17:05:32.224Z"
      },
      {
        "duration": 663,
        "start_time": "2023-02-26T17:05:32.331Z"
      },
      {
        "duration": 397,
        "start_time": "2023-02-26T17:05:32.996Z"
      },
      {
        "duration": 1569,
        "start_time": "2023-02-26T17:05:33.395Z"
      },
      {
        "duration": 2263,
        "start_time": "2023-02-26T17:05:34.966Z"
      },
      {
        "duration": 21,
        "start_time": "2023-02-26T17:05:37.231Z"
      },
      {
        "duration": 38,
        "start_time": "2023-02-26T17:05:37.254Z"
      },
      {
        "duration": 7,
        "start_time": "2023-02-26T17:05:37.294Z"
      },
      {
        "duration": 59,
        "start_time": "2023-02-26T17:05:37.302Z"
      },
      {
        "duration": 1517,
        "start_time": "2023-02-26T17:06:51.484Z"
      },
      {
        "duration": 1705,
        "start_time": "2023-02-26T17:06:59.957Z"
      },
      {
        "duration": 4,
        "start_time": "2023-02-26T17:19:15.943Z"
      },
      {
        "duration": 660,
        "start_time": "2023-02-26T17:19:30.338Z"
      },
      {
        "duration": 2279,
        "start_time": "2023-02-26T17:22:17.974Z"
      },
      {
        "duration": 2143,
        "start_time": "2023-02-26T17:22:39.066Z"
      },
      {
        "duration": 146,
        "start_time": "2023-02-26T17:47:11.498Z"
      },
      {
        "duration": 28,
        "start_time": "2023-02-26T17:47:18.796Z"
      },
      {
        "duration": 1546,
        "start_time": "2023-02-26T17:47:59.440Z"
      },
      {
        "duration": 1203,
        "start_time": "2023-02-26T17:48:00.991Z"
      },
      {
        "duration": 25,
        "start_time": "2023-02-26T17:48:02.198Z"
      },
      {
        "duration": 190,
        "start_time": "2023-02-26T17:48:02.226Z"
      },
      {
        "duration": 366,
        "start_time": "2023-02-26T17:48:02.418Z"
      },
      {
        "duration": 121,
        "start_time": "2023-02-26T17:48:02.786Z"
      },
      {
        "duration": 729,
        "start_time": "2023-02-26T17:48:02.909Z"
      },
      {
        "duration": 622,
        "start_time": "2023-02-26T17:48:03.648Z"
      },
      {
        "duration": 2371,
        "start_time": "2023-02-26T17:48:04.272Z"
      },
      {
        "duration": 3219,
        "start_time": "2023-02-26T17:48:06.647Z"
      },
      {
        "duration": 20,
        "start_time": "2023-02-26T17:48:09.871Z"
      },
      {
        "duration": 54,
        "start_time": "2023-02-26T17:48:09.894Z"
      },
      {
        "duration": 37,
        "start_time": "2023-02-26T17:48:09.951Z"
      },
      {
        "duration": 58,
        "start_time": "2023-02-26T17:48:09.991Z"
      },
      {
        "duration": 784,
        "start_time": "2023-02-26T17:48:10.053Z"
      },
      {
        "duration": 1208,
        "start_time": "2023-02-26T17:51:02.461Z"
      },
      {
        "duration": 970,
        "start_time": "2023-02-26T17:51:03.671Z"
      },
      {
        "duration": 37,
        "start_time": "2023-02-26T17:51:04.642Z"
      },
      {
        "duration": 157,
        "start_time": "2023-02-26T17:51:04.682Z"
      },
      {
        "duration": 341,
        "start_time": "2023-02-26T17:51:04.849Z"
      },
      {
        "duration": 127,
        "start_time": "2023-02-26T17:51:05.192Z"
      },
      {
        "duration": 692,
        "start_time": "2023-02-26T17:51:05.320Z"
      },
      {
        "duration": 386,
        "start_time": "2023-02-26T17:51:06.014Z"
      },
      {
        "duration": 1891,
        "start_time": "2023-02-26T17:51:06.402Z"
      },
      {
        "duration": 2164,
        "start_time": "2023-02-26T17:51:08.297Z"
      },
      {
        "duration": 13,
        "start_time": "2023-02-26T17:51:10.462Z"
      },
      {
        "duration": 59,
        "start_time": "2023-02-26T17:51:10.477Z"
      },
      {
        "duration": 7,
        "start_time": "2023-02-26T17:51:10.538Z"
      },
      {
        "duration": 76,
        "start_time": "2023-02-26T17:51:10.547Z"
      },
      {
        "duration": 589,
        "start_time": "2023-02-26T17:51:10.625Z"
      },
      {
        "duration": 189,
        "start_time": "2023-02-26T17:55:44.342Z"
      },
      {
        "duration": 24,
        "start_time": "2023-02-26T17:55:57.722Z"
      },
      {
        "duration": 49,
        "start_time": "2023-02-26T21:10:44.273Z"
      },
      {
        "duration": 1313,
        "start_time": "2023-02-26T21:10:49.847Z"
      },
      {
        "duration": 2857,
        "start_time": "2023-02-26T21:10:51.162Z"
      },
      {
        "duration": 15,
        "start_time": "2023-02-26T21:10:54.021Z"
      },
      {
        "duration": 146,
        "start_time": "2023-02-26T21:10:54.038Z"
      },
      {
        "duration": 296,
        "start_time": "2023-02-26T21:10:54.186Z"
      },
      {
        "duration": 88,
        "start_time": "2023-02-26T21:10:54.483Z"
      },
      {
        "duration": 564,
        "start_time": "2023-02-26T21:10:54.572Z"
      },
      {
        "duration": 379,
        "start_time": "2023-02-26T21:10:55.137Z"
      },
      {
        "duration": 2060,
        "start_time": "2023-02-26T21:10:55.518Z"
      },
      {
        "duration": 1767,
        "start_time": "2023-02-26T21:10:57.581Z"
      },
      {
        "duration": 10,
        "start_time": "2023-02-26T21:10:59.350Z"
      },
      {
        "duration": 36,
        "start_time": "2023-02-26T21:10:59.361Z"
      },
      {
        "duration": 6,
        "start_time": "2023-02-26T21:10:59.398Z"
      },
      {
        "duration": 49,
        "start_time": "2023-02-26T21:10:59.405Z"
      },
      {
        "duration": 661,
        "start_time": "2023-02-26T21:10:59.456Z"
      },
      {
        "duration": 22,
        "start_time": "2023-02-26T21:11:00.118Z"
      },
      {
        "duration": 1606,
        "start_time": "2023-02-26T21:11:44.467Z"
      },
      {
        "duration": 1452,
        "start_time": "2023-02-26T21:12:23.503Z"
      },
      {
        "duration": 390,
        "start_time": "2023-02-26T22:03:33.411Z"
      },
      {
        "duration": 383,
        "start_time": "2023-02-26T22:04:59.491Z"
      },
      {
        "duration": 364,
        "start_time": "2023-02-26T22:05:21.959Z"
      },
      {
        "duration": 394,
        "start_time": "2023-02-26T22:06:31.344Z"
      },
      {
        "duration": 406,
        "start_time": "2023-02-26T22:06:40.102Z"
      },
      {
        "duration": 443,
        "start_time": "2023-02-26T22:08:49.210Z"
      },
      {
        "duration": 357,
        "start_time": "2023-02-26T22:08:59.270Z"
      },
      {
        "duration": 91,
        "start_time": "2023-02-26T23:01:39.649Z"
      },
      {
        "duration": 9,
        "start_time": "2023-02-26T23:01:51.728Z"
      },
      {
        "duration": 111,
        "start_time": "2023-02-26T23:04:30.993Z"
      },
      {
        "duration": 103,
        "start_time": "2023-02-26T23:05:05.339Z"
      },
      {
        "duration": 102,
        "start_time": "2023-02-26T23:05:34.820Z"
      },
      {
        "duration": 109,
        "start_time": "2023-02-26T23:05:42.967Z"
      },
      {
        "duration": 11,
        "start_time": "2023-02-26T23:06:05.511Z"
      },
      {
        "duration": 14,
        "start_time": "2023-02-26T23:08:20.530Z"
      },
      {
        "duration": 11,
        "start_time": "2023-02-26T23:08:24.442Z"
      },
      {
        "duration": 93,
        "start_time": "2023-02-26T23:08:59.530Z"
      },
      {
        "duration": 73,
        "start_time": "2023-02-26T23:09:28.219Z"
      },
      {
        "duration": 100,
        "start_time": "2023-02-26T23:09:31.692Z"
      },
      {
        "duration": 103,
        "start_time": "2023-02-26T23:09:38.840Z"
      },
      {
        "duration": 87,
        "start_time": "2023-02-26T23:09:44.491Z"
      },
      {
        "duration": 101,
        "start_time": "2023-02-26T23:09:47.649Z"
      },
      {
        "duration": 108,
        "start_time": "2023-02-26T23:11:41.161Z"
      },
      {
        "duration": 1340,
        "start_time": "2023-02-27T19:00:26.263Z"
      },
      {
        "duration": 1081,
        "start_time": "2023-02-27T19:00:27.606Z"
      },
      {
        "duration": 18,
        "start_time": "2023-02-27T19:00:28.689Z"
      },
      {
        "duration": 111,
        "start_time": "2023-02-27T19:00:28.708Z"
      },
      {
        "duration": 258,
        "start_time": "2023-02-27T19:00:28.821Z"
      },
      {
        "duration": 71,
        "start_time": "2023-02-27T19:00:29.081Z"
      },
      {
        "duration": 546,
        "start_time": "2023-02-27T19:00:29.153Z"
      },
      {
        "duration": 328,
        "start_time": "2023-02-27T19:00:29.701Z"
      },
      {
        "duration": 1585,
        "start_time": "2023-02-27T19:00:30.031Z"
      },
      {
        "duration": 1771,
        "start_time": "2023-02-27T19:00:31.618Z"
      },
      {
        "duration": 97,
        "start_time": "2023-02-27T19:00:33.390Z"
      },
      {
        "duration": 10,
        "start_time": "2023-02-27T19:00:33.488Z"
      },
      {
        "duration": 37,
        "start_time": "2023-02-27T19:00:33.500Z"
      },
      {
        "duration": 6,
        "start_time": "2023-02-27T19:00:33.539Z"
      },
      {
        "duration": 39,
        "start_time": "2023-02-27T19:00:33.547Z"
      },
      {
        "duration": 613,
        "start_time": "2023-02-27T19:00:33.587Z"
      },
      {
        "duration": 21,
        "start_time": "2023-02-27T19:00:34.201Z"
      },
      {
        "duration": 1384,
        "start_time": "2023-02-28T12:41:08.579Z"
      },
      {
        "duration": 2995,
        "start_time": "2023-02-28T12:41:09.965Z"
      },
      {
        "duration": 18,
        "start_time": "2023-02-28T12:41:12.962Z"
      },
      {
        "duration": 154,
        "start_time": "2023-02-28T12:41:12.982Z"
      },
      {
        "duration": 316,
        "start_time": "2023-02-28T12:41:13.138Z"
      },
      {
        "duration": 102,
        "start_time": "2023-02-28T12:41:13.456Z"
      },
      {
        "duration": 693,
        "start_time": "2023-02-28T12:41:13.559Z"
      },
      {
        "duration": 570,
        "start_time": "2023-02-28T12:41:14.255Z"
      },
      {
        "duration": 1879,
        "start_time": "2023-02-28T12:41:14.827Z"
      },
      {
        "duration": 2286,
        "start_time": "2023-02-28T12:41:16.708Z"
      },
      {
        "duration": 110,
        "start_time": "2023-02-28T12:41:18.996Z"
      },
      {
        "duration": 10,
        "start_time": "2023-02-28T12:41:19.108Z"
      },
      {
        "duration": 45,
        "start_time": "2023-02-28T12:41:19.120Z"
      },
      {
        "duration": 20,
        "start_time": "2023-02-28T12:41:19.168Z"
      },
      {
        "duration": 50,
        "start_time": "2023-02-28T12:41:19.190Z"
      },
      {
        "duration": 670,
        "start_time": "2023-02-28T12:41:19.242Z"
      },
      {
        "duration": 31,
        "start_time": "2023-02-28T12:41:19.914Z"
      },
      {
        "duration": 99,
        "start_time": "2023-02-28T12:46:54.470Z"
      },
      {
        "duration": 14,
        "start_time": "2023-02-28T12:50:44.808Z"
      },
      {
        "duration": 14,
        "start_time": "2023-02-28T12:50:51.863Z"
      },
      {
        "duration": 14,
        "start_time": "2023-02-28T12:51:02.770Z"
      },
      {
        "duration": 13,
        "start_time": "2023-02-28T12:51:14.970Z"
      },
      {
        "duration": 97,
        "start_time": "2023-02-28T14:18:54.840Z"
      },
      {
        "duration": 96,
        "start_time": "2023-02-28T14:19:07.025Z"
      },
      {
        "duration": 14,
        "start_time": "2023-02-28T14:19:21.322Z"
      },
      {
        "duration": 100,
        "start_time": "2023-02-28T14:23:07.778Z"
      },
      {
        "duration": 1327,
        "start_time": "2023-02-28T16:04:00.136Z"
      },
      {
        "duration": 888,
        "start_time": "2023-02-28T16:04:01.465Z"
      },
      {
        "duration": 18,
        "start_time": "2023-02-28T16:04:02.355Z"
      },
      {
        "duration": 165,
        "start_time": "2023-02-28T16:04:02.376Z"
      },
      {
        "duration": 314,
        "start_time": "2023-02-28T16:04:02.545Z"
      },
      {
        "duration": 156,
        "start_time": "2023-02-28T16:04:02.861Z"
      },
      {
        "duration": 701,
        "start_time": "2023-02-28T16:04:03.019Z"
      },
      {
        "duration": 440,
        "start_time": "2023-02-28T16:04:03.722Z"
      },
      {
        "duration": 1815,
        "start_time": "2023-02-28T16:04:04.164Z"
      },
      {
        "duration": 2212,
        "start_time": "2023-02-28T16:04:05.981Z"
      },
      {
        "duration": 131,
        "start_time": "2023-02-28T16:04:08.195Z"
      },
      {
        "duration": 35,
        "start_time": "2023-02-28T16:04:08.328Z"
      },
      {
        "duration": 11,
        "start_time": "2023-02-28T16:04:08.365Z"
      },
      {
        "duration": 49,
        "start_time": "2023-02-28T16:04:08.379Z"
      },
      {
        "duration": 8,
        "start_time": "2023-02-28T16:04:08.431Z"
      },
      {
        "duration": 45,
        "start_time": "2023-02-28T16:04:08.445Z"
      },
      {
        "duration": 605,
        "start_time": "2023-02-28T16:04:08.492Z"
      },
      {
        "duration": 27,
        "start_time": "2023-02-28T16:04:09.099Z"
      },
      {
        "duration": 34,
        "start_time": "2023-02-28T16:04:09.128Z"
      },
      {
        "duration": 181,
        "start_time": "2023-02-28T16:04:09.164Z"
      },
      {
        "duration": 35,
        "start_time": "2023-02-28T16:04:24.733Z"
      },
      {
        "duration": 111,
        "start_time": "2023-02-28T16:04:25.441Z"
      },
      {
        "duration": 41,
        "start_time": "2023-02-28T16:06:52.075Z"
      },
      {
        "duration": 159,
        "start_time": "2023-02-28T16:23:27.742Z"
      },
      {
        "duration": 81,
        "start_time": "2023-02-28T16:25:19.679Z"
      },
      {
        "duration": 79,
        "start_time": "2023-02-28T16:25:40.950Z"
      },
      {
        "duration": 23,
        "start_time": "2023-02-28T16:39:00.368Z"
      },
      {
        "duration": 11,
        "start_time": "2023-02-28T16:39:17.217Z"
      },
      {
        "duration": 10,
        "start_time": "2023-02-28T16:39:27.821Z"
      },
      {
        "duration": 21,
        "start_time": "2023-02-28T16:42:21.783Z"
      },
      {
        "duration": 75,
        "start_time": "2023-02-28T16:42:22.418Z"
      },
      {
        "duration": 85,
        "start_time": "2023-02-28T16:43:11.890Z"
      },
      {
        "duration": 71,
        "start_time": "2023-02-28T16:43:36.650Z"
      },
      {
        "duration": 1350,
        "start_time": "2023-02-28T19:29:27.776Z"
      },
      {
        "duration": 1050,
        "start_time": "2023-02-28T19:29:29.128Z"
      },
      {
        "duration": 19,
        "start_time": "2023-02-28T19:29:30.180Z"
      },
      {
        "duration": 153,
        "start_time": "2023-02-28T19:29:30.202Z"
      },
      {
        "duration": 315,
        "start_time": "2023-02-28T19:29:30.358Z"
      },
      {
        "duration": 96,
        "start_time": "2023-02-28T19:29:30.674Z"
      },
      {
        "duration": 654,
        "start_time": "2023-02-28T19:29:30.772Z"
      },
      {
        "duration": 368,
        "start_time": "2023-02-28T19:29:31.428Z"
      },
      {
        "duration": 1702,
        "start_time": "2023-02-28T19:29:31.798Z"
      },
      {
        "duration": 2008,
        "start_time": "2023-02-28T19:29:33.502Z"
      },
      {
        "duration": 106,
        "start_time": "2023-02-28T19:29:35.512Z"
      },
      {
        "duration": 14,
        "start_time": "2023-02-28T19:29:35.620Z"
      },
      {
        "duration": 24,
        "start_time": "2023-02-28T19:29:35.636Z"
      },
      {
        "duration": 25,
        "start_time": "2023-02-28T19:29:35.662Z"
      },
      {
        "duration": 6,
        "start_time": "2023-02-28T19:29:35.689Z"
      },
      {
        "duration": 39,
        "start_time": "2023-02-28T19:29:35.697Z"
      },
      {
        "duration": 683,
        "start_time": "2023-02-28T19:29:35.762Z"
      },
      {
        "duration": 22,
        "start_time": "2023-02-28T19:29:36.447Z"
      },
      {
        "duration": 28,
        "start_time": "2023-02-28T19:29:36.470Z"
      },
      {
        "duration": 194,
        "start_time": "2023-02-28T19:29:36.499Z"
      },
      {
        "duration": 0,
        "start_time": "2023-02-28T19:29:36.695Z"
      },
      {
        "duration": 0,
        "start_time": "2023-02-28T19:29:36.696Z"
      },
      {
        "duration": 0,
        "start_time": "2023-02-28T19:29:36.698Z"
      },
      {
        "duration": 68,
        "start_time": "2023-02-28T19:30:46.896Z"
      },
      {
        "duration": 2299,
        "start_time": "2023-02-28T19:52:02.078Z"
      },
      {
        "duration": 2208,
        "start_time": "2023-02-28T19:54:12.711Z"
      },
      {
        "duration": 2293,
        "start_time": "2023-02-28T19:54:29.890Z"
      },
      {
        "duration": 2858,
        "start_time": "2023-02-28T20:08:08.144Z"
      },
      {
        "duration": 67,
        "start_time": "2023-02-28T20:11:11.022Z"
      },
      {
        "duration": 66,
        "start_time": "2023-02-28T20:11:20.176Z"
      },
      {
        "duration": 2698,
        "start_time": "2023-02-28T20:12:05.884Z"
      },
      {
        "duration": 21,
        "start_time": "2023-02-28T20:25:31.884Z"
      },
      {
        "duration": 20,
        "start_time": "2023-02-28T20:25:59.443Z"
      },
      {
        "duration": 88,
        "start_time": "2023-02-28T20:29:22.138Z"
      },
      {
        "duration": 1186,
        "start_time": "2023-02-28T20:29:27.894Z"
      },
      {
        "duration": 840,
        "start_time": "2023-02-28T20:29:29.083Z"
      },
      {
        "duration": 16,
        "start_time": "2023-02-28T20:29:29.925Z"
      },
      {
        "duration": 145,
        "start_time": "2023-02-28T20:29:29.942Z"
      },
      {
        "duration": 287,
        "start_time": "2023-02-28T20:29:30.089Z"
      },
      {
        "duration": 95,
        "start_time": "2023-02-28T20:29:30.378Z"
      },
      {
        "duration": 674,
        "start_time": "2023-02-28T20:29:30.475Z"
      },
      {
        "duration": 358,
        "start_time": "2023-02-28T20:29:31.151Z"
      },
      {
        "duration": 1673,
        "start_time": "2023-02-28T20:29:31.511Z"
      },
      {
        "duration": 1921,
        "start_time": "2023-02-28T20:29:33.185Z"
      },
      {
        "duration": 14,
        "start_time": "2023-02-28T20:29:35.108Z"
      },
      {
        "duration": 36,
        "start_time": "2023-02-28T20:29:35.123Z"
      },
      {
        "duration": 30,
        "start_time": "2023-02-28T20:29:35.161Z"
      },
      {
        "duration": 7,
        "start_time": "2023-02-28T20:29:35.194Z"
      },
      {
        "duration": 71,
        "start_time": "2023-02-28T20:29:35.202Z"
      },
      {
        "duration": 598,
        "start_time": "2023-02-28T20:29:35.275Z"
      },
      {
        "duration": 21,
        "start_time": "2023-02-28T20:29:35.875Z"
      },
      {
        "duration": 102,
        "start_time": "2023-02-28T20:29:35.898Z"
      },
      {
        "duration": 22,
        "start_time": "2023-02-28T20:29:36.002Z"
      },
      {
        "duration": 39,
        "start_time": "2023-02-28T20:29:36.026Z"
      },
      {
        "duration": 2811,
        "start_time": "2023-02-28T20:29:36.067Z"
      },
      {
        "duration": 3,
        "start_time": "2023-02-28T20:29:38.879Z"
      },
      {
        "duration": 4,
        "start_time": "2023-02-28T20:29:38.884Z"
      },
      {
        "duration": 109,
        "start_time": "2023-02-28T20:29:38.890Z"
      },
      {
        "duration": 113,
        "start_time": "2023-02-28T20:30:11.427Z"
      },
      {
        "duration": 1294,
        "start_time": "2023-02-28T20:30:37.294Z"
      },
      {
        "duration": 857,
        "start_time": "2023-02-28T20:30:38.591Z"
      },
      {
        "duration": 22,
        "start_time": "2023-02-28T20:30:39.450Z"
      },
      {
        "duration": 161,
        "start_time": "2023-02-28T20:30:39.474Z"
      },
      {
        "duration": 289,
        "start_time": "2023-02-28T20:30:39.637Z"
      },
      {
        "duration": 94,
        "start_time": "2023-02-28T20:30:39.928Z"
      },
      {
        "duration": 637,
        "start_time": "2023-02-28T20:30:40.023Z"
      },
      {
        "duration": 379,
        "start_time": "2023-02-28T20:30:40.662Z"
      },
      {
        "duration": 1749,
        "start_time": "2023-02-28T20:30:41.043Z"
      },
      {
        "duration": 1979,
        "start_time": "2023-02-28T20:30:42.794Z"
      },
      {
        "duration": 15,
        "start_time": "2023-02-28T20:30:44.774Z"
      },
      {
        "duration": 8,
        "start_time": "2023-02-28T20:30:44.790Z"
      },
      {
        "duration": 30,
        "start_time": "2023-02-28T20:30:44.800Z"
      },
      {
        "duration": 26,
        "start_time": "2023-02-28T20:30:44.833Z"
      },
      {
        "duration": 38,
        "start_time": "2023-02-28T20:30:44.860Z"
      },
      {
        "duration": 585,
        "start_time": "2023-02-28T20:30:44.900Z"
      },
      {
        "duration": 22,
        "start_time": "2023-02-28T20:30:45.487Z"
      },
      {
        "duration": 148,
        "start_time": "2023-02-28T20:30:45.511Z"
      },
      {
        "duration": 23,
        "start_time": "2023-02-28T20:30:45.660Z"
      },
      {
        "duration": 32,
        "start_time": "2023-02-28T20:30:45.685Z"
      },
      {
        "duration": 3081,
        "start_time": "2023-02-28T20:30:45.719Z"
      },
      {
        "duration": 3,
        "start_time": "2023-02-28T20:30:48.802Z"
      },
      {
        "duration": 6,
        "start_time": "2023-02-28T20:30:48.807Z"
      },
      {
        "duration": 123,
        "start_time": "2023-02-28T20:30:48.816Z"
      },
      {
        "duration": 1749,
        "start_time": "2023-02-28T20:32:45.226Z"
      },
      {
        "duration": 116,
        "start_time": "2023-02-28T20:33:42.634Z"
      },
      {
        "duration": 1530,
        "start_time": "2023-02-28T20:33:59.478Z"
      },
      {
        "duration": 1252,
        "start_time": "2023-02-28T20:34:36.360Z"
      },
      {
        "duration": 889,
        "start_time": "2023-02-28T20:34:37.614Z"
      },
      {
        "duration": 20,
        "start_time": "2023-02-28T20:34:38.505Z"
      },
      {
        "duration": 140,
        "start_time": "2023-02-28T20:34:38.526Z"
      },
      {
        "duration": 294,
        "start_time": "2023-02-28T20:34:38.668Z"
      },
      {
        "duration": 106,
        "start_time": "2023-02-28T20:34:38.964Z"
      },
      {
        "duration": 606,
        "start_time": "2023-02-28T20:34:39.071Z"
      },
      {
        "duration": 354,
        "start_time": "2023-02-28T20:34:39.679Z"
      },
      {
        "duration": 1633,
        "start_time": "2023-02-28T20:34:40.035Z"
      },
      {
        "duration": 2026,
        "start_time": "2023-02-28T20:34:41.670Z"
      },
      {
        "duration": 14,
        "start_time": "2023-02-28T20:34:43.697Z"
      },
      {
        "duration": 8,
        "start_time": "2023-02-28T20:34:43.712Z"
      },
      {
        "duration": 44,
        "start_time": "2023-02-28T20:34:43.722Z"
      },
      {
        "duration": 6,
        "start_time": "2023-02-28T20:34:43.769Z"
      },
      {
        "duration": 37,
        "start_time": "2023-02-28T20:34:43.777Z"
      },
      {
        "duration": 554,
        "start_time": "2023-02-28T20:34:43.816Z"
      },
      {
        "duration": 20,
        "start_time": "2023-02-28T20:34:44.371Z"
      },
      {
        "duration": 1482,
        "start_time": "2023-02-28T20:34:44.393Z"
      },
      {
        "duration": 22,
        "start_time": "2023-02-28T20:34:45.876Z"
      },
      {
        "duration": 20,
        "start_time": "2023-02-28T20:34:45.900Z"
      },
      {
        "duration": 2793,
        "start_time": "2023-02-28T20:34:45.922Z"
      },
      {
        "duration": 2,
        "start_time": "2023-02-28T20:34:48.717Z"
      },
      {
        "duration": 7,
        "start_time": "2023-02-28T20:34:48.720Z"
      },
      {
        "duration": 119,
        "start_time": "2023-02-28T20:34:48.728Z"
      },
      {
        "duration": 111,
        "start_time": "2023-02-28T20:35:13.965Z"
      },
      {
        "duration": 1179,
        "start_time": "2023-02-28T20:35:54.321Z"
      },
      {
        "duration": 901,
        "start_time": "2023-02-28T20:35:55.502Z"
      },
      {
        "duration": 17,
        "start_time": "2023-02-28T20:35:56.406Z"
      },
      {
        "duration": 173,
        "start_time": "2023-02-28T20:35:56.425Z"
      },
      {
        "duration": 301,
        "start_time": "2023-02-28T20:35:56.600Z"
      },
      {
        "duration": 97,
        "start_time": "2023-02-28T20:35:56.903Z"
      },
      {
        "duration": 690,
        "start_time": "2023-02-28T20:35:57.002Z"
      },
      {
        "duration": 409,
        "start_time": "2023-02-28T20:35:57.694Z"
      },
      {
        "duration": 1683,
        "start_time": "2023-02-28T20:35:58.105Z"
      },
      {
        "duration": 2106,
        "start_time": "2023-02-28T20:35:59.791Z"
      },
      {
        "duration": 26,
        "start_time": "2023-02-28T20:36:01.898Z"
      },
      {
        "duration": 57,
        "start_time": "2023-02-28T20:36:01.926Z"
      },
      {
        "duration": 49,
        "start_time": "2023-02-28T20:36:01.984Z"
      },
      {
        "duration": 13,
        "start_time": "2023-02-28T20:36:02.035Z"
      },
      {
        "duration": 68,
        "start_time": "2023-02-28T20:36:02.049Z"
      },
      {
        "duration": 582,
        "start_time": "2023-02-28T20:36:02.118Z"
      },
      {
        "duration": 20,
        "start_time": "2023-02-28T20:36:02.702Z"
      },
      {
        "duration": 109,
        "start_time": "2023-02-28T20:36:02.724Z"
      },
      {
        "duration": 30,
        "start_time": "2023-02-28T20:36:02.834Z"
      },
      {
        "duration": 38,
        "start_time": "2023-02-28T20:36:02.866Z"
      },
      {
        "duration": 2594,
        "start_time": "2023-02-28T20:36:02.906Z"
      },
      {
        "duration": 3,
        "start_time": "2023-02-28T20:36:05.502Z"
      },
      {
        "duration": 7,
        "start_time": "2023-02-28T20:36:05.506Z"
      },
      {
        "duration": 108,
        "start_time": "2023-02-28T20:36:05.514Z"
      },
      {
        "duration": 95,
        "start_time": "2023-02-28T20:41:50.515Z"
      },
      {
        "duration": 1205,
        "start_time": "2023-02-28T20:41:58.073Z"
      },
      {
        "duration": 818,
        "start_time": "2023-02-28T20:41:59.280Z"
      },
      {
        "duration": 17,
        "start_time": "2023-02-28T20:42:00.099Z"
      },
      {
        "duration": 160,
        "start_time": "2023-02-28T20:42:00.118Z"
      },
      {
        "duration": 311,
        "start_time": "2023-02-28T20:42:00.280Z"
      },
      {
        "duration": 116,
        "start_time": "2023-02-28T20:42:00.593Z"
      },
      {
        "duration": 683,
        "start_time": "2023-02-28T20:42:00.711Z"
      },
      {
        "duration": 402,
        "start_time": "2023-02-28T20:42:01.395Z"
      },
      {
        "duration": 1741,
        "start_time": "2023-02-28T20:42:01.799Z"
      },
      {
        "duration": 2046,
        "start_time": "2023-02-28T20:42:03.541Z"
      },
      {
        "duration": 16,
        "start_time": "2023-02-28T20:42:05.589Z"
      },
      {
        "duration": 9,
        "start_time": "2023-02-28T20:42:05.606Z"
      },
      {
        "duration": 53,
        "start_time": "2023-02-28T20:42:05.617Z"
      },
      {
        "duration": 8,
        "start_time": "2023-02-28T20:42:05.676Z"
      },
      {
        "duration": 50,
        "start_time": "2023-02-28T20:42:05.685Z"
      },
      {
        "duration": 672,
        "start_time": "2023-02-28T20:42:05.737Z"
      },
      {
        "duration": 23,
        "start_time": "2023-02-28T20:42:06.411Z"
      },
      {
        "duration": 134,
        "start_time": "2023-02-28T20:42:06.436Z"
      },
      {
        "duration": 24,
        "start_time": "2023-02-28T20:42:06.574Z"
      },
      {
        "duration": 23,
        "start_time": "2023-02-28T20:42:06.600Z"
      },
      {
        "duration": 2890,
        "start_time": "2023-02-28T20:42:06.625Z"
      },
      {
        "duration": 3,
        "start_time": "2023-02-28T20:42:09.517Z"
      },
      {
        "duration": 5,
        "start_time": "2023-02-28T20:42:09.522Z"
      },
      {
        "duration": 111,
        "start_time": "2023-02-28T20:42:09.529Z"
      },
      {
        "duration": 82,
        "start_time": "2023-02-28T20:47:49.920Z"
      },
      {
        "duration": 1172,
        "start_time": "2023-02-28T20:47:55.908Z"
      },
      {
        "duration": 967,
        "start_time": "2023-02-28T20:47:57.083Z"
      },
      {
        "duration": 24,
        "start_time": "2023-02-28T20:47:58.052Z"
      },
      {
        "duration": 194,
        "start_time": "2023-02-28T20:47:58.079Z"
      },
      {
        "duration": 296,
        "start_time": "2023-02-28T20:47:58.275Z"
      },
      {
        "duration": 89,
        "start_time": "2023-02-28T20:47:58.573Z"
      },
      {
        "duration": 676,
        "start_time": "2023-02-28T20:47:58.664Z"
      },
      {
        "duration": 387,
        "start_time": "2023-02-28T20:47:59.342Z"
      },
      {
        "duration": 1713,
        "start_time": "2023-02-28T20:47:59.731Z"
      },
      {
        "duration": 2025,
        "start_time": "2023-02-28T20:48:01.446Z"
      },
      {
        "duration": 16,
        "start_time": "2023-02-28T20:48:03.474Z"
      },
      {
        "duration": 11,
        "start_time": "2023-02-28T20:48:03.492Z"
      },
      {
        "duration": 25,
        "start_time": "2023-02-28T20:48:03.505Z"
      },
      {
        "duration": 7,
        "start_time": "2023-02-28T20:48:03.558Z"
      },
      {
        "duration": 38,
        "start_time": "2023-02-28T20:48:03.567Z"
      },
      {
        "duration": 570,
        "start_time": "2023-02-28T20:48:03.607Z"
      },
      {
        "duration": 21,
        "start_time": "2023-02-28T20:48:04.179Z"
      },
      {
        "duration": 111,
        "start_time": "2023-02-28T20:48:04.202Z"
      },
      {
        "duration": 22,
        "start_time": "2023-02-28T20:48:04.314Z"
      },
      {
        "duration": 33,
        "start_time": "2023-02-28T20:48:04.338Z"
      },
      {
        "duration": 2738,
        "start_time": "2023-02-28T20:48:04.372Z"
      },
      {
        "duration": 2,
        "start_time": "2023-02-28T20:48:07.112Z"
      },
      {
        "duration": 6,
        "start_time": "2023-02-28T20:48:07.116Z"
      },
      {
        "duration": 112,
        "start_time": "2023-02-28T20:48:07.124Z"
      },
      {
        "duration": 1218,
        "start_time": "2023-02-28T20:59:02.262Z"
      },
      {
        "duration": 842,
        "start_time": "2023-02-28T20:59:03.482Z"
      },
      {
        "duration": 17,
        "start_time": "2023-02-28T20:59:04.326Z"
      },
      {
        "duration": 169,
        "start_time": "2023-02-28T20:59:04.345Z"
      },
      {
        "duration": 292,
        "start_time": "2023-02-28T20:59:04.517Z"
      },
      {
        "duration": 94,
        "start_time": "2023-02-28T20:59:04.811Z"
      },
      {
        "duration": 654,
        "start_time": "2023-02-28T20:59:04.906Z"
      },
      {
        "duration": 443,
        "start_time": "2023-02-28T20:59:05.561Z"
      },
      {
        "duration": 2606,
        "start_time": "2023-02-28T20:59:06.058Z"
      },
      {
        "duration": 2083,
        "start_time": "2023-02-28T20:59:08.665Z"
      },
      {
        "duration": 20,
        "start_time": "2023-02-28T20:59:10.749Z"
      },
      {
        "duration": 9,
        "start_time": "2023-02-28T20:59:10.771Z"
      },
      {
        "duration": 26,
        "start_time": "2023-02-28T20:59:10.782Z"
      },
      {
        "duration": 6,
        "start_time": "2023-02-28T20:59:10.811Z"
      },
      {
        "duration": 73,
        "start_time": "2023-02-28T20:59:10.819Z"
      },
      {
        "duration": 570,
        "start_time": "2023-02-28T20:59:10.893Z"
      },
      {
        "duration": 21,
        "start_time": "2023-02-28T20:59:11.464Z"
      },
      {
        "duration": 105,
        "start_time": "2023-02-28T20:59:11.487Z"
      },
      {
        "duration": 101,
        "start_time": "2023-02-28T20:59:11.593Z"
      },
      {
        "duration": 0,
        "start_time": "2023-02-28T20:59:11.696Z"
      },
      {
        "duration": 0,
        "start_time": "2023-02-28T20:59:11.697Z"
      },
      {
        "duration": 0,
        "start_time": "2023-02-28T20:59:11.698Z"
      },
      {
        "duration": 0,
        "start_time": "2023-02-28T20:59:11.699Z"
      },
      {
        "duration": 0,
        "start_time": "2023-02-28T20:59:11.700Z"
      },
      {
        "duration": 0,
        "start_time": "2023-02-28T20:59:11.700Z"
      },
      {
        "duration": 1665,
        "start_time": "2023-02-28T20:59:21.187Z"
      },
      {
        "duration": 21,
        "start_time": "2023-02-28T21:02:04.596Z"
      },
      {
        "duration": 1532,
        "start_time": "2023-02-28T21:02:19.383Z"
      },
      {
        "duration": 75,
        "start_time": "2023-02-28T21:03:53.008Z"
      },
      {
        "duration": 6,
        "start_time": "2023-02-28T21:04:18.895Z"
      },
      {
        "duration": 8,
        "start_time": "2023-02-28T21:04:35.682Z"
      },
      {
        "duration": 7,
        "start_time": "2023-02-28T21:04:52.522Z"
      },
      {
        "duration": 5,
        "start_time": "2023-02-28T21:05:39.822Z"
      },
      {
        "duration": 9,
        "start_time": "2023-02-28T21:05:42.745Z"
      },
      {
        "duration": 1315,
        "start_time": "2023-02-28T21:05:47.459Z"
      },
      {
        "duration": 883,
        "start_time": "2023-02-28T21:05:48.776Z"
      },
      {
        "duration": 16,
        "start_time": "2023-02-28T21:05:49.661Z"
      },
      {
        "duration": 147,
        "start_time": "2023-02-28T21:05:49.679Z"
      },
      {
        "duration": 292,
        "start_time": "2023-02-28T21:05:49.828Z"
      },
      {
        "duration": 92,
        "start_time": "2023-02-28T21:05:50.122Z"
      },
      {
        "duration": 648,
        "start_time": "2023-02-28T21:05:50.216Z"
      },
      {
        "duration": 363,
        "start_time": "2023-02-28T21:05:50.865Z"
      },
      {
        "duration": 1654,
        "start_time": "2023-02-28T21:05:51.230Z"
      },
      {
        "duration": 1961,
        "start_time": "2023-02-28T21:05:52.885Z"
      },
      {
        "duration": 18,
        "start_time": "2023-02-28T21:05:54.847Z"
      },
      {
        "duration": 8,
        "start_time": "2023-02-28T21:05:54.867Z"
      },
      {
        "duration": 26,
        "start_time": "2023-02-28T21:05:54.876Z"
      },
      {
        "duration": 6,
        "start_time": "2023-02-28T21:05:54.904Z"
      },
      {
        "duration": 62,
        "start_time": "2023-02-28T21:05:54.911Z"
      },
      {
        "duration": 618,
        "start_time": "2023-02-28T21:05:54.975Z"
      },
      {
        "duration": 24,
        "start_time": "2023-02-28T21:05:55.595Z"
      },
      {
        "duration": 112,
        "start_time": "2023-02-28T21:05:55.620Z"
      },
      {
        "duration": 96,
        "start_time": "2023-02-28T21:05:55.734Z"
      },
      {
        "duration": 1640,
        "start_time": "2023-02-28T21:05:55.832Z"
      },
      {
        "duration": 0,
        "start_time": "2023-02-28T21:05:57.474Z"
      },
      {
        "duration": 0,
        "start_time": "2023-02-28T21:05:57.476Z"
      },
      {
        "duration": 0,
        "start_time": "2023-02-28T21:05:57.478Z"
      },
      {
        "duration": 0,
        "start_time": "2023-02-28T21:05:57.480Z"
      },
      {
        "duration": 0,
        "start_time": "2023-02-28T21:05:57.481Z"
      },
      {
        "duration": 1172,
        "start_time": "2023-02-28T21:07:03.091Z"
      },
      {
        "duration": 860,
        "start_time": "2023-02-28T21:07:04.265Z"
      },
      {
        "duration": 19,
        "start_time": "2023-02-28T21:07:05.126Z"
      },
      {
        "duration": 154,
        "start_time": "2023-02-28T21:07:05.147Z"
      },
      {
        "duration": 303,
        "start_time": "2023-02-28T21:07:05.303Z"
      },
      {
        "duration": 96,
        "start_time": "2023-02-28T21:07:05.608Z"
      },
      {
        "duration": 691,
        "start_time": "2023-02-28T21:07:05.706Z"
      },
      {
        "duration": 421,
        "start_time": "2023-02-28T21:07:06.399Z"
      },
      {
        "duration": 1774,
        "start_time": "2023-02-28T21:07:06.822Z"
      },
      {
        "duration": 1986,
        "start_time": "2023-02-28T21:07:08.598Z"
      },
      {
        "duration": 15,
        "start_time": "2023-02-28T21:07:10.585Z"
      },
      {
        "duration": 9,
        "start_time": "2023-02-28T21:07:10.602Z"
      },
      {
        "duration": 40,
        "start_time": "2023-02-28T21:07:10.612Z"
      },
      {
        "duration": 6,
        "start_time": "2023-02-28T21:07:10.660Z"
      },
      {
        "duration": 49,
        "start_time": "2023-02-28T21:07:10.668Z"
      },
      {
        "duration": 562,
        "start_time": "2023-02-28T21:07:10.719Z"
      },
      {
        "duration": 21,
        "start_time": "2023-02-28T21:07:11.283Z"
      },
      {
        "duration": 102,
        "start_time": "2023-02-28T21:07:11.305Z"
      },
      {
        "duration": 97,
        "start_time": "2023-02-28T21:07:11.408Z"
      },
      {
        "duration": 22,
        "start_time": "2023-02-28T21:07:11.506Z"
      },
      {
        "duration": 35,
        "start_time": "2023-02-28T21:07:11.530Z"
      },
      {
        "duration": 2566,
        "start_time": "2023-02-28T21:07:11.567Z"
      },
      {
        "duration": 2,
        "start_time": "2023-02-28T21:07:14.135Z"
      },
      {
        "duration": 2,
        "start_time": "2023-02-28T21:07:14.158Z"
      },
      {
        "duration": 98,
        "start_time": "2023-02-28T21:07:14.162Z"
      },
      {
        "duration": 89,
        "start_time": "2023-02-28T21:09:07.588Z"
      },
      {
        "duration": 4,
        "start_time": "2023-02-28T21:09:54.572Z"
      },
      {
        "duration": 96,
        "start_time": "2023-02-28T21:09:58.688Z"
      },
      {
        "duration": 9,
        "start_time": "2023-02-28T21:10:39.515Z"
      },
      {
        "duration": 116,
        "start_time": "2023-02-28T21:12:07.677Z"
      },
      {
        "duration": 2000,
        "start_time": "2023-02-28T21:12:14.807Z"
      },
      {
        "duration": 82,
        "start_time": "2023-02-28T21:13:54.624Z"
      },
      {
        "duration": 110,
        "start_time": "2023-02-28T21:14:56.941Z"
      },
      {
        "duration": 104,
        "start_time": "2023-02-28T21:15:20.494Z"
      },
      {
        "duration": 1205,
        "start_time": "2023-02-28T21:15:41.975Z"
      },
      {
        "duration": 848,
        "start_time": "2023-02-28T21:15:43.182Z"
      },
      {
        "duration": 17,
        "start_time": "2023-02-28T21:15:44.032Z"
      },
      {
        "duration": 139,
        "start_time": "2023-02-28T21:15:44.058Z"
      },
      {
        "duration": 314,
        "start_time": "2023-02-28T21:15:44.199Z"
      },
      {
        "duration": 104,
        "start_time": "2023-02-28T21:15:44.515Z"
      },
      {
        "duration": 660,
        "start_time": "2023-02-28T21:15:44.622Z"
      },
      {
        "duration": 380,
        "start_time": "2023-02-28T21:15:45.284Z"
      },
      {
        "duration": 1782,
        "start_time": "2023-02-28T21:15:45.666Z"
      },
      {
        "duration": 2124,
        "start_time": "2023-02-28T21:15:47.452Z"
      },
      {
        "duration": 16,
        "start_time": "2023-02-28T21:15:49.578Z"
      },
      {
        "duration": 49,
        "start_time": "2023-02-28T21:15:49.595Z"
      },
      {
        "duration": 70,
        "start_time": "2023-02-28T21:15:49.646Z"
      },
      {
        "duration": 10,
        "start_time": "2023-02-28T21:15:49.718Z"
      },
      {
        "duration": 64,
        "start_time": "2023-02-28T21:15:49.730Z"
      },
      {
        "duration": 575,
        "start_time": "2023-02-28T21:15:49.796Z"
      },
      {
        "duration": 21,
        "start_time": "2023-02-28T21:15:50.374Z"
      },
      {
        "duration": 122,
        "start_time": "2023-02-28T21:15:50.397Z"
      },
      {
        "duration": 136,
        "start_time": "2023-02-28T21:15:50.521Z"
      },
      {
        "duration": 101,
        "start_time": "2023-02-28T21:15:50.659Z"
      },
      {
        "duration": 25,
        "start_time": "2023-02-28T21:15:50.762Z"
      },
      {
        "duration": 29,
        "start_time": "2023-02-28T21:15:50.789Z"
      },
      {
        "duration": 2808,
        "start_time": "2023-02-28T21:15:50.820Z"
      },
      {
        "duration": 2,
        "start_time": "2023-02-28T21:15:53.630Z"
      },
      {
        "duration": 31,
        "start_time": "2023-02-28T21:15:53.634Z"
      },
      {
        "duration": 103,
        "start_time": "2023-02-28T21:15:53.667Z"
      },
      {
        "duration": 25,
        "start_time": "2023-02-28T21:27:24.786Z"
      },
      {
        "duration": 37,
        "start_time": "2023-02-28T21:27:37.663Z"
      },
      {
        "duration": 1229,
        "start_time": "2023-02-28T21:31:07.750Z"
      },
      {
        "duration": 845,
        "start_time": "2023-02-28T21:31:08.981Z"
      },
      {
        "duration": 18,
        "start_time": "2023-02-28T21:31:09.828Z"
      },
      {
        "duration": 134,
        "start_time": "2023-02-28T21:31:09.859Z"
      },
      {
        "duration": 295,
        "start_time": "2023-02-28T21:31:09.995Z"
      },
      {
        "duration": 96,
        "start_time": "2023-02-28T21:31:10.292Z"
      },
      {
        "duration": 672,
        "start_time": "2023-02-28T21:31:10.389Z"
      },
      {
        "duration": 366,
        "start_time": "2023-02-28T21:31:11.063Z"
      },
      {
        "duration": 2645,
        "start_time": "2023-02-28T21:31:11.431Z"
      },
      {
        "duration": 2049,
        "start_time": "2023-02-28T21:31:14.077Z"
      },
      {
        "duration": 16,
        "start_time": "2023-02-28T21:31:16.127Z"
      },
      {
        "duration": 23,
        "start_time": "2023-02-28T21:31:16.145Z"
      },
      {
        "duration": 37,
        "start_time": "2023-02-28T21:31:16.170Z"
      },
      {
        "duration": 9,
        "start_time": "2023-02-28T21:31:16.211Z"
      },
      {
        "duration": 60,
        "start_time": "2023-02-28T21:31:16.222Z"
      },
      {
        "duration": 608,
        "start_time": "2023-02-28T21:31:16.284Z"
      },
      {
        "duration": 3,
        "start_time": "2023-02-28T21:31:16.893Z"
      },
      {
        "duration": 108,
        "start_time": "2023-02-28T21:31:16.897Z"
      },
      {
        "duration": 133,
        "start_time": "2023-02-28T21:31:17.007Z"
      },
      {
        "duration": 30,
        "start_time": "2023-02-28T21:31:17.142Z"
      },
      {
        "duration": 21,
        "start_time": "2023-02-28T21:31:17.173Z"
      },
      {
        "duration": 63,
        "start_time": "2023-02-28T21:31:17.196Z"
      },
      {
        "duration": 2605,
        "start_time": "2023-02-28T21:31:17.261Z"
      },
      {
        "duration": 2,
        "start_time": "2023-02-28T21:31:19.868Z"
      },
      {
        "duration": 6,
        "start_time": "2023-02-28T21:31:19.871Z"
      },
      {
        "duration": 95,
        "start_time": "2023-02-28T21:31:19.878Z"
      },
      {
        "duration": 104,
        "start_time": "2023-02-28T21:31:19.975Z"
      },
      {
        "duration": 4,
        "start_time": "2023-02-28T21:38:26.701Z"
      },
      {
        "duration": 126,
        "start_time": "2023-02-28T21:39:45.907Z"
      },
      {
        "duration": 43,
        "start_time": "2023-02-28T21:39:54.024Z"
      },
      {
        "duration": 25,
        "start_time": "2023-02-28T21:40:51.107Z"
      },
      {
        "duration": 4,
        "start_time": "2023-02-28T21:41:23.287Z"
      },
      {
        "duration": 53,
        "start_time": "2023-02-28T21:42:09.551Z"
      },
      {
        "duration": 6,
        "start_time": "2023-02-28T21:42:26.373Z"
      },
      {
        "duration": 6,
        "start_time": "2023-02-28T21:42:40.872Z"
      },
      {
        "duration": 46,
        "start_time": "2023-02-28T21:43:15.128Z"
      },
      {
        "duration": 1404,
        "start_time": "2023-03-01T07:30:00.818Z"
      },
      {
        "duration": 1362,
        "start_time": "2023-03-01T07:30:02.224Z"
      },
      {
        "duration": 18,
        "start_time": "2023-03-01T07:30:03.635Z"
      },
      {
        "duration": 287,
        "start_time": "2023-03-01T07:30:03.655Z"
      },
      {
        "duration": 621,
        "start_time": "2023-03-01T07:30:03.946Z"
      },
      {
        "duration": 192,
        "start_time": "2023-03-01T07:30:04.568Z"
      },
      {
        "duration": 764,
        "start_time": "2023-03-01T07:30:04.761Z"
      },
      {
        "duration": 351,
        "start_time": "2023-03-01T07:30:05.526Z"
      },
      {
        "duration": 1677,
        "start_time": "2023-03-01T07:30:05.879Z"
      },
      {
        "duration": 2018,
        "start_time": "2023-03-01T07:30:07.558Z"
      },
      {
        "duration": 17,
        "start_time": "2023-03-01T07:30:09.578Z"
      },
      {
        "duration": 27,
        "start_time": "2023-03-01T07:30:09.597Z"
      },
      {
        "duration": 44,
        "start_time": "2023-03-01T07:30:09.626Z"
      },
      {
        "duration": 20,
        "start_time": "2023-03-01T07:30:09.673Z"
      },
      {
        "duration": 57,
        "start_time": "2023-03-01T07:30:09.695Z"
      },
      {
        "duration": 672,
        "start_time": "2023-03-01T07:30:09.754Z"
      },
      {
        "duration": 29,
        "start_time": "2023-03-01T07:30:10.429Z"
      },
      {
        "duration": 93,
        "start_time": "2023-03-01T07:30:10.460Z"
      },
      {
        "duration": 112,
        "start_time": "2023-03-01T07:30:10.555Z"
      },
      {
        "duration": 19,
        "start_time": "2023-03-01T07:30:10.669Z"
      },
      {
        "duration": 17,
        "start_time": "2023-03-01T07:30:10.691Z"
      },
      {
        "duration": 66,
        "start_time": "2023-03-01T07:30:10.710Z"
      },
      {
        "duration": 38,
        "start_time": "2023-03-01T07:30:10.778Z"
      },
      {
        "duration": 2691,
        "start_time": "2023-03-01T07:30:10.817Z"
      },
      {
        "duration": 3,
        "start_time": "2023-03-01T07:30:13.510Z"
      },
      {
        "duration": 22,
        "start_time": "2023-03-01T07:30:13.515Z"
      },
      {
        "duration": 85,
        "start_time": "2023-03-01T07:30:13.539Z"
      },
      {
        "duration": 78,
        "start_time": "2023-03-01T07:30:13.625Z"
      },
      {
        "duration": 2483,
        "start_time": "2023-03-01T07:43:06.493Z"
      },
      {
        "duration": 185,
        "start_time": "2023-03-01T08:03:08.231Z"
      },
      {
        "duration": 2685,
        "start_time": "2023-03-01T08:03:29.669Z"
      },
      {
        "duration": 153,
        "start_time": "2023-03-01T08:20:54.347Z"
      },
      {
        "duration": 145,
        "start_time": "2023-03-01T08:22:45.250Z"
      },
      {
        "duration": 2648,
        "start_time": "2023-03-01T08:23:01.160Z"
      },
      {
        "duration": 703,
        "start_time": "2023-03-01T08:29:20.689Z"
      },
      {
        "duration": 2525,
        "start_time": "2023-03-01T08:29:36.486Z"
      },
      {
        "duration": 2598,
        "start_time": "2023-03-01T08:29:44.618Z"
      },
      {
        "duration": 2845,
        "start_time": "2023-03-01T08:31:35.024Z"
      },
      {
        "duration": 2657,
        "start_time": "2023-03-01T08:31:54.128Z"
      },
      {
        "duration": 57,
        "start_time": "2023-03-01T08:32:22.408Z"
      },
      {
        "duration": 59,
        "start_time": "2023-03-01T08:32:44.252Z"
      },
      {
        "duration": 2557,
        "start_time": "2023-03-01T08:32:55.055Z"
      },
      {
        "duration": 45,
        "start_time": "2023-03-01T08:34:07.484Z"
      },
      {
        "duration": 48,
        "start_time": "2023-03-01T08:34:24.965Z"
      },
      {
        "duration": 85,
        "start_time": "2023-03-01T08:40:04.183Z"
      },
      {
        "duration": 55,
        "start_time": "2023-03-01T08:40:18.485Z"
      },
      {
        "duration": 60,
        "start_time": "2023-03-01T08:40:26.913Z"
      },
      {
        "duration": 50,
        "start_time": "2023-03-01T08:41:17.086Z"
      },
      {
        "duration": 50,
        "start_time": "2023-03-01T08:41:36.465Z"
      },
      {
        "duration": 62,
        "start_time": "2023-03-01T08:41:54.157Z"
      },
      {
        "duration": 55,
        "start_time": "2023-03-01T08:42:10.795Z"
      },
      {
        "duration": 62,
        "start_time": "2023-03-01T08:42:19.325Z"
      },
      {
        "duration": 2640,
        "start_time": "2023-03-01T08:42:29.979Z"
      },
      {
        "duration": 56,
        "start_time": "2023-03-01T09:47:14.798Z"
      },
      {
        "duration": 51,
        "start_time": "2023-03-01T09:47:45.237Z"
      },
      {
        "duration": 20,
        "start_time": "2023-03-01T09:55:39.811Z"
      },
      {
        "duration": 41,
        "start_time": "2023-03-01T10:24:11.204Z"
      },
      {
        "duration": 23,
        "start_time": "2023-03-01T10:24:16.007Z"
      },
      {
        "duration": 106,
        "start_time": "2023-03-01T12:10:29.752Z"
      },
      {
        "duration": 525,
        "start_time": "2023-03-01T12:10:47.186Z"
      },
      {
        "duration": 490,
        "start_time": "2023-03-01T12:11:06.420Z"
      },
      {
        "duration": 1166,
        "start_time": "2023-03-01T12:12:12.497Z"
      },
      {
        "duration": 939,
        "start_time": "2023-03-01T12:12:13.665Z"
      },
      {
        "duration": 17,
        "start_time": "2023-03-01T12:12:14.606Z"
      },
      {
        "duration": 135,
        "start_time": "2023-03-01T12:12:14.625Z"
      },
      {
        "duration": 285,
        "start_time": "2023-03-01T12:12:14.762Z"
      },
      {
        "duration": 87,
        "start_time": "2023-03-01T12:12:15.048Z"
      },
      {
        "duration": 613,
        "start_time": "2023-03-01T12:12:15.137Z"
      },
      {
        "duration": 362,
        "start_time": "2023-03-01T12:12:15.751Z"
      },
      {
        "duration": 1725,
        "start_time": "2023-03-01T12:12:16.115Z"
      },
      {
        "duration": 1866,
        "start_time": "2023-03-01T12:12:17.842Z"
      },
      {
        "duration": 11,
        "start_time": "2023-03-01T12:12:19.709Z"
      },
      {
        "duration": 35,
        "start_time": "2023-03-01T12:12:19.722Z"
      },
      {
        "duration": 6,
        "start_time": "2023-03-01T12:12:19.758Z"
      },
      {
        "duration": 36,
        "start_time": "2023-03-01T12:12:19.767Z"
      },
      {
        "duration": 627,
        "start_time": "2023-03-01T12:12:19.805Z"
      },
      {
        "duration": 25,
        "start_time": "2023-03-01T12:12:20.434Z"
      },
      {
        "duration": 101,
        "start_time": "2023-03-01T12:12:20.461Z"
      },
      {
        "duration": 120,
        "start_time": "2023-03-01T12:12:20.564Z"
      },
      {
        "duration": 19,
        "start_time": "2023-03-01T12:12:20.686Z"
      },
      {
        "duration": 42,
        "start_time": "2023-03-01T12:12:20.707Z"
      },
      {
        "duration": 39,
        "start_time": "2023-03-01T12:12:20.751Z"
      },
      {
        "duration": 52,
        "start_time": "2023-03-01T12:12:20.792Z"
      },
      {
        "duration": 42,
        "start_time": "2023-03-01T12:12:20.846Z"
      },
      {
        "duration": 101,
        "start_time": "2023-03-01T12:12:20.890Z"
      },
      {
        "duration": 0,
        "start_time": "2023-03-01T12:12:20.993Z"
      },
      {
        "duration": 0,
        "start_time": "2023-03-01T12:12:20.994Z"
      },
      {
        "duration": 0,
        "start_time": "2023-03-01T12:12:20.995Z"
      },
      {
        "duration": 0,
        "start_time": "2023-03-01T12:12:20.996Z"
      },
      {
        "duration": 0,
        "start_time": "2023-03-01T12:12:20.997Z"
      },
      {
        "duration": 0,
        "start_time": "2023-03-01T12:12:20.998Z"
      },
      {
        "duration": 1208,
        "start_time": "2023-03-01T12:12:38.270Z"
      },
      {
        "duration": 918,
        "start_time": "2023-03-01T12:12:39.480Z"
      },
      {
        "duration": 18,
        "start_time": "2023-03-01T12:12:40.399Z"
      },
      {
        "duration": 138,
        "start_time": "2023-03-01T12:12:40.419Z"
      },
      {
        "duration": 281,
        "start_time": "2023-03-01T12:12:40.560Z"
      },
      {
        "duration": 78,
        "start_time": "2023-03-01T12:12:40.843Z"
      },
      {
        "duration": 622,
        "start_time": "2023-03-01T12:12:40.935Z"
      },
      {
        "duration": 358,
        "start_time": "2023-03-01T12:12:41.558Z"
      },
      {
        "duration": 1738,
        "start_time": "2023-03-01T12:12:41.918Z"
      },
      {
        "duration": 1931,
        "start_time": "2023-03-01T12:12:43.657Z"
      },
      {
        "duration": 10,
        "start_time": "2023-03-01T12:12:45.590Z"
      },
      {
        "duration": 39,
        "start_time": "2023-03-01T12:12:45.602Z"
      },
      {
        "duration": 7,
        "start_time": "2023-03-01T12:12:45.642Z"
      },
      {
        "duration": 44,
        "start_time": "2023-03-01T12:12:45.652Z"
      },
      {
        "duration": 589,
        "start_time": "2023-03-01T12:12:45.698Z"
      },
      {
        "duration": 22,
        "start_time": "2023-03-01T12:12:46.290Z"
      },
      {
        "duration": 107,
        "start_time": "2023-03-01T12:12:46.314Z"
      },
      {
        "duration": 115,
        "start_time": "2023-03-01T12:12:46.422Z"
      },
      {
        "duration": 21,
        "start_time": "2023-03-01T12:12:46.539Z"
      },
      {
        "duration": 18,
        "start_time": "2023-03-01T12:12:46.562Z"
      },
      {
        "duration": 20,
        "start_time": "2023-03-01T12:12:46.582Z"
      },
      {
        "duration": 72,
        "start_time": "2023-03-01T12:12:46.604Z"
      },
      {
        "duration": 57,
        "start_time": "2023-03-01T12:12:46.678Z"
      },
      {
        "duration": 4,
        "start_time": "2023-03-01T12:12:46.738Z"
      },
      {
        "duration": 98,
        "start_time": "2023-03-01T12:12:46.744Z"
      },
      {
        "duration": 590,
        "start_time": "2023-03-01T12:12:46.844Z"
      },
      {
        "duration": 0,
        "start_time": "2023-03-01T12:12:47.436Z"
      },
      {
        "duration": 0,
        "start_time": "2023-03-01T12:12:47.437Z"
      },
      {
        "duration": 0,
        "start_time": "2023-03-01T12:12:47.438Z"
      },
      {
        "duration": 0,
        "start_time": "2023-03-01T12:12:47.439Z"
      },
      {
        "duration": 1220,
        "start_time": "2023-03-01T12:13:41.126Z"
      },
      {
        "duration": 810,
        "start_time": "2023-03-01T12:13:42.348Z"
      },
      {
        "duration": 17,
        "start_time": "2023-03-01T12:13:43.160Z"
      },
      {
        "duration": 127,
        "start_time": "2023-03-01T12:13:43.179Z"
      },
      {
        "duration": 287,
        "start_time": "2023-03-01T12:13:43.308Z"
      },
      {
        "duration": 81,
        "start_time": "2023-03-01T12:13:43.597Z"
      },
      {
        "duration": 703,
        "start_time": "2023-03-01T12:13:43.680Z"
      },
      {
        "duration": 389,
        "start_time": "2023-03-01T12:13:44.385Z"
      },
      {
        "duration": 1760,
        "start_time": "2023-03-01T12:13:44.776Z"
      },
      {
        "duration": 1952,
        "start_time": "2023-03-01T12:13:46.540Z"
      },
      {
        "duration": 11,
        "start_time": "2023-03-01T12:13:48.493Z"
      },
      {
        "duration": 41,
        "start_time": "2023-03-01T12:13:48.505Z"
      },
      {
        "duration": 6,
        "start_time": "2023-03-01T12:13:48.548Z"
      },
      {
        "duration": 43,
        "start_time": "2023-03-01T12:13:48.556Z"
      },
      {
        "duration": 585,
        "start_time": "2023-03-01T12:13:48.602Z"
      },
      {
        "duration": 22,
        "start_time": "2023-03-01T12:13:49.189Z"
      },
      {
        "duration": 119,
        "start_time": "2023-03-01T12:13:49.213Z"
      },
      {
        "duration": 133,
        "start_time": "2023-03-01T12:13:49.334Z"
      },
      {
        "duration": 20,
        "start_time": "2023-03-01T12:13:49.469Z"
      },
      {
        "duration": 19,
        "start_time": "2023-03-01T12:13:49.491Z"
      },
      {
        "duration": 37,
        "start_time": "2023-03-01T12:13:49.512Z"
      },
      {
        "duration": 42,
        "start_time": "2023-03-01T12:13:49.551Z"
      },
      {
        "duration": 54,
        "start_time": "2023-03-01T12:13:49.594Z"
      },
      {
        "duration": 2,
        "start_time": "2023-03-01T12:13:49.650Z"
      },
      {
        "duration": 41,
        "start_time": "2023-03-01T12:13:49.654Z"
      },
      {
        "duration": 565,
        "start_time": "2023-03-01T12:13:49.697Z"
      },
      {
        "duration": 0,
        "start_time": "2023-03-01T12:13:50.264Z"
      },
      {
        "duration": 0,
        "start_time": "2023-03-01T12:13:50.265Z"
      },
      {
        "duration": 0,
        "start_time": "2023-03-01T12:13:50.266Z"
      },
      {
        "duration": 0,
        "start_time": "2023-03-01T12:13:50.267Z"
      },
      {
        "duration": 504,
        "start_time": "2023-03-01T12:14:20.210Z"
      },
      {
        "duration": 51,
        "start_time": "2023-03-01T12:31:34.838Z"
      },
      {
        "duration": 4229,
        "start_time": "2023-03-01T12:32:12.343Z"
      },
      {
        "duration": 4082,
        "start_time": "2023-03-01T12:32:46.735Z"
      },
      {
        "duration": 1181,
        "start_time": "2023-03-01T13:36:09.761Z"
      },
      {
        "duration": 778,
        "start_time": "2023-03-01T13:36:10.944Z"
      },
      {
        "duration": 20,
        "start_time": "2023-03-01T13:36:11.723Z"
      },
      {
        "duration": 118,
        "start_time": "2023-03-01T13:36:11.745Z"
      },
      {
        "duration": 269,
        "start_time": "2023-03-01T13:36:11.865Z"
      },
      {
        "duration": 77,
        "start_time": "2023-03-01T13:36:12.136Z"
      },
      {
        "duration": 605,
        "start_time": "2023-03-01T13:36:12.215Z"
      },
      {
        "duration": 344,
        "start_time": "2023-03-01T13:36:12.822Z"
      },
      {
        "duration": 1748,
        "start_time": "2023-03-01T13:36:13.168Z"
      },
      {
        "duration": 1827,
        "start_time": "2023-03-01T13:36:14.918Z"
      },
      {
        "duration": 10,
        "start_time": "2023-03-01T13:36:16.747Z"
      },
      {
        "duration": 26,
        "start_time": "2023-03-01T13:36:16.758Z"
      },
      {
        "duration": 7,
        "start_time": "2023-03-01T13:36:16.786Z"
      },
      {
        "duration": 63,
        "start_time": "2023-03-01T13:36:16.796Z"
      },
      {
        "duration": 576,
        "start_time": "2023-03-01T13:36:16.861Z"
      },
      {
        "duration": 21,
        "start_time": "2023-03-01T13:36:17.438Z"
      },
      {
        "duration": 103,
        "start_time": "2023-03-01T13:36:17.460Z"
      },
      {
        "duration": 111,
        "start_time": "2023-03-01T13:36:17.564Z"
      },
      {
        "duration": 21,
        "start_time": "2023-03-01T13:36:17.677Z"
      },
      {
        "duration": 24,
        "start_time": "2023-03-01T13:36:17.700Z"
      },
      {
        "duration": 20,
        "start_time": "2023-03-01T13:36:17.735Z"
      },
      {
        "duration": 49,
        "start_time": "2023-03-01T13:36:17.757Z"
      },
      {
        "duration": 26,
        "start_time": "2023-03-01T13:36:17.808Z"
      },
      {
        "duration": 1787,
        "start_time": "2023-03-01T13:36:17.836Z"
      },
      {
        "duration": 0,
        "start_time": "2023-03-01T13:36:19.625Z"
      },
      {
        "duration": 0,
        "start_time": "2023-03-01T13:36:19.626Z"
      },
      {
        "duration": 0,
        "start_time": "2023-03-01T13:36:19.627Z"
      },
      {
        "duration": 0,
        "start_time": "2023-03-01T13:36:19.628Z"
      },
      {
        "duration": 0,
        "start_time": "2023-03-01T13:36:19.629Z"
      },
      {
        "duration": 0,
        "start_time": "2023-03-01T13:36:19.630Z"
      },
      {
        "duration": 1229,
        "start_time": "2023-03-01T13:37:17.236Z"
      },
      {
        "duration": 793,
        "start_time": "2023-03-01T13:37:18.467Z"
      },
      {
        "duration": 17,
        "start_time": "2023-03-01T13:37:19.262Z"
      },
      {
        "duration": 122,
        "start_time": "2023-03-01T13:37:19.280Z"
      },
      {
        "duration": 280,
        "start_time": "2023-03-01T13:37:19.405Z"
      },
      {
        "duration": 71,
        "start_time": "2023-03-01T13:37:19.687Z"
      },
      {
        "duration": 616,
        "start_time": "2023-03-01T13:37:19.760Z"
      },
      {
        "duration": 360,
        "start_time": "2023-03-01T13:37:20.378Z"
      },
      {
        "duration": 1688,
        "start_time": "2023-03-01T13:37:20.740Z"
      },
      {
        "duration": 1888,
        "start_time": "2023-03-01T13:37:22.430Z"
      },
      {
        "duration": 18,
        "start_time": "2023-03-01T13:37:24.320Z"
      },
      {
        "duration": 31,
        "start_time": "2023-03-01T13:37:24.340Z"
      },
      {
        "duration": 8,
        "start_time": "2023-03-01T13:37:24.373Z"
      },
      {
        "duration": 63,
        "start_time": "2023-03-01T13:37:24.386Z"
      },
      {
        "duration": 592,
        "start_time": "2023-03-01T13:37:24.451Z"
      },
      {
        "duration": 21,
        "start_time": "2023-03-01T13:37:25.045Z"
      },
      {
        "duration": 100,
        "start_time": "2023-03-01T13:37:25.067Z"
      },
      {
        "duration": 108,
        "start_time": "2023-03-01T13:37:25.169Z"
      },
      {
        "duration": 19,
        "start_time": "2023-03-01T13:37:25.279Z"
      },
      {
        "duration": 22,
        "start_time": "2023-03-01T13:37:25.300Z"
      },
      {
        "duration": 27,
        "start_time": "2023-03-01T13:37:25.333Z"
      },
      {
        "duration": 51,
        "start_time": "2023-03-01T13:37:25.362Z"
      },
      {
        "duration": 21,
        "start_time": "2023-03-01T13:37:25.415Z"
      },
      {
        "duration": 19,
        "start_time": "2023-03-01T13:37:25.438Z"
      },
      {
        "duration": 20,
        "start_time": "2023-03-01T13:37:25.459Z"
      },
      {
        "duration": 20,
        "start_time": "2023-03-01T13:37:25.481Z"
      },
      {
        "duration": 5,
        "start_time": "2023-03-01T13:37:25.502Z"
      },
      {
        "duration": 28,
        "start_time": "2023-03-01T13:37:25.508Z"
      },
      {
        "duration": 72,
        "start_time": "2023-03-01T13:37:25.538Z"
      },
      {
        "duration": 75,
        "start_time": "2023-03-01T13:37:25.611Z"
      },
      {
        "duration": 1236,
        "start_time": "2023-03-01T13:38:06.935Z"
      },
      {
        "duration": 791,
        "start_time": "2023-03-01T13:38:08.173Z"
      },
      {
        "duration": 18,
        "start_time": "2023-03-01T13:38:08.965Z"
      },
      {
        "duration": 123,
        "start_time": "2023-03-01T13:38:08.985Z"
      },
      {
        "duration": 278,
        "start_time": "2023-03-01T13:38:09.112Z"
      },
      {
        "duration": 82,
        "start_time": "2023-03-01T13:38:09.392Z"
      },
      {
        "duration": 611,
        "start_time": "2023-03-01T13:38:09.475Z"
      },
      {
        "duration": 351,
        "start_time": "2023-03-01T13:38:10.088Z"
      },
      {
        "duration": 1643,
        "start_time": "2023-03-01T13:38:10.441Z"
      },
      {
        "duration": 1838,
        "start_time": "2023-03-01T13:38:12.086Z"
      },
      {
        "duration": 18,
        "start_time": "2023-03-01T13:38:13.926Z"
      },
      {
        "duration": 10,
        "start_time": "2023-03-01T13:38:13.946Z"
      },
      {
        "duration": 40,
        "start_time": "2023-03-01T13:38:13.957Z"
      },
      {
        "duration": 7,
        "start_time": "2023-03-01T13:38:14.000Z"
      },
      {
        "duration": 50,
        "start_time": "2023-03-01T13:38:14.009Z"
      },
      {
        "duration": 594,
        "start_time": "2023-03-01T13:38:14.061Z"
      },
      {
        "duration": 23,
        "start_time": "2023-03-01T13:38:14.657Z"
      },
      {
        "duration": 94,
        "start_time": "2023-03-01T13:38:14.682Z"
      },
      {
        "duration": 119,
        "start_time": "2023-03-01T13:38:14.777Z"
      },
      {
        "duration": 19,
        "start_time": "2023-03-01T13:38:14.898Z"
      },
      {
        "duration": 25,
        "start_time": "2023-03-01T13:38:14.919Z"
      },
      {
        "duration": 30,
        "start_time": "2023-03-01T13:38:14.946Z"
      },
      {
        "duration": 44,
        "start_time": "2023-03-01T13:38:14.978Z"
      },
      {
        "duration": 25,
        "start_time": "2023-03-01T13:38:15.024Z"
      },
      {
        "duration": 19,
        "start_time": "2023-03-01T13:38:15.051Z"
      },
      {
        "duration": 19,
        "start_time": "2023-03-01T13:38:15.072Z"
      },
      {
        "duration": 23,
        "start_time": "2023-03-01T13:38:15.093Z"
      },
      {
        "duration": 3,
        "start_time": "2023-03-01T13:38:15.133Z"
      },
      {
        "duration": 10,
        "start_time": "2023-03-01T13:38:15.138Z"
      },
      {
        "duration": 73,
        "start_time": "2023-03-01T13:38:15.150Z"
      },
      {
        "duration": 74,
        "start_time": "2023-03-01T13:38:15.235Z"
      },
      {
        "duration": 1230,
        "start_time": "2023-03-01T13:39:03.438Z"
      },
      {
        "duration": 829,
        "start_time": "2023-03-01T13:39:04.669Z"
      },
      {
        "duration": 18,
        "start_time": "2023-03-01T13:39:05.500Z"
      },
      {
        "duration": 129,
        "start_time": "2023-03-01T13:39:05.521Z"
      },
      {
        "duration": 296,
        "start_time": "2023-03-01T13:39:05.652Z"
      },
      {
        "duration": 85,
        "start_time": "2023-03-01T13:39:05.950Z"
      },
      {
        "duration": 648,
        "start_time": "2023-03-01T13:39:06.038Z"
      },
      {
        "duration": 373,
        "start_time": "2023-03-01T13:39:06.688Z"
      },
      {
        "duration": 1797,
        "start_time": "2023-03-01T13:39:07.063Z"
      },
      {
        "duration": 1921,
        "start_time": "2023-03-01T13:39:08.863Z"
      },
      {
        "duration": 11,
        "start_time": "2023-03-01T13:39:10.786Z"
      },
      {
        "duration": 1801,
        "start_time": "2023-03-01T13:39:10.799Z"
      },
      {
        "duration": 0,
        "start_time": "2023-03-01T13:39:12.602Z"
      },
      {
        "duration": 0,
        "start_time": "2023-03-01T13:39:12.604Z"
      },
      {
        "duration": 0,
        "start_time": "2023-03-01T13:39:12.606Z"
      },
      {
        "duration": 0,
        "start_time": "2023-03-01T13:39:12.608Z"
      },
      {
        "duration": 0,
        "start_time": "2023-03-01T13:39:12.609Z"
      },
      {
        "duration": 0,
        "start_time": "2023-03-01T13:39:12.611Z"
      },
      {
        "duration": 0,
        "start_time": "2023-03-01T13:39:12.612Z"
      },
      {
        "duration": 0,
        "start_time": "2023-03-01T13:39:12.614Z"
      },
      {
        "duration": 0,
        "start_time": "2023-03-01T13:39:12.616Z"
      },
      {
        "duration": 0,
        "start_time": "2023-03-01T13:39:12.616Z"
      },
      {
        "duration": 0,
        "start_time": "2023-03-01T13:39:12.617Z"
      },
      {
        "duration": 0,
        "start_time": "2023-03-01T13:39:12.618Z"
      },
      {
        "duration": 0,
        "start_time": "2023-03-01T13:39:12.619Z"
      },
      {
        "duration": 0,
        "start_time": "2023-03-01T13:39:12.621Z"
      },
      {
        "duration": 0,
        "start_time": "2023-03-01T13:39:12.622Z"
      },
      {
        "duration": 0,
        "start_time": "2023-03-01T13:39:12.623Z"
      },
      {
        "duration": 0,
        "start_time": "2023-03-01T13:39:12.624Z"
      },
      {
        "duration": 0,
        "start_time": "2023-03-01T13:39:12.625Z"
      },
      {
        "duration": 0,
        "start_time": "2023-03-01T13:39:12.626Z"
      },
      {
        "duration": 7,
        "start_time": "2023-03-01T13:39:34.787Z"
      },
      {
        "duration": 5,
        "start_time": "2023-03-01T13:43:19.813Z"
      },
      {
        "duration": 1262,
        "start_time": "2023-03-01T13:45:12.617Z"
      },
      {
        "duration": 875,
        "start_time": "2023-03-01T13:45:13.881Z"
      },
      {
        "duration": 17,
        "start_time": "2023-03-01T13:45:14.758Z"
      },
      {
        "duration": 136,
        "start_time": "2023-03-01T13:45:14.777Z"
      },
      {
        "duration": 285,
        "start_time": "2023-03-01T13:45:14.915Z"
      },
      {
        "duration": 90,
        "start_time": "2023-03-01T13:45:15.202Z"
      },
      {
        "duration": 632,
        "start_time": "2023-03-01T13:45:15.294Z"
      },
      {
        "duration": 357,
        "start_time": "2023-03-01T13:45:15.928Z"
      },
      {
        "duration": 1765,
        "start_time": "2023-03-01T13:45:16.287Z"
      },
      {
        "duration": 1841,
        "start_time": "2023-03-01T13:45:18.055Z"
      },
      {
        "duration": 12,
        "start_time": "2023-03-01T13:45:19.898Z"
      },
      {
        "duration": 37,
        "start_time": "2023-03-01T13:45:19.911Z"
      },
      {
        "duration": 6,
        "start_time": "2023-03-01T13:45:19.950Z"
      },
      {
        "duration": 38,
        "start_time": "2023-03-01T13:45:19.957Z"
      },
      {
        "duration": 571,
        "start_time": "2023-03-01T13:45:19.997Z"
      },
      {
        "duration": 23,
        "start_time": "2023-03-01T13:45:20.570Z"
      },
      {
        "duration": 116,
        "start_time": "2023-03-01T13:45:20.595Z"
      },
      {
        "duration": 130,
        "start_time": "2023-03-01T13:45:20.712Z"
      },
      {
        "duration": 20,
        "start_time": "2023-03-01T13:45:20.844Z"
      },
      {
        "duration": 22,
        "start_time": "2023-03-01T13:45:20.866Z"
      },
      {
        "duration": 20,
        "start_time": "2023-03-01T13:45:20.890Z"
      },
      {
        "duration": 42,
        "start_time": "2023-03-01T13:45:20.944Z"
      },
      {
        "duration": 18,
        "start_time": "2023-03-01T13:45:20.988Z"
      },
      {
        "duration": 29,
        "start_time": "2023-03-01T13:45:21.008Z"
      },
      {
        "duration": 30,
        "start_time": "2023-03-01T13:45:21.039Z"
      },
      {
        "duration": 3,
        "start_time": "2023-03-01T13:45:21.070Z"
      },
      {
        "duration": 13,
        "start_time": "2023-03-01T13:45:21.075Z"
      },
      {
        "duration": 85,
        "start_time": "2023-03-01T13:45:21.091Z"
      },
      {
        "duration": 1159,
        "start_time": "2023-03-01T13:52:20.475Z"
      },
      {
        "duration": 814,
        "start_time": "2023-03-01T13:52:21.636Z"
      },
      {
        "duration": 17,
        "start_time": "2023-03-01T13:52:22.451Z"
      },
      {
        "duration": 126,
        "start_time": "2023-03-01T13:52:22.470Z"
      },
      {
        "duration": 287,
        "start_time": "2023-03-01T13:52:22.597Z"
      },
      {
        "duration": 75,
        "start_time": "2023-03-01T13:52:22.886Z"
      },
      {
        "duration": 633,
        "start_time": "2023-03-01T13:52:22.963Z"
      },
      {
        "duration": 381,
        "start_time": "2023-03-01T13:52:23.599Z"
      },
      {
        "duration": 1701,
        "start_time": "2023-03-01T13:52:23.983Z"
      },
      {
        "duration": 1862,
        "start_time": "2023-03-01T13:52:25.687Z"
      },
      {
        "duration": 12,
        "start_time": "2023-03-01T13:52:27.551Z"
      },
      {
        "duration": 26,
        "start_time": "2023-03-01T13:52:27.564Z"
      },
      {
        "duration": 6,
        "start_time": "2023-03-01T13:52:27.592Z"
      },
      {
        "duration": 66,
        "start_time": "2023-03-01T13:52:27.600Z"
      },
      {
        "duration": 591,
        "start_time": "2023-03-01T13:52:27.668Z"
      },
      {
        "duration": 22,
        "start_time": "2023-03-01T13:52:28.260Z"
      },
      {
        "duration": 96,
        "start_time": "2023-03-01T13:52:28.284Z"
      },
      {
        "duration": 115,
        "start_time": "2023-03-01T13:52:28.382Z"
      },
      {
        "duration": 19,
        "start_time": "2023-03-01T13:52:28.498Z"
      },
      {
        "duration": 30,
        "start_time": "2023-03-01T13:52:28.519Z"
      },
      {
        "duration": 27,
        "start_time": "2023-03-01T13:52:28.551Z"
      },
      {
        "duration": 46,
        "start_time": "2023-03-01T13:52:28.579Z"
      },
      {
        "duration": 81,
        "start_time": "2023-03-01T13:52:28.634Z"
      },
      {
        "duration": 3,
        "start_time": "2023-03-01T13:52:28.717Z"
      },
      {
        "duration": 99,
        "start_time": "2023-03-01T13:52:28.722Z"
      },
      {
        "duration": 102,
        "start_time": "2023-03-01T13:52:28.823Z"
      },
      {
        "duration": 560,
        "start_time": "2023-03-01T13:52:39.625Z"
      },
      {
        "duration": 1200,
        "start_time": "2023-03-01T13:52:55.157Z"
      },
      {
        "duration": 815,
        "start_time": "2023-03-01T13:52:56.359Z"
      },
      {
        "duration": 16,
        "start_time": "2023-03-01T13:52:57.176Z"
      },
      {
        "duration": 123,
        "start_time": "2023-03-01T13:52:57.195Z"
      },
      {
        "duration": 290,
        "start_time": "2023-03-01T13:52:57.320Z"
      },
      {
        "duration": 83,
        "start_time": "2023-03-01T13:52:57.612Z"
      },
      {
        "duration": 639,
        "start_time": "2023-03-01T13:52:57.696Z"
      },
      {
        "duration": 365,
        "start_time": "2023-03-01T13:52:58.337Z"
      },
      {
        "duration": 1696,
        "start_time": "2023-03-01T13:52:58.704Z"
      },
      {
        "duration": 1912,
        "start_time": "2023-03-01T13:53:00.403Z"
      },
      {
        "duration": 18,
        "start_time": "2023-03-01T13:53:02.317Z"
      },
      {
        "duration": 40,
        "start_time": "2023-03-01T13:53:02.337Z"
      },
      {
        "duration": 7,
        "start_time": "2023-03-01T13:53:02.379Z"
      },
      {
        "duration": 48,
        "start_time": "2023-03-01T13:53:02.388Z"
      },
      {
        "duration": 601,
        "start_time": "2023-03-01T13:53:02.437Z"
      },
      {
        "duration": 22,
        "start_time": "2023-03-01T13:53:03.039Z"
      },
      {
        "duration": 98,
        "start_time": "2023-03-01T13:53:03.063Z"
      },
      {
        "duration": 111,
        "start_time": "2023-03-01T13:53:03.163Z"
      },
      {
        "duration": 32,
        "start_time": "2023-03-01T13:53:03.275Z"
      },
      {
        "duration": 36,
        "start_time": "2023-03-01T13:53:03.309Z"
      },
      {
        "duration": 22,
        "start_time": "2023-03-01T13:53:03.347Z"
      },
      {
        "duration": 84,
        "start_time": "2023-03-01T13:53:03.370Z"
      },
      {
        "duration": 85,
        "start_time": "2023-03-01T13:53:03.456Z"
      },
      {
        "duration": 3,
        "start_time": "2023-03-01T13:53:03.543Z"
      },
      {
        "duration": 26,
        "start_time": "2023-03-01T13:53:03.548Z"
      },
      {
        "duration": 85,
        "start_time": "2023-03-01T13:53:03.576Z"
      },
      {
        "duration": 1186,
        "start_time": "2023-03-01T16:17:56.260Z"
      },
      {
        "duration": 856,
        "start_time": "2023-03-01T16:17:57.449Z"
      },
      {
        "duration": 17,
        "start_time": "2023-03-01T16:17:58.307Z"
      },
      {
        "duration": 124,
        "start_time": "2023-03-01T16:17:58.335Z"
      },
      {
        "duration": 277,
        "start_time": "2023-03-01T16:17:58.461Z"
      },
      {
        "duration": 85,
        "start_time": "2023-03-01T16:17:58.741Z"
      },
      {
        "duration": 664,
        "start_time": "2023-03-01T16:17:58.834Z"
      },
      {
        "duration": 386,
        "start_time": "2023-03-01T16:17:59.499Z"
      },
      {
        "duration": 1741,
        "start_time": "2023-03-01T16:17:59.887Z"
      },
      {
        "duration": 1976,
        "start_time": "2023-03-01T16:18:01.631Z"
      },
      {
        "duration": 11,
        "start_time": "2023-03-01T16:18:03.609Z"
      },
      {
        "duration": 38,
        "start_time": "2023-03-01T16:18:03.621Z"
      },
      {
        "duration": 6,
        "start_time": "2023-03-01T16:18:03.661Z"
      },
      {
        "duration": 39,
        "start_time": "2023-03-01T16:18:03.669Z"
      },
      {
        "duration": 620,
        "start_time": "2023-03-01T16:18:03.709Z"
      },
      {
        "duration": 21,
        "start_time": "2023-03-01T16:18:04.331Z"
      },
      {
        "duration": 105,
        "start_time": "2023-03-01T16:18:04.354Z"
      },
      {
        "duration": 144,
        "start_time": "2023-03-01T16:18:04.462Z"
      },
      {
        "duration": 25,
        "start_time": "2023-03-01T16:18:04.608Z"
      },
      {
        "duration": 25,
        "start_time": "2023-03-01T16:18:04.635Z"
      },
      {
        "duration": 22,
        "start_time": "2023-03-01T16:18:04.662Z"
      },
      {
        "duration": 68,
        "start_time": "2023-03-01T16:18:04.685Z"
      },
      {
        "duration": 91,
        "start_time": "2023-03-01T16:18:04.755Z"
      },
      {
        "duration": 3,
        "start_time": "2023-03-01T16:18:04.848Z"
      },
      {
        "duration": 5,
        "start_time": "2023-03-01T16:18:04.852Z"
      },
      {
        "duration": 84,
        "start_time": "2023-03-01T16:18:04.859Z"
      },
      {
        "duration": 557,
        "start_time": "2023-03-01T16:18:12.692Z"
      },
      {
        "duration": 1374,
        "start_time": "2023-03-03T07:05:11.454Z"
      },
      {
        "duration": 1127,
        "start_time": "2023-03-03T07:05:12.831Z"
      },
      {
        "duration": 19,
        "start_time": "2023-03-03T07:05:13.960Z"
      },
      {
        "duration": 120,
        "start_time": "2023-03-03T07:05:13.981Z"
      },
      {
        "duration": 263,
        "start_time": "2023-03-03T07:05:14.103Z"
      },
      {
        "duration": 79,
        "start_time": "2023-03-03T07:05:14.367Z"
      },
      {
        "duration": 557,
        "start_time": "2023-03-03T07:05:14.448Z"
      },
      {
        "duration": 332,
        "start_time": "2023-03-03T07:05:15.007Z"
      },
      {
        "duration": 1640,
        "start_time": "2023-03-03T07:05:15.341Z"
      },
      {
        "duration": 1681,
        "start_time": "2023-03-03T07:05:16.983Z"
      },
      {
        "duration": 10,
        "start_time": "2023-03-03T07:05:18.665Z"
      },
      {
        "duration": 22,
        "start_time": "2023-03-03T07:05:18.676Z"
      },
      {
        "duration": 6,
        "start_time": "2023-03-03T07:05:18.713Z"
      },
      {
        "duration": 38,
        "start_time": "2023-03-03T07:05:18.721Z"
      },
      {
        "duration": 632,
        "start_time": "2023-03-03T07:05:18.761Z"
      },
      {
        "duration": 30,
        "start_time": "2023-03-03T07:05:19.395Z"
      },
      {
        "duration": 103,
        "start_time": "2023-03-03T07:05:19.427Z"
      },
      {
        "duration": 102,
        "start_time": "2023-03-03T07:05:19.531Z"
      },
      {
        "duration": 19,
        "start_time": "2023-03-03T07:05:19.635Z"
      },
      {
        "duration": 27,
        "start_time": "2023-03-03T07:05:19.656Z"
      },
      {
        "duration": 29,
        "start_time": "2023-03-03T07:05:19.685Z"
      },
      {
        "duration": 45,
        "start_time": "2023-03-03T07:05:19.716Z"
      },
      {
        "duration": 90,
        "start_time": "2023-03-03T07:05:19.763Z"
      },
      {
        "duration": 2,
        "start_time": "2023-03-03T07:05:19.856Z"
      },
      {
        "duration": 13,
        "start_time": "2023-03-03T07:05:19.860Z"
      },
      {
        "duration": 87,
        "start_time": "2023-03-03T07:05:19.874Z"
      },
      {
        "duration": 1735,
        "start_time": "2023-03-04T15:18:10.229Z"
      },
      {
        "duration": 3840,
        "start_time": "2023-03-04T15:18:11.966Z"
      },
      {
        "duration": 19,
        "start_time": "2023-03-04T15:18:15.809Z"
      },
      {
        "duration": 174,
        "start_time": "2023-03-04T15:18:15.830Z"
      },
      {
        "duration": 365,
        "start_time": "2023-03-04T15:18:16.007Z"
      },
      {
        "duration": 115,
        "start_time": "2023-03-04T15:18:16.374Z"
      },
      {
        "duration": 735,
        "start_time": "2023-03-04T15:18:16.490Z"
      },
      {
        "duration": 441,
        "start_time": "2023-03-04T15:18:17.227Z"
      },
      {
        "duration": 1811,
        "start_time": "2023-03-04T15:18:17.672Z"
      },
      {
        "duration": 2092,
        "start_time": "2023-03-04T15:18:19.485Z"
      },
      {
        "duration": 10,
        "start_time": "2023-03-04T15:18:21.578Z"
      },
      {
        "duration": 23,
        "start_time": "2023-03-04T15:18:21.589Z"
      },
      {
        "duration": 29,
        "start_time": "2023-03-04T15:18:21.614Z"
      },
      {
        "duration": 42,
        "start_time": "2023-03-04T15:18:21.647Z"
      },
      {
        "duration": 693,
        "start_time": "2023-03-04T15:18:21.691Z"
      },
      {
        "duration": 25,
        "start_time": "2023-03-04T15:18:22.386Z"
      },
      {
        "duration": 125,
        "start_time": "2023-03-04T15:18:22.414Z"
      },
      {
        "duration": 141,
        "start_time": "2023-03-04T15:18:22.540Z"
      },
      {
        "duration": 23,
        "start_time": "2023-03-04T15:18:22.683Z"
      },
      {
        "duration": 51,
        "start_time": "2023-03-04T15:18:22.708Z"
      },
      {
        "duration": 35,
        "start_time": "2023-03-04T15:18:22.765Z"
      },
      {
        "duration": 64,
        "start_time": "2023-03-04T15:18:22.802Z"
      },
      {
        "duration": 104,
        "start_time": "2023-03-04T15:18:22.868Z"
      },
      {
        "duration": 222,
        "start_time": "2023-03-04T15:18:22.974Z"
      },
      {
        "duration": 52,
        "start_time": "2023-03-04T15:18:23.198Z"
      },
      {
        "duration": 96,
        "start_time": "2023-03-04T15:18:23.257Z"
      },
      {
        "duration": 16,
        "start_time": "2023-03-04T15:18:23.361Z"
      },
      {
        "duration": 1075,
        "start_time": "2023-03-04T15:18:23.379Z"
      },
      {
        "duration": 150,
        "start_time": "2023-03-04T15:18:24.456Z"
      },
      {
        "duration": 1870,
        "start_time": "2023-03-04T15:21:15.502Z"
      },
      {
        "duration": 1129,
        "start_time": "2023-03-04T15:21:17.375Z"
      },
      {
        "duration": 18,
        "start_time": "2023-03-04T15:21:18.506Z"
      },
      {
        "duration": 202,
        "start_time": "2023-03-04T15:21:18.526Z"
      },
      {
        "duration": 335,
        "start_time": "2023-03-04T15:21:18.730Z"
      },
      {
        "duration": 127,
        "start_time": "2023-03-04T15:21:19.066Z"
      },
      {
        "duration": 700,
        "start_time": "2023-03-04T15:21:19.195Z"
      },
      {
        "duration": 414,
        "start_time": "2023-03-04T15:21:19.896Z"
      },
      {
        "duration": 1989,
        "start_time": "2023-03-04T15:21:20.312Z"
      },
      {
        "duration": 2317,
        "start_time": "2023-03-04T15:21:22.304Z"
      },
      {
        "duration": 11,
        "start_time": "2023-03-04T15:21:24.623Z"
      },
      {
        "duration": 40,
        "start_time": "2023-03-04T15:21:24.653Z"
      },
      {
        "duration": 7,
        "start_time": "2023-03-04T15:21:24.695Z"
      },
      {
        "duration": 48,
        "start_time": "2023-03-04T15:21:24.704Z"
      },
      {
        "duration": 671,
        "start_time": "2023-03-04T15:21:24.756Z"
      },
      {
        "duration": 40,
        "start_time": "2023-03-04T15:21:25.429Z"
      },
      {
        "duration": 111,
        "start_time": "2023-03-04T15:21:25.477Z"
      },
      {
        "duration": 197,
        "start_time": "2023-03-04T15:21:25.590Z"
      },
      {
        "duration": 35,
        "start_time": "2023-03-04T15:21:25.792Z"
      },
      {
        "duration": 33,
        "start_time": "2023-03-04T15:21:25.829Z"
      },
      {
        "duration": 39,
        "start_time": "2023-03-04T15:21:25.865Z"
      },
      {
        "duration": 64,
        "start_time": "2023-03-04T15:21:25.906Z"
      },
      {
        "duration": 127,
        "start_time": "2023-03-04T15:21:25.975Z"
      },
      {
        "duration": 243,
        "start_time": "2023-03-04T15:21:26.104Z"
      },
      {
        "duration": 49,
        "start_time": "2023-03-04T15:21:26.349Z"
      },
      {
        "duration": 108,
        "start_time": "2023-03-04T15:21:26.399Z"
      },
      {
        "duration": 4,
        "start_time": "2023-03-04T15:21:26.509Z"
      },
      {
        "duration": 1467,
        "start_time": "2023-03-04T15:21:26.516Z"
      },
      {
        "duration": 1296,
        "start_time": "2023-03-04T15:21:27.988Z"
      },
      {
        "duration": 1559,
        "start_time": "2023-03-04T17:12:16.057Z"
      },
      {
        "duration": 863,
        "start_time": "2023-03-04T17:12:17.620Z"
      },
      {
        "duration": 16,
        "start_time": "2023-03-04T17:12:18.484Z"
      },
      {
        "duration": 154,
        "start_time": "2023-03-04T17:12:18.502Z"
      },
      {
        "duration": 268,
        "start_time": "2023-03-04T17:12:18.659Z"
      },
      {
        "duration": 93,
        "start_time": "2023-03-04T17:12:18.929Z"
      },
      {
        "duration": 632,
        "start_time": "2023-03-04T17:12:19.024Z"
      },
      {
        "duration": 367,
        "start_time": "2023-03-04T17:12:19.658Z"
      },
      {
        "duration": 1660,
        "start_time": "2023-03-04T17:12:20.027Z"
      },
      {
        "duration": 1921,
        "start_time": "2023-03-04T17:12:21.688Z"
      },
      {
        "duration": 11,
        "start_time": "2023-03-04T17:12:23.611Z"
      },
      {
        "duration": 39,
        "start_time": "2023-03-04T17:12:23.623Z"
      },
      {
        "duration": 7,
        "start_time": "2023-03-04T17:12:23.664Z"
      },
      {
        "duration": 40,
        "start_time": "2023-03-04T17:12:23.673Z"
      },
      {
        "duration": 647,
        "start_time": "2023-03-04T17:12:23.715Z"
      },
      {
        "duration": 19,
        "start_time": "2023-03-04T17:12:24.364Z"
      },
      {
        "duration": 113,
        "start_time": "2023-03-04T17:12:24.385Z"
      },
      {
        "duration": 129,
        "start_time": "2023-03-04T17:12:24.501Z"
      },
      {
        "duration": 32,
        "start_time": "2023-03-04T17:12:24.632Z"
      },
      {
        "duration": 29,
        "start_time": "2023-03-04T17:12:24.666Z"
      },
      {
        "duration": 26,
        "start_time": "2023-03-04T17:12:24.696Z"
      },
      {
        "duration": 59,
        "start_time": "2023-03-04T17:12:24.724Z"
      },
      {
        "duration": 110,
        "start_time": "2023-03-04T17:12:24.785Z"
      },
      {
        "duration": 203,
        "start_time": "2023-03-04T17:12:24.897Z"
      },
      {
        "duration": 42,
        "start_time": "2023-03-04T17:12:25.102Z"
      },
      {
        "duration": 5,
        "start_time": "2023-03-04T17:12:25.146Z"
      },
      {
        "duration": 868,
        "start_time": "2023-03-04T17:12:25.152Z"
      },
      {
        "duration": 445,
        "start_time": "2023-03-04T17:12:26.022Z"
      },
      {
        "duration": 4,
        "start_time": "2023-03-04T17:12:26.469Z"
      },
      {
        "duration": 2921,
        "start_time": "2023-03-04T17:12:26.474Z"
      },
      {
        "duration": 2728,
        "start_time": "2023-03-04T17:12:29.397Z"
      },
      {
        "duration": 1503,
        "start_time": "2023-03-04T17:13:30.163Z"
      },
      {
        "duration": 886,
        "start_time": "2023-03-04T17:13:31.668Z"
      },
      {
        "duration": 18,
        "start_time": "2023-03-04T17:13:32.555Z"
      },
      {
        "duration": 134,
        "start_time": "2023-03-04T17:13:32.575Z"
      },
      {
        "duration": 288,
        "start_time": "2023-03-04T17:13:32.711Z"
      },
      {
        "duration": 92,
        "start_time": "2023-03-04T17:13:33.001Z"
      },
      {
        "duration": 588,
        "start_time": "2023-03-04T17:13:33.094Z"
      },
      {
        "duration": 371,
        "start_time": "2023-03-04T17:13:33.684Z"
      },
      {
        "duration": 1714,
        "start_time": "2023-03-04T17:13:34.057Z"
      },
      {
        "duration": 2095,
        "start_time": "2023-03-04T17:13:35.773Z"
      },
      {
        "duration": 13,
        "start_time": "2023-03-04T17:13:37.870Z"
      },
      {
        "duration": 27,
        "start_time": "2023-03-04T17:13:37.885Z"
      },
      {
        "duration": 30,
        "start_time": "2023-03-04T17:13:37.914Z"
      },
      {
        "duration": 51,
        "start_time": "2023-03-04T17:13:37.949Z"
      },
      {
        "duration": 577,
        "start_time": "2023-03-04T17:13:38.002Z"
      },
      {
        "duration": 19,
        "start_time": "2023-03-04T17:13:38.580Z"
      },
      {
        "duration": 108,
        "start_time": "2023-03-04T17:13:38.601Z"
      },
      {
        "duration": 121,
        "start_time": "2023-03-04T17:13:38.710Z"
      },
      {
        "duration": 31,
        "start_time": "2023-03-04T17:13:38.833Z"
      },
      {
        "duration": 18,
        "start_time": "2023-03-04T17:13:38.866Z"
      },
      {
        "duration": 20,
        "start_time": "2023-03-04T17:13:38.885Z"
      },
      {
        "duration": 65,
        "start_time": "2023-03-04T17:13:38.907Z"
      },
      {
        "duration": 101,
        "start_time": "2023-03-04T17:13:38.974Z"
      },
      {
        "duration": 201,
        "start_time": "2023-03-04T17:13:39.077Z"
      },
      {
        "duration": 33,
        "start_time": "2023-03-04T17:13:39.280Z"
      },
      {
        "duration": 3,
        "start_time": "2023-03-04T17:13:39.314Z"
      },
      {
        "duration": 789,
        "start_time": "2023-03-04T17:13:39.318Z"
      },
      {
        "duration": 442,
        "start_time": "2023-03-04T17:13:40.111Z"
      },
      {
        "duration": 4,
        "start_time": "2023-03-04T17:13:40.555Z"
      },
      {
        "duration": 625,
        "start_time": "2023-03-04T17:13:40.561Z"
      },
      {
        "duration": 494,
        "start_time": "2023-03-04T17:13:41.188Z"
      },
      {
        "duration": 1512,
        "start_time": "2023-03-04T17:14:35.777Z"
      },
      {
        "duration": 881,
        "start_time": "2023-03-04T17:14:37.291Z"
      },
      {
        "duration": 15,
        "start_time": "2023-03-04T17:14:38.174Z"
      },
      {
        "duration": 161,
        "start_time": "2023-03-04T17:14:38.191Z"
      },
      {
        "duration": 285,
        "start_time": "2023-03-04T17:14:38.354Z"
      },
      {
        "duration": 94,
        "start_time": "2023-03-04T17:14:38.647Z"
      },
      {
        "duration": 646,
        "start_time": "2023-03-04T17:14:38.743Z"
      },
      {
        "duration": 396,
        "start_time": "2023-03-04T17:14:39.391Z"
      },
      {
        "duration": 1666,
        "start_time": "2023-03-04T17:14:39.789Z"
      },
      {
        "duration": 2978,
        "start_time": "2023-03-04T17:14:41.457Z"
      },
      {
        "duration": 24,
        "start_time": "2023-03-04T17:14:44.437Z"
      },
      {
        "duration": 28,
        "start_time": "2023-03-04T17:14:44.462Z"
      },
      {
        "duration": 7,
        "start_time": "2023-03-04T17:14:44.492Z"
      },
      {
        "duration": 54,
        "start_time": "2023-03-04T17:14:44.500Z"
      },
      {
        "duration": 609,
        "start_time": "2023-03-04T17:14:44.556Z"
      },
      {
        "duration": 19,
        "start_time": "2023-03-04T17:14:45.167Z"
      },
      {
        "duration": 119,
        "start_time": "2023-03-04T17:14:45.187Z"
      },
      {
        "duration": 127,
        "start_time": "2023-03-04T17:14:45.307Z"
      },
      {
        "duration": 34,
        "start_time": "2023-03-04T17:14:45.436Z"
      },
      {
        "duration": 20,
        "start_time": "2023-03-04T17:14:45.471Z"
      },
      {
        "duration": 33,
        "start_time": "2023-03-04T17:14:45.492Z"
      },
      {
        "duration": 54,
        "start_time": "2023-03-04T17:14:45.527Z"
      },
      {
        "duration": 107,
        "start_time": "2023-03-04T17:14:45.582Z"
      },
      {
        "duration": 217,
        "start_time": "2023-03-04T17:14:45.691Z"
      },
      {
        "duration": 48,
        "start_time": "2023-03-04T17:14:45.910Z"
      },
      {
        "duration": 3,
        "start_time": "2023-03-04T17:14:45.960Z"
      },
      {
        "duration": 796,
        "start_time": "2023-03-04T17:14:45.965Z"
      },
      {
        "duration": 431,
        "start_time": "2023-03-04T17:14:46.765Z"
      },
      {
        "duration": 5,
        "start_time": "2023-03-04T17:14:47.198Z"
      },
      {
        "duration": 36245,
        "start_time": "2023-03-04T17:14:47.204Z"
      },
      {
        "duration": 1068298,
        "start_time": "2023-03-04T17:15:23.451Z"
      },
      {
        "duration": 1584,
        "start_time": "2023-03-04T17:33:19.893Z"
      },
      {
        "duration": 890,
        "start_time": "2023-03-04T17:33:21.479Z"
      },
      {
        "duration": 16,
        "start_time": "2023-03-04T17:33:22.372Z"
      },
      {
        "duration": 176,
        "start_time": "2023-03-04T17:33:22.390Z"
      },
      {
        "duration": 287,
        "start_time": "2023-03-04T17:33:22.568Z"
      },
      {
        "duration": 90,
        "start_time": "2023-03-04T17:33:22.863Z"
      },
      {
        "duration": 654,
        "start_time": "2023-03-04T17:33:22.959Z"
      },
      {
        "duration": 428,
        "start_time": "2023-03-04T17:33:23.614Z"
      },
      {
        "duration": 1936,
        "start_time": "2023-03-04T17:33:24.045Z"
      },
      {
        "duration": 3347,
        "start_time": "2023-03-04T17:33:25.983Z"
      },
      {
        "duration": 21,
        "start_time": "2023-03-04T17:33:29.332Z"
      },
      {
        "duration": 28,
        "start_time": "2023-03-04T17:33:29.362Z"
      },
      {
        "duration": 6,
        "start_time": "2023-03-04T17:33:29.392Z"
      },
      {
        "duration": 56,
        "start_time": "2023-03-04T17:33:29.401Z"
      },
      {
        "duration": 612,
        "start_time": "2023-03-04T17:33:29.464Z"
      },
      {
        "duration": 21,
        "start_time": "2023-03-04T17:33:30.078Z"
      },
      {
        "duration": 123,
        "start_time": "2023-03-04T17:33:30.101Z"
      },
      {
        "duration": 140,
        "start_time": "2023-03-04T17:33:30.225Z"
      },
      {
        "duration": 22,
        "start_time": "2023-03-04T17:33:30.370Z"
      },
      {
        "duration": 42,
        "start_time": "2023-03-04T17:33:30.394Z"
      },
      {
        "duration": 43,
        "start_time": "2023-03-04T17:33:30.438Z"
      },
      {
        "duration": 77,
        "start_time": "2023-03-04T17:33:30.482Z"
      },
      {
        "duration": 96,
        "start_time": "2023-03-04T17:33:30.560Z"
      },
      {
        "duration": 203,
        "start_time": "2023-03-04T17:33:30.661Z"
      },
      {
        "duration": 33,
        "start_time": "2023-03-04T17:33:30.866Z"
      },
      {
        "duration": 3,
        "start_time": "2023-03-04T17:33:30.901Z"
      },
      {
        "duration": 862,
        "start_time": "2023-03-04T17:33:30.905Z"
      },
      {
        "duration": 40,
        "start_time": "2023-03-04T17:33:31.769Z"
      },
      {
        "duration": 4,
        "start_time": "2023-03-04T17:33:31.811Z"
      },
      {
        "duration": 331,
        "start_time": "2023-03-04T17:33:31.817Z"
      },
      {
        "duration": 1668,
        "start_time": "2023-03-04T17:41:02.764Z"
      },
      {
        "duration": 919,
        "start_time": "2023-03-04T17:41:04.434Z"
      },
      {
        "duration": 20,
        "start_time": "2023-03-04T17:41:05.365Z"
      },
      {
        "duration": 165,
        "start_time": "2023-03-04T17:41:05.387Z"
      },
      {
        "duration": 324,
        "start_time": "2023-03-04T17:41:05.559Z"
      },
      {
        "duration": 116,
        "start_time": "2023-03-04T17:41:05.885Z"
      },
      {
        "duration": 700,
        "start_time": "2023-03-04T17:41:06.003Z"
      },
      {
        "duration": 424,
        "start_time": "2023-03-04T17:41:06.705Z"
      },
      {
        "duration": 1927,
        "start_time": "2023-03-04T17:41:07.131Z"
      },
      {
        "duration": 2002,
        "start_time": "2023-03-04T17:41:09.061Z"
      },
      {
        "duration": 11,
        "start_time": "2023-03-04T17:41:11.064Z"
      },
      {
        "duration": 29,
        "start_time": "2023-03-04T17:41:11.077Z"
      },
      {
        "duration": 7,
        "start_time": "2023-03-04T17:41:11.108Z"
      },
      {
        "duration": 69,
        "start_time": "2023-03-04T17:41:11.117Z"
      },
      {
        "duration": 574,
        "start_time": "2023-03-04T17:41:11.188Z"
      },
      {
        "duration": 23,
        "start_time": "2023-03-04T17:41:11.763Z"
      },
      {
        "duration": 129,
        "start_time": "2023-03-04T17:41:11.788Z"
      },
      {
        "duration": 125,
        "start_time": "2023-03-04T17:41:11.919Z"
      },
      {
        "duration": 30,
        "start_time": "2023-03-04T17:41:12.048Z"
      },
      {
        "duration": 19,
        "start_time": "2023-03-04T17:41:12.080Z"
      },
      {
        "duration": 25,
        "start_time": "2023-03-04T17:41:12.100Z"
      },
      {
        "duration": 58,
        "start_time": "2023-03-04T17:41:12.126Z"
      },
      {
        "duration": 115,
        "start_time": "2023-03-04T17:41:12.186Z"
      },
      {
        "duration": 250,
        "start_time": "2023-03-04T17:41:12.303Z"
      },
      {
        "duration": 41,
        "start_time": "2023-03-04T17:41:12.557Z"
      },
      {
        "duration": 3,
        "start_time": "2023-03-04T17:41:12.600Z"
      },
      {
        "duration": 885,
        "start_time": "2023-03-04T17:41:12.606Z"
      },
      {
        "duration": 152,
        "start_time": "2023-03-04T17:41:13.495Z"
      },
      {
        "duration": 63,
        "start_time": "2023-03-04T17:41:13.650Z"
      },
      {
        "duration": 6,
        "start_time": "2023-03-04T17:41:13.714Z"
      },
      {
        "duration": 122,
        "start_time": "2023-03-04T17:41:13.722Z"
      },
      {
        "duration": 560051,
        "start_time": "2023-03-04T17:41:13.858Z"
      },
      {
        "duration": 1714,
        "start_time": "2023-03-04T17:50:38.367Z"
      },
      {
        "duration": 1025,
        "start_time": "2023-03-04T17:50:40.084Z"
      },
      {
        "duration": 17,
        "start_time": "2023-03-04T17:50:41.111Z"
      },
      {
        "duration": 215,
        "start_time": "2023-03-04T17:50:41.131Z"
      },
      {
        "duration": 353,
        "start_time": "2023-03-04T17:50:41.350Z"
      },
      {
        "duration": 151,
        "start_time": "2023-03-04T17:50:41.704Z"
      },
      {
        "duration": 941,
        "start_time": "2023-03-04T17:50:41.858Z"
      },
      {
        "duration": 499,
        "start_time": "2023-03-04T17:50:42.801Z"
      },
      {
        "duration": 2016,
        "start_time": "2023-03-04T17:50:43.302Z"
      },
      {
        "duration": 2765,
        "start_time": "2023-03-04T17:50:45.322Z"
      },
      {
        "duration": 14,
        "start_time": "2023-03-04T17:50:48.089Z"
      },
      {
        "duration": 58,
        "start_time": "2023-03-04T17:50:48.106Z"
      },
      {
        "duration": 14,
        "start_time": "2023-03-04T17:50:48.167Z"
      },
      {
        "duration": 63,
        "start_time": "2023-03-04T17:50:48.183Z"
      },
      {
        "duration": 656,
        "start_time": "2023-03-04T17:50:48.249Z"
      },
      {
        "duration": 43,
        "start_time": "2023-03-04T17:50:48.906Z"
      },
      {
        "duration": 162,
        "start_time": "2023-03-04T17:50:48.957Z"
      },
      {
        "duration": 162,
        "start_time": "2023-03-04T17:50:49.121Z"
      },
      {
        "duration": 20,
        "start_time": "2023-03-04T17:50:49.285Z"
      },
      {
        "duration": 43,
        "start_time": "2023-03-04T17:50:49.307Z"
      },
      {
        "duration": 44,
        "start_time": "2023-03-04T17:50:49.352Z"
      },
      {
        "duration": 74,
        "start_time": "2023-03-04T17:50:49.398Z"
      },
      {
        "duration": 109,
        "start_time": "2023-03-04T17:50:49.474Z"
      },
      {
        "duration": 240,
        "start_time": "2023-03-04T17:50:49.585Z"
      },
      {
        "duration": 59,
        "start_time": "2023-03-04T17:50:49.827Z"
      },
      {
        "duration": 3,
        "start_time": "2023-03-04T17:50:49.888Z"
      },
      {
        "duration": 141,
        "start_time": "2023-03-04T17:50:49.893Z"
      },
      {
        "duration": 0,
        "start_time": "2023-03-04T17:50:50.036Z"
      },
      {
        "duration": 0,
        "start_time": "2023-03-04T17:50:50.037Z"
      },
      {
        "duration": 0,
        "start_time": "2023-03-04T17:50:50.038Z"
      },
      {
        "duration": 0,
        "start_time": "2023-03-04T17:50:50.049Z"
      },
      {
        "duration": 0,
        "start_time": "2023-03-04T17:50:50.051Z"
      },
      {
        "duration": 1778,
        "start_time": "2023-03-04T17:51:18.180Z"
      },
      {
        "duration": 1048,
        "start_time": "2023-03-04T17:51:19.963Z"
      },
      {
        "duration": 38,
        "start_time": "2023-03-04T17:51:21.013Z"
      },
      {
        "duration": 184,
        "start_time": "2023-03-04T17:51:21.054Z"
      },
      {
        "duration": 342,
        "start_time": "2023-03-04T17:51:21.242Z"
      },
      {
        "duration": 116,
        "start_time": "2023-03-04T17:51:21.585Z"
      },
      {
        "duration": 877,
        "start_time": "2023-03-04T17:51:21.703Z"
      },
      {
        "duration": 481,
        "start_time": "2023-03-04T17:51:22.585Z"
      },
      {
        "duration": 1935,
        "start_time": "2023-03-04T17:51:23.071Z"
      },
      {
        "duration": 2671,
        "start_time": "2023-03-04T17:51:25.008Z"
      },
      {
        "duration": 16,
        "start_time": "2023-03-04T17:51:27.681Z"
      },
      {
        "duration": 62,
        "start_time": "2023-03-04T17:51:27.699Z"
      },
      {
        "duration": 12,
        "start_time": "2023-03-04T17:51:27.768Z"
      },
      {
        "duration": 51,
        "start_time": "2023-03-04T17:51:27.785Z"
      },
      {
        "duration": 691,
        "start_time": "2023-03-04T17:51:27.840Z"
      },
      {
        "duration": 24,
        "start_time": "2023-03-04T17:51:28.533Z"
      },
      {
        "duration": 150,
        "start_time": "2023-03-04T17:51:28.559Z"
      },
      {
        "duration": 174,
        "start_time": "2023-03-04T17:51:28.711Z"
      },
      {
        "duration": 25,
        "start_time": "2023-03-04T17:51:28.887Z"
      },
      {
        "duration": 45,
        "start_time": "2023-03-04T17:51:28.914Z"
      },
      {
        "duration": 41,
        "start_time": "2023-03-04T17:51:28.962Z"
      },
      {
        "duration": 88,
        "start_time": "2023-03-04T17:51:29.006Z"
      },
      {
        "duration": 176,
        "start_time": "2023-03-04T17:51:29.096Z"
      },
      {
        "duration": 253,
        "start_time": "2023-03-04T17:51:29.275Z"
      },
      {
        "duration": 51,
        "start_time": "2023-03-04T17:51:29.530Z"
      },
      {
        "duration": 3,
        "start_time": "2023-03-04T17:51:29.582Z"
      },
      {
        "duration": 917,
        "start_time": "2023-03-04T17:51:29.587Z"
      },
      {
        "duration": 108,
        "start_time": "2023-03-04T17:51:30.505Z"
      },
      {
        "duration": 56,
        "start_time": "2023-03-04T17:51:30.616Z"
      },
      {
        "duration": 5,
        "start_time": "2023-03-04T17:51:30.679Z"
      },
      {
        "duration": 155,
        "start_time": "2023-03-04T17:51:30.686Z"
      },
      {
        "duration": 2081376,
        "start_time": "2023-03-04T17:51:30.844Z"
      },
      {
        "duration": 1847,
        "start_time": "2023-03-04T18:50:40.473Z"
      },
      {
        "duration": 1410,
        "start_time": "2023-03-04T18:50:42.323Z"
      },
      {
        "duration": 20,
        "start_time": "2023-03-04T18:50:43.736Z"
      },
      {
        "duration": 310,
        "start_time": "2023-03-04T18:50:43.760Z"
      },
      {
        "duration": 437,
        "start_time": "2023-03-04T18:50:44.073Z"
      },
      {
        "duration": 178,
        "start_time": "2023-03-04T18:50:44.512Z"
      },
      {
        "duration": 1127,
        "start_time": "2023-03-04T18:50:44.695Z"
      },
      {
        "duration": 620,
        "start_time": "2023-03-04T18:50:45.825Z"
      },
      {
        "duration": 2434,
        "start_time": "2023-03-04T18:50:46.453Z"
      },
      {
        "duration": 2386,
        "start_time": "2023-03-04T18:50:48.889Z"
      },
      {
        "duration": 17,
        "start_time": "2023-03-04T18:50:51.277Z"
      },
      {
        "duration": 27,
        "start_time": "2023-03-04T18:50:51.296Z"
      },
      {
        "duration": 28,
        "start_time": "2023-03-04T18:50:51.325Z"
      },
      {
        "duration": 50,
        "start_time": "2023-03-04T18:50:51.357Z"
      },
      {
        "duration": 635,
        "start_time": "2023-03-04T18:50:51.411Z"
      },
      {
        "duration": 32,
        "start_time": "2023-03-04T18:50:52.047Z"
      },
      {
        "duration": 182,
        "start_time": "2023-03-04T18:50:52.082Z"
      },
      {
        "duration": 176,
        "start_time": "2023-03-04T18:50:52.267Z"
      },
      {
        "duration": 38,
        "start_time": "2023-03-04T18:50:52.445Z"
      },
      {
        "duration": 29,
        "start_time": "2023-03-04T18:50:52.489Z"
      },
      {
        "duration": 32,
        "start_time": "2023-03-04T18:50:52.523Z"
      },
      {
        "duration": 76,
        "start_time": "2023-03-04T18:50:52.563Z"
      },
      {
        "duration": 148,
        "start_time": "2023-03-04T18:50:52.644Z"
      },
      {
        "duration": 251,
        "start_time": "2023-03-04T18:50:52.795Z"
      },
      {
        "duration": 41,
        "start_time": "2023-03-04T18:50:53.050Z"
      },
      {
        "duration": 4,
        "start_time": "2023-03-04T18:50:53.093Z"
      },
      {
        "duration": 918,
        "start_time": "2023-03-04T18:50:53.099Z"
      },
      {
        "duration": 101,
        "start_time": "2023-03-04T18:50:54.019Z"
      },
      {
        "duration": 54,
        "start_time": "2023-03-04T18:50:54.122Z"
      },
      {
        "duration": 4,
        "start_time": "2023-03-04T18:50:54.178Z"
      },
      {
        "duration": 103,
        "start_time": "2023-03-04T18:50:54.184Z"
      },
      {
        "duration": 85688,
        "start_time": "2023-03-04T18:50:54.348Z"
      },
      {
        "duration": 2090,
        "start_time": "2023-03-04T18:52:23.763Z"
      },
      {
        "duration": 1480,
        "start_time": "2023-03-04T18:52:25.857Z"
      },
      {
        "duration": 31,
        "start_time": "2023-03-04T18:52:27.340Z"
      },
      {
        "duration": 257,
        "start_time": "2023-03-04T18:52:27.389Z"
      },
      {
        "duration": 417,
        "start_time": "2023-03-04T18:52:27.650Z"
      },
      {
        "duration": 151,
        "start_time": "2023-03-04T18:52:28.073Z"
      },
      {
        "duration": 833,
        "start_time": "2023-03-04T18:52:28.226Z"
      },
      {
        "duration": 450,
        "start_time": "2023-03-04T18:52:29.063Z"
      },
      {
        "duration": 2617,
        "start_time": "2023-03-04T18:52:29.515Z"
      },
      {
        "duration": 3089,
        "start_time": "2023-03-04T18:52:32.134Z"
      },
      {
        "duration": 25,
        "start_time": "2023-03-04T18:52:35.225Z"
      },
      {
        "duration": 53,
        "start_time": "2023-03-04T18:52:35.253Z"
      },
      {
        "duration": 9,
        "start_time": "2023-03-04T18:52:35.308Z"
      },
      {
        "duration": 68,
        "start_time": "2023-03-04T18:52:35.322Z"
      },
      {
        "duration": 800,
        "start_time": "2023-03-04T18:52:35.396Z"
      },
      {
        "duration": 27,
        "start_time": "2023-03-04T18:52:36.203Z"
      },
      {
        "duration": 182,
        "start_time": "2023-03-04T18:52:36.233Z"
      },
      {
        "duration": 183,
        "start_time": "2023-03-04T18:52:36.418Z"
      },
      {
        "duration": 25,
        "start_time": "2023-03-04T18:52:36.604Z"
      },
      {
        "duration": 55,
        "start_time": "2023-03-04T18:52:36.631Z"
      },
      {
        "duration": 34,
        "start_time": "2023-03-04T18:52:36.689Z"
      },
      {
        "duration": 96,
        "start_time": "2023-03-04T18:52:36.726Z"
      },
      {
        "duration": 148,
        "start_time": "2023-03-04T18:52:36.824Z"
      },
      {
        "duration": 312,
        "start_time": "2023-03-04T18:52:36.974Z"
      },
      {
        "duration": 54,
        "start_time": "2023-03-04T18:52:37.289Z"
      },
      {
        "duration": 5,
        "start_time": "2023-03-04T18:52:37.346Z"
      },
      {
        "duration": 1197,
        "start_time": "2023-03-04T18:52:37.357Z"
      },
      {
        "duration": 126,
        "start_time": "2023-03-04T18:52:38.559Z"
      },
      {
        "duration": 70,
        "start_time": "2023-03-04T18:52:38.691Z"
      },
      {
        "duration": 8,
        "start_time": "2023-03-04T18:52:38.773Z"
      },
      {
        "duration": 211,
        "start_time": "2023-03-04T18:52:38.782Z"
      },
      {
        "duration": 1155148,
        "start_time": "2023-03-04T18:52:39.004Z"
      },
      {
        "duration": 1589,
        "start_time": "2023-03-04T19:11:57.898Z"
      },
      {
        "duration": 936,
        "start_time": "2023-03-04T19:11:59.490Z"
      },
      {
        "duration": 26,
        "start_time": "2023-03-04T19:12:00.428Z"
      },
      {
        "duration": 176,
        "start_time": "2023-03-04T19:12:00.456Z"
      },
      {
        "duration": 372,
        "start_time": "2023-03-04T19:12:00.634Z"
      },
      {
        "duration": 117,
        "start_time": "2023-03-04T19:12:01.008Z"
      },
      {
        "duration": 744,
        "start_time": "2023-03-04T19:12:01.127Z"
      },
      {
        "duration": 440,
        "start_time": "2023-03-04T19:12:01.873Z"
      },
      {
        "duration": 1930,
        "start_time": "2023-03-04T19:12:02.315Z"
      },
      {
        "duration": 2572,
        "start_time": "2023-03-04T19:12:04.254Z"
      },
      {
        "duration": 24,
        "start_time": "2023-03-04T19:12:06.829Z"
      },
      {
        "duration": 37,
        "start_time": "2023-03-04T19:12:06.856Z"
      },
      {
        "duration": 10,
        "start_time": "2023-03-04T19:12:06.895Z"
      },
      {
        "duration": 72,
        "start_time": "2023-03-04T19:12:06.907Z"
      },
      {
        "duration": 712,
        "start_time": "2023-03-04T19:12:06.981Z"
      },
      {
        "duration": 27,
        "start_time": "2023-03-04T19:12:07.696Z"
      },
      {
        "duration": 178,
        "start_time": "2023-03-04T19:12:07.726Z"
      },
      {
        "duration": 205,
        "start_time": "2023-03-04T19:12:07.907Z"
      },
      {
        "duration": 35,
        "start_time": "2023-03-04T19:12:08.115Z"
      },
      {
        "duration": 33,
        "start_time": "2023-03-04T19:12:08.156Z"
      },
      {
        "duration": 27,
        "start_time": "2023-03-04T19:12:08.191Z"
      },
      {
        "duration": 78,
        "start_time": "2023-03-04T19:12:08.221Z"
      },
      {
        "duration": 112,
        "start_time": "2023-03-04T19:12:08.301Z"
      },
      {
        "duration": 249,
        "start_time": "2023-03-04T19:12:08.415Z"
      },
      {
        "duration": 39,
        "start_time": "2023-03-04T19:12:08.666Z"
      },
      {
        "duration": 3,
        "start_time": "2023-03-04T19:12:08.707Z"
      },
      {
        "duration": 800,
        "start_time": "2023-03-04T19:12:08.712Z"
      },
      {
        "duration": 102,
        "start_time": "2023-03-04T19:12:09.515Z"
      },
      {
        "duration": 50,
        "start_time": "2023-03-04T19:12:09.619Z"
      },
      {
        "duration": 5,
        "start_time": "2023-03-04T19:12:09.671Z"
      },
      {
        "duration": 195,
        "start_time": "2023-03-04T19:12:09.678Z"
      },
      {
        "duration": 60440,
        "start_time": "2023-03-04T19:12:09.949Z"
      },
      {
        "duration": 1588,
        "start_time": "2023-03-04T19:13:23.784Z"
      },
      {
        "duration": 2674,
        "start_time": "2023-03-04T19:13:25.375Z"
      },
      {
        "duration": 28,
        "start_time": "2023-03-04T19:13:28.058Z"
      },
      {
        "duration": 254,
        "start_time": "2023-03-04T19:13:28.088Z"
      },
      {
        "duration": 291,
        "start_time": "2023-03-04T19:13:28.351Z"
      },
      {
        "duration": 121,
        "start_time": "2023-03-04T19:13:28.644Z"
      },
      {
        "duration": 706,
        "start_time": "2023-03-04T19:13:28.766Z"
      },
      {
        "duration": 485,
        "start_time": "2023-03-04T19:13:29.485Z"
      },
      {
        "duration": 2064,
        "start_time": "2023-03-04T19:13:29.972Z"
      },
      {
        "duration": 1688,
        "start_time": "2023-03-04T19:13:35.102Z"
      },
      {
        "duration": 1025,
        "start_time": "2023-03-04T19:13:36.793Z"
      },
      {
        "duration": 39,
        "start_time": "2023-03-04T19:13:37.820Z"
      },
      {
        "duration": 163,
        "start_time": "2023-03-04T19:13:37.865Z"
      },
      {
        "duration": 335,
        "start_time": "2023-03-04T19:13:38.031Z"
      },
      {
        "duration": 98,
        "start_time": "2023-03-04T19:13:38.368Z"
      },
      {
        "duration": 781,
        "start_time": "2023-03-04T19:13:38.467Z"
      },
      {
        "duration": 420,
        "start_time": "2023-03-04T19:13:39.249Z"
      },
      {
        "duration": 1893,
        "start_time": "2023-03-04T19:13:39.671Z"
      },
      {
        "duration": 2510,
        "start_time": "2023-03-04T19:13:41.569Z"
      },
      {
        "duration": 13,
        "start_time": "2023-03-04T19:13:44.080Z"
      },
      {
        "duration": 25,
        "start_time": "2023-03-04T19:13:44.095Z"
      },
      {
        "duration": 12,
        "start_time": "2023-03-04T19:13:44.145Z"
      },
      {
        "duration": 49,
        "start_time": "2023-03-04T19:13:44.158Z"
      },
      {
        "duration": 681,
        "start_time": "2023-03-04T19:13:44.210Z"
      },
      {
        "duration": 25,
        "start_time": "2023-03-04T19:13:44.893Z"
      },
      {
        "duration": 173,
        "start_time": "2023-03-04T19:13:44.920Z"
      },
      {
        "duration": 140,
        "start_time": "2023-03-04T19:13:45.095Z"
      },
      {
        "duration": 39,
        "start_time": "2023-03-04T19:13:45.237Z"
      },
      {
        "duration": 36,
        "start_time": "2023-03-04T19:13:45.278Z"
      },
      {
        "duration": 40,
        "start_time": "2023-03-04T19:13:45.316Z"
      },
      {
        "duration": 73,
        "start_time": "2023-03-04T19:13:45.360Z"
      },
      {
        "duration": 125,
        "start_time": "2023-03-04T19:13:45.436Z"
      },
      {
        "duration": 284,
        "start_time": "2023-03-04T19:13:45.563Z"
      },
      {
        "duration": 38,
        "start_time": "2023-03-04T19:13:45.849Z"
      },
      {
        "duration": 3,
        "start_time": "2023-03-04T19:13:45.889Z"
      },
      {
        "duration": 900,
        "start_time": "2023-03-04T19:13:45.894Z"
      },
      {
        "duration": 127,
        "start_time": "2023-03-04T19:13:46.798Z"
      },
      {
        "duration": 59,
        "start_time": "2023-03-04T19:13:46.928Z"
      },
      {
        "duration": 6,
        "start_time": "2023-03-04T19:13:46.989Z"
      },
      {
        "duration": 100,
        "start_time": "2023-03-04T19:13:46.997Z"
      },
      {
        "duration": 1778,
        "start_time": "2023-03-04T19:23:04.866Z"
      },
      {
        "duration": 1537,
        "start_time": "2023-03-04T19:23:06.646Z"
      },
      {
        "duration": 35,
        "start_time": "2023-03-04T19:23:08.189Z"
      },
      {
        "duration": 264,
        "start_time": "2023-03-04T19:23:08.227Z"
      },
      {
        "duration": 448,
        "start_time": "2023-03-04T19:23:08.495Z"
      },
      {
        "duration": 170,
        "start_time": "2023-03-04T19:23:08.946Z"
      },
      {
        "duration": 869,
        "start_time": "2023-03-04T19:23:09.118Z"
      },
      {
        "duration": 508,
        "start_time": "2023-03-04T19:23:09.989Z"
      },
      {
        "duration": 2037,
        "start_time": "2023-03-04T19:23:10.500Z"
      },
      {
        "duration": 2545,
        "start_time": "2023-03-04T19:23:12.547Z"
      },
      {
        "duration": 14,
        "start_time": "2023-03-04T19:23:15.094Z"
      },
      {
        "duration": 36,
        "start_time": "2023-03-04T19:23:15.110Z"
      },
      {
        "duration": 10,
        "start_time": "2023-03-04T19:23:15.148Z"
      },
      {
        "duration": 48,
        "start_time": "2023-03-04T19:23:15.164Z"
      },
      {
        "duration": 805,
        "start_time": "2023-03-04T19:23:15.214Z"
      },
      {
        "duration": 45,
        "start_time": "2023-03-04T19:23:16.021Z"
      },
      {
        "duration": 140,
        "start_time": "2023-03-04T19:23:16.068Z"
      },
      {
        "duration": 175,
        "start_time": "2023-03-04T19:23:16.210Z"
      },
      {
        "duration": 25,
        "start_time": "2023-03-04T19:23:16.392Z"
      },
      {
        "duration": 32,
        "start_time": "2023-03-04T19:23:16.420Z"
      },
      {
        "duration": 41,
        "start_time": "2023-03-04T19:23:16.454Z"
      },
      {
        "duration": 68,
        "start_time": "2023-03-04T19:23:16.497Z"
      },
      {
        "duration": 148,
        "start_time": "2023-03-04T19:23:16.573Z"
      },
      {
        "duration": 272,
        "start_time": "2023-03-04T19:23:16.723Z"
      },
      {
        "duration": 52,
        "start_time": "2023-03-04T19:23:16.997Z"
      },
      {
        "duration": 4,
        "start_time": "2023-03-04T19:23:17.051Z"
      },
      {
        "duration": 964,
        "start_time": "2023-03-04T19:23:17.061Z"
      },
      {
        "duration": 200,
        "start_time": "2023-03-04T19:23:18.027Z"
      },
      {
        "duration": 0,
        "start_time": "2023-03-04T19:23:18.229Z"
      },
      {
        "duration": 0,
        "start_time": "2023-03-04T19:23:18.230Z"
      },
      {
        "duration": 0,
        "start_time": "2023-03-04T19:23:18.231Z"
      },
      {
        "duration": 0,
        "start_time": "2023-03-04T19:23:18.232Z"
      },
      {
        "duration": 1811,
        "start_time": "2023-03-04T19:23:43.996Z"
      },
      {
        "duration": 1093,
        "start_time": "2023-03-04T19:23:45.810Z"
      },
      {
        "duration": 20,
        "start_time": "2023-03-04T19:23:46.906Z"
      },
      {
        "duration": 220,
        "start_time": "2023-03-04T19:23:46.928Z"
      },
      {
        "duration": 372,
        "start_time": "2023-03-04T19:23:47.154Z"
      },
      {
        "duration": 184,
        "start_time": "2023-03-04T19:23:47.528Z"
      },
      {
        "duration": 1055,
        "start_time": "2023-03-04T19:23:47.714Z"
      },
      {
        "duration": 429,
        "start_time": "2023-03-04T19:23:48.771Z"
      },
      {
        "duration": 1996,
        "start_time": "2023-03-04T19:23:49.204Z"
      },
      {
        "duration": 2650,
        "start_time": "2023-03-04T19:23:51.203Z"
      },
      {
        "duration": 17,
        "start_time": "2023-03-04T19:23:53.857Z"
      },
      {
        "duration": 29,
        "start_time": "2023-03-04T19:23:53.876Z"
      },
      {
        "duration": 8,
        "start_time": "2023-03-04T19:23:53.907Z"
      },
      {
        "duration": 67,
        "start_time": "2023-03-04T19:23:53.919Z"
      },
      {
        "duration": 632,
        "start_time": "2023-03-04T19:23:53.991Z"
      },
      {
        "duration": 44,
        "start_time": "2023-03-04T19:23:54.625Z"
      },
      {
        "duration": 147,
        "start_time": "2023-03-04T19:23:54.677Z"
      },
      {
        "duration": 194,
        "start_time": "2023-03-04T19:23:54.826Z"
      },
      {
        "duration": 43,
        "start_time": "2023-03-04T19:23:55.022Z"
      },
      {
        "duration": 33,
        "start_time": "2023-03-04T19:23:55.068Z"
      },
      {
        "duration": 48,
        "start_time": "2023-03-04T19:23:55.104Z"
      },
      {
        "duration": 70,
        "start_time": "2023-03-04T19:23:55.157Z"
      },
      {
        "duration": 165,
        "start_time": "2023-03-04T19:23:55.229Z"
      },
      {
        "duration": 298,
        "start_time": "2023-03-04T19:23:55.396Z"
      },
      {
        "duration": 52,
        "start_time": "2023-03-04T19:23:55.696Z"
      },
      {
        "duration": 30,
        "start_time": "2023-03-04T19:23:55.752Z"
      },
      {
        "duration": 881,
        "start_time": "2023-03-04T19:23:55.784Z"
      },
      {
        "duration": 94,
        "start_time": "2023-03-04T19:23:56.667Z"
      },
      {
        "duration": 142,
        "start_time": "2023-03-04T19:23:56.762Z"
      },
      {
        "duration": 0,
        "start_time": "2023-03-04T19:23:56.905Z"
      },
      {
        "duration": 0,
        "start_time": "2023-03-04T19:23:56.907Z"
      },
      {
        "duration": 0,
        "start_time": "2023-03-04T19:23:56.909Z"
      },
      {
        "duration": 1990,
        "start_time": "2023-03-04T19:24:15.739Z"
      },
      {
        "duration": 1259,
        "start_time": "2023-03-04T19:24:17.731Z"
      },
      {
        "duration": 24,
        "start_time": "2023-03-04T19:24:18.992Z"
      },
      {
        "duration": 211,
        "start_time": "2023-03-04T19:24:19.019Z"
      },
      {
        "duration": 342,
        "start_time": "2023-03-04T19:24:19.232Z"
      },
      {
        "duration": 126,
        "start_time": "2023-03-04T19:24:19.575Z"
      },
      {
        "duration": 832,
        "start_time": "2023-03-04T19:24:19.703Z"
      },
      {
        "duration": 457,
        "start_time": "2023-03-04T19:24:20.537Z"
      },
      {
        "duration": 2059,
        "start_time": "2023-03-04T19:24:20.996Z"
      },
      {
        "duration": 2533,
        "start_time": "2023-03-04T19:24:23.058Z"
      },
      {
        "duration": 13,
        "start_time": "2023-03-04T19:24:25.592Z"
      },
      {
        "duration": 56,
        "start_time": "2023-03-04T19:24:25.607Z"
      },
      {
        "duration": 13,
        "start_time": "2023-03-04T19:24:25.670Z"
      },
      {
        "duration": 47,
        "start_time": "2023-03-04T19:24:25.685Z"
      },
      {
        "duration": 789,
        "start_time": "2023-03-04T19:24:25.734Z"
      },
      {
        "duration": 35,
        "start_time": "2023-03-04T19:24:26.525Z"
      },
      {
        "duration": 160,
        "start_time": "2023-03-04T19:24:26.564Z"
      },
      {
        "duration": 177,
        "start_time": "2023-03-04T19:24:26.728Z"
      },
      {
        "duration": 45,
        "start_time": "2023-03-04T19:24:26.907Z"
      },
      {
        "duration": 38,
        "start_time": "2023-03-04T19:24:26.954Z"
      },
      {
        "duration": 38,
        "start_time": "2023-03-04T19:24:26.994Z"
      },
      {
        "duration": 72,
        "start_time": "2023-03-04T19:24:27.047Z"
      },
      {
        "duration": 128,
        "start_time": "2023-03-04T19:24:27.122Z"
      },
      {
        "duration": 331,
        "start_time": "2023-03-04T19:24:27.252Z"
      },
      {
        "duration": 45,
        "start_time": "2023-03-04T19:24:27.589Z"
      },
      {
        "duration": 16,
        "start_time": "2023-03-04T19:24:27.636Z"
      },
      {
        "duration": 922,
        "start_time": "2023-03-04T19:24:27.657Z"
      },
      {
        "duration": 87,
        "start_time": "2023-03-04T19:24:28.586Z"
      },
      {
        "duration": 36,
        "start_time": "2023-03-04T19:24:28.675Z"
      },
      {
        "duration": 4,
        "start_time": "2023-03-04T19:24:28.713Z"
      },
      {
        "duration": 161,
        "start_time": "2023-03-04T19:24:28.719Z"
      },
      {
        "duration": 298950,
        "start_time": "2023-03-04T19:24:28.887Z"
      },
      {
        "duration": 1951,
        "start_time": "2023-03-04T19:29:32.302Z"
      },
      {
        "duration": 1343,
        "start_time": "2023-03-04T19:29:34.265Z"
      },
      {
        "duration": 36,
        "start_time": "2023-03-04T19:29:35.610Z"
      },
      {
        "duration": 252,
        "start_time": "2023-03-04T19:29:35.649Z"
      },
      {
        "duration": 453,
        "start_time": "2023-03-04T19:29:35.904Z"
      },
      {
        "duration": 173,
        "start_time": "2023-03-04T19:29:36.362Z"
      },
      {
        "duration": 1177,
        "start_time": "2023-03-04T19:29:36.546Z"
      },
      {
        "duration": 602,
        "start_time": "2023-03-04T19:29:37.729Z"
      },
      {
        "duration": 2673,
        "start_time": "2023-03-04T19:29:38.334Z"
      },
      {
        "duration": 3368,
        "start_time": "2023-03-04T19:29:41.009Z"
      },
      {
        "duration": 13,
        "start_time": "2023-03-04T19:29:44.380Z"
      },
      {
        "duration": 55,
        "start_time": "2023-03-04T19:29:44.395Z"
      },
      {
        "duration": 13,
        "start_time": "2023-03-04T19:29:44.452Z"
      },
      {
        "duration": 52,
        "start_time": "2023-03-04T19:29:44.471Z"
      },
      {
        "duration": 797,
        "start_time": "2023-03-04T19:29:44.525Z"
      },
      {
        "duration": 38,
        "start_time": "2023-03-04T19:29:45.325Z"
      },
      {
        "duration": 170,
        "start_time": "2023-03-04T19:29:45.365Z"
      },
      {
        "duration": 210,
        "start_time": "2023-03-04T19:29:45.541Z"
      },
      {
        "duration": 34,
        "start_time": "2023-03-04T19:29:45.754Z"
      },
      {
        "duration": 34,
        "start_time": "2023-03-04T19:29:45.794Z"
      },
      {
        "duration": 36,
        "start_time": "2023-03-04T19:29:45.844Z"
      },
      {
        "duration": 78,
        "start_time": "2023-03-04T19:29:45.882Z"
      },
      {
        "duration": 164,
        "start_time": "2023-03-04T19:29:45.963Z"
      },
      {
        "duration": 349,
        "start_time": "2023-03-04T19:29:46.130Z"
      },
      {
        "duration": 45,
        "start_time": "2023-03-04T19:29:46.482Z"
      },
      {
        "duration": 17,
        "start_time": "2023-03-04T19:29:46.530Z"
      },
      {
        "duration": 1170,
        "start_time": "2023-03-04T19:29:46.562Z"
      },
      {
        "duration": 132,
        "start_time": "2023-03-04T19:29:47.735Z"
      },
      {
        "duration": 200,
        "start_time": "2023-03-04T19:29:47.869Z"
      },
      {
        "duration": 0,
        "start_time": "2023-03-04T19:29:48.079Z"
      },
      {
        "duration": 0,
        "start_time": "2023-03-04T19:29:48.084Z"
      },
      {
        "duration": 0,
        "start_time": "2023-03-04T19:29:48.088Z"
      },
      {
        "duration": 4950,
        "start_time": "2023-03-04T19:30:16.303Z"
      },
      {
        "duration": 18,
        "start_time": "2023-03-04T19:31:50.078Z"
      },
      {
        "duration": 39,
        "start_time": "2023-03-04T19:31:58.960Z"
      },
      {
        "duration": 1644,
        "start_time": "2023-03-04T19:32:03.923Z"
      },
      {
        "duration": 1029,
        "start_time": "2023-03-04T19:32:05.570Z"
      },
      {
        "duration": 21,
        "start_time": "2023-03-04T19:32:06.601Z"
      },
      {
        "duration": 184,
        "start_time": "2023-03-04T19:32:06.624Z"
      },
      {
        "duration": 348,
        "start_time": "2023-03-04T19:32:06.812Z"
      },
      {
        "duration": 126,
        "start_time": "2023-03-04T19:32:07.164Z"
      },
      {
        "duration": 855,
        "start_time": "2023-03-04T19:32:07.295Z"
      },
      {
        "duration": 406,
        "start_time": "2023-03-04T19:32:08.152Z"
      },
      {
        "duration": 1816,
        "start_time": "2023-03-04T19:32:08.563Z"
      },
      {
        "duration": 2381,
        "start_time": "2023-03-04T19:32:10.381Z"
      },
      {
        "duration": 12,
        "start_time": "2023-03-04T19:32:12.763Z"
      },
      {
        "duration": 26,
        "start_time": "2023-03-04T19:32:12.777Z"
      },
      {
        "duration": 39,
        "start_time": "2023-03-04T19:32:12.805Z"
      },
      {
        "duration": 59,
        "start_time": "2023-03-04T19:32:12.847Z"
      },
      {
        "duration": 693,
        "start_time": "2023-03-04T19:32:12.909Z"
      },
      {
        "duration": 42,
        "start_time": "2023-03-04T19:32:13.604Z"
      },
      {
        "duration": 167,
        "start_time": "2023-03-04T19:32:13.650Z"
      },
      {
        "duration": 150,
        "start_time": "2023-03-04T19:32:13.820Z"
      },
      {
        "duration": 23,
        "start_time": "2023-03-04T19:32:13.972Z"
      },
      {
        "duration": 48,
        "start_time": "2023-03-04T19:32:13.997Z"
      },
      {
        "duration": 43,
        "start_time": "2023-03-04T19:32:14.053Z"
      },
      {
        "duration": 76,
        "start_time": "2023-03-04T19:32:14.098Z"
      },
      {
        "duration": 120,
        "start_time": "2023-03-04T19:32:14.176Z"
      },
      {
        "duration": 324,
        "start_time": "2023-03-04T19:32:14.298Z"
      },
      {
        "duration": 49,
        "start_time": "2023-03-04T19:32:14.623Z"
      },
      {
        "duration": 4,
        "start_time": "2023-03-04T19:32:14.674Z"
      },
      {
        "duration": 852,
        "start_time": "2023-03-04T19:32:14.680Z"
      },
      {
        "duration": 97,
        "start_time": "2023-03-04T19:32:15.534Z"
      },
      {
        "duration": 58,
        "start_time": "2023-03-04T19:32:15.633Z"
      },
      {
        "duration": 4,
        "start_time": "2023-03-04T19:32:15.693Z"
      },
      {
        "duration": 120,
        "start_time": "2023-03-04T19:32:15.699Z"
      },
      {
        "duration": 788655,
        "start_time": "2023-03-04T19:32:15.821Z"
      },
      {
        "duration": 116,
        "start_time": "2023-03-04T19:57:52.816Z"
      },
      {
        "duration": 52,
        "start_time": "2023-03-04T19:58:04.383Z"
      },
      {
        "duration": 160,
        "start_time": "2023-03-04T19:59:12.418Z"
      },
      {
        "duration": 4,
        "start_time": "2023-03-04T20:00:20.089Z"
      },
      {
        "duration": 15638,
        "start_time": "2023-03-04T20:00:27.690Z"
      },
      {
        "duration": 1499,
        "start_time": "2023-03-04T20:00:47.627Z"
      },
      {
        "duration": 835,
        "start_time": "2023-03-04T20:00:49.128Z"
      },
      {
        "duration": 16,
        "start_time": "2023-03-04T20:00:49.965Z"
      },
      {
        "duration": 145,
        "start_time": "2023-03-04T20:00:49.983Z"
      },
      {
        "duration": 298,
        "start_time": "2023-03-04T20:00:50.130Z"
      },
      {
        "duration": 90,
        "start_time": "2023-03-04T20:00:50.429Z"
      },
      {
        "duration": 624,
        "start_time": "2023-03-04T20:00:50.520Z"
      },
      {
        "duration": 363,
        "start_time": "2023-03-04T20:00:51.151Z"
      },
      {
        "duration": 1762,
        "start_time": "2023-03-04T20:00:51.515Z"
      },
      {
        "duration": 2083,
        "start_time": "2023-03-04T20:00:53.280Z"
      },
      {
        "duration": 11,
        "start_time": "2023-03-04T20:00:55.365Z"
      },
      {
        "duration": 25,
        "start_time": "2023-03-04T20:00:55.377Z"
      },
      {
        "duration": 8,
        "start_time": "2023-03-04T20:00:55.404Z"
      },
      {
        "duration": 76,
        "start_time": "2023-03-04T20:00:55.414Z"
      },
      {
        "duration": 586,
        "start_time": "2023-03-04T20:00:55.492Z"
      },
      {
        "duration": 20,
        "start_time": "2023-03-04T20:00:56.080Z"
      },
      {
        "duration": 113,
        "start_time": "2023-03-04T20:00:56.101Z"
      },
      {
        "duration": 133,
        "start_time": "2023-03-04T20:00:56.215Z"
      },
      {
        "duration": 21,
        "start_time": "2023-03-04T20:00:56.355Z"
      },
      {
        "duration": 20,
        "start_time": "2023-03-04T20:00:56.378Z"
      },
      {
        "duration": 22,
        "start_time": "2023-03-04T20:00:56.399Z"
      },
      {
        "duration": 62,
        "start_time": "2023-03-04T20:00:56.423Z"
      },
      {
        "duration": 111,
        "start_time": "2023-03-04T20:00:56.487Z"
      },
      {
        "duration": 226,
        "start_time": "2023-03-04T20:00:56.600Z"
      },
      {
        "duration": 38,
        "start_time": "2023-03-04T20:00:56.828Z"
      },
      {
        "duration": 3,
        "start_time": "2023-03-04T20:00:56.868Z"
      },
      {
        "duration": 840,
        "start_time": "2023-03-04T20:00:56.872Z"
      },
      {
        "duration": 110,
        "start_time": "2023-03-04T20:00:57.716Z"
      },
      {
        "duration": 46,
        "start_time": "2023-03-04T20:00:57.828Z"
      },
      {
        "duration": 4,
        "start_time": "2023-03-04T20:00:57.876Z"
      },
      {
        "duration": 88,
        "start_time": "2023-03-04T20:00:57.882Z"
      },
      {
        "duration": 1317122,
        "start_time": "2023-03-04T20:00:58.042Z"
      },
      {
        "duration": 1695,
        "start_time": "2023-03-04T21:28:26.775Z"
      },
      {
        "duration": 1209,
        "start_time": "2023-03-04T21:28:28.473Z"
      },
      {
        "duration": 16,
        "start_time": "2023-03-04T21:28:29.684Z"
      },
      {
        "duration": 156,
        "start_time": "2023-03-04T21:28:29.701Z"
      },
      {
        "duration": 297,
        "start_time": "2023-03-04T21:28:29.860Z"
      },
      {
        "duration": 100,
        "start_time": "2023-03-04T21:28:30.159Z"
      },
      {
        "duration": 710,
        "start_time": "2023-03-04T21:28:30.261Z"
      },
      {
        "duration": 442,
        "start_time": "2023-03-04T21:28:30.973Z"
      },
      {
        "duration": 1864,
        "start_time": "2023-03-04T21:28:31.417Z"
      },
      {
        "duration": 2195,
        "start_time": "2023-03-04T21:28:33.283Z"
      },
      {
        "duration": 10,
        "start_time": "2023-03-04T21:28:35.480Z"
      },
      {
        "duration": 25,
        "start_time": "2023-03-04T21:28:35.492Z"
      },
      {
        "duration": 29,
        "start_time": "2023-03-04T21:28:35.519Z"
      },
      {
        "duration": 46,
        "start_time": "2023-03-04T21:28:35.561Z"
      },
      {
        "duration": 635,
        "start_time": "2023-03-04T21:28:35.609Z"
      },
      {
        "duration": 36,
        "start_time": "2023-03-04T21:28:36.245Z"
      },
      {
        "duration": 118,
        "start_time": "2023-03-04T21:28:36.282Z"
      },
      {
        "duration": 154,
        "start_time": "2023-03-04T21:28:36.402Z"
      },
      {
        "duration": 28,
        "start_time": "2023-03-04T21:28:36.558Z"
      },
      {
        "duration": 21,
        "start_time": "2023-03-04T21:28:36.587Z"
      },
      {
        "duration": 55,
        "start_time": "2023-03-04T21:28:36.610Z"
      },
      {
        "duration": 46,
        "start_time": "2023-03-04T21:28:36.668Z"
      },
      {
        "duration": 126,
        "start_time": "2023-03-04T21:28:36.717Z"
      },
      {
        "duration": 253,
        "start_time": "2023-03-04T21:28:36.844Z"
      },
      {
        "duration": 45,
        "start_time": "2023-03-04T21:28:37.099Z"
      },
      {
        "duration": 4,
        "start_time": "2023-03-04T21:28:37.149Z"
      },
      {
        "duration": 904,
        "start_time": "2023-03-04T21:28:37.155Z"
      },
      {
        "duration": 97,
        "start_time": "2023-03-04T21:28:38.064Z"
      },
      {
        "duration": 34,
        "start_time": "2023-03-04T21:28:38.162Z"
      },
      {
        "duration": 4,
        "start_time": "2023-03-04T21:28:38.198Z"
      },
      {
        "duration": 142,
        "start_time": "2023-03-04T21:28:38.204Z"
      },
      {
        "duration": 63591,
        "start_time": "2023-03-04T21:28:38.348Z"
      },
      {
        "duration": 212,
        "start_time": "2023-03-04T21:29:41.944Z"
      },
      {
        "duration": 1745,
        "start_time": "2023-03-04T22:11:20.559Z"
      },
      {
        "duration": 3224,
        "start_time": "2023-03-04T22:11:22.307Z"
      },
      {
        "duration": 29,
        "start_time": "2023-03-04T22:11:25.533Z"
      },
      {
        "duration": 178,
        "start_time": "2023-03-04T22:11:25.565Z"
      },
      {
        "duration": 352,
        "start_time": "2023-03-04T22:11:25.752Z"
      },
      {
        "duration": 101,
        "start_time": "2023-03-04T22:11:26.106Z"
      },
      {
        "duration": 742,
        "start_time": "2023-03-04T22:11:26.208Z"
      },
      {
        "duration": 429,
        "start_time": "2023-03-04T22:11:26.956Z"
      },
      {
        "duration": 1838,
        "start_time": "2023-03-04T22:11:27.387Z"
      },
      {
        "duration": 2249,
        "start_time": "2023-03-04T22:11:29.228Z"
      },
      {
        "duration": 12,
        "start_time": "2023-03-04T22:11:31.479Z"
      },
      {
        "duration": 25,
        "start_time": "2023-03-04T22:11:31.493Z"
      },
      {
        "duration": 7,
        "start_time": "2023-03-04T22:11:31.520Z"
      },
      {
        "duration": 50,
        "start_time": "2023-03-04T22:11:31.529Z"
      },
      {
        "duration": 671,
        "start_time": "2023-03-04T22:11:31.580Z"
      },
      {
        "duration": 22,
        "start_time": "2023-03-04T22:11:32.260Z"
      },
      {
        "duration": 118,
        "start_time": "2023-03-04T22:11:32.283Z"
      },
      {
        "duration": 142,
        "start_time": "2023-03-04T22:11:32.402Z"
      },
      {
        "duration": 28,
        "start_time": "2023-03-04T22:11:32.545Z"
      },
      {
        "duration": 20,
        "start_time": "2023-03-04T22:11:32.575Z"
      },
      {
        "duration": 21,
        "start_time": "2023-03-04T22:11:32.597Z"
      },
      {
        "duration": 69,
        "start_time": "2023-03-04T22:11:32.620Z"
      },
      {
        "duration": 115,
        "start_time": "2023-03-04T22:11:32.691Z"
      },
      {
        "duration": 216,
        "start_time": "2023-03-04T22:11:32.807Z"
      },
      {
        "duration": 49,
        "start_time": "2023-03-04T22:11:33.025Z"
      },
      {
        "duration": 3,
        "start_time": "2023-03-04T22:11:33.076Z"
      },
      {
        "duration": 770,
        "start_time": "2023-03-04T22:11:33.080Z"
      },
      {
        "duration": 78,
        "start_time": "2023-03-04T22:11:33.856Z"
      },
      {
        "duration": 38,
        "start_time": "2023-03-04T22:11:33.936Z"
      },
      {
        "duration": 4,
        "start_time": "2023-03-04T22:11:33.976Z"
      },
      {
        "duration": 96,
        "start_time": "2023-03-04T22:11:33.982Z"
      },
      {
        "duration": 1726,
        "start_time": "2023-03-05T06:59:49.312Z"
      },
      {
        "duration": 3977,
        "start_time": "2023-03-05T06:59:51.045Z"
      },
      {
        "duration": 23,
        "start_time": "2023-03-05T06:59:55.024Z"
      },
      {
        "duration": 126,
        "start_time": "2023-03-05T06:59:55.049Z"
      },
      {
        "duration": 281,
        "start_time": "2023-03-05T06:59:55.176Z"
      },
      {
        "duration": 93,
        "start_time": "2023-03-05T06:59:55.458Z"
      },
      {
        "duration": 617,
        "start_time": "2023-03-05T06:59:55.553Z"
      },
      {
        "duration": 381,
        "start_time": "2023-03-05T06:59:56.175Z"
      },
      {
        "duration": 1905,
        "start_time": "2023-03-05T06:59:56.564Z"
      },
      {
        "duration": 2106,
        "start_time": "2023-03-05T06:59:58.472Z"
      },
      {
        "duration": 13,
        "start_time": "2023-03-05T07:00:00.580Z"
      },
      {
        "duration": 107,
        "start_time": "2023-03-05T07:00:00.594Z"
      },
      {
        "duration": 11,
        "start_time": "2023-03-05T07:00:00.703Z"
      },
      {
        "duration": 76,
        "start_time": "2023-03-05T07:00:00.717Z"
      },
      {
        "duration": 744,
        "start_time": "2023-03-05T07:00:00.796Z"
      },
      {
        "duration": 21,
        "start_time": "2023-03-05T07:00:01.551Z"
      },
      {
        "duration": 158,
        "start_time": "2023-03-05T07:00:01.574Z"
      },
      {
        "duration": 179,
        "start_time": "2023-03-05T07:00:01.735Z"
      },
      {
        "duration": 20,
        "start_time": "2023-03-05T07:00:01.915Z"
      },
      {
        "duration": 57,
        "start_time": "2023-03-05T07:00:01.942Z"
      },
      {
        "duration": 105,
        "start_time": "2023-03-05T07:00:02.001Z"
      },
      {
        "duration": 136,
        "start_time": "2023-03-05T07:00:02.109Z"
      },
      {
        "duration": 138,
        "start_time": "2023-03-05T07:00:02.247Z"
      },
      {
        "duration": 259,
        "start_time": "2023-03-05T07:00:02.387Z"
      },
      {
        "duration": 60,
        "start_time": "2023-03-05T07:00:02.649Z"
      },
      {
        "duration": 28,
        "start_time": "2023-03-05T07:00:02.712Z"
      },
      {
        "duration": 1049,
        "start_time": "2023-03-05T07:00:02.743Z"
      },
      {
        "duration": 103,
        "start_time": "2023-03-05T07:00:03.797Z"
      },
      {
        "duration": 47,
        "start_time": "2023-03-05T07:00:03.902Z"
      },
      {
        "duration": 14,
        "start_time": "2023-03-05T07:00:03.951Z"
      },
      {
        "duration": 178,
        "start_time": "2023-03-05T07:00:03.980Z"
      },
      {
        "duration": 1457,
        "start_time": "2023-03-05T07:17:35.496Z"
      },
      {
        "duration": 3444,
        "start_time": "2023-03-05T07:17:36.961Z"
      },
      {
        "duration": 22,
        "start_time": "2023-03-05T07:17:40.407Z"
      },
      {
        "duration": 167,
        "start_time": "2023-03-05T07:17:40.431Z"
      },
      {
        "duration": 293,
        "start_time": "2023-03-05T07:17:40.601Z"
      },
      {
        "duration": 85,
        "start_time": "2023-03-05T07:17:40.895Z"
      },
      {
        "duration": 621,
        "start_time": "2023-03-05T07:17:40.981Z"
      },
      {
        "duration": 367,
        "start_time": "2023-03-05T07:17:41.604Z"
      },
      {
        "duration": 1862,
        "start_time": "2023-03-05T07:17:41.973Z"
      },
      {
        "duration": 1884,
        "start_time": "2023-03-05T07:17:43.837Z"
      },
      {
        "duration": 26,
        "start_time": "2023-03-05T07:17:45.723Z"
      },
      {
        "duration": 24,
        "start_time": "2023-03-05T07:17:45.756Z"
      },
      {
        "duration": 6,
        "start_time": "2023-03-05T07:17:45.781Z"
      },
      {
        "duration": 38,
        "start_time": "2023-03-05T07:17:45.789Z"
      },
      {
        "duration": 587,
        "start_time": "2023-03-05T07:17:45.828Z"
      },
      {
        "duration": 31,
        "start_time": "2023-03-05T07:17:46.417Z"
      },
      {
        "duration": 99,
        "start_time": "2023-03-05T07:17:46.450Z"
      },
      {
        "duration": 114,
        "start_time": "2023-03-05T07:17:46.555Z"
      },
      {
        "duration": 28,
        "start_time": "2023-03-05T07:17:46.673Z"
      },
      {
        "duration": 23,
        "start_time": "2023-03-05T07:17:46.704Z"
      },
      {
        "duration": 41,
        "start_time": "2023-03-05T07:17:46.729Z"
      },
      {
        "duration": 42,
        "start_time": "2023-03-05T07:17:46.774Z"
      },
      {
        "duration": 99,
        "start_time": "2023-03-05T07:17:46.818Z"
      },
      {
        "duration": 194,
        "start_time": "2023-03-05T07:17:46.919Z"
      },
      {
        "duration": 53,
        "start_time": "2023-03-05T07:17:47.115Z"
      },
      {
        "duration": 3,
        "start_time": "2023-03-05T07:17:47.173Z"
      },
      {
        "duration": 725,
        "start_time": "2023-03-05T07:17:47.177Z"
      },
      {
        "duration": 95,
        "start_time": "2023-03-05T07:17:47.904Z"
      },
      {
        "duration": 31,
        "start_time": "2023-03-05T07:17:48.000Z"
      },
      {
        "duration": 16,
        "start_time": "2023-03-05T07:17:48.032Z"
      },
      {
        "duration": 115,
        "start_time": "2023-03-05T07:17:48.054Z"
      },
      {
        "duration": 17629,
        "start_time": "2023-03-05T07:17:48.171Z"
      },
      {
        "duration": 164,
        "start_time": "2023-03-05T07:18:05.801Z"
      },
      {
        "duration": 1391,
        "start_time": "2023-03-05T07:18:17.884Z"
      },
      {
        "duration": 742,
        "start_time": "2023-03-05T07:18:19.279Z"
      },
      {
        "duration": 21,
        "start_time": "2023-03-05T07:18:20.023Z"
      },
      {
        "duration": 132,
        "start_time": "2023-03-05T07:18:20.050Z"
      },
      {
        "duration": 264,
        "start_time": "2023-03-05T07:18:20.184Z"
      },
      {
        "duration": 73,
        "start_time": "2023-03-05T07:18:20.455Z"
      },
      {
        "duration": 572,
        "start_time": "2023-03-05T07:18:20.530Z"
      },
      {
        "duration": 367,
        "start_time": "2023-03-05T07:18:21.104Z"
      },
      {
        "duration": 1718,
        "start_time": "2023-03-05T07:18:21.473Z"
      },
      {
        "duration": 1673,
        "start_time": "2023-03-05T07:18:23.192Z"
      },
      {
        "duration": 10,
        "start_time": "2023-03-05T07:18:24.868Z"
      },
      {
        "duration": 22,
        "start_time": "2023-03-05T07:18:24.880Z"
      },
      {
        "duration": 6,
        "start_time": "2023-03-05T07:18:24.904Z"
      },
      {
        "duration": 60,
        "start_time": "2023-03-05T07:18:24.914Z"
      },
      {
        "duration": 558,
        "start_time": "2023-03-05T07:18:24.976Z"
      },
      {
        "duration": 26,
        "start_time": "2023-03-05T07:18:25.536Z"
      },
      {
        "duration": 94,
        "start_time": "2023-03-05T07:18:25.563Z"
      },
      {
        "duration": 103,
        "start_time": "2023-03-05T07:18:25.659Z"
      },
      {
        "duration": 18,
        "start_time": "2023-03-05T07:18:25.766Z"
      },
      {
        "duration": 22,
        "start_time": "2023-03-05T07:18:25.786Z"
      },
      {
        "duration": 20,
        "start_time": "2023-03-05T07:18:25.810Z"
      },
      {
        "duration": 48,
        "start_time": "2023-03-05T07:18:25.831Z"
      },
      {
        "duration": 75,
        "start_time": "2023-03-05T07:18:25.881Z"
      },
      {
        "duration": 189,
        "start_time": "2023-03-05T07:18:25.962Z"
      },
      {
        "duration": 30,
        "start_time": "2023-03-05T07:18:26.160Z"
      },
      {
        "duration": 2,
        "start_time": "2023-03-05T07:18:26.192Z"
      },
      {
        "duration": 692,
        "start_time": "2023-03-05T07:18:26.195Z"
      },
      {
        "duration": 83,
        "start_time": "2023-03-05T07:18:26.889Z"
      },
      {
        "duration": 32,
        "start_time": "2023-03-05T07:18:26.975Z"
      },
      {
        "duration": 3,
        "start_time": "2023-03-05T07:18:27.009Z"
      },
      {
        "duration": 132,
        "start_time": "2023-03-05T07:18:27.014Z"
      },
      {
        "duration": 58090,
        "start_time": "2023-03-05T07:18:27.147Z"
      },
      {
        "duration": 171,
        "start_time": "2023-03-05T07:19:25.239Z"
      },
      {
        "duration": 1466,
        "start_time": "2023-03-05T07:19:36.803Z"
      },
      {
        "duration": 799,
        "start_time": "2023-03-05T07:19:38.271Z"
      },
      {
        "duration": 18,
        "start_time": "2023-03-05T07:19:39.072Z"
      },
      {
        "duration": 131,
        "start_time": "2023-03-05T07:19:39.092Z"
      },
      {
        "duration": 281,
        "start_time": "2023-03-05T07:19:39.225Z"
      },
      {
        "duration": 82,
        "start_time": "2023-03-05T07:19:39.507Z"
      },
      {
        "duration": 564,
        "start_time": "2023-03-05T07:19:39.591Z"
      },
      {
        "duration": 319,
        "start_time": "2023-03-05T07:19:40.157Z"
      },
      {
        "duration": 1606,
        "start_time": "2023-03-05T07:19:40.477Z"
      },
      {
        "duration": 1811,
        "start_time": "2023-03-05T07:19:42.085Z"
      },
      {
        "duration": 10,
        "start_time": "2023-03-05T07:19:43.898Z"
      },
      {
        "duration": 48,
        "start_time": "2023-03-05T07:19:43.910Z"
      },
      {
        "duration": 6,
        "start_time": "2023-03-05T07:19:43.960Z"
      },
      {
        "duration": 37,
        "start_time": "2023-03-05T07:19:43.969Z"
      },
      {
        "duration": 601,
        "start_time": "2023-03-05T07:19:44.008Z"
      },
      {
        "duration": 41,
        "start_time": "2023-03-05T07:19:44.610Z"
      },
      {
        "duration": 84,
        "start_time": "2023-03-05T07:19:44.655Z"
      },
      {
        "duration": 118,
        "start_time": "2023-03-05T07:19:44.740Z"
      },
      {
        "duration": 20,
        "start_time": "2023-03-05T07:19:44.860Z"
      },
      {
        "duration": 23,
        "start_time": "2023-03-05T07:19:44.881Z"
      },
      {
        "duration": 20,
        "start_time": "2023-03-05T07:19:44.906Z"
      },
      {
        "duration": 49,
        "start_time": "2023-03-05T07:19:44.928Z"
      },
      {
        "duration": 100,
        "start_time": "2023-03-05T07:19:44.979Z"
      },
      {
        "duration": 196,
        "start_time": "2023-03-05T07:19:45.081Z"
      },
      {
        "duration": 32,
        "start_time": "2023-03-05T07:19:45.279Z"
      },
      {
        "duration": 3,
        "start_time": "2023-03-05T07:19:45.312Z"
      },
      {
        "duration": 743,
        "start_time": "2023-03-05T07:19:45.317Z"
      },
      {
        "duration": 89,
        "start_time": "2023-03-05T07:19:46.062Z"
      },
      {
        "duration": 33,
        "start_time": "2023-03-05T07:19:46.153Z"
      },
      {
        "duration": 4,
        "start_time": "2023-03-05T07:19:46.188Z"
      },
      {
        "duration": 82,
        "start_time": "2023-03-05T07:19:46.193Z"
      },
      {
        "duration": 1138431,
        "start_time": "2023-03-05T07:19:46.343Z"
      },
      {
        "duration": 179,
        "start_time": "2023-03-05T07:38:44.775Z"
      },
      {
        "duration": 1508,
        "start_time": "2023-03-05T07:46:40.966Z"
      },
      {
        "duration": 824,
        "start_time": "2023-03-05T07:46:42.477Z"
      },
      {
        "duration": 15,
        "start_time": "2023-03-05T07:46:43.303Z"
      },
      {
        "duration": 138,
        "start_time": "2023-03-05T07:46:43.319Z"
      },
      {
        "duration": 290,
        "start_time": "2023-03-05T07:46:43.463Z"
      },
      {
        "duration": 100,
        "start_time": "2023-03-05T07:46:43.758Z"
      },
      {
        "duration": 561,
        "start_time": "2023-03-05T07:46:43.866Z"
      },
      {
        "duration": 384,
        "start_time": "2023-03-05T07:46:44.429Z"
      },
      {
        "duration": 1916,
        "start_time": "2023-03-05T07:46:44.815Z"
      },
      {
        "duration": 2049,
        "start_time": "2023-03-05T07:46:46.733Z"
      },
      {
        "duration": 10,
        "start_time": "2023-03-05T07:46:48.784Z"
      },
      {
        "duration": 29,
        "start_time": "2023-03-05T07:46:48.795Z"
      },
      {
        "duration": 35,
        "start_time": "2023-03-05T07:46:48.826Z"
      },
      {
        "duration": 61,
        "start_time": "2023-03-05T07:46:48.866Z"
      },
      {
        "duration": 643,
        "start_time": "2023-03-05T07:46:48.929Z"
      },
      {
        "duration": 19,
        "start_time": "2023-03-05T07:46:49.574Z"
      },
      {
        "duration": 136,
        "start_time": "2023-03-05T07:46:49.595Z"
      },
      {
        "duration": 131,
        "start_time": "2023-03-05T07:46:49.734Z"
      },
      {
        "duration": 19,
        "start_time": "2023-03-05T07:46:49.867Z"
      },
      {
        "duration": 18,
        "start_time": "2023-03-05T07:46:49.887Z"
      },
      {
        "duration": 25,
        "start_time": "2023-03-05T07:46:49.907Z"
      },
      {
        "duration": 73,
        "start_time": "2023-03-05T07:46:49.934Z"
      },
      {
        "duration": 90,
        "start_time": "2023-03-05T07:46:50.008Z"
      },
      {
        "duration": 204,
        "start_time": "2023-03-05T07:46:50.100Z"
      },
      {
        "duration": 45,
        "start_time": "2023-03-05T07:46:50.306Z"
      },
      {
        "duration": 5,
        "start_time": "2023-03-05T07:46:50.353Z"
      },
      {
        "duration": 756,
        "start_time": "2023-03-05T07:46:50.360Z"
      },
      {
        "duration": 87,
        "start_time": "2023-03-05T07:46:51.117Z"
      },
      {
        "duration": 57,
        "start_time": "2023-03-05T07:46:51.205Z"
      },
      {
        "duration": 8,
        "start_time": "2023-03-05T07:46:51.270Z"
      },
      {
        "duration": 111,
        "start_time": "2023-03-05T07:46:51.280Z"
      },
      {
        "duration": 1122592,
        "start_time": "2023-03-05T07:46:51.393Z"
      },
      {
        "duration": 188,
        "start_time": "2023-03-05T08:05:33.987Z"
      },
      {
        "duration": 276,
        "start_time": "2023-03-05T08:09:03.657Z"
      },
      {
        "duration": 108,
        "start_time": "2023-03-05T08:09:09.581Z"
      },
      {
        "duration": 4,
        "start_time": "2023-03-05T08:09:32.723Z"
      },
      {
        "duration": 7125,
        "start_time": "2023-03-05T08:09:37.730Z"
      },
      {
        "duration": 109921,
        "start_time": "2023-03-05T08:21:43.551Z"
      },
      {
        "duration": 49692,
        "start_time": "2023-03-05T08:23:53.476Z"
      },
      {
        "duration": 200,
        "start_time": "2023-03-05T08:36:17.026Z"
      },
      {
        "duration": 249723,
        "start_time": "2023-03-05T08:36:34.767Z"
      },
      {
        "duration": 1601,
        "start_time": "2023-03-05T10:42:04.832Z"
      },
      {
        "duration": 2914,
        "start_time": "2023-03-05T10:42:06.435Z"
      },
      {
        "duration": 17,
        "start_time": "2023-03-05T10:42:09.351Z"
      },
      {
        "duration": 115,
        "start_time": "2023-03-05T10:42:09.370Z"
      },
      {
        "duration": 292,
        "start_time": "2023-03-05T10:42:09.488Z"
      },
      {
        "duration": 87,
        "start_time": "2023-03-05T10:42:09.782Z"
      },
      {
        "duration": 618,
        "start_time": "2023-03-05T10:42:09.870Z"
      },
      {
        "duration": 350,
        "start_time": "2023-03-05T10:42:10.490Z"
      },
      {
        "duration": 1676,
        "start_time": "2023-03-05T10:42:10.841Z"
      },
      {
        "duration": 1752,
        "start_time": "2023-03-05T10:42:12.519Z"
      },
      {
        "duration": 11,
        "start_time": "2023-03-05T10:42:14.272Z"
      },
      {
        "duration": 37,
        "start_time": "2023-03-05T10:42:14.284Z"
      },
      {
        "duration": 6,
        "start_time": "2023-03-05T10:42:14.323Z"
      },
      {
        "duration": 38,
        "start_time": "2023-03-05T10:42:14.333Z"
      },
      {
        "duration": 598,
        "start_time": "2023-03-05T10:42:14.373Z"
      },
      {
        "duration": 20,
        "start_time": "2023-03-05T10:42:14.973Z"
      },
      {
        "duration": 101,
        "start_time": "2023-03-05T10:42:14.994Z"
      },
      {
        "duration": 112,
        "start_time": "2023-03-05T10:42:15.097Z"
      },
      {
        "duration": 23,
        "start_time": "2023-03-05T10:42:15.212Z"
      },
      {
        "duration": 17,
        "start_time": "2023-03-05T10:42:15.237Z"
      },
      {
        "duration": 23,
        "start_time": "2023-03-05T10:42:15.256Z"
      },
      {
        "duration": 58,
        "start_time": "2023-03-05T10:42:15.280Z"
      },
      {
        "duration": 85,
        "start_time": "2023-03-05T10:42:15.340Z"
      },
      {
        "duration": 186,
        "start_time": "2023-03-05T10:42:15.427Z"
      },
      {
        "duration": 38,
        "start_time": "2023-03-05T10:42:15.615Z"
      },
      {
        "duration": 3,
        "start_time": "2023-03-05T10:42:15.654Z"
      },
      {
        "duration": 684,
        "start_time": "2023-03-05T10:42:15.659Z"
      },
      {
        "duration": 88,
        "start_time": "2023-03-05T10:42:16.344Z"
      },
      {
        "duration": 30,
        "start_time": "2023-03-05T10:42:16.434Z"
      },
      {
        "duration": 4,
        "start_time": "2023-03-05T10:42:16.465Z"
      },
      {
        "duration": 80,
        "start_time": "2023-03-05T10:42:16.470Z"
      },
      {
        "duration": 18692,
        "start_time": "2023-03-05T10:42:16.621Z"
      },
      {
        "duration": 176,
        "start_time": "2023-03-05T10:42:35.315Z"
      },
      {
        "duration": 8049,
        "start_time": "2023-03-05T10:42:35.493Z"
      },
      {
        "duration": 1450,
        "start_time": "2023-03-05T10:43:07.667Z"
      },
      {
        "duration": 806,
        "start_time": "2023-03-05T10:43:09.119Z"
      },
      {
        "duration": 18,
        "start_time": "2023-03-05T10:43:09.927Z"
      },
      {
        "duration": 124,
        "start_time": "2023-03-05T10:43:09.947Z"
      },
      {
        "duration": 300,
        "start_time": "2023-03-05T10:43:10.074Z"
      },
      {
        "duration": 84,
        "start_time": "2023-03-05T10:43:10.376Z"
      },
      {
        "duration": 627,
        "start_time": "2023-03-05T10:43:10.461Z"
      },
      {
        "duration": 370,
        "start_time": "2023-03-05T10:43:11.090Z"
      },
      {
        "duration": 1635,
        "start_time": "2023-03-05T10:43:11.462Z"
      },
      {
        "duration": 1676,
        "start_time": "2023-03-05T10:43:13.099Z"
      },
      {
        "duration": 11,
        "start_time": "2023-03-05T10:43:14.777Z"
      },
      {
        "duration": 41,
        "start_time": "2023-03-05T10:43:14.789Z"
      },
      {
        "duration": 6,
        "start_time": "2023-03-05T10:43:14.832Z"
      },
      {
        "duration": 45,
        "start_time": "2023-03-05T10:43:14.841Z"
      },
      {
        "duration": 550,
        "start_time": "2023-03-05T10:43:14.887Z"
      },
      {
        "duration": 21,
        "start_time": "2023-03-05T10:43:15.439Z"
      },
      {
        "duration": 95,
        "start_time": "2023-03-05T10:43:15.462Z"
      },
      {
        "duration": 120,
        "start_time": "2023-03-05T10:43:15.559Z"
      },
      {
        "duration": 19,
        "start_time": "2023-03-05T10:43:15.681Z"
      },
      {
        "duration": 26,
        "start_time": "2023-03-05T10:43:15.702Z"
      },
      {
        "duration": 20,
        "start_time": "2023-03-05T10:43:15.729Z"
      },
      {
        "duration": 44,
        "start_time": "2023-03-05T10:43:15.750Z"
      },
      {
        "duration": 102,
        "start_time": "2023-03-05T10:43:15.795Z"
      },
      {
        "duration": 184,
        "start_time": "2023-03-05T10:43:15.899Z"
      },
      {
        "duration": 42,
        "start_time": "2023-03-05T10:43:16.085Z"
      },
      {
        "duration": 2,
        "start_time": "2023-03-05T10:43:16.129Z"
      },
      {
        "duration": 670,
        "start_time": "2023-03-05T10:43:16.133Z"
      },
      {
        "duration": 87,
        "start_time": "2023-03-05T10:43:16.805Z"
      },
      {
        "duration": 41,
        "start_time": "2023-03-05T10:43:16.894Z"
      },
      {
        "duration": 4,
        "start_time": "2023-03-05T10:43:16.937Z"
      },
      {
        "duration": 82,
        "start_time": "2023-03-05T10:43:16.942Z"
      },
      {
        "duration": 617428,
        "start_time": "2023-03-05T10:43:17.026Z"
      },
      {
        "duration": 162,
        "start_time": "2023-03-05T10:53:34.455Z"
      },
      {
        "duration": 7710,
        "start_time": "2023-03-05T10:53:34.620Z"
      },
      {
        "duration": 1478,
        "start_time": "2023-03-05T11:03:42.640Z"
      },
      {
        "duration": 787,
        "start_time": "2023-03-05T11:03:44.121Z"
      },
      {
        "duration": 17,
        "start_time": "2023-03-05T11:03:44.910Z"
      },
      {
        "duration": 126,
        "start_time": "2023-03-05T11:03:44.929Z"
      },
      {
        "duration": 264,
        "start_time": "2023-03-05T11:03:45.057Z"
      },
      {
        "duration": 73,
        "start_time": "2023-03-05T11:03:45.323Z"
      },
      {
        "duration": 572,
        "start_time": "2023-03-05T11:03:45.398Z"
      },
      {
        "duration": 334,
        "start_time": "2023-03-05T11:03:45.971Z"
      },
      {
        "duration": 1671,
        "start_time": "2023-03-05T11:03:46.306Z"
      },
      {
        "duration": 1684,
        "start_time": "2023-03-05T11:03:47.979Z"
      },
      {
        "duration": 10,
        "start_time": "2023-03-05T11:03:49.665Z"
      },
      {
        "duration": 25,
        "start_time": "2023-03-05T11:03:49.677Z"
      },
      {
        "duration": 23,
        "start_time": "2023-03-05T11:03:49.703Z"
      },
      {
        "duration": 40,
        "start_time": "2023-03-05T11:03:49.729Z"
      },
      {
        "duration": 606,
        "start_time": "2023-03-05T11:03:49.771Z"
      },
      {
        "duration": 19,
        "start_time": "2023-03-05T11:03:50.379Z"
      },
      {
        "duration": 89,
        "start_time": "2023-03-05T11:03:50.400Z"
      },
      {
        "duration": 105,
        "start_time": "2023-03-05T11:03:50.490Z"
      },
      {
        "duration": 24,
        "start_time": "2023-03-05T11:03:50.597Z"
      },
      {
        "duration": 18,
        "start_time": "2023-03-05T11:03:50.623Z"
      },
      {
        "duration": 22,
        "start_time": "2023-03-05T11:03:50.642Z"
      },
      {
        "duration": 66,
        "start_time": "2023-03-05T11:03:50.666Z"
      },
      {
        "duration": 76,
        "start_time": "2023-03-05T11:03:50.733Z"
      },
      {
        "duration": 203,
        "start_time": "2023-03-05T11:03:50.811Z"
      },
      {
        "duration": 36,
        "start_time": "2023-03-05T11:03:51.016Z"
      },
      {
        "duration": 3,
        "start_time": "2023-03-05T11:03:51.054Z"
      },
      {
        "duration": 678,
        "start_time": "2023-03-05T11:03:51.059Z"
      },
      {
        "duration": 95,
        "start_time": "2023-03-05T11:03:51.739Z"
      },
      {
        "duration": 34,
        "start_time": "2023-03-05T11:03:51.836Z"
      },
      {
        "duration": 5,
        "start_time": "2023-03-05T11:03:51.872Z"
      },
      {
        "duration": 145,
        "start_time": "2023-03-05T11:03:51.878Z"
      },
      {
        "duration": 634729,
        "start_time": "2023-03-05T11:03:52.024Z"
      },
      {
        "duration": 166,
        "start_time": "2023-03-05T11:14:26.755Z"
      },
      {
        "duration": 25103,
        "start_time": "2023-03-05T11:14:26.937Z"
      },
      {
        "duration": 42435,
        "start_time": "2023-03-05T11:19:47.208Z"
      },
      {
        "duration": 4,
        "start_time": "2023-03-05T12:29:12.874Z"
      },
      {
        "duration": 1522,
        "start_time": "2023-03-05T13:29:31.723Z"
      },
      {
        "duration": 862,
        "start_time": "2023-03-05T13:29:33.248Z"
      },
      {
        "duration": 26,
        "start_time": "2023-03-05T13:29:34.113Z"
      },
      {
        "duration": 148,
        "start_time": "2023-03-05T13:29:34.142Z"
      },
      {
        "duration": 301,
        "start_time": "2023-03-05T13:29:34.292Z"
      },
      {
        "duration": 83,
        "start_time": "2023-03-05T13:29:34.596Z"
      },
      {
        "duration": 586,
        "start_time": "2023-03-05T13:29:34.680Z"
      },
      {
        "duration": 350,
        "start_time": "2023-03-05T13:29:35.268Z"
      },
      {
        "duration": 1751,
        "start_time": "2023-03-05T13:29:35.620Z"
      },
      {
        "duration": 1782,
        "start_time": "2023-03-05T13:29:37.374Z"
      },
      {
        "duration": 12,
        "start_time": "2023-03-05T13:29:39.157Z"
      },
      {
        "duration": 26,
        "start_time": "2023-03-05T13:29:39.170Z"
      },
      {
        "duration": 28,
        "start_time": "2023-03-05T13:29:39.198Z"
      },
      {
        "duration": 37,
        "start_time": "2023-03-05T13:29:39.228Z"
      },
      {
        "duration": 632,
        "start_time": "2023-03-05T13:29:39.267Z"
      },
      {
        "duration": 25,
        "start_time": "2023-03-05T13:29:39.902Z"
      },
      {
        "duration": 94,
        "start_time": "2023-03-05T13:29:39.928Z"
      },
      {
        "duration": 104,
        "start_time": "2023-03-05T13:29:40.024Z"
      },
      {
        "duration": 21,
        "start_time": "2023-03-05T13:29:40.129Z"
      },
      {
        "duration": 19,
        "start_time": "2023-03-05T13:29:40.152Z"
      },
      {
        "duration": 21,
        "start_time": "2023-03-05T13:29:40.172Z"
      },
      {
        "duration": 76,
        "start_time": "2023-03-05T13:29:40.194Z"
      },
      {
        "duration": 110,
        "start_time": "2023-03-05T13:29:40.273Z"
      },
      {
        "duration": 199,
        "start_time": "2023-03-05T13:29:40.385Z"
      },
      {
        "duration": 49,
        "start_time": "2023-03-05T13:29:40.586Z"
      },
      {
        "duration": 3,
        "start_time": "2023-03-05T13:29:40.637Z"
      },
      {
        "duration": 696,
        "start_time": "2023-03-05T13:29:40.641Z"
      },
      {
        "duration": 94,
        "start_time": "2023-03-05T13:29:41.340Z"
      },
      {
        "duration": 31,
        "start_time": "2023-03-05T13:29:41.436Z"
      },
      {
        "duration": 4,
        "start_time": "2023-03-05T13:29:41.469Z"
      },
      {
        "duration": 256,
        "start_time": "2023-03-05T13:29:41.475Z"
      },
      {
        "duration": 130,
        "start_time": "2023-03-05T13:29:41.733Z"
      },
      {
        "duration": 3,
        "start_time": "2023-03-05T13:29:41.865Z"
      },
      {
        "duration": 188,
        "start_time": "2023-03-05T13:29:41.870Z"
      },
      {
        "duration": 1483,
        "start_time": "2023-03-05T13:47:19.776Z"
      },
      {
        "duration": 832,
        "start_time": "2023-03-05T13:47:21.261Z"
      },
      {
        "duration": 19,
        "start_time": "2023-03-05T13:47:22.095Z"
      },
      {
        "duration": 120,
        "start_time": "2023-03-05T13:47:22.122Z"
      },
      {
        "duration": 281,
        "start_time": "2023-03-05T13:47:22.244Z"
      },
      {
        "duration": 76,
        "start_time": "2023-03-05T13:47:22.527Z"
      },
      {
        "duration": 601,
        "start_time": "2023-03-05T13:47:22.605Z"
      },
      {
        "duration": 355,
        "start_time": "2023-03-05T13:47:23.208Z"
      },
      {
        "duration": 2005,
        "start_time": "2023-03-05T13:47:23.564Z"
      },
      {
        "duration": 1872,
        "start_time": "2023-03-05T13:47:25.571Z"
      },
      {
        "duration": 14,
        "start_time": "2023-03-05T13:47:27.446Z"
      },
      {
        "duration": 39,
        "start_time": "2023-03-05T13:47:27.462Z"
      },
      {
        "duration": 24,
        "start_time": "2023-03-05T13:47:27.503Z"
      },
      {
        "duration": 44,
        "start_time": "2023-03-05T13:47:27.531Z"
      },
      {
        "duration": 598,
        "start_time": "2023-03-05T13:47:27.578Z"
      },
      {
        "duration": 24,
        "start_time": "2023-03-05T13:47:28.178Z"
      },
      {
        "duration": 103,
        "start_time": "2023-03-05T13:47:28.220Z"
      },
      {
        "duration": 125,
        "start_time": "2023-03-05T13:47:28.325Z"
      },
      {
        "duration": 20,
        "start_time": "2023-03-05T13:47:28.452Z"
      },
      {
        "duration": 19,
        "start_time": "2023-03-05T13:47:28.474Z"
      },
      {
        "duration": 42,
        "start_time": "2023-03-05T13:47:28.494Z"
      },
      {
        "duration": 43,
        "start_time": "2023-03-05T13:47:28.538Z"
      },
      {
        "duration": 95,
        "start_time": "2023-03-05T13:47:28.583Z"
      },
      {
        "duration": 243,
        "start_time": "2023-03-05T13:47:28.679Z"
      },
      {
        "duration": 43,
        "start_time": "2023-03-05T13:47:28.924Z"
      },
      {
        "duration": 3,
        "start_time": "2023-03-05T13:47:28.970Z"
      },
      {
        "duration": 797,
        "start_time": "2023-03-05T13:47:28.975Z"
      },
      {
        "duration": 106,
        "start_time": "2023-03-05T13:47:29.774Z"
      },
      {
        "duration": 52,
        "start_time": "2023-03-05T13:47:29.883Z"
      },
      {
        "duration": 5,
        "start_time": "2023-03-05T13:47:29.937Z"
      },
      {
        "duration": 338,
        "start_time": "2023-03-05T13:47:29.944Z"
      },
      {
        "duration": 204,
        "start_time": "2023-03-05T13:47:30.284Z"
      },
      {
        "duration": 3,
        "start_time": "2023-03-05T13:47:30.491Z"
      },
      {
        "duration": 279,
        "start_time": "2023-03-05T13:47:30.497Z"
      },
      {
        "duration": 1577,
        "start_time": "2023-03-05T13:52:56.543Z"
      },
      {
        "duration": 842,
        "start_time": "2023-03-05T13:52:58.122Z"
      },
      {
        "duration": 17,
        "start_time": "2023-03-05T13:52:58.966Z"
      },
      {
        "duration": 123,
        "start_time": "2023-03-05T13:52:58.985Z"
      },
      {
        "duration": 287,
        "start_time": "2023-03-05T13:52:59.110Z"
      },
      {
        "duration": 89,
        "start_time": "2023-03-05T13:52:59.399Z"
      },
      {
        "duration": 663,
        "start_time": "2023-03-05T13:52:59.489Z"
      },
      {
        "duration": 403,
        "start_time": "2023-03-05T13:53:00.153Z"
      },
      {
        "duration": 1740,
        "start_time": "2023-03-05T13:53:00.558Z"
      },
      {
        "duration": 1850,
        "start_time": "2023-03-05T13:53:02.300Z"
      },
      {
        "duration": 11,
        "start_time": "2023-03-05T13:53:04.152Z"
      },
      {
        "duration": 52,
        "start_time": "2023-03-05T13:53:04.164Z"
      },
      {
        "duration": 6,
        "start_time": "2023-03-05T13:53:04.219Z"
      },
      {
        "duration": 52,
        "start_time": "2023-03-05T13:53:04.226Z"
      },
      {
        "duration": 600,
        "start_time": "2023-03-05T13:53:04.280Z"
      },
      {
        "duration": 22,
        "start_time": "2023-03-05T13:53:04.881Z"
      },
      {
        "duration": 97,
        "start_time": "2023-03-05T13:53:04.905Z"
      },
      {
        "duration": 127,
        "start_time": "2023-03-05T13:53:05.003Z"
      },
      {
        "duration": 19,
        "start_time": "2023-03-05T13:53:05.132Z"
      },
      {
        "duration": 18,
        "start_time": "2023-03-05T13:53:05.153Z"
      },
      {
        "duration": 19,
        "start_time": "2023-03-05T13:53:05.173Z"
      },
      {
        "duration": 62,
        "start_time": "2023-03-05T13:53:05.194Z"
      },
      {
        "duration": 94,
        "start_time": "2023-03-05T13:53:05.258Z"
      },
      {
        "duration": 213,
        "start_time": "2023-03-05T13:53:05.354Z"
      },
      {
        "duration": 34,
        "start_time": "2023-03-05T13:53:05.569Z"
      },
      {
        "duration": 16,
        "start_time": "2023-03-05T13:53:05.605Z"
      },
      {
        "duration": 688,
        "start_time": "2023-03-05T13:53:05.623Z"
      },
      {
        "duration": 92,
        "start_time": "2023-03-05T13:53:06.315Z"
      },
      {
        "duration": 43,
        "start_time": "2023-03-05T13:53:06.411Z"
      },
      {
        "duration": 5,
        "start_time": "2023-03-05T13:53:06.456Z"
      },
      {
        "duration": 237,
        "start_time": "2023-03-05T13:53:06.463Z"
      },
      {
        "duration": 148,
        "start_time": "2023-03-05T13:53:06.702Z"
      },
      {
        "duration": 3,
        "start_time": "2023-03-05T13:53:06.852Z"
      },
      {
        "duration": 192,
        "start_time": "2023-03-05T13:53:06.856Z"
      },
      {
        "duration": 1479,
        "start_time": "2023-03-05T14:00:34.767Z"
      },
      {
        "duration": 831,
        "start_time": "2023-03-05T14:00:36.248Z"
      },
      {
        "duration": 18,
        "start_time": "2023-03-05T14:00:37.080Z"
      },
      {
        "duration": 125,
        "start_time": "2023-03-05T14:00:37.100Z"
      },
      {
        "duration": 303,
        "start_time": "2023-03-05T14:00:37.227Z"
      },
      {
        "duration": 76,
        "start_time": "2023-03-05T14:00:37.531Z"
      },
      {
        "duration": 591,
        "start_time": "2023-03-05T14:00:37.621Z"
      },
      {
        "duration": 352,
        "start_time": "2023-03-05T14:00:38.221Z"
      },
      {
        "duration": 1899,
        "start_time": "2023-03-05T14:00:38.575Z"
      },
      {
        "duration": 1975,
        "start_time": "2023-03-05T14:00:40.478Z"
      },
      {
        "duration": 10,
        "start_time": "2023-03-05T14:00:42.455Z"
      },
      {
        "duration": 26,
        "start_time": "2023-03-05T14:00:42.467Z"
      },
      {
        "duration": 28,
        "start_time": "2023-03-05T14:00:42.495Z"
      },
      {
        "duration": 40,
        "start_time": "2023-03-05T14:00:42.525Z"
      },
      {
        "duration": 619,
        "start_time": "2023-03-05T14:00:42.566Z"
      },
      {
        "duration": 34,
        "start_time": "2023-03-05T14:00:43.187Z"
      },
      {
        "duration": 83,
        "start_time": "2023-03-05T14:00:43.223Z"
      },
      {
        "duration": 141,
        "start_time": "2023-03-05T14:00:43.308Z"
      },
      {
        "duration": 21,
        "start_time": "2023-03-05T14:00:43.451Z"
      },
      {
        "duration": 20,
        "start_time": "2023-03-05T14:00:43.474Z"
      },
      {
        "duration": 41,
        "start_time": "2023-03-05T14:00:43.496Z"
      },
      {
        "duration": 43,
        "start_time": "2023-03-05T14:00:43.538Z"
      },
      {
        "duration": 92,
        "start_time": "2023-03-05T14:00:43.583Z"
      },
      {
        "duration": 207,
        "start_time": "2023-03-05T14:00:43.677Z"
      },
      {
        "duration": 45,
        "start_time": "2023-03-05T14:00:43.888Z"
      },
      {
        "duration": 2,
        "start_time": "2023-03-05T14:00:43.935Z"
      },
      {
        "duration": 694,
        "start_time": "2023-03-05T14:00:43.939Z"
      },
      {
        "duration": 89,
        "start_time": "2023-03-05T14:00:44.636Z"
      },
      {
        "duration": 30,
        "start_time": "2023-03-05T14:00:44.727Z"
      },
      {
        "duration": 6,
        "start_time": "2023-03-05T14:00:44.759Z"
      },
      {
        "duration": 324,
        "start_time": "2023-03-05T14:00:44.767Z"
      },
      {
        "duration": 1637,
        "start_time": "2023-03-05T14:01:20.462Z"
      },
      {
        "duration": 911,
        "start_time": "2023-03-05T14:01:22.101Z"
      },
      {
        "duration": 28,
        "start_time": "2023-03-05T14:01:23.014Z"
      },
      {
        "duration": 146,
        "start_time": "2023-03-05T14:01:23.044Z"
      },
      {
        "duration": 319,
        "start_time": "2023-03-05T14:01:23.193Z"
      },
      {
        "duration": 87,
        "start_time": "2023-03-05T14:01:23.513Z"
      },
      {
        "duration": 723,
        "start_time": "2023-03-05T14:01:23.601Z"
      },
      {
        "duration": 475,
        "start_time": "2023-03-05T14:01:24.326Z"
      },
      {
        "duration": 2091,
        "start_time": "2023-03-05T14:01:24.803Z"
      },
      {
        "duration": 1903,
        "start_time": "2023-03-05T14:01:26.896Z"
      },
      {
        "duration": 21,
        "start_time": "2023-03-05T14:01:28.801Z"
      },
      {
        "duration": 29,
        "start_time": "2023-03-05T14:01:28.824Z"
      },
      {
        "duration": 8,
        "start_time": "2023-03-05T14:01:28.855Z"
      },
      {
        "duration": 64,
        "start_time": "2023-03-05T14:01:28.866Z"
      },
      {
        "duration": 636,
        "start_time": "2023-03-05T14:01:28.933Z"
      },
      {
        "duration": 23,
        "start_time": "2023-03-05T14:01:29.570Z"
      },
      {
        "duration": 109,
        "start_time": "2023-03-05T14:01:29.595Z"
      },
      {
        "duration": 121,
        "start_time": "2023-03-05T14:01:29.706Z"
      },
      {
        "duration": 26,
        "start_time": "2023-03-05T14:01:29.830Z"
      },
      {
        "duration": 20,
        "start_time": "2023-03-05T14:01:29.858Z"
      },
      {
        "duration": 19,
        "start_time": "2023-03-05T14:01:29.880Z"
      },
      {
        "duration": 45,
        "start_time": "2023-03-05T14:01:29.922Z"
      },
      {
        "duration": 95,
        "start_time": "2023-03-05T14:01:29.969Z"
      },
      {
        "duration": 199,
        "start_time": "2023-03-05T14:01:30.066Z"
      },
      {
        "duration": 35,
        "start_time": "2023-03-05T14:01:30.268Z"
      },
      {
        "duration": 3,
        "start_time": "2023-03-05T14:01:30.306Z"
      },
      {
        "duration": 896,
        "start_time": "2023-03-05T14:01:30.326Z"
      },
      {
        "duration": 87,
        "start_time": "2023-03-05T14:01:31.224Z"
      },
      {
        "duration": 45,
        "start_time": "2023-03-05T14:01:31.313Z"
      },
      {
        "duration": 6,
        "start_time": "2023-03-05T14:01:31.360Z"
      },
      {
        "duration": 427,
        "start_time": "2023-03-05T14:01:31.369Z"
      },
      {
        "duration": 1553,
        "start_time": "2023-03-05T14:02:27.909Z"
      },
      {
        "duration": 899,
        "start_time": "2023-03-05T14:02:29.464Z"
      },
      {
        "duration": 18,
        "start_time": "2023-03-05T14:02:30.365Z"
      },
      {
        "duration": 223,
        "start_time": "2023-03-05T14:02:30.386Z"
      },
      {
        "duration": 397,
        "start_time": "2023-03-05T14:02:30.611Z"
      },
      {
        "duration": 97,
        "start_time": "2023-03-05T14:02:31.010Z"
      },
      {
        "duration": 655,
        "start_time": "2023-03-05T14:02:31.110Z"
      },
      {
        "duration": 452,
        "start_time": "2023-03-05T14:02:31.767Z"
      },
      {
        "duration": 1919,
        "start_time": "2023-03-05T14:02:32.220Z"
      },
      {
        "duration": 2257,
        "start_time": "2023-03-05T14:02:34.141Z"
      },
      {
        "duration": 22,
        "start_time": "2023-03-05T14:02:36.400Z"
      },
      {
        "duration": 36,
        "start_time": "2023-03-05T14:02:36.424Z"
      },
      {
        "duration": 7,
        "start_time": "2023-03-05T14:02:36.462Z"
      },
      {
        "duration": 71,
        "start_time": "2023-03-05T14:02:36.473Z"
      },
      {
        "duration": 608,
        "start_time": "2023-03-05T14:02:36.546Z"
      },
      {
        "duration": 23,
        "start_time": "2023-03-05T14:02:37.156Z"
      },
      {
        "duration": 127,
        "start_time": "2023-03-05T14:02:37.181Z"
      },
      {
        "duration": 126,
        "start_time": "2023-03-05T14:02:37.310Z"
      },
      {
        "duration": 26,
        "start_time": "2023-03-05T14:02:37.439Z"
      },
      {
        "duration": 72,
        "start_time": "2023-03-05T14:02:37.467Z"
      },
      {
        "duration": 28,
        "start_time": "2023-03-05T14:02:37.542Z"
      },
      {
        "duration": 61,
        "start_time": "2023-03-05T14:02:37.572Z"
      },
      {
        "duration": 154,
        "start_time": "2023-03-05T14:02:37.635Z"
      },
      {
        "duration": 310,
        "start_time": "2023-03-05T14:02:37.791Z"
      },
      {
        "duration": 49,
        "start_time": "2023-03-05T14:02:38.103Z"
      },
      {
        "duration": 4,
        "start_time": "2023-03-05T14:02:38.155Z"
      },
      {
        "duration": 800,
        "start_time": "2023-03-05T14:02:38.161Z"
      },
      {
        "duration": 106,
        "start_time": "2023-03-05T14:02:38.963Z"
      },
      {
        "duration": 35,
        "start_time": "2023-03-05T14:02:39.072Z"
      },
      {
        "duration": 16,
        "start_time": "2023-03-05T14:02:39.108Z"
      },
      {
        "duration": 201,
        "start_time": "2023-03-05T14:02:39.126Z"
      },
      {
        "duration": 667281,
        "start_time": "2023-03-05T14:02:39.329Z"
      },
      {
        "duration": 14,
        "start_time": "2023-03-05T14:13:46.612Z"
      },
      {
        "duration": 298,
        "start_time": "2023-03-05T14:13:46.628Z"
      },
      {
        "duration": 1483,
        "start_time": "2023-03-05T14:31:33.575Z"
      },
      {
        "duration": 880,
        "start_time": "2023-03-05T14:31:35.061Z"
      },
      {
        "duration": 17,
        "start_time": "2023-03-05T14:31:35.943Z"
      },
      {
        "duration": 131,
        "start_time": "2023-03-05T14:31:35.962Z"
      },
      {
        "duration": 303,
        "start_time": "2023-03-05T14:31:36.097Z"
      },
      {
        "duration": 81,
        "start_time": "2023-03-05T14:31:36.402Z"
      },
      {
        "duration": 700,
        "start_time": "2023-03-05T14:31:36.485Z"
      },
      {
        "duration": 400,
        "start_time": "2023-03-05T14:31:37.187Z"
      },
      {
        "duration": 1797,
        "start_time": "2023-03-05T14:31:37.589Z"
      },
      {
        "duration": 2007,
        "start_time": "2023-03-05T14:31:39.387Z"
      },
      {
        "duration": 11,
        "start_time": "2023-03-05T14:31:41.396Z"
      },
      {
        "duration": 28,
        "start_time": "2023-03-05T14:31:41.420Z"
      },
      {
        "duration": 7,
        "start_time": "2023-03-05T14:31:41.450Z"
      },
      {
        "duration": 43,
        "start_time": "2023-03-05T14:31:41.459Z"
      },
      {
        "duration": 638,
        "start_time": "2023-03-05T14:31:41.521Z"
      },
      {
        "duration": 23,
        "start_time": "2023-03-05T14:31:42.161Z"
      },
      {
        "duration": 101,
        "start_time": "2023-03-05T14:31:42.186Z"
      },
      {
        "duration": 115,
        "start_time": "2023-03-05T14:31:42.289Z"
      },
      {
        "duration": 26,
        "start_time": "2023-03-05T14:31:42.406Z"
      },
      {
        "duration": 31,
        "start_time": "2023-03-05T14:31:42.434Z"
      },
      {
        "duration": 30,
        "start_time": "2023-03-05T14:31:42.466Z"
      },
      {
        "duration": 54,
        "start_time": "2023-03-05T14:31:42.498Z"
      },
      {
        "duration": 85,
        "start_time": "2023-03-05T14:31:42.554Z"
      },
      {
        "duration": 200,
        "start_time": "2023-03-05T14:31:42.641Z"
      },
      {
        "duration": 36,
        "start_time": "2023-03-05T14:31:42.843Z"
      },
      {
        "duration": 3,
        "start_time": "2023-03-05T14:31:42.881Z"
      },
      {
        "duration": 727,
        "start_time": "2023-03-05T14:31:42.886Z"
      },
      {
        "duration": 85,
        "start_time": "2023-03-05T14:31:43.615Z"
      },
      {
        "duration": 48,
        "start_time": "2023-03-05T14:31:43.701Z"
      },
      {
        "duration": 4,
        "start_time": "2023-03-05T14:31:43.751Z"
      },
      {
        "duration": 87,
        "start_time": "2023-03-05T14:31:43.757Z"
      },
      {
        "duration": 669841,
        "start_time": "2023-03-05T14:31:43.845Z"
      },
      {
        "duration": 3,
        "start_time": "2023-03-05T14:42:53.687Z"
      },
      {
        "duration": 98856,
        "start_time": "2023-03-05T14:42:53.692Z"
      },
      {
        "duration": 121,
        "start_time": "2023-03-05T14:47:56.349Z"
      },
      {
        "duration": 4,
        "start_time": "2023-03-05T14:48:03.952Z"
      },
      {
        "duration": 4,
        "start_time": "2023-03-05T14:48:06.708Z"
      },
      {
        "duration": 1583,
        "start_time": "2023-03-05T14:48:55.207Z"
      },
      {
        "duration": 910,
        "start_time": "2023-03-05T14:48:56.793Z"
      },
      {
        "duration": 43,
        "start_time": "2023-03-05T14:48:57.705Z"
      },
      {
        "duration": 135,
        "start_time": "2023-03-05T14:48:57.750Z"
      },
      {
        "duration": 324,
        "start_time": "2023-03-05T14:48:57.887Z"
      },
      {
        "duration": 114,
        "start_time": "2023-03-05T14:48:58.213Z"
      },
      {
        "duration": 677,
        "start_time": "2023-03-05T14:48:58.333Z"
      },
      {
        "duration": 393,
        "start_time": "2023-03-05T14:48:59.012Z"
      },
      {
        "duration": 2035,
        "start_time": "2023-03-05T14:48:59.407Z"
      },
      {
        "duration": 2033,
        "start_time": "2023-03-05T14:49:01.448Z"
      },
      {
        "duration": 11,
        "start_time": "2023-03-05T14:49:03.482Z"
      },
      {
        "duration": 48,
        "start_time": "2023-03-05T14:49:03.495Z"
      },
      {
        "duration": 7,
        "start_time": "2023-03-05T14:49:03.545Z"
      },
      {
        "duration": 38,
        "start_time": "2023-03-05T14:49:03.555Z"
      },
      {
        "duration": 614,
        "start_time": "2023-03-05T14:49:03.594Z"
      },
      {
        "duration": 29,
        "start_time": "2023-03-05T14:49:04.209Z"
      },
      {
        "duration": 107,
        "start_time": "2023-03-05T14:49:04.241Z"
      },
      {
        "duration": 105,
        "start_time": "2023-03-05T14:49:04.350Z"
      },
      {
        "duration": 20,
        "start_time": "2023-03-05T14:49:04.457Z"
      },
      {
        "duration": 18,
        "start_time": "2023-03-05T14:49:04.479Z"
      },
      {
        "duration": 45,
        "start_time": "2023-03-05T14:49:04.499Z"
      },
      {
        "duration": 42,
        "start_time": "2023-03-05T14:49:04.545Z"
      },
      {
        "duration": 94,
        "start_time": "2023-03-05T14:49:04.589Z"
      },
      {
        "duration": 209,
        "start_time": "2023-03-05T14:49:04.685Z"
      },
      {
        "duration": 49,
        "start_time": "2023-03-05T14:49:04.897Z"
      },
      {
        "duration": 4,
        "start_time": "2023-03-05T14:49:04.950Z"
      },
      {
        "duration": 775,
        "start_time": "2023-03-05T14:49:04.955Z"
      },
      {
        "duration": 104,
        "start_time": "2023-03-05T14:49:05.731Z"
      },
      {
        "duration": 42,
        "start_time": "2023-03-05T14:49:05.839Z"
      },
      {
        "duration": 5,
        "start_time": "2023-03-05T14:49:05.883Z"
      },
      {
        "duration": 7,
        "start_time": "2023-03-05T14:49:05.890Z"
      },
      {
        "duration": 80,
        "start_time": "2023-03-05T14:49:05.898Z"
      },
      {
        "duration": 53,
        "start_time": "2023-03-05T14:49:05.979Z"
      },
      {
        "duration": 79678,
        "start_time": "2023-03-05T14:49:06.033Z"
      },
      {
        "duration": 3,
        "start_time": "2023-03-05T14:50:25.713Z"
      },
      {
        "duration": 19,
        "start_time": "2023-03-05T14:50:25.717Z"
      },
      {
        "duration": 1639,
        "start_time": "2023-03-05T14:50:28.009Z"
      },
      {
        "duration": 998,
        "start_time": "2023-03-05T14:50:29.651Z"
      },
      {
        "duration": 80,
        "start_time": "2023-03-05T14:50:30.651Z"
      },
      {
        "duration": 233,
        "start_time": "2023-03-05T14:50:30.733Z"
      },
      {
        "duration": 667,
        "start_time": "2023-03-05T14:50:30.969Z"
      },
      {
        "duration": 187,
        "start_time": "2023-03-05T14:50:31.637Z"
      },
      {
        "duration": 1148,
        "start_time": "2023-03-05T14:50:31.827Z"
      },
      {
        "duration": 394,
        "start_time": "2023-03-05T14:50:32.976Z"
      },
      {
        "duration": 1914,
        "start_time": "2023-03-05T14:50:33.372Z"
      },
      {
        "duration": 1913,
        "start_time": "2023-03-05T14:50:35.288Z"
      },
      {
        "duration": 27,
        "start_time": "2023-03-05T14:50:37.203Z"
      },
      {
        "duration": 37,
        "start_time": "2023-03-05T14:50:37.232Z"
      },
      {
        "duration": 6,
        "start_time": "2023-03-05T14:50:37.271Z"
      },
      {
        "duration": 56,
        "start_time": "2023-03-05T14:50:37.281Z"
      },
      {
        "duration": 635,
        "start_time": "2023-03-05T14:50:37.338Z"
      },
      {
        "duration": 21,
        "start_time": "2023-03-05T14:50:37.974Z"
      },
      {
        "duration": 105,
        "start_time": "2023-03-05T14:50:37.996Z"
      },
      {
        "duration": 128,
        "start_time": "2023-03-05T14:50:38.103Z"
      },
      {
        "duration": 21,
        "start_time": "2023-03-05T14:50:38.234Z"
      },
      {
        "duration": 26,
        "start_time": "2023-03-05T14:50:38.256Z"
      },
      {
        "duration": 21,
        "start_time": "2023-03-05T14:50:38.284Z"
      },
      {
        "duration": 58,
        "start_time": "2023-03-05T14:50:38.306Z"
      },
      {
        "duration": 93,
        "start_time": "2023-03-05T14:50:38.366Z"
      },
      {
        "duration": 207,
        "start_time": "2023-03-05T14:50:38.461Z"
      },
      {
        "duration": 36,
        "start_time": "2023-03-05T14:50:38.670Z"
      },
      {
        "duration": 18,
        "start_time": "2023-03-05T14:50:38.708Z"
      },
      {
        "duration": 752,
        "start_time": "2023-03-05T14:50:38.737Z"
      },
      {
        "duration": 102,
        "start_time": "2023-03-05T14:50:39.491Z"
      },
      {
        "duration": 56,
        "start_time": "2023-03-05T14:50:39.595Z"
      },
      {
        "duration": 6,
        "start_time": "2023-03-05T14:50:39.653Z"
      },
      {
        "duration": 12,
        "start_time": "2023-03-05T14:50:39.661Z"
      },
      {
        "duration": 78,
        "start_time": "2023-03-05T14:50:39.675Z"
      },
      {
        "duration": 76,
        "start_time": "2023-03-05T14:50:39.754Z"
      },
      {
        "duration": 9893,
        "start_time": "2023-03-05T14:50:39.832Z"
      },
      {
        "duration": 7,
        "start_time": "2023-03-05T14:50:49.726Z"
      },
      {
        "duration": 19,
        "start_time": "2023-03-05T14:50:49.735Z"
      },
      {
        "duration": 1614,
        "start_time": "2023-03-05T14:51:20.280Z"
      },
      {
        "duration": 946,
        "start_time": "2023-03-05T14:51:21.897Z"
      },
      {
        "duration": 19,
        "start_time": "2023-03-05T14:51:22.846Z"
      },
      {
        "duration": 141,
        "start_time": "2023-03-05T14:51:22.867Z"
      },
      {
        "duration": 329,
        "start_time": "2023-03-05T14:51:23.011Z"
      },
      {
        "duration": 94,
        "start_time": "2023-03-05T14:51:23.342Z"
      },
      {
        "duration": 679,
        "start_time": "2023-03-05T14:51:23.438Z"
      },
      {
        "duration": 412,
        "start_time": "2023-03-05T14:51:24.119Z"
      },
      {
        "duration": 1837,
        "start_time": "2023-03-05T14:51:24.532Z"
      },
      {
        "duration": 1914,
        "start_time": "2023-03-05T14:51:26.372Z"
      },
      {
        "duration": 12,
        "start_time": "2023-03-05T14:51:28.288Z"
      },
      {
        "duration": 44,
        "start_time": "2023-03-05T14:51:28.302Z"
      },
      {
        "duration": 7,
        "start_time": "2023-03-05T14:51:28.348Z"
      },
      {
        "duration": 39,
        "start_time": "2023-03-05T14:51:28.359Z"
      },
      {
        "duration": 640,
        "start_time": "2023-03-05T14:51:28.423Z"
      },
      {
        "duration": 21,
        "start_time": "2023-03-05T14:51:29.064Z"
      },
      {
        "duration": 100,
        "start_time": "2023-03-05T14:51:29.087Z"
      },
      {
        "duration": 114,
        "start_time": "2023-03-05T14:51:29.189Z"
      },
      {
        "duration": 27,
        "start_time": "2023-03-05T14:51:29.305Z"
      },
      {
        "duration": 20,
        "start_time": "2023-03-05T14:51:29.337Z"
      },
      {
        "duration": 81,
        "start_time": "2023-03-05T14:51:29.358Z"
      },
      {
        "duration": 69,
        "start_time": "2023-03-05T14:51:29.440Z"
      },
      {
        "duration": 99,
        "start_time": "2023-03-05T14:51:29.511Z"
      },
      {
        "duration": 216,
        "start_time": "2023-03-05T14:51:29.612Z"
      },
      {
        "duration": 40,
        "start_time": "2023-03-05T14:51:29.830Z"
      },
      {
        "duration": 3,
        "start_time": "2023-03-05T14:51:29.872Z"
      },
      {
        "duration": 813,
        "start_time": "2023-03-05T14:51:29.877Z"
      },
      {
        "duration": 99,
        "start_time": "2023-03-05T14:51:30.692Z"
      },
      {
        "duration": 50,
        "start_time": "2023-03-05T14:51:30.792Z"
      },
      {
        "duration": 5,
        "start_time": "2023-03-05T14:51:30.843Z"
      },
      {
        "duration": 70,
        "start_time": "2023-03-05T14:51:30.849Z"
      },
      {
        "duration": 113,
        "start_time": "2023-03-05T14:51:30.921Z"
      },
      {
        "duration": 3,
        "start_time": "2023-03-05T14:51:31.036Z"
      },
      {
        "duration": 693310,
        "start_time": "2023-03-05T14:51:31.041Z"
      },
      {
        "duration": 20,
        "start_time": "2023-03-05T15:03:04.353Z"
      },
      {
        "duration": 6,
        "start_time": "2023-03-05T15:03:04.375Z"
      },
      {
        "duration": 130469,
        "start_time": "2023-03-05T15:03:04.383Z"
      },
      {
        "duration": 71,
        "start_time": "2023-03-05T15:05:14.854Z"
      },
      {
        "duration": 22071,
        "start_time": "2023-03-05T16:17:27.751Z"
      },
      {
        "duration": 6248,
        "start_time": "2023-03-05T16:18:57.582Z"
      },
      {
        "duration": 4977,
        "start_time": "2023-03-05T16:19:14.960Z"
      },
      {
        "duration": 3,
        "start_time": "2023-03-05T16:19:35.944Z"
      },
      {
        "duration": 239,
        "start_time": "2023-03-05T16:22:56.382Z"
      },
      {
        "duration": 7898,
        "start_time": "2023-03-05T16:24:25.837Z"
      },
      {
        "duration": 4187,
        "start_time": "2023-03-05T16:24:57.835Z"
      },
      {
        "duration": 32554,
        "start_time": "2023-03-05T16:25:11.768Z"
      },
      {
        "duration": 1607,
        "start_time": "2023-03-05T16:42:28.700Z"
      },
      {
        "duration": 880,
        "start_time": "2023-03-05T16:42:30.310Z"
      },
      {
        "duration": 17,
        "start_time": "2023-03-05T16:42:31.191Z"
      },
      {
        "duration": 118,
        "start_time": "2023-03-05T16:42:31.210Z"
      },
      {
        "duration": 271,
        "start_time": "2023-03-05T16:42:31.330Z"
      },
      {
        "duration": 77,
        "start_time": "2023-03-05T16:42:31.603Z"
      },
      {
        "duration": 599,
        "start_time": "2023-03-05T16:42:31.682Z"
      },
      {
        "duration": 357,
        "start_time": "2023-03-05T16:42:32.283Z"
      },
      {
        "duration": 1804,
        "start_time": "2023-03-05T16:42:32.642Z"
      },
      {
        "duration": 1742,
        "start_time": "2023-03-05T16:42:34.447Z"
      },
      {
        "duration": 11,
        "start_time": "2023-03-05T16:42:36.191Z"
      },
      {
        "duration": 39,
        "start_time": "2023-03-05T16:42:36.204Z"
      },
      {
        "duration": 6,
        "start_time": "2023-03-05T16:42:36.245Z"
      },
      {
        "duration": 41,
        "start_time": "2023-03-05T16:42:36.254Z"
      },
      {
        "duration": 612,
        "start_time": "2023-03-05T16:42:36.297Z"
      },
      {
        "duration": 22,
        "start_time": "2023-03-05T16:42:36.911Z"
      },
      {
        "duration": 97,
        "start_time": "2023-03-05T16:42:36.935Z"
      },
      {
        "duration": 113,
        "start_time": "2023-03-05T16:42:37.033Z"
      },
      {
        "duration": 22,
        "start_time": "2023-03-05T16:42:37.148Z"
      },
      {
        "duration": 18,
        "start_time": "2023-03-05T16:42:37.174Z"
      },
      {
        "duration": 37,
        "start_time": "2023-03-05T16:42:37.194Z"
      },
      {
        "duration": 40,
        "start_time": "2023-03-05T16:42:37.232Z"
      },
      {
        "duration": 100,
        "start_time": "2023-03-05T16:42:37.274Z"
      },
      {
        "duration": 190,
        "start_time": "2023-03-05T16:42:37.376Z"
      },
      {
        "duration": 35,
        "start_time": "2023-03-05T16:42:37.568Z"
      },
      {
        "duration": 16,
        "start_time": "2023-03-05T16:42:37.605Z"
      },
      {
        "duration": 700,
        "start_time": "2023-03-05T16:42:37.623Z"
      },
      {
        "duration": 79,
        "start_time": "2023-03-05T16:42:38.325Z"
      },
      {
        "duration": 40,
        "start_time": "2023-03-05T16:42:38.406Z"
      },
      {
        "duration": 4,
        "start_time": "2023-03-05T16:42:38.448Z"
      },
      {
        "duration": 4,
        "start_time": "2023-03-05T16:42:38.454Z"
      },
      {
        "duration": 167,
        "start_time": "2023-03-05T16:42:38.459Z"
      },
      {
        "duration": 94,
        "start_time": "2023-03-05T16:42:38.628Z"
      },
      {
        "duration": 642435,
        "start_time": "2023-03-05T16:42:38.724Z"
      },
      {
        "duration": 3,
        "start_time": "2023-03-05T16:53:21.161Z"
      },
      {
        "duration": 26,
        "start_time": "2023-03-05T16:53:21.166Z"
      },
      {
        "duration": 323547,
        "start_time": "2023-03-05T16:53:21.194Z"
      },
      {
        "duration": 4,
        "start_time": "2023-03-05T16:58:44.742Z"
      },
      {
        "duration": 196,
        "start_time": "2023-03-05T16:58:44.747Z"
      },
      {
        "duration": 15,
        "start_time": "2023-03-05T17:01:10.218Z"
      },
      {
        "duration": 15,
        "start_time": "2023-03-05T17:02:01.519Z"
      },
      {
        "duration": 13,
        "start_time": "2023-03-05T17:02:06.034Z"
      },
      {
        "duration": 12,
        "start_time": "2023-03-05T17:08:50.065Z"
      },
      {
        "duration": 12,
        "start_time": "2023-03-05T17:27:04.413Z"
      },
      {
        "duration": 450,
        "start_time": "2023-03-05T17:27:24.981Z"
      },
      {
        "duration": 7136,
        "start_time": "2023-03-05T18:14:05.511Z"
      },
      {
        "duration": 4,
        "start_time": "2023-03-05T18:14:18.256Z"
      },
      {
        "duration": 11,
        "start_time": "2023-03-05T18:14:25.605Z"
      },
      {
        "duration": 543,
        "start_time": "2023-03-05T18:14:32.088Z"
      },
      {
        "duration": 417,
        "start_time": "2023-03-05T18:16:04.104Z"
      },
      {
        "duration": 9,
        "start_time": "2023-03-05T18:16:41.661Z"
      },
      {
        "duration": 1541,
        "start_time": "2023-03-05T18:17:35.307Z"
      },
      {
        "duration": 865,
        "start_time": "2023-03-05T18:17:36.850Z"
      },
      {
        "duration": 18,
        "start_time": "2023-03-05T18:17:37.717Z"
      },
      {
        "duration": 137,
        "start_time": "2023-03-05T18:17:37.737Z"
      },
      {
        "duration": 291,
        "start_time": "2023-03-05T18:17:37.876Z"
      },
      {
        "duration": 83,
        "start_time": "2023-03-05T18:17:38.169Z"
      },
      {
        "duration": 643,
        "start_time": "2023-03-05T18:17:38.253Z"
      },
      {
        "duration": 371,
        "start_time": "2023-03-05T18:17:38.898Z"
      },
      {
        "duration": 1875,
        "start_time": "2023-03-05T18:17:39.271Z"
      },
      {
        "duration": 1786,
        "start_time": "2023-03-05T18:17:41.149Z"
      },
      {
        "duration": 10,
        "start_time": "2023-03-05T18:17:42.937Z"
      },
      {
        "duration": 25,
        "start_time": "2023-03-05T18:17:42.949Z"
      },
      {
        "duration": 6,
        "start_time": "2023-03-05T18:17:42.976Z"
      },
      {
        "duration": 63,
        "start_time": "2023-03-05T18:17:42.984Z"
      },
      {
        "duration": 589,
        "start_time": "2023-03-05T18:17:43.049Z"
      },
      {
        "duration": 21,
        "start_time": "2023-03-05T18:17:43.640Z"
      },
      {
        "duration": 96,
        "start_time": "2023-03-05T18:17:43.663Z"
      },
      {
        "duration": 116,
        "start_time": "2023-03-05T18:17:43.760Z"
      },
      {
        "duration": 20,
        "start_time": "2023-03-05T18:17:43.877Z"
      },
      {
        "duration": 32,
        "start_time": "2023-03-05T18:17:43.899Z"
      },
      {
        "duration": 20,
        "start_time": "2023-03-05T18:17:43.932Z"
      },
      {
        "duration": 45,
        "start_time": "2023-03-05T18:17:43.954Z"
      },
      {
        "duration": 94,
        "start_time": "2023-03-05T18:17:44.001Z"
      },
      {
        "duration": 188,
        "start_time": "2023-03-05T18:17:44.097Z"
      },
      {
        "duration": 49,
        "start_time": "2023-03-05T18:17:44.287Z"
      },
      {
        "duration": 3,
        "start_time": "2023-03-05T18:17:44.338Z"
      },
      {
        "duration": 699,
        "start_time": "2023-03-05T18:17:44.342Z"
      },
      {
        "duration": 86,
        "start_time": "2023-03-05T18:17:45.045Z"
      },
      {
        "duration": 33,
        "start_time": "2023-03-05T18:17:45.133Z"
      },
      {
        "duration": 5,
        "start_time": "2023-03-05T18:17:45.168Z"
      },
      {
        "duration": 5,
        "start_time": "2023-03-05T18:17:45.174Z"
      },
      {
        "duration": 85,
        "start_time": "2023-03-05T18:17:45.181Z"
      },
      {
        "duration": 60,
        "start_time": "2023-03-05T18:17:45.267Z"
      },
      {
        "duration": 629853,
        "start_time": "2023-03-05T18:17:45.331Z"
      },
      {
        "duration": 3,
        "start_time": "2023-03-05T18:28:15.186Z"
      },
      {
        "duration": 7,
        "start_time": "2023-03-05T18:28:15.191Z"
      },
      {
        "duration": 53235,
        "start_time": "2023-03-05T18:28:15.199Z"
      },
      {
        "duration": 3,
        "start_time": "2023-03-05T18:29:08.436Z"
      },
      {
        "duration": 85,
        "start_time": "2023-03-05T18:29:08.441Z"
      },
      {
        "duration": 493,
        "start_time": "2023-03-05T18:29:08.528Z"
      },
      {
        "duration": 10,
        "start_time": "2023-03-05T18:29:09.023Z"
      },
      {
        "duration": 112,
        "start_time": "2023-03-05T19:20:48.395Z"
      },
      {
        "duration": 211,
        "start_time": "2023-03-05T19:21:25.494Z"
      },
      {
        "duration": 14,
        "start_time": "2023-03-05T19:53:57.957Z"
      },
      {
        "duration": 22,
        "start_time": "2023-03-05T19:54:12.464Z"
      },
      {
        "duration": 23,
        "start_time": "2023-03-05T19:54:21.605Z"
      },
      {
        "duration": 183,
        "start_time": "2023-03-05T19:55:06.957Z"
      },
      {
        "duration": 190,
        "start_time": "2023-03-05T20:01:22.414Z"
      },
      {
        "duration": 197,
        "start_time": "2023-03-05T20:01:26.992Z"
      },
      {
        "duration": 207,
        "start_time": "2023-03-05T20:01:30.759Z"
      },
      {
        "duration": 187,
        "start_time": "2023-03-05T20:01:34.499Z"
      },
      {
        "duration": 185,
        "start_time": "2023-03-05T20:01:45.656Z"
      },
      {
        "duration": 1644,
        "start_time": "2023-03-08T10:01:44.222Z"
      },
      {
        "duration": 1159,
        "start_time": "2023-03-08T10:01:45.869Z"
      },
      {
        "duration": 18,
        "start_time": "2023-03-08T10:01:47.030Z"
      },
      {
        "duration": 157,
        "start_time": "2023-03-08T10:01:47.050Z"
      },
      {
        "duration": 280,
        "start_time": "2023-03-08T10:01:47.209Z"
      },
      {
        "duration": 100,
        "start_time": "2023-03-08T10:01:47.491Z"
      },
      {
        "duration": 639,
        "start_time": "2023-03-08T10:01:47.593Z"
      },
      {
        "duration": 383,
        "start_time": "2023-03-08T10:01:48.234Z"
      },
      {
        "duration": 1740,
        "start_time": "2023-03-08T10:01:48.619Z"
      },
      {
        "duration": 1981,
        "start_time": "2023-03-08T10:01:50.361Z"
      },
      {
        "duration": 11,
        "start_time": "2023-03-08T10:01:52.344Z"
      },
      {
        "duration": 41,
        "start_time": "2023-03-08T10:01:52.356Z"
      },
      {
        "duration": 6,
        "start_time": "2023-03-08T10:01:52.400Z"
      },
      {
        "duration": 48,
        "start_time": "2023-03-08T10:01:52.410Z"
      },
      {
        "duration": 639,
        "start_time": "2023-03-08T10:01:52.460Z"
      },
      {
        "duration": 19,
        "start_time": "2023-03-08T10:01:53.101Z"
      },
      {
        "duration": 100,
        "start_time": "2023-03-08T10:01:53.131Z"
      },
      {
        "duration": 115,
        "start_time": "2023-03-08T10:01:53.233Z"
      },
      {
        "duration": 21,
        "start_time": "2023-03-08T10:01:53.349Z"
      },
      {
        "duration": 24,
        "start_time": "2023-03-08T10:01:53.372Z"
      },
      {
        "duration": 34,
        "start_time": "2023-03-08T10:01:53.398Z"
      },
      {
        "duration": 43,
        "start_time": "2023-03-08T10:01:53.434Z"
      },
      {
        "duration": 109,
        "start_time": "2023-03-08T10:01:53.479Z"
      },
      {
        "duration": 200,
        "start_time": "2023-03-08T10:01:53.590Z"
      },
      {
        "duration": 42,
        "start_time": "2023-03-08T10:01:53.792Z"
      },
      {
        "duration": 76,
        "start_time": "2023-03-08T10:01:53.836Z"
      },
      {
        "duration": 44,
        "start_time": "2023-03-08T10:01:53.914Z"
      },
      {
        "duration": 36,
        "start_time": "2023-03-08T10:01:53.960Z"
      },
      {
        "duration": 4,
        "start_time": "2023-03-08T10:01:53.998Z"
      },
      {
        "duration": 118,
        "start_time": "2023-03-08T10:01:54.003Z"
      },
      {
        "duration": 879,
        "start_time": "2023-03-08T10:01:54.122Z"
      },
      {
        "duration": 0,
        "start_time": "2023-03-08T10:01:55.002Z"
      },
      {
        "duration": 0,
        "start_time": "2023-03-08T10:01:55.004Z"
      },
      {
        "duration": 0,
        "start_time": "2023-03-08T10:01:55.005Z"
      },
      {
        "duration": 0,
        "start_time": "2023-03-08T10:01:55.006Z"
      },
      {
        "duration": 0,
        "start_time": "2023-03-08T10:01:55.007Z"
      },
      {
        "duration": 0,
        "start_time": "2023-03-08T10:01:55.008Z"
      },
      {
        "duration": 0,
        "start_time": "2023-03-08T10:01:55.008Z"
      },
      {
        "duration": 0,
        "start_time": "2023-03-08T10:01:55.010Z"
      },
      {
        "duration": 0,
        "start_time": "2023-03-08T10:01:55.011Z"
      },
      {
        "duration": 0,
        "start_time": "2023-03-08T10:01:55.013Z"
      },
      {
        "duration": 0,
        "start_time": "2023-03-08T10:01:55.031Z"
      },
      {
        "duration": 0,
        "start_time": "2023-03-08T10:01:55.032Z"
      },
      {
        "duration": 0,
        "start_time": "2023-03-08T10:01:55.033Z"
      },
      {
        "duration": 0,
        "start_time": "2023-03-08T10:01:55.034Z"
      },
      {
        "duration": 0,
        "start_time": "2023-03-08T10:01:55.035Z"
      },
      {
        "duration": 1529,
        "start_time": "2023-03-08T10:03:00.126Z"
      },
      {
        "duration": 880,
        "start_time": "2023-03-08T10:03:01.657Z"
      },
      {
        "duration": 18,
        "start_time": "2023-03-08T10:03:02.539Z"
      },
      {
        "duration": 170,
        "start_time": "2023-03-08T10:03:02.558Z"
      },
      {
        "duration": 295,
        "start_time": "2023-03-08T10:03:02.731Z"
      },
      {
        "duration": 93,
        "start_time": "2023-03-08T10:03:03.027Z"
      },
      {
        "duration": 688,
        "start_time": "2023-03-08T10:03:03.131Z"
      },
      {
        "duration": 396,
        "start_time": "2023-03-08T10:03:03.820Z"
      },
      {
        "duration": 1797,
        "start_time": "2023-03-08T10:03:04.218Z"
      },
      {
        "duration": 2165,
        "start_time": "2023-03-08T10:03:06.016Z"
      },
      {
        "duration": 11,
        "start_time": "2023-03-08T10:03:08.183Z"
      },
      {
        "duration": 37,
        "start_time": "2023-03-08T10:03:08.195Z"
      },
      {
        "duration": 8,
        "start_time": "2023-03-08T10:03:08.234Z"
      },
      {
        "duration": 54,
        "start_time": "2023-03-08T10:03:08.246Z"
      },
      {
        "duration": 556,
        "start_time": "2023-03-08T10:03:08.302Z"
      },
      {
        "duration": 20,
        "start_time": "2023-03-08T10:03:08.860Z"
      },
      {
        "duration": 115,
        "start_time": "2023-03-08T10:03:08.882Z"
      },
      {
        "duration": 119,
        "start_time": "2023-03-08T10:03:08.999Z"
      },
      {
        "duration": 31,
        "start_time": "2023-03-08T10:03:09.120Z"
      },
      {
        "duration": 21,
        "start_time": "2023-03-08T10:03:09.153Z"
      },
      {
        "duration": 24,
        "start_time": "2023-03-08T10:03:09.176Z"
      },
      {
        "duration": 70,
        "start_time": "2023-03-08T10:03:09.202Z"
      },
      {
        "duration": 120,
        "start_time": "2023-03-08T10:03:09.273Z"
      },
      {
        "duration": 214,
        "start_time": "2023-03-08T10:03:09.395Z"
      },
      {
        "duration": 48,
        "start_time": "2023-03-08T10:03:09.611Z"
      },
      {
        "duration": 80,
        "start_time": "2023-03-08T10:03:09.660Z"
      },
      {
        "duration": 34,
        "start_time": "2023-03-08T10:03:09.742Z"
      },
      {
        "duration": 37,
        "start_time": "2023-03-08T10:03:09.778Z"
      },
      {
        "duration": 3,
        "start_time": "2023-03-08T10:03:09.831Z"
      },
      {
        "duration": 72,
        "start_time": "2023-03-08T10:03:09.836Z"
      },
      {
        "duration": 919,
        "start_time": "2023-03-08T10:03:09.909Z"
      },
      {
        "duration": 0,
        "start_time": "2023-03-08T10:03:10.830Z"
      },
      {
        "duration": 0,
        "start_time": "2023-03-08T10:03:10.831Z"
      },
      {
        "duration": 0,
        "start_time": "2023-03-08T10:03:10.832Z"
      },
      {
        "duration": 0,
        "start_time": "2023-03-08T10:03:10.833Z"
      },
      {
        "duration": 0,
        "start_time": "2023-03-08T10:03:10.834Z"
      },
      {
        "duration": 0,
        "start_time": "2023-03-08T10:03:10.834Z"
      },
      {
        "duration": 0,
        "start_time": "2023-03-08T10:03:10.835Z"
      },
      {
        "duration": 0,
        "start_time": "2023-03-08T10:03:10.836Z"
      },
      {
        "duration": 0,
        "start_time": "2023-03-08T10:03:10.837Z"
      },
      {
        "duration": 0,
        "start_time": "2023-03-08T10:03:10.838Z"
      },
      {
        "duration": 0,
        "start_time": "2023-03-08T10:03:10.840Z"
      },
      {
        "duration": 0,
        "start_time": "2023-03-08T10:03:10.841Z"
      },
      {
        "duration": 1,
        "start_time": "2023-03-08T10:03:10.841Z"
      },
      {
        "duration": 0,
        "start_time": "2023-03-08T10:03:10.842Z"
      },
      {
        "duration": 0,
        "start_time": "2023-03-08T10:03:10.843Z"
      },
      {
        "duration": 1493,
        "start_time": "2023-03-08T10:14:53.568Z"
      },
      {
        "duration": 899,
        "start_time": "2023-03-08T10:14:55.063Z"
      },
      {
        "duration": 16,
        "start_time": "2023-03-08T10:14:55.964Z"
      },
      {
        "duration": 170,
        "start_time": "2023-03-08T10:14:55.983Z"
      },
      {
        "duration": 306,
        "start_time": "2023-03-08T10:14:56.154Z"
      },
      {
        "duration": 97,
        "start_time": "2023-03-08T10:14:56.462Z"
      },
      {
        "duration": 783,
        "start_time": "2023-03-08T10:14:56.561Z"
      },
      {
        "duration": 407,
        "start_time": "2023-03-08T10:14:57.346Z"
      },
      {
        "duration": 1851,
        "start_time": "2023-03-08T10:14:57.756Z"
      },
      {
        "duration": 2152,
        "start_time": "2023-03-08T10:14:59.611Z"
      },
      {
        "duration": 10,
        "start_time": "2023-03-08T10:15:01.765Z"
      },
      {
        "duration": 39,
        "start_time": "2023-03-08T10:15:01.776Z"
      },
      {
        "duration": 13,
        "start_time": "2023-03-08T10:15:01.817Z"
      },
      {
        "duration": 49,
        "start_time": "2023-03-08T10:15:01.834Z"
      },
      {
        "duration": 636,
        "start_time": "2023-03-08T10:15:01.885Z"
      },
      {
        "duration": 29,
        "start_time": "2023-03-08T10:15:02.523Z"
      },
      {
        "duration": 146,
        "start_time": "2023-03-08T10:15:02.554Z"
      },
      {
        "duration": 140,
        "start_time": "2023-03-08T10:15:02.702Z"
      },
      {
        "duration": 27,
        "start_time": "2023-03-08T10:15:02.844Z"
      },
      {
        "duration": 35,
        "start_time": "2023-03-08T10:15:02.873Z"
      },
      {
        "duration": 41,
        "start_time": "2023-03-08T10:15:02.910Z"
      },
      {
        "duration": 69,
        "start_time": "2023-03-08T10:15:02.953Z"
      },
      {
        "duration": 109,
        "start_time": "2023-03-08T10:15:03.024Z"
      },
      {
        "duration": 223,
        "start_time": "2023-03-08T10:15:03.135Z"
      },
      {
        "duration": 37,
        "start_time": "2023-03-08T10:15:03.360Z"
      },
      {
        "duration": 105,
        "start_time": "2023-03-08T10:15:03.399Z"
      },
      {
        "duration": 47,
        "start_time": "2023-03-08T10:15:03.506Z"
      },
      {
        "duration": 37,
        "start_time": "2023-03-08T10:15:03.558Z"
      },
      {
        "duration": 4,
        "start_time": "2023-03-08T10:15:03.596Z"
      },
      {
        "duration": 105,
        "start_time": "2023-03-08T10:15:03.602Z"
      },
      {
        "duration": 1066,
        "start_time": "2023-03-08T10:15:03.709Z"
      },
      {
        "duration": 22,
        "start_time": "2023-03-08T10:15:04.777Z"
      },
      {
        "duration": 281,
        "start_time": "2023-03-08T10:15:04.800Z"
      },
      {
        "duration": 4,
        "start_time": "2023-03-08T10:15:05.082Z"
      },
      {
        "duration": 9,
        "start_time": "2023-03-08T10:15:05.088Z"
      },
      {
        "duration": 321,
        "start_time": "2023-03-08T10:15:05.099Z"
      },
      {
        "duration": 13,
        "start_time": "2023-03-08T10:15:05.422Z"
      },
      {
        "duration": 0,
        "start_time": "2023-03-08T10:15:05.438Z"
      },
      {
        "duration": 0,
        "start_time": "2023-03-08T10:15:05.441Z"
      },
      {
        "duration": 1,
        "start_time": "2023-03-08T10:15:05.442Z"
      },
      {
        "duration": 0,
        "start_time": "2023-03-08T10:15:05.443Z"
      },
      {
        "duration": 0,
        "start_time": "2023-03-08T10:15:05.444Z"
      },
      {
        "duration": 0,
        "start_time": "2023-03-08T10:15:05.446Z"
      },
      {
        "duration": 0,
        "start_time": "2023-03-08T10:15:05.447Z"
      },
      {
        "duration": 0,
        "start_time": "2023-03-08T10:15:05.448Z"
      },
      {
        "duration": 0,
        "start_time": "2023-03-08T10:15:05.449Z"
      },
      {
        "duration": 1906,
        "start_time": "2023-03-08T10:17:31.798Z"
      },
      {
        "duration": 937,
        "start_time": "2023-03-08T10:17:33.706Z"
      },
      {
        "duration": 19,
        "start_time": "2023-03-08T10:17:34.645Z"
      },
      {
        "duration": 168,
        "start_time": "2023-03-08T10:17:34.666Z"
      },
      {
        "duration": 314,
        "start_time": "2023-03-08T10:17:34.836Z"
      },
      {
        "duration": 103,
        "start_time": "2023-03-08T10:17:35.153Z"
      },
      {
        "duration": 662,
        "start_time": "2023-03-08T10:17:35.258Z"
      },
      {
        "duration": 435,
        "start_time": "2023-03-08T10:17:35.922Z"
      },
      {
        "duration": 2000,
        "start_time": "2023-03-08T10:17:36.359Z"
      },
      {
        "duration": 2084,
        "start_time": "2023-03-08T10:17:38.361Z"
      },
      {
        "duration": 14,
        "start_time": "2023-03-08T10:17:40.447Z"
      },
      {
        "duration": 26,
        "start_time": "2023-03-08T10:17:40.462Z"
      },
      {
        "duration": 6,
        "start_time": "2023-03-08T10:17:40.489Z"
      },
      {
        "duration": 64,
        "start_time": "2023-03-08T10:17:40.497Z"
      },
      {
        "duration": 634,
        "start_time": "2023-03-08T10:17:40.563Z"
      },
      {
        "duration": 35,
        "start_time": "2023-03-08T10:17:41.200Z"
      },
      {
        "duration": 97,
        "start_time": "2023-03-08T10:17:41.237Z"
      },
      {
        "duration": 133,
        "start_time": "2023-03-08T10:17:41.336Z"
      },
      {
        "duration": 21,
        "start_time": "2023-03-08T10:17:41.471Z"
      },
      {
        "duration": 30,
        "start_time": "2023-03-08T10:17:41.494Z"
      },
      {
        "duration": 23,
        "start_time": "2023-03-08T10:17:41.526Z"
      },
      {
        "duration": 48,
        "start_time": "2023-03-08T10:17:41.551Z"
      },
      {
        "duration": 111,
        "start_time": "2023-03-08T10:17:41.601Z"
      },
      {
        "duration": 200,
        "start_time": "2023-03-08T10:17:41.714Z"
      },
      {
        "duration": 51,
        "start_time": "2023-03-08T10:17:41.916Z"
      },
      {
        "duration": 104,
        "start_time": "2023-03-08T10:17:41.969Z"
      },
      {
        "duration": 38,
        "start_time": "2023-03-08T10:17:42.075Z"
      },
      {
        "duration": 46,
        "start_time": "2023-03-08T10:17:42.118Z"
      },
      {
        "duration": 3,
        "start_time": "2023-03-08T10:17:42.167Z"
      },
      {
        "duration": 95,
        "start_time": "2023-03-08T10:17:42.173Z"
      },
      {
        "duration": 936,
        "start_time": "2023-03-08T10:17:42.270Z"
      },
      {
        "duration": 30,
        "start_time": "2023-03-08T10:17:43.208Z"
      },
      {
        "duration": 264,
        "start_time": "2023-03-08T10:17:43.240Z"
      },
      {
        "duration": 4,
        "start_time": "2023-03-08T10:17:43.506Z"
      },
      {
        "duration": 7,
        "start_time": "2023-03-08T10:17:43.512Z"
      },
      {
        "duration": 126,
        "start_time": "2023-03-08T10:17:43.520Z"
      },
      {
        "duration": 85,
        "start_time": "2023-03-08T10:17:43.649Z"
      },
      {
        "duration": 61402,
        "start_time": "2023-03-08T10:17:43.754Z"
      },
      {
        "duration": 3,
        "start_time": "2023-03-08T10:18:45.157Z"
      },
      {
        "duration": 7,
        "start_time": "2023-03-08T10:18:45.161Z"
      },
      {
        "duration": 110,
        "start_time": "2023-03-08T10:18:45.170Z"
      },
      {
        "duration": 11,
        "start_time": "2023-03-08T10:18:45.282Z"
      },
      {
        "duration": 0,
        "start_time": "2023-03-08T10:18:45.295Z"
      },
      {
        "duration": 0,
        "start_time": "2023-03-08T10:18:45.297Z"
      },
      {
        "duration": 0,
        "start_time": "2023-03-08T10:18:45.298Z"
      },
      {
        "duration": 0,
        "start_time": "2023-03-08T10:18:45.300Z"
      },
      {
        "duration": 1629,
        "start_time": "2023-03-08T10:20:06.582Z"
      },
      {
        "duration": 922,
        "start_time": "2023-03-08T10:20:08.213Z"
      },
      {
        "duration": 22,
        "start_time": "2023-03-08T10:20:09.137Z"
      },
      {
        "duration": 225,
        "start_time": "2023-03-08T10:20:09.161Z"
      },
      {
        "duration": 324,
        "start_time": "2023-03-08T10:20:09.387Z"
      },
      {
        "duration": 104,
        "start_time": "2023-03-08T10:20:09.712Z"
      },
      {
        "duration": 692,
        "start_time": "2023-03-08T10:20:09.817Z"
      },
      {
        "duration": 402,
        "start_time": "2023-03-08T10:20:10.511Z"
      },
      {
        "duration": 1888,
        "start_time": "2023-03-08T10:20:10.915Z"
      },
      {
        "duration": 1956,
        "start_time": "2023-03-08T10:20:12.805Z"
      },
      {
        "duration": 11,
        "start_time": "2023-03-08T10:20:14.763Z"
      },
      {
        "duration": 25,
        "start_time": "2023-03-08T10:20:14.775Z"
      },
      {
        "duration": 35,
        "start_time": "2023-03-08T10:20:14.802Z"
      },
      {
        "duration": 41,
        "start_time": "2023-03-08T10:20:14.839Z"
      },
      {
        "duration": 610,
        "start_time": "2023-03-08T10:20:14.882Z"
      },
      {
        "duration": 21,
        "start_time": "2023-03-08T10:20:15.493Z"
      },
      {
        "duration": 124,
        "start_time": "2023-03-08T10:20:15.515Z"
      },
      {
        "duration": 133,
        "start_time": "2023-03-08T10:20:15.641Z"
      },
      {
        "duration": 38,
        "start_time": "2023-03-08T10:20:15.776Z"
      },
      {
        "duration": 39,
        "start_time": "2023-03-08T10:20:15.816Z"
      },
      {
        "duration": 21,
        "start_time": "2023-03-08T10:20:15.857Z"
      },
      {
        "duration": 67,
        "start_time": "2023-03-08T10:20:15.880Z"
      },
      {
        "duration": 117,
        "start_time": "2023-03-08T10:20:15.949Z"
      },
      {
        "duration": 221,
        "start_time": "2023-03-08T10:20:16.068Z"
      },
      {
        "duration": 47,
        "start_time": "2023-03-08T10:20:16.292Z"
      },
      {
        "duration": 91,
        "start_time": "2023-03-08T10:20:16.341Z"
      },
      {
        "duration": 38,
        "start_time": "2023-03-08T10:20:16.435Z"
      },
      {
        "duration": 38,
        "start_time": "2023-03-08T10:20:16.476Z"
      },
      {
        "duration": 4,
        "start_time": "2023-03-08T10:20:16.531Z"
      },
      {
        "duration": 147,
        "start_time": "2023-03-08T10:20:16.537Z"
      },
      {
        "duration": 1127,
        "start_time": "2023-03-08T10:20:16.687Z"
      },
      {
        "duration": 32,
        "start_time": "2023-03-08T10:20:17.816Z"
      },
      {
        "duration": 287,
        "start_time": "2023-03-08T10:20:17.850Z"
      },
      {
        "duration": 6,
        "start_time": "2023-03-08T10:20:18.139Z"
      },
      {
        "duration": 9,
        "start_time": "2023-03-08T10:20:18.147Z"
      },
      {
        "duration": 272,
        "start_time": "2023-03-08T10:20:18.158Z"
      },
      {
        "duration": 9,
        "start_time": "2023-03-08T10:20:18.434Z"
      },
      {
        "duration": 55760,
        "start_time": "2023-03-08T10:20:18.444Z"
      },
      {
        "duration": 2,
        "start_time": "2023-03-08T10:21:14.206Z"
      },
      {
        "duration": 7,
        "start_time": "2023-03-08T10:21:14.210Z"
      },
      {
        "duration": 0,
        "start_time": "2023-03-08T10:22:38.872Z"
      },
      {
        "duration": 0,
        "start_time": "2023-03-08T10:22:38.874Z"
      },
      {
        "duration": 0,
        "start_time": "2023-03-08T10:22:38.875Z"
      },
      {
        "duration": 0,
        "start_time": "2023-03-08T10:22:38.876Z"
      },
      {
        "duration": 0,
        "start_time": "2023-03-08T10:22:38.877Z"
      },
      {
        "duration": 0,
        "start_time": "2023-03-08T10:22:38.878Z"
      },
      {
        "duration": 0,
        "start_time": "2023-03-08T10:22:38.879Z"
      },
      {
        "duration": 0,
        "start_time": "2023-03-08T10:22:38.880Z"
      },
      {
        "duration": 0,
        "start_time": "2023-03-08T10:22:38.881Z"
      },
      {
        "duration": 1507,
        "start_time": "2023-03-08T10:23:12.353Z"
      },
      {
        "duration": 857,
        "start_time": "2023-03-08T10:23:13.862Z"
      },
      {
        "duration": 21,
        "start_time": "2023-03-08T10:23:14.721Z"
      },
      {
        "duration": 137,
        "start_time": "2023-03-08T10:23:14.745Z"
      },
      {
        "duration": 287,
        "start_time": "2023-03-08T10:23:14.884Z"
      },
      {
        "duration": 104,
        "start_time": "2023-03-08T10:23:15.172Z"
      },
      {
        "duration": 659,
        "start_time": "2023-03-08T10:23:15.278Z"
      },
      {
        "duration": 417,
        "start_time": "2023-03-08T10:23:15.939Z"
      },
      {
        "duration": 1893,
        "start_time": "2023-03-08T10:23:16.358Z"
      },
      {
        "duration": 2025,
        "start_time": "2023-03-08T10:23:18.255Z"
      },
      {
        "duration": 11,
        "start_time": "2023-03-08T10:23:20.282Z"
      },
      {
        "duration": 40,
        "start_time": "2023-03-08T10:23:20.295Z"
      },
      {
        "duration": 9,
        "start_time": "2023-03-08T10:23:20.337Z"
      },
      {
        "duration": 50,
        "start_time": "2023-03-08T10:23:20.348Z"
      },
      {
        "duration": 618,
        "start_time": "2023-03-08T10:23:20.399Z"
      },
      {
        "duration": 30,
        "start_time": "2023-03-08T10:23:21.019Z"
      },
      {
        "duration": 112,
        "start_time": "2023-03-08T10:23:21.051Z"
      },
      {
        "duration": 156,
        "start_time": "2023-03-08T10:23:21.164Z"
      },
      {
        "duration": 29,
        "start_time": "2023-03-08T10:23:21.322Z"
      },
      {
        "duration": 22,
        "start_time": "2023-03-08T10:23:21.353Z"
      },
      {
        "duration": 31,
        "start_time": "2023-03-08T10:23:21.376Z"
      },
      {
        "duration": 58,
        "start_time": "2023-03-08T10:23:21.409Z"
      },
      {
        "duration": 109,
        "start_time": "2023-03-08T10:23:21.469Z"
      },
      {
        "duration": 220,
        "start_time": "2023-03-08T10:23:21.579Z"
      },
      {
        "duration": 49,
        "start_time": "2023-03-08T10:23:21.800Z"
      },
      {
        "duration": 87,
        "start_time": "2023-03-08T10:23:21.851Z"
      },
      {
        "duration": 40,
        "start_time": "2023-03-08T10:23:21.940Z"
      },
      {
        "duration": 58,
        "start_time": "2023-03-08T10:23:21.983Z"
      },
      {
        "duration": 7,
        "start_time": "2023-03-08T10:23:22.043Z"
      },
      {
        "duration": 96,
        "start_time": "2023-03-08T10:23:22.052Z"
      },
      {
        "duration": 976,
        "start_time": "2023-03-08T10:23:22.150Z"
      },
      {
        "duration": 24,
        "start_time": "2023-03-08T10:23:23.128Z"
      },
      {
        "duration": 257,
        "start_time": "2023-03-08T10:23:23.154Z"
      },
      {
        "duration": 4,
        "start_time": "2023-03-08T10:23:23.413Z"
      },
      {
        "duration": 6,
        "start_time": "2023-03-08T10:23:23.418Z"
      },
      {
        "duration": 121,
        "start_time": "2023-03-08T10:23:23.430Z"
      },
      {
        "duration": 6,
        "start_time": "2023-03-08T10:23:23.633Z"
      },
      {
        "duration": 1175130,
        "start_time": "2023-03-08T10:23:23.641Z"
      },
      {
        "duration": 2,
        "start_time": "2023-03-08T10:42:58.773Z"
      },
      {
        "duration": 9,
        "start_time": "2023-03-08T10:42:58.777Z"
      },
      {
        "duration": 10152,
        "start_time": "2023-03-08T10:42:58.788Z"
      },
      {
        "duration": 4,
        "start_time": "2023-03-08T10:43:08.941Z"
      },
      {
        "duration": 13,
        "start_time": "2023-03-08T10:43:08.946Z"
      },
      {
        "duration": 580,
        "start_time": "2023-03-08T10:43:08.961Z"
      },
      {
        "duration": 9,
        "start_time": "2023-03-08T10:43:09.542Z"
      },
      {
        "duration": 219,
        "start_time": "2023-03-08T10:43:09.552Z"
      },
      {
        "duration": 61349,
        "start_time": "2023-03-08T11:06:21.898Z"
      },
      {
        "duration": 61419,
        "start_time": "2023-03-08T11:09:17.827Z"
      },
      {
        "duration": 12548,
        "start_time": "2023-03-08T11:32:20.293Z"
      },
      {
        "duration": 15446,
        "start_time": "2023-03-08T11:49:17.299Z"
      },
      {
        "duration": 10402,
        "start_time": "2023-03-08T11:49:44.145Z"
      },
      {
        "duration": 11154,
        "start_time": "2023-03-08T11:50:06.388Z"
      },
      {
        "duration": 1471,
        "start_time": "2023-03-08T11:51:11.859Z"
      },
      {
        "duration": 838,
        "start_time": "2023-03-08T11:51:13.332Z"
      },
      {
        "duration": 16,
        "start_time": "2023-03-08T11:51:14.172Z"
      },
      {
        "duration": 144,
        "start_time": "2023-03-08T11:51:14.190Z"
      },
      {
        "duration": 279,
        "start_time": "2023-03-08T11:51:14.337Z"
      },
      {
        "duration": 93,
        "start_time": "2023-03-08T11:51:14.618Z"
      },
      {
        "duration": 629,
        "start_time": "2023-03-08T11:51:14.713Z"
      },
      {
        "duration": 363,
        "start_time": "2023-03-08T11:51:15.344Z"
      },
      {
        "duration": 1853,
        "start_time": "2023-03-08T11:51:15.709Z"
      },
      {
        "duration": 1831,
        "start_time": "2023-03-08T11:51:17.564Z"
      },
      {
        "duration": 10,
        "start_time": "2023-03-08T11:51:19.396Z"
      },
      {
        "duration": 37,
        "start_time": "2023-03-08T11:51:19.407Z"
      },
      {
        "duration": 6,
        "start_time": "2023-03-08T11:51:19.445Z"
      },
      {
        "duration": 37,
        "start_time": "2023-03-08T11:51:19.454Z"
      },
      {
        "duration": 577,
        "start_time": "2023-03-08T11:51:19.493Z"
      },
      {
        "duration": 20,
        "start_time": "2023-03-08T11:51:20.071Z"
      },
      {
        "duration": 100,
        "start_time": "2023-03-08T11:51:20.092Z"
      },
      {
        "duration": 117,
        "start_time": "2023-03-08T11:51:20.194Z"
      },
      {
        "duration": 28,
        "start_time": "2023-03-08T11:51:20.312Z"
      },
      {
        "duration": 21,
        "start_time": "2023-03-08T11:51:20.342Z"
      },
      {
        "duration": 20,
        "start_time": "2023-03-08T11:51:20.365Z"
      },
      {
        "duration": 62,
        "start_time": "2023-03-08T11:51:20.387Z"
      },
      {
        "duration": 95,
        "start_time": "2023-03-08T11:51:20.450Z"
      },
      {
        "duration": 197,
        "start_time": "2023-03-08T11:51:20.547Z"
      },
      {
        "duration": 32,
        "start_time": "2023-03-08T11:51:20.746Z"
      },
      {
        "duration": 88,
        "start_time": "2023-03-08T11:51:20.780Z"
      },
      {
        "duration": 37,
        "start_time": "2023-03-08T11:51:20.870Z"
      },
      {
        "duration": 45,
        "start_time": "2023-03-08T11:51:20.909Z"
      },
      {
        "duration": 3,
        "start_time": "2023-03-08T11:51:20.955Z"
      },
      {
        "duration": 81,
        "start_time": "2023-03-08T11:51:20.960Z"
      },
      {
        "duration": 937,
        "start_time": "2023-03-08T11:51:21.043Z"
      },
      {
        "duration": 26,
        "start_time": "2023-03-08T11:51:21.982Z"
      },
      {
        "duration": 273,
        "start_time": "2023-03-08T11:51:22.010Z"
      },
      {
        "duration": 4,
        "start_time": "2023-03-08T11:51:22.284Z"
      },
      {
        "duration": 12,
        "start_time": "2023-03-08T11:51:22.290Z"
      },
      {
        "duration": 137,
        "start_time": "2023-03-08T11:51:22.303Z"
      },
      {
        "duration": 91,
        "start_time": "2023-03-08T11:51:22.442Z"
      },
      {
        "duration": 1109825,
        "start_time": "2023-03-08T11:51:22.535Z"
      },
      {
        "duration": 2,
        "start_time": "2023-03-08T12:09:52.362Z"
      },
      {
        "duration": 22,
        "start_time": "2023-03-08T12:09:52.366Z"
      },
      {
        "duration": 45272,
        "start_time": "2023-03-08T12:09:52.392Z"
      },
      {
        "duration": 67,
        "start_time": "2023-03-08T12:10:37.666Z"
      },
      {
        "duration": 12,
        "start_time": "2023-03-08T12:10:37.734Z"
      },
      {
        "duration": 792,
        "start_time": "2023-03-08T12:10:37.748Z"
      },
      {
        "duration": 9,
        "start_time": "2023-03-08T12:10:38.541Z"
      },
      {
        "duration": 233,
        "start_time": "2023-03-08T12:10:38.552Z"
      },
      {
        "duration": 507445,
        "start_time": "2023-03-08T12:26:15.765Z"
      }
    ],
    "kernelspec": {
      "display_name": "Python 3 (ipykernel)",
      "language": "python",
      "name": "python3"
    },
    "language_info": {
      "codemirror_mode": {
        "name": "ipython",
        "version": 3
      },
      "file_extension": ".py",
      "mimetype": "text/x-python",
      "name": "python",
      "nbconvert_exporter": "python",
      "pygments_lexer": "ipython3",
      "version": "3.9.5"
    },
    "toc": {
      "base_numbering": "1",
      "nav_menu": {},
      "number_sections": true,
      "sideBar": true,
      "skip_h1_title": true,
      "title_cell": "Содержание",
      "title_sidebar": "Разделы",
      "toc_cell": true,
      "toc_position": {
        "height": "calc(100% - 180px)",
        "left": "10px",
        "top": "150px",
        "width": "302.188px"
      },
      "toc_section_display": true,
      "toc_window_display": true
    },
    "colab": {
      "provenance": []
    }
  },
  "nbformat": 4,
  "nbformat_minor": 0
}
